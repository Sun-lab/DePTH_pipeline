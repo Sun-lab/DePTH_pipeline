{
 "cells": [
  {
   "cell_type": "markdown",
   "metadata": {},
   "source": [
    "Convert candidate TCRs from zheng 2021 CD4 single cell TCRs for getting predicted scores, in order to prepare for computing correlations\n",
    "\n",
    "The TCRs should have v alleles belonging to one of the 142 human beta alleles in \n",
    "\n",
    "    ../data/for_encoders/combo_xcr.tsv\n",
    "    \n",
    "the original v part has a format different from what we used for DePTH model, we need to transform it\n",
    "\n",
    "The amino acid sequences should not have strange characters\n",
    "\n",
    "The amino acid sequences should not have length exceeding what we have encoded for"
   ]
  },
  {
   "cell_type": "code",
   "execution_count": 1,
   "metadata": {},
   "outputs": [],
   "source": [
    "import pandas as pd\n",
    "import numpy as np\n",
    "\n",
    "from collections import defaultdict\n",
    "from collections import Counter"
   ]
  },
  {
   "cell_type": "code",
   "execution_count": 2,
   "metadata": {},
   "outputs": [],
   "source": [
    "data_dir = \"../data/Zheng_2021/\"\n",
    "\n",
    "file_pos = \"TCRs_CD4_pos_with_v_gene_weighted.csv\"\n",
    "file_neg = \"TCRs_CD4_neg_with_v_gene_weighted.csv\""
   ]
  },
  {
   "cell_type": "code",
   "execution_count": 3,
   "metadata": {},
   "outputs": [
    {
     "name": "stdout",
     "output_type": "stream",
     "text": [
      "(6547, 1)\n",
      "(20860, 1)\n",
      "                        tcr\n",
      "0  TRBV20-1,CSAHGGFANHHEQFF\n",
      "1  TRBV20-1,CSAHGGFANHHEQFF\n",
      "2  TRBV20-1,CSAHGGFANHHEQFF\n",
      "3  TRBV20-1,CSAHGGFANHHEQFF\n",
      "4  TRBV20-1,CSAHGGFANHHEQFF\n",
      "5  TRBV20-1,CSAHGGFANHHEQFF\n",
      "                        tcr\n",
      "0  TRBV6-5,CASSYYPPPGQGEAFF\n",
      "1  TRBV6-5,CASSYYPPPGQGEAFF\n",
      "2  TRBV6-5,CASSYYPPPGQGEAFF\n",
      "3  TRBV6-5,CASSYYPPPGQGEAFF\n",
      "4  TRBV6-5,CASSYYPPPGQGEAFF\n",
      "5  TRBV6-5,CASSYYPPPGQGEAFF\n"
     ]
    }
   ],
   "source": [
    "df_pos = pd.read_csv(data_dir + file_pos, header = 0)\n",
    "df_neg = pd.read_csv(data_dir + file_neg, header = 0)\n",
    "\n",
    "print(df_pos.shape)\n",
    "print(df_neg.shape)\n",
    "\n",
    "print(df_pos[:6])\n",
    "print(df_neg[:6])"
   ]
  },
  {
   "cell_type": "code",
   "execution_count": 4,
   "metadata": {},
   "outputs": [],
   "source": [
    "pos_v = [x.split(\",\")[0] for x in df_pos.tcr.tolist()]\n",
    "pos_aa = [x.split(\",\")[1] for x in df_pos.tcr.tolist()]\n",
    "\n",
    "neg_v = [x.split(\",\")[0] for x in df_neg.tcr.tolist()]\n",
    "neg_aa = [x.split(\",\")[1] for x in df_neg.tcr.tolist()]"
   ]
  },
  {
   "cell_type": "code",
   "execution_count": 5,
   "metadata": {},
   "outputs": [
    {
     "name": "stdout",
     "output_type": "stream",
     "text": [
      "Counter({15: 1841, 14: 1787, 13: 1358, 16: 973, 12: 588})\n",
      "Counter({15: 6102, 14: 5635, 13: 4069, 16: 3373, 12: 1681})\n"
     ]
    }
   ],
   "source": [
    "print(Counter([len(x) for x in pos_aa]))\n",
    "print(Counter([len(x) for x in neg_aa]))"
   ]
  },
  {
   "cell_type": "code",
   "execution_count": 6,
   "metadata": {},
   "outputs": [
    {
     "data": {
      "text/plain": [
       "50"
      ]
     },
     "execution_count": 6,
     "metadata": {},
     "output_type": "execute_result"
    }
   ],
   "source": [
    "# add *01 to v gene to get the format as allowed in tcrdist -- why we want the format as in tcrdist? in combo_xcr.tsv?\n",
    "\n",
    "all_vs = list(set(pos_v + neg_v))\n",
    "len(all_vs)"
   ]
  },
  {
   "cell_type": "code",
   "execution_count": 7,
   "metadata": {},
   "outputs": [
    {
     "data": {
      "text/plain": [
       "['TRBV10-1',\n",
       " 'TRBV10-2',\n",
       " 'TRBV10-3',\n",
       " 'TRBV11-1',\n",
       " 'TRBV11-2',\n",
       " 'TRBV11-3',\n",
       " 'TRBV12-3',\n",
       " 'TRBV12-4',\n",
       " 'TRBV12-5',\n",
       " 'TRBV13',\n",
       " 'TRBV14',\n",
       " 'TRBV15',\n",
       " 'TRBV16',\n",
       " 'TRBV18',\n",
       " 'TRBV19',\n",
       " 'TRBV2',\n",
       " 'TRBV20-1',\n",
       " 'TRBV21-1',\n",
       " 'TRBV24-1',\n",
       " 'TRBV25-1',\n",
       " 'TRBV27',\n",
       " 'TRBV28',\n",
       " 'TRBV29-1',\n",
       " 'TRBV3-1',\n",
       " 'TRBV30',\n",
       " 'TRBV4-1',\n",
       " 'TRBV4-2',\n",
       " 'TRBV4-3',\n",
       " 'TRBV5-1',\n",
       " 'TRBV5-4',\n",
       " 'TRBV5-5',\n",
       " 'TRBV5-6',\n",
       " 'TRBV5-7',\n",
       " 'TRBV5-8',\n",
       " 'TRBV6-1',\n",
       " 'TRBV6-3',\n",
       " 'TRBV6-4',\n",
       " 'TRBV6-5',\n",
       " 'TRBV6-6',\n",
       " 'TRBV6-7',\n",
       " 'TRBV6-8',\n",
       " 'TRBV6-9',\n",
       " 'TRBV7-2',\n",
       " 'TRBV7-3',\n",
       " 'TRBV7-4',\n",
       " 'TRBV7-6',\n",
       " 'TRBV7-7',\n",
       " 'TRBV7-8',\n",
       " 'TRBV7-9',\n",
       " 'TRBV9']"
      ]
     },
     "execution_count": 7,
     "metadata": {},
     "output_type": "execute_result"
    }
   ],
   "source": [
    "all_vs.sort()\n",
    "all_vs"
   ]
  },
  {
   "cell_type": "code",
   "execution_count": 10,
   "metadata": {},
   "outputs": [
    {
     "name": "stdout",
     "output_type": "stream",
     "text": [
      "(142, 9)\n"
     ]
    },
    {
     "data": {
      "text/html": [
       "<div>\n",
       "<style scoped>\n",
       "    .dataframe tbody tr th:only-of-type {\n",
       "        vertical-align: middle;\n",
       "    }\n",
       "\n",
       "    .dataframe tbody tr th {\n",
       "        vertical-align: top;\n",
       "    }\n",
       "\n",
       "    .dataframe thead th {\n",
       "        text-align: right;\n",
       "    }\n",
       "</style>\n",
       "<table border=\"1\" class=\"dataframe\">\n",
       "  <thead>\n",
       "    <tr style=\"text-align: right;\">\n",
       "      <th></th>\n",
       "      <th>id</th>\n",
       "      <th>organism</th>\n",
       "      <th>chain</th>\n",
       "      <th>region</th>\n",
       "      <th>nucseq</th>\n",
       "      <th>frame</th>\n",
       "      <th>aligned_protseq</th>\n",
       "      <th>cdr_columns</th>\n",
       "      <th>cdrs</th>\n",
       "    </tr>\n",
       "  </thead>\n",
       "  <tbody>\n",
       "    <tr>\n",
       "      <th>566</th>\n",
       "      <td>TRBV1*01</td>\n",
       "      <td>human</td>\n",
       "      <td>B</td>\n",
       "      <td>V</td>\n",
       "      <td>gatactggaattacccagacaccaaaatacctggtcacagcaatgg...</td>\n",
       "      <td>1</td>\n",
       "      <td>DTGITQTPKYLVTAMGSKRTMKREHLGH........DSMYWYRQKA...</td>\n",
       "      <td>27-38;56-65;81-86;104-109</td>\n",
       "      <td>GH........DS;YNC....KEF;P.DSSR;CTSSQ.</td>\n",
       "    </tr>\n",
       "    <tr>\n",
       "      <th>567</th>\n",
       "      <td>TRBV10-1*01</td>\n",
       "      <td>human</td>\n",
       "      <td>B</td>\n",
       "      <td>V</td>\n",
       "      <td>gatgctgaaatcacccagagcccaagacacaagatcacagagacag...</td>\n",
       "      <td>1</td>\n",
       "      <td>DAEITQSPRHKITETGRQVTLACHQTWNH.......NNMFWYRQDL...</td>\n",
       "      <td>27-38;56-65;81-86;104-109</td>\n",
       "      <td>WNH.......NN;SYG....VQD;S.NTED;CASSE.</td>\n",
       "    </tr>\n",
       "    <tr>\n",
       "      <th>568</th>\n",
       "      <td>TRBV10-1*02</td>\n",
       "      <td>human</td>\n",
       "      <td>B</td>\n",
       "      <td>V</td>\n",
       "      <td>gatgctgaaatcacccagagcccaagacacaagatcacagagacag...</td>\n",
       "      <td>1</td>\n",
       "      <td>DAEITQSPRHKITETGRQVTLACHQTWNH.......NNMFWYRQDL...</td>\n",
       "      <td>27-38;56-65;81-86;104-109</td>\n",
       "      <td>WNH.......NN;SYG....VHD;S.NTED;CASSE.</td>\n",
       "    </tr>\n",
       "    <tr>\n",
       "      <th>569</th>\n",
       "      <td>TRBV10-2*01</td>\n",
       "      <td>human</td>\n",
       "      <td>B</td>\n",
       "      <td>V</td>\n",
       "      <td>gatgctggaatcacccagagcccaagatacaagatcacagagacag...</td>\n",
       "      <td>1</td>\n",
       "      <td>DAGITQSPRYKITETGRQVTLMCHQTWSH.......SYMFWYRQDL...</td>\n",
       "      <td>27-38;56-65;81-86;104-109</td>\n",
       "      <td>WSH.......SY;SAA....ADI;S.KTEN;CASSE.</td>\n",
       "    </tr>\n",
       "    <tr>\n",
       "      <th>570</th>\n",
       "      <td>TRBV10-2*02</td>\n",
       "      <td>human</td>\n",
       "      <td>B</td>\n",
       "      <td>V</td>\n",
       "      <td>aaggcaggtgaccttgatgtgtcaccagacttggagccacagctat...</td>\n",
       "      <td>2</td>\n",
       "      <td>................RQVTLMCHQTWSH.......SYMFWYRQDL...</td>\n",
       "      <td>27-38;56-65;81-86;104-109</td>\n",
       "      <td>WSH.......SY;SAA....ADI;S.KTEN;......</td>\n",
       "    </tr>\n",
       "    <tr>\n",
       "      <th>571</th>\n",
       "      <td>TRBV10-3*01</td>\n",
       "      <td>human</td>\n",
       "      <td>B</td>\n",
       "      <td>V</td>\n",
       "      <td>gatgctggaatcacccagagcccaagacacaaggtcacagagacag...</td>\n",
       "      <td>1</td>\n",
       "      <td>DAGITQSPRHKVTETGTPVTLRCHQTENH.......RYMYWYRQDP...</td>\n",
       "      <td>27-38;56-65;81-86;104-109</td>\n",
       "      <td>ENH.......RY;SYG....VKD;S.KTED;CAISE.</td>\n",
       "    </tr>\n",
       "  </tbody>\n",
       "</table>\n",
       "</div>"
      ],
      "text/plain": [
       "              id organism chain region  \\\n",
       "566     TRBV1*01    human     B      V   \n",
       "567  TRBV10-1*01    human     B      V   \n",
       "568  TRBV10-1*02    human     B      V   \n",
       "569  TRBV10-2*01    human     B      V   \n",
       "570  TRBV10-2*02    human     B      V   \n",
       "571  TRBV10-3*01    human     B      V   \n",
       "\n",
       "                                                nucseq  frame  \\\n",
       "566  gatactggaattacccagacaccaaaatacctggtcacagcaatgg...      1   \n",
       "567  gatgctgaaatcacccagagcccaagacacaagatcacagagacag...      1   \n",
       "568  gatgctgaaatcacccagagcccaagacacaagatcacagagacag...      1   \n",
       "569  gatgctggaatcacccagagcccaagatacaagatcacagagacag...      1   \n",
       "570  aaggcaggtgaccttgatgtgtcaccagacttggagccacagctat...      2   \n",
       "571  gatgctggaatcacccagagcccaagacacaaggtcacagagacag...      1   \n",
       "\n",
       "                                       aligned_protseq  \\\n",
       "566  DTGITQTPKYLVTAMGSKRTMKREHLGH........DSMYWYRQKA...   \n",
       "567  DAEITQSPRHKITETGRQVTLACHQTWNH.......NNMFWYRQDL...   \n",
       "568  DAEITQSPRHKITETGRQVTLACHQTWNH.......NNMFWYRQDL...   \n",
       "569  DAGITQSPRYKITETGRQVTLMCHQTWSH.......SYMFWYRQDL...   \n",
       "570  ................RQVTLMCHQTWSH.......SYMFWYRQDL...   \n",
       "571  DAGITQSPRHKVTETGTPVTLRCHQTENH.......RYMYWYRQDP...   \n",
       "\n",
       "                   cdr_columns                                   cdrs  \n",
       "566  27-38;56-65;81-86;104-109  GH........DS;YNC....KEF;P.DSSR;CTSSQ.  \n",
       "567  27-38;56-65;81-86;104-109  WNH.......NN;SYG....VQD;S.NTED;CASSE.  \n",
       "568  27-38;56-65;81-86;104-109  WNH.......NN;SYG....VHD;S.NTED;CASSE.  \n",
       "569  27-38;56-65;81-86;104-109  WSH.......SY;SAA....ADI;S.KTEN;CASSE.  \n",
       "570  27-38;56-65;81-86;104-109  WSH.......SY;SAA....ADI;S.KTEN;......  \n",
       "571  27-38;56-65;81-86;104-109  ENH.......RY;SYG....VKD;S.KTED;CAISE.  "
      ]
     },
     "execution_count": 10,
     "metadata": {},
     "output_type": "execute_result"
    }
   ],
   "source": [
    "# load the combo_xcr.tsv table to translate the format to \n",
    "V_info = pd.read_csv(\"../data/for_encoders/combo_xcr.tsv\", sep='\\t')\n",
    "V_sub_info = V_info.loc[(V_info.organism == 'human')\n",
    "                        & (V_info.chain == 'B')\n",
    "                        & (V_info.region == 'V')]\n",
    "print(V_sub_info.shape)\n",
    "V_sub_info[:6]"
   ]
  },
  {
   "cell_type": "code",
   "execution_count": 11,
   "metadata": {},
   "outputs": [
    {
     "data": {
      "text/plain": [
       "['TRBV1*01',\n",
       " 'TRBV10-1*01',\n",
       " 'TRBV10-1*02',\n",
       " 'TRBV10-2*01',\n",
       " 'TRBV10-2*02',\n",
       " 'TRBV10-3*01',\n",
       " 'TRBV10-3*02',\n",
       " 'TRBV10-3*03',\n",
       " 'TRBV10-3*04',\n",
       " 'TRBV11-1*01',\n",
       " 'TRBV11-2*01',\n",
       " 'TRBV11-2*02',\n",
       " 'TRBV11-2*03',\n",
       " 'TRBV11-3*01',\n",
       " 'TRBV11-3*02',\n",
       " 'TRBV11-3*03',\n",
       " 'TRBV12-1*01',\n",
       " 'TRBV12-2*01',\n",
       " 'TRBV12-3*01',\n",
       " 'TRBV12-4*01',\n",
       " 'TRBV12-4*02',\n",
       " 'TRBV12-5*01',\n",
       " 'TRBV13*01',\n",
       " 'TRBV13*02',\n",
       " 'TRBV14*01',\n",
       " 'TRBV14*02',\n",
       " 'TRBV15*01',\n",
       " 'TRBV15*02',\n",
       " 'TRBV15*03',\n",
       " 'TRBV16*01',\n",
       " 'TRBV16*02',\n",
       " 'TRBV16*03',\n",
       " 'TRBV17*01',\n",
       " 'TRBV18*01',\n",
       " 'TRBV19*01',\n",
       " 'TRBV19*02',\n",
       " 'TRBV19*03',\n",
       " 'TRBV2*01',\n",
       " 'TRBV2*02',\n",
       " 'TRBV2*03',\n",
       " 'TRBV20-1*01',\n",
       " 'TRBV20-1*02',\n",
       " 'TRBV20-1*03',\n",
       " 'TRBV20-1*04',\n",
       " 'TRBV20-1*05',\n",
       " 'TRBV20-1*06',\n",
       " 'TRBV20-1*07',\n",
       " 'TRBV20/OR9-2*01',\n",
       " 'TRBV20/OR9-2*02',\n",
       " 'TRBV20/OR9-2*03',\n",
       " 'TRBV21-1*01',\n",
       " 'TRBV21/OR9-2*01',\n",
       " 'TRBV23-1*01',\n",
       " 'TRBV23/OR9-2*01',\n",
       " 'TRBV23/OR9-2*02',\n",
       " 'TRBV24-1*01',\n",
       " 'TRBV24/OR9-2*01',\n",
       " 'TRBV25-1*01',\n",
       " 'TRBV26*01',\n",
       " 'TRBV26/OR9-2*01',\n",
       " 'TRBV26/OR9-2*02',\n",
       " 'TRBV27*01',\n",
       " 'TRBV28*01',\n",
       " 'TRBV29-1*01',\n",
       " 'TRBV29-1*02',\n",
       " 'TRBV29-1*03',\n",
       " 'TRBV29/OR9-2*01',\n",
       " 'TRBV29/OR9-2*02',\n",
       " 'TRBV3-1*01',\n",
       " 'TRBV3-1*02',\n",
       " 'TRBV3-2*01',\n",
       " 'TRBV3-2*02',\n",
       " 'TRBV3-2*03',\n",
       " 'TRBV30*01',\n",
       " 'TRBV30*02',\n",
       " 'TRBV30*04',\n",
       " 'TRBV30*05',\n",
       " 'TRBV4-1*01',\n",
       " 'TRBV4-1*02',\n",
       " 'TRBV4-2*01',\n",
       " 'TRBV4-2*02',\n",
       " 'TRBV4-3*01',\n",
       " 'TRBV4-3*02',\n",
       " 'TRBV4-3*03',\n",
       " 'TRBV4-3*04',\n",
       " 'TRBV5-1*01',\n",
       " 'TRBV5-1*02',\n",
       " 'TRBV5-3*01',\n",
       " 'TRBV5-3*02',\n",
       " 'TRBV5-4*01',\n",
       " 'TRBV5-4*02',\n",
       " 'TRBV5-4*03',\n",
       " 'TRBV5-4*04',\n",
       " 'TRBV5-5*01',\n",
       " 'TRBV5-5*02',\n",
       " 'TRBV5-5*03',\n",
       " 'TRBV5-6*01',\n",
       " 'TRBV5-7*01',\n",
       " 'TRBV5-8*01',\n",
       " 'TRBV5-8*02',\n",
       " 'TRBV6-1*01',\n",
       " 'TRBV6-2*01',\n",
       " 'TRBV6-3*01',\n",
       " 'TRBV6-4*01',\n",
       " 'TRBV6-4*02',\n",
       " 'TRBV6-5*01',\n",
       " 'TRBV6-6*01',\n",
       " 'TRBV6-6*02',\n",
       " 'TRBV6-6*03',\n",
       " 'TRBV6-6*04',\n",
       " 'TRBV6-6*05',\n",
       " 'TRBV6-7*01',\n",
       " 'TRBV6-8*01',\n",
       " 'TRBV6-9*01',\n",
       " 'TRBV7-1*01',\n",
       " 'TRBV7-2*01',\n",
       " 'TRBV7-2*02',\n",
       " 'TRBV7-2*03',\n",
       " 'TRBV7-2*04',\n",
       " 'TRBV7-3*01',\n",
       " 'TRBV7-3*02',\n",
       " 'TRBV7-3*03',\n",
       " 'TRBV7-3*04',\n",
       " 'TRBV7-3*05',\n",
       " 'TRBV7-4*01',\n",
       " 'TRBV7-6*01',\n",
       " 'TRBV7-6*02',\n",
       " 'TRBV7-7*01',\n",
       " 'TRBV7-7*02',\n",
       " 'TRBV7-8*01',\n",
       " 'TRBV7-8*02',\n",
       " 'TRBV7-8*03',\n",
       " 'TRBV7-9*01',\n",
       " 'TRBV7-9*02',\n",
       " 'TRBV7-9*03',\n",
       " 'TRBV7-9*04',\n",
       " 'TRBV7-9*05',\n",
       " 'TRBV7-9*06',\n",
       " 'TRBV7-9*07',\n",
       " 'TRBV9*01',\n",
       " 'TRBV9*02',\n",
       " 'TRBV9*03']"
      ]
     },
     "execution_count": 11,
     "metadata": {},
     "output_type": "execute_result"
    }
   ],
   "source": [
    "combo_xcr_ids = list(set(V_sub_info.id))\n",
    "combo_xcr_ids.sort()\n",
    "combo_xcr_ids"
   ]
  },
  {
   "cell_type": "code",
   "execution_count": 12,
   "metadata": {},
   "outputs": [],
   "source": [
    "to_combo_dict = defaultdict(str)\n",
    "\n",
    "to_combo_dict['TRBV10-1'] = 'TRBV10-1*01'\n",
    "to_combo_dict['TRBV10-2'] = 'TRBV10-2*01'\n",
    "to_combo_dict['TRBV10-3'] = 'TRBV10-3*01'\n",
    "\n",
    "to_combo_dict['TRBV11-1'] = 'TRBV11-1*01'\n",
    "to_combo_dict['TRBV11-2'] = 'TRBV11-2*01'\n",
    "to_combo_dict['TRBV11-3'] = 'TRBV11-3*01'\n",
    "\n",
    "to_combo_dict['TRBV12-3'] = 'TRBV12-3*01'\n",
    "to_combo_dict['TRBV12-4'] = 'TRBV12-4*01'\n",
    "to_combo_dict['TRBV12-5'] = 'TRBV12-5*01'\n",
    "\n",
    "to_combo_dict['TRBV13'] = 'TRBV13*01'\n",
    "to_combo_dict['TRBV14'] = 'TRBV14*01'\n",
    "to_combo_dict['TRBV15'] = 'TRBV15*01'\n",
    "to_combo_dict['TRBV16'] = 'TRBV16*01'\n",
    "to_combo_dict['TRBV18'] = 'TRBV18*01'\n",
    "to_combo_dict['TRBV19'] = 'TRBV19*01'\n",
    "\n",
    "to_combo_dict['TRBV2'] = 'TRBV2*01'\n",
    "to_combo_dict['TRBV20-1'] = 'TRBV20-1*01'\n",
    "to_combo_dict['TRBV21-1'] = 'TRBV21-1*01'\n",
    "to_combo_dict['TRBV24-1'] = 'TRBV24-1*01'\n",
    "to_combo_dict['TRBV25-1'] = 'TRBV25-1*01'\n",
    "to_combo_dict['TRBV27'] = 'TRBV27*01'\n",
    "to_combo_dict['TRBV28'] = 'TRBV28*01'\n",
    "to_combo_dict['TRBV29-1'] = 'TRBV29-1*01'\n",
    "\n",
    "to_combo_dict['TRBV3-1'] = 'TRBV3-1*01'\n",
    "to_combo_dict['TRBV30'] = 'TRBV30*01'\n",
    "\n",
    "to_combo_dict['TRBV4-1'] = 'TRBV4-1*01'\n",
    "to_combo_dict['TRBV4-2'] = 'TRBV4-2*01'\n",
    "to_combo_dict['TRBV4-3'] = 'TRBV4-3*01'\n",
    "\n",
    "to_combo_dict['TRBV5-1'] = 'TRBV5-1*01'\n",
    "to_combo_dict['TRBV5-4'] = 'TRBV5-4*01'\n",
    "to_combo_dict['TRBV5-5'] = 'TRBV5-5*01'\n",
    "to_combo_dict['TRBV5-6'] = 'TRBV5-6*01'\n",
    "to_combo_dict['TRBV5-7'] = 'TRBV5-7*01'\n",
    "to_combo_dict['TRBV5-8'] = 'TRBV5-8*01'\n",
    "\n",
    "to_combo_dict['TRBV6-1'] = 'TRBV6-1*01'\n",
    "to_combo_dict['TRBV6-3'] = 'TRBV6-3*01'\n",
    "to_combo_dict['TRBV6-4'] = 'TRBV6-4*01'\n",
    "to_combo_dict['TRBV6-5'] = 'TRBV6-5*01'\n",
    "to_combo_dict['TRBV6-6'] = 'TRBV6-6*01'\n",
    "to_combo_dict['TRBV6-7'] = 'TRBV6-7*01'\n",
    "to_combo_dict['TRBV6-8'] = 'TRBV6-8*01'\n",
    "to_combo_dict['TRBV6-9'] = 'TRBV6-9*01'\n",
    "\n",
    "to_combo_dict['TRBV7-2'] = 'TRBV7-2*01'\n",
    "to_combo_dict['TRBV7-3'] = 'TRBV7-3*01'\n",
    "to_combo_dict['TRBV7-4'] = 'TRBV7-4*01'\n",
    "to_combo_dict['TRBV7-6'] = 'TRBV7-6*01'\n",
    "to_combo_dict['TRBV7-7'] = 'TRBV7-7*01'\n",
    "to_combo_dict['TRBV7-8'] = 'TRBV7-8*01'\n",
    "to_combo_dict['TRBV7-9'] = 'TRBV7-9*01'\n",
    "\n",
    "to_combo_dict['TRBV9'] = 'TRBV9*01'"
   ]
  },
  {
   "cell_type": "code",
   "execution_count": 13,
   "metadata": {},
   "outputs": [
    {
     "data": {
      "text/plain": [
       "50"
      ]
     },
     "execution_count": 13,
     "metadata": {},
     "output_type": "execute_result"
    }
   ],
   "source": [
    "len(to_combo_dict)"
   ]
  },
  {
   "cell_type": "code",
   "execution_count": 14,
   "metadata": {},
   "outputs": [
    {
     "data": {
      "text/plain": [
       "True"
      ]
     },
     "execution_count": 14,
     "metadata": {},
     "output_type": "execute_result"
    }
   ],
   "source": [
    "set(to_combo_dict.keys()) == set(all_vs)"
   ]
  },
  {
   "cell_type": "code",
   "execution_count": 15,
   "metadata": {},
   "outputs": [
    {
     "data": {
      "text/plain": [
       "1.0"
      ]
     },
     "execution_count": 15,
     "metadata": {},
     "output_type": "execute_result"
    }
   ],
   "source": [
    "# verify whether everything is simply by adding *01\n",
    "flag_list = []\n",
    "\n",
    "for v in all_vs:\n",
    "    flag_list += [to_combo_dict[v] == v + \"*01\"]\n",
    "\n",
    "sum(flag_list)/len(flag_list)"
   ]
  },
  {
   "cell_type": "code",
   "execution_count": 16,
   "metadata": {},
   "outputs": [
    {
     "data": {
      "text/plain": [
       "set()"
      ]
     },
     "execution_count": 16,
     "metadata": {},
     "output_type": "execute_result"
    }
   ],
   "source": [
    "# verify whether all values belong to the ids in combo_xcr.tsv\n",
    "set(to_combo_dict.values()) - set(V_sub_info.id)"
   ]
  },
  {
   "cell_type": "code",
   "execution_count": 17,
   "metadata": {},
   "outputs": [
    {
     "data": {
      "text/plain": [
       "Counter({'C': 27446,\n",
       "         'S': 59485,\n",
       "         'A': 40713,\n",
       "         'H': 4792,\n",
       "         'G': 39691,\n",
       "         'F': 40384,\n",
       "         'N': 11683,\n",
       "         'E': 21312,\n",
       "         'Q': 26082,\n",
       "         'P': 11576,\n",
       "         'L': 15686,\n",
       "         'D': 10281,\n",
       "         'Y': 22564,\n",
       "         'R': 15644,\n",
       "         'T': 25597,\n",
       "         'K': 3461,\n",
       "         'V': 6753,\n",
       "         'M': 989,\n",
       "         'I': 4144,\n",
       "         'W': 2085})"
      ]
     },
     "execution_count": 17,
     "metadata": {},
     "output_type": "execute_result"
    }
   ],
   "source": [
    "# look into the characters among amino acid sequences\n",
    "Counter(\"\".join(pos_aa + neg_aa))"
   ]
  },
  {
   "cell_type": "code",
   "execution_count": 18,
   "metadata": {},
   "outputs": [
    {
     "data": {
      "text/plain": [
       "20"
      ]
     },
     "execution_count": 18,
     "metadata": {},
     "output_type": "execute_result"
    }
   ],
   "source": [
    "len(set(\"\".join(pos_aa + neg_aa)))"
   ]
  },
  {
   "cell_type": "code",
   "execution_count": 19,
   "metadata": {},
   "outputs": [
    {
     "data": {
      "text/plain": [
       "True"
      ]
     },
     "execution_count": 19,
     "metadata": {},
     "output_type": "execute_result"
    }
   ],
   "source": [
    "AA_SYMOLS = ['A', 'R', 'N', 'D', 'C',\n",
    "             'Q', 'E', 'G', 'H', 'I',\n",
    "             'L', 'K', 'M', 'F', 'P',\n",
    "             'S', 'T', 'W', 'Y', 'V']\n",
    "\n",
    "set(\"\".join(pos_aa + neg_aa)) == set(AA_SYMOLS)"
   ]
  },
  {
   "cell_type": "code",
   "execution_count": null,
   "metadata": {},
   "outputs": [],
   "source": [
    "# by using the cdr1, cdr2, cdr2.5 sequences for V part, we can allow more v genes as long\n",
    "# as they are allowed for tcrdist"
   ]
  },
  {
   "cell_type": "code",
   "execution_count": 20,
   "metadata": {},
   "outputs": [
    {
     "data": {
      "text/html": [
       "<div>\n",
       "<style scoped>\n",
       "    .dataframe tbody tr th:only-of-type {\n",
       "        vertical-align: middle;\n",
       "    }\n",
       "\n",
       "    .dataframe tbody tr th {\n",
       "        vertical-align: top;\n",
       "    }\n",
       "\n",
       "    .dataframe thead th {\n",
       "        text-align: right;\n",
       "    }\n",
       "</style>\n",
       "<table border=\"1\" class=\"dataframe\">\n",
       "  <thead>\n",
       "    <tr style=\"text-align: right;\">\n",
       "      <th></th>\n",
       "      <th>tcr</th>\n",
       "    </tr>\n",
       "  </thead>\n",
       "  <tbody>\n",
       "    <tr>\n",
       "      <th>0</th>\n",
       "      <td>TRBV20-1,CSAHGGFANHHEQFF</td>\n",
       "    </tr>\n",
       "    <tr>\n",
       "      <th>1</th>\n",
       "      <td>TRBV20-1,CSAHGGFANHHEQFF</td>\n",
       "    </tr>\n",
       "    <tr>\n",
       "      <th>2</th>\n",
       "      <td>TRBV20-1,CSAHGGFANHHEQFF</td>\n",
       "    </tr>\n",
       "    <tr>\n",
       "      <th>3</th>\n",
       "      <td>TRBV20-1,CSAHGGFANHHEQFF</td>\n",
       "    </tr>\n",
       "    <tr>\n",
       "      <th>4</th>\n",
       "      <td>TRBV20-1,CSAHGGFANHHEQFF</td>\n",
       "    </tr>\n",
       "    <tr>\n",
       "      <th>5</th>\n",
       "      <td>TRBV20-1,CSAHGGFANHHEQFF</td>\n",
       "    </tr>\n",
       "  </tbody>\n",
       "</table>\n",
       "</div>"
      ],
      "text/plain": [
       "                        tcr\n",
       "0  TRBV20-1,CSAHGGFANHHEQFF\n",
       "1  TRBV20-1,CSAHGGFANHHEQFF\n",
       "2  TRBV20-1,CSAHGGFANHHEQFF\n",
       "3  TRBV20-1,CSAHGGFANHHEQFF\n",
       "4  TRBV20-1,CSAHGGFANHHEQFF\n",
       "5  TRBV20-1,CSAHGGFANHHEQFF"
      ]
     },
     "execution_count": 20,
     "metadata": {},
     "output_type": "execute_result"
    }
   ],
   "source": [
    "df_pos[:6]"
   ]
  },
  {
   "cell_type": "code",
   "execution_count": 21,
   "metadata": {},
   "outputs": [
    {
     "data": {
      "text/html": [
       "<div>\n",
       "<style scoped>\n",
       "    .dataframe tbody tr th:only-of-type {\n",
       "        vertical-align: middle;\n",
       "    }\n",
       "\n",
       "    .dataframe tbody tr th {\n",
       "        vertical-align: top;\n",
       "    }\n",
       "\n",
       "    .dataframe thead th {\n",
       "        text-align: right;\n",
       "    }\n",
       "</style>\n",
       "<table border=\"1\" class=\"dataframe\">\n",
       "  <thead>\n",
       "    <tr style=\"text-align: right;\">\n",
       "      <th></th>\n",
       "      <th>tcr</th>\n",
       "      <th>v_forward</th>\n",
       "      <th>aa</th>\n",
       "    </tr>\n",
       "  </thead>\n",
       "  <tbody>\n",
       "    <tr>\n",
       "      <th>0</th>\n",
       "      <td>TRBV20-1,CSAHGGFANHHEQFF</td>\n",
       "      <td>TRBV20-1*01</td>\n",
       "      <td>CSAHGGFANHHEQFF</td>\n",
       "    </tr>\n",
       "    <tr>\n",
       "      <th>1</th>\n",
       "      <td>TRBV20-1,CSAHGGFANHHEQFF</td>\n",
       "      <td>TRBV20-1*01</td>\n",
       "      <td>CSAHGGFANHHEQFF</td>\n",
       "    </tr>\n",
       "    <tr>\n",
       "      <th>2</th>\n",
       "      <td>TRBV20-1,CSAHGGFANHHEQFF</td>\n",
       "      <td>TRBV20-1*01</td>\n",
       "      <td>CSAHGGFANHHEQFF</td>\n",
       "    </tr>\n",
       "    <tr>\n",
       "      <th>3</th>\n",
       "      <td>TRBV20-1,CSAHGGFANHHEQFF</td>\n",
       "      <td>TRBV20-1*01</td>\n",
       "      <td>CSAHGGFANHHEQFF</td>\n",
       "    </tr>\n",
       "    <tr>\n",
       "      <th>4</th>\n",
       "      <td>TRBV20-1,CSAHGGFANHHEQFF</td>\n",
       "      <td>TRBV20-1*01</td>\n",
       "      <td>CSAHGGFANHHEQFF</td>\n",
       "    </tr>\n",
       "    <tr>\n",
       "      <th>5</th>\n",
       "      <td>TRBV20-1,CSAHGGFANHHEQFF</td>\n",
       "      <td>TRBV20-1*01</td>\n",
       "      <td>CSAHGGFANHHEQFF</td>\n",
       "    </tr>\n",
       "  </tbody>\n",
       "</table>\n",
       "</div>"
      ],
      "text/plain": [
       "                        tcr    v_forward               aa\n",
       "0  TRBV20-1,CSAHGGFANHHEQFF  TRBV20-1*01  CSAHGGFANHHEQFF\n",
       "1  TRBV20-1,CSAHGGFANHHEQFF  TRBV20-1*01  CSAHGGFANHHEQFF\n",
       "2  TRBV20-1,CSAHGGFANHHEQFF  TRBV20-1*01  CSAHGGFANHHEQFF\n",
       "3  TRBV20-1,CSAHGGFANHHEQFF  TRBV20-1*01  CSAHGGFANHHEQFF\n",
       "4  TRBV20-1,CSAHGGFANHHEQFF  TRBV20-1*01  CSAHGGFANHHEQFF\n",
       "5  TRBV20-1,CSAHGGFANHHEQFF  TRBV20-1*01  CSAHGGFANHHEQFF"
      ]
     },
     "execution_count": 21,
     "metadata": {},
     "output_type": "execute_result"
    }
   ],
   "source": [
    "df_pos[\"v_forward\"] = [to_combo_dict[x] for x in pos_v]\n",
    "df_neg[\"v_forward\"] = [to_combo_dict[x] for x in neg_v]\n",
    "\n",
    "df_pos[\"aa\"] = pos_aa\n",
    "df_neg[\"aa\"] = neg_aa\n",
    "\n",
    "df_pos[:6]"
   ]
  },
  {
   "cell_type": "code",
   "execution_count": 22,
   "metadata": {},
   "outputs": [
    {
     "data": {
      "text/plain": [
       "(6547, 3)"
      ]
     },
     "execution_count": 22,
     "metadata": {},
     "output_type": "execute_result"
    }
   ],
   "source": [
    "df_pos.shape"
   ]
  },
  {
   "cell_type": "code",
   "execution_count": 23,
   "metadata": {},
   "outputs": [
    {
     "data": {
      "text/plain": [
       "4901"
      ]
     },
     "execution_count": 23,
     "metadata": {},
     "output_type": "execute_result"
    }
   ],
   "source": [
    "len(set([(v, aa) for v, aa in zip(df_pos.v_forward.tolist(), df_pos.aa.tolist())]))"
   ]
  },
  {
   "cell_type": "code",
   "execution_count": 25,
   "metadata": {},
   "outputs": [
    {
     "data": {
      "text/plain": [
       "49"
      ]
     },
     "execution_count": 25,
     "metadata": {},
     "output_type": "execute_result"
    }
   ],
   "source": [
    "len(set(df_pos.v_forward))"
   ]
  },
  {
   "cell_type": "code",
   "execution_count": 24,
   "metadata": {},
   "outputs": [
    {
     "data": {
      "text/plain": [
       "Counter({'TRBV20-1*01': 885,\n",
       "         'TRBV27*01': 182,\n",
       "         'TRBV6-5*01': 269,\n",
       "         'TRBV7-7*01': 31,\n",
       "         'TRBV2*01': 287,\n",
       "         'TRBV5-6*01': 180,\n",
       "         'TRBV5-1*01': 441,\n",
       "         'TRBV28*01': 320,\n",
       "         'TRBV9*01': 191,\n",
       "         'TRBV5-4*01': 189,\n",
       "         'TRBV18*01': 261,\n",
       "         'TRBV19*01': 346,\n",
       "         'TRBV14*01': 53,\n",
       "         'TRBV24-1*01': 81,\n",
       "         'TRBV6-4*01': 28,\n",
       "         'TRBV7-2*01': 260,\n",
       "         'TRBV10-1*01': 43,\n",
       "         'TRBV7-6*01': 83,\n",
       "         'TRBV3-1*01': 184,\n",
       "         'TRBV11-2*01': 145,\n",
       "         'TRBV12-3*01': 136,\n",
       "         'TRBV30*01': 126,\n",
       "         'TRBV4-1*01': 122,\n",
       "         'TRBV7-9*01': 220,\n",
       "         'TRBV11-3*01': 65,\n",
       "         'TRBV29-1*01': 96,\n",
       "         'TRBV4-3*01': 57,\n",
       "         'TRBV6-1*01': 258,\n",
       "         'TRBV7-8*01': 86,\n",
       "         'TRBV4-2*01': 87,\n",
       "         'TRBV5-8*01': 29,\n",
       "         'TRBV10-3*01': 129,\n",
       "         'TRBV15*01': 87,\n",
       "         'TRBV5-5*01': 60,\n",
       "         'TRBV6-3*01': 122,\n",
       "         'TRBV6-6*01': 100,\n",
       "         'TRBV7-3*01': 85,\n",
       "         'TRBV10-2*01': 51,\n",
       "         'TRBV12-4*01': 68,\n",
       "         'TRBV21-1*01': 8,\n",
       "         'TRBV13*01': 25,\n",
       "         'TRBV16*01': 9,\n",
       "         'TRBV25-1*01': 29,\n",
       "         'TRBV6-8*01': 2,\n",
       "         'TRBV11-1*01': 16,\n",
       "         'TRBV12-5*01': 11,\n",
       "         'TRBV5-7*01': 2,\n",
       "         'TRBV6-7*01': 1,\n",
       "         'TRBV6-9*01': 1})"
      ]
     },
     "execution_count": 24,
     "metadata": {},
     "output_type": "execute_result"
    }
   ],
   "source": [
    "Counter(df_pos.v_forward)"
   ]
  },
  {
   "cell_type": "code",
   "execution_count": 26,
   "metadata": {},
   "outputs": [
    {
     "data": {
      "text/plain": [
       "(20860, 3)"
      ]
     },
     "execution_count": 26,
     "metadata": {},
     "output_type": "execute_result"
    }
   ],
   "source": [
    "df_neg.shape"
   ]
  },
  {
   "cell_type": "code",
   "execution_count": 27,
   "metadata": {},
   "outputs": [
    {
     "data": {
      "text/plain": [
       "17042"
      ]
     },
     "execution_count": 27,
     "metadata": {},
     "output_type": "execute_result"
    }
   ],
   "source": [
    "len(set([(v, aa) for v, aa in zip(df_neg.v_forward.tolist(), df_neg.aa.tolist())]))"
   ]
  },
  {
   "cell_type": "code",
   "execution_count": 28,
   "metadata": {},
   "outputs": [
    {
     "data": {
      "text/plain": [
       "49"
      ]
     },
     "execution_count": 28,
     "metadata": {},
     "output_type": "execute_result"
    }
   ],
   "source": [
    "len(set(df_neg.v_forward))"
   ]
  },
  {
   "cell_type": "code",
   "execution_count": 34,
   "metadata": {},
   "outputs": [
    {
     "data": {
      "text/plain": [
       "{'TRBV6-9*01'}"
      ]
     },
     "execution_count": 34,
     "metadata": {},
     "output_type": "execute_result"
    }
   ],
   "source": [
    "set(df_pos.v_forward) - set(df_neg.v_forward)"
   ]
  },
  {
   "cell_type": "code",
   "execution_count": 35,
   "metadata": {},
   "outputs": [
    {
     "data": {
      "text/plain": [
       "{'TRBV7-4*01'}"
      ]
     },
     "execution_count": 35,
     "metadata": {},
     "output_type": "execute_result"
    }
   ],
   "source": [
    "set(df_neg.v_forward) - set(df_pos.v_forward)"
   ]
  },
  {
   "cell_type": "code",
   "execution_count": 29,
   "metadata": {},
   "outputs": [
    {
     "data": {
      "text/plain": [
       "Counter({'TRBV6-5*01': 789,\n",
       "         'TRBV12-3*01': 594,\n",
       "         'TRBV7-6*01': 191,\n",
       "         'TRBV5-1*01': 1434,\n",
       "         'TRBV7-2*01': 1114,\n",
       "         'TRBV20-1*01': 2501,\n",
       "         'TRBV12-4*01': 336,\n",
       "         'TRBV7-9*01': 719,\n",
       "         'TRBV4-2*01': 259,\n",
       "         'TRBV28*01': 1133,\n",
       "         'TRBV7-8*01': 339,\n",
       "         'TRBV3-1*01': 685,\n",
       "         'TRBV2*01': 1080,\n",
       "         'TRBV15*01': 201,\n",
       "         'TRBV18*01': 712,\n",
       "         'TRBV11-2*01': 508,\n",
       "         'TRBV10-3*01': 423,\n",
       "         'TRBV19*01': 1106,\n",
       "         'TRBV29-1*01': 628,\n",
       "         'TRBV10-2*01': 166,\n",
       "         'TRBV6-1*01': 717,\n",
       "         'TRBV7-3*01': 303,\n",
       "         'TRBV5-4*01': 393,\n",
       "         'TRBV9*01': 598,\n",
       "         'TRBV25-1*01': 122,\n",
       "         'TRBV4-1*01': 320,\n",
       "         'TRBV21-1*01': 48,\n",
       "         'TRBV30*01': 536,\n",
       "         'TRBV4-3*01': 169,\n",
       "         'TRBV5-6*01': 333,\n",
       "         'TRBV5-8*01': 90,\n",
       "         'TRBV14*01': 205,\n",
       "         'TRBV24-1*01': 245,\n",
       "         'TRBV13*01': 54,\n",
       "         'TRBV27*01': 473,\n",
       "         'TRBV5-5*01': 177,\n",
       "         'TRBV10-1*01': 74,\n",
       "         'TRBV11-1*01': 80,\n",
       "         'TRBV11-3*01': 178,\n",
       "         'TRBV6-6*01': 304,\n",
       "         'TRBV6-3*01': 328,\n",
       "         'TRBV6-4*01': 67,\n",
       "         'TRBV12-5*01': 49,\n",
       "         'TRBV16*01': 21,\n",
       "         'TRBV5-7*01': 3,\n",
       "         'TRBV7-7*01': 50,\n",
       "         'TRBV6-7*01': 1,\n",
       "         'TRBV6-8*01': 3,\n",
       "         'TRBV7-4*01': 1})"
      ]
     },
     "execution_count": 29,
     "metadata": {},
     "output_type": "execute_result"
    }
   ],
   "source": [
    "Counter(df_neg.v_forward)"
   ]
  },
  {
   "cell_type": "code",
   "execution_count": 30,
   "metadata": {},
   "outputs": [],
   "source": [
    "output_pos = pd.DataFrame(list(zip(df_pos.v_forward.tolist(), \n",
    "                                   df_pos.aa.tolist())), columns = [\"v\", \"aa\"])\n",
    "output_neg = pd.DataFrame(list(zip(df_neg.v_forward.tolist(), \n",
    "                                   df_neg.aa.tolist())), columns = [\"v\", \"aa\"])\n",
    "\n",
    "output_pos.to_csv(data_dir + \"CD4_pos_TCRs_weighted_for_DePTH_comb_xcr_format.csv\", index = False)\n",
    "output_neg.to_csv(data_dir + \"CD4_neg_TCRs_weighted_for_DePTH_comb_xcr_format.csv\", index = False)"
   ]
  },
  {
   "cell_type": "code",
   "execution_count": 31,
   "metadata": {},
   "outputs": [
    {
     "data": {
      "text/plain": [
       "(6547, 2)"
      ]
     },
     "execution_count": 31,
     "metadata": {},
     "output_type": "execute_result"
    }
   ],
   "source": [
    "output_pos.shape"
   ]
  },
  {
   "cell_type": "code",
   "execution_count": 32,
   "metadata": {},
   "outputs": [
    {
     "data": {
      "text/plain": [
       "(20860, 2)"
      ]
     },
     "execution_count": 32,
     "metadata": {},
     "output_type": "execute_result"
    }
   ],
   "source": [
    "output_neg.shape"
   ]
  },
  {
   "cell_type": "code",
   "execution_count": null,
   "metadata": {},
   "outputs": [],
   "source": []
  }
 ],
 "metadata": {
  "kernelspec": {
   "display_name": "Python 3 (ipykernel)",
   "language": "python",
   "name": "python3"
  },
  "language_info": {
   "codemirror_mode": {
    "name": "ipython",
    "version": 3
   },
   "file_extension": ".py",
   "mimetype": "text/x-python",
   "name": "python",
   "nbconvert_exporter": "python",
   "pygments_lexer": "ipython3",
   "version": "3.9.10"
  }
 },
 "nbformat": 4,
 "nbformat_minor": 4
}
