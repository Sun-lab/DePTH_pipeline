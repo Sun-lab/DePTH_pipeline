{
 "cells": [
  {
   "cell_type": "code",
   "execution_count": 1,
   "metadata": {},
   "outputs": [],
   "source": [
    "import os\n",
    "import re\n",
    "import pickle\n",
    "import numpy as np\n",
    "import pandas as pd\n",
    "\n",
    "from collections import defaultdict\n",
    "from collections import Counter"
   ]
  },
  {
   "cell_type": "code",
   "execution_count": 2,
   "metadata": {},
   "outputs": [],
   "source": [
    "file_path = '../../data/for_encoders/combo_xcr.tsv'\n",
    "V_info = pd.read_csv(file_path, sep='\\t')"
   ]
  },
  {
   "cell_type": "code",
   "execution_count": 3,
   "metadata": {},
   "outputs": [
    {
     "data": {
      "text/plain": [
       "Counter({'human': 332,\n",
       "         'human_gd': 140,\n",
       "         'human_ig': 625,\n",
       "         'mouse': 395,\n",
       "         'mouse_gd': 301})"
      ]
     },
     "execution_count": 3,
     "metadata": {},
     "output_type": "execute_result"
    }
   ],
   "source": [
    "Counter(V_info.organism.tolist())"
   ]
  },
  {
   "cell_type": "code",
   "execution_count": 4,
   "metadata": {},
   "outputs": [
    {
     "data": {
      "text/plain": [
       "(142, 9)"
      ]
     },
     "execution_count": 4,
     "metadata": {},
     "output_type": "execute_result"
    }
   ],
   "source": [
    "V_sub_info = V_info.loc[(V_info.organism == 'human') & (V_info.chain == 'B') & (V_info.region == 'V')]\n",
    "V_sub_info.shape"
   ]
  },
  {
   "cell_type": "code",
   "execution_count": 5,
   "metadata": {},
   "outputs": [
    {
     "data": {
      "text/plain": [
       "Counter({1: 139, 2: 2, 3: 1})"
      ]
     },
     "execution_count": 5,
     "metadata": {},
     "output_type": "execute_result"
    }
   ],
   "source": [
    "Counter(V_sub_info.frame)"
   ]
  },
  {
   "cell_type": "code",
   "execution_count": 6,
   "metadata": {},
   "outputs": [
    {
     "data": {
      "text/html": [
       "<div>\n",
       "<style scoped>\n",
       "    .dataframe tbody tr th:only-of-type {\n",
       "        vertical-align: middle;\n",
       "    }\n",
       "\n",
       "    .dataframe tbody tr th {\n",
       "        vertical-align: top;\n",
       "    }\n",
       "\n",
       "    .dataframe thead th {\n",
       "        text-align: right;\n",
       "    }\n",
       "</style>\n",
       "<table border=\"1\" class=\"dataframe\">\n",
       "  <thead>\n",
       "    <tr style=\"text-align: right;\">\n",
       "      <th></th>\n",
       "      <th>id</th>\n",
       "      <th>organism</th>\n",
       "      <th>chain</th>\n",
       "      <th>region</th>\n",
       "      <th>nucseq</th>\n",
       "      <th>frame</th>\n",
       "      <th>aligned_protseq</th>\n",
       "      <th>cdr_columns</th>\n",
       "      <th>cdrs</th>\n",
       "    </tr>\n",
       "  </thead>\n",
       "  <tbody>\n",
       "    <tr>\n",
       "      <th>566</th>\n",
       "      <td>TRBV1*01</td>\n",
       "      <td>human</td>\n",
       "      <td>B</td>\n",
       "      <td>V</td>\n",
       "      <td>gatactggaattacccagacaccaaaatacctggtcacagcaatgg...</td>\n",
       "      <td>1</td>\n",
       "      <td>DTGITQTPKYLVTAMGSKRTMKREHLGH........DSMYWYRQKA...</td>\n",
       "      <td>27-38;56-65;81-86;104-109</td>\n",
       "      <td>GH........DS;YNC....KEF;P.DSSR;CTSSQ.</td>\n",
       "    </tr>\n",
       "    <tr>\n",
       "      <th>567</th>\n",
       "      <td>TRBV10-1*01</td>\n",
       "      <td>human</td>\n",
       "      <td>B</td>\n",
       "      <td>V</td>\n",
       "      <td>gatgctgaaatcacccagagcccaagacacaagatcacagagacag...</td>\n",
       "      <td>1</td>\n",
       "      <td>DAEITQSPRHKITETGRQVTLACHQTWNH.......NNMFWYRQDL...</td>\n",
       "      <td>27-38;56-65;81-86;104-109</td>\n",
       "      <td>WNH.......NN;SYG....VQD;S.NTED;CASSE.</td>\n",
       "    </tr>\n",
       "    <tr>\n",
       "      <th>568</th>\n",
       "      <td>TRBV10-1*02</td>\n",
       "      <td>human</td>\n",
       "      <td>B</td>\n",
       "      <td>V</td>\n",
       "      <td>gatgctgaaatcacccagagcccaagacacaagatcacagagacag...</td>\n",
       "      <td>1</td>\n",
       "      <td>DAEITQSPRHKITETGRQVTLACHQTWNH.......NNMFWYRQDL...</td>\n",
       "      <td>27-38;56-65;81-86;104-109</td>\n",
       "      <td>WNH.......NN;SYG....VHD;S.NTED;CASSE.</td>\n",
       "    </tr>\n",
       "    <tr>\n",
       "      <th>569</th>\n",
       "      <td>TRBV10-2*01</td>\n",
       "      <td>human</td>\n",
       "      <td>B</td>\n",
       "      <td>V</td>\n",
       "      <td>gatgctggaatcacccagagcccaagatacaagatcacagagacag...</td>\n",
       "      <td>1</td>\n",
       "      <td>DAGITQSPRYKITETGRQVTLMCHQTWSH.......SYMFWYRQDL...</td>\n",
       "      <td>27-38;56-65;81-86;104-109</td>\n",
       "      <td>WSH.......SY;SAA....ADI;S.KTEN;CASSE.</td>\n",
       "    </tr>\n",
       "    <tr>\n",
       "      <th>570</th>\n",
       "      <td>TRBV10-2*02</td>\n",
       "      <td>human</td>\n",
       "      <td>B</td>\n",
       "      <td>V</td>\n",
       "      <td>aaggcaggtgaccttgatgtgtcaccagacttggagccacagctat...</td>\n",
       "      <td>2</td>\n",
       "      <td>................RQVTLMCHQTWSH.......SYMFWYRQDL...</td>\n",
       "      <td>27-38;56-65;81-86;104-109</td>\n",
       "      <td>WSH.......SY;SAA....ADI;S.KTEN;......</td>\n",
       "    </tr>\n",
       "    <tr>\n",
       "      <th>571</th>\n",
       "      <td>TRBV10-3*01</td>\n",
       "      <td>human</td>\n",
       "      <td>B</td>\n",
       "      <td>V</td>\n",
       "      <td>gatgctggaatcacccagagcccaagacacaaggtcacagagacag...</td>\n",
       "      <td>1</td>\n",
       "      <td>DAGITQSPRHKVTETGTPVTLRCHQTENH.......RYMYWYRQDP...</td>\n",
       "      <td>27-38;56-65;81-86;104-109</td>\n",
       "      <td>ENH.......RY;SYG....VKD;S.KTED;CAISE.</td>\n",
       "    </tr>\n",
       "  </tbody>\n",
       "</table>\n",
       "</div>"
      ],
      "text/plain": [
       "              id organism chain region  \\\n",
       "566     TRBV1*01    human     B      V   \n",
       "567  TRBV10-1*01    human     B      V   \n",
       "568  TRBV10-1*02    human     B      V   \n",
       "569  TRBV10-2*01    human     B      V   \n",
       "570  TRBV10-2*02    human     B      V   \n",
       "571  TRBV10-3*01    human     B      V   \n",
       "\n",
       "                                                nucseq  frame  \\\n",
       "566  gatactggaattacccagacaccaaaatacctggtcacagcaatgg...      1   \n",
       "567  gatgctgaaatcacccagagcccaagacacaagatcacagagacag...      1   \n",
       "568  gatgctgaaatcacccagagcccaagacacaagatcacagagacag...      1   \n",
       "569  gatgctggaatcacccagagcccaagatacaagatcacagagacag...      1   \n",
       "570  aaggcaggtgaccttgatgtgtcaccagacttggagccacagctat...      2   \n",
       "571  gatgctggaatcacccagagcccaagacacaaggtcacagagacag...      1   \n",
       "\n",
       "                                       aligned_protseq  \\\n",
       "566  DTGITQTPKYLVTAMGSKRTMKREHLGH........DSMYWYRQKA...   \n",
       "567  DAEITQSPRHKITETGRQVTLACHQTWNH.......NNMFWYRQDL...   \n",
       "568  DAEITQSPRHKITETGRQVTLACHQTWNH.......NNMFWYRQDL...   \n",
       "569  DAGITQSPRYKITETGRQVTLMCHQTWSH.......SYMFWYRQDL...   \n",
       "570  ................RQVTLMCHQTWSH.......SYMFWYRQDL...   \n",
       "571  DAGITQSPRHKVTETGTPVTLRCHQTENH.......RYMYWYRQDP...   \n",
       "\n",
       "                   cdr_columns                                   cdrs  \n",
       "566  27-38;56-65;81-86;104-109  GH........DS;YNC....KEF;P.DSSR;CTSSQ.  \n",
       "567  27-38;56-65;81-86;104-109  WNH.......NN;SYG....VQD;S.NTED;CASSE.  \n",
       "568  27-38;56-65;81-86;104-109  WNH.......NN;SYG....VHD;S.NTED;CASSE.  \n",
       "569  27-38;56-65;81-86;104-109  WSH.......SY;SAA....ADI;S.KTEN;CASSE.  \n",
       "570  27-38;56-65;81-86;104-109  WSH.......SY;SAA....ADI;S.KTEN;......  \n",
       "571  27-38;56-65;81-86;104-109  ENH.......RY;SYG....VKD;S.KTED;CAISE.  "
      ]
     },
     "execution_count": 6,
     "metadata": {},
     "output_type": "execute_result"
    }
   ],
   "source": [
    "V_sub_info[:6]"
   ]
  },
  {
   "cell_type": "code",
   "execution_count": 7,
   "metadata": {},
   "outputs": [
    {
     "data": {
      "text/plain": [
       "(142, 9)"
      ]
     },
     "execution_count": 7,
     "metadata": {},
     "output_type": "execute_result"
    }
   ],
   "source": [
    "V_sub_info.shape"
   ]
  },
  {
   "cell_type": "code",
   "execution_count": 8,
   "metadata": {},
   "outputs": [
    {
     "data": {
      "text/plain": [
       "142"
      ]
     },
     "execution_count": 8,
     "metadata": {},
     "output_type": "execute_result"
    }
   ],
   "source": [
    "len(Counter(V_sub_info.id))"
   ]
  },
  {
   "cell_type": "code",
   "execution_count": 10,
   "metadata": {},
   "outputs": [],
   "source": [
    "cdr1_dict = defaultdict(str)\n",
    "cdr2_dict = defaultdict(str)\n",
    "cdr25_dict = defaultdict(str)"
   ]
  },
  {
   "cell_type": "code",
   "execution_count": 11,
   "metadata": {},
   "outputs": [],
   "source": [
    "for allele, cdrs in zip(V_sub_info.id.tolist(), V_sub_info.cdrs.tolist()):\n",
    "    cdr_seqs = cdrs.split(\";\")\n",
    "    if len(cdr_seqs) != 4:\n",
    "        print(\"length of cdr sequences list is not 4\")\n",
    "        break\n",
    "    cdr1_dict[allele] = cdr_seqs[0]\n",
    "    cdr2_dict[allele] = cdr_seqs[1]\n",
    "    cdr25_dict[allele]= cdr_seqs[2]"
   ]
  },
  {
   "cell_type": "code",
   "execution_count": 12,
   "metadata": {},
   "outputs": [
    {
     "data": {
      "text/plain": [
       "142"
      ]
     },
     "execution_count": 12,
     "metadata": {},
     "output_type": "execute_result"
    }
   ],
   "source": [
    "len(cdr1_dict)"
   ]
  },
  {
   "cell_type": "code",
   "execution_count": 13,
   "metadata": {},
   "outputs": [],
   "source": [
    "cdr1_key_list = list(cdr1_dict.keys())"
   ]
  },
  {
   "cell_type": "code",
   "execution_count": 13,
   "metadata": {},
   "outputs": [
    {
     "data": {
      "text/plain": [
       "{12}"
      ]
     },
     "execution_count": 13,
     "metadata": {},
     "output_type": "execute_result"
    }
   ],
   "source": [
    "# the length of each cdr1 seq\n",
    "set([len(cdr1_dict[allele]) for allele in cdr1_key_list])"
   ]
  },
  {
   "cell_type": "code",
   "execution_count": 17,
   "metadata": {},
   "outputs": [
    {
     "data": {
      "text/plain": [
       "{10}"
      ]
     },
     "execution_count": 17,
     "metadata": {},
     "output_type": "execute_result"
    }
   ],
   "source": [
    "# the length of each cdr2 seq\n",
    "set([len(cdr2_dict[allele]) for allele in cdr1_key_list])"
   ]
  },
  {
   "cell_type": "code",
   "execution_count": 15,
   "metadata": {},
   "outputs": [
    {
     "data": {
      "text/plain": [
       "{6}"
      ]
     },
     "execution_count": 15,
     "metadata": {},
     "output_type": "execute_result"
    }
   ],
   "source": [
    "# the length of each cdr25 seq\n",
    "set([len(cdr25_dict[allele]) for allele in cdr1_key_list])"
   ]
  },
  {
   "cell_type": "markdown",
   "metadata": {},
   "source": [
    "write the mapping from the v_allele as in\n",
    "\n",
    "    ../../data/intermediate_data/t5_public_allele_level_tcr_filtered_wrt_vf_and_aa.csv\n",
    "\n",
    "to the allele as in \n",
    "    \n",
    "    ../../data/for_encoders/combo_xcr.tsv\n",
    "    \n",
    "according to the information on page \n",
    "\n",
    "http://www.imgt.org/IMGTrepertoire/index.php?section=LocusGenes&repertoire=genetable&species=human&group=TRBV"
   ]
  },
  {
   "cell_type": "code",
   "execution_count": 26,
   "metadata": {},
   "outputs": [],
   "source": [
    "public_tcr_file = \"../../data/intermediate_data/t5_public_allele_level_tcr_filtered_wrt_vf_and_aa.csv\"\n",
    "public_allele_level_tcr = pd.read_csv(public_tcr_file, header = 0)"
   ]
  },
  {
   "cell_type": "code",
   "execution_count": 17,
   "metadata": {},
   "outputs": [],
   "source": [
    "v_alleles_new = list(set(public_allele_level_tcr.v_allele))\n",
    "v_alleles_new.sort()"
   ]
  },
  {
   "cell_type": "code",
   "execution_count": null,
   "metadata": {},
   "outputs": [],
   "source": [
    "v_alleles_new_df = pd.DataFrame(v_alleles_new, columns = ['v_allele_new'])\n",
    "\n",
    "v_alleles_new_df.to_csv(\"../../data/intermediate_data/v_alleles_new.csv\", index = False)"
   ]
  },
  {
   "cell_type": "markdown",
   "metadata": {},
   "source": [
    "A second column of the .csv file written out above was later filled by hand, and saved together with the first column as \n",
    "\n",
    "    ../../data/intermediate_data/v_allele_translate_table_fillin.csv"
   ]
  },
  {
   "cell_type": "markdown",
   "metadata": {},
   "source": [
    "### Note\n",
    "\n",
    "in the manually filling process, these 5 v_alleles did not find corresponding ones in \n",
    "\n",
    "    ../../data/for_encoders/combo_xcr.tsv\n",
    "\n",
    "    TCRBV05-02*01\n",
    "    TCRBV07-05*01\n",
    "    TCRBV07-05*02\n",
    "    TCRBV08-02*01\n",
    "    TCRBVA-or09_02*01\n",
    "\n",
    "they are mapped to\n",
    "\n",
    "    \"not_found\" \n",
    "\n",
    "in\n",
    "\n",
    "    ../../data/intermediate_data/v_allele_translate_table_fillin.csv"
   ]
  },
  {
   "cell_type": "code",
   "execution_count": 19,
   "metadata": {},
   "outputs": [
    {
     "data": {
      "text/html": [
       "<div>\n",
       "<style scoped>\n",
       "    .dataframe tbody tr th:only-of-type {\n",
       "        vertical-align: middle;\n",
       "    }\n",
       "\n",
       "    .dataframe tbody tr th {\n",
       "        vertical-align: top;\n",
       "    }\n",
       "\n",
       "    .dataframe thead th {\n",
       "        text-align: right;\n",
       "    }\n",
       "</style>\n",
       "<table border=\"1\" class=\"dataframe\">\n",
       "  <thead>\n",
       "    <tr style=\"text-align: right;\">\n",
       "      <th></th>\n",
       "      <th>v_allele_new</th>\n",
       "      <th>v_allele_translate</th>\n",
       "    </tr>\n",
       "  </thead>\n",
       "  <tbody>\n",
       "    <tr>\n",
       "      <th>0</th>\n",
       "      <td>TCRBV01-01*01</td>\n",
       "      <td>TRBV1*01</td>\n",
       "    </tr>\n",
       "  </tbody>\n",
       "</table>\n",
       "</div>"
      ],
      "text/plain": [
       "    v_allele_new v_allele_translate\n",
       "0  TCRBV01-01*01           TRBV1*01"
      ]
     },
     "execution_count": 19,
     "metadata": {},
     "output_type": "execute_result"
    }
   ],
   "source": [
    "# load the \"v_allele_translate_table_fillin.csv\" to build\n",
    "# the translate dictionary\n",
    "v_allele_trans_table = pd.read_csv(\"../../data/intermediate_data/v_allele_translate_table_fillin.csv\", \n",
    "                                   header = 0)\n",
    "v_allele_trans_table[:1]"
   ]
  },
  {
   "cell_type": "code",
   "execution_count": 27,
   "metadata": {},
   "outputs": [],
   "source": [
    "v_allele_trans_dict = defaultdict(str)\n",
    "for new, translate in zip(v_allele_trans_table.v_allele_new.tolist(), \\\n",
    "                          v_allele_trans_table.v_allele_translate.tolist()):\n",
    "    v_allele_trans_dict[new] = translate"
   ]
  },
  {
   "cell_type": "code",
   "execution_count": 28,
   "metadata": {},
   "outputs": [
    {
     "data": {
      "text/plain": [
       "65"
      ]
     },
     "execution_count": 28,
     "metadata": {},
     "output_type": "execute_result"
    }
   ],
   "source": [
    "len(v_allele_trans_dict)"
   ]
  },
  {
   "cell_type": "code",
   "execution_count": 30,
   "metadata": {},
   "outputs": [],
   "source": [
    "#Counter(v_allele_trans_table.v_allele_translate.tolist())"
   ]
  },
  {
   "cell_type": "markdown",
   "metadata": {},
   "source": [
    "see how frequently these 5 v_alleles show up in the total v_allele level public tcr data"
   ]
  },
  {
   "cell_type": "code",
   "execution_count": null,
   "metadata": {},
   "outputs": [],
   "source": [
    "v_allele_big_counter = Counter(public_allele_level_tcr.v_allele)"
   ]
  },
  {
   "cell_type": "code",
   "execution_count": 28,
   "metadata": {},
   "outputs": [],
   "source": [
    "#v_allele_big_counter"
   ]
  },
  {
   "cell_type": "code",
   "execution_count": 32,
   "metadata": {},
   "outputs": [
    {
     "data": {
      "text/plain": [
       "2"
      ]
     },
     "execution_count": 32,
     "metadata": {},
     "output_type": "execute_result"
    }
   ],
   "source": [
    "v_allele_big_counter['TCRBV05-02*01']"
   ]
  },
  {
   "cell_type": "code",
   "execution_count": 33,
   "metadata": {},
   "outputs": [
    {
     "data": {
      "text/plain": [
       "97"
      ]
     },
     "execution_count": 33,
     "metadata": {},
     "output_type": "execute_result"
    }
   ],
   "source": [
    "v_allele_big_counter['TCRBV07-05*01']"
   ]
  },
  {
   "cell_type": "code",
   "execution_count": 34,
   "metadata": {},
   "outputs": [
    {
     "data": {
      "text/plain": [
       "30"
      ]
     },
     "execution_count": 34,
     "metadata": {},
     "output_type": "execute_result"
    }
   ],
   "source": [
    "v_allele_big_counter['TCRBV07-05*02']"
   ]
  },
  {
   "cell_type": "code",
   "execution_count": 35,
   "metadata": {},
   "outputs": [
    {
     "data": {
      "text/plain": [
       "9"
      ]
     },
     "execution_count": 35,
     "metadata": {},
     "output_type": "execute_result"
    }
   ],
   "source": [
    "v_allele_big_counter['TCRBV08-02*01']"
   ]
  },
  {
   "cell_type": "code",
   "execution_count": 36,
   "metadata": {},
   "outputs": [
    {
     "data": {
      "text/plain": [
       "3"
      ]
     },
     "execution_count": 36,
     "metadata": {},
     "output_type": "execute_result"
    }
   ],
   "source": [
    "v_allele_big_counter['TCRBVA-or09_02*01']"
   ]
  }
 ],
 "metadata": {
  "kernelspec": {
   "display_name": "Python 3 (ipykernel)",
   "language": "python",
   "name": "python3"
  },
  "language_info": {
   "codemirror_mode": {
    "name": "ipython",
    "version": 3
   },
   "file_extension": ".py",
   "mimetype": "text/x-python",
   "name": "python",
   "nbconvert_exporter": "python",
   "pygments_lexer": "ipython3",
   "version": "3.9.10"
  }
 },
 "nbformat": 4,
 "nbformat_minor": 2
}
