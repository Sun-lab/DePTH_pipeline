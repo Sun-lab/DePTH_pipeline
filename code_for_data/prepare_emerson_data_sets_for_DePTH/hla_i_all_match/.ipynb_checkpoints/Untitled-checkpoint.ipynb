{
 "cells": [
  {
   "cell_type": "code",
   "execution_count": 1,
   "id": "21e930c8",
   "metadata": {},
   "outputs": [],
   "source": [
    "import pandas as pd"
   ]
  },
  {
   "cell_type": "code",
   "execution_count": 4,
   "id": "c1ceb216",
   "metadata": {},
   "outputs": [],
   "source": [
    "hla_class = \"HLA_I\"\n",
    "label = \"all_match\"\n",
    "data_dir = \"../../data/\"\n",
    "# join hla class and part of the label to form a label for telling data resources apart\n",
    "name = hla_class + \"_\" + label\n",
    "# load TCR information\n",
    "TCR_rmat = pd.read_csv(data_dir + \"step58_public_allele_level_tcr_name.csv\", header=0)\n",
    "TCR_name = [v + ',' + aa for v, aa in zip(TCR_rmat.v_allele.tolist(), TCR_rmat.amino_acids.tolist())]\n",
    "# move on to select the positive and negative pairs\n",
    "# load the association matrix with specified hla class\n",
    "asso_file = data_dir + \"step77_HLA_I_associated_TCR_v_alleles.csv\"\n",
    "\n",
    "\n",
    "df_asso = pd.read_csv(asso_file, sep=\",\", header=0)\n"
   ]
  },
  {
   "cell_type": "code",
   "execution_count": 5,
   "id": "5ef6679b",
   "metadata": {},
   "outputs": [],
   "source": [
    "# negative are sampled to match the tcr frequency of those in positive\n",
    "negative_ori = []\n",
    "# add all negative pairs involving each HLA\n",
    "n_hlas = len(set(df_asso.hla_allele))"
   ]
  },
  {
   "cell_type": "code",
   "execution_count": 6,
   "id": "c57d788b",
   "metadata": {},
   "outputs": [
    {
     "data": {
      "text/plain": [
       "85"
      ]
     },
     "execution_count": 6,
     "metadata": {},
     "output_type": "execute_result"
    }
   ],
   "source": [
    "n_hlas"
   ]
  },
  {
   "cell_type": "code",
   "execution_count": 11,
   "id": "34731018",
   "metadata": {},
   "outputs": [],
   "source": [
    "for hla_i in range(1, n_hlas + 1):\n",
    "    input_fname = \"neg_pairs_\" + str(hla_i) + \".csv\"\n",
    "    df_neg = pd.read_csv(data_dir + hla_class + \"_all_match_prepare_2/\"+input_fname,\n",
    "                 header = 0)\n",
    "    cur_negs_ori = [(tcr, hla) for tcr, hla in zip(df_neg.tcr, df_neg.hla)]\n",
    "    negative_ori += cur_negs_ori"
   ]
  },
  {
   "cell_type": "code",
   "execution_count": 10,
   "id": "bd581e0f",
   "metadata": {},
   "outputs": [
    {
     "data": {
      "text/plain": [
       "'../../data/HLA_I_all_match_prepare_2/neg_pairs_1.csv'"
      ]
     },
     "execution_count": 10,
     "metadata": {},
     "output_type": "execute_result"
    }
   ],
   "source": [
    "data_dir + hla_class + \"_all_match_prepare_2/\"+input_fname"
   ]
  },
  {
   "cell_type": "code",
   "execution_count": 15,
   "id": "d66e1493",
   "metadata": {},
   "outputs": [
    {
     "data": {
      "text/plain": [
       "Counter({'HLA-B*08:01': 4390,\n",
       "         'HLA-A*24:02': 480,\n",
       "         'HLA-A*24:03': 25,\n",
       "         'HLA-B*38:02': 50,\n",
       "         'HLA-B*51:01': 310,\n",
       "         'HLA-B*57:01': 390,\n",
       "         'HLA-A*23:01': 120,\n",
       "         'HLA-B*15:17': 20,\n",
       "         'HLA-B*50:01': 120,\n",
       "         'HLA-B*07:05': 10,\n",
       "         'HLA-B*07:02': 2650,\n",
       "         'HLA-A*68:01': 420,\n",
       "         'HLA-A*68:02': 110,\n",
       "         'HLA-A*32:01': 90,\n",
       "         'HLA-B*40:06': 25,\n",
       "         'HLA-B*44:02': 670,\n",
       "         'HLA-B*13:02': 320,\n",
       "         'HLA-B*18:01': 700,\n",
       "         'HLA-B*35:02': 165,\n",
       "         'HLA-B*49:01': 110,\n",
       "         'HLA-C*15:02': 50,\n",
       "         'HLA-B*38:01': 485,\n",
       "         'HLA-C*07:01': 2490,\n",
       "         'HLA-C*07:02': 1665,\n",
       "         'HLA-C*07:04': 40,\n",
       "         'HLA-C*08:02': 665,\n",
       "         'HLA-C*08:03': 30,\n",
       "         'HLA-C*01:02': 140,\n",
       "         'HLA-C*04:01': 595,\n",
       "         'HLA-A*26:01': 220,\n",
       "         'HLA-B*35:08': 125,\n",
       "         'HLA-B*35:03': 255,\n",
       "         'HLA-B*15:03': 5,\n",
       "         'HLA-B*15:01': 1055,\n",
       "         'HLA-B*15:07': 10,\n",
       "         'HLA-A*11:01': 355,\n",
       "         'HLA-C*15:05': 50,\n",
       "         'HLA-A*30:01': 190,\n",
       "         'HLA-A*30:02': 165,\n",
       "         'HLA-A*03:02': 5,\n",
       "         'HLA-C*05:01': 445,\n",
       "         'HLA-B*14:01': 80,\n",
       "         'HLA-B*14:02': 640,\n",
       "         'HLA-A*01:01': 1795,\n",
       "         'HLA-A*03:01': 640,\n",
       "         'HLA-B*41:02': 70,\n",
       "         'HLA-B*41:01': 35,\n",
       "         'HLA-B*15:18': 45,\n",
       "         'HLA-B*53:01': 15,\n",
       "         'HLA-C*17:01': 40,\n",
       "         'HLA-A*02:05': 70,\n",
       "         'HLA-A*02:06': 65,\n",
       "         'HLA-A*02:01': 1080,\n",
       "         'HLA-C*03:04': 455,\n",
       "         'HLA-B*45:01': 45,\n",
       "         'HLA-C*03:02': 100,\n",
       "         'HLA-A*34:01': 10,\n",
       "         'HLA-C*06:02': 475,\n",
       "         'HLA-A*66:01': 15,\n",
       "         'HLA-A*33:03': 115,\n",
       "         'HLA-B*55:01': 150,\n",
       "         'HLA-B*39:01': 70,\n",
       "         'HLA-B*27:05': 450,\n",
       "         'HLA-B*39:06': 10,\n",
       "         'HLA-C*16:02': 20,\n",
       "         'HLA-C*16:01': 425,\n",
       "         'HLA-B*48:01': 50,\n",
       "         'HLA-B*37:01': 175,\n",
       "         'HLA-A*25:01': 185,\n",
       "         'HLA-A*29:02': 350,\n",
       "         'HLA-A*29:01': 35,\n",
       "         'HLA-B*56:01': 55,\n",
       "         'HLA-C*03:03': 70,\n",
       "         'HLA-A*31:01': 300,\n",
       "         'HLA-C*14:02': 90,\n",
       "         'HLA-B*52:01': 255,\n",
       "         'HLA-B*40:01': 660,\n",
       "         'HLA-C*12:03': 280,\n",
       "         'HLA-B*40:02': 65,\n",
       "         'HLA-C*08:01': 35,\n",
       "         'HLA-A*33:01': 225,\n",
       "         'HLA-C*02:02': 105,\n",
       "         'HLA-B*35:01': 960,\n",
       "         'HLA-B*58:01': 195,\n",
       "         'HLA-B*44:03': 895})"
      ]
     },
     "execution_count": 15,
     "metadata": {},
     "output_type": "execute_result"
    }
   ],
   "source": [
    "from collections import Counter\n",
    "Counter([x[1] for x in negative_ori])"
   ]
  },
  {
   "cell_type": "code",
   "execution_count": 16,
   "id": "dab5d23d",
   "metadata": {},
   "outputs": [],
   "source": [
    "hla_i_list = list(set(df_asso.hla_allele))"
   ]
  },
  {
   "cell_type": "code",
   "execution_count": 18,
   "id": "2b16462a",
   "metadata": {},
   "outputs": [],
   "source": [
    "asso_counter = Counter(df_asso.hla_allele)\n",
    "neg_counter = Counter([x[1] for x in negative_ori])"
   ]
  },
  {
   "cell_type": "code",
   "execution_count": 20,
   "id": "e2360b9d",
   "metadata": {},
   "outputs": [],
   "source": [
    "equal_list = []\n",
    "\n",
    "for hla in hla_i_list:\n",
    "    equal_list += [neg_counter[hla] == 5 * asso_counter[hla]]"
   ]
  },
  {
   "cell_type": "code",
   "execution_count": 22,
   "id": "090c95bd",
   "metadata": {},
   "outputs": [
    {
     "data": {
      "text/plain": [
       "Counter({True: 85})"
      ]
     },
     "execution_count": 22,
     "metadata": {},
     "output_type": "execute_result"
    }
   ],
   "source": [
    "Counter(equal_list)"
   ]
  },
  {
   "cell_type": "code",
   "execution_count": null,
   "id": "da7470d0",
   "metadata": {},
   "outputs": [],
   "source": []
  }
 ],
 "metadata": {
  "kernelspec": {
   "display_name": "Python 3",
   "language": "python",
   "name": "python3"
  },
  "language_info": {
   "codemirror_mode": {
    "name": "ipython",
    "version": 3
   },
   "file_extension": ".py",
   "mimetype": "text/x-python",
   "name": "python",
   "nbconvert_exporter": "python",
   "pygments_lexer": "ipython3",
   "version": "3.8.8"
  }
 },
 "nbformat": 4,
 "nbformat_minor": 5
}
