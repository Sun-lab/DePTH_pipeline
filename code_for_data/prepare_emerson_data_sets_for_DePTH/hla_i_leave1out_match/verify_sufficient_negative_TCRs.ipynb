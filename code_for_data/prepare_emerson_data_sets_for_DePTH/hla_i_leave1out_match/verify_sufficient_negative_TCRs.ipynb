{
 "cells": [
  {
   "cell_type": "code",
   "execution_count": 1,
   "metadata": {},
   "outputs": [],
   "source": [
    "import pandas as pd\n",
    "import os"
   ]
  },
  {
   "cell_type": "markdown",
   "metadata": {},
   "source": [
    "**HLA-B*08:01**"
   ]
  },
  {
   "cell_type": "code",
   "execution_count": 6,
   "metadata": {},
   "outputs": [
    {
     "name": "stdout",
     "output_type": "stream",
     "text": [
      "84\n",
      "{0}\n"
     ]
    }
   ],
   "source": [
    "test_hla = 'HLA-B_08_01'\n",
    "test_hla_strs = test_hla.split(\"_\")\n",
    "test_hla = test_hla_strs[0] + \"*\" + test_hla_strs[1] + \":\" + test_hla_strs[2]\n",
    "\n",
    "directory = '../../../data/intermediate_data/HLA_I_leave1out_match_prepare_2_flags/neg_pairs_test_hla_1'\n",
    "file_list = []\n",
    "for entry in os.scandir(directory):\n",
    "    file_list += [entry.path]\n",
    "\n",
    "list_1 = []\n",
    "\n",
    "for file in file_list:\n",
    "    cur_df = pd.read_csv(file, header = 0)\n",
    "    list_1 += [cur_df.flag.tolist()[0]]\n",
    "\n",
    "print(len(list_1))\n",
    "print(set(list_1))"
   ]
  },
  {
   "cell_type": "markdown",
   "metadata": {},
   "source": [
    "**HLA-B*07:02**"
   ]
  },
  {
   "cell_type": "code",
   "execution_count": 7,
   "metadata": {},
   "outputs": [
    {
     "name": "stdout",
     "output_type": "stream",
     "text": [
      "84\n",
      "{0}\n"
     ]
    }
   ],
   "source": [
    "test_hla = 'HLA-B_07_02'\n",
    "test_hla_strs = test_hla.split(\"_\")\n",
    "test_hla = test_hla_strs[0] + \"*\" + test_hla_strs[1] + \":\" + test_hla_strs[2]\n",
    "\n",
    "directory = '../../../data/intermediate_data/HLA_I_leave1out_match_prepare_2_flags/neg_pairs_test_hla_11'\n",
    "file_list = []\n",
    "for entry in os.scandir(directory):\n",
    "    file_list += [entry.path]\n",
    "\n",
    "list_1 = []\n",
    "\n",
    "for file in file_list:\n",
    "    cur_df = pd.read_csv(file, header = 0)\n",
    "    list_1 += [cur_df.flag.tolist()[0]]\n",
    "\n",
    "print(len(list_1))\n",
    "print(set(list_1))"
   ]
  },
  {
   "cell_type": "markdown",
   "metadata": {},
   "source": [
    "**HLA-C*07:01**"
   ]
  },
  {
   "cell_type": "code",
   "execution_count": 8,
   "metadata": {},
   "outputs": [
    {
     "name": "stdout",
     "output_type": "stream",
     "text": [
      "84\n",
      "{0}\n"
     ]
    }
   ],
   "source": [
    "test_hla = 'HLA-C_07_01'\n",
    "test_hla_strs = test_hla.split(\"_\")\n",
    "test_hla = test_hla_strs[0] + \"*\" + test_hla_strs[1] + \":\" + test_hla_strs[2]\n",
    "\n",
    "directory = '../../../data/intermediate_data/HLA_I_leave1out_match_prepare_2_flags/neg_pairs_test_hla_23'\n",
    "file_list = []\n",
    "for entry in os.scandir(directory):\n",
    "    file_list += [entry.path]\n",
    "\n",
    "list_1 = []\n",
    "\n",
    "for file in file_list:\n",
    "    cur_df = pd.read_csv(file, header = 0)\n",
    "    list_1 += [cur_df.flag.tolist()[0]]\n",
    "\n",
    "print(len(list_1))\n",
    "print(set(list_1))"
   ]
  }
 ],
 "metadata": {
  "kernelspec": {
   "display_name": "Python 3 (ipykernel)",
   "language": "python",
   "name": "python3"
  },
  "language_info": {
   "codemirror_mode": {
    "name": "ipython",
    "version": 3
   },
   "file_extension": ".py",
   "mimetype": "text/x-python",
   "name": "python",
   "nbconvert_exporter": "python",
   "pygments_lexer": "ipython3",
   "version": "3.9.10"
  }
 },
 "nbformat": 4,
 "nbformat_minor": 4
}
