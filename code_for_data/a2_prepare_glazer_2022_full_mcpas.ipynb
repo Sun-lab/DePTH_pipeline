{
 "cells": [
  {
   "cell_type": "markdown",
   "metadata": {},
   "source": [
    "Process the McPAS data used by CLAIRE to the format that can be used by DePTH"
   ]
  },
  {
   "cell_type": "code",
   "execution_count": 1,
   "metadata": {},
   "outputs": [],
   "source": [
    "import pandas as pd\n",
    "import numpy as np\n",
    "\n",
    "from collections import defaultdict\n",
    "from collections import Counter\n",
    "\n",
    "import matplotlib.pyplot as plt\n",
    "\n",
    "import pickle\n",
    "\n",
    "import math"
   ]
  },
  {
   "cell_type": "code",
   "execution_count": 2,
   "metadata": {},
   "outputs": [],
   "source": [
    "data_dir = \"../data/CLAIRE_mcpas_data/TCR-HLA-binding-predictor-for-PTH-datasets/\""
   ]
  },
  {
   "cell_type": "code",
   "execution_count": 3,
   "metadata": {},
   "outputs": [],
   "source": [
    "train_sample = open(data_dir + \"mcpas_train_samples.pickle\", \"rb\")\n",
    "valid_sample = open(data_dir + \"mcpas_validation_samples.pickle\", \"rb\")\n",
    "test_sample = open(data_dir + \"mcpas_test_samples.pickle\", \"rb\")"
   ]
  },
  {
   "cell_type": "code",
   "execution_count": 4,
   "metadata": {},
   "outputs": [
    {
     "name": "stdout",
     "output_type": "stream",
     "text": [
      "15060\n",
      "3259\n",
      "3259\n"
     ]
    }
   ],
   "source": [
    "train_pairs = pickle.load(train_sample)\n",
    "valid_pairs = pickle.load(valid_sample)\n",
    "test_pairs = pickle.load(test_sample)\n",
    "\n",
    "print(len(train_pairs))\n",
    "print(len(valid_pairs))\n",
    "print(len(test_pairs))"
   ]
  },
  {
   "cell_type": "code",
   "execution_count": 5,
   "metadata": {},
   "outputs": [
    {
     "data": {
      "text/plain": [
       "{'tcra': 'UNK',\n",
       " 'tcrb': 'CASSLMTDQPQHF',\n",
       " 'va': nan,\n",
       " 'ja': nan,\n",
       " 'vb': 'TRBV07-09',\n",
       " 'jb': 'TRBJ01',\n",
       " 't_cell_type': 'CD8',\n",
       " 'mhc': 'HLA-A02:01',\n",
       " 'sign': 0}"
      ]
     },
     "execution_count": 5,
     "metadata": {},
     "output_type": "execute_result"
    }
   ],
   "source": [
    "train_pairs[0]"
   ]
  },
  {
   "cell_type": "code",
   "execution_count": null,
   "metadata": {},
   "outputs": [],
   "source": [
    "# based on all hlas, tcrs in train + valid + test together\n",
    "# build dictionaries to\n",
    "# only keep the hlas that we can deal with\n",
    "# translate v genes into the format that we have sequence information for\n",
    "# for the v genes that we do not have sequence information for, we write the v gene\n",
    "# as \"not_found\" and translate to sequences of all \".\" with corresponding length in later steps\n",
    "# for the v genes with NA, we write the v gene as \"not_found\" and translate to \n",
    "# sequences of all \".\" with corresponding length in later steps. "
   ]
  },
  {
   "cell_type": "code",
   "execution_count": null,
   "metadata": {},
   "outputs": [],
   "source": [
    "# first, only keep the pairs having v gene beta information and\n",
    "# CDR3 sequences without strange characters\n",
    "\n",
    "# separate into pairs involving HLA-I alleles \n",
    "# and those involving HLA-II alleles"
   ]
  },
  {
   "cell_type": "code",
   "execution_count": 6,
   "metadata": {},
   "outputs": [
    {
     "data": {
      "text/plain": [
       "21578"
      ]
     },
     "execution_count": 6,
     "metadata": {},
     "output_type": "execute_result"
    }
   ],
   "source": [
    "all_pairs = train_pairs + valid_pairs + test_pairs\n",
    "len(all_pairs)"
   ]
  },
  {
   "cell_type": "code",
   "execution_count": 7,
   "metadata": {},
   "outputs": [
    {
     "data": {
      "text/plain": [
       "{'tcra': 'UNK',\n",
       " 'tcrb': 'CASSLMTDQPQHF',\n",
       " 'va': nan,\n",
       " 'ja': nan,\n",
       " 'vb': 'TRBV07-09',\n",
       " 'jb': 'TRBJ01',\n",
       " 't_cell_type': 'CD8',\n",
       " 'mhc': 'HLA-A02:01',\n",
       " 'sign': 0}"
      ]
     },
     "execution_count": 7,
     "metadata": {},
     "output_type": "execute_result"
    }
   ],
   "source": [
    "all_pairs[0]"
   ]
  },
  {
   "cell_type": "code",
   "execution_count": 8,
   "metadata": {},
   "outputs": [
    {
     "data": {
      "text/plain": [
       "Counter({'HLA-A02:01': 8462,\n",
       "         'HLA-B07:01': 4371,\n",
       "         'HLA-A01:01': 827,\n",
       "         'HLA-B07:02': 1108,\n",
       "         'HLA-C07:02': 1560,\n",
       "         'HLA-DQ02:05': 19,\n",
       "         'HLA-DR01:04': 965,\n",
       "         'HLA-B35:01': 94,\n",
       "         'HLA-B27:05': 220,\n",
       "         'HLA-B08:01': 699,\n",
       "         'HLA-DQ02:01': 321,\n",
       "         'HLA-B42:01': 671,\n",
       "         'HLA-DR11:01': 197,\n",
       "         'HLA-B57:01': 212,\n",
       "         'HLA-A24:02': 479,\n",
       "         'HLA-A02:02': 3,\n",
       "         'HLA-DR01:15': 19,\n",
       "         'HLA-A11:01': 238,\n",
       "         'HLA-DR05:01': 200,\n",
       "         'HLA-B57:03': 174,\n",
       "         'HLA-DR15:01': 261,\n",
       "         'HLA-DQ01:06': 167,\n",
       "         'HLA-A02:15': 4,\n",
       "         'HLA-DR01:01': 106,\n",
       "         'HLA-C16:01': 13,\n",
       "         'HLA-DQ08:01': 31,\n",
       "         'HLA-B14:01': 26,\n",
       "         'HLA-B44:05': 8,\n",
       "         'HLA-A02:05': 5,\n",
       "         'HLA-B15:01': 14,\n",
       "         'HLA-DR03:02': 5,\n",
       "         'HLA-DR04:01': 11,\n",
       "         'HLA-A02:17': 4,\n",
       "         'HLA-A02:04': 2,\n",
       "         'HLA-DQ01:01': 12,\n",
       "         'HLA-A02:08': 4,\n",
       "         'HLA-B27:01': 31,\n",
       "         'HLA-A02:03': 4,\n",
       "         'HLA-A02:16': 3,\n",
       "         'HLA-B35:02': 5,\n",
       "         'HLA-A02:13': 3,\n",
       "         'HLA-A02:14': 4,\n",
       "         'HLA-A02:09': 2,\n",
       "         'HLA-A02:07': 3,\n",
       "         'HLA-DQ05:01': 7,\n",
       "         'HLA-A02:11': 1,\n",
       "         'HLA-A02:12': 1,\n",
       "         'HLA-A02:06': 1,\n",
       "         'HLA-A02:10': 1})"
      ]
     },
     "execution_count": 8,
     "metadata": {},
     "output_type": "execute_result"
    }
   ],
   "source": [
    "Counter([x['mhc'] for x in all_pairs])"
   ]
  },
  {
   "cell_type": "code",
   "execution_count": 9,
   "metadata": {},
   "outputs": [
    {
     "data": {
      "text/plain": [
       "Counter({'TRBV07-09': 2017,\n",
       "         'TRBV07-08': 1227,\n",
       "         'TRBV02-01': 1163,\n",
       "         'TRBV20-01': 1103,\n",
       "         'TRBV09-01': 677,\n",
       "         nan: 1,\n",
       "         'TRBV03-01': 398,\n",
       "         'TRBV13-01': 232,\n",
       "         'TRBV04-01': 913,\n",
       "         'TRBV06-05': 505,\n",
       "         'TRBV29-01': 909,\n",
       "         'TRBV10-03': 184,\n",
       "         'TRBV15-01': 308,\n",
       "         'TRBV01-01': 307,\n",
       "         'TRBV07-03': 343,\n",
       "         'TRBV25-01': 185,\n",
       "         'TRBV06-01': 728,\n",
       "         nan: 1,\n",
       "         'TRBV11-02': 214,\n",
       "         'TRBV19-01': 1346,\n",
       "         'TRBV04-03': 719,\n",
       "         'TRBV05-01': 382,\n",
       "         'TRBV30-01': 533,\n",
       "         nan: 1,\n",
       "         'TRBV28-01': 758,\n",
       "         'TRBV07-02': 1175,\n",
       "         'TRBV26-01': 10,\n",
       "         'TRBV27-01': 851,\n",
       "         'TRBV12-03': 502,\n",
       "         'TRBV12-04': 149,\n",
       "         'TRBV04-02': 337,\n",
       "         nan: 1,\n",
       "         'TRBV06-09': 17,\n",
       "         nan: 1,\n",
       "         nan: 1,\n",
       "         'TRBV05-05': 64,\n",
       "         'TRBV06-02': 426,\n",
       "         'TRBV10-02': 52,\n",
       "         'TRBV07-04': 24,\n",
       "         'TRBV06-06': 163,\n",
       "         'TRBV05-04': 116,\n",
       "         'TRBV16-01': 29,\n",
       "         nan: 1,\n",
       "         'TRBV14-01': 312,\n",
       "         'TRBV05-06': 131,\n",
       "         'TRBV07-07': 98,\n",
       "         'TRBV06-04': 69,\n",
       "         'TRBV21-01': 100,\n",
       "         'TRBV07-06': 592,\n",
       "         'TRBV08-02': 10,\n",
       "         'TRBV18-01': 116,\n",
       "         'TRBV10-01': 66,\n",
       "         nan: 1,\n",
       "         nan: 1,\n",
       "         'TRBV12-05': 55,\n",
       "         nan: 1,\n",
       "         'TRBV06-03': 33,\n",
       "         nan: 1,\n",
       "         nan: 1,\n",
       "         'TRBV17-01': 17,\n",
       "         'TRBV26-02': 2,\n",
       "         nan: 1,\n",
       "         'TRBV13-02': 10,\n",
       "         nan: 1,\n",
       "         nan: 1,\n",
       "         nan: 1,\n",
       "         nan: 1,\n",
       "         nan: 1,\n",
       "         nan: 1,\n",
       "         'TRBV12-01': 36,\n",
       "         nan: 1,\n",
       "         nan: 1,\n",
       "         'TRBV11-01': 41,\n",
       "         'TRBV24-01': 97,\n",
       "         nan: 1,\n",
       "         'TRBV08-01': 13,\n",
       "         nan: 1,\n",
       "         'TRBV07-01': 65,\n",
       "         'TRBV11-03': 56,\n",
       "         nan: 1,\n",
       "         nan: 1,\n",
       "         'TRBV02-02': 3,\n",
       "         nan: 1,\n",
       "         nan: 1,\n",
       "         nan: 1,\n",
       "         nan: 1,\n",
       "         'TRBV05-08': 25,\n",
       "         nan: 1,\n",
       "         'TRBV08-03': 1,\n",
       "         nan: 1,\n",
       "         'TRBV12-02': 9,\n",
       "         nan: 1,\n",
       "         nan: 1,\n",
       "         nan: 1,\n",
       "         'TRBV201-01': 12,\n",
       "         nan: 1,\n",
       "         nan: 1,\n",
       "         nan: 1,\n",
       "         nan: 1,\n",
       "         nan: 1,\n",
       "         nan: 1,\n",
       "         nan: 1,\n",
       "         'TRBV05-07': 5,\n",
       "         nan: 1,\n",
       "         nan: 1,\n",
       "         nan: 1,\n",
       "         'TRBV01-05': 2,\n",
       "         nan: 1,\n",
       "         'TRBV07-05': 5,\n",
       "         nan: 1,\n",
       "         nan: 1,\n",
       "         'TRBV03-02': 1,\n",
       "         nan: 1,\n",
       "         'TRBV06-08': 10,\n",
       "         nan: 1,\n",
       "         nan: 1,\n",
       "         nan: 1,\n",
       "         'TRBV02-03': 4,\n",
       "         'TRBV02-07': 8,\n",
       "         nan: 1,\n",
       "         'TRBV05-03': 8,\n",
       "         nan: 1,\n",
       "         nan: 1,\n",
       "         nan: 1,\n",
       "         nan: 1,\n",
       "         nan: 1,\n",
       "         nan: 1,\n",
       "         nan: 1,\n",
       "         nan: 1,\n",
       "         nan: 1,\n",
       "         nan: 1,\n",
       "         nan: 1,\n",
       "         nan: 1,\n",
       "         nan: 1,\n",
       "         nan: 1,\n",
       "         nan: 1,\n",
       "         'TRBV01-04': 5,\n",
       "         nan: 1,\n",
       "         nan: 1,\n",
       "         nan: 1,\n",
       "         nan: 1,\n",
       "         nan: 1,\n",
       "         nan: 1,\n",
       "         nan: 1,\n",
       "         nan: 1,\n",
       "         nan: 1,\n",
       "         nan: 1,\n",
       "         nan: 1,\n",
       "         nan: 1,\n",
       "         nan: 1,\n",
       "         nan: 1,\n",
       "         nan: 1,\n",
       "         nan: 1,\n",
       "         nan: 1,\n",
       "         nan: 1,\n",
       "         nan: 1,\n",
       "         nan: 1,\n",
       "         nan: 1,\n",
       "         nan: 1,\n",
       "         nan: 1,\n",
       "         nan: 1,\n",
       "         nan: 1,\n",
       "         nan: 1,\n",
       "         nan: 1,\n",
       "         nan: 1,\n",
       "         nan: 1,\n",
       "         nan: 1,\n",
       "         nan: 1,\n",
       "         nan: 1,\n",
       "         nan: 1,\n",
       "         nan: 1,\n",
       "         nan: 1,\n",
       "         nan: 1,\n",
       "         nan: 1,\n",
       "         nan: 1,\n",
       "         nan: 1,\n",
       "         nan: 1,\n",
       "         nan: 1,\n",
       "         'TRBV22-01': 5,\n",
       "         nan: 1,\n",
       "         nan: 1,\n",
       "         nan: 1,\n",
       "         nan: 1,\n",
       "         nan: 1,\n",
       "         nan: 1,\n",
       "         nan: 1,\n",
       "         nan: 1,\n",
       "         nan: 1,\n",
       "         nan: 1,\n",
       "         nan: 1,\n",
       "         nan: 1,\n",
       "         nan: 1,\n",
       "         nan: 1,\n",
       "         nan: 1,\n",
       "         nan: 1,\n",
       "         nan: 1,\n",
       "         'TRBV23-01': 6,\n",
       "         nan: 1,\n",
       "         nan: 1,\n",
       "         nan: 1,\n",
       "         nan: 1,\n",
       "         nan: 1,\n",
       "         nan: 1,\n",
       "         nan: 1,\n",
       "         nan: 1,\n",
       "         'TRBV06-07': 3,\n",
       "         nan: 1,\n",
       "         nan: 1,\n",
       "         nan: 1,\n",
       "         nan: 1,\n",
       "         nan: 1,\n",
       "         nan: 1,\n",
       "         nan: 1,\n",
       "         nan: 1,\n",
       "         nan: 1,\n",
       "         nan: 1,\n",
       "         nan: 1,\n",
       "         nan: 1,\n",
       "         nan: 1,\n",
       "         nan: 1,\n",
       "         nan: 1,\n",
       "         nan: 1,\n",
       "         nan: 1,\n",
       "         'TRBV29-05': 1,\n",
       "         nan: 1,\n",
       "         nan: 1,\n",
       "         nan: 1,\n",
       "         nan: 1,\n",
       "         nan: 1,\n",
       "         nan: 1,\n",
       "         nan: 1,\n",
       "         nan: 1,\n",
       "         nan: 1,\n",
       "         nan: 1,\n",
       "         nan: 1,\n",
       "         nan: 1,\n",
       "         nan: 1,\n",
       "         nan: 1,\n",
       "         nan: 1,\n",
       "         nan: 1,\n",
       "         nan: 1,\n",
       "         nan: 1,\n",
       "         nan: 1,\n",
       "         nan: 1,\n",
       "         'TRBV02-06': 1,\n",
       "         nan: 1,\n",
       "         nan: 1,\n",
       "         nan: 1,\n",
       "         nan: 1,\n",
       "         nan: 1,\n",
       "         nan: 1,\n",
       "         nan: 1,\n",
       "         nan: 1,\n",
       "         nan: 1,\n",
       "         nan: 1,\n",
       "         nan: 1,\n",
       "         nan: 1,\n",
       "         nan: 1,\n",
       "         nan: 1,\n",
       "         nan: 1,\n",
       "         nan: 1,\n",
       "         nan: 1,\n",
       "         nan: 1,\n",
       "         nan: 1,\n",
       "         nan: 1,\n",
       "         nan: 1,\n",
       "         nan: 1,\n",
       "         nan: 1,\n",
       "         nan: 1,\n",
       "         nan: 1,\n",
       "         nan: 1,\n",
       "         nan: 1,\n",
       "         nan: 1,\n",
       "         nan: 1,\n",
       "         nan: 1,\n",
       "         nan: 1,\n",
       "         nan: 1,\n",
       "         nan: 1,\n",
       "         nan: 1,\n",
       "         nan: 1,\n",
       "         nan: 1,\n",
       "         nan: 1,\n",
       "         nan: 1,\n",
       "         nan: 1,\n",
       "         nan: 1,\n",
       "         nan: 1,\n",
       "         nan: 1,\n",
       "         nan: 1,\n",
       "         nan: 1,\n",
       "         nan: 1,\n",
       "         nan: 1,\n",
       "         nan: 1,\n",
       "         nan: 1,\n",
       "         nan: 1,\n",
       "         nan: 1,\n",
       "         nan: 1,\n",
       "         nan: 1,\n",
       "         nan: 1,\n",
       "         nan: 1,\n",
       "         nan: 1,\n",
       "         nan: 1,\n",
       "         nan: 1,\n",
       "         nan: 1,\n",
       "         nan: 1,\n",
       "         nan: 1,\n",
       "         nan: 1,\n",
       "         nan: 1,\n",
       "         nan: 1,\n",
       "         nan: 1,\n",
       "         nan: 1,\n",
       "         nan: 1,\n",
       "         nan: 1,\n",
       "         'TRBV05-02': 1,\n",
       "         nan: 1,\n",
       "         nan: 1,\n",
       "         nan: 1,\n",
       "         nan: 1,\n",
       "         nan: 1,\n",
       "         nan: 1,\n",
       "         nan: 1,\n",
       "         nan: 1,\n",
       "         nan: 1,\n",
       "         nan: 1,\n",
       "         nan: 1,\n",
       "         nan: 1,\n",
       "         nan: 1,\n",
       "         nan: 1,\n",
       "         nan: 1,\n",
       "         nan: 1,\n",
       "         nan: 1,\n",
       "         nan: 1,\n",
       "         nan: 1,\n",
       "         nan: 1,\n",
       "         nan: 1,\n",
       "         nan: 1,\n",
       "         nan: 1,\n",
       "         nan: 1,\n",
       "         nan: 1,\n",
       "         nan: 1,\n",
       "         'TRBV09-02': 3,\n",
       "         nan: 1,\n",
       "         nan: 1,\n",
       "         nan: 1,\n",
       "         nan: 1,\n",
       "         nan: 1,\n",
       "         nan: 1,\n",
       "         nan: 1,\n",
       "         nan: 1,\n",
       "         nan: 1,\n",
       "         nan: 1,\n",
       "         nan: 1,\n",
       "         nan: 1,\n",
       "         nan: 1,\n",
       "         nan: 1,\n",
       "         nan: 1,\n",
       "         nan: 1,\n",
       "         nan: 1,\n",
       "         nan: 1,\n",
       "         nan: 1,\n",
       "         nan: 1,\n",
       "         nan: 1,\n",
       "         nan: 1,\n",
       "         nan: 1,\n",
       "         nan: 1,\n",
       "         nan: 1,\n",
       "         nan: 1,\n",
       "         nan: 1,\n",
       "         nan: 1,\n",
       "         nan: 1,\n",
       "         nan: 1,\n",
       "         nan: 1,\n",
       "         nan: 1,\n",
       "         nan: 1,\n",
       "         nan: 1,\n",
       "         nan: 1,\n",
       "         'TRBV13-06': 1,\n",
       "         nan: 1,\n",
       "         nan: 1,\n",
       "         nan: 1,\n",
       "         nan: 1,\n",
       "         nan: 1,\n",
       "         nan: 1,\n",
       "         nan: 1,\n",
       "         nan: 1,\n",
       "         nan: 1,\n",
       "         nan: 1,\n",
       "         nan: 1,\n",
       "         nan: 1,\n",
       "         nan: 1,\n",
       "         nan: 1,\n",
       "         nan: 1,\n",
       "         nan: 1,\n",
       "         nan: 1,\n",
       "         nan: 1,\n",
       "         nan: 1,\n",
       "         nan: 1,\n",
       "         nan: 1,\n",
       "         nan: 1,\n",
       "         nan: 1,\n",
       "         nan: 1,\n",
       "         nan: 1,\n",
       "         nan: 1,\n",
       "         nan: 1,\n",
       "         nan: 1,\n",
       "         nan: 1,\n",
       "         nan: 1,\n",
       "         nan: 1,\n",
       "         nan: 1,\n",
       "         nan: 1,\n",
       "         nan: 1,\n",
       "         nan: 1,\n",
       "         nan: 1,\n",
       "         nan: 1,\n",
       "         nan: 1,\n",
       "         nan: 1,\n",
       "         nan: 1,\n",
       "         nan: 1,\n",
       "         nan: 1,\n",
       "         nan: 1,\n",
       "         nan: 1,\n",
       "         nan: 1,\n",
       "         nan: 1,\n",
       "         nan: 1,\n",
       "         nan: 1,\n",
       "         nan: 1,\n",
       "         nan: 1,\n",
       "         nan: 1,\n",
       "         nan: 1,\n",
       "         'TRBV15-02': 1,\n",
       "         nan: 1,\n",
       "         nan: 1,\n",
       "         nan: 1,\n",
       "         'TRBV08-04': 2,\n",
       "         nan: 1,\n",
       "         nan: 1,\n",
       "         nan: 1,\n",
       "         nan: 1,\n",
       "         nan: 1,\n",
       "         nan: 1,\n",
       "         nan: 1,\n",
       "         nan: 1,\n",
       "         nan: 1,\n",
       "         nan: 1,\n",
       "         nan: 1,\n",
       "         nan: 1,\n",
       "         nan: 1,\n",
       "         nan: 1,\n",
       "         nan: 1,\n",
       "         nan: 1,\n",
       "         nan: 1,\n",
       "         nan: 1,\n",
       "         nan: 1,\n",
       "         nan: 1,\n",
       "         nan: 1,\n",
       "         nan: 1,\n",
       "         nan: 1,\n",
       "         nan: 1,\n",
       "         nan: 1,\n",
       "         nan: 1,\n",
       "         nan: 1,\n",
       "         nan: 1,\n",
       "         nan: 1,\n",
       "         nan: 1,\n",
       "         nan: 1,\n",
       "         nan: 1,\n",
       "         nan: 1,\n",
       "         nan: 1,\n",
       "         nan: 1,\n",
       "         nan: 1,\n",
       "         nan: 1,\n",
       "         nan: 1,\n",
       "         nan: 1,\n",
       "         'TRBV21-03': 1,\n",
       "         nan: 1,\n",
       "         nan: 1,\n",
       "         nan: 1,\n",
       "         nan: 1,\n",
       "         nan: 1,\n",
       "         nan: 1,\n",
       "         nan: 1,\n",
       "         nan: 1,\n",
       "         nan: 1,\n",
       "         nan: 1,\n",
       "         nan: 1,\n",
       "         nan: 1,\n",
       "         nan: 1,\n",
       "         nan: 1,\n",
       "         nan: 1,\n",
       "         'TRBV23-06': 1,\n",
       "         nan: 1,\n",
       "         nan: 1,\n",
       "         nan: 1,\n",
       "         nan: 1,\n",
       "         nan: 1,\n",
       "         nan: 1,\n",
       "         nan: 1,\n",
       "         nan: 1,\n",
       "         nan: 1,\n",
       "         nan: 1,\n",
       "         nan: 1,\n",
       "         nan: 1,\n",
       "         nan: 1,\n",
       "         nan: 1,\n",
       "         nan: 1,\n",
       "         nan: 1,\n",
       "         nan: 1,\n",
       "         nan: 1,\n",
       "         nan: 1,\n",
       "         nan: 1,\n",
       "         nan: 1,\n",
       "         nan: 1,\n",
       "         nan: 1,\n",
       "         nan: 1,\n",
       "         nan: 1,\n",
       "         nan: 1,\n",
       "         nan: 1,\n",
       "         nan: 1,\n",
       "         nan: 1,\n",
       "         nan: 1,\n",
       "         nan: 1,\n",
       "         nan: 1,\n",
       "         nan: 1,\n",
       "         nan: 1,\n",
       "         nan: 1,\n",
       "         nan: 1,\n",
       "         nan: 1,\n",
       "         nan: 1,\n",
       "         nan: 1,\n",
       "         'TRBV02-05': 2,\n",
       "         nan: 1,\n",
       "         nan: 1,\n",
       "         nan: 1,\n",
       "         nan: 1,\n",
       "         nan: 1,\n",
       "         nan: 1,\n",
       "         nan: 1,\n",
       "         nan: 1,\n",
       "         nan: 1,\n",
       "         nan: 1,\n",
       "         nan: 1,\n",
       "         nan: 1,\n",
       "         nan: 1,\n",
       "         nan: 1,\n",
       "         nan: 1,\n",
       "         nan: 1,\n",
       "         nan: 1,\n",
       "         nan: 1,\n",
       "         nan: 1,\n",
       "         nan: 1,\n",
       "         nan: 1})"
      ]
     },
     "execution_count": 9,
     "metadata": {},
     "output_type": "execute_result"
    }
   ],
   "source": [
    "Counter([x['vb'] for x in all_pairs])"
   ]
  },
  {
   "cell_type": "code",
   "execution_count": 10,
   "metadata": {},
   "outputs": [
    {
     "data": {
      "text/plain": [
       "{'A',\n",
       " 'C',\n",
       " 'D',\n",
       " 'E',\n",
       " 'F',\n",
       " 'G',\n",
       " 'H',\n",
       " 'I',\n",
       " 'K',\n",
       " 'L',\n",
       " 'M',\n",
       " 'N',\n",
       " 'P',\n",
       " 'Q',\n",
       " 'R',\n",
       " 'S',\n",
       " 'T',\n",
       " 'V',\n",
       " 'W',\n",
       " 'Y'}"
      ]
     },
     "execution_count": 10,
     "metadata": {},
     "output_type": "execute_result"
    }
   ],
   "source": [
    "set(\"\".join([x['tcrb'] for x in all_pairs]))"
   ]
  },
  {
   "cell_type": "code",
   "execution_count": 11,
   "metadata": {},
   "outputs": [],
   "source": [
    "AA_SYMOLS = ['A', 'R', 'N', 'D', 'C',\n",
    "             'Q', 'E', 'G', 'H', 'I',\n",
    "             'L', 'K', 'M', 'F', 'P',\n",
    "             'S', 'T', 'W', 'Y', 'V']"
   ]
  },
  {
   "cell_type": "code",
   "execution_count": 12,
   "metadata": {},
   "outputs": [
    {
     "data": {
      "text/plain": [
       "True"
      ]
     },
     "execution_count": 12,
     "metadata": {},
     "output_type": "execute_result"
    }
   ],
   "source": [
    "# There is no strange character in CDR3 part\n",
    "set(\"\".join([x['tcrb'] for x in all_pairs])) == set(AA_SYMOLS)"
   ]
  },
  {
   "cell_type": "code",
   "execution_count": 13,
   "metadata": {},
   "outputs": [
    {
     "data": {
      "text/plain": [
       "21578"
      ]
     },
     "execution_count": 13,
     "metadata": {},
     "output_type": "execute_result"
    }
   ],
   "source": [
    "kept_pairs = [(x['vb'], x['tcrb'], x['mhc']) for x in all_pairs]\n",
    "len(kept_pairs)"
   ]
  },
  {
   "cell_type": "code",
   "execution_count": 14,
   "metadata": {},
   "outputs": [],
   "source": [
    "hla_vec = set([x[2] for x in kept_pairs])\n",
    "v_beta_vec = set([x[0] for x in kept_pairs])"
   ]
  },
  {
   "cell_type": "code",
   "execution_count": 15,
   "metadata": {},
   "outputs": [
    {
     "data": {
      "text/plain": [
       "49"
      ]
     },
     "execution_count": 15,
     "metadata": {},
     "output_type": "execute_result"
    }
   ],
   "source": [
    "len(hla_vec)"
   ]
  },
  {
   "cell_type": "code",
   "execution_count": 16,
   "metadata": {},
   "outputs": [
    {
     "data": {
      "text/plain": [
       "550"
      ]
     },
     "execution_count": 16,
     "metadata": {},
     "output_type": "execute_result"
    }
   ],
   "source": [
    "len(v_beta_vec)"
   ]
  },
  {
   "cell_type": "code",
   "execution_count": 17,
   "metadata": {},
   "outputs": [
    {
     "data": {
      "text/plain": [
       "83"
      ]
     },
     "execution_count": 17,
     "metadata": {},
     "output_type": "execute_result"
    }
   ],
   "source": [
    "len(set([x[0] for x in kept_pairs if x[0]==x[0]]))"
   ]
  },
  {
   "cell_type": "code",
   "execution_count": 18,
   "metadata": {},
   "outputs": [
    {
     "data": {
      "text/plain": [
       "{6, 7, 8, 9, 10, 11, 12, 13, 14, 15, 16, 17, 18, 19, 20, 21, 22, 23, 24}"
      ]
     },
     "execution_count": 18,
     "metadata": {},
     "output_type": "execute_result"
    }
   ],
   "source": [
    "set([len(x[1]) for x in kept_pairs])"
   ]
  },
  {
   "cell_type": "code",
   "execution_count": 19,
   "metadata": {},
   "outputs": [
    {
     "data": {
      "text/plain": [
       "{'HLA-A01:01',\n",
       " 'HLA-A02:01',\n",
       " 'HLA-A02:02',\n",
       " 'HLA-A02:03',\n",
       " 'HLA-A02:04',\n",
       " 'HLA-A02:05',\n",
       " 'HLA-A02:06',\n",
       " 'HLA-A02:07',\n",
       " 'HLA-A02:08',\n",
       " 'HLA-A02:09',\n",
       " 'HLA-A02:10',\n",
       " 'HLA-A02:11',\n",
       " 'HLA-A02:12',\n",
       " 'HLA-A02:13',\n",
       " 'HLA-A02:14',\n",
       " 'HLA-A02:15',\n",
       " 'HLA-A02:16',\n",
       " 'HLA-A02:17',\n",
       " 'HLA-A11:01',\n",
       " 'HLA-A24:02',\n",
       " 'HLA-B07:01',\n",
       " 'HLA-B07:02',\n",
       " 'HLA-B08:01',\n",
       " 'HLA-B14:01',\n",
       " 'HLA-B15:01',\n",
       " 'HLA-B27:01',\n",
       " 'HLA-B27:05',\n",
       " 'HLA-B35:01',\n",
       " 'HLA-B35:02',\n",
       " 'HLA-B42:01',\n",
       " 'HLA-B44:05',\n",
       " 'HLA-B57:01',\n",
       " 'HLA-B57:03',\n",
       " 'HLA-C07:02',\n",
       " 'HLA-C16:01',\n",
       " 'HLA-DQ01:01',\n",
       " 'HLA-DQ01:06',\n",
       " 'HLA-DQ02:01',\n",
       " 'HLA-DQ02:05',\n",
       " 'HLA-DQ05:01',\n",
       " 'HLA-DQ08:01',\n",
       " 'HLA-DR01:01',\n",
       " 'HLA-DR01:04',\n",
       " 'HLA-DR01:15',\n",
       " 'HLA-DR03:02',\n",
       " 'HLA-DR04:01',\n",
       " 'HLA-DR05:01',\n",
       " 'HLA-DR11:01',\n",
       " 'HLA-DR15:01'}"
      ]
     },
     "execution_count": 19,
     "metadata": {},
     "output_type": "execute_result"
    }
   ],
   "source": [
    "hla_vec"
   ]
  },
  {
   "cell_type": "code",
   "execution_count": 20,
   "metadata": {},
   "outputs": [],
   "source": [
    "# load the HLA-I and HLA-II alleles that we have pseudo sequences for\n",
    "hla_i_pseudo = pd.read_csv(\"../data/for_encoders/HLA_I_pseudo_40.csv\", header = 0)\n",
    "hla_ii_pseudo = pd.read_csv(\"../data/for_encoders/HLA_II_pseudo_45.csv\", header = 0)"
   ]
  },
  {
   "cell_type": "code",
   "execution_count": 21,
   "metadata": {},
   "outputs": [
    {
     "data": {
      "text/plain": [
       "{'HLA-A*01:01',\n",
       " 'HLA-A*02:01',\n",
       " 'HLA-A*02:05',\n",
       " 'HLA-A*02:06',\n",
       " 'HLA-A*03:01',\n",
       " 'HLA-A*03:02',\n",
       " 'HLA-A*11:01',\n",
       " 'HLA-A*23:01',\n",
       " 'HLA-A*24:02',\n",
       " 'HLA-A*24:03',\n",
       " 'HLA-A*25:01',\n",
       " 'HLA-A*26:01',\n",
       " 'HLA-A*29:01',\n",
       " 'HLA-A*29:02',\n",
       " 'HLA-A*30:01',\n",
       " 'HLA-A*30:02',\n",
       " 'HLA-A*31:01',\n",
       " 'HLA-A*32:01',\n",
       " 'HLA-A*33:01',\n",
       " 'HLA-A*33:03',\n",
       " 'HLA-A*34:01',\n",
       " 'HLA-A*66:01',\n",
       " 'HLA-A*68:01',\n",
       " 'HLA-A*68:02',\n",
       " 'HLA-B*07:02',\n",
       " 'HLA-B*07:05',\n",
       " 'HLA-B*08:01',\n",
       " 'HLA-B*13:02',\n",
       " 'HLA-B*14:01',\n",
       " 'HLA-B*14:02',\n",
       " 'HLA-B*15:01',\n",
       " 'HLA-B*15:03',\n",
       " 'HLA-B*15:07',\n",
       " 'HLA-B*15:17',\n",
       " 'HLA-B*15:18',\n",
       " 'HLA-B*18:01',\n",
       " 'HLA-B*27:05',\n",
       " 'HLA-B*35:01',\n",
       " 'HLA-B*35:02',\n",
       " 'HLA-B*35:03',\n",
       " 'HLA-B*35:08',\n",
       " 'HLA-B*37:01',\n",
       " 'HLA-B*38:01',\n",
       " 'HLA-B*38:02',\n",
       " 'HLA-B*39:01',\n",
       " 'HLA-B*39:06',\n",
       " 'HLA-B*40:01',\n",
       " 'HLA-B*40:02',\n",
       " 'HLA-B*40:06',\n",
       " 'HLA-B*41:01',\n",
       " 'HLA-B*41:02',\n",
       " 'HLA-B*44:02',\n",
       " 'HLA-B*44:03',\n",
       " 'HLA-B*45:01',\n",
       " 'HLA-B*48:01',\n",
       " 'HLA-B*49:01',\n",
       " 'HLA-B*50:01',\n",
       " 'HLA-B*51:01',\n",
       " 'HLA-B*52:01',\n",
       " 'HLA-B*53:01',\n",
       " 'HLA-B*55:01',\n",
       " 'HLA-B*56:01',\n",
       " 'HLA-B*57:01',\n",
       " 'HLA-B*58:01',\n",
       " 'HLA-C*01:02',\n",
       " 'HLA-C*02:02',\n",
       " 'HLA-C*03:02',\n",
       " 'HLA-C*03:03',\n",
       " 'HLA-C*03:04',\n",
       " 'HLA-C*04:01',\n",
       " 'HLA-C*05:01',\n",
       " 'HLA-C*06:02',\n",
       " 'HLA-C*07:01',\n",
       " 'HLA-C*07:02',\n",
       " 'HLA-C*07:04',\n",
       " 'HLA-C*08:01',\n",
       " 'HLA-C*08:02',\n",
       " 'HLA-C*08:03',\n",
       " 'HLA-C*12:03',\n",
       " 'HLA-C*14:02',\n",
       " 'HLA-C*15:02',\n",
       " 'HLA-C*15:05',\n",
       " 'HLA-C*16:01',\n",
       " 'HLA-C*16:02',\n",
       " 'HLA-C*17:01'}"
      ]
     },
     "execution_count": 21,
     "metadata": {},
     "output_type": "execute_result"
    }
   ],
   "source": [
    "set(hla_i_pseudo.hla)"
   ]
  },
  {
   "cell_type": "code",
   "execution_count": 22,
   "metadata": {},
   "outputs": [
    {
     "data": {
      "text/plain": [
       "{'HLA-DPAB*01:03_01:01',\n",
       " 'HLA-DPAB*01:03_02:01',\n",
       " 'HLA-DPAB*01:03_03:01',\n",
       " 'HLA-DPAB*01:03_04:01',\n",
       " 'HLA-DPAB*01:03_04:02',\n",
       " 'HLA-DPAB*01:03_05:01',\n",
       " 'HLA-DPAB*01:03_10:01',\n",
       " 'HLA-DPAB*01:03_11:01',\n",
       " 'HLA-DPAB*01:03_13:01',\n",
       " 'HLA-DPAB*01:03_17:01',\n",
       " 'HLA-DPAB*02:01_01:01',\n",
       " 'HLA-DPAB*02:01_02:01',\n",
       " 'HLA-DPAB*02:01_03:01',\n",
       " 'HLA-DPAB*02:01_04:01',\n",
       " 'HLA-DPAB*02:01_04:02',\n",
       " 'HLA-DPAB*02:01_05:01',\n",
       " 'HLA-DPAB*02:01_10:01',\n",
       " 'HLA-DPAB*02:01_11:01',\n",
       " 'HLA-DPAB*02:01_13:01',\n",
       " 'HLA-DPAB*02:01_17:01',\n",
       " 'HLA-DPAB*02:02_01:01',\n",
       " 'HLA-DPAB*02:02_02:01',\n",
       " 'HLA-DPAB*02:02_04:01',\n",
       " 'HLA-DPAB*02:02_04:02',\n",
       " 'HLA-DPAB*02:02_05:01',\n",
       " 'HLA-DQAB*01:01_02:02',\n",
       " 'HLA-DQAB*01:01_03:01',\n",
       " 'HLA-DQAB*01:01_03:02',\n",
       " 'HLA-DQAB*01:01_05:01',\n",
       " 'HLA-DQAB*01:01_05:03',\n",
       " 'HLA-DQAB*01:01_06:02',\n",
       " 'HLA-DQAB*01:01_06:03',\n",
       " 'HLA-DQAB*01:02_02:01',\n",
       " 'HLA-DQAB*01:02_02:02',\n",
       " 'HLA-DQAB*01:02_03:01',\n",
       " 'HLA-DQAB*01:02_03:02',\n",
       " 'HLA-DQAB*01:02_03:03',\n",
       " 'HLA-DQAB*01:02_04:02',\n",
       " 'HLA-DQAB*01:02_05:01',\n",
       " 'HLA-DQAB*01:02_05:02',\n",
       " 'HLA-DQAB*01:02_06:02',\n",
       " 'HLA-DQAB*01:02_06:03',\n",
       " 'HLA-DQAB*01:02_06:04',\n",
       " 'HLA-DQAB*01:02_06:09',\n",
       " 'HLA-DQAB*01:03_02:01',\n",
       " 'HLA-DQAB*01:03_02:02',\n",
       " 'HLA-DQAB*01:03_03:01',\n",
       " 'HLA-DQAB*01:03_06:01',\n",
       " 'HLA-DQAB*01:03_06:02',\n",
       " 'HLA-DQAB*01:03_06:03',\n",
       " 'HLA-DQAB*01:04_02:01',\n",
       " 'HLA-DQAB*01:04_05:03',\n",
       " 'HLA-DQAB*01:05_05:01',\n",
       " 'HLA-DQAB*02:01_02:01',\n",
       " 'HLA-DQAB*02:01_02:02',\n",
       " 'HLA-DQAB*02:01_03:01',\n",
       " 'HLA-DQAB*02:01_03:02',\n",
       " 'HLA-DQAB*02:01_03:03',\n",
       " 'HLA-DQAB*02:01_05:01',\n",
       " 'HLA-DQAB*02:01_06:02',\n",
       " 'HLA-DQAB*02:01_06:03',\n",
       " 'HLA-DQAB*02:01_06:09',\n",
       " 'HLA-DQAB*03:01_02:01',\n",
       " 'HLA-DQAB*03:01_02:02',\n",
       " 'HLA-DQAB*03:01_03:01',\n",
       " 'HLA-DQAB*03:01_03:02',\n",
       " 'HLA-DQAB*03:01_06:02',\n",
       " 'HLA-DQAB*03:01_06:03',\n",
       " 'HLA-DQAB*03:01_06:04',\n",
       " 'HLA-DQAB*03:02_03:03',\n",
       " 'HLA-DQAB*03:03_02:01',\n",
       " 'HLA-DQAB*03:03_02:02',\n",
       " 'HLA-DQAB*03:03_03:01',\n",
       " 'HLA-DQAB*03:03_03:02',\n",
       " 'HLA-DQAB*03:03_05:01',\n",
       " 'HLA-DQAB*03:03_06:02',\n",
       " 'HLA-DQAB*04:01_03:01',\n",
       " 'HLA-DQAB*04:01_04:02',\n",
       " 'HLA-DQAB*04:01_05:01',\n",
       " 'HLA-DQAB*05:01_02:01',\n",
       " 'HLA-DQAB*05:01_02:02',\n",
       " 'HLA-DQAB*05:01_03:01',\n",
       " 'HLA-DQAB*05:01_03:03',\n",
       " 'HLA-DQAB*05:01_05:01',\n",
       " 'HLA-DQAB*05:01_06:02',\n",
       " 'HLA-DQAB*05:01_06:03',\n",
       " 'HLA-DQAB*05:01_06:04',\n",
       " 'HLA-DQAB*05:05_02:01',\n",
       " 'HLA-DQAB*05:05_02:02',\n",
       " 'HLA-DQAB*05:05_03:01',\n",
       " 'HLA-DQAB*05:05_03:02',\n",
       " 'HLA-DQAB*05:05_03:03',\n",
       " 'HLA-DQAB*05:05_05:01',\n",
       " 'HLA-DQAB*05:05_06:02',\n",
       " 'HLA-DQAB*05:05_06:03',\n",
       " 'HLA-DQAB*05:05_06:04',\n",
       " 'HLA-DQAB*06:01_03:01',\n",
       " 'HLA-DRB1*01:01',\n",
       " 'HLA-DRB1*01:02',\n",
       " 'HLA-DRB1*01:03',\n",
       " 'HLA-DRB1*03:01',\n",
       " 'HLA-DRB1*04:01',\n",
       " 'HLA-DRB1*04:02',\n",
       " 'HLA-DRB1*04:03',\n",
       " 'HLA-DRB1*04:04',\n",
       " 'HLA-DRB1*04:05',\n",
       " 'HLA-DRB1*04:07',\n",
       " 'HLA-DRB1*04:08',\n",
       " 'HLA-DRB1*07:01',\n",
       " 'HLA-DRB1*08:01',\n",
       " 'HLA-DRB1*08:02',\n",
       " 'HLA-DRB1*08:03',\n",
       " 'HLA-DRB1*08:04',\n",
       " 'HLA-DRB1*09:01',\n",
       " 'HLA-DRB1*10:01',\n",
       " 'HLA-DRB1*11:01',\n",
       " 'HLA-DRB1*11:02',\n",
       " 'HLA-DRB1*11:03',\n",
       " 'HLA-DRB1*11:04',\n",
       " 'HLA-DRB1*12:01',\n",
       " 'HLA-DRB1*12:02',\n",
       " 'HLA-DRB1*13:01',\n",
       " 'HLA-DRB1*13:02',\n",
       " 'HLA-DRB1*13:03',\n",
       " 'HLA-DRB1*13:05',\n",
       " 'HLA-DRB1*14:01',\n",
       " 'HLA-DRB1*14:02',\n",
       " 'HLA-DRB1*14:04',\n",
       " 'HLA-DRB1*14:07',\n",
       " 'HLA-DRB1*14:54',\n",
       " 'HLA-DRB1*15:01',\n",
       " 'HLA-DRB1*15:02',\n",
       " 'HLA-DRB1*15:03',\n",
       " 'HLA-DRB1*16:01',\n",
       " 'HLA-DRB1*16:02'}"
      ]
     },
     "execution_count": 22,
     "metadata": {},
     "output_type": "execute_result"
    }
   ],
   "source": [
    "set(hla_ii_pseudo.hla)"
   ]
  },
  {
   "cell_type": "code",
   "execution_count": 23,
   "metadata": {},
   "outputs": [
    {
     "data": {
      "text/plain": [
       "['HLA-B35:02',\n",
       " 'HLA-A01:01',\n",
       " 'HLA-A02:05',\n",
       " 'HLA-B07:01',\n",
       " 'HLA-C16:01',\n",
       " 'HLA-A02:02',\n",
       " 'HLA-A02:16',\n",
       " 'HLA-B07:02',\n",
       " 'HLA-A02:11',\n",
       " 'HLA-B27:01',\n",
       " 'HLA-A02:10',\n",
       " 'HLA-A11:01',\n",
       " 'HLA-A02:14',\n",
       " 'HLA-A02:07',\n",
       " 'HLA-B08:01',\n",
       " 'HLA-A02:17',\n",
       " 'HLA-B35:01',\n",
       " 'HLA-A02:13',\n",
       " 'HLA-A02:04',\n",
       " 'HLA-C07:02',\n",
       " 'HLA-A02:15',\n",
       " 'HLA-A02:09',\n",
       " 'HLA-A02:12',\n",
       " 'HLA-B42:01',\n",
       " 'HLA-B44:05',\n",
       " 'HLA-B14:01',\n",
       " 'HLA-A02:01',\n",
       " 'HLA-A02:03',\n",
       " 'HLA-A02:06',\n",
       " 'HLA-A24:02',\n",
       " 'HLA-B27:05',\n",
       " 'HLA-A02:08',\n",
       " 'HLA-B57:03',\n",
       " 'HLA-B15:01',\n",
       " 'HLA-B57:01']"
      ]
     },
     "execution_count": 23,
     "metadata": {},
     "output_type": "execute_result"
    }
   ],
   "source": [
    "# translate the hla in Glazer 2022 format to our format\n",
    "\n",
    "hla_vec_list = list(hla_vec)\n",
    "hla_i_vec_list = [x for x in hla_vec_list if x[:5] in set([\"HLA-A\", \"HLA-B\", \"HLA-C\"])]\n",
    "hla_ii_vec_list = [x for x in hla_vec_list if x[:5] not in set([\"HLA-A\", \"HLA-B\", \"HLA-C\"])]\n",
    "\n",
    "hla_i_vec_list"
   ]
  },
  {
   "cell_type": "code",
   "execution_count": 24,
   "metadata": {},
   "outputs": [
    {
     "data": {
      "text/plain": [
       "['HLA-DR03:02',\n",
       " 'HLA-DQ01:01',\n",
       " 'HLA-DR01:15',\n",
       " 'HLA-DR04:01',\n",
       " 'HLA-DQ02:01',\n",
       " 'HLA-DR11:01',\n",
       " 'HLA-DQ02:05',\n",
       " 'HLA-DR01:04',\n",
       " 'HLA-DR05:01',\n",
       " 'HLA-DQ08:01',\n",
       " 'HLA-DQ01:06',\n",
       " 'HLA-DQ05:01',\n",
       " 'HLA-DR01:01',\n",
       " 'HLA-DR15:01']"
      ]
     },
     "execution_count": 24,
     "metadata": {},
     "output_type": "execute_result"
    }
   ],
   "source": [
    "hla_ii_vec_list"
   ]
  },
  {
   "cell_type": "code",
   "execution_count": 25,
   "metadata": {},
   "outputs": [
    {
     "data": {
      "text/plain": [
       "35"
      ]
     },
     "execution_count": 25,
     "metadata": {},
     "output_type": "execute_result"
    }
   ],
   "source": [
    "# deal with hla-i alleles first\n",
    "hla_i_vec_list_start = [x[:5]+\"*\"+x[5:] for x in hla_i_vec_list]\n",
    "len(hla_i_vec_list_start)"
   ]
  },
  {
   "cell_type": "code",
   "execution_count": 26,
   "metadata": {},
   "outputs": [
    {
     "data": {
      "text/plain": [
       "{'HLA-A*01:01',\n",
       " 'HLA-A*02:01',\n",
       " 'HLA-A*02:05',\n",
       " 'HLA-A*02:06',\n",
       " 'HLA-A*11:01',\n",
       " 'HLA-A*24:02',\n",
       " 'HLA-B*07:02',\n",
       " 'HLA-B*08:01',\n",
       " 'HLA-B*14:01',\n",
       " 'HLA-B*15:01',\n",
       " 'HLA-B*27:05',\n",
       " 'HLA-B*35:01',\n",
       " 'HLA-B*35:02',\n",
       " 'HLA-B*57:01',\n",
       " 'HLA-C*07:02',\n",
       " 'HLA-C*16:01'}"
      ]
     },
     "execution_count": 26,
     "metadata": {},
     "output_type": "execute_result"
    }
   ],
   "source": [
    "hla_i_inter = set(hla_i_vec_list_start).intersection(set(hla_i_pseudo.hla))\n",
    "hla_i_inter"
   ]
  },
  {
   "cell_type": "code",
   "execution_count": 27,
   "metadata": {},
   "outputs": [
    {
     "data": {
      "text/plain": [
       "16"
      ]
     },
     "execution_count": 27,
     "metadata": {},
     "output_type": "execute_result"
    }
   ],
   "source": [
    "len(hla_i_inter)"
   ]
  },
  {
   "cell_type": "code",
   "execution_count": 28,
   "metadata": {},
   "outputs": [
    {
     "data": {
      "text/plain": [
       "(1793, 9)"
      ]
     },
     "execution_count": 28,
     "metadata": {},
     "output_type": "execute_result"
    }
   ],
   "source": [
    "# next, translate the v genes to the format that we have sequence \n",
    "# information for\n",
    "\n",
    "df_combo = pd.read_csv(\"../data/for_encoders/combo_xcr.tsv\", sep = \"\\t\", header = 0)\n",
    "df_combo.shape"
   ]
  },
  {
   "cell_type": "code",
   "execution_count": 29,
   "metadata": {},
   "outputs": [
    {
     "data": {
      "text/html": [
       "<div>\n",
       "<style scoped>\n",
       "    .dataframe tbody tr th:only-of-type {\n",
       "        vertical-align: middle;\n",
       "    }\n",
       "\n",
       "    .dataframe tbody tr th {\n",
       "        vertical-align: top;\n",
       "    }\n",
       "\n",
       "    .dataframe thead th {\n",
       "        text-align: right;\n",
       "    }\n",
       "</style>\n",
       "<table border=\"1\" class=\"dataframe\">\n",
       "  <thead>\n",
       "    <tr style=\"text-align: right;\">\n",
       "      <th></th>\n",
       "      <th>id</th>\n",
       "      <th>organism</th>\n",
       "      <th>chain</th>\n",
       "      <th>region</th>\n",
       "      <th>nucseq</th>\n",
       "      <th>frame</th>\n",
       "      <th>aligned_protseq</th>\n",
       "      <th>cdr_columns</th>\n",
       "      <th>cdrs</th>\n",
       "    </tr>\n",
       "  </thead>\n",
       "  <tbody>\n",
       "    <tr>\n",
       "      <th>0</th>\n",
       "      <td>TRAV1*01</td>\n",
       "      <td>mouse</td>\n",
       "      <td>A</td>\n",
       "      <td>V</td>\n",
       "      <td>ggacagggcgtggagcagcctgacaacttgatgtctgtagagggaa...</td>\n",
       "      <td>1</td>\n",
       "      <td>GQGVEQ.P.DNLMSVEGTFARVNCTYSTSG......FNGLSWYQQR...</td>\n",
       "      <td>28-39;57-66;82-88;106-111</td>\n",
       "      <td>TSG......FNG;VVL....DGL;SRSN.GY;CAVR..</td>\n",
       "    </tr>\n",
       "    <tr>\n",
       "      <th>1</th>\n",
       "      <td>TRAV1*02</td>\n",
       "      <td>mouse</td>\n",
       "      <td>A</td>\n",
       "      <td>V</td>\n",
       "      <td>ggacagggtgtggagcagcctgccaaattgatgtctgtggagggaa...</td>\n",
       "      <td>1</td>\n",
       "      <td>GQGVEQ.P.AKLMSVEGTFARVNCTYSTSG......FNGLSWYQQR...</td>\n",
       "      <td>28-39;57-66;82-88;106-111</td>\n",
       "      <td>TSG......FNG;VVL....DGL;SRSN.GY;CAVR..</td>\n",
       "    </tr>\n",
       "  </tbody>\n",
       "</table>\n",
       "</div>"
      ],
      "text/plain": [
       "         id organism chain region  \\\n",
       "0  TRAV1*01    mouse     A      V   \n",
       "1  TRAV1*02    mouse     A      V   \n",
       "\n",
       "                                              nucseq  frame  \\\n",
       "0  ggacagggcgtggagcagcctgacaacttgatgtctgtagagggaa...      1   \n",
       "1  ggacagggtgtggagcagcctgccaaattgatgtctgtggagggaa...      1   \n",
       "\n",
       "                                     aligned_protseq  \\\n",
       "0  GQGVEQ.P.DNLMSVEGTFARVNCTYSTSG......FNGLSWYQQR...   \n",
       "1  GQGVEQ.P.AKLMSVEGTFARVNCTYSTSG......FNGLSWYQQR...   \n",
       "\n",
       "                 cdr_columns                                    cdrs  \n",
       "0  28-39;57-66;82-88;106-111  TSG......FNG;VVL....DGL;SRSN.GY;CAVR..  \n",
       "1  28-39;57-66;82-88;106-111  TSG......FNG;VVL....DGL;SRSN.GY;CAVR..  "
      ]
     },
     "execution_count": 29,
     "metadata": {},
     "output_type": "execute_result"
    }
   ],
   "source": [
    "df_combo[:2]"
   ]
  },
  {
   "cell_type": "code",
   "execution_count": 30,
   "metadata": {},
   "outputs": [
    {
     "data": {
      "text/plain": [
       "Counter({'mouse': 395,\n",
       "         'human': 332,\n",
       "         'mouse_gd': 301,\n",
       "         'human_gd': 140,\n",
       "         'human_ig': 625})"
      ]
     },
     "execution_count": 30,
     "metadata": {},
     "output_type": "execute_result"
    }
   ],
   "source": [
    "Counter(df_combo.organism)"
   ]
  },
  {
   "cell_type": "code",
   "execution_count": 31,
   "metadata": {},
   "outputs": [
    {
     "data": {
      "text/plain": [
       "Counter({1: 1588, 2: 80, 3: 125})"
      ]
     },
     "execution_count": 31,
     "metadata": {},
     "output_type": "execute_result"
    }
   ],
   "source": [
    "Counter(df_combo.frame)"
   ]
  },
  {
   "cell_type": "code",
   "execution_count": 32,
   "metadata": {},
   "outputs": [],
   "source": [
    "combo_v_gene = [v_gene for v_gene, org, chain_name, region_name in zip(df_combo.id, \n",
    "                                                                       df_combo.organism, \n",
    "                                                                       df_combo.chain, \n",
    "                                                                       df_combo.region)\\\n",
    "               if ((org == \"human\") and (chain_name == \"B\") and (region_name == \"V\"))]"
   ]
  },
  {
   "cell_type": "code",
   "execution_count": 33,
   "metadata": {},
   "outputs": [
    {
     "data": {
      "text/plain": [
       "['TRBV1*01',\n",
       " 'TRBV10-1*01',\n",
       " 'TRBV10-1*02',\n",
       " 'TRBV10-2*01',\n",
       " 'TRBV10-2*02',\n",
       " 'TRBV10-3*01',\n",
       " 'TRBV10-3*02',\n",
       " 'TRBV10-3*03',\n",
       " 'TRBV10-3*04',\n",
       " 'TRBV11-1*01',\n",
       " 'TRBV11-2*01',\n",
       " 'TRBV11-2*02',\n",
       " 'TRBV11-2*03',\n",
       " 'TRBV11-3*01',\n",
       " 'TRBV11-3*02',\n",
       " 'TRBV11-3*03',\n",
       " 'TRBV12-1*01',\n",
       " 'TRBV12-2*01',\n",
       " 'TRBV12-3*01',\n",
       " 'TRBV12-4*01',\n",
       " 'TRBV12-4*02',\n",
       " 'TRBV12-5*01',\n",
       " 'TRBV13*01',\n",
       " 'TRBV13*02',\n",
       " 'TRBV14*01',\n",
       " 'TRBV14*02',\n",
       " 'TRBV15*01',\n",
       " 'TRBV15*02',\n",
       " 'TRBV15*03',\n",
       " 'TRBV16*01',\n",
       " 'TRBV16*02',\n",
       " 'TRBV16*03',\n",
       " 'TRBV17*01',\n",
       " 'TRBV18*01',\n",
       " 'TRBV19*01',\n",
       " 'TRBV19*02',\n",
       " 'TRBV19*03',\n",
       " 'TRBV2*01',\n",
       " 'TRBV2*02',\n",
       " 'TRBV2*03',\n",
       " 'TRBV20-1*01',\n",
       " 'TRBV20-1*02',\n",
       " 'TRBV20-1*03',\n",
       " 'TRBV20-1*04',\n",
       " 'TRBV20-1*05',\n",
       " 'TRBV20-1*06',\n",
       " 'TRBV20-1*07',\n",
       " 'TRBV20/OR9-2*01',\n",
       " 'TRBV20/OR9-2*02',\n",
       " 'TRBV20/OR9-2*03',\n",
       " 'TRBV21-1*01',\n",
       " 'TRBV21/OR9-2*01',\n",
       " 'TRBV23-1*01',\n",
       " 'TRBV23/OR9-2*01',\n",
       " 'TRBV23/OR9-2*02',\n",
       " 'TRBV24-1*01',\n",
       " 'TRBV24/OR9-2*01',\n",
       " 'TRBV25-1*01',\n",
       " 'TRBV26*01',\n",
       " 'TRBV26/OR9-2*01',\n",
       " 'TRBV26/OR9-2*02',\n",
       " 'TRBV27*01',\n",
       " 'TRBV28*01',\n",
       " 'TRBV29-1*01',\n",
       " 'TRBV29-1*02',\n",
       " 'TRBV29-1*03',\n",
       " 'TRBV29/OR9-2*01',\n",
       " 'TRBV29/OR9-2*02',\n",
       " 'TRBV3-1*01',\n",
       " 'TRBV3-1*02',\n",
       " 'TRBV3-2*01',\n",
       " 'TRBV3-2*02',\n",
       " 'TRBV3-2*03',\n",
       " 'TRBV30*01',\n",
       " 'TRBV30*02',\n",
       " 'TRBV30*04',\n",
       " 'TRBV30*05',\n",
       " 'TRBV4-1*01',\n",
       " 'TRBV4-1*02',\n",
       " 'TRBV4-2*01',\n",
       " 'TRBV4-2*02',\n",
       " 'TRBV4-3*01',\n",
       " 'TRBV4-3*02',\n",
       " 'TRBV4-3*03',\n",
       " 'TRBV4-3*04',\n",
       " 'TRBV5-1*01',\n",
       " 'TRBV5-1*02',\n",
       " 'TRBV5-3*01',\n",
       " 'TRBV5-3*02',\n",
       " 'TRBV5-4*01',\n",
       " 'TRBV5-4*02',\n",
       " 'TRBV5-4*03',\n",
       " 'TRBV5-4*04',\n",
       " 'TRBV5-5*01',\n",
       " 'TRBV5-5*02',\n",
       " 'TRBV5-5*03',\n",
       " 'TRBV5-6*01',\n",
       " 'TRBV5-7*01',\n",
       " 'TRBV5-8*01',\n",
       " 'TRBV5-8*02',\n",
       " 'TRBV6-1*01',\n",
       " 'TRBV6-2*01',\n",
       " 'TRBV6-3*01',\n",
       " 'TRBV6-4*01',\n",
       " 'TRBV6-4*02',\n",
       " 'TRBV6-5*01',\n",
       " 'TRBV6-6*01',\n",
       " 'TRBV6-6*02',\n",
       " 'TRBV6-6*03',\n",
       " 'TRBV6-6*04',\n",
       " 'TRBV6-6*05',\n",
       " 'TRBV6-7*01',\n",
       " 'TRBV6-8*01',\n",
       " 'TRBV6-9*01',\n",
       " 'TRBV7-1*01',\n",
       " 'TRBV7-2*01',\n",
       " 'TRBV7-2*02',\n",
       " 'TRBV7-2*03',\n",
       " 'TRBV7-2*04',\n",
       " 'TRBV7-3*01',\n",
       " 'TRBV7-3*02',\n",
       " 'TRBV7-3*03',\n",
       " 'TRBV7-3*04',\n",
       " 'TRBV7-3*05',\n",
       " 'TRBV7-4*01',\n",
       " 'TRBV7-6*01',\n",
       " 'TRBV7-6*02',\n",
       " 'TRBV7-7*01',\n",
       " 'TRBV7-7*02',\n",
       " 'TRBV7-8*01',\n",
       " 'TRBV7-8*02',\n",
       " 'TRBV7-8*03',\n",
       " 'TRBV7-9*01',\n",
       " 'TRBV7-9*02',\n",
       " 'TRBV7-9*03',\n",
       " 'TRBV7-9*04',\n",
       " 'TRBV7-9*05',\n",
       " 'TRBV7-9*06',\n",
       " 'TRBV7-9*07',\n",
       " 'TRBV9*01',\n",
       " 'TRBV9*02',\n",
       " 'TRBV9*03']"
      ]
     },
     "execution_count": 33,
     "metadata": {},
     "output_type": "execute_result"
    }
   ],
   "source": [
    "combo_v_gene"
   ]
  },
  {
   "cell_type": "code",
   "execution_count": 34,
   "metadata": {},
   "outputs": [
    {
     "data": {
      "text/plain": [
       "['TRBV07-07',\n",
       " 'TRBV07-05',\n",
       " 'TRBV07-09',\n",
       " 'TRBV12-03',\n",
       " 'TRBV23-01',\n",
       " 'TRBV02-05',\n",
       " 'TRBV02-01',\n",
       " 'TRBV25-01',\n",
       " 'TRBV05-03',\n",
       " 'TRBV05-07',\n",
       " 'TRBV06-04',\n",
       " 'TRBV12-02',\n",
       " 'TRBV09-02',\n",
       " 'TRBV14-01',\n",
       " 'TRBV08-03',\n",
       " 'TRBV08-02',\n",
       " 'TRBV06-08',\n",
       " 'TRBV01-01',\n",
       " 'TRBV06-01',\n",
       " 'TRBV02-07',\n",
       " 'TRBV201-01',\n",
       " 'TRBV12-01',\n",
       " 'TRBV12-05',\n",
       " 'TRBV27-01',\n",
       " 'TRBV06-05',\n",
       " 'TRBV07-04',\n",
       " 'TRBV18-01',\n",
       " 'TRBV06-07',\n",
       " 'TRBV07-06',\n",
       " 'TRBV11-03',\n",
       " 'TRBV29-05',\n",
       " 'TRBV08-01',\n",
       " 'TRBV15-02',\n",
       " 'TRBV11-01',\n",
       " 'TRBV07-03',\n",
       " 'TRBV01-05',\n",
       " 'TRBV05-08',\n",
       " 'TRBV21-03',\n",
       " 'TRBV06-02',\n",
       " 'TRBV10-03',\n",
       " 'TRBV04-01',\n",
       " 'TRBV02-02',\n",
       " 'TRBV06-06',\n",
       " 'TRBV22-01',\n",
       " 'TRBV05-06',\n",
       " 'TRBV19-01',\n",
       " 'TRBV20-01',\n",
       " 'TRBV28-01',\n",
       " 'TRBV06-03',\n",
       " 'TRBV08-04',\n",
       " 'TRBV10-01',\n",
       " 'TRBV13-06',\n",
       " 'TRBV15-01',\n",
       " 'TRBV04-02',\n",
       " 'TRBV05-01',\n",
       " 'TRBV04-03',\n",
       " 'TRBV02-03',\n",
       " 'TRBV05-04',\n",
       " 'TRBV23-06',\n",
       " 'TRBV13-02',\n",
       " 'TRBV26-02',\n",
       " 'TRBV13-01',\n",
       " 'TRBV07-08',\n",
       " 'TRBV07-02',\n",
       " 'TRBV21-01',\n",
       " 'TRBV17-01',\n",
       " 'TRBV11-02',\n",
       " 'TRBV05-05',\n",
       " 'TRBV03-01',\n",
       " 'TRBV05-02',\n",
       " 'TRBV06-09',\n",
       " 'TRBV16-01',\n",
       " 'TRBV12-04',\n",
       " 'TRBV02-06',\n",
       " 'TRBV24-01',\n",
       " 'TRBV26-01',\n",
       " 'TRBV03-02',\n",
       " 'TRBV07-01',\n",
       " 'TRBV29-01',\n",
       " 'TRBV10-02',\n",
       " 'TRBV01-04',\n",
       " 'TRBV09-01',\n",
       " 'TRBV30-01']"
      ]
     },
     "execution_count": 34,
     "metadata": {},
     "output_type": "execute_result"
    }
   ],
   "source": [
    "# the 'TRBV201-01' is weird and should be translated into another format\n",
    "[v for v in v_beta_vec if v==v]"
   ]
  },
  {
   "cell_type": "markdown",
   "metadata": {},
   "source": [
    "write a dictionary to translate v gene into the format we can deal with in the \n",
    "\n",
    "    ../data/for_encoders/combo_xcr.tsv\n",
    "\n",
    "reference resource for matching\n",
    "\n",
    "https://www.imgt.org/IMGTrepertoire/index.php?section=LocusGenes&repertoire=genetable&species=human&group=TRBV"
   ]
  },
  {
   "cell_type": "code",
   "execution_count": 35,
   "metadata": {},
   "outputs": [],
   "source": [
    "v_trans_dict = defaultdict(str)\n",
    "\n",
    "\n",
    "v_trans_dict['TRBV01-01'] = 'TRBV1*01'\n",
    "\n",
    "v_trans_dict['TRBV10-01'] = 'TRBV10-1*01'\n",
    "v_trans_dict['TRBV10-02'] = 'TRBV10-2*01'\n",
    "v_trans_dict['TRBV10-03'] = 'TRBV10-3*01'\n",
    "\n",
    "v_trans_dict['TRBV11-01'] = 'TRBV11-1*01'\n",
    "v_trans_dict['TRBV11-02'] = 'TRBV11-2*01'\n",
    "v_trans_dict['TRBV11-03'] = 'TRBV11-3*01'\n",
    "\n",
    "v_trans_dict['TRBV12-01'] = 'TRBV12-1*01'\n",
    "v_trans_dict['TRBV12-02'] = 'TRBV12-2*01'\n",
    "v_trans_dict['TRBV12-03'] = 'TRBV12-3*01'\n",
    "v_trans_dict['TRBV12-04'] = 'TRBV12-4*01'\n",
    "v_trans_dict['TRBV12-05'] = 'TRBV12-5*01'\n",
    "\n",
    "v_trans_dict['TRBV13-01'] = 'TRBV13*01'\n",
    "v_trans_dict['TRBV13-02'] = 'TRBV13*02'\n",
    "\n",
    "v_trans_dict['TRBV14-01'] = 'TRBV14*01'\n",
    "\n",
    "v_trans_dict['TRBV15-01'] = 'TRBV15*01'\n",
    "v_trans_dict['TRBV15-02'] = 'TRBV15*02'\n",
    "\n",
    "v_trans_dict['TRBV16-01'] = 'TRBV16*01'\n",
    "\n",
    "v_trans_dict['TRBV17-01'] = 'TRBV17*01'\n",
    "\n",
    "v_trans_dict['TRBV18-01'] = 'TRBV18*01'\n",
    "\n",
    "v_trans_dict['TRBV19-01'] = 'TRBV19*01'\n",
    "\n",
    "v_trans_dict['TRBV02-01'] = 'TRBV2*01'\n",
    "v_trans_dict['TRBV02-02'] = 'TRBV2*02'\n",
    "v_trans_dict['TRBV02-03'] = 'TRBV2*03'\n",
    "\n",
    "v_trans_dict['TRBV20-01'] = 'TRBV20-1*01'\n",
    "v_trans_dict['TRBV201-1'] = 'TRBV20-1*01'\n",
    "\n",
    "v_trans_dict['TRBV21-01'] = 'TRBV21-1*01'\n",
    "\n",
    "v_trans_dict['TRBV23-01'] = 'TRBV23-1*01'\n",
    "\n",
    "v_trans_dict['TRBV24-01'] = 'TRBV24-1*01'\n",
    "\n",
    "v_trans_dict['TRBV25-01'] = 'TRBV25-1*01'\n",
    "\n",
    "v_trans_dict['TRBV26-01'] = 'TRBV26*01'\n",
    "\n",
    "v_trans_dict['TRBV27-01'] = 'TRBV27*01'\n",
    "\n",
    "v_trans_dict['TRBV28-01'] = 'TRBV28*01'\n",
    "\n",
    "v_trans_dict['TRBV29-01'] = 'TRBV29-1*01'\n",
    "\n",
    "\n",
    "v_trans_dict['TRBV03-01'] = 'TRBV3-1*01'\n",
    "v_trans_dict['TRBV03-02'] = 'TRBV3-2*01'\n",
    "    \n",
    "v_trans_dict['TRBV30-01'] = 'TRBV30*01'\n",
    "\n",
    "v_trans_dict['TRBV04-01'] = 'TRBV4-1*01'\n",
    "v_trans_dict['TRBV04-02'] = 'TRBV4-2*01'\n",
    "v_trans_dict['TRBV04-03'] = 'TRBV4-3*01'\n",
    "\n",
    "v_trans_dict['TRBV05-01'] = 'TRBV5-1*01'\n",
    "v_trans_dict['TRBV05-04'] = 'TRBV5-4*01'\n",
    "v_trans_dict['TRBV05-05'] = 'TRBV5-5*01'  \n",
    "v_trans_dict['TRBV05-06'] = 'TRBV5-6*01'   \n",
    "v_trans_dict['TRBV05-07'] = 'TRBV5-7*01'\n",
    "v_trans_dict['TRBV05-08'] = 'TRBV5-8*01'\n",
    "\n",
    "v_trans_dict['TRBV06-01'] = 'TRBV6-1*01'\n",
    "v_trans_dict['TRBV06-02'] = 'TRBV6-2*01'\n",
    "v_trans_dict['TRBV06-03'] = 'TRBV6-3*01'\n",
    "v_trans_dict['TRBV06-04'] = 'TRBV6-4*01' \n",
    "v_trans_dict['TRBV06-05'] = 'TRBV6-5*01'\n",
    "v_trans_dict['TRBV06-06'] = 'TRBV6-6*01'\n",
    "v_trans_dict['TRBV06-07'] = 'TRBV6-7*01'\n",
    "v_trans_dict['TRBV06-08'] = 'TRBV6-8*01'\n",
    "v_trans_dict['TRBV06-09'] = 'TRBV6-9*01'\n",
    "    \n",
    "v_trans_dict['TRBV07-01'] = 'TRBV7-1*01'\n",
    "v_trans_dict['TRBV07-02'] = 'TRBV7-2*01'   \n",
    "v_trans_dict['TRBV07-03'] = 'TRBV7-3*01'\n",
    "v_trans_dict['TRBV07-04'] = 'TRBV7-4*01'\n",
    "v_trans_dict['TRBV07-06'] = 'TRBV7-6*01'\n",
    "v_trans_dict['TRBV07-07'] = 'TRBV7-7*01'\n",
    "v_trans_dict['TRBV07-08'] = 'TRBV7-8*01'\n",
    "v_trans_dict['TRBV07-09'] = 'TRBV7-9*01'\n",
    "    \n",
    "v_trans_dict['TRBV09-01'] = 'TRBV9*01'\n",
    "v_trans_dict['TRBV09-02'] = 'TRBV9*02'"
   ]
  },
  {
   "cell_type": "code",
   "execution_count": 36,
   "metadata": {},
   "outputs": [
    {
     "data": {
      "text/plain": [
       "65"
      ]
     },
     "execution_count": 36,
     "metadata": {},
     "output_type": "execute_result"
    }
   ],
   "source": [
    "len(v_trans_dict)"
   ]
  },
  {
   "cell_type": "code",
   "execution_count": 37,
   "metadata": {},
   "outputs": [
    {
     "name": "stdout",
     "output_type": "stream",
     "text": [
      "6789\n",
      "6454\n"
     ]
    }
   ],
   "source": [
    "# see how many positive/negative pairs involving HLA-I alleles there are\n",
    "# if we do not enforce the requirement of knowing pseudo sequences\n",
    "\n",
    "attempt_train_pairs_pos = [x for x in train_pairs if ((x['mhc'][:5] in set([\"HLA-A\", \"HLA-B\", \"HLA-C\"])) \n",
    "                                                  and (x['vb']==x['vb']) and (x['sign'] == 1))]\n",
    "attempt_train_pairs_neg = [x for x in train_pairs if ((x['mhc'][:5] in set([\"HLA-A\", \"HLA-B\", \"HLA-C\"])) \n",
    "                                                  and (x['vb']==x['vb']) and (x['sign'] == 0))]\n",
    "\n",
    "print(len(attempt_train_pairs_pos))\n",
    "print(len(attempt_train_pairs_neg))"
   ]
  },
  {
   "cell_type": "code",
   "execution_count": 38,
   "metadata": {},
   "outputs": [
    {
     "name": "stdout",
     "output_type": "stream",
     "text": [
      "6852\n",
      "6609\n"
     ]
    }
   ],
   "source": [
    "# see how many positive/negative pairs involving HLA-I alleles there are\n",
    "# if we do not enforce the vb not being na requirement\n",
    "\n",
    "print(len([x for x in train_pairs if ((x['mhc'][:5] in set([\"HLA-A\", \"HLA-B\", \"HLA-C\"])) \n",
    "                                                  and (x['sign'] == 1))]))\n",
    "print(len([x for x in train_pairs if ((x['mhc'][:5] in set([\"HLA-A\", \"HLA-B\", \"HLA-C\"])) \n",
    "                                                  and (x['sign'] == 0))]))\n"
   ]
  },
  {
   "cell_type": "code",
   "execution_count": 45,
   "metadata": {},
   "outputs": [],
   "source": [
    "# define a function to prepare the data for training, validation and testing\n",
    "\n",
    "def extract_data(cur_pairs):\n",
    "    \n",
    "    cur_pos = []\n",
    "    cur_neg = []\n",
    "    \n",
    "    for x in cur_pairs:\n",
    "        cur_hla = x['mhc']\n",
    "        if cur_hla[:5] in set([\"HLA-A\", \"HLA-B\", \"HLA-C\"]):\n",
    "            cur_hla_star = cur_hla[:5]+\"*\"+cur_hla[5:]\n",
    "            if (cur_hla_star in hla_i_inter):\n",
    "                if x['vb'] in v_trans_dict:\n",
    "                    if x['sign']==1:\n",
    "                        cur_pos += [(v_trans_dict[x['vb']]+\",\"+x['tcrb'], cur_hla_star)]\n",
    "                    elif x['sign']==0:\n",
    "                        cur_neg += [(v_trans_dict[x['vb']]+\",\"+x['tcrb'], cur_hla_star)]\n",
    "                else: # this includes both when v beta does not have corresponding v allele and v beta = na\n",
    "                    if x['sign']==1:\n",
    "                        cur_pos += [(\"not_found\"+\",\"+x['tcrb'], cur_hla_star)]\n",
    "                    elif x['sign']==0:\n",
    "                        cur_neg += [(\"not_found\"+\",\"+x['tcrb'], cur_hla_star)]                \n",
    "\n",
    "    return cur_pos, cur_neg"
   ]
  },
  {
   "cell_type": "code",
   "execution_count": 46,
   "metadata": {},
   "outputs": [],
   "source": [
    "train_pos_pairs, train_neg_pairs = extract_data(train_pairs)\n",
    "valid_pos_pairs, valid_neg_pairs = extract_data(valid_pairs)\n",
    "test_pos_pairs, test_neg_pairs = extract_data(test_pairs)"
   ]
  },
  {
   "cell_type": "code",
   "execution_count": 47,
   "metadata": {},
   "outputs": [
    {
     "data": {
      "text/plain": [
       "5090"
      ]
     },
     "execution_count": 47,
     "metadata": {},
     "output_type": "execute_result"
    }
   ],
   "source": [
    "len(train_pos_pairs)"
   ]
  },
  {
   "cell_type": "code",
   "execution_count": 48,
   "metadata": {},
   "outputs": [
    {
     "data": {
      "text/plain": [
       "4691"
      ]
     },
     "execution_count": 48,
     "metadata": {},
     "output_type": "execute_result"
    }
   ],
   "source": [
    "len(train_neg_pairs)"
   ]
  },
  {
   "cell_type": "code",
   "execution_count": 49,
   "metadata": {},
   "outputs": [
    {
     "data": {
      "text/plain": [
       "1102"
      ]
     },
     "execution_count": 49,
     "metadata": {},
     "output_type": "execute_result"
    }
   ],
   "source": [
    "len(valid_pos_pairs)"
   ]
  },
  {
   "cell_type": "code",
   "execution_count": 50,
   "metadata": {},
   "outputs": [
    {
     "data": {
      "text/plain": [
       "994"
      ]
     },
     "execution_count": 50,
     "metadata": {},
     "output_type": "execute_result"
    }
   ],
   "source": [
    "len(valid_neg_pairs)"
   ]
  },
  {
   "cell_type": "code",
   "execution_count": 51,
   "metadata": {},
   "outputs": [
    {
     "data": {
      "text/plain": [
       "1045"
      ]
     },
     "execution_count": 51,
     "metadata": {},
     "output_type": "execute_result"
    }
   ],
   "source": [
    "len(test_pos_pairs)"
   ]
  },
  {
   "cell_type": "code",
   "execution_count": 52,
   "metadata": {},
   "outputs": [
    {
     "data": {
      "text/plain": [
       "1041"
      ]
     },
     "execution_count": 52,
     "metadata": {},
     "output_type": "execute_result"
    }
   ],
   "source": [
    "len(test_neg_pairs)"
   ]
  },
  {
   "cell_type": "code",
   "execution_count": 54,
   "metadata": {},
   "outputs": [],
   "source": [
    "df_train_pos = pd.DataFrame(train_pos_pairs, columns = ['tcr', 'hla_allele'])\n",
    "df_train_neg = pd.DataFrame(train_neg_pairs, columns = ['tcr', 'hla_allele'])\n",
    "\n",
    "df_valid_pos = pd.DataFrame(valid_pos_pairs, columns = ['tcr', 'hla_allele'])\n",
    "df_valid_neg = pd.DataFrame(valid_neg_pairs, columns = ['tcr', 'hla_allele'])\n",
    "\n",
    "df_test_pos = pd.DataFrame(test_pos_pairs, columns = ['tcr', 'hla_allele'])\n",
    "df_test_neg = pd.DataFrame(test_neg_pairs, columns = ['tcr', 'hla_allele'])"
   ]
  },
  {
   "cell_type": "code",
   "execution_count": 55,
   "metadata": {},
   "outputs": [],
   "source": [
    "df_train_pos.to_csv(\"../data/HLA_I_full_mcpas/train_valid/train_pos.csv\", index = False)\n",
    "df_train_neg.to_csv(\"../data/HLA_I_full_mcpas/train_valid/train_neg.csv\", index = False)\n",
    "\n",
    "df_valid_pos.to_csv(\"../data/HLA_I_full_mcpas/train_valid/valid_pos.csv\", index = False)\n",
    "df_valid_neg.to_csv(\"../data/HLA_I_full_mcpas/train_valid/valid_neg.csv\", index = False)\n",
    "\n",
    "df_test_pos.to_csv(\"../data/HLA_I_full_mcpas/test/test_pos.csv\", index = False)\n",
    "df_test_neg.to_csv(\"../data/HLA_I_full_mcpas/test/test_neg.csv\", index = False)"
   ]
  },
  {
   "cell_type": "code",
   "execution_count": 56,
   "metadata": {},
   "outputs": [],
   "source": [
    "tcrs_used = df_train_pos.tcr.tolist() + df_train_neg.tcr.tolist() + \\\n",
    "            df_valid_pos.tcr.tolist() + df_valid_neg.tcr.tolist() + \\\n",
    "            df_test_pos.tcr.tolist() + df_test_neg.tcr.tolist()"
   ]
  },
  {
   "cell_type": "code",
   "execution_count": 57,
   "metadata": {},
   "outputs": [],
   "source": [
    "cdr3s_used = [x.split(\",\")[1] for x in tcrs_used]"
   ]
  },
  {
   "cell_type": "code",
   "execution_count": 58,
   "metadata": {},
   "outputs": [
    {
     "data": {
      "text/plain": [
       "6"
      ]
     },
     "execution_count": 58,
     "metadata": {},
     "output_type": "execute_result"
    }
   ],
   "source": [
    "min([len(x) for x in cdr3s_used])"
   ]
  },
  {
   "cell_type": "code",
   "execution_count": 59,
   "metadata": {},
   "outputs": [
    {
     "data": {
      "text/plain": [
       "24"
      ]
     },
     "execution_count": 59,
     "metadata": {},
     "output_type": "execute_result"
    }
   ],
   "source": [
    "max([len(x) for x in cdr3s_used])"
   ]
  },
  {
   "cell_type": "code",
   "execution_count": 60,
   "metadata": {},
   "outputs": [],
   "source": [
    "df_sub_combo = df_combo.loc[(df_combo.organism == 'human')\n",
    "                        & (df_combo.chain == 'B')\n",
    "                        & (df_combo.region == 'V')]"
   ]
  },
  {
   "cell_type": "code",
   "execution_count": 61,
   "metadata": {},
   "outputs": [
    {
     "data": {
      "text/plain": [
       "(142, 9)"
      ]
     },
     "execution_count": 61,
     "metadata": {},
     "output_type": "execute_result"
    }
   ],
   "source": [
    "df_sub_combo.shape"
   ]
  },
  {
   "cell_type": "code",
   "execution_count": 62,
   "metadata": {},
   "outputs": [],
   "source": [
    "cdr1s = [x.split(\";\")[0] for x in df_sub_combo.cdrs.tolist()]\n",
    "cdr2s = [x.split(\";\")[1] for x in df_sub_combo.cdrs.tolist()]\n",
    "cdr25s = [x.split(\";\")[2] for x in df_sub_combo.cdrs.tolist()]"
   ]
  },
  {
   "cell_type": "code",
   "execution_count": 63,
   "metadata": {},
   "outputs": [
    {
     "data": {
      "text/plain": [
       "{'*',\n",
       " '.',\n",
       " 'A',\n",
       " 'D',\n",
       " 'E',\n",
       " 'F',\n",
       " 'G',\n",
       " 'H',\n",
       " 'K',\n",
       " 'L',\n",
       " 'M',\n",
       " 'N',\n",
       " 'P',\n",
       " 'Q',\n",
       " 'R',\n",
       " 'S',\n",
       " 'T',\n",
       " 'V',\n",
       " 'W',\n",
       " 'Y'}"
      ]
     },
     "execution_count": 63,
     "metadata": {},
     "output_type": "execute_result"
    }
   ],
   "source": [
    "set(list(\"\".join(cdr1s)))"
   ]
  },
  {
   "cell_type": "code",
   "execution_count": 64,
   "metadata": {},
   "outputs": [
    {
     "data": {
      "text/plain": [
       "{'*',\n",
       " '.',\n",
       " 'A',\n",
       " 'C',\n",
       " 'D',\n",
       " 'E',\n",
       " 'F',\n",
       " 'G',\n",
       " 'H',\n",
       " 'I',\n",
       " 'K',\n",
       " 'L',\n",
       " 'M',\n",
       " 'N',\n",
       " 'P',\n",
       " 'Q',\n",
       " 'R',\n",
       " 'S',\n",
       " 'T',\n",
       " 'V',\n",
       " 'W',\n",
       " 'Y'}"
      ]
     },
     "execution_count": 64,
     "metadata": {},
     "output_type": "execute_result"
    }
   ],
   "source": [
    "set(list(\"\".join(cdr2s)))"
   ]
  },
  {
   "cell_type": "code",
   "execution_count": 65,
   "metadata": {},
   "outputs": [
    {
     "data": {
      "text/plain": [
       "{'.',\n",
       " 'A',\n",
       " 'C',\n",
       " 'D',\n",
       " 'E',\n",
       " 'F',\n",
       " 'G',\n",
       " 'H',\n",
       " 'I',\n",
       " 'K',\n",
       " 'L',\n",
       " 'N',\n",
       " 'P',\n",
       " 'Q',\n",
       " 'R',\n",
       " 'S',\n",
       " 'T',\n",
       " 'V',\n",
       " 'Y'}"
      ]
     },
     "execution_count": 65,
     "metadata": {},
     "output_type": "execute_result"
    }
   ],
   "source": [
    "set(list(\"\".join(cdr25s)))"
   ]
  },
  {
   "cell_type": "code",
   "execution_count": 66,
   "metadata": {},
   "outputs": [],
   "source": [
    "trans_value_set = set(v_trans_dict.values())"
   ]
  },
  {
   "cell_type": "code",
   "execution_count": 67,
   "metadata": {},
   "outputs": [
    {
     "data": {
      "text/plain": [
       "{'TRBV1*01',\n",
       " 'TRBV10-1*01',\n",
       " 'TRBV10-2*01',\n",
       " 'TRBV10-3*01',\n",
       " 'TRBV11-1*01',\n",
       " 'TRBV11-2*01',\n",
       " 'TRBV11-3*01',\n",
       " 'TRBV12-1*01',\n",
       " 'TRBV12-2*01',\n",
       " 'TRBV12-3*01',\n",
       " 'TRBV12-4*01',\n",
       " 'TRBV12-5*01',\n",
       " 'TRBV13*01',\n",
       " 'TRBV13*02',\n",
       " 'TRBV14*01',\n",
       " 'TRBV15*01',\n",
       " 'TRBV15*02',\n",
       " 'TRBV16*01',\n",
       " 'TRBV17*01',\n",
       " 'TRBV18*01',\n",
       " 'TRBV19*01',\n",
       " 'TRBV2*01',\n",
       " 'TRBV2*02',\n",
       " 'TRBV2*03',\n",
       " 'TRBV20-1*01',\n",
       " 'TRBV21-1*01',\n",
       " 'TRBV23-1*01',\n",
       " 'TRBV24-1*01',\n",
       " 'TRBV25-1*01',\n",
       " 'TRBV26*01',\n",
       " 'TRBV27*01',\n",
       " 'TRBV28*01',\n",
       " 'TRBV29-1*01',\n",
       " 'TRBV3-1*01',\n",
       " 'TRBV3-2*01',\n",
       " 'TRBV30*01',\n",
       " 'TRBV4-1*01',\n",
       " 'TRBV4-2*01',\n",
       " 'TRBV4-3*01',\n",
       " 'TRBV5-1*01',\n",
       " 'TRBV5-4*01',\n",
       " 'TRBV5-5*01',\n",
       " 'TRBV5-6*01',\n",
       " 'TRBV5-7*01',\n",
       " 'TRBV5-8*01',\n",
       " 'TRBV6-1*01',\n",
       " 'TRBV6-2*01',\n",
       " 'TRBV6-3*01',\n",
       " 'TRBV6-4*01',\n",
       " 'TRBV6-5*01',\n",
       " 'TRBV6-6*01',\n",
       " 'TRBV6-7*01',\n",
       " 'TRBV6-8*01',\n",
       " 'TRBV6-9*01',\n",
       " 'TRBV7-1*01',\n",
       " 'TRBV7-2*01',\n",
       " 'TRBV7-3*01',\n",
       " 'TRBV7-4*01',\n",
       " 'TRBV7-6*01',\n",
       " 'TRBV7-7*01',\n",
       " 'TRBV7-8*01',\n",
       " 'TRBV7-9*01',\n",
       " 'TRBV9*01',\n",
       " 'TRBV9*02'}"
      ]
     },
     "execution_count": 67,
     "metadata": {},
     "output_type": "execute_result"
    }
   ],
   "source": [
    "trans_value_set"
   ]
  },
  {
   "cell_type": "code",
   "execution_count": 69,
   "metadata": {},
   "outputs": [],
   "source": [
    "# look into the cdrs involved in the HLA-I pairs\n",
    "involved_cdrs = [cdrs for v, cdrs in zip(df_sub_combo.id.tolist(), \n",
    "                         df_sub_combo.cdrs.tolist())]"
   ]
  },
  {
   "cell_type": "code",
   "execution_count": 70,
   "metadata": {},
   "outputs": [],
   "source": [
    "involved_cdr1s = [x.split(\";\")[0] for x in involved_cdrs]"
   ]
  },
  {
   "cell_type": "code",
   "execution_count": 71,
   "metadata": {},
   "outputs": [
    {
     "data": {
      "text/plain": [
       "['GH........DS',\n",
       " 'WNH.......NN',\n",
       " 'WNH.......NN',\n",
       " 'WSH.......SY',\n",
       " 'WSH.......SY',\n",
       " 'ENH.......RY',\n",
       " 'ENH.......RY',\n",
       " 'ENH.......RY',\n",
       " 'ENH.......RY',\n",
       " 'SGH.......AT',\n",
       " 'SGH.......AT',\n",
       " 'SGH.......AT',\n",
       " 'SGH.......AT',\n",
       " 'SGH.......NT',\n",
       " 'SGH.......NT',\n",
       " 'SGH.......NT',\n",
       " 'SGH.......ND',\n",
       " 'FGH.......NF',\n",
       " 'SGH.......NS',\n",
       " 'SGH.......DY',\n",
       " 'SGH.......DY',\n",
       " 'LGH.......NT',\n",
       " 'PRH.......DT',\n",
       " 'PRH.......DT',\n",
       " 'SGH.......DN',\n",
       " 'SGH.......DN',\n",
       " 'LNH.......NV',\n",
       " 'LNH.......NV',\n",
       " 'LNH.......NV',\n",
       " 'KGH.......SY',\n",
       " 'KGH.......S*',\n",
       " 'KGH.......SY',\n",
       " 'SGH.......MF',\n",
       " 'KGH.......SH',\n",
       " 'LNH.......DA',\n",
       " 'LNH.......DA',\n",
       " 'LNH.......DA',\n",
       " 'SNH.......LY',\n",
       " 'SNH.......LY',\n",
       " 'SNH.......LY',\n",
       " 'DFQ......ATT',\n",
       " 'DFQ......ATT',\n",
       " 'DFQ......ATT',\n",
       " 'DFQ......ATT',\n",
       " 'DFQ......ATT',\n",
       " 'DFQ......ATT',\n",
       " 'DFQ......ATT',\n",
       " 'DFQ......ATT',\n",
       " 'DFQ......ATT',\n",
       " 'DFQ......ATT',\n",
       " 'KAH.......SY',\n",
       " 'KRH.......SY',\n",
       " 'KGH.......TF',\n",
       " 'NGH.......TF',\n",
       " 'NGH.......TF',\n",
       " 'KGH.......DR',\n",
       " 'KGH.......DR',\n",
       " 'MGH.......DK',\n",
       " 'MNH.......VT',\n",
       " 'MNH.......VA',\n",
       " 'MNH.......VA',\n",
       " 'MNH.......EY',\n",
       " 'MDH.......EN',\n",
       " 'SQV.......TM',\n",
       " 'SQV.......TM',\n",
       " 'SQV.......TM',\n",
       " 'SQV.......TM',\n",
       " 'SQV.......TM',\n",
       " 'LGH.......DT',\n",
       " 'LGH.......DT',\n",
       " 'LGH.......NA',\n",
       " 'LGH.......NA',\n",
       " 'LGH.......NA',\n",
       " 'GTS......NPN',\n",
       " 'GTS......NPN',\n",
       " 'GTS......NPN',\n",
       " 'GTS......NPN',\n",
       " 'MGH.......RA',\n",
       " 'MGH.......RA',\n",
       " 'LGH.......NA',\n",
       " 'LGH.......NA',\n",
       " 'LGH.......NA',\n",
       " 'LGH.......NA',\n",
       " 'LGH.......NA',\n",
       " 'LGH.......NA',\n",
       " 'SGH.......RS',\n",
       " 'SGH.......RS',\n",
       " 'SGH.......SS',\n",
       " 'SGH.......SS',\n",
       " 'SGH.......NT',\n",
       " 'SGH.......NT',\n",
       " 'SGH.......NT',\n",
       " '...........T',\n",
       " 'SGH.......KS',\n",
       " 'SGH.......KS',\n",
       " 'SEH.......KS',\n",
       " 'SGH.......DT',\n",
       " 'SGH.......TS',\n",
       " 'SGH.......TS',\n",
       " 'SGH.......TS',\n",
       " 'MNH.......NS',\n",
       " 'MNH.......EY',\n",
       " 'MNH.......EY',\n",
       " 'MRH.......NA',\n",
       " 'MRH.......NA',\n",
       " 'MNH.......EY',\n",
       " 'MNH.......NY',\n",
       " 'MNH.......NY',\n",
       " 'MNH.......NY',\n",
       " 'MNH.......EY',\n",
       " 'MNH.......NY',\n",
       " 'MNH.......EY',\n",
       " 'MNH.......GY',\n",
       " 'MNH.......GY',\n",
       " 'SGH.......NA',\n",
       " 'SGH.......TA',\n",
       " 'SGH.......TA',\n",
       " 'SGH.......TA',\n",
       " 'SGH.......TA',\n",
       " 'SGH.......TA',\n",
       " 'SGH.......TA',\n",
       " 'SGH.......TA',\n",
       " 'SGH.......TA',\n",
       " 'SGH.......TA',\n",
       " 'SGH.......VT',\n",
       " 'SGH.......VS',\n",
       " 'SGH.......VS',\n",
       " 'SSH.......AT',\n",
       " 'SSH.......VT',\n",
       " 'SGH.......VS',\n",
       " 'SGH.......VS',\n",
       " 'SGH.......VS',\n",
       " 'SEH.......NR',\n",
       " 'SEH.......NR',\n",
       " 'SEH.......NR',\n",
       " 'SEH.......NR',\n",
       " 'SEH.......NR',\n",
       " 'SEH.......NR',\n",
       " '..H.......NR',\n",
       " 'SGD.......LS',\n",
       " 'SGD.......LS',\n",
       " 'SGD.......LS']"
      ]
     },
     "execution_count": 71,
     "metadata": {},
     "output_type": "execute_result"
    }
   ],
   "source": [
    "involved_cdr1s"
   ]
  },
  {
   "cell_type": "code",
   "execution_count": null,
   "metadata": {},
   "outputs": [],
   "source": []
  }
 ],
 "metadata": {
  "kernelspec": {
   "display_name": "Python 3 (ipykernel)",
   "language": "python",
   "name": "python3"
  },
  "language_info": {
   "codemirror_mode": {
    "name": "ipython",
    "version": 3
   },
   "file_extension": ".py",
   "mimetype": "text/x-python",
   "name": "python",
   "nbconvert_exporter": "python",
   "pygments_lexer": "ipython3",
   "version": "3.9.10"
  }
 },
 "nbformat": 4,
 "nbformat_minor": 4
}
