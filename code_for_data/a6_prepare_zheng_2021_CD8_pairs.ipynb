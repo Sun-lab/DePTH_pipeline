{
 "cells": [
  {
   "cell_type": "markdown",
   "metadata": {},
   "source": [
    "Prepare the input data file based on HLA-I alleles and Zheng 2021 TCRs for making prediction on"
   ]
  },
  {
   "cell_type": "code",
   "execution_count": 1,
   "metadata": {},
   "outputs": [],
   "source": [
    "import numpy as np\n",
    "import pandas as pd"
   ]
  },
  {
   "cell_type": "code",
   "execution_count": 7,
   "metadata": {},
   "outputs": [],
   "source": [
    "hla_pseudo_file = '../data/for_encoders/HLA_I_pseudo_40.csv'\n",
    "zheng_2021_file = '../data/Zheng_2021/pos_TCRs_weighted_for_DePTH_comb_xcr_format.csv'"
   ]
  },
  {
   "cell_type": "code",
   "execution_count": 8,
   "metadata": {},
   "outputs": [],
   "source": [
    "hla_pseudo = pd.read_csv(hla_pseudo_file, sep=\",\", header=0)\n",
    "df_tcr = pd.read_csv(zheng_2021_file, header=0)"
   ]
  },
  {
   "cell_type": "code",
   "execution_count": 9,
   "metadata": {},
   "outputs": [
    {
     "data": {
      "text/plain": [
       "(85, 2)"
      ]
     },
     "execution_count": 9,
     "metadata": {},
     "output_type": "execute_result"
    }
   ],
   "source": [
    "hla_pseudo.shape"
   ]
  },
  {
   "cell_type": "code",
   "execution_count": 10,
   "metadata": {},
   "outputs": [
    {
     "data": {
      "text/plain": [
       "(10008, 2)"
      ]
     },
     "execution_count": 10,
     "metadata": {},
     "output_type": "execute_result"
    }
   ],
   "source": [
    "df_tcr.shape"
   ]
  },
  {
   "cell_type": "code",
   "execution_count": 11,
   "metadata": {},
   "outputs": [
    {
     "data": {
      "text/html": [
       "<div>\n",
       "<style scoped>\n",
       "    .dataframe tbody tr th:only-of-type {\n",
       "        vertical-align: middle;\n",
       "    }\n",
       "\n",
       "    .dataframe tbody tr th {\n",
       "        vertical-align: top;\n",
       "    }\n",
       "\n",
       "    .dataframe thead th {\n",
       "        text-align: right;\n",
       "    }\n",
       "</style>\n",
       "<table border=\"1\" class=\"dataframe\">\n",
       "  <thead>\n",
       "    <tr style=\"text-align: right;\">\n",
       "      <th></th>\n",
       "      <th>hla</th>\n",
       "      <th>seq</th>\n",
       "    </tr>\n",
       "  </thead>\n",
       "  <tbody>\n",
       "    <tr>\n",
       "      <th>0</th>\n",
       "      <td>HLA-B*08:01</td>\n",
       "      <td>YDSEYRNQIFTNTDESNLYLSYNYYTWAARVDAYETEWRY</td>\n",
       "    </tr>\n",
       "    <tr>\n",
       "      <th>1</th>\n",
       "      <td>HLA-A*24:02</td>\n",
       "      <td>YSAMYEEGKVAHTDENIAYLMFHYYTWAAHVQAYETDGRY</td>\n",
       "    </tr>\n",
       "  </tbody>\n",
       "</table>\n",
       "</div>"
      ],
      "text/plain": [
       "           hla                                       seq\n",
       "0  HLA-B*08:01  YDSEYRNQIFTNTDESNLYLSYNYYTWAARVDAYETEWRY\n",
       "1  HLA-A*24:02  YSAMYEEGKVAHTDENIAYLMFHYYTWAAHVQAYETDGRY"
      ]
     },
     "execution_count": 11,
     "metadata": {},
     "output_type": "execute_result"
    }
   ],
   "source": [
    "hla_pseudo[:2]"
   ]
  },
  {
   "cell_type": "code",
   "execution_count": 12,
   "metadata": {},
   "outputs": [
    {
     "data": {
      "text/html": [
       "<div>\n",
       "<style scoped>\n",
       "    .dataframe tbody tr th:only-of-type {\n",
       "        vertical-align: middle;\n",
       "    }\n",
       "\n",
       "    .dataframe tbody tr th {\n",
       "        vertical-align: top;\n",
       "    }\n",
       "\n",
       "    .dataframe thead th {\n",
       "        text-align: right;\n",
       "    }\n",
       "</style>\n",
       "<table border=\"1\" class=\"dataframe\">\n",
       "  <thead>\n",
       "    <tr style=\"text-align: right;\">\n",
       "      <th></th>\n",
       "      <th>v</th>\n",
       "      <th>aa</th>\n",
       "    </tr>\n",
       "  </thead>\n",
       "  <tbody>\n",
       "    <tr>\n",
       "      <th>0</th>\n",
       "      <td>TRBV13*01</td>\n",
       "      <td>CASSLTGNEQFF</td>\n",
       "    </tr>\n",
       "    <tr>\n",
       "      <th>1</th>\n",
       "      <td>TRBV13*01</td>\n",
       "      <td>CASSLTGNEQFF</td>\n",
       "    </tr>\n",
       "    <tr>\n",
       "      <th>2</th>\n",
       "      <td>TRBV13*01</td>\n",
       "      <td>CASSLTGNEQFF</td>\n",
       "    </tr>\n",
       "    <tr>\n",
       "      <th>3</th>\n",
       "      <td>TRBV13*01</td>\n",
       "      <td>CASSLTGNEQFF</td>\n",
       "    </tr>\n",
       "    <tr>\n",
       "      <th>4</th>\n",
       "      <td>TRBV13*01</td>\n",
       "      <td>CASSLTGNEQFF</td>\n",
       "    </tr>\n",
       "    <tr>\n",
       "      <th>5</th>\n",
       "      <td>TRBV13*01</td>\n",
       "      <td>CASSLTGNEQFF</td>\n",
       "    </tr>\n",
       "  </tbody>\n",
       "</table>\n",
       "</div>"
      ],
      "text/plain": [
       "           v            aa\n",
       "0  TRBV13*01  CASSLTGNEQFF\n",
       "1  TRBV13*01  CASSLTGNEQFF\n",
       "2  TRBV13*01  CASSLTGNEQFF\n",
       "3  TRBV13*01  CASSLTGNEQFF\n",
       "4  TRBV13*01  CASSLTGNEQFF\n",
       "5  TRBV13*01  CASSLTGNEQFF"
      ]
     },
     "execution_count": 12,
     "metadata": {},
     "output_type": "execute_result"
    }
   ],
   "source": [
    "df_tcr[:6]"
   ]
  },
  {
   "cell_type": "code",
   "execution_count": 13,
   "metadata": {},
   "outputs": [
    {
     "data": {
      "text/plain": [
       "[('TRBV13*01,CASSLTGNEQFF', 'HLA-B*08:01'),\n",
       " ('TRBV13*01,CASSLTGNEQFF', 'HLA-A*24:02'),\n",
       " ('TRBV13*01,CASSLTGNEQFF', 'HLA-A*24:03'),\n",
       " ('TRBV13*01,CASSLTGNEQFF', 'HLA-B*38:02'),\n",
       " ('TRBV13*01,CASSLTGNEQFF', 'HLA-B*51:01'),\n",
       " ('TRBV13*01,CASSLTGNEQFF', 'HLA-B*57:01'),\n",
       " ('TRBV13*01,CASSLTGNEQFF', 'HLA-A*23:01'),\n",
       " ('TRBV13*01,CASSLTGNEQFF', 'HLA-B*15:17'),\n",
       " ('TRBV13*01,CASSLTGNEQFF', 'HLA-B*50:01'),\n",
       " ('TRBV13*01,CASSLTGNEQFF', 'HLA-B*07:05')]"
      ]
     },
     "execution_count": 13,
     "metadata": {},
     "output_type": "execute_result"
    }
   ],
   "source": [
    "test_tcrs = [\",\".join([a, b]) for a, b in zip(df_tcr.v, df_tcr.aa)]\n",
    "\n",
    "pair_list = [(tcr, hla) for tcr in test_tcrs for hla in hla_pseudo.hla.tolist()]\n",
    "pair_list[:10]"
   ]
  },
  {
   "cell_type": "code",
   "execution_count": 14,
   "metadata": {},
   "outputs": [
    {
     "data": {
      "text/plain": [
       "850680"
      ]
     },
     "execution_count": 14,
     "metadata": {},
     "output_type": "execute_result"
    }
   ],
   "source": [
    "len(pair_list)"
   ]
  },
  {
   "cell_type": "code",
   "execution_count": 15,
   "metadata": {},
   "outputs": [
    {
     "data": {
      "text/html": [
       "<div>\n",
       "<style scoped>\n",
       "    .dataframe tbody tr th:only-of-type {\n",
       "        vertical-align: middle;\n",
       "    }\n",
       "\n",
       "    .dataframe tbody tr th {\n",
       "        vertical-align: top;\n",
       "    }\n",
       "\n",
       "    .dataframe thead th {\n",
       "        text-align: right;\n",
       "    }\n",
       "</style>\n",
       "<table border=\"1\" class=\"dataframe\">\n",
       "  <thead>\n",
       "    <tr style=\"text-align: right;\">\n",
       "      <th></th>\n",
       "      <th>tcr</th>\n",
       "      <th>hla_allele</th>\n",
       "    </tr>\n",
       "  </thead>\n",
       "  <tbody>\n",
       "    <tr>\n",
       "      <th>0</th>\n",
       "      <td>TRBV13*01,CASSLTGNEQFF</td>\n",
       "      <td>HLA-B*08:01</td>\n",
       "    </tr>\n",
       "    <tr>\n",
       "      <th>1</th>\n",
       "      <td>TRBV13*01,CASSLTGNEQFF</td>\n",
       "      <td>HLA-A*24:02</td>\n",
       "    </tr>\n",
       "    <tr>\n",
       "      <th>2</th>\n",
       "      <td>TRBV13*01,CASSLTGNEQFF</td>\n",
       "      <td>HLA-A*24:03</td>\n",
       "    </tr>\n",
       "    <tr>\n",
       "      <th>3</th>\n",
       "      <td>TRBV13*01,CASSLTGNEQFF</td>\n",
       "      <td>HLA-B*38:02</td>\n",
       "    </tr>\n",
       "    <tr>\n",
       "      <th>4</th>\n",
       "      <td>TRBV13*01,CASSLTGNEQFF</td>\n",
       "      <td>HLA-B*51:01</td>\n",
       "    </tr>\n",
       "    <tr>\n",
       "      <th>5</th>\n",
       "      <td>TRBV13*01,CASSLTGNEQFF</td>\n",
       "      <td>HLA-B*57:01</td>\n",
       "    </tr>\n",
       "  </tbody>\n",
       "</table>\n",
       "</div>"
      ],
      "text/plain": [
       "                      tcr   hla_allele\n",
       "0  TRBV13*01,CASSLTGNEQFF  HLA-B*08:01\n",
       "1  TRBV13*01,CASSLTGNEQFF  HLA-A*24:02\n",
       "2  TRBV13*01,CASSLTGNEQFF  HLA-A*24:03\n",
       "3  TRBV13*01,CASSLTGNEQFF  HLA-B*38:02\n",
       "4  TRBV13*01,CASSLTGNEQFF  HLA-B*51:01\n",
       "5  TRBV13*01,CASSLTGNEQFF  HLA-B*57:01"
      ]
     },
     "execution_count": 15,
     "metadata": {},
     "output_type": "execute_result"
    }
   ],
   "source": [
    "df_pairs = pd.DataFrame(pair_list, columns=['tcr', 'hla_allele'])\n",
    "df_pairs[:6]"
   ]
  },
  {
   "cell_type": "code",
   "execution_count": 18,
   "metadata": {},
   "outputs": [],
   "source": [
    "df_pairs.to_csv(\"../data/Zheng_2021/zheng_2021_HLA_I_pairs.csv\", index=False)"
   ]
  },
  {
   "cell_type": "code",
   "execution_count": null,
   "metadata": {},
   "outputs": [],
   "source": []
  }
 ],
 "metadata": {
  "kernelspec": {
   "display_name": "Python 3 (ipykernel)",
   "language": "python",
   "name": "python3"
  },
  "language_info": {
   "codemirror_mode": {
    "name": "ipython",
    "version": 3
   },
   "file_extension": ".py",
   "mimetype": "text/x-python",
   "name": "python",
   "nbconvert_exporter": "python",
   "pygments_lexer": "ipython3",
   "version": "3.9.10"
  }
 },
 "nbformat": 4,
 "nbformat_minor": 4
}
