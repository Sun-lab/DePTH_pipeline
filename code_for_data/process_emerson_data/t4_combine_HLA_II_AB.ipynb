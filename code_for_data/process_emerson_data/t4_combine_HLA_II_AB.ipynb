{
 "cells": [
  {
   "cell_type": "markdown",
   "metadata": {},
   "source": [
    "### This file combines the extended pseudo sequences of HLA-II A alleles with HLA-II B alleles\n",
    "\n",
    "for the 135 pairs contained in HLA v2 matrix of DeWitt_2018 (original format is 130 items with 5 haplotypes. After separating each haplotype into two pairs we eventually get 135 pairs). \n",
    "\n",
    "Input files:\n",
    "\n",
    "The dictionary of extended pseudo sequences for 17 HLA-II A alleles(all DRAs treated as one) stored in \n",
    "\n",
    "    ../../data/intermediate_data/t4_HLA_II_v2_alpha_pseudo_22_dict.csv\n",
    "\n",
    "The dictionary of extended pseudo sequences for 62 HLA-II B alleles stored in\n",
    "\n",
    "    ../../data/intermediate_data/t4_HLA_II_v2_beta_pseudo_23_dict.csv\n",
    "\n",
    "The names of HLA-II items from HLA v2 data of DeWitt_2018 stored in \n",
    "\n",
    "    ../../data/intermediate_data/DeWitt_2018/HLA_v2_features_row_names.txt\n",
    "\n",
    "Output file:\n",
    "\n",
    "A csv file storing the combined extended pseudo sequences for 135 HLA-II pairs: \n",
    "\n",
    "    ../../data/for_encoders/HLA_II_pseudo_45.csv"
   ]
  },
  {
   "cell_type": "code",
   "execution_count": 1,
   "metadata": {},
   "outputs": [],
   "source": [
    "import numpy as np\n",
    "import pandas as pd\n",
    "\n",
    "from collections import Counter\n",
    "from collections import defaultdict"
   ]
  },
  {
   "cell_type": "code",
   "execution_count": 2,
   "metadata": {},
   "outputs": [
    {
     "data": {
      "text/html": [
       "<div>\n",
       "<style scoped>\n",
       "    .dataframe tbody tr th:only-of-type {\n",
       "        vertical-align: middle;\n",
       "    }\n",
       "\n",
       "    .dataframe tbody tr th {\n",
       "        vertical-align: top;\n",
       "    }\n",
       "\n",
       "    .dataframe thead th {\n",
       "        text-align: right;\n",
       "    }\n",
       "</style>\n",
       "<table border=\"1\" class=\"dataframe\">\n",
       "  <thead>\n",
       "    <tr style=\"text-align: right;\">\n",
       "      <th></th>\n",
       "      <th>feature</th>\n",
       "      <th>hla</th>\n",
       "    </tr>\n",
       "  </thead>\n",
       "  <tbody>\n",
       "    <tr>\n",
       "      <th>0</th>\n",
       "      <td>feature:</td>\n",
       "      <td>HLA-DPAB*02:01_04:01</td>\n",
       "    </tr>\n",
       "    <tr>\n",
       "      <th>1</th>\n",
       "      <td>feature:</td>\n",
       "      <td>HLA-DQAB*05:05_06:04</td>\n",
       "    </tr>\n",
       "    <tr>\n",
       "      <th>2</th>\n",
       "      <td>feature:</td>\n",
       "      <td>HLA-B*08:01</td>\n",
       "    </tr>\n",
       "    <tr>\n",
       "      <th>3</th>\n",
       "      <td>feature:</td>\n",
       "      <td>HLA-A*24:02</td>\n",
       "    </tr>\n",
       "    <tr>\n",
       "      <th>4</th>\n",
       "      <td>feature:</td>\n",
       "      <td>HLA-A*24:03</td>\n",
       "    </tr>\n",
       "    <tr>\n",
       "      <th>5</th>\n",
       "      <td>feature:</td>\n",
       "      <td>HLA-B*38:02</td>\n",
       "    </tr>\n",
       "  </tbody>\n",
       "</table>\n",
       "</div>"
      ],
      "text/plain": [
       "    feature                   hla\n",
       "0  feature:  HLA-DPAB*02:01_04:01\n",
       "1  feature:  HLA-DQAB*05:05_06:04\n",
       "2  feature:           HLA-B*08:01\n",
       "3  feature:           HLA-A*24:02\n",
       "4  feature:           HLA-A*24:03\n",
       "5  feature:           HLA-B*38:02"
      ]
     },
     "execution_count": 2,
     "metadata": {},
     "output_type": "execute_result"
    }
   ],
   "source": [
    "# get HLA-II pair names from HLA_v2_features\n",
    "HLA_v2_features_row_names = pd.read_csv(\"../../data/intermediate_data/DeWitt_2018/HLA_v2_features_row_names.txt\", \n",
    "                                        sep = \" \", header = None)\n",
    "HLA_v2_features_row_names.columns = [\"feature\", \"hla\"]\n",
    "HLA_v2_features_row_names.shape\n",
    "# (215, 2)\n",
    "HLA_v2_features_row_names[:6]"
   ]
  },
  {
   "cell_type": "code",
   "execution_count": 3,
   "metadata": {},
   "outputs": [],
   "source": [
    "HLA_II_v2_pairs = [hla for hla in HLA_v2_features_row_names.hla.tolist() if hla[:7] in [\"HLA-DPA\", \"HLA-DQA\", \"HLA-DRD\", \"HLA-DRB\"]]"
   ]
  },
  {
   "cell_type": "code",
   "execution_count": 4,
   "metadata": {},
   "outputs": [
    {
     "data": {
      "text/plain": [
       "['HLA-DRDQ*10:01_01:05_05:01',\n",
       " 'HLA-DRDQ*03:01_05:01_02:01',\n",
       " 'HLA-DRDQ*13:01_01:03_06:03',\n",
       " 'HLA-DRDQ*15:01_01:02_06:02',\n",
       " 'HLA-DRDQ*09:01_03:02_03:03']"
      ]
     },
     "execution_count": 4,
     "metadata": {},
     "output_type": "execute_result"
    }
   ],
   "source": [
    "HLA_II_v2_5DRDQ = [item for item in HLA_II_v2_pairs if len(item.split(\"_\")) > 2]\n",
    "HLA_II_v2_5DRDQ"
   ]
  },
  {
   "cell_type": "code",
   "execution_count": 5,
   "metadata": {},
   "outputs": [],
   "source": [
    "HLA_II_v2_5DRDQ_DRB = [\"HLA-DRB1*\" + item[9:].split(\"_\")[0] for item in HLA_II_v2_5DRDQ]\n",
    "HLA_II_v2_5DRDQ_DQAB = [\"HLA-DQAB*\" + \"_\".join(item[9:].split(\"_\")[1:]) for item in HLA_II_v2_5DRDQ]"
   ]
  },
  {
   "cell_type": "code",
   "execution_count": 7,
   "metadata": {},
   "outputs": [
    {
     "data": {
      "text/plain": [
       "['HLA-DQAB*01:02_06:04',\n",
       " 'HLA-DQAB*05:05_03:03',\n",
       " 'HLA-DQAB*01:02_03:02',\n",
       " 'HLA-DQAB*05:05_02:02',\n",
       " 'HLA-DQAB*05:05_03:01',\n",
       " 'HLA-DPAB*02:01_17:01']"
      ]
     },
     "execution_count": 7,
     "metadata": {},
     "output_type": "execute_result"
    }
   ],
   "source": [
    "HLA_II_complete = list(set(HLA_II_v2_pairs + HLA_II_v2_5DRDQ_DRB + HLA_II_v2_5DRDQ_DQAB) - set(HLA_II_v2_5DRDQ))\n",
    "len(HLA_II_complete)\n",
    "# 135\n",
    "HLA_II_complete[:6]"
   ]
  },
  {
   "cell_type": "code",
   "execution_count": 8,
   "metadata": {},
   "outputs": [
    {
     "data": {
      "text/plain": [
       "135"
      ]
     },
     "execution_count": 8,
     "metadata": {},
     "output_type": "execute_result"
    }
   ],
   "source": [
    "len(HLA_II_complete)"
   ]
  },
  {
   "cell_type": "code",
   "execution_count": null,
   "metadata": {},
   "outputs": [],
   "source": [
    "# load extended pseudo sequences dicts for HLA-II A alleles and HLA-II B alleles\n",
    "pseudo_a = pd.read_csv(\"../../data/intermediate_data/t4_HLA_II_v2_alpha_pseudo_22_dict.csv\", \n",
    "                       header = 0)\n",
    "pseudo_a.shape\n",
    "# (17, 2)\n",
    "pseudo_b = pd.read_csv(\"../../data/intermediate_data/t4_HLA_II_v2_beta_pseudo_23_dict.csv\", \n",
    "                       header = 0)\n",
    "pseudo_b.shape\n",
    "# (62, 2)"
   ]
  },
  {
   "cell_type": "code",
   "execution_count": 20,
   "metadata": {},
   "outputs": [],
   "source": [
    "pseudo_a_dict = defaultdict(str)\n",
    "pseudo_b_dict = defaultdict(str)\n",
    "\n",
    "for allele, seq in zip(pseudo_a.allele.tolist(), pseudo_a.seq.tolist()):\n",
    "    pseudo_a_dict[allele] = seq\n",
    "    \n",
    "for allele, seq in zip(pseudo_b.allele.tolist(), pseudo_b.seq.tolist()):\n",
    "    pseudo_b_dict[allele] = seq\n",
    "    \n",
    "len(pseudo_a_dict)\n",
    "# 17\n",
    "len(pseudo_b_dict)\n",
    "# 62"
   ]
  },
  {
   "cell_type": "code",
   "execution_count": 30,
   "metadata": {},
   "outputs": [],
   "source": [
    "# this first two lists holds the corresponding A/B alleles of each HLA-II pair\n",
    "HLA_II_alpha_list = []\n",
    "HLA_II_beta_list = []\n",
    "# this list holds the A/B alleles names put together, just as a sanity check\n",
    "HLA_II_rec_names = []\n",
    "# the dictionary below holds the combined pseudo sequences\n",
    "comb_seq_dict = defaultdict(str)\n",
    "\n",
    "# separate the HLA-II pairs into two alleles each\n",
    "# translate them into the names in file \"../../data/intermediate_data/pseudosequence_2016_all_X.dat\"\n",
    "for item in HLA_II_complete:\n",
    "    if item[:8] == \"HLA-DQAB\":\n",
    "        item_1 = \"DQA1\" + \"*\" + item[9:].split(\"_\")[0]\n",
    "        item_2 = \"DQB1\" + \"*\" + item[9:].split(\"_\")[1]\n",
    "        HLA_II_alpha_list += [item_1]\n",
    "        HLA_II_beta_list += [item_2]\n",
    "        HLA_II_rec_names += [item_1 + '-' + item_2]\n",
    "        comb_seq_dict[item] = pseudo_a_dict[item_1] + pseudo_b_dict[item_2]\n",
    "    elif item[:8] == \"HLA-DPAB\":\n",
    "        item_1 = \"DPA1\" + \"*\" + item[9:].split(\"_\")[0]\n",
    "        item_2 = \"DPB1\" + \"*\" + item[9:].split(\"_\")[1]\n",
    "        HLA_II_alpha_list += [item_1]\n",
    "        HLA_II_beta_list += [item_2]\n",
    "        HLA_II_rec_names += [item_1 + '-' + item_2]\n",
    "        comb_seq_dict[item] = pseudo_a_dict[item_1] + pseudo_b_dict[item_2]\n",
    "    elif item[:8] == \"HLA-DRB1\":\n",
    "        item_1 = \"DRA\"\n",
    "        item_2 = \"DRB1\" + \"*\" + item[9:]\n",
    "        HLA_II_alpha_list += [item_1]\n",
    "        HLA_II_beta_list += [item_2]\n",
    "        HLA_II_rec_names += [item_1 + '-' + item_2]\n",
    "        comb_seq_dict[item] = pseudo_a_dict[item_1] + pseudo_b_dict[item_2]\n",
    "    else:\n",
    "        print(\"error found, first eight letters exception\")\n",
    "        print(item)\n",
    "        break"
   ]
  },
  {
   "cell_type": "code",
   "execution_count": 32,
   "metadata": {},
   "outputs": [],
   "source": [
    "#sanity_check_df = pd.DataFrame(list(zip(HLA_II_complete, HLA_II_alpha_list, \\\n",
    "#                                        HLA_II_beta_list, HLA_II_rec_names)),\\\n",
    "#                               columns = [\"ori_name\", \"a_name\", \"b_name\", \"rec_name\"])"
   ]
  },
  {
   "cell_type": "code",
   "execution_count": 35,
   "metadata": {},
   "outputs": [
    {
     "data": {
      "text/plain": [
       "Counter({45: 135})"
      ]
     },
     "execution_count": 35,
     "metadata": {},
     "output_type": "execute_result"
    }
   ],
   "source": [
    "Counter([len(value) for value in list(comb_seq_dict.values())])"
   ]
  },
  {
   "cell_type": "code",
   "execution_count": 44,
   "metadata": {},
   "outputs": [
    {
     "data": {
      "text/plain": [
       "hla    135\n",
       "seq    111\n",
       "dtype: int64"
      ]
     },
     "execution_count": 44,
     "metadata": {},
     "output_type": "execute_result"
    }
   ],
   "source": [
    "HLA_II_complete.sort()\n",
    "comb_seqs_list = [comb_seq_dict[key] for key in HLA_II_complete]\n",
    "                  \n",
    "df_combine_seqs = pd.DataFrame(list(zip(HLA_II_complete, comb_seqs_list)), \\\n",
    "                               columns = ['hla', \"seq\"])\n",
    "\n",
    "df_combine_seqs.nunique()"
   ]
  },
  {
   "cell_type": "code",
   "execution_count": 47,
   "metadata": {},
   "outputs": [],
   "source": [
    "df_combine_seqs.to_csv(\"../../data/for_encoders/HLA_II_pseudo_45.csv\", index = False)"
   ]
  },
  {
   "cell_type": "code",
   "execution_count": 46,
   "metadata": {},
   "outputs": [
    {
     "data": {
      "text/plain": [
       "Counter({45: 135})"
      ]
     },
     "execution_count": 46,
     "metadata": {},
     "output_type": "execute_result"
    }
   ],
   "source": [
    "Counter([len(seq) for seq in df_combine_seqs.seq.tolist()])"
   ]
  }
 ],
 "metadata": {
  "kernelspec": {
   "display_name": "Python 3 (ipykernel)",
   "language": "python",
   "name": "python3"
  },
  "language_info": {
   "codemirror_mode": {
    "name": "ipython",
    "version": 3
   },
   "file_extension": ".py",
   "mimetype": "text/x-python",
   "name": "python",
   "nbconvert_exporter": "python",
   "pygments_lexer": "ipython3",
   "version": "3.9.10"
  }
 },
 "nbformat": 4,
 "nbformat_minor": 2
}
