{
 "cells": [
  {
   "cell_type": "markdown",
   "metadata": {},
   "source": [
    "This file takes as input the associated (TCR, HLA) pairs file \n",
    "\n",
    "    ../../data/intermediate_data/t12_HLA_associated_TCR_v_alleles.csv\n",
    "\n",
    "and writes out five files:\n",
    "\n",
    "one for HLA-I alleles\n",
    "\n",
    "    ../../data/intermediate_data/t12_HLA_I_associated_TCR_v_alleles.csv, shape (6423, 3)\n",
    "\n",
    "one for HLA-II allele in the format of HLA v2 from DeWitt_2018 (involving 125 simple ones, DRB1, DPAB, or DQAB, and 5 haplotypes)\n",
    "\n",
    "    ../../data/intermediate_data/t12_HLA_II_associated_TCR_v_alleles.csv, shape (14159, 3)\n",
    "\n",
    "and one for HLA-II alleles, similar to the one above, except that 5 haplotypes are separated into 10 HLA-II\n",
    "\n",
    "    ../../data/intermediate_data/t12_HLA_II_expand_associated_TCR_v_alleles.csv, shape (17281, 3)\n",
    "\n",
    "one for HLA-II alleles in the format of HLA v2, involving only the 125 simple ones, DRB1, DPAB, or DQAB, excluding the 5 haplotypes)\n",
    "\n",
    "    ../../data/intermediate_data/t12_HLA_II_no_haplotype_associated_TCR_v_alleles.csv, shape (11037, 3)\n",
    "\n",
    "one for only the 5 haplotypes separated into 10 HLA-II \n",
    "\n",
    "    ../../data/intermediate_data/t12_HLA_II_5haplotypes_to_10pairs_associated_TCR_v_alleles.csv, shape (6244, 3)\n"
   ]
  },
  {
   "cell_type": "code",
   "execution_count": 1,
   "metadata": {},
   "outputs": [],
   "source": [
    "import numpy as np\n",
    "import pandas as pd\n",
    "\n",
    "from collections import Counter\n",
    "from collections import defaultdict"
   ]
  },
  {
   "cell_type": "code",
   "execution_count": 2,
   "metadata": {},
   "outputs": [
    {
     "data": {
      "text/plain": [
       "(20582, 3)"
      ]
     },
     "execution_count": 2,
     "metadata": {},
     "output_type": "execute_result"
    }
   ],
   "source": [
    "df_asso = pd.read_csv(\"../../data/intermediate_data/t12_HLA_associated_TCR_v_alleles.csv\", header = 0)\n",
    "df_asso.shape"
   ]
  },
  {
   "cell_type": "code",
   "execution_count": 3,
   "metadata": {},
   "outputs": [
    {
     "data": {
      "text/html": [
       "<div>\n",
       "<style scoped>\n",
       "    .dataframe tbody tr th:only-of-type {\n",
       "        vertical-align: middle;\n",
       "    }\n",
       "\n",
       "    .dataframe tbody tr th {\n",
       "        vertical-align: top;\n",
       "    }\n",
       "\n",
       "    .dataframe thead th {\n",
       "        text-align: right;\n",
       "    }\n",
       "</style>\n",
       "<table border=\"1\" class=\"dataframe\">\n",
       "  <thead>\n",
       "    <tr style=\"text-align: right;\">\n",
       "      <th></th>\n",
       "      <th>tcr</th>\n",
       "      <th>hla_allele</th>\n",
       "      <th>association_pvalue</th>\n",
       "    </tr>\n",
       "  </thead>\n",
       "  <tbody>\n",
       "    <tr>\n",
       "      <th>0</th>\n",
       "      <td>TCRBV04-02*01,CASSQGGQSYEQYF</td>\n",
       "      <td>HLA-B*07:02</td>\n",
       "      <td>7.159545e-23</td>\n",
       "    </tr>\n",
       "    <tr>\n",
       "      <th>1</th>\n",
       "      <td>TCRBV04-02*01,CASSQGGQSYEQYF</td>\n",
       "      <td>HLA-C*07:02</td>\n",
       "      <td>6.043354e-19</td>\n",
       "    </tr>\n",
       "    <tr>\n",
       "      <th>2</th>\n",
       "      <td>TCRBV04-02*01,CASSQGGQSYEQYF</td>\n",
       "      <td>HLA-DRDQ*15:01_01:02_06:02</td>\n",
       "      <td>1.484140e-08</td>\n",
       "    </tr>\n",
       "    <tr>\n",
       "      <th>3</th>\n",
       "      <td>TCRBV02-01*01,CASSELPNTEAFF</td>\n",
       "      <td>HLA-DPAB*01:03_04:01</td>\n",
       "      <td>1.194622e-07</td>\n",
       "    </tr>\n",
       "    <tr>\n",
       "      <th>4</th>\n",
       "      <td>TCRBV05-01*01,CASSWDKSYEQYF</td>\n",
       "      <td>HLA-A*03:01</td>\n",
       "      <td>7.446680e-08</td>\n",
       "    </tr>\n",
       "    <tr>\n",
       "      <th>5</th>\n",
       "      <td>TCRBV06-06*01,CASNPRGGGSNQPQHF</td>\n",
       "      <td>HLA-B*07:02</td>\n",
       "      <td>9.795153e-08</td>\n",
       "    </tr>\n",
       "  </tbody>\n",
       "</table>\n",
       "</div>"
      ],
      "text/plain": [
       "                              tcr                  hla_allele  \\\n",
       "0    TCRBV04-02*01,CASSQGGQSYEQYF                 HLA-B*07:02   \n",
       "1    TCRBV04-02*01,CASSQGGQSYEQYF                 HLA-C*07:02   \n",
       "2    TCRBV04-02*01,CASSQGGQSYEQYF  HLA-DRDQ*15:01_01:02_06:02   \n",
       "3     TCRBV02-01*01,CASSELPNTEAFF        HLA-DPAB*01:03_04:01   \n",
       "4     TCRBV05-01*01,CASSWDKSYEQYF                 HLA-A*03:01   \n",
       "5  TCRBV06-06*01,CASNPRGGGSNQPQHF                 HLA-B*07:02   \n",
       "\n",
       "   association_pvalue  \n",
       "0        7.159545e-23  \n",
       "1        6.043354e-19  \n",
       "2        1.484140e-08  \n",
       "3        1.194622e-07  \n",
       "4        7.446680e-08  \n",
       "5        9.795153e-08  "
      ]
     },
     "execution_count": 3,
     "metadata": {},
     "output_type": "execute_result"
    }
   ],
   "source": [
    "df_asso[:6]"
   ]
  },
  {
   "cell_type": "code",
   "execution_count": 4,
   "metadata": {},
   "outputs": [
    {
     "data": {
      "text/plain": [
       "tcr                   14945\n",
       "hla_allele              215\n",
       "association_pvalue     8756\n",
       "dtype: int64"
      ]
     },
     "execution_count": 4,
     "metadata": {},
     "output_type": "execute_result"
    }
   ],
   "source": [
    "df_asso.nunique()"
   ]
  },
  {
   "cell_type": "code",
   "execution_count": 5,
   "metadata": {},
   "outputs": [],
   "source": [
    "hla_short = [hla[:5] for hla in df_asso.hla_allele.tolist()]\n",
    "df_asso['short'] = hla_short"
   ]
  },
  {
   "cell_type": "code",
   "execution_count": 6,
   "metadata": {},
   "outputs": [
    {
     "data": {
      "text/plain": [
       "(6423, 4)"
      ]
     },
     "execution_count": 6,
     "metadata": {},
     "output_type": "execute_result"
    }
   ],
   "source": [
    "df_asso_HLA_I = df_asso[df_asso[\"short\"].isin(['HLA-A', 'HLA-B', 'HLA-C'])]\n",
    "df_asso_HLA_I.shape"
   ]
  },
  {
   "cell_type": "code",
   "execution_count": 7,
   "metadata": {},
   "outputs": [
    {
     "data": {
      "text/plain": [
       "tcr                   4877\n",
       "hla_allele              85\n",
       "association_pvalue    3574\n",
       "short                    3\n",
       "dtype: int64"
      ]
     },
     "execution_count": 7,
     "metadata": {},
     "output_type": "execute_result"
    }
   ],
   "source": [
    "df_asso_HLA_I.nunique()"
   ]
  },
  {
   "cell_type": "code",
   "execution_count": 8,
   "metadata": {},
   "outputs": [
    {
     "data": {
      "text/plain": [
       "Counter({'HLA-B': 3357, 'HLA-C': 1653, 'HLA-A': 1413})"
      ]
     },
     "execution_count": 8,
     "metadata": {},
     "output_type": "execute_result"
    }
   ],
   "source": [
    "Counter(df_asso_HLA_I.short)"
   ]
  },
  {
   "cell_type": "code",
   "execution_count": 9,
   "metadata": {},
   "outputs": [
    {
     "data": {
      "text/html": [
       "<div>\n",
       "<style scoped>\n",
       "    .dataframe tbody tr th:only-of-type {\n",
       "        vertical-align: middle;\n",
       "    }\n",
       "\n",
       "    .dataframe tbody tr th {\n",
       "        vertical-align: top;\n",
       "    }\n",
       "\n",
       "    .dataframe thead th {\n",
       "        text-align: right;\n",
       "    }\n",
       "</style>\n",
       "<table border=\"1\" class=\"dataframe\">\n",
       "  <thead>\n",
       "    <tr style=\"text-align: right;\">\n",
       "      <th></th>\n",
       "      <th>tcr</th>\n",
       "      <th>hla_allele</th>\n",
       "      <th>association_pvalue</th>\n",
       "    </tr>\n",
       "  </thead>\n",
       "  <tbody>\n",
       "    <tr>\n",
       "      <th>0</th>\n",
       "      <td>TCRBV04-02*01,CASSQGGQSYEQYF</td>\n",
       "      <td>HLA-B*07:02</td>\n",
       "      <td>7.159545e-23</td>\n",
       "    </tr>\n",
       "    <tr>\n",
       "      <th>1</th>\n",
       "      <td>TCRBV04-02*01,CASSQGGQSYEQYF</td>\n",
       "      <td>HLA-C*07:02</td>\n",
       "      <td>6.043354e-19</td>\n",
       "    </tr>\n",
       "    <tr>\n",
       "      <th>4</th>\n",
       "      <td>TCRBV05-01*01,CASSWDKSYEQYF</td>\n",
       "      <td>HLA-A*03:01</td>\n",
       "      <td>7.446680e-08</td>\n",
       "    </tr>\n",
       "    <tr>\n",
       "      <th>5</th>\n",
       "      <td>TCRBV06-06*01,CASNPRGGGSNQPQHF</td>\n",
       "      <td>HLA-B*07:02</td>\n",
       "      <td>9.795153e-08</td>\n",
       "    </tr>\n",
       "    <tr>\n",
       "      <th>6</th>\n",
       "      <td>TCRBV06-06*01,CASNPRGGGSNQPQHF</td>\n",
       "      <td>HLA-C*07:02</td>\n",
       "      <td>4.896567e-07</td>\n",
       "    </tr>\n",
       "    <tr>\n",
       "      <th>8</th>\n",
       "      <td>TCRBV06-01*01,CASSEAPGPTNEKLFF</td>\n",
       "      <td>HLA-A*03:01</td>\n",
       "      <td>4.462154e-09</td>\n",
       "    </tr>\n",
       "  </tbody>\n",
       "</table>\n",
       "</div>"
      ],
      "text/plain": [
       "                              tcr   hla_allele  association_pvalue\n",
       "0    TCRBV04-02*01,CASSQGGQSYEQYF  HLA-B*07:02        7.159545e-23\n",
       "1    TCRBV04-02*01,CASSQGGQSYEQYF  HLA-C*07:02        6.043354e-19\n",
       "4     TCRBV05-01*01,CASSWDKSYEQYF  HLA-A*03:01        7.446680e-08\n",
       "5  TCRBV06-06*01,CASNPRGGGSNQPQHF  HLA-B*07:02        9.795153e-08\n",
       "6  TCRBV06-06*01,CASNPRGGGSNQPQHF  HLA-C*07:02        4.896567e-07\n",
       "8  TCRBV06-01*01,CASSEAPGPTNEKLFF  HLA-A*03:01        4.462154e-09"
      ]
     },
     "execution_count": 9,
     "metadata": {},
     "output_type": "execute_result"
    }
   ],
   "source": [
    "df_asso_HLA_I_pure = df_asso_HLA_I.drop(['short'], axis=1)\n",
    "df_asso_HLA_I_pure[:6]"
   ]
  },
  {
   "cell_type": "markdown",
   "metadata": {},
   "source": [
    "Write out the subset related to HLA-I alleles."
   ]
  },
  {
   "cell_type": "code",
   "execution_count": 40,
   "metadata": {},
   "outputs": [],
   "source": [
    "df_asso_HLA_I_pure.to_csv(\"../../data/intermediate_data/t12_HLA_I_associated_TCR_v_alleles.csv\", \n",
    "                          index = False)"
   ]
  },
  {
   "cell_type": "markdown",
   "metadata": {},
   "source": [
    "Move on to HLA-II alleles."
   ]
  },
  {
   "cell_type": "code",
   "execution_count": 10,
   "metadata": {},
   "outputs": [
    {
     "data": {
      "text/plain": [
       "(14159, 4)"
      ]
     },
     "execution_count": 10,
     "metadata": {},
     "output_type": "execute_result"
    }
   ],
   "source": [
    "df_asso_HLA_II = df_asso[df_asso[\"short\"] == 'HLA-D']\n",
    "df_asso_HLA_II.shape"
   ]
  },
  {
   "cell_type": "code",
   "execution_count": 11,
   "metadata": {},
   "outputs": [
    {
     "data": {
      "text/plain": [
       "tcr                   11216\n",
       "hla_allele              130\n",
       "association_pvalue     5358\n",
       "short                     1\n",
       "dtype: int64"
      ]
     },
     "execution_count": 11,
     "metadata": {},
     "output_type": "execute_result"
    }
   ],
   "source": [
    "df_asso_HLA_II.nunique()"
   ]
  },
  {
   "cell_type": "markdown",
   "metadata": {},
   "source": [
    "Write out subset related to HLA_II alleles in the v2 format of DeWitt_2018. \n",
    "\n",
    "This version involves 125 simple HLA-II (DRB1, DPAB, or DQAB) and 5 haplotypes."
   ]
  },
  {
   "cell_type": "code",
   "execution_count": 53,
   "metadata": {},
   "outputs": [],
   "source": [
    "df_asso_HLA_II_pure = df_asso_HLA_II.drop(['short'], axis=1)\n",
    "\n",
    "df_asso_HLA_II_pure.to_csv(\"../../data/intermediate_data/t12_HLA_II_associated_TCR_v_alleles.csv\", \n",
    "                           index = False)"
   ]
  },
  {
   "cell_type": "markdown",
   "metadata": {},
   "source": [
    "Next, move on to separate each row corresponding to one haplotype into two rows"
   ]
  },
  {
   "cell_type": "code",
   "execution_count": 13,
   "metadata": {},
   "outputs": [],
   "source": [
    "haplotypes = ['HLA-DRDQ*15:01_01:02_06:02', 'HLA-DRDQ*03:01_05:01_02:01', \\\n",
    "              'HLA-DRDQ*13:01_01:03_06:03', 'HLA-DRDQ*10:01_01:05_05:01', \\\n",
    "              'HLA-DRDQ*09:01_03:02_03:03']"
   ]
  },
  {
   "cell_type": "code",
   "execution_count": 14,
   "metadata": {},
   "outputs": [
    {
     "data": {
      "text/plain": [
       "(3122, 3)"
      ]
     },
     "execution_count": 14,
     "metadata": {},
     "output_type": "execute_result"
    }
   ],
   "source": [
    "df_asso_HLA_II_haplotypes = df_asso_HLA_II_pure[df_asso_HLA_II_pure['hla_allele'].isin(haplotypes)]\n",
    "df_asso_HLA_II_haplotypes.shape"
   ]
  },
  {
   "cell_type": "code",
   "execution_count": 17,
   "metadata": {},
   "outputs": [
    {
     "data": {
      "text/html": [
       "<div>\n",
       "<style scoped>\n",
       "    .dataframe tbody tr th:only-of-type {\n",
       "        vertical-align: middle;\n",
       "    }\n",
       "\n",
       "    .dataframe tbody tr th {\n",
       "        vertical-align: top;\n",
       "    }\n",
       "\n",
       "    .dataframe thead th {\n",
       "        text-align: right;\n",
       "    }\n",
       "</style>\n",
       "<table border=\"1\" class=\"dataframe\">\n",
       "  <thead>\n",
       "    <tr style=\"text-align: right;\">\n",
       "      <th></th>\n",
       "      <th>tcr</th>\n",
       "      <th>hla_allele</th>\n",
       "      <th>association_pvalue</th>\n",
       "    </tr>\n",
       "  </thead>\n",
       "  <tbody>\n",
       "    <tr>\n",
       "      <th>2</th>\n",
       "      <td>TCRBV04-02*01,CASSQGGQSYEQYF</td>\n",
       "      <td>HLA-DRDQ*15:01_01:02_06:02</td>\n",
       "      <td>1.484140e-08</td>\n",
       "    </tr>\n",
       "    <tr>\n",
       "      <th>7</th>\n",
       "      <td>TCRBV06-06*01,CASNPRGGGSNQPQHF</td>\n",
       "      <td>HLA-DRDQ*15:01_01:02_06:02</td>\n",
       "      <td>3.184825e-09</td>\n",
       "    </tr>\n",
       "    <tr>\n",
       "      <th>9</th>\n",
       "      <td>TCRBV06-05*01,CASSYSPGGDTEAFF</td>\n",
       "      <td>HLA-DRDQ*15:01_01:02_06:02</td>\n",
       "      <td>4.527401e-07</td>\n",
       "    </tr>\n",
       "    <tr>\n",
       "      <th>13</th>\n",
       "      <td>TCRBV05-01*01,CASSLEGRYEQYF</td>\n",
       "      <td>HLA-DRDQ*15:01_01:02_06:02</td>\n",
       "      <td>8.487745e-12</td>\n",
       "    </tr>\n",
       "    <tr>\n",
       "      <th>16</th>\n",
       "      <td>TCRBV06-05*01,CASSYSRPSSGNTIYF</td>\n",
       "      <td>HLA-DRDQ*15:01_01:02_06:02</td>\n",
       "      <td>2.505062e-31</td>\n",
       "    </tr>\n",
       "    <tr>\n",
       "      <th>19</th>\n",
       "      <td>TCRBV05-01*01,CASSLGGFPDTQYF</td>\n",
       "      <td>HLA-DRDQ*15:01_01:02_06:02</td>\n",
       "      <td>1.490235e-17</td>\n",
       "    </tr>\n",
       "  </tbody>\n",
       "</table>\n",
       "</div>"
      ],
      "text/plain": [
       "                               tcr                  hla_allele  \\\n",
       "2     TCRBV04-02*01,CASSQGGQSYEQYF  HLA-DRDQ*15:01_01:02_06:02   \n",
       "7   TCRBV06-06*01,CASNPRGGGSNQPQHF  HLA-DRDQ*15:01_01:02_06:02   \n",
       "9    TCRBV06-05*01,CASSYSPGGDTEAFF  HLA-DRDQ*15:01_01:02_06:02   \n",
       "13     TCRBV05-01*01,CASSLEGRYEQYF  HLA-DRDQ*15:01_01:02_06:02   \n",
       "16  TCRBV06-05*01,CASSYSRPSSGNTIYF  HLA-DRDQ*15:01_01:02_06:02   \n",
       "19    TCRBV05-01*01,CASSLGGFPDTQYF  HLA-DRDQ*15:01_01:02_06:02   \n",
       "\n",
       "    association_pvalue  \n",
       "2         1.484140e-08  \n",
       "7         3.184825e-09  \n",
       "9         4.527401e-07  \n",
       "13        8.487745e-12  \n",
       "16        2.505062e-31  \n",
       "19        1.490235e-17  "
      ]
     },
     "execution_count": 17,
     "metadata": {},
     "output_type": "execute_result"
    }
   ],
   "source": [
    "df_asso_HLA_II_haplotypes[:6]"
   ]
  },
  {
   "cell_type": "code",
   "execution_count": 18,
   "metadata": {},
   "outputs": [],
   "source": [
    "# separate each row to two\n",
    "tcr_hap_vec = []\n",
    "hla_hap_vec = []\n",
    "pval_hap_vec= []\n",
    "\n",
    "for tcr, hla, pval in zip(df_asso_HLA_II_haplotypes.tcr.tolist(), \\\n",
    "                          df_asso_HLA_II_haplotypes.hla_allele.tolist(), \\\n",
    "                          df_asso_HLA_II_haplotypes.association_pvalue.tolist()):\n",
    "    DRB_name = \"HLA-DRB1*\" + hla[9:].split(\"_\")[0]\n",
    "    DQAB_name = \"HLA-DQAB*\" + \"_\".join(hla[9:].split(\"_\")[1:])\n",
    "    tcr_hap_vec += [tcr]\n",
    "    hla_hap_vec += [DRB_name]\n",
    "    pval_hap_vec+= [pval]\n",
    "    tcr_hap_vec += [tcr]\n",
    "    hla_hap_vec += [DQAB_name]\n",
    "    pval_hap_vec+= [pval]                                       "
   ]
  },
  {
   "cell_type": "code",
   "execution_count": 19,
   "metadata": {},
   "outputs": [
    {
     "data": {
      "text/plain": [
       "6244"
      ]
     },
     "execution_count": 19,
     "metadata": {},
     "output_type": "execute_result"
    }
   ],
   "source": [
    "len(pval_hap_vec)"
   ]
  },
  {
   "cell_type": "code",
   "execution_count": 20,
   "metadata": {},
   "outputs": [],
   "source": [
    "df_asso_HLA_II_pure_pairs = pd.DataFrame(list(zip(tcr_hap_vec, hla_hap_vec, pval_hap_vec)), \\\n",
    "                                         columns = ['tcr', 'hla_allele', 'association_pvalue'])"
   ]
  },
  {
   "cell_type": "markdown",
   "metadata": {},
   "source": [
    "Write out associated (TCR, HLA) pairs purely related to the 5 haplotypes separated into 10 HLA-II AB pairs"
   ]
  },
  {
   "cell_type": "code",
   "execution_count": 26,
   "metadata": {},
   "outputs": [],
   "source": [
    "df_asso_HLA_II_pure_pairs.to_csv(\\\n",
    "        \"../../data/intermediate_data/t12_HLA_II_5haplotypes_to_10pairs_associated_TCR_v_alleles.csv\", index = False)"
   ]
  },
  {
   "cell_type": "code",
   "execution_count": 28,
   "metadata": {},
   "outputs": [
    {
     "data": {
      "text/plain": [
       "(11037, 3)"
      ]
     },
     "execution_count": 28,
     "metadata": {},
     "output_type": "execute_result"
    }
   ],
   "source": [
    "# get the subset related to the 125 simple HLA-II (one of DRB1, DPAB, DQAB)\n",
    "df_asso_HLA_II_no_haplotype = df_asso_HLA_II_pure[~df_asso_HLA_II_pure['hla_allele'].isin(haplotypes)]\n",
    "df_asso_HLA_II_no_haplotype.shape"
   ]
  },
  {
   "cell_type": "code",
   "execution_count": 29,
   "metadata": {},
   "outputs": [
    {
     "data": {
      "text/html": [
       "<div>\n",
       "<style scoped>\n",
       "    .dataframe tbody tr th:only-of-type {\n",
       "        vertical-align: middle;\n",
       "    }\n",
       "\n",
       "    .dataframe tbody tr th {\n",
       "        vertical-align: top;\n",
       "    }\n",
       "\n",
       "    .dataframe thead th {\n",
       "        text-align: right;\n",
       "    }\n",
       "</style>\n",
       "<table border=\"1\" class=\"dataframe\">\n",
       "  <thead>\n",
       "    <tr style=\"text-align: right;\">\n",
       "      <th></th>\n",
       "      <th>tcr</th>\n",
       "      <th>hla_allele</th>\n",
       "      <th>association_pvalue</th>\n",
       "    </tr>\n",
       "  </thead>\n",
       "  <tbody>\n",
       "    <tr>\n",
       "      <th>3</th>\n",
       "      <td>TCRBV02-01*01,CASSELPNTEAFF</td>\n",
       "      <td>HLA-DPAB*01:03_04:01</td>\n",
       "      <td>1.194622e-07</td>\n",
       "    </tr>\n",
       "    <tr>\n",
       "      <th>17</th>\n",
       "      <td>TCRBV06-05*01,CASSYSRPSSGNTIYF</td>\n",
       "      <td>HLA-DQAB*01:03_06:02</td>\n",
       "      <td>1.164818e-07</td>\n",
       "    </tr>\n",
       "    <tr>\n",
       "      <th>28</th>\n",
       "      <td>TCRBV18-01*01,CASSPGSNQPQHF</td>\n",
       "      <td>HLA-DRB1*04:01</td>\n",
       "      <td>5.880450e-07</td>\n",
       "    </tr>\n",
       "    <tr>\n",
       "      <th>33</th>\n",
       "      <td>TCRBV05-01*01,CASSWGQGTGELFF</td>\n",
       "      <td>HLA-DQAB*02:01_03:03</td>\n",
       "      <td>1.885378e-06</td>\n",
       "    </tr>\n",
       "    <tr>\n",
       "      <th>34</th>\n",
       "      <td>TCRBV05-01*01,CASSWGQGTGELFF</td>\n",
       "      <td>HLA-DRB1*07:01</td>\n",
       "      <td>3.831379e-14</td>\n",
       "    </tr>\n",
       "    <tr>\n",
       "      <th>45</th>\n",
       "      <td>TCRBV30-01*01,CAWSRDSGSGNTIYF</td>\n",
       "      <td>HLA-DQAB*01:02_05:01</td>\n",
       "      <td>8.209775e-06</td>\n",
       "    </tr>\n",
       "  </tbody>\n",
       "</table>\n",
       "</div>"
      ],
      "text/plain": [
       "                               tcr            hla_allele  association_pvalue\n",
       "3      TCRBV02-01*01,CASSELPNTEAFF  HLA-DPAB*01:03_04:01        1.194622e-07\n",
       "17  TCRBV06-05*01,CASSYSRPSSGNTIYF  HLA-DQAB*01:03_06:02        1.164818e-07\n",
       "28     TCRBV18-01*01,CASSPGSNQPQHF        HLA-DRB1*04:01        5.880450e-07\n",
       "33    TCRBV05-01*01,CASSWGQGTGELFF  HLA-DQAB*02:01_03:03        1.885378e-06\n",
       "34    TCRBV05-01*01,CASSWGQGTGELFF        HLA-DRB1*07:01        3.831379e-14\n",
       "45   TCRBV30-01*01,CAWSRDSGSGNTIYF  HLA-DQAB*01:02_05:01        8.209775e-06"
      ]
     },
     "execution_count": 29,
     "metadata": {},
     "output_type": "execute_result"
    }
   ],
   "source": [
    "df_asso_HLA_II_no_haplotype[:6]"
   ]
  },
  {
   "cell_type": "markdown",
   "metadata": {},
   "source": [
    "Write out a version that is related to HLA_II alleles in the v2 format of DeWitt_2018. \n",
    "\n",
    "This version involves 125 simple HLA-II (DRB1, DPAB, or DQAB) only, excluding the five haplotypes. "
   ]
  },
  {
   "cell_type": "code",
   "execution_count": 32,
   "metadata": {},
   "outputs": [],
   "source": [
    "df_asso_HLA_II_no_haplotype.to_csv(\\\n",
    "        \"../../data/intermediate_data/t12_HLA_II_no_haplotype_associated_TCR_v_alleles.csv\", \n",
    "                                   index = False)"
   ]
  },
  {
   "cell_type": "code",
   "execution_count": 97,
   "metadata": {},
   "outputs": [
    {
     "data": {
      "text/plain": [
       "17281"
      ]
     },
     "execution_count": 97,
     "metadata": {},
     "output_type": "execute_result"
    }
   ],
   "source": [
    "# stack df_asso_HLA_II_no_haplotype and the expanded results for haplotypes\n",
    "\n",
    "tcr_expand_vec = df_asso_HLA_II_no_haplotype.tcr.tolist() + tcr_hap_vec\n",
    "hla_expand_vec = df_asso_HLA_II_no_haplotype.hla_allele.tolist() + hla_hap_vec\n",
    "pval_expand_vec = df_asso_HLA_II_no_haplotype.association_pvalue.tolist() + pval_hap_vec\n",
    "\n",
    "len(pval_expand_vec)"
   ]
  },
  {
   "cell_type": "code",
   "execution_count": 100,
   "metadata": {},
   "outputs": [
    {
     "data": {
      "text/plain": [
       "(17281, 3)"
      ]
     },
     "execution_count": 100,
     "metadata": {},
     "output_type": "execute_result"
    }
   ],
   "source": [
    "df_asso_HLA_II_expand = \\\n",
    "     pd.DataFrame(list(zip(tcr_expand_vec, hla_expand_vec, pval_expand_vec)), \\\n",
    "                 columns = ['tcr', 'hla_allele', 'association_pvalue'])\n",
    "\n",
    "df_asso_HLA_II_expand.shape"
   ]
  },
  {
   "cell_type": "markdown",
   "metadata": {},
   "source": [
    "Write the expaned version that is related to HLA_II alleles in the v2 format of DeWitt_2018. \n",
    "\n",
    "This version involves 125 simple HLA-II (DRB1, DPAB, or DQAB) and 10 that are expanded from the 5 haplotypes."
   ]
  },
  {
   "cell_type": "code",
   "execution_count": 107,
   "metadata": {},
   "outputs": [],
   "source": [
    "df_asso_HLA_II_expand.to_csv(\"../../data/intermediate_data/t12_HLA_II_expand_associated_TCR_v_alleles.csv\", index = False)"
   ]
  },
  {
   "cell_type": "code",
   "execution_count": null,
   "metadata": {},
   "outputs": [],
   "source": []
  },
  {
   "cell_type": "code",
   "execution_count": 32,
   "metadata": {},
   "outputs": [
    {
     "data": {
      "text/plain": [
       "8.4118895897811e-06"
      ]
     },
     "execution_count": 32,
     "metadata": {},
     "output_type": "execute_result"
    }
   ],
   "source": [
    "max(df_asso_HLA_II.association_pvalue)"
   ]
  },
  {
   "cell_type": "code",
   "execution_count": 33,
   "metadata": {},
   "outputs": [
    {
     "data": {
      "text/plain": [
       "8.39782635654917e-06"
      ]
     },
     "execution_count": 33,
     "metadata": {},
     "output_type": "execute_result"
    }
   ],
   "source": [
    "max(df_asso_HLA_I.association_pvalue)"
   ]
  },
  {
   "cell_type": "code",
   "execution_count": 34,
   "metadata": {},
   "outputs": [
    {
     "data": {
      "text/plain": [
       "6.787789201340051e-67"
      ]
     },
     "execution_count": 34,
     "metadata": {},
     "output_type": "execute_result"
    }
   ],
   "source": [
    "min(df_asso_HLA_II.association_pvalue)"
   ]
  },
  {
   "cell_type": "code",
   "execution_count": 35,
   "metadata": {},
   "outputs": [
    {
     "data": {
      "text/plain": [
       "3.68171810511809e-90"
      ]
     },
     "execution_count": 35,
     "metadata": {},
     "output_type": "execute_result"
    }
   ],
   "source": [
    "min(df_asso_HLA_I.association_pvalue)"
   ]
  }
 ],
 "metadata": {
  "kernelspec": {
   "display_name": "Python 3 (ipykernel)",
   "language": "python",
   "name": "python3"
  },
  "language_info": {
   "codemirror_mode": {
    "name": "ipython",
    "version": 3
   },
   "file_extension": ".py",
   "mimetype": "text/x-python",
   "name": "python",
   "nbconvert_exporter": "python",
   "pygments_lexer": "ipython3",
   "version": "3.9.10"
  }
 },
 "nbformat": 4,
 "nbformat_minor": 5
}
