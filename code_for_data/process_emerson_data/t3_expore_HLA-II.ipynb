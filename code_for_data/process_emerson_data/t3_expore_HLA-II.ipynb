{
 "cells": [
  {
   "cell_type": "markdown",
   "metadata": {},
   "source": [
    "This notebook verifies the pseudo sequences from \n",
    "\n",
    "    ../../data/intermediate_data/pseudosequence_2016_all_X.dat\n",
    "\n",
    "for HLA-II pairs with the corresponding pseudo sequences reconstructed based on six \n",
    "\n",
    "    prot.alfas \n",
    "\n",
    "files. \n",
    "\n",
    "A summary of the procedures and the findings of this notebook is put in the file\n",
    "\n",
    "    t3_summary.md"
   ]
  },
  {
   "cell_type": "code",
   "execution_count": 2,
   "metadata": {},
   "outputs": [],
   "source": [
    "import numpy as np\n",
    "import pandas as pd\n",
    "\n",
    "from collections import defaultdict\n",
    "from collections import Counter\n",
    "\n",
    "import os\n",
    "import re"
   ]
  },
  {
   "cell_type": "code",
   "execution_count": 4,
   "metadata": {},
   "outputs": [
    {
     "data": {
      "text/plain": [
       "(5636, 2)"
      ]
     },
     "execution_count": 4,
     "metadata": {},
     "output_type": "execute_result"
    }
   ],
   "source": [
    "HLA_2_pseudo = pd.read_csv(\"../../data/intermediate_data/pseudosequence_2016_all_X.dat\", \n",
    "                           sep = \"\\t\", header = None)\n",
    "\n",
    "HLA_2_pseudo.shape"
   ]
  },
  {
   "cell_type": "code",
   "execution_count": 6,
   "metadata": {},
   "outputs": [
    {
     "data": {
      "text/html": [
       "<div>\n",
       "<style scoped>\n",
       "    .dataframe tbody tr th:only-of-type {\n",
       "        vertical-align: middle;\n",
       "    }\n",
       "\n",
       "    .dataframe tbody tr th {\n",
       "        vertical-align: top;\n",
       "    }\n",
       "\n",
       "    .dataframe thead th {\n",
       "        text-align: right;\n",
       "    }\n",
       "</style>\n",
       "<table border=\"1\" class=\"dataframe\">\n",
       "  <thead>\n",
       "    <tr style=\"text-align: right;\">\n",
       "      <th></th>\n",
       "      <th>HLA</th>\n",
       "      <th>seq</th>\n",
       "    </tr>\n",
       "  </thead>\n",
       "  <tbody>\n",
       "    <tr>\n",
       "      <th>0</th>\n",
       "      <td>DRB1_0101</td>\n",
       "      <td>QEFFIASGAAVDAIMWLFLECYDLQRATYHVGFT</td>\n",
       "    </tr>\n",
       "    <tr>\n",
       "      <th>1</th>\n",
       "      <td>DRB1_0102</td>\n",
       "      <td>QEFFIASGAAVDAIMWLFLECYDLQRATYHAVFT</td>\n",
       "    </tr>\n",
       "    <tr>\n",
       "      <th>2</th>\n",
       "      <td>DRB1_0103</td>\n",
       "      <td>QEFFIASGAAVDAIMWLFLECYDIDEATYHVGFT</td>\n",
       "    </tr>\n",
       "    <tr>\n",
       "      <th>3</th>\n",
       "      <td>DRB1_0104</td>\n",
       "      <td>QEFFIASGAAVDAIMWLFLECYDLQRANYHVVFT</td>\n",
       "    </tr>\n",
       "    <tr>\n",
       "      <th>4</th>\n",
       "      <td>DRB1_0105</td>\n",
       "      <td>QEFFIASGAAVDAIMWLFLECYDLQRATYHVGFT</td>\n",
       "    </tr>\n",
       "    <tr>\n",
       "      <th>5</th>\n",
       "      <td>DRB1_0106</td>\n",
       "      <td>QEFFIASGAAVDAIMWLFLECYDLQAATYHVVFT</td>\n",
       "    </tr>\n",
       "  </tbody>\n",
       "</table>\n",
       "</div>"
      ],
      "text/plain": [
       "         HLA                                 seq\n",
       "0  DRB1_0101  QEFFIASGAAVDAIMWLFLECYDLQRATYHVGFT\n",
       "1  DRB1_0102  QEFFIASGAAVDAIMWLFLECYDLQRATYHAVFT\n",
       "2  DRB1_0103  QEFFIASGAAVDAIMWLFLECYDIDEATYHVGFT\n",
       "3  DRB1_0104  QEFFIASGAAVDAIMWLFLECYDLQRANYHVVFT\n",
       "4  DRB1_0105  QEFFIASGAAVDAIMWLFLECYDLQRATYHVGFT\n",
       "5  DRB1_0106  QEFFIASGAAVDAIMWLFLECYDLQAATYHVVFT"
      ]
     },
     "execution_count": 6,
     "metadata": {},
     "output_type": "execute_result"
    }
   ],
   "source": [
    "HLA_2_pseudo.columns = [\"HLA\", \"seq\"]\n",
    "HLA_2_pseudo[:6]"
   ]
  },
  {
   "cell_type": "code",
   "execution_count": 7,
   "metadata": {},
   "outputs": [
    {
     "data": {
      "text/plain": [
       "Counter({34: 5636})"
      ]
     },
     "execution_count": 7,
     "metadata": {},
     "output_type": "execute_result"
    }
   ],
   "source": [
    "Counter([len(seq) for seq in HLA_2_pseudo.seq.tolist()])"
   ]
  },
  {
   "cell_type": "code",
   "execution_count": 8,
   "metadata": {},
   "outputs": [],
   "source": [
    "HLA_counter = Counter(HLA_2_pseudo.HLA)"
   ]
  },
  {
   "cell_type": "code",
   "execution_count": 9,
   "metadata": {},
   "outputs": [
    {
     "name": "stdout",
     "output_type": "stream",
     "text": [
      "HLA-DPA10103-DPB10601\n"
     ]
    }
   ],
   "source": [
    "for hla in list(HLA_counter.keys()):\n",
    "    if HLA_counter[hla] > 1:\n",
    "        print(hla)"
   ]
  },
  {
   "cell_type": "code",
   "execution_count": 10,
   "metadata": {},
   "outputs": [
    {
     "data": {
      "text/html": [
       "<div>\n",
       "<style scoped>\n",
       "    .dataframe tbody tr th:only-of-type {\n",
       "        vertical-align: middle;\n",
       "    }\n",
       "\n",
       "    .dataframe tbody tr th {\n",
       "        vertical-align: top;\n",
       "    }\n",
       "\n",
       "    .dataframe thead th {\n",
       "        text-align: right;\n",
       "    }\n",
       "</style>\n",
       "<table border=\"1\" class=\"dataframe\">\n",
       "  <thead>\n",
       "    <tr style=\"text-align: right;\">\n",
       "      <th></th>\n",
       "      <th>HLA</th>\n",
       "      <th>seq</th>\n",
       "    </tr>\n",
       "  </thead>\n",
       "  <tbody>\n",
       "    <tr>\n",
       "      <th>675</th>\n",
       "      <td>HLA-DPA10103-DPB10601</td>\n",
       "      <td>YAFFMFSGGAILNTLYLQFEYFDLEEVRMHLDVT</td>\n",
       "    </tr>\n",
       "    <tr>\n",
       "      <th>676</th>\n",
       "      <td>HLA-DPA10103-DPB10601</td>\n",
       "      <td>YAFFQFSGGAILNTLYLQFEYFDLEEVRMHLDVT</td>\n",
       "    </tr>\n",
       "  </tbody>\n",
       "</table>\n",
       "</div>"
      ],
      "text/plain": [
       "                       HLA                                 seq\n",
       "675  HLA-DPA10103-DPB10601  YAFFMFSGGAILNTLYLQFEYFDLEEVRMHLDVT\n",
       "676  HLA-DPA10103-DPB10601  YAFFQFSGGAILNTLYLQFEYFDLEEVRMHLDVT"
      ]
     },
     "execution_count": 10,
     "metadata": {},
     "output_type": "execute_result"
    }
   ],
   "source": [
    "# this one is the only duplicate in HLA and with difference sequences\n",
    "HLA_2_pseudo_dup = HLA_2_pseudo[HLA_2_pseudo.HLA == 'HLA-DPA10103-DPB10601']\n",
    "HLA_2_pseudo_dup"
   ]
  },
  {
   "cell_type": "code",
   "execution_count": 12,
   "metadata": {},
   "outputs": [
    {
     "data": {
      "text/plain": [
       "5635"
      ]
     },
     "execution_count": 12,
     "metadata": {},
     "output_type": "execute_result"
    }
   ],
   "source": [
    "HLA_2_set_list = list(set(HLA_2_pseudo.HLA))\n",
    "len(HLA_2_set_list)"
   ]
  },
  {
   "cell_type": "code",
   "execution_count": 32,
   "metadata": {},
   "outputs": [],
   "source": [
    "#HLA_2_set_list[-100:]"
   ]
  },
  {
   "cell_type": "code",
   "execution_count": 13,
   "metadata": {},
   "outputs": [],
   "source": [
    "# position resources: \n",
    "# paper: NetMHCIIpan-3.0, a common pan-specific MHC class II prediction method \n",
    "#        including all three human MHC class II isotypes, HLA-DR, HLA-DP and HLA-DQ\n",
    "pos_alpha = [9, 11, 22, 24, 31, 52, 53, 58, 59, 61, 65, 66, 68, 72, 73]\n",
    "pos_beta = [9, 11, 13, 26, 28, 30, 47, 57, 67, 70, 71, 74, 77, 78, 81, 85, 86, 89, 90]"
   ]
  },
  {
   "cell_type": "markdown",
   "metadata": {},
   "source": [
    "Load hla_features v1 names"
   ]
  },
  {
   "cell_type": "code",
   "execution_count": 3,
   "metadata": {},
   "outputs": [
    {
     "data": {
      "text/plain": [
       "0"
      ]
     },
     "execution_count": 3,
     "metadata": {},
     "output_type": "execute_result"
    }
   ],
   "source": [
    "cmd2 = \"cut -f1,2 -d ' ' ../../data/intermediate_data/DeWitt_2018/HLA_features.txt > ../../data/intermediate_data/DeWitt_2018/HLA_features_row_names.txt\"\n",
    "os.system(cmd2)"
   ]
  },
  {
   "cell_type": "code",
   "execution_count": 4,
   "metadata": {},
   "outputs": [
    {
     "data": {
      "text/html": [
       "<div>\n",
       "<style scoped>\n",
       "    .dataframe tbody tr th:only-of-type {\n",
       "        vertical-align: middle;\n",
       "    }\n",
       "\n",
       "    .dataframe tbody tr th {\n",
       "        vertical-align: top;\n",
       "    }\n",
       "\n",
       "    .dataframe thead th {\n",
       "        text-align: right;\n",
       "    }\n",
       "</style>\n",
       "<table border=\"1\" class=\"dataframe\">\n",
       "  <thead>\n",
       "    <tr style=\"text-align: right;\">\n",
       "      <th></th>\n",
       "      <th>feature</th>\n",
       "      <th>hla</th>\n",
       "    </tr>\n",
       "  </thead>\n",
       "  <tbody>\n",
       "    <tr>\n",
       "      <th>0</th>\n",
       "      <td>feature:</td>\n",
       "      <td>HLA-A*33:01</td>\n",
       "    </tr>\n",
       "    <tr>\n",
       "      <th>1</th>\n",
       "      <td>feature:</td>\n",
       "      <td>HLA-A*33:03</td>\n",
       "    </tr>\n",
       "    <tr>\n",
       "      <th>2</th>\n",
       "      <td>feature:</td>\n",
       "      <td>HLA-A*26:01</td>\n",
       "    </tr>\n",
       "    <tr>\n",
       "      <th>3</th>\n",
       "      <td>feature:</td>\n",
       "      <td>HLA-A*31:01</td>\n",
       "    </tr>\n",
       "    <tr>\n",
       "      <th>4</th>\n",
       "      <td>feature:</td>\n",
       "      <td>HLA-A*11:01</td>\n",
       "    </tr>\n",
       "    <tr>\n",
       "      <th>5</th>\n",
       "      <td>feature:</td>\n",
       "      <td>HLA-A*23:01</td>\n",
       "    </tr>\n",
       "  </tbody>\n",
       "</table>\n",
       "</div>"
      ],
      "text/plain": [
       "    feature          hla\n",
       "0  feature:  HLA-A*33:01\n",
       "1  feature:  HLA-A*33:03\n",
       "2  feature:  HLA-A*26:01\n",
       "3  feature:  HLA-A*31:01\n",
       "4  feature:  HLA-A*11:01\n",
       "5  feature:  HLA-A*23:01"
      ]
     },
     "execution_count": 4,
     "metadata": {},
     "output_type": "execute_result"
    }
   ],
   "source": [
    "HLA_features_row_names = pd.read_csv(\"../../data/intermediate_data/DeWitt_2018/HLA_features_row_names.txt\", \n",
    "                                     sep = \" \", header = None)\n",
    "HLA_features_row_names.columns = [\"feature\", \"hla\"]\n",
    "HLA_features_row_names[:6]"
   ]
  },
  {
   "cell_type": "code",
   "execution_count": 17,
   "metadata": {},
   "outputs": [
    {
     "data": {
      "text/plain": [
       "(173, 2)"
      ]
     },
     "execution_count": 17,
     "metadata": {},
     "output_type": "execute_result"
    }
   ],
   "source": [
    "HLA_features_row_names.shape"
   ]
  },
  {
   "cell_type": "code",
   "execution_count": 18,
   "metadata": {},
   "outputs": [
    {
     "data": {
      "text/html": [
       "<div>\n",
       "<style scoped>\n",
       "    .dataframe tbody tr th:only-of-type {\n",
       "        vertical-align: middle;\n",
       "    }\n",
       "\n",
       "    .dataframe tbody tr th {\n",
       "        vertical-align: top;\n",
       "    }\n",
       "\n",
       "    .dataframe thead th {\n",
       "        text-align: right;\n",
       "    }\n",
       "</style>\n",
       "<table border=\"1\" class=\"dataframe\">\n",
       "  <thead>\n",
       "    <tr style=\"text-align: right;\">\n",
       "      <th></th>\n",
       "      <th>feature</th>\n",
       "      <th>hla</th>\n",
       "    </tr>\n",
       "  </thead>\n",
       "  <tbody>\n",
       "    <tr>\n",
       "      <th>0</th>\n",
       "      <td>feature:</td>\n",
       "      <td>HLA-DPAB*02:01_04:01</td>\n",
       "    </tr>\n",
       "    <tr>\n",
       "      <th>1</th>\n",
       "      <td>feature:</td>\n",
       "      <td>HLA-DQAB*05:05_06:04</td>\n",
       "    </tr>\n",
       "    <tr>\n",
       "      <th>2</th>\n",
       "      <td>feature:</td>\n",
       "      <td>HLA-B*08:01</td>\n",
       "    </tr>\n",
       "    <tr>\n",
       "      <th>3</th>\n",
       "      <td>feature:</td>\n",
       "      <td>HLA-A*24:02</td>\n",
       "    </tr>\n",
       "    <tr>\n",
       "      <th>4</th>\n",
       "      <td>feature:</td>\n",
       "      <td>HLA-A*24:03</td>\n",
       "    </tr>\n",
       "    <tr>\n",
       "      <th>5</th>\n",
       "      <td>feature:</td>\n",
       "      <td>HLA-B*38:02</td>\n",
       "    </tr>\n",
       "  </tbody>\n",
       "</table>\n",
       "</div>"
      ],
      "text/plain": [
       "    feature                   hla\n",
       "0  feature:  HLA-DPAB*02:01_04:01\n",
       "1  feature:  HLA-DQAB*05:05_06:04\n",
       "2  feature:           HLA-B*08:01\n",
       "3  feature:           HLA-A*24:02\n",
       "4  feature:           HLA-A*24:03\n",
       "5  feature:           HLA-B*38:02"
      ]
     },
     "execution_count": 18,
     "metadata": {},
     "output_type": "execute_result"
    }
   ],
   "source": [
    "HLA_v2_features_row_names = pd.read_csv(\"../../data/intermediate_data/DeWitt_2018/HLA_v2_features_row_names.txt\", sep = \" \", header = None)\n",
    "HLA_v2_features_row_names.columns = [\"feature\", \"hla\"]\n",
    "HLA_v2_features_row_names[:6]"
   ]
  },
  {
   "cell_type": "code",
   "execution_count": 19,
   "metadata": {},
   "outputs": [
    {
     "data": {
      "text/plain": [
       "(215, 2)"
      ]
     },
     "execution_count": 19,
     "metadata": {},
     "output_type": "execute_result"
    }
   ],
   "source": [
    "HLA_v2_features_row_names.shape"
   ]
  },
  {
   "cell_type": "code",
   "execution_count": 188,
   "metadata": {},
   "outputs": [
    {
     "data": {
      "text/plain": [
       "Counter({'HLA-A*0': 6,\n",
       "         'HLA-A*1': 1,\n",
       "         'HLA-A*2': 7,\n",
       "         'HLA-A*3': 7,\n",
       "         'HLA-A*6': 3,\n",
       "         'HLA-B*0': 3,\n",
       "         'HLA-B*1': 9,\n",
       "         'HLA-B*2': 1,\n",
       "         'HLA-B*3': 9,\n",
       "         'HLA-B*4': 10,\n",
       "         'HLA-B*5': 8,\n",
       "         'HLA-C*0': 14,\n",
       "         'HLA-C*1': 7,\n",
       "         'HLA-DPA': 25,\n",
       "         'HLA-DQA': 67,\n",
       "         'HLA-DRB': 33,\n",
       "         'HLA-DRD': 5})"
      ]
     },
     "execution_count": 188,
     "metadata": {},
     "output_type": "execute_result"
    }
   ],
   "source": [
    "Counter([hla[:7] for hla in HLA_v2_features_row_names.hla.tolist()])"
   ]
  },
  {
   "cell_type": "code",
   "execution_count": 71,
   "metadata": {},
   "outputs": [
    {
     "data": {
      "text/plain": [
       "97"
      ]
     },
     "execution_count": 71,
     "metadata": {},
     "output_type": "execute_result"
    }
   ],
   "source": [
    "# list of allele names in v2 which are neither HLA-I nor HLA-DR\n",
    "list_extra_v2 = [hla for hla in HLA_v2_features_row_names.hla.tolist() if hla[:7] in [\"HLA-DPA\", \"HLA-DQA\", \"HLA-DRD\"]]\n",
    "\n",
    "len(list_extra_v2)"
   ]
  },
  {
   "cell_type": "code",
   "execution_count": 58,
   "metadata": {},
   "outputs": [
    {
     "data": {
      "text/plain": [
       "33"
      ]
     },
     "execution_count": 58,
     "metadata": {},
     "output_type": "execute_result"
    }
   ],
   "source": [
    "list_extra_v2_DRB = [hla for hla in HLA_v2_features_row_names.hla.tolist() if hla[:7] == 'HLA-DRB']\n",
    "\n",
    "len(list_extra_v2_DRB)"
   ]
  },
  {
   "cell_type": "markdown",
   "metadata": {},
   "source": [
    "Check whether the 97 combinations in \n",
    "\n",
    "    ../../data/intermediate_data/DeWitt_2018/HLA_v2_features \n",
    "\n",
    "have the corresponding pseudo sequence from \n",
    "\n",
    "    ../../data/intermediate_data/DeWitt_2018/pseudosequence_2016_all_X.dat\n",
    "\n",
    "as compared from \n",
    "\n",
    "    DPA1_prot.alfas\n",
    "    DPB1_prot.alfas\n",
    "    DQA1_prot.alfas\n",
    "    DQB1_prot.alfas\n",
    "    DRA_prot.alfas\n",
    "    DRB_prot.alfas \n",
    "\n",
    "Check the same thing for the 33 HLA-DRB. \n",
    "\n",
    "0. First check whether items related to HLA-II alleles in v2 have corresponding part in v1;\n",
    "\n",
    "1. Then verify the sequence alignment."
   ]
  },
  {
   "cell_type": "code",
   "execution_count": 36,
   "metadata": {},
   "outputs": [
    {
     "data": {
      "text/plain": [
       "87"
      ]
     },
     "execution_count": 36,
     "metadata": {},
     "output_type": "execute_result"
    }
   ],
   "source": [
    "# 1. First check whether items related to HLA-II alleles in v2 have corresponding part in v1\n",
    "# get the set of HLA-II alleles in v1\n",
    "HLA_v1_features_II = [hla for hla in HLA_features_row_names.hla.tolist() if hla[:5] == \"HLA-D\"]\n",
    "len(HLA_v1_features_II)"
   ]
  },
  {
   "cell_type": "code",
   "execution_count": 43,
   "metadata": {},
   "outputs": [
    {
     "data": {
      "text/plain": [
       "['HLA-DRB1*12:01',\n",
       " 'HLA-DRB1*12:02',\n",
       " 'HLA-DRB1*11:01',\n",
       " 'HLA-DRB1*11:03',\n",
       " 'HLA-DRB1*11:02',\n",
       " 'HLA-DRB1*11:04']"
      ]
     },
     "execution_count": 43,
     "metadata": {},
     "output_type": "execute_result"
    }
   ],
   "source": [
    "HLA_v1_features_II[:6]"
   ]
  },
  {
   "cell_type": "code",
   "execution_count": 34,
   "metadata": {},
   "outputs": [
    {
     "data": {
      "text/plain": [
       "['HLA-DPAB*02:01_04:01',\n",
       " 'HLA-DQAB*05:05_06:04',\n",
       " 'HLA-DPAB*02:01_04:02',\n",
       " 'HLA-DRDQ*10:01_01:05_05:01',\n",
       " 'HLA-DQAB*05:05_03:01',\n",
       " 'HLA-DQAB*05:05_03:02']"
      ]
     },
     "execution_count": 34,
     "metadata": {},
     "output_type": "execute_result"
    }
   ],
   "source": [
    "list_extra_v2[:6]"
   ]
  },
  {
   "cell_type": "code",
   "execution_count": 50,
   "metadata": {},
   "outputs": [],
   "source": [
    "# check whether all components in list_extra_v2 and list_extra_v2_DRB exist in v1 alleles\n",
    "components_PQR = set()\n",
    "\n",
    "for item in list_extra_v2:\n",
    "    if item[4:8] == \"DQAB\":\n",
    "        item_1 = \"HLA-DQA1\" + \"*\" + item[9:].split(\"_\")[0]\n",
    "        item_2 = \"HLA-DQB1\" + \"*\" + item[9:].split(\"_\")[1]\n",
    "        components_PQR.add(item_1)\n",
    "        components_PQR.add(item_2)\n",
    "    elif item[4:8] == \"DPAB\":\n",
    "        item_1 = \"HLA-DPA1\" + \"*\" + item[9:].split(\"_\")[0]\n",
    "        item_2 = \"HLA-DPB1\" + \"*\" + item[9:].split(\"_\")[1]\n",
    "        components_PQR.add(item_1)\n",
    "        components_PQR.add(item_2)\n",
    "    elif item[4:8] == \"DRDQ\":\n",
    "        item_1 = \"HLA-DRB1\" + \"*\" + item[9:].split(\"_\")[0]\n",
    "        item_2 = \"HLA-DQA1\" + \"*\" + item[9:].split(\"_\")[1]\n",
    "        item_3 = \"HLA-DQB1\" + \"*\" + item[9:].split(\"_\")[2]\n",
    "        components_PQR.add(item_1)\n",
    "        components_PQR.add(item_2)\n",
    "        components_PQR.add(item_3)\n",
    "    else:\n",
    "        print(\"error found, first eight letters exception\")\n",
    "        print(item)\n",
    "        break\n",
    "\n",
    "for item in list_extra_v2_DRB:\n",
    "    if item[4:8] == \"DRB1\":\n",
    "        item_1 = \"HLA-DRB1\" + \"*\" + item[9:]\n",
    "        components_PQR.add(item_1)\n",
    "    else:\n",
    "        print(\"error found, first eight letters exception\")\n",
    "        print(item)\n",
    "        break    "
   ]
  },
  {
   "cell_type": "code",
   "execution_count": 65,
   "metadata": {},
   "outputs": [
    {
     "data": {
      "text/plain": [
       "0"
      ]
     },
     "execution_count": 65,
     "metadata": {},
     "output_type": "execute_result"
    }
   ],
   "source": [
    "# here we verified that all the components of items related to HLA-II alleles in v2 exist in v1\n",
    "len(components_PQR)\n",
    "# 78\n",
    "len(components_PQR - set(HLA_v1_features_II))"
   ]
  },
  {
   "cell_type": "markdown",
   "metadata": {},
   "source": [
    " verify the sequence alignment"
   ]
  },
  {
   "cell_type": "code",
   "execution_count": 67,
   "metadata": {},
   "outputs": [],
   "source": [
    "# create a set of the items related to HLA-II alleles that we care about\n",
    "list_extra_v2_all = [hla for hla in HLA_v2_features_row_names.hla.tolist() if hla[:7] in [\"HLA-DPA\", \"HLA-DQA\", \"HLA-DRD\", \"HLA-DRB\"]]\n",
    "\n",
    "set(list_extra_v2_all) == set(list_extra_v2).union(set(list_extra_v2_DRB))\n",
    "\n",
    "list_extra_v2_5DRDQ = [item for item in list_extra_v2_all if len(item.split(\"_\")) > 2]\n",
    "list_extra_v2_5DRDQ\n",
    "\n",
    "list_extra_v2_5DRDQ_DRB = [\"HLA-DRB1*\" + item[9:].split(\"_\")[0] for item in list_extra_v2_5DRDQ]\n",
    "list_extra_v2_5DRDQ_DRB\n",
    "\n",
    "list_extra_v2_5DRDQ_DQAB = [\"HLA-DQAB*\" + \"_\".join(item[9:].split(\"_\")[1:]) for item in list_extra_v2_5DRDQ]\n",
    "list_extra_v2_5DRDQ_DQAB\n",
    "\n",
    "list_HLA_II_complete = list(set(list_extra_v2_all + list_extra_v2_5DRDQ_DRB + list_extra_v2_5DRDQ_DQAB) - set(list_extra_v2_5DRDQ))\n",
    "len(list_HLA_II_complete)\n",
    "# 135\n",
    "\n",
    "list_HLA_II_complete[:6]\n",
    "# now the list list_HLA_II_complete contains the 135 items related to HLA-II that we care about"
   ]
  },
  {
   "cell_type": "code",
   "execution_count": 96,
   "metadata": {},
   "outputs": [
    {
     "data": {
      "text/plain": [
       "Counter({'HLA-DPAB': 25, 'HLA-DQAB': 72, 'HLA-DRB1': 38})"
      ]
     },
     "execution_count": 96,
     "metadata": {},
     "output_type": "execute_result"
    }
   ],
   "source": [
    "Counter([item[:8] for item in list_HLA_II_complete])"
   ]
  },
  {
   "cell_type": "code",
   "execution_count": 203,
   "metadata": {},
   "outputs": [
    {
     "data": {
      "text/plain": [
       "Counter({'HLA-DPA1-DPB1': 2049, 'HLA-DQA1-DQB1': 2912})"
      ]
     },
     "execution_count": 203,
     "metadata": {},
     "output_type": "execute_result"
    }
   ],
   "source": [
    "# check whether those rows with hla name starting from 'HLA' are all either DP or DQ pairs\n",
    "# from the results we can see that rows correspond to DRBs do not start with 'HLA'\n",
    "HLA_2_pseudo['first_three'] = [hla[:3] for hla in HLA_2_pseudo.HLA.tolist()]\n",
    "HLA_2_pseudo_check_sub = HLA_2_pseudo[HLA_2_pseudo.first_three == 'HLA']\n",
    "HLA_2_pseudo_check_sub_begin = \\\n",
    " [\"-\".join([hla.split(\"-\")[0], hla.split(\"-\")[1][:4], hla.split(\"-\")[2][:4]]) for hla in HLA_2_pseudo_check_sub.HLA.tolist()]\n",
    "Counter(HLA_2_pseudo_check_sub_begin)"
   ]
  },
  {
   "cell_type": "code",
   "execution_count": 206,
   "metadata": {},
   "outputs": [
    {
     "data": {
      "text/html": [
       "<div>\n",
       "<style scoped>\n",
       "    .dataframe tbody tr th:only-of-type {\n",
       "        vertical-align: middle;\n",
       "    }\n",
       "\n",
       "    .dataframe tbody tr th {\n",
       "        vertical-align: top;\n",
       "    }\n",
       "\n",
       "    .dataframe thead th {\n",
       "        text-align: right;\n",
       "    }\n",
       "</style>\n",
       "<table border=\"1\" class=\"dataframe\">\n",
       "  <thead>\n",
       "    <tr style=\"text-align: right;\">\n",
       "      <th></th>\n",
       "      <th>HLA</th>\n",
       "      <th>seq</th>\n",
       "      <th>first_three</th>\n",
       "    </tr>\n",
       "  </thead>\n",
       "  <tbody>\n",
       "    <tr>\n",
       "      <th>0</th>\n",
       "      <td>DRB1_0101</td>\n",
       "      <td>QEFFIASGAAVDAIMWLFLECYDLQRATYHVGFT</td>\n",
       "      <td>DRB</td>\n",
       "    </tr>\n",
       "    <tr>\n",
       "      <th>1</th>\n",
       "      <td>DRB1_0102</td>\n",
       "      <td>QEFFIASGAAVDAIMWLFLECYDLQRATYHAVFT</td>\n",
       "      <td>DRB</td>\n",
       "    </tr>\n",
       "    <tr>\n",
       "      <th>2</th>\n",
       "      <td>DRB1_0103</td>\n",
       "      <td>QEFFIASGAAVDAIMWLFLECYDIDEATYHVGFT</td>\n",
       "      <td>DRB</td>\n",
       "    </tr>\n",
       "    <tr>\n",
       "      <th>3</th>\n",
       "      <td>DRB1_0104</td>\n",
       "      <td>QEFFIASGAAVDAIMWLFLECYDLQRANYHVVFT</td>\n",
       "      <td>DRB</td>\n",
       "    </tr>\n",
       "    <tr>\n",
       "      <th>4</th>\n",
       "      <td>DRB1_0105</td>\n",
       "      <td>QEFFIASGAAVDAIMWLFLECYDLQRATYHVGFT</td>\n",
       "      <td>DRB</td>\n",
       "    </tr>\n",
       "    <tr>\n",
       "      <th>5</th>\n",
       "      <td>DRB1_0106</td>\n",
       "      <td>QEFFIASGAAVDAIMWLFLECYDLQAATYHVVFT</td>\n",
       "      <td>DRB</td>\n",
       "    </tr>\n",
       "  </tbody>\n",
       "</table>\n",
       "</div>"
      ],
      "text/plain": [
       "         HLA                                 seq first_three\n",
       "0  DRB1_0101  QEFFIASGAAVDAIMWLFLECYDLQRATYHVGFT         DRB\n",
       "1  DRB1_0102  QEFFIASGAAVDAIMWLFLECYDLQRATYHAVFT         DRB\n",
       "2  DRB1_0103  QEFFIASGAAVDAIMWLFLECYDIDEATYHVGFT         DRB\n",
       "3  DRB1_0104  QEFFIASGAAVDAIMWLFLECYDLQRANYHVVFT         DRB\n",
       "4  DRB1_0105  QEFFIASGAAVDAIMWLFLECYDLQRATYHVGFT         DRB\n",
       "5  DRB1_0106  QEFFIASGAAVDAIMWLFLECYDLQAATYHVVFT         DRB"
      ]
     },
     "execution_count": 206,
     "metadata": {},
     "output_type": "execute_result"
    }
   ],
   "source": [
    "HLA_2_pseudo[:6]"
   ]
  },
  {
   "cell_type": "code",
   "execution_count": 207,
   "metadata": {},
   "outputs": [],
   "source": [
    "# see the format of the hla names for DRB\n",
    "HLA_2_pseudo_sub_DRB = HLA_2_pseudo[HLA_2_pseudo.first_three == 'DRB']\n",
    "#Counter(HLA_2_pseudo_sub_DRB.HLA)"
   ]
  },
  {
   "cell_type": "code",
   "execution_count": 543,
   "metadata": {},
   "outputs": [],
   "source": [
    "#list_HLA_II_complete"
   ]
  },
  {
   "cell_type": "code",
   "execution_count": 304,
   "metadata": {},
   "outputs": [],
   "source": [
    "# this first dictionary holds the corresponding two alleles of each HLA-II pair\n",
    "sep_hla_II_dict = defaultdict(list)\n",
    "# this second dictionary holds the translate of one HLA-II pair to the pseudo sequence in \"../data/pseudosequence_2016_all_X.dat\"\n",
    "trans_hla_II_dict = defaultdict(str)\n",
    "\n",
    "# separate the HLA-II pairs into two alleles each\n",
    "# translate them into the names in file \"../data/pseudosequence_2016_all_X.dat\"\n",
    "for item in list_HLA_II_complete:\n",
    "    if item[:8] == \"HLA-DQAB\":\n",
    "        item_1 = \"DQA1\" + \"*\" + item[9:].split(\"_\")[0]\n",
    "        item_2 = \"DQB1\" + \"*\" + item[9:].split(\"_\")[1]\n",
    "        sep_hla_II_dict[item] = [item_1, item_2]\n",
    "        trans_hla_II_dict[item] = \"HLA-\" + item_1.replace(\"*\", \"\").replace(\":\", \"\") + \"-\" + item_2.replace(\"*\", \"\").replace(\":\", \"\")\n",
    "    elif item[:8] == \"HLA-DPAB\":\n",
    "        item_1 = \"DPA1\" + \"*\" + item[9:].split(\"_\")[0]\n",
    "        item_2 = \"DPB1\" + \"*\" + item[9:].split(\"_\")[1]\n",
    "        sep_hla_II_dict[item] = [item_1, item_2]\n",
    "        trans_hla_II_dict[item] = \"HLA-\" + item_1.replace(\"*\", \"\").replace(\":\", \"\") + \"-\" + item_2.replace(\"*\", \"\").replace(\":\", \"\")\n",
    "    elif item[:8] == \"HLA-DRB1\":\n",
    "        item_1 = \"DRA\"\n",
    "        item_2 = \"DRB1\" + \"*\" + item[9:]\n",
    "        sep_hla_II_dict[item] = [item_1, item_2]\n",
    "        trans_hla_II_dict[item] = 'DRB1_' + item[9:].replace(\":\", \"\")\n",
    "    else:\n",
    "        print(\"error found, first eight letters exception\")\n",
    "        print(item)\n",
    "        break"
   ]
  },
  {
   "cell_type": "code",
   "execution_count": 305,
   "metadata": {},
   "outputs": [
    {
     "data": {
      "text/plain": [
       "135"
      ]
     },
     "execution_count": 305,
     "metadata": {},
     "output_type": "execute_result"
    }
   ],
   "source": [
    "len(sep_hla_II_dict)"
   ]
  },
  {
   "cell_type": "code",
   "execution_count": 306,
   "metadata": {},
   "outputs": [
    {
     "data": {
      "text/plain": [
       "135"
      ]
     },
     "execution_count": 306,
     "metadata": {},
     "output_type": "execute_result"
    }
   ],
   "source": [
    "len(trans_hla_II_dict)"
   ]
  },
  {
   "cell_type": "code",
   "execution_count": 126,
   "metadata": {},
   "outputs": [],
   "source": [
    "#trans_hla2_dict"
   ]
  },
  {
   "cell_type": "markdown",
   "metadata": {},
   "source": [
    "build pseudo sequence dictionary"
   ]
  },
  {
   "cell_type": "code",
   "execution_count": 307,
   "metadata": {},
   "outputs": [
    {
     "data": {
      "text/plain": [
       "False"
      ]
     },
     "execution_count": 307,
     "metadata": {},
     "output_type": "execute_result"
    }
   ],
   "source": [
    "# the duplicate does not show up in v2 as one combination, just assign the last seq to it when \n",
    "# constructing dictionary\n",
    "\"HLA-DPAB*01:03_06:01\" in list_HLA_II_complete"
   ]
  },
  {
   "cell_type": "code",
   "execution_count": 308,
   "metadata": {},
   "outputs": [
    {
     "data": {
      "text/plain": [
       "5635"
      ]
     },
     "execution_count": 308,
     "metadata": {},
     "output_type": "execute_result"
    }
   ],
   "source": [
    "HLA_2_pseudo_dict = defaultdict(str)\n",
    "\n",
    "for hla, seq in zip(HLA_2_pseudo.HLA.tolist(), HLA_2_pseudo.seq.tolist()):\n",
    "    HLA_2_pseudo_dict[hla] = seq\n",
    "\n",
    "len(HLA_2_pseudo_dict)"
   ]
  },
  {
   "cell_type": "markdown",
   "metadata": {},
   "source": [
    " load sequence info files"
   ]
  },
  {
   "cell_type": "markdown",
   "metadata": {},
   "source": [
    "Load DRA sequence"
   ]
  },
  {
   "cell_type": "code",
   "execution_count": 309,
   "metadata": {},
   "outputs": [
    {
     "data": {
      "text/plain": [
       "(14, 1)"
      ]
     },
     "execution_count": 309,
     "metadata": {},
     "output_type": "execute_result"
    }
   ],
   "source": [
    "DRA_prot = pd.read_csv(\"../../data/intermediate_data/DeWitt_2018/HLA_TCR_contact/DRA_prot.alfas\", \n",
    "                       sep = \" \", header = None)\n",
    "DRA_prot.shape"
   ]
  },
  {
   "cell_type": "code",
   "execution_count": 310,
   "metadata": {},
   "outputs": [
    {
     "data": {
      "text/plain": [
       "(7, 2)"
      ]
     },
     "execution_count": 310,
     "metadata": {},
     "output_type": "execute_result"
    }
   ],
   "source": [
    "name_ind = list(range(int(DRA_prot.shape[0]/2)))\n",
    "names = DRA_prot.loc[[2 * ind for ind in name_ind]]\n",
    "names = names.iloc[:, 0].tolist()\n",
    "names = [name.replace(\">\", \"\") for name in names]\n",
    "seqs = DRA_prot.loc[[2 * ind + 1 for ind in name_ind]]\n",
    "seqs = seqs.iloc[:, 0].tolist()\n",
    "\n",
    "DRA_seqs = pd.DataFrame(list(zip(names, seqs)), \n",
    "                            columns =['name', 'seq']) \n",
    "DRA_seqs.shape"
   ]
  },
  {
   "cell_type": "code",
   "execution_count": 340,
   "metadata": {},
   "outputs": [
    {
     "data": {
      "text/html": [
       "<div>\n",
       "<style scoped>\n",
       "    .dataframe tbody tr th:only-of-type {\n",
       "        vertical-align: middle;\n",
       "    }\n",
       "\n",
       "    .dataframe tbody tr th {\n",
       "        vertical-align: top;\n",
       "    }\n",
       "\n",
       "    .dataframe thead th {\n",
       "        text-align: right;\n",
       "    }\n",
       "</style>\n",
       "<table border=\"1\" class=\"dataframe\">\n",
       "  <thead>\n",
       "    <tr style=\"text-align: right;\">\n",
       "      <th></th>\n",
       "      <th>name</th>\n",
       "      <th>seq</th>\n",
       "    </tr>\n",
       "  </thead>\n",
       "  <tbody>\n",
       "    <tr>\n",
       "      <th>0</th>\n",
       "      <td>DRA*01:01:01:01</td>\n",
       "      <td>HVIIQ-AEFYLNPDQSGEFMFDFDGDEIFHVDMAKKETVWRLEEFG...</td>\n",
       "    </tr>\n",
       "    <tr>\n",
       "      <th>1</th>\n",
       "      <td>DRA*01:01:01:02</td>\n",
       "      <td>HVIIQ-AEFYLNPDQSGEFMFDFDGDEIFHVDMAKKETVWRLEEFG...</td>\n",
       "    </tr>\n",
       "    <tr>\n",
       "      <th>2</th>\n",
       "      <td>DRA*01:01:01:03</td>\n",
       "      <td>HVIIQ-AEFYLNPDQSGEFMFDFDGDEIFHVDMAKKETVWRLEEFG...</td>\n",
       "    </tr>\n",
       "    <tr>\n",
       "      <th>3</th>\n",
       "      <td>DRA*01:01:02</td>\n",
       "      <td>HVIIQ-AEFYLNPDQSGEFMFDFDGDEIFHVDMAKKETVWRLEEFG...</td>\n",
       "    </tr>\n",
       "    <tr>\n",
       "      <th>4</th>\n",
       "      <td>DRA*01:02:01</td>\n",
       "      <td>HVIIQ-AEFYLNPDQSGEFMFDFDGDEIFHVDMAKKETVWRLEEFG...</td>\n",
       "    </tr>\n",
       "    <tr>\n",
       "      <th>5</th>\n",
       "      <td>DRA*01:02:02</td>\n",
       "      <td>HVIIQ-AEFYLNPDQSGEFMFDFDGDEIFHVDMAKKETVWRLEEFG...</td>\n",
       "    </tr>\n",
       "    <tr>\n",
       "      <th>6</th>\n",
       "      <td>DRA*01:02:03</td>\n",
       "      <td>HVIIQ-AEFYLNPDQSGEFMFDFDGDEIFHVDMAKKETVWRLEEFG...</td>\n",
       "    </tr>\n",
       "  </tbody>\n",
       "</table>\n",
       "</div>"
      ],
      "text/plain": [
       "              name                                                seq\n",
       "0  DRA*01:01:01:01  HVIIQ-AEFYLNPDQSGEFMFDFDGDEIFHVDMAKKETVWRLEEFG...\n",
       "1  DRA*01:01:01:02  HVIIQ-AEFYLNPDQSGEFMFDFDGDEIFHVDMAKKETVWRLEEFG...\n",
       "2  DRA*01:01:01:03  HVIIQ-AEFYLNPDQSGEFMFDFDGDEIFHVDMAKKETVWRLEEFG...\n",
       "3     DRA*01:01:02  HVIIQ-AEFYLNPDQSGEFMFDFDGDEIFHVDMAKKETVWRLEEFG...\n",
       "4     DRA*01:02:01  HVIIQ-AEFYLNPDQSGEFMFDFDGDEIFHVDMAKKETVWRLEEFG...\n",
       "5     DRA*01:02:02  HVIIQ-AEFYLNPDQSGEFMFDFDGDEIFHVDMAKKETVWRLEEFG...\n",
       "6     DRA*01:02:03  HVIIQ-AEFYLNPDQSGEFMFDFDGDEIFHVDMAKKETVWRLEEFG..."
      ]
     },
     "execution_count": 340,
     "metadata": {},
     "output_type": "execute_result"
    }
   ],
   "source": [
    "DRA_seqs"
   ]
  },
  {
   "cell_type": "code",
   "execution_count": 302,
   "metadata": {},
   "outputs": [
    {
     "data": {
      "text/plain": [
       "'HVIIQ-AEFYLNPDQSGEFMFDFDGDEIFHVDMAKKETVWRLEEFGRFASFEAQGALANIAVDKANLEIMTKRSN'"
      ]
     },
     "execution_count": 302,
     "metadata": {},
     "output_type": "execute_result"
    }
   ],
   "source": [
    "# 31 (0-indexed) <--> 35 (1-indexed)\n",
    "DRA_seq_unique = list(set(DRA_seqs.seq.tolist()))[0]\n",
    "DRA_seq_unique"
   ]
  },
  {
   "cell_type": "markdown",
   "metadata": {},
   "source": [
    "Load DRB sequences"
   ]
  },
  {
   "cell_type": "code",
   "execution_count": 311,
   "metadata": {},
   "outputs": [
    {
     "data": {
      "text/plain": [
       "(4476, 1)"
      ]
     },
     "execution_count": 311,
     "metadata": {},
     "output_type": "execute_result"
    }
   ],
   "source": [
    "DRB_prot = pd.read_csv(\"../../data/intermediate_data/DeWitt_2018/HLA_TCR_contact/DRB_prot.alfas\", \n",
    "                       sep = \" \", header = None)\n",
    "DRB_prot.shape"
   ]
  },
  {
   "cell_type": "code",
   "execution_count": 312,
   "metadata": {},
   "outputs": [
    {
     "data": {
      "text/plain": [
       "(2238, 2)"
      ]
     },
     "execution_count": 312,
     "metadata": {},
     "output_type": "execute_result"
    }
   ],
   "source": [
    "name_ind = list(range(int(DRB_prot.shape[0]/2)))\n",
    "names = DRB_prot.loc[[2 * ind for ind in name_ind]]\n",
    "names = names.iloc[:, 0].tolist()\n",
    "names = [name.replace(\">\", \"\") for name in names]\n",
    "seqs = DRB_prot.loc[[2 * ind + 1 for ind in name_ind]]\n",
    "seqs = seqs.iloc[:, 0].tolist()\n",
    "\n",
    "DRB_seqs = pd.DataFrame(list(zip(names, seqs)), \n",
    "                            columns =['name', 'seq']) \n",
    "DRB_seqs.shape"
   ]
  },
  {
   "cell_type": "code",
   "execution_count": 154,
   "metadata": {},
   "outputs": [
    {
     "data": {
      "text/html": [
       "<div>\n",
       "<style scoped>\n",
       "    .dataframe tbody tr th:only-of-type {\n",
       "        vertical-align: middle;\n",
       "    }\n",
       "\n",
       "    .dataframe tbody tr th {\n",
       "        vertical-align: top;\n",
       "    }\n",
       "\n",
       "    .dataframe thead th {\n",
       "        text-align: right;\n",
       "    }\n",
       "</style>\n",
       "<table border=\"1\" class=\"dataframe\">\n",
       "  <thead>\n",
       "    <tr style=\"text-align: right;\">\n",
       "      <th></th>\n",
       "      <th>name</th>\n",
       "      <th>seq</th>\n",
       "    </tr>\n",
       "  </thead>\n",
       "  <tbody>\n",
       "    <tr>\n",
       "      <th>0</th>\n",
       "      <td>DRB1*01:01:01</td>\n",
       "      <td>FLWQLKFECHFFNGTERVRLLERCIYNQEESVRFDSDVGEYRAVTE...</td>\n",
       "    </tr>\n",
       "    <tr>\n",
       "      <th>1</th>\n",
       "      <td>DRB1*01:01:02</td>\n",
       "      <td>FLWQLKFECHFFNGTERVRLLERCIYNQEESVRFDSDVGEYRAVTE...</td>\n",
       "    </tr>\n",
       "    <tr>\n",
       "      <th>2</th>\n",
       "      <td>DRB1*01:01:03</td>\n",
       "      <td>FLWQLKFECHFFNGTERVRLLERCIYNQEESVRFDSDVGEYRAVTE...</td>\n",
       "    </tr>\n",
       "    <tr>\n",
       "      <th>3</th>\n",
       "      <td>DRB1*01:01:04</td>\n",
       "      <td>FLWQLKFECHFFNGTERVRLLERCIYNQEESVRFDSDVGEYRAVTE...</td>\n",
       "    </tr>\n",
       "    <tr>\n",
       "      <th>4</th>\n",
       "      <td>DRB1*01:01:05</td>\n",
       "      <td>FLWQLKFECHFFNGTERVRLLERCIYNQEESVRFDSDVGEYRAVTE...</td>\n",
       "    </tr>\n",
       "    <tr>\n",
       "      <th>5</th>\n",
       "      <td>DRB1*01:01:06</td>\n",
       "      <td>FLWQLKFECHFFNGTERVRLLERCIYNQEESVRFDSDVGEYRAVTE...</td>\n",
       "    </tr>\n",
       "  </tbody>\n",
       "</table>\n",
       "</div>"
      ],
      "text/plain": [
       "            name                                                seq\n",
       "0  DRB1*01:01:01  FLWQLKFECHFFNGTERVRLLERCIYNQEESVRFDSDVGEYRAVTE...\n",
       "1  DRB1*01:01:02  FLWQLKFECHFFNGTERVRLLERCIYNQEESVRFDSDVGEYRAVTE...\n",
       "2  DRB1*01:01:03  FLWQLKFECHFFNGTERVRLLERCIYNQEESVRFDSDVGEYRAVTE...\n",
       "3  DRB1*01:01:04  FLWQLKFECHFFNGTERVRLLERCIYNQEESVRFDSDVGEYRAVTE...\n",
       "4  DRB1*01:01:05  FLWQLKFECHFFNGTERVRLLERCIYNQEESVRFDSDVGEYRAVTE...\n",
       "5  DRB1*01:01:06  FLWQLKFECHFFNGTERVRLLERCIYNQEESVRFDSDVGEYRAVTE..."
      ]
     },
     "execution_count": 154,
     "metadata": {},
     "output_type": "execute_result"
    }
   ],
   "source": [
    "DRB_seqs[:6]"
   ]
  },
  {
   "cell_type": "code",
   "execution_count": 341,
   "metadata": {},
   "outputs": [
    {
     "data": {
      "text/plain": [
       "name     2238\n",
       "seq      1641\n",
       "short    1709\n",
       "dtype: int64"
      ]
     },
     "execution_count": 341,
     "metadata": {},
     "output_type": "execute_result"
    }
   ],
   "source": [
    "DRB_seqs.nunique()"
   ]
  },
  {
   "cell_type": "code",
   "execution_count": 313,
   "metadata": {},
   "outputs": [],
   "source": [
    "DRB_seqs['short'] = [\":\".join(name.split(\":\")[:2]) for name in DRB_seqs.name.tolist()]"
   ]
  },
  {
   "cell_type": "code",
   "execution_count": 314,
   "metadata": {},
   "outputs": [
    {
     "data": {
      "text/plain": [
       "1709"
      ]
     },
     "execution_count": 314,
     "metadata": {},
     "output_type": "execute_result"
    }
   ],
   "source": [
    "DRB_seq_dict = defaultdict(set)\n",
    "for short, seq in zip(DRB_seqs.short.tolist(), DRB_seqs.seq.tolist()):\n",
    "    DRB_seq_dict[short].add(seq)\n",
    "\n",
    "len(DRB_seq_dict)"
   ]
  },
  {
   "cell_type": "code",
   "execution_count": 342,
   "metadata": {},
   "outputs": [
    {
     "data": {
      "text/plain": [
       "Counter({1: 1697, 2: 11, 3: 1})"
      ]
     },
     "execution_count": 342,
     "metadata": {},
     "output_type": "execute_result"
    }
   ],
   "source": [
    "Counter([len(value) for value in DRB_seq_dict.values()])"
   ]
  },
  {
   "cell_type": "markdown",
   "metadata": {},
   "source": [
    "Load DPA1 sequences"
   ]
  },
  {
   "cell_type": "code",
   "execution_count": 315,
   "metadata": {},
   "outputs": [
    {
     "data": {
      "text/plain": [
       "(106, 1)"
      ]
     },
     "execution_count": 315,
     "metadata": {},
     "output_type": "execute_result"
    }
   ],
   "source": [
    "DPA1_prot = pd.read_csv(\"../../data/intermediate_data/DeWitt_2018/HLA_TCR_contact/DPA1_prot.alfas\", \n",
    "                        sep = \" \", header = None)\n",
    "DPA1_prot.shape"
   ]
  },
  {
   "cell_type": "code",
   "execution_count": 316,
   "metadata": {},
   "outputs": [
    {
     "data": {
      "text/plain": [
       "(53, 2)"
      ]
     },
     "execution_count": 316,
     "metadata": {},
     "output_type": "execute_result"
    }
   ],
   "source": [
    "name_ind = list(range(int(DPA1_prot.shape[0]/2)))\n",
    "names = DPA1_prot.loc[[2 * ind for ind in name_ind]]\n",
    "names = names.iloc[:, 0].tolist()\n",
    "names = [name.replace(\">\", \"\") for name in names]\n",
    "seqs = DPA1_prot.loc[[2 * ind + 1 for ind in name_ind]]\n",
    "seqs = seqs.iloc[:, 0].tolist()\n",
    "\n",
    "DPA1_seqs = pd.DataFrame(list(zip(names, seqs)), \n",
    "                            columns =['name', 'seq']) \n",
    "DPA1_seqs.shape"
   ]
  },
  {
   "cell_type": "code",
   "execution_count": 317,
   "metadata": {},
   "outputs": [],
   "source": [
    "DPA1_seqs['short'] = [\":\".join(name.split(\":\")[:2]) for name in DPA1_seqs.name.tolist()]"
   ]
  },
  {
   "cell_type": "code",
   "execution_count": 318,
   "metadata": {},
   "outputs": [
    {
     "data": {
      "text/plain": [
       "24"
      ]
     },
     "execution_count": 318,
     "metadata": {},
     "output_type": "execute_result"
    }
   ],
   "source": [
    "DPA1_seq_dict = defaultdict(set)\n",
    "for short, seq in zip(DPA1_seqs.short.tolist(), DPA1_seqs.seq.tolist()):\n",
    "    DPA1_seq_dict[short].add(seq)\n",
    "\n",
    "len(DPA1_seq_dict)"
   ]
  },
  {
   "cell_type": "markdown",
   "metadata": {},
   "source": [
    "Load DPB1 sequences"
   ]
  },
  {
   "cell_type": "code",
   "execution_count": 319,
   "metadata": {},
   "outputs": [
    {
     "data": {
      "text/plain": [
       "(1746, 1)"
      ]
     },
     "execution_count": 319,
     "metadata": {},
     "output_type": "execute_result"
    }
   ],
   "source": [
    "DPB1_prot = pd.read_csv(\"../../data/intermediate_data/DeWitt_2018/HLA_TCR_contact/DPB1_prot.alfas\", \n",
    "                        sep = \" \", header = None)\n",
    "DPB1_prot.shape"
   ]
  },
  {
   "cell_type": "code",
   "execution_count": 320,
   "metadata": {},
   "outputs": [
    {
     "data": {
      "text/plain": [
       "(873, 2)"
      ]
     },
     "execution_count": 320,
     "metadata": {},
     "output_type": "execute_result"
    }
   ],
   "source": [
    "name_ind = list(range(int(DPB1_prot.shape[0]/2)))\n",
    "names = DPB1_prot.loc[[2 * ind for ind in name_ind]]\n",
    "names = names.iloc[:, 0].tolist()\n",
    "names = [name.replace(\">\", \"\") for name in names]\n",
    "seqs = DPB1_prot.loc[[2 * ind + 1 for ind in name_ind]]\n",
    "seqs = seqs.iloc[:, 0].tolist()\n",
    "\n",
    "DPB1_seqs = pd.DataFrame(list(zip(names, seqs)), \n",
    "                            columns =['name', 'seq']) \n",
    "DPB1_seqs.shape"
   ]
  },
  {
   "cell_type": "code",
   "execution_count": 321,
   "metadata": {},
   "outputs": [],
   "source": [
    "DPB1_seqs['short'] = [\":\".join(name.split(\":\")[:2]) for name in DPB1_seqs.name.tolist()]"
   ]
  },
  {
   "cell_type": "code",
   "execution_count": 322,
   "metadata": {},
   "outputs": [
    {
     "data": {
      "text/plain": [
       "641"
      ]
     },
     "execution_count": 322,
     "metadata": {},
     "output_type": "execute_result"
    }
   ],
   "source": [
    "DPB1_seq_dict = defaultdict(set)\n",
    "for short, seq in zip(DPB1_seqs.short.tolist(), DPB1_seqs.seq.tolist()):\n",
    "    DPB1_seq_dict[short].add(seq)\n",
    "\n",
    "len(DPB1_seq_dict)"
   ]
  },
  {
   "cell_type": "markdown",
   "metadata": {},
   "source": [
    "Load DQA1 sequences"
   ]
  },
  {
   "cell_type": "code",
   "execution_count": 323,
   "metadata": {},
   "outputs": [
    {
     "data": {
      "text/plain": [
       "(182, 1)"
      ]
     },
     "execution_count": 323,
     "metadata": {},
     "output_type": "execute_result"
    }
   ],
   "source": [
    "DQA1_prot = pd.read_csv(\"../../data/intermediate_data/DeWitt_2018/HLA_TCR_contact/DQA1_prot.alfas\", \n",
    "                        sep = \" \", header = None)\n",
    "DQA1_prot.shape"
   ]
  },
  {
   "cell_type": "code",
   "execution_count": 324,
   "metadata": {},
   "outputs": [
    {
     "data": {
      "text/plain": [
       "(91, 2)"
      ]
     },
     "execution_count": 324,
     "metadata": {},
     "output_type": "execute_result"
    }
   ],
   "source": [
    "name_ind = list(range(int(DQA1_prot.shape[0]/2)))\n",
    "names = DQA1_prot.loc[[2 * ind for ind in name_ind]]\n",
    "names = names.iloc[:, 0].tolist()\n",
    "names = [name.replace(\">\", \"\") for name in names]\n",
    "seqs = DQA1_prot.loc[[2 * ind + 1 for ind in name_ind]]\n",
    "seqs = seqs.iloc[:, 0].tolist()\n",
    "\n",
    "DQA1_seqs = pd.DataFrame(list(zip(names, seqs)), \n",
    "                            columns =['name', 'seq']) \n",
    "DQA1_seqs.shape"
   ]
  },
  {
   "cell_type": "code",
   "execution_count": 325,
   "metadata": {},
   "outputs": [],
   "source": [
    "DQA1_seqs['short'] = [\":\".join(name.split(\":\")[:2]) for name in DQA1_seqs.name.tolist()]"
   ]
  },
  {
   "cell_type": "code",
   "execution_count": 326,
   "metadata": {},
   "outputs": [
    {
     "data": {
      "text/plain": [
       "35"
      ]
     },
     "execution_count": 326,
     "metadata": {},
     "output_type": "execute_result"
    }
   ],
   "source": [
    "DQA1_seq_dict = defaultdict(set)\n",
    "for short, seq in zip(DQA1_seqs.short.tolist(), DQA1_seqs.seq.tolist()):\n",
    "    DQA1_seq_dict[short].add(seq)\n",
    "\n",
    "len(DQA1_seq_dict)"
   ]
  },
  {
   "cell_type": "markdown",
   "metadata": {},
   "source": [
    "Load DQB1 sequences"
   ]
  },
  {
   "cell_type": "code",
   "execution_count": 327,
   "metadata": {},
   "outputs": [
    {
     "data": {
      "text/plain": [
       "(2090, 1)"
      ]
     },
     "execution_count": 327,
     "metadata": {},
     "output_type": "execute_result"
    }
   ],
   "source": [
    "DQB1_prot = pd.read_csv(\"../../data/intermediate_data/DeWitt_2018/HLA_TCR_contact/DQB1_prot.alfas\", \n",
    "                        sep = \" \", header = None)\n",
    "DQB1_prot.shape"
   ]
  },
  {
   "cell_type": "code",
   "execution_count": 328,
   "metadata": {},
   "outputs": [
    {
     "data": {
      "text/plain": [
       "(1045, 2)"
      ]
     },
     "execution_count": 328,
     "metadata": {},
     "output_type": "execute_result"
    }
   ],
   "source": [
    "name_ind = list(range(int(DQB1_prot.shape[0]/2)))\n",
    "names = DQB1_prot.loc[[2 * ind for ind in name_ind]]\n",
    "names = names.iloc[:, 0].tolist()\n",
    "names = [name.replace(\">\", \"\") for name in names]\n",
    "seqs = DQB1_prot.loc[[2 * ind + 1 for ind in name_ind]]\n",
    "seqs = seqs.iloc[:, 0].tolist()\n",
    "\n",
    "DQB1_seqs = pd.DataFrame(list(zip(names, seqs)), \n",
    "                            columns =['name', 'seq']) \n",
    "DQB1_seqs.shape"
   ]
  },
  {
   "cell_type": "code",
   "execution_count": 329,
   "metadata": {},
   "outputs": [],
   "source": [
    "DQB1_seqs['short'] = [\":\".join(name.split(\":\")[:2]) for name in DQB1_seqs.name.tolist()]"
   ]
  },
  {
   "cell_type": "code",
   "execution_count": 330,
   "metadata": {},
   "outputs": [
    {
     "data": {
      "text/plain": [
       "748"
      ]
     },
     "execution_count": 330,
     "metadata": {},
     "output_type": "execute_result"
    }
   ],
   "source": [
    "DQB1_seq_dict = defaultdict(set)\n",
    "for short, seq in zip(DQB1_seqs.short.tolist(), DQB1_seqs.seq.tolist()):\n",
    "    DQB1_seq_dict[short].add(seq)\n",
    "\n",
    "len(DQB1_seq_dict)"
   ]
  },
  {
   "cell_type": "markdown",
   "metadata": {},
   "source": [
    "First, try finding the alignment starting position based on matching DRA sequence from \n",
    "\n",
    "    DRA_prot.alfas \n",
    "\n",
    "and that from NetMHCIIpan-3.0 paper."
   ]
  },
  {
   "cell_type": "code",
   "execution_count": 221,
   "metadata": {},
   "outputs": [
    {
     "data": {
      "text/plain": [
       "'HVIIQ-AEFYLNPDQSGEFMFDFDGDEIFHVDMAKKETVWRLEEFGRFASFEAQGALANIAVDKANLEIMTKRSN'"
      ]
     },
     "execution_count": 221,
     "metadata": {},
     "output_type": "execute_result"
    }
   ],
   "source": [
    "DRA_seq_unique"
   ]
  },
  {
   "cell_type": "code",
   "execution_count": null,
   "metadata": {},
   "outputs": [],
   "source": [
    "'DMAKKETVWRLEEFGRFASFEAQGALANIAVDKANLEIMTKRSNYTPITNVPPEVTVLTN'"
   ]
  },
  {
   "cell_type": "code",
   "execution_count": 225,
   "metadata": {},
   "outputs": [
    {
     "data": {
      "text/plain": [
       "'DMAKKETVWRLEEFGRFASFEAQGALANIAVDKANLEIMTKRSN'"
      ]
     },
     "execution_count": 225,
     "metadata": {},
     "output_type": "execute_result"
    }
   ],
   "source": [
    "# 31 (0-indexed) <--> 35 (1-indexed)\n",
    "DRA_seq_unique[31:]"
   ]
  },
  {
   "cell_type": "code",
   "execution_count": 227,
   "metadata": {},
   "outputs": [
    {
     "data": {
      "text/plain": [
       "'-EFFIASGAAVDAIM'"
      ]
     },
     "execution_count": 227,
     "metadata": {},
     "output_type": "execute_result"
    }
   ],
   "source": [
    "\"\".join([DRA_seq_unique[ind-4] for ind in pos_alpha])"
   ]
  },
  {
   "cell_type": "code",
   "execution_count": 231,
   "metadata": {},
   "outputs": [
    {
     "data": {
      "text/plain": [
       "True"
      ]
     },
     "execution_count": 231,
     "metadata": {},
     "output_type": "execute_result"
    }
   ],
   "source": [
    "'QEFFIASGAAVDAIMWLFLECYDLQRATYHVGFT'[:15] == 'QEFFIASGAAVDAIM'"
   ]
  },
  {
   "cell_type": "markdown",
   "metadata": {},
   "source": [
    "try finding the alignment starting position based on matching DRB sequence from \n",
    "\n",
    "    DRB_prot.alfas \n",
    "\n",
    "and that from \n",
    "\n",
    "    ../data/pseudosequence_2016_all_X.dat"
   ]
  },
  {
   "cell_type": "code",
   "execution_count": 233,
   "metadata": {},
   "outputs": [
    {
     "data": {
      "text/plain": [
       "['DRA', 'DRB1*01:01']"
      ]
     },
     "execution_count": 233,
     "metadata": {},
     "output_type": "execute_result"
    }
   ],
   "source": [
    "sep_hla_II_dict['HLA-DRB1*01:01']"
   ]
  },
  {
   "cell_type": "code",
   "execution_count": 244,
   "metadata": {},
   "outputs": [],
   "source": [
    "test_DRB_seq = list(DRB_seq_dict['DRB1*01:01'])[0]"
   ]
  },
  {
   "cell_type": "code",
   "execution_count": 245,
   "metadata": {},
   "outputs": [
    {
     "data": {
      "text/plain": [
       "'FLWQLKFECHFFNGTERVRLLERCIYNQEESVRFDSDVGEYRAVTELGRPDAEYWNSQKDLLEQRRAAVDTYCRHNYGVGESFTV'"
      ]
     },
     "execution_count": 245,
     "metadata": {},
     "output_type": "execute_result"
    }
   ],
   "source": [
    "test_DRB_seq"
   ]
  },
  {
   "cell_type": "code",
   "execution_count": 240,
   "metadata": {},
   "outputs": [
    {
     "data": {
      "text/plain": [
       "[9, 11, 13, 26, 28, 30, 47, 57, 67, 70, 71, 74, 77, 78, 81, 85, 86, 89, 90]"
      ]
     },
     "execution_count": 240,
     "metadata": {},
     "output_type": "execute_result"
    }
   ],
   "source": [
    "pos_beta"
   ]
  },
  {
   "cell_type": "code",
   "execution_count": 241,
   "metadata": {},
   "outputs": [
    {
     "data": {
      "text/plain": [
       "'DRB1_0101'"
      ]
     },
     "execution_count": 241,
     "metadata": {},
     "output_type": "execute_result"
    }
   ],
   "source": [
    "trans_hla_II_dict['HLA-DRB1*01:01']"
   ]
  },
  {
   "cell_type": "code",
   "execution_count": 242,
   "metadata": {},
   "outputs": [
    {
     "data": {
      "text/plain": [
       "'WLFLECYDLQRATYHVGFT'"
      ]
     },
     "execution_count": 242,
     "metadata": {},
     "output_type": "execute_result"
    }
   ],
   "source": [
    "'QEFFIASGAAVDAIMWLFLECYDLQRATYHVGFT'[15:]"
   ]
  },
  {
   "cell_type": "code",
   "execution_count": 247,
   "metadata": {},
   "outputs": [
    {
     "data": {
      "text/plain": [
       "True"
      ]
     },
     "execution_count": 247,
     "metadata": {},
     "output_type": "execute_result"
    }
   ],
   "source": [
    "# 2 (0-indexed) <--> 9 (1-indexed)\n",
    "''.join([test_DRB_seq[ind-7] for ind in pos_beta]) == 'QEFFIASGAAVDAIMWLFLECYDLQRATYHVGFT'[15:]\n"
   ]
  },
  {
   "cell_type": "code",
   "execution_count": 334,
   "metadata": {},
   "outputs": [
    {
     "data": {
      "text/plain": [
       "Counter({1: 1697, 2: 11, 3: 1})"
      ]
     },
     "execution_count": 334,
     "metadata": {},
     "output_type": "execute_result"
    }
   ],
   "source": [
    "Counter([len(value) for value in list(DRB_seq_dict.values())])"
   ]
  },
  {
   "cell_type": "code",
   "execution_count": 336,
   "metadata": {},
   "outputs": [],
   "source": [
    "#[value for value in list(DRB_seq_dict.values()) if len(value) > 1]"
   ]
  },
  {
   "cell_type": "markdown",
   "metadata": {},
   "source": [
    "trying finding the alignment position for DPA\n",
    "\n",
    "based on \n",
    "\n",
    "    DPA_prot.alfas \n",
    "\n",
    "and \n",
    "\n",
    "    ../data/pseudosequence_2016_all_X.dat"
   ]
  },
  {
   "cell_type": "code",
   "execution_count": 256,
   "metadata": {},
   "outputs": [
    {
     "data": {
      "text/plain": [
       "['DPA1*01:03', 'DPB1*01:01']"
      ]
     },
     "execution_count": 256,
     "metadata": {},
     "output_type": "execute_result"
    }
   ],
   "source": [
    "sep_hla_II_dict['HLA-DPAB*01:03_01:01']"
   ]
  },
  {
   "cell_type": "code",
   "execution_count": 257,
   "metadata": {},
   "outputs": [
    {
     "data": {
      "text/plain": [
       "'HLA-DPA10103-DPB10101'"
      ]
     },
     "execution_count": 257,
     "metadata": {},
     "output_type": "execute_result"
    }
   ],
   "source": [
    "trans_hla_II_dict['HLA-DPAB*01:03_01:01']"
   ]
  },
  {
   "cell_type": "code",
   "execution_count": 265,
   "metadata": {},
   "outputs": [
    {
     "data": {
      "text/plain": [
       "True"
      ]
     },
     "execution_count": 265,
     "metadata": {},
     "output_type": "execute_result"
    }
   ],
   "source": [
    "HLA_2_pseudo_dict['HLA-DPA10103-DPB10101'][:15] == 'YAFFMFSGGAILNTL'"
   ]
  },
  {
   "cell_type": "code",
   "execution_count": 263,
   "metadata": {},
   "outputs": [
    {
     "data": {
      "text/plain": [
       "{'HVSTY-AAFVQTHRPTGEFMFEFDEDEMFYVDLDKKETVWHLEEFGQAFSFEAQGGLANIAILNNNLNTLIQRSN',\n",
       " 'XXXXX-XAFVQTHRPTGEFMFEFDEDEMFYVDLDKKETVWHLEEFGQAFSFEAQGGLANIAILNNNLNTLIQRSN'}"
      ]
     },
     "execution_count": 263,
     "metadata": {},
     "output_type": "execute_result"
    }
   ],
   "source": [
    "DPA1_seq_dict['DPA1*01:03']"
   ]
  },
  {
   "cell_type": "code",
   "execution_count": 264,
   "metadata": {},
   "outputs": [
    {
     "data": {
      "text/plain": [
       "'-AFFMFSGGAILNTL'"
      ]
     },
     "execution_count": 264,
     "metadata": {},
     "output_type": "execute_result"
    }
   ],
   "source": [
    "\"\".join(['HVSTY-AAFVQTHRPTGEFMFEFDEDEMFYVDLDKKETVWHLEEFGQAFSFEAQGGLANIAILNNNLNTLIQRSN'[ind-4] for ind in pos_alpha]) "
   ]
  },
  {
   "cell_type": "code",
   "execution_count": 266,
   "metadata": {},
   "outputs": [
    {
     "data": {
      "text/plain": [
       "'-AFFMFSGGAILNTL'"
      ]
     },
     "execution_count": 266,
     "metadata": {},
     "output_type": "execute_result"
    }
   ],
   "source": [
    "\"\".join(['XXXXX-XAFVQTHRPTGEFMFEFDEDEMFYVDLDKKETVWHLEEFGQAFSFEAQGGLANIAILNNNLNTLIQRSN'[ind-4] for ind in pos_alpha])"
   ]
  },
  {
   "cell_type": "code",
   "execution_count": 332,
   "metadata": {},
   "outputs": [
    {
     "data": {
      "text/plain": [
       "Counter({1: 21, 2: 3})"
      ]
     },
     "execution_count": 332,
     "metadata": {},
     "output_type": "execute_result"
    }
   ],
   "source": [
    "Counter([len(value) for value in list(DPA1_seq_dict.values())])"
   ]
  },
  {
   "cell_type": "code",
   "execution_count": 333,
   "metadata": {},
   "outputs": [
    {
     "data": {
      "text/plain": [
       "[{'HVSTY-AAFVQTHRPTGEFMFEFDEDEMFYVDLDKKETVWHLEEFGQAFSFEAQGGLANIAILNNNLNTLIQRSN',\n",
       "  'XXXXX-XAFVQTHRPTGEFMFEFDEDEMFYVDLDKKETVWHLEEFGQAFSFEAQGGLANIAILNNNLNTLIQRSN'},\n",
       " {'HVSTY-AAFVQTHRPTGEFMFEFDEDEQFYVDLDKKETVWHLEEFGRAFSFEAQGGLANIAILNNNLNTLIQRSN',\n",
       "  'XXXXX-XAFVQTHRPTGEFMFEFDEDEQFYVDLDKKETVWHLEEFGRAFSFEAQGGLANIAILNNNLNTLIQRSN'},\n",
       " {'HVSTY-AMFVQTHRPTGEFMFEFDEDEQFYVDLDKKETVWHLEEFGRAFSFEAQGGLANIAILNNNLNTLIQRSN',\n",
       "  'XVSTY-AMFVQTHRPTGEFMFEFDEDEQFYVDLDKKETVWHLEEFGRAFSFEAQGGLANIAILNNNLNTLIQRSN'}]"
      ]
     },
     "execution_count": 333,
     "metadata": {},
     "output_type": "execute_result"
    }
   ],
   "source": [
    "[value for value in list(DPA1_seq_dict.values()) if len(value) > 1]"
   ]
  },
  {
   "cell_type": "markdown",
   "metadata": {},
   "source": [
    "try finding alignment of DPB, based on \n",
    "\n",
    "    DPB_prot.alfas\n",
    "\n",
    "and\n",
    "\n",
    "    ../data/pseudosequence_2016_all_X.dat"
   ]
  },
  {
   "cell_type": "code",
   "execution_count": 268,
   "metadata": {},
   "outputs": [
    {
     "data": {
      "text/plain": [
       "{'YVYQGRQECYAFN--GTQRFLERYIYNREEYARFDSDVGEFRAVTELGRPAAEYWNSQKDILEEKRAVPDRVCRHNYELDEAVTL'}"
      ]
     },
     "execution_count": 268,
     "metadata": {},
     "output_type": "execute_result"
    }
   ],
   "source": [
    "DPB1_seq_dict['DPB1*01:01']"
   ]
  },
  {
   "cell_type": "code",
   "execution_count": 269,
   "metadata": {},
   "outputs": [
    {
     "data": {
      "text/plain": [
       "'YGQFEYFAIEKVRVHLDVT'"
      ]
     },
     "execution_count": 269,
     "metadata": {},
     "output_type": "execute_result"
    }
   ],
   "source": [
    "\"\".join(['YVYQGRQECYAFN--GTQRFLERYIYNREEYARFDSDVGEFRAVTELGRPAAEYWNSQKDILEEKRAVPDRVCRHNYELDEAVTL'[ind-7] for ind in pos_beta]) "
   ]
  },
  {
   "cell_type": "code",
   "execution_count": 271,
   "metadata": {},
   "outputs": [
    {
     "data": {
      "text/plain": [
       "True"
      ]
     },
     "execution_count": 271,
     "metadata": {},
     "output_type": "execute_result"
    }
   ],
   "source": [
    "HLA_2_pseudo_dict['HLA-DPA10103-DPB10101'][15:] == 'YGQFEYFAIEKVRVHLDVT'"
   ]
  },
  {
   "cell_type": "code",
   "execution_count": 278,
   "metadata": {},
   "outputs": [
    {
     "data": {
      "text/plain": [
       "Counter({1: 640, 2: 1})"
      ]
     },
     "execution_count": 278,
     "metadata": {},
     "output_type": "execute_result"
    }
   ],
   "source": [
    "Counter([len(value) for value in list(DPB1_seq_dict.values())])"
   ]
  },
  {
   "cell_type": "code",
   "execution_count": 274,
   "metadata": {},
   "outputs": [
    {
     "data": {
      "text/plain": [
       "[{'XVYQLRQECYAFN--GTQRFLERYIYNREEYARFDSDVGEFRAVTELGRPAAEYWNSQKDILEEKRAVPDRVCRHNYELDEAVTL',\n",
       "  'YVYQLRQECYAFN--GTQRFLERYIYNREEYARFDSDVGEFRAVTELGRPAAEYWNSQKDILEEKRAVPDRVCRHNYELDEAVTL'}]"
      ]
     },
     "execution_count": 274,
     "metadata": {},
     "output_type": "execute_result"
    }
   ],
   "source": [
    "[value for value in list(DPB1_seq_dict.values()) if len(value) == 2]"
   ]
  },
  {
   "cell_type": "code",
   "execution_count": 275,
   "metadata": {},
   "outputs": [
    {
     "data": {
      "text/plain": [
       "'YLQFEYFAIEKVRVHLDVT'"
      ]
     },
     "execution_count": 275,
     "metadata": {},
     "output_type": "execute_result"
    }
   ],
   "source": [
    "\"\".join(['XVYQLRQECYAFN--GTQRFLERYIYNREEYARFDSDVGEFRAVTELGRPAAEYWNSQKDILEEKRAVPDRVCRHNYELDEAVTL'[ind-7] for ind in pos_beta]) "
   ]
  },
  {
   "cell_type": "code",
   "execution_count": 277,
   "metadata": {},
   "outputs": [
    {
     "data": {
      "text/plain": [
       "True"
      ]
     },
     "execution_count": 277,
     "metadata": {},
     "output_type": "execute_result"
    }
   ],
   "source": [
    "\"\".join(['YVYQLRQECYAFN--GTQRFLERYIYNREEYARFDSDVGEFRAVTELGRPAAEYWNSQKDILEEKRAVPDRVCRHNYELDEAVTL'[ind-7] for ind in pos_beta]) == 'YLQFEYFAIEKVRVHLDVT'"
   ]
  },
  {
   "cell_type": "markdown",
   "metadata": {},
   "source": [
    "try finding alignment of DQA, based on \n",
    "\n",
    "    DQA_prot.alfas \n",
    "\n",
    "and\n",
    "\n",
    "    ../data/pseudosequence_2016_all_X.dat"
   ]
  },
  {
   "cell_type": "code",
   "execution_count": 279,
   "metadata": {},
   "outputs": [
    {
     "data": {
      "text/plain": [
       "['DQA1*01:05', 'DQB1*05:01']"
      ]
     },
     "execution_count": 279,
     "metadata": {},
     "output_type": "execute_result"
    }
   ],
   "source": [
    "sep_hla_II_dict['HLA-DQAB*01:05_05:01']"
   ]
  },
  {
   "cell_type": "code",
   "execution_count": 280,
   "metadata": {},
   "outputs": [
    {
     "data": {
      "text/plain": [
       "'HLA-DQA10105-DQB10501'"
      ]
     },
     "execution_count": 280,
     "metadata": {},
     "output_type": "execute_result"
    }
   ],
   "source": [
    "trans_hla_II_dict['HLA-DQAB*01:05_05:01']"
   ]
  },
  {
   "cell_type": "code",
   "execution_count": 287,
   "metadata": {},
   "outputs": [
    {
     "data": {
      "text/plain": [
       "'CNYHEGGGARVAHIM'"
      ]
     },
     "execution_count": 287,
     "metadata": {},
     "output_type": "execute_result"
    }
   ],
   "source": [
    "HLA_2_pseudo_dict['HLA-DQA10105-DQB10501'][:15]"
   ]
  },
  {
   "cell_type": "code",
   "execution_count": 286,
   "metadata": {},
   "outputs": [
    {
     "data": {
      "text/plain": [
       "{'HVASCGVNLYQFYGPSGQYTHEFDGDEEFYVDLERKETAWRWPEFSKFGGFDPQGALRNMAVAKHNLNIMIKRYN'}"
      ]
     },
     "execution_count": 286,
     "metadata": {},
     "output_type": "execute_result"
    }
   ],
   "source": [
    "DQA1_seq_dict['DQA1*01:05']"
   ]
  },
  {
   "cell_type": "code",
   "execution_count": 289,
   "metadata": {},
   "outputs": [
    {
     "data": {
      "text/plain": [
       "'GNYHEGGGARVAHIM'"
      ]
     },
     "execution_count": 289,
     "metadata": {},
     "output_type": "execute_result"
    }
   ],
   "source": [
    "# the first position from alpha is off\n",
    "# need to be modified to move 1 position before to make DRA, DPA and DQA match with  \"../data/pseudosequence_2016_all_X.dat\"\n",
    "\"\".join(['HVASCGVNLYQFYGPSGQYTHEFDGDEEFYVDLERKETAWRWPEFSKFGGFDPQGALRNMAVAKHNLNIMIKRYN'[ind-4] for ind in pos_alpha])"
   ]
  },
  {
   "cell_type": "code",
   "execution_count": 337,
   "metadata": {},
   "outputs": [
    {
     "data": {
      "text/plain": [
       "Counter({1: 34, 2: 1})"
      ]
     },
     "execution_count": 337,
     "metadata": {},
     "output_type": "execute_result"
    }
   ],
   "source": [
    "Counter([len(value) for value in list(DQA1_seq_dict.values())])"
   ]
  },
  {
   "cell_type": "code",
   "execution_count": 339,
   "metadata": {},
   "outputs": [
    {
     "data": {
      "text/plain": [
       "[{'HVASYGVNLYQSYGPSGQFTHEFDGDEQFYVDLGRKETVWCLPV-LRQFRFDPQFALTNIAVTKHNLNILIKRSN',\n",
       "  'XXXXXGVNLYQSYGPSGQFTHEFDGDEQFYVDLGRKETVWCLPV-LRQFRFDPQFALTNIAVTKHNLNILIKRSN'}]"
      ]
     },
     "execution_count": 339,
     "metadata": {},
     "output_type": "execute_result"
    }
   ],
   "source": [
    "[value for value in list(DQA1_seq_dict.values()) if len(value) > 1]"
   ]
  },
  {
   "cell_type": "markdown",
   "metadata": {},
   "source": [
    "try finding alignment of DQB, based on \n",
    "\n",
    "    DQB_prot.alfas\n",
    "\n",
    "and \n",
    "\n",
    "    ../data/pseudosequence_2016_all_X.dat\""
   ]
  },
  {
   "cell_type": "code",
   "execution_count": 290,
   "metadata": {},
   "outputs": [
    {
     "data": {
      "text/plain": [
       "{'FVYQFKGLCYFTNGTERVRGVTRHIYNREEYVRFDSDVGVYRAVTPQGRPVAEYWNSQKEVLEGARASVDRVCRHNYEVAYRGIL'}"
      ]
     },
     "execution_count": 290,
     "metadata": {},
     "output_type": "execute_result"
    }
   ],
   "source": [
    "DQB1_seq_dict['DQB1*05:01']"
   ]
  },
  {
   "cell_type": "code",
   "execution_count": 294,
   "metadata": {},
   "outputs": [
    {
     "data": {
      "text/plain": [
       "'YFGGTHYVVGASRVHVAGI'"
      ]
     },
     "execution_count": 294,
     "metadata": {},
     "output_type": "execute_result"
    }
   ],
   "source": [
    "HLA_2_pseudo_dict['HLA-DQA10105-DQB10501'][15:]"
   ]
  },
  {
   "cell_type": "code",
   "execution_count": 295,
   "metadata": {},
   "outputs": [
    {
     "data": {
      "text/plain": [
       "True"
      ]
     },
     "execution_count": 295,
     "metadata": {},
     "output_type": "execute_result"
    }
   ],
   "source": [
    "\"\".join(['FVYQFKGLCYFTNGTERVRGVTRHIYNREEYVRFDSDVGVYRAVTPQGRPVAEYWNSQKEVLEGARASVDRVCRHNYEVAYRGIL'[ind-7] for ind in pos_beta]) == 'YFGGTHYVVGASRVHVAGI'"
   ]
  },
  {
   "cell_type": "code",
   "execution_count": 291,
   "metadata": {},
   "outputs": [
    {
     "data": {
      "text/plain": [
       "Counter({1: 743, 2: 5})"
      ]
     },
     "execution_count": 291,
     "metadata": {},
     "output_type": "execute_result"
    }
   ],
   "source": [
    "Counter([len(value) for value in list(DQB1_seq_dict.values())])"
   ]
  },
  {
   "cell_type": "code",
   "execution_count": 292,
   "metadata": {},
   "outputs": [
    {
     "data": {
      "text/plain": [
       "[{'FVYQFKGLCYFTNGTERVRGVTRHIYNREEYVRFDSDVGVYRAVTPQGRPSAEYWNSQKEVLEGARASVDRVCRHNYEVAYRGIL',\n",
       "  'XXYQFKGLCYFTNGTERVRGVTRHIYNREEYVRFDSDVGVYRAVTPQGRPSAEYWNSQKEVLEGARASVDRVCRHNYEVAYRGIL'},\n",
       " {'FVYQFKGMCYFTNGTERVRLVTRHIYNREEYARFDSDVGVYRAVTPQGRPDAEYWNSQKEVLERTRAELDTVCRHNYEVGYRGIL',\n",
       "  'XXYQFKGMCYFTNGTERVRLVTRHIYNREEYARFDSDVGVYRAVTPQGRPDAEYWNSQKEVLERTRAELDTVCRHNYEVGYRGIX'},\n",
       " {'FVFQFKGMCYFTNGTERVRLVTRYIYNREEYARFDSDVGVYRAVTPQGRPVAEYWNSQKEVLEGTRAELDTVCRHNYEVAFRGIL',\n",
       "  'FVFQFKGMCYFTNGTERVRLVTRYIYNREEYARFDSDVGVYRAVTPQGRPVAEYWNSQKEVLEGTRAELDTVCRHNYEVAFRGXX'},\n",
       " {'FVYQFKGMCYFTNGTERVRLVTRYIYNREEYARFDSDVGVYRAVTPQGRPVAEYWNSQKEVLERTRAELDTVCRHNYEVAFRGIL',\n",
       "  'XXYQFKGMCYFTNGTERVRLVTRYIYNREEYARFDSDVGVYRAVTPQGRPVAEYWNSQKEVLERTRAELDTVCRHNYEVAFRGIL'},\n",
       " {'FVYQFKAMCYFTNGTERVRYVTRYIYNREEYARFDSDVEVYRAVTPLGPPDAEYWNSQKEVLERTRAELDTVCRHNYQLELRTTL',\n",
       "  'XXYQFKAMCYFTNGTERVRYVTRYIYNREEYARFDSDVEVYRAVTPLGPPDAEYWNSQKEVLERTRAELDTVCRHNYQLELRTTL'}]"
      ]
     },
     "execution_count": 292,
     "metadata": {},
     "output_type": "execute_result"
    }
   ],
   "source": [
    "[value for value in list(DQB1_seq_dict.values()) if len(value) > 1]"
   ]
  },
  {
   "cell_type": "code",
   "execution_count": 296,
   "metadata": {},
   "outputs": [
    {
     "data": {
      "text/plain": [
       "'YFGGTHYSVGASRVHVAGI'"
      ]
     },
     "execution_count": 296,
     "metadata": {},
     "output_type": "execute_result"
    }
   ],
   "source": [
    "\"\".join(['FVYQFKGLCYFTNGTERVRGVTRHIYNREEYVRFDSDVGVYRAVTPQGRPSAEYWNSQKEVLEGARASVDRVCRHNYEVAYRGIL'[ind-7] for ind in pos_beta])"
   ]
  },
  {
   "cell_type": "code",
   "execution_count": 298,
   "metadata": {},
   "outputs": [
    {
     "data": {
      "text/plain": [
       "True"
      ]
     },
     "execution_count": 298,
     "metadata": {},
     "output_type": "execute_result"
    }
   ],
   "source": [
    "\"\".join(['XXYQFKGLCYFTNGTERVRGVTRHIYNREEYVRFDSDVGVYRAVTPQGRPSAEYWNSQKEVLEGARASVDRVCRHNYEVAYRGIL'[ind-7] for ind in pos_beta]) == \\\n",
    "\"\".join(['FVYQFKGLCYFTNGTERVRGVTRHIYNREEYVRFDSDVGVYRAVTPQGRPSAEYWNSQKEVLEGARASVDRVCRHNYEVAYRGIL'[ind-7] for ind in pos_beta])"
   ]
  },
  {
   "cell_type": "code",
   "execution_count": 436,
   "metadata": {},
   "outputs": [],
   "source": [
    "# this part finally check the consistency between the pseudo sequences and the prot.alfas files. \n",
    "\n",
    "# materials:\n",
    "\n",
    "# this first dictionary holds the corresponding two alleles of each HLA-II pair\n",
    "# sep_hla_II_dict\n",
    "# this second dictionary holds the translate of one HLA-II pair to the pseudo sequence in \"../data/pseudosequence_2016_all_X.dat\"\n",
    "# trans_hla_II_dict\n",
    "\n",
    "# the sequence below gives the unqiue DRA sequence:\n",
    "# 'HVIIQ-AEFYLNPDQSGEFMFDFDGDEIFHVDMAKKETVWRLEEFGRFASFEAQGALANIAVDKANLEIMTKRSN'\n",
    "# the following dictionaries provide DRB, DPA, DPB, DQA, DQB sequences:\n",
    "# DRB_seq_dict\n",
    "# DPA1_seq_dict\n",
    "# DPB1_seq_dict\n",
    "# DQA1_seq_dict\n",
    "# DQB1_seq_dict \n",
    "\n",
    "# this dictionary below provides the pseudo sequence for HLA-II pairs\n",
    "# HLA_2_pseudo_dict\n",
    "\n",
    "# 15 positions on alpha chain (off by 4), \n",
    "# move the starting position 1 to the left\n",
    "# if multiple choice and one with an \"X\", use the other\n",
    "# pos_alpha\n",
    "# 19 positions on beta chain (off by 7)\n",
    "\n",
    "\n",
    "\n",
    "def get_a_half(lookup_dict, allele, adjust_pos_alpha):\n",
    "    seq_candids = list(lookup_dict[allele])\n",
    "    seq_pseudos = list(set([\"\".join([item[ind-4] for ind in adjust_pos_alpha]) for item in seq_candids]))\n",
    "    seq_pseudo_noX = [seq for seq in seq_pseudos if \"X\" not in seq]\n",
    "    if len(seq_pseudo_noX) == 1:\n",
    "        return True, seq_pseudo_noX[0]\n",
    "    else:\n",
    "        return False, \"\"\n",
    "    \n",
    "def get_b_half(lookup_dict, allele, pos_beta):\n",
    "    seq_candids = list(lookup_dict[allele])\n",
    "    seq_pseudos = list(set([\"\".join([item[ind-7] for ind in pos_beta]) for item in seq_candids]))\n",
    "    seq_pseudo_noX = [seq for seq in seq_pseudos if \"X\" not in seq]\n",
    "    if len(seq_pseudo_noX) == 1:\n",
    "        return True, seq_pseudo_noX[0]\n",
    "    else:\n",
    "        return False, \"\"\n",
    "\n",
    "\n",
    "\n",
    "match_flags = []\n",
    "\n",
    "adjust_pos_alpha = [pos for pos in pos_alpha]\n",
    "adjust_pos_alpha[0] = adjust_pos_alpha[0] - 1\n",
    "\n",
    "\n",
    "\n",
    "# separate the HLA-II pairs into two alleles each\n",
    "# translate them into the names in file \"../data/pseudosequence_2016_all_X.dat\"\n",
    "for item in list_HLA_II_complete:\n",
    "    if item[:8] == \"HLA-DQAB\":\n",
    "        item_1, item_2 = sep_hla_II_dict[item]\n",
    "        sub_flag_1, seq1 = get_a_half(DQA1_seq_dict, item_1, adjust_pos_alpha)\n",
    "        sub_flag_2, seq2 = get_b_half(DQB1_seq_dict, item_2, pos_beta)\n",
    "        if (not sub_flag_1) or (not sub_flag_2):\n",
    "            print(\"seq_pseudo_noX len is not 1\")\n",
    "            print(\"item = \", item)\n",
    "            break\n",
    "        seq_pseudo = HLA_2_pseudo_dict[trans_hla_II_dict[item]]\n",
    "        match_flags += [(seq1 + seq2) == seq_pseudo]        \n",
    "    elif item[:8] == \"HLA-DPAB\":\n",
    "        item_1, item_2 = sep_hla_II_dict[item]\n",
    "        sub_flag_1, seq1 = get_a_half(DPA1_seq_dict, item_1, adjust_pos_alpha)\n",
    "        sub_flag_2, seq2 = get_b_half(DPB1_seq_dict, item_2, pos_beta)\n",
    "        if (not sub_flag_1) or (not sub_flag_2):\n",
    "            print(\"seq_pseudo_noX len is not 1\")\n",
    "            print(\"item = \", item)\n",
    "            break\n",
    "        seq_pseudo = HLA_2_pseudo_dict[trans_hla_II_dict[item]]\n",
    "        match_flags += [(seq1 + seq2) == seq_pseudo]    \n",
    "    elif item[:8] == \"HLA-DRB1\":\n",
    "        item_1, item_2 = sep_hla_II_dict[item]\n",
    "        seq1 = 'QEFFIASGAAVDAIM'\n",
    "        sub_flag, seq2 = get_b_half(DRB_seq_dict, item_2, pos_beta)\n",
    "        if not sub_flag:\n",
    "            print(\"seq_pseudo_noX len is not 1\")\n",
    "            print(\"item = \", item)\n",
    "            break\n",
    "        seq_pseudo = HLA_2_pseudo_dict[trans_hla_II_dict[item]]\n",
    "        match_flags += [(seq1 + seq2) == seq_pseudo]\n",
    "    else:\n",
    "        print(\"error found, first eight letters exception\")\n",
    "        print(item)\n",
    "        break"
   ]
  },
  {
   "cell_type": "code",
   "execution_count": 471,
   "metadata": {},
   "outputs": [
    {
     "data": {
      "text/plain": [
       "0.7481481481481481"
      ]
     },
     "execution_count": 471,
     "metadata": {},
     "output_type": "execute_result"
    }
   ],
   "source": [
    "sum(match_flags)/len(match_flags)"
   ]
  },
  {
   "cell_type": "markdown",
   "metadata": {},
   "source": [
    "Looking into one specific allele DQA1*05:01, the sequence from DQA_prot.alfas is:\n",
    "\n",
    "'HVASYGVNLYQSYGPSGQYTHEFDGDEQFYVDLGRKETVWCLPV-LRQFRFDPQFALTNIAVLKHNLNSLIKRSN'\n",
    "\n",
    "and the one from NetMHC_II_pan-3.0 paper is:\n",
    "\n",
    "'DLGRKETVWCLPVLRQFR-FDPQFALTNIAVLKHNLNSLIKRSNSTAATN----------'\n",
    "\n",
    "My understanding is that it is due to different ways of aligning the sequences. The deletion on position 53 from NetMHC_II_pan-3.0 paper is not considered as a deletion in DQA_prot.alfas, but a delection is considered by DQA_prot.alfas before position 48 (using the index from NetMHC_II_pan-3.0). Thus due to that pos_alpha does not contain other positions in the area, the reconstructed pseudo sequences and those from \n",
    "\n",
    "    ../../data/intermediate_data/DeWitt_2018/pseudosequence_2016_all_X.dat\n",
    "\n",
    "still match on other positions except on 52 & 53 (1-indexed under the setting of NetMHC_II_pan-3.0).\n"
   ]
  },
  {
   "cell_type": "code",
   "execution_count": 442,
   "metadata": {},
   "outputs": [],
   "source": [
    "list_HLA_II_complete[1]\n",
    "HLA_2_pseudo_dict[trans_hla_II_dict['HLA-DQAB*05:01_06:02']]\n",
    "item_1, item_2 = sep_hla_II_dict['HLA-DQAB*05:01_06:02']\n",
    "item_1\n",
    "item_2\n",
    "\n",
    "sub_flag_1, seq1 = get_a_half(DQA1_seq_dict, item_1, adjust_pos_alpha)\n",
    "sub_flag_2, seq2 = get_b_half(DQB1_seq_dict, item_2, pos_beta)\n",
    "\n",
    "seq1\n",
    "seq2\n",
    "\n",
    "sub_flag_2"
   ]
  },
  {
   "cell_type": "code",
   "execution_count": 516,
   "metadata": {},
   "outputs": [
    {
     "data": {
      "text/plain": [
       "'FRFDPQFALTNIAVLKHNLNSLIKRSN'"
      ]
     },
     "execution_count": 516,
     "metadata": {},
     "output_type": "execute_result"
    }
   ],
   "source": [
    "list(DQA1_seq_dict['DQA1*05:01'])[0][48:]"
   ]
  },
  {
   "cell_type": "code",
   "execution_count": 452,
   "metadata": {},
   "outputs": [
    {
     "data": {
      "text/plain": [
       "'YNYHQFRFATVLHSLFFGLTYYDVGTETVHVAGI'"
      ]
     },
     "execution_count": 452,
     "metadata": {},
     "output_type": "execute_result"
    }
   ],
   "source": [
    "seq1 + seq2"
   ]
  },
  {
   "cell_type": "code",
   "execution_count": 517,
   "metadata": {},
   "outputs": [
    {
     "data": {
      "text/plain": [
       "'YNYHQRXFATVLHSLFFGLTYYDVGTETVHVAGI'"
      ]
     },
     "execution_count": 517,
     "metadata": {},
     "output_type": "execute_result"
    }
   ],
   "source": [
    "HLA_2_pseudo_dict[trans_hla_II_dict['HLA-DQAB*05:01_06:02']]"
   ]
  },
  {
   "cell_type": "code",
   "execution_count": 454,
   "metadata": {},
   "outputs": [],
   "source": [
    "seq_candids = list(DQA1_seq_dict[item_1])\n",
    "seq_pseudos = list(set([\"\".join([item[ind-4] for ind in adjust_pos_alpha]) for item in seq_candids]))\n",
    "seq_candids[0][30:36]"
   ]
  },
  {
   "cell_type": "code",
   "execution_count": 467,
   "metadata": {},
   "outputs": [
    {
     "data": {
      "text/plain": [
       "[9, 11, 22, 24, 31, 52, 53, 58, 59, 61, 65, 66, 68, 72, 73]"
      ]
     },
     "execution_count": 467,
     "metadata": {},
     "output_type": "execute_result"
    }
   ],
   "source": [
    "pos_alpha"
   ]
  },
  {
   "cell_type": "code",
   "execution_count": 455,
   "metadata": {},
   "outputs": [
    {
     "data": {
      "text/plain": [
       "['YNYHQFRFATVLHSL']"
      ]
     },
     "execution_count": 455,
     "metadata": {},
     "output_type": "execute_result"
    }
   ],
   "source": [
    "seq_pseudos"
   ]
  },
  {
   "cell_type": "code",
   "execution_count": 458,
   "metadata": {},
   "outputs": [
    {
     "data": {
      "text/plain": [
       "'HLA-DQAB*05:05_06:04'"
      ]
     },
     "execution_count": 458,
     "metadata": {},
     "output_type": "execute_result"
    }
   ],
   "source": [
    "list_HLA_II_complete[3]"
   ]
  },
  {
   "cell_type": "code",
   "execution_count": 459,
   "metadata": {},
   "outputs": [
    {
     "data": {
      "text/plain": [
       "'YNYHQRXFATVLHSLYFGLTHYVVRTETVHVGGI'"
      ]
     },
     "execution_count": 459,
     "metadata": {},
     "output_type": "execute_result"
    }
   ],
   "source": [
    "HLA_2_pseudo_dict[trans_hla_II_dict['HLA-DQAB*05:05_06:04']]"
   ]
  },
  {
   "cell_type": "code",
   "execution_count": 460,
   "metadata": {},
   "outputs": [],
   "source": [
    "item_1, item_2 = sep_hla_II_dict['HLA-DQAB*05:05_06:04']"
   ]
  },
  {
   "cell_type": "code",
   "execution_count": 462,
   "metadata": {},
   "outputs": [
    {
     "data": {
      "text/plain": [
       "'DQB1*06:04'"
      ]
     },
     "execution_count": 462,
     "metadata": {},
     "output_type": "execute_result"
    }
   ],
   "source": [
    "item_2"
   ]
  },
  {
   "cell_type": "code",
   "execution_count": null,
   "metadata": {},
   "outputs": [],
   "source": [
    "sub_flag_1, seq1 = get_a_half(DQA1_seq_dict, item_1, adjust_pos_alpha)\n",
    "sub_flag_2, seq2 = get_b_half(DQB1_seq_dict, item_2, pos_beta)"
   ]
  },
  {
   "cell_type": "code",
   "execution_count": 509,
   "metadata": {},
   "outputs": [],
   "source": [
    "#[list_HLA_II_complete[i] for i in range(135) if not match_flags[i]]"
   ]
  },
  {
   "cell_type": "code",
   "execution_count": 510,
   "metadata": {},
   "outputs": [],
   "source": [
    "#[list_HLA_II_complete[i] for i in range(135) if match_flags[i]]"
   ]
  },
  {
   "cell_type": "code",
   "execution_count": 474,
   "metadata": {},
   "outputs": [],
   "source": [
    "item = 'HLA-DPAB*01:03_17:01'"
   ]
  },
  {
   "cell_type": "code",
   "execution_count": 484,
   "metadata": {},
   "outputs": [
    {
     "data": {
      "text/plain": [
       "True"
      ]
     },
     "execution_count": 484,
     "metadata": {},
     "output_type": "execute_result"
    }
   ],
   "source": [
    "HLA_2_pseudo_dict[trans_hla_II_dict[item]][:15] == 'YAFFMFSGGAILNTL'"
   ]
  },
  {
   "cell_type": "code",
   "execution_count": 476,
   "metadata": {},
   "outputs": [],
   "source": [
    "item_1, item_2 = sep_hla_II_dict[item]"
   ]
  },
  {
   "cell_type": "code",
   "execution_count": 491,
   "metadata": {},
   "outputs": [
    {
     "data": {
      "text/plain": [
       "'DPB1*17:01'"
      ]
     },
     "execution_count": 491,
     "metadata": {},
     "output_type": "execute_result"
    }
   ],
   "source": [
    "item_2"
   ]
  },
  {
   "cell_type": "code",
   "execution_count": 480,
   "metadata": {},
   "outputs": [
    {
     "data": {
      "text/plain": [
       "{'HVSTY-AAFVQTHRPTGEFMFEFDEDEMFYVDLDKKETVWHLEEFGQAFSFEAQGGLANIAILNNNLNTLIQRSN',\n",
       " 'XXXXX-XAFVQTHRPTGEFMFEFDEDEMFYVDLDKKETVWHLEEFGQAFSFEAQGGLANIAILNNNLNTLIQRSN'}"
      ]
     },
     "execution_count": 480,
     "metadata": {},
     "output_type": "execute_result"
    }
   ],
   "source": [
    "DPA1_seq_dict['DPA1*01:03']"
   ]
  },
  {
   "cell_type": "code",
   "execution_count": 481,
   "metadata": {},
   "outputs": [],
   "source": [
    "seq_candids = list(DPA1_seq_dict[item_1])\n",
    "seq_pseudos = list(set([\"\".join([item[ind-4] for ind in adjust_pos_alpha]) for item in seq_candids]))"
   ]
  },
  {
   "cell_type": "code",
   "execution_count": 485,
   "metadata": {},
   "outputs": [
    {
     "data": {
      "text/plain": [
       "['YAFFMFSGGAILNTL', 'XAFFMFSGGAILNTL']"
      ]
     },
     "execution_count": 485,
     "metadata": {},
     "output_type": "execute_result"
    }
   ],
   "source": [
    "seq_pseudos"
   ]
  },
  {
   "cell_type": "code",
   "execution_count": 486,
   "metadata": {},
   "outputs": [],
   "source": [
    "seq_candids = list(DPB1_seq_dict[item_2])\n",
    "seq_pseudos = list(set([\"\".join([item[ind-7] for ind in pos_beta]) for item in seq_candids]))"
   ]
  },
  {
   "cell_type": "code",
   "execution_count": 498,
   "metadata": {},
   "outputs": [
    {
     "data": {
      "text/plain": [
       "'HLQFEYFDIEEVRMHLDVT'"
      ]
     },
     "execution_count": 498,
     "metadata": {},
     "output_type": "execute_result"
    }
   ],
   "source": [
    "seq_pseudos[0]"
   ]
  },
  {
   "cell_type": "code",
   "execution_count": 497,
   "metadata": {},
   "outputs": [
    {
     "data": {
      "text/plain": [
       "'YLQFEYFDIEEVRMHLDVT'"
      ]
     },
     "execution_count": 497,
     "metadata": {},
     "output_type": "execute_result"
    }
   ],
   "source": [
    "HLA_2_pseudo_dict[trans_hla_II_dict[item]][15:]"
   ]
  },
  {
   "cell_type": "code",
   "execution_count": 489,
   "metadata": {},
   "outputs": [
    {
     "data": {
      "text/plain": [
       "['YVHQLRQECYAFN--GTQRFLERYIYNREEFVRFDSDVGEFRAVTELGRPDEDYWNSQKDILEEERAVPDRMCRHNYELDEAVTL']"
      ]
     },
     "execution_count": 489,
     "metadata": {},
     "output_type": "execute_result"
    }
   ],
   "source": [
    "seq_candids"
   ]
  },
  {
   "cell_type": "code",
   "execution_count": 490,
   "metadata": {},
   "outputs": [
    {
     "data": {
      "text/plain": [
       "[9, 11, 13, 26, 28, 30, 47, 57, 67, 70, 71, 74, 77, 78, 81, 85, 86, 89, 90]"
      ]
     },
     "execution_count": 490,
     "metadata": {},
     "output_type": "execute_result"
    }
   ],
   "source": [
    "pos_beta"
   ]
  },
  {
   "cell_type": "code",
   "execution_count": 499,
   "metadata": {},
   "outputs": [],
   "source": [
    "item_2 = 'DPB1*10:01'"
   ]
  },
  {
   "cell_type": "code",
   "execution_count": 500,
   "metadata": {},
   "outputs": [],
   "source": [
    "seq_candids = list(DPB1_seq_dict[item_2])\n",
    "seq_pseudos = list(set([\"\".join([item[ind-7] for ind in pos_beta]) for item in seq_candids]))"
   ]
  },
  {
   "cell_type": "code",
   "execution_count": 501,
   "metadata": {},
   "outputs": [
    {
     "data": {
      "text/plain": [
       "['HLQFEYFDIEEVRVHLDVT']"
      ]
     },
     "execution_count": 501,
     "metadata": {},
     "output_type": "execute_result"
    }
   ],
   "source": [
    "seq_pseudos"
   ]
  },
  {
   "cell_type": "code",
   "execution_count": 502,
   "metadata": {},
   "outputs": [
    {
     "data": {
      "text/plain": [
       "['YVHQLRQECYAFN--GTQRFLERYIYNREEFVRFDSDVGEFRAVTELGRPDEEYWNSQKDILEEERAVPDRVCRHNYELDEAVTL']"
      ]
     },
     "execution_count": 502,
     "metadata": {},
     "output_type": "execute_result"
    }
   ],
   "source": [
    "seq_candids "
   ]
  },
  {
   "cell_type": "code",
   "execution_count": 503,
   "metadata": {},
   "outputs": [
    {
     "data": {
      "text/plain": [
       "'YLQFEYFDIEEVRVHLDVT'"
      ]
     },
     "execution_count": 503,
     "metadata": {},
     "output_type": "execute_result"
    }
   ],
   "source": [
    "HLA_2_pseudo_dict[trans_hla_II_dict['HLA-DPAB*02:01_10:01']][15:]"
   ]
  },
  {
   "cell_type": "code",
   "execution_count": 505,
   "metadata": {},
   "outputs": [
    {
     "data": {
      "text/plain": [
       "False"
      ]
     },
     "execution_count": 505,
     "metadata": {},
     "output_type": "execute_result"
    }
   ],
   "source": [
    "'YLQFEYFDIEEVRMHLDVT'\n",
    "'YLQFEYFDIEEVRVHLDVT'"
   ]
  },
  {
   "cell_type": "code",
   "execution_count": 504,
   "metadata": {},
   "outputs": [
    {
     "data": {
      "text/plain": [
       "False"
      ]
     },
     "execution_count": 504,
     "metadata": {},
     "output_type": "execute_result"
    }
   ],
   "source": [
    "'YVHQLRQECYAFN--GTQRFLERYIYNREEFVRFDSDVGEFRAVTELGRPDEDYWNSQKDILEEERAVPDRMCRHNYELDEAVTL' == \\\n",
    "'YVHQLRQECYAFN--GTQRFLERYIYNREEFVRFDSDVGEFRAVTELGRPDEEYWNSQKDILEEERAVPDRVCRHNYELDEAVTL'"
   ]
  },
  {
   "cell_type": "markdown",
   "metadata": {},
   "source": [
    "The way to fix the verification procedure for now:\n",
    "    \n",
    "(0) If DQA falls into the list extra_adjust_DQAs, need to modify positions 52 & 53 (1-indexed under NetMHC_II_pan-3.0);\n",
    "\n",
    "(1) If DPB falls into the list extra_adjust_DPBs, need to manually modify the first position to 'Y'."
   ]
  },
  {
   "cell_type": "code",
   "execution_count": 538,
   "metadata": {},
   "outputs": [],
   "source": [
    "extra_modify_DQAs = ['DQA1*05:04', 'DQA1*05:07', 'DQA1*05:01', 'DQA1*05:06', 'DQA1*05:03', \\\n",
    "                    'DQA1*05:02', 'DQA1*05:08', 'DQA1*05:05', 'DQA1*05:11', 'DQA1*05:10', \\\n",
    "                    'DQA1*05:09', 'DQA1*04:02', 'DQA1*04:04', 'DQA1*06:01', 'DQA1*06:02', \\\n",
    "                    'DQA1*02:01', 'DQA1*04:01']\n",
    "\n",
    "extra_modify_DPBs = ['DPB1*17:01', 'DPB1*10:01']"
   ]
  },
  {
   "cell_type": "code",
   "execution_count": 539,
   "metadata": {},
   "outputs": [],
   "source": [
    "# this part finally check the consistency between the pseudo sequences and the prot.alfas files, with additional\n",
    "# adjustments\n",
    "\n",
    "# materials:\n",
    "\n",
    "# this first dictionary holds the corresponding two alleles of each HLA-II pair\n",
    "# sep_hla_II_dict\n",
    "# this second dictionary holds the translate of one HLA-II pair to the pseudo sequence in \"../data/pseudosequence_2016_all_X.dat\"\n",
    "# trans_hla_II_dict\n",
    "\n",
    "# the sequence below gives the unqiue DRA sequence:\n",
    "# 'HVIIQ-AEFYLNPDQSGEFMFDFDGDEIFHVDMAKKETVWRLEEFGRFASFEAQGALANIAVDKANLEIMTKRSN'\n",
    "# the following dictionaries provide DRB, DPA, DPB, DQA, DQB sequences:\n",
    "# DRB_seq_dict\n",
    "# DPA1_seq_dict\n",
    "# DPB1_seq_dict\n",
    "# DQA1_seq_dict\n",
    "# DQB1_seq_dict \n",
    "\n",
    "# the lists of DQAs and DPBs that need additional adjustment when getting pseudo sequences\n",
    "# extra_modify_DQAs\n",
    "# extra_modify_DPBs\n",
    "\n",
    "# this dictionary below provides the pseudo sequence for HLA-II pairs\n",
    "# HLA_2_pseudo_dict\n",
    "\n",
    "# 15 positions on alpha chain (off by 4), \n",
    "# move the starting position 1 to the left\n",
    "# if multiple choice and one STARTS WITH (different from the previous contains \"X\" condition) an \"X\", use the other\n",
    "# pos_alpha\n",
    "# 19 positions on beta chain (off by 7)\n",
    "\n",
    "\n",
    "def get_a_half_modify(lookup_dict, allele, adjust_pos_alpha, modify_flag):\n",
    "    seq_candids = list(lookup_dict[allele])\n",
    "    if modify_flag:\n",
    "        modify_adjust_pos_alpha = [pos for pos in adjust_pos_alpha]\n",
    "        modify_adjust_pos_alpha[5] = 53\n",
    "        seq_pseudos_modify = list(set([\"\".join([item[ind-4] for ind in modify_adjust_pos_alpha]) for item in seq_candids]))\n",
    "        seq_pseudos = [item[:6] + 'X' + item[7:] for item in seq_pseudos_modify]   \n",
    "    else:\n",
    "        seq_pseudos = list(set([\"\".join([item[ind-4] for ind in adjust_pos_alpha]) for item in seq_candids]))\n",
    "    seq_pseudo_noX = [seq for seq in seq_pseudos if seq[0]!= 'X']\n",
    "    if len(seq_pseudo_noX) == 1:\n",
    "        return True, seq_pseudo_noX[0]\n",
    "    else:\n",
    "        return False, \"\"\n",
    "    \n",
    "def get_b_half_modify(lookup_dict, allele, pos_beta, modify_flag):\n",
    "    seq_candids = list(lookup_dict[allele])\n",
    "    if modify_flag:\n",
    "        seq_pseudos_modify = list(set([\"\".join([item[ind-7] for ind in pos_beta]) for item in seq_candids]))\n",
    "        seq_pseudos = ['Y'+item[1:] for item in seq_pseudos_modify]\n",
    "    else:\n",
    "        seq_pseudos = list(set([\"\".join([item[ind-7] for ind in pos_beta]) for item in seq_candids]))\n",
    "    seq_pseudo_noX = [seq for seq in seq_pseudos if \"X\" not in seq]\n",
    "    if len(seq_pseudo_noX) == 1:\n",
    "        return True, seq_pseudo_noX[0]\n",
    "    else:\n",
    "        return False, \"\"\n",
    "\n",
    "\n",
    "\n",
    "modify_match_flags = []\n",
    "\n",
    "adjust_pos_alpha = [pos for pos in pos_alpha]\n",
    "adjust_pos_alpha[0] = adjust_pos_alpha[0] - 1\n",
    "\n",
    "\n",
    "\n",
    "# separate the HLA-II pairs into two alleles each\n",
    "# translate them into the names in file \"../data/pseudosequence_2016_all_X.dat\"\n",
    "for item in list_HLA_II_complete:\n",
    "    if item[:8] == \"HLA-DQAB\":\n",
    "        item_1, item_2 = sep_hla_II_dict[item]\n",
    "        modify_flag = (item_1 in extra_modify_DQAs)\n",
    "        sub_flag_1, seq1 = get_a_half_modify(DQA1_seq_dict, item_1, adjust_pos_alpha, modify_flag)\n",
    "        sub_flag_2, seq2 = get_b_half_modify(DQB1_seq_dict, item_2, pos_beta, False)\n",
    "        if (not sub_flag_1) or (not sub_flag_2):\n",
    "            print(\"seq_pseudo_noX len is not 1\")\n",
    "            print(\"item = \", item)\n",
    "            break\n",
    "        seq_pseudo = HLA_2_pseudo_dict[trans_hla_II_dict[item]]\n",
    "        modify_match_flags += [(seq1 + seq2) == seq_pseudo]        \n",
    "    elif item[:8] == \"HLA-DPAB\":\n",
    "        item_1, item_2 = sep_hla_II_dict[item]\n",
    "        modify_flag = (item_2 in extra_modify_DPBs)\n",
    "        sub_flag_1, seq1 = get_a_half_modify(DPA1_seq_dict, item_1, adjust_pos_alpha, False)\n",
    "        sub_flag_2, seq2 = get_b_half_modify(DPB1_seq_dict, item_2, pos_beta, modify_flag)\n",
    "        if (not sub_flag_1) or (not sub_flag_2):\n",
    "            print(\"seq_pseudo_noX len is not 1\")\n",
    "            print(\"item = \", item)\n",
    "            break\n",
    "        seq_pseudo = HLA_2_pseudo_dict[trans_hla_II_dict[item]]\n",
    "        modify_match_flags += [(seq1 + seq2) == seq_pseudo]    \n",
    "    elif item[:8] == \"HLA-DRB1\":\n",
    "        item_1, item_2 = sep_hla_II_dict[item]\n",
    "        seq1 = 'QEFFIASGAAVDAIM'\n",
    "        sub_flag, seq2 = get_b_half_modify(DRB_seq_dict, item_2, pos_beta, False)\n",
    "        if not sub_flag:\n",
    "            print(\"seq_pseudo_noX len is not 1\")\n",
    "            print(\"item = \", item)\n",
    "            break\n",
    "        seq_pseudo = HLA_2_pseudo_dict[trans_hla_II_dict[item]]\n",
    "        modify_match_flags += [(seq1 + seq2) == seq_pseudo]\n",
    "    else:\n",
    "        print(\"error found, first eight letters exception\")\n",
    "        print(item)\n",
    "        break"
   ]
  },
  {
   "cell_type": "code",
   "execution_count": 544,
   "metadata": {},
   "outputs": [
    {
     "data": {
      "text/plain": [
       "1.0"
      ]
     },
     "execution_count": 544,
     "metadata": {},
     "output_type": "execute_result"
    }
   ],
   "source": [
    "sum(modify_match_flags)/len(modify_match_flags)"
   ]
  }
 ],
 "metadata": {
  "kernelspec": {
   "display_name": "Python 3 (ipykernel)",
   "language": "python",
   "name": "python3"
  },
  "language_info": {
   "codemirror_mode": {
    "name": "ipython",
    "version": 3
   },
   "file_extension": ".py",
   "mimetype": "text/x-python",
   "name": "python",
   "nbconvert_exporter": "python",
   "pygments_lexer": "ipython3",
   "version": "3.9.10"
  }
 },
 "nbformat": 4,
 "nbformat_minor": 2
}
