{
 "cells": [
  {
   "cell_type": "markdown",
   "metadata": {},
   "source": [
    "### This file extends the pseudo sequences for HLA I alleles\n",
    "\n",
    "A summary on the final findings in order to reconstruct the old and construct the extended pseudo sequences is put in file \n",
    "\n",
    "    t4_summary.md\n",
    "\n",
    "We have pseudo sequences for HLA alleles on 19 positions for HLA-II B alleles contained in file\n",
    "\n",
    "    ../../data/intermediate_data/pseudosequence_2016_all_X.dat\n",
    "\n",
    "We want to extend the positions to also cover those additional positions got from\n",
    "\n",
    "    t2_check_additional_pos_contacts.log.ipynb.\n",
    "\n",
    "First, we need to check whether we can get an unique pseudo sequence for each HLA-II B allele on the additional positions.\n",
    "\n",
    "If that is true, secondly, we will keep those positions with diversity in amino acids."
   ]
  },
  {
   "cell_type": "code",
   "execution_count": 1,
   "metadata": {},
   "outputs": [],
   "source": [
    "import numpy as np\n",
    "import pandas as pd\n",
    "\n",
    "from collections import Counter\n",
    "from collections import defaultdict"
   ]
  },
  {
   "cell_type": "markdown",
   "metadata": {},
   "source": [
    "Materials:\n",
    "    \n",
    "Full sequence files:\n",
    "    \n",
    "    ../../data/intermediate_data/HLA_TCR_contact/DRB_prot.alfas\n",
    "\n",
    "    ../../data/intermediate_data/HLA_TCR_contact/DPB_prot.alfas\n",
    "\n",
    "    ../../data/intermediate_data/HLA_TCR_contact/DQB_prot.alfas\n",
    "\n",
    "The 19 positions (needs other additional adjustment. the adjustment needs to follow the findings summarized in \n",
    "t3_summary.txt) for HLA-II B alleles from NetMHCIIpan-3.0:\n",
    "\n",
    "9, 11, 13, 26, 28, 30, 47, 57, 67, 70, 71, 74, 77, 78, 81, 85, 86, 89, 90\n",
    "\n",
    "9 additional positions (0-indexed) from \n",
    "\n",
    "    t2_check_additional_pos_contacts.log.ipynb:\n",
    "\n",
    "49, 53, 54, 57, 59, 62, 66, 69, 75\n",
    "\n",
    "pseudo sequences for HLA alleles on 19 positions for HLA-II B alleles contained in file\n",
    "\n",
    "    ../../data/intermediate_data/pseudosequence_2016_all_X.dat"
   ]
  },
  {
   "cell_type": "code",
   "execution_count": 2,
   "metadata": {},
   "outputs": [
    {
     "data": {
      "text/html": [
       "<div>\n",
       "<style scoped>\n",
       "    .dataframe tbody tr th:only-of-type {\n",
       "        vertical-align: middle;\n",
       "    }\n",
       "\n",
       "    .dataframe tbody tr th {\n",
       "        vertical-align: top;\n",
       "    }\n",
       "\n",
       "    .dataframe thead th {\n",
       "        text-align: right;\n",
       "    }\n",
       "</style>\n",
       "<table border=\"1\" class=\"dataframe\">\n",
       "  <thead>\n",
       "    <tr style=\"text-align: right;\">\n",
       "      <th></th>\n",
       "      <th>HLA</th>\n",
       "      <th>seq</th>\n",
       "    </tr>\n",
       "  </thead>\n",
       "  <tbody>\n",
       "    <tr>\n",
       "      <th>0</th>\n",
       "      <td>DRB1_0101</td>\n",
       "      <td>QEFFIASGAAVDAIMWLFLECYDLQRATYHVGFT</td>\n",
       "    </tr>\n",
       "    <tr>\n",
       "      <th>1</th>\n",
       "      <td>DRB1_0102</td>\n",
       "      <td>QEFFIASGAAVDAIMWLFLECYDLQRATYHAVFT</td>\n",
       "    </tr>\n",
       "    <tr>\n",
       "      <th>2</th>\n",
       "      <td>DRB1_0103</td>\n",
       "      <td>QEFFIASGAAVDAIMWLFLECYDIDEATYHVGFT</td>\n",
       "    </tr>\n",
       "    <tr>\n",
       "      <th>3</th>\n",
       "      <td>DRB1_0104</td>\n",
       "      <td>QEFFIASGAAVDAIMWLFLECYDLQRANYHVVFT</td>\n",
       "    </tr>\n",
       "    <tr>\n",
       "      <th>4</th>\n",
       "      <td>DRB1_0105</td>\n",
       "      <td>QEFFIASGAAVDAIMWLFLECYDLQRATYHVGFT</td>\n",
       "    </tr>\n",
       "    <tr>\n",
       "      <th>5</th>\n",
       "      <td>DRB1_0106</td>\n",
       "      <td>QEFFIASGAAVDAIMWLFLECYDLQAATYHVVFT</td>\n",
       "    </tr>\n",
       "  </tbody>\n",
       "</table>\n",
       "</div>"
      ],
      "text/plain": [
       "         HLA                                 seq\n",
       "0  DRB1_0101  QEFFIASGAAVDAIMWLFLECYDLQRATYHVGFT\n",
       "1  DRB1_0102  QEFFIASGAAVDAIMWLFLECYDLQRATYHAVFT\n",
       "2  DRB1_0103  QEFFIASGAAVDAIMWLFLECYDIDEATYHVGFT\n",
       "3  DRB1_0104  QEFFIASGAAVDAIMWLFLECYDLQRANYHVVFT\n",
       "4  DRB1_0105  QEFFIASGAAVDAIMWLFLECYDLQRATYHVGFT\n",
       "5  DRB1_0106  QEFFIASGAAVDAIMWLFLECYDLQAATYHVVFT"
      ]
     },
     "execution_count": 2,
     "metadata": {},
     "output_type": "execute_result"
    }
   ],
   "source": [
    "HLA_2_pseudo = pd.read_csv(\"../../data/intermediate_data/pseudosequence_2016_all_X.dat\", \n",
    "                           sep = \"\\t\", header = None)\n",
    "HLA_2_pseudo.shape\n",
    "# (5636, 2)\n",
    "HLA_2_pseudo.columns = [\"HLA\", \"seq\"]\n",
    "HLA_2_pseudo[:6]"
   ]
  },
  {
   "cell_type": "code",
   "execution_count": 30,
   "metadata": {},
   "outputs": [
    {
     "data": {
      "text/plain": [
       "5635"
      ]
     },
     "execution_count": 30,
     "metadata": {},
     "output_type": "execute_result"
    }
   ],
   "source": [
    "# build pseudo sequence dictionary for B allele part\n",
    "# taking the last 19 positions\n",
    "\n",
    "# from the exploration in t3_explore_II.ipynb, \n",
    "# the only HLA-II pair with two corresponding rows in this table is 'HLA-DPA10103-DPB10601'\n",
    "# this one is not among the HLA-II pairs that we consider as in HLA v2 table from DeWitt_2018\n",
    "# so ignore this issue for now and just assign the later pseudo seq to it\n",
    "\n",
    "HLA_2_pseudo_dict = defaultdict(str)\n",
    "\n",
    "for hla, seq in zip(HLA_2_pseudo.HLA.tolist(), HLA_2_pseudo.seq.tolist()):\n",
    "    HLA_2_pseudo_dict[hla] = seq[15:]\n",
    "\n",
    "len(HLA_2_pseudo_dict)"
   ]
  },
  {
   "cell_type": "code",
   "execution_count": 32,
   "metadata": {},
   "outputs": [],
   "source": [
    "#HLA_2_pseudo_dict"
   ]
  },
  {
   "cell_type": "code",
   "execution_count": 6,
   "metadata": {},
   "outputs": [
    {
     "data": {
      "text/plain": [
       "[9, 11, 13, 26, 28, 30, 47, 57, 67, 70, 71, 74, 77, 78, 81, 85, 86, 89, 90]"
      ]
     },
     "execution_count": 6,
     "metadata": {},
     "output_type": "execute_result"
    }
   ],
   "source": [
    "# the original 19 positions from NetMHC-II-pan-3.0 paper\n",
    "nineteen = [9, 11, 13, 26, 28, 30, 47, 57, 67, 70, 71, 74, 77, 78, 81, 85, 86, 89, 90]\n",
    "nineteen"
   ]
  },
  {
   "cell_type": "code",
   "execution_count": 7,
   "metadata": {},
   "outputs": [
    {
     "data": {
      "text/html": [
       "<div>\n",
       "<style scoped>\n",
       "    .dataframe tbody tr th:only-of-type {\n",
       "        vertical-align: middle;\n",
       "    }\n",
       "\n",
       "    .dataframe tbody tr th {\n",
       "        vertical-align: top;\n",
       "    }\n",
       "\n",
       "    .dataframe thead th {\n",
       "        text-align: right;\n",
       "    }\n",
       "</style>\n",
       "<table border=\"1\" class=\"dataframe\">\n",
       "  <thead>\n",
       "    <tr style=\"text-align: right;\">\n",
       "      <th></th>\n",
       "      <th>feature</th>\n",
       "      <th>hla</th>\n",
       "    </tr>\n",
       "  </thead>\n",
       "  <tbody>\n",
       "    <tr>\n",
       "      <th>0</th>\n",
       "      <td>feature:</td>\n",
       "      <td>HLA-DPAB*02:01_04:01</td>\n",
       "    </tr>\n",
       "    <tr>\n",
       "      <th>1</th>\n",
       "      <td>feature:</td>\n",
       "      <td>HLA-DQAB*05:05_06:04</td>\n",
       "    </tr>\n",
       "    <tr>\n",
       "      <th>2</th>\n",
       "      <td>feature:</td>\n",
       "      <td>HLA-B*08:01</td>\n",
       "    </tr>\n",
       "    <tr>\n",
       "      <th>3</th>\n",
       "      <td>feature:</td>\n",
       "      <td>HLA-A*24:02</td>\n",
       "    </tr>\n",
       "    <tr>\n",
       "      <th>4</th>\n",
       "      <td>feature:</td>\n",
       "      <td>HLA-A*24:03</td>\n",
       "    </tr>\n",
       "    <tr>\n",
       "      <th>5</th>\n",
       "      <td>feature:</td>\n",
       "      <td>HLA-B*38:02</td>\n",
       "    </tr>\n",
       "  </tbody>\n",
       "</table>\n",
       "</div>"
      ],
      "text/plain": [
       "    feature                   hla\n",
       "0  feature:  HLA-DPAB*02:01_04:01\n",
       "1  feature:  HLA-DQAB*05:05_06:04\n",
       "2  feature:           HLA-B*08:01\n",
       "3  feature:           HLA-A*24:02\n",
       "4  feature:           HLA-A*24:03\n",
       "5  feature:           HLA-B*38:02"
      ]
     },
     "execution_count": 7,
     "metadata": {},
     "output_type": "execute_result"
    }
   ],
   "source": [
    "# get HLA-II pair names from HLA_v2_features\n",
    "HLA_v2_features_row_names = pd.read_csv(\"../../data/intermediate_data/DeWitt_2018/HLA_v2_features_row_names.txt\", \n",
    "                                        sep = \" \", header = None)\n",
    "HLA_v2_features_row_names.columns = [\"feature\", \"hla\"]\n",
    "HLA_v2_features_row_names.shape\n",
    "# (215, 2)\n",
    "HLA_v2_features_row_names[:6]"
   ]
  },
  {
   "cell_type": "code",
   "execution_count": 16,
   "metadata": {},
   "outputs": [],
   "source": [
    "HLA_II_v2_pairs = [hla for hla in HLA_v2_features_row_names.hla.tolist() if hla[:7] in [\"HLA-DPA\", \"HLA-DQA\", \"HLA-DRD\", \"HLA-DRB\"]]"
   ]
  },
  {
   "cell_type": "code",
   "execution_count": 24,
   "metadata": {},
   "outputs": [
    {
     "data": {
      "text/plain": [
       "135"
      ]
     },
     "execution_count": 24,
     "metadata": {},
     "output_type": "execute_result"
    }
   ],
   "source": [
    "HLA_II_v2_5DRDQ = [item for item in HLA_II_v2_pairs if len(item.split(\"_\")) > 2]\n",
    "HLA_II_v2_5DRDQ\n",
    "\n",
    "HLA_II_v2_5DRDQ_DRB = [\"HLA-DRB1*\" + item[9:].split(\"_\")[0] for item in HLA_II_v2_5DRDQ]\n",
    "HLA_II_v2_5DRDQ_DQAB = [\"HLA-DQAB*\" + \"_\".join(item[9:].split(\"_\")[1:]) for item in HLA_II_v2_5DRDQ]\n",
    "HLA_II_v2_5DRDQ_DQAB\n",
    "\n",
    "HLA_II_complete = list(set(HLA_II_v2_pairs + HLA_II_v2_5DRDQ_DRB + HLA_II_v2_5DRDQ_DQAB) - set(HLA_II_v2_5DRDQ))\n",
    "len(HLA_II_complete)"
   ]
  },
  {
   "cell_type": "code",
   "execution_count": 27,
   "metadata": {},
   "outputs": [],
   "source": [
    "# reconstruct pseudo sequences on the 19 positions of beta chain\n",
    "\n",
    "# map each HLA-II pair to the corresponding B allele\n",
    "# load the corresponding pseudo sequeneces and get the last 19\n",
    "# reconstruct the pseudo sequences based on position adjustments\n",
    "#  -- load the three full sequences files\n",
    "#  -- the lists of DPBs with exception\n",
    "#  -- write functions to reconstruct pseudo sequences\n",
    "# check whether for each HLA-II B allele, the pseudo sequences on the 9 additional positions\n",
    "#  are the same too\n",
    "# if so, check how many out of these 9 positions have diverity\n",
    "# if so, move on and write out a file of the B allele names and their corresponding pseudo \n",
    "#  sequences on the original 19 positions and the additional positions with diversity"
   ]
  },
  {
   "cell_type": "code",
   "execution_count": 33,
   "metadata": {},
   "outputs": [],
   "source": [
    "# this first dictionary holds the corresponding B allele of each HLA-II pair\n",
    "HLA_II_beta_dict = defaultdict(str)\n",
    "# this second dictionary holds the translate of one HLA-II pair to the names in \"../../data/intermediate_data/pseudosequence_2016_all_X.dat\"\n",
    "trans_hla_II_dict = defaultdict(str)\n",
    "# based on the existing pseudo sequence dictionary, build one for B allele and possible\n",
    "# corresponding set of pseudo sequences -- expected to be set of len 1 if no bug\n",
    "HLA_II_beta_set_pseudo_dict = defaultdict(set)\n",
    "\n",
    "# separate the HLA-II pairs into two alleles each\n",
    "# translate them into the names in file \"../../data/intermediate_data/pseudosequence_2016_all_X.dat\"\n",
    "for item in HLA_II_complete:\n",
    "    if item[:8] == \"HLA-DQAB\":\n",
    "        item_1 = \"DQA1\" + \"*\" + item[9:].split(\"_\")[0]\n",
    "        item_2 = \"DQB1\" + \"*\" + item[9:].split(\"_\")[1]\n",
    "        HLA_II_beta_dict[item] = item_2\n",
    "        trans_hla_II_dict[item] = \"HLA-\" + item_1.replace(\"*\", \"\").replace(\":\", \"\") + \"-\" + item_2.replace(\"*\", \"\").replace(\":\", \"\")\n",
    "        HLA_II_beta_set_pseudo_dict[item_2].add(HLA_2_pseudo_dict[trans_hla_II_dict[item]])\n",
    "    elif item[:8] == \"HLA-DPAB\":\n",
    "        item_1 = \"DPA1\" + \"*\" + item[9:].split(\"_\")[0]\n",
    "        item_2 = \"DPB1\" + \"*\" + item[9:].split(\"_\")[1]\n",
    "        HLA_II_beta_dict[item] = item_2\n",
    "        trans_hla_II_dict[item] = \"HLA-\" + item_1.replace(\"*\", \"\").replace(\":\", \"\") + \"-\" + item_2.replace(\"*\", \"\").replace(\":\", \"\")\n",
    "        HLA_II_beta_set_pseudo_dict[item_2].add(HLA_2_pseudo_dict[trans_hla_II_dict[item]])\n",
    "    elif item[:8] == \"HLA-DRB1\":\n",
    "        item_1 = \"DRA\"\n",
    "        item_2 = \"DRB1\" + \"*\" + item[9:]\n",
    "        HLA_II_beta_dict[item] = item_2\n",
    "        trans_hla_II_dict[item] = 'DRB1_' + item[9:].replace(\":\", \"\")\n",
    "        HLA_II_beta_set_pseudo_dict[item_2].add(HLA_2_pseudo_dict[trans_hla_II_dict[item]])\n",
    "    else:\n",
    "        print(\"error found, first eight letters exception\")\n",
    "        print(item)\n",
    "        break"
   ]
  },
  {
   "cell_type": "code",
   "execution_count": 46,
   "metadata": {},
   "outputs": [
    {
     "data": {
      "text/plain": [
       "['DPB1*01:01',\n",
       " 'DPB1*02:01',\n",
       " 'DPB1*03:01',\n",
       " 'DPB1*04:01',\n",
       " 'DPB1*04:02',\n",
       " 'DPB1*05:01',\n",
       " 'DPB1*10:01',\n",
       " 'DPB1*11:01',\n",
       " 'DPB1*13:01',\n",
       " 'DPB1*17:01']"
      ]
     },
     "execution_count": 46,
     "metadata": {},
     "output_type": "execute_result"
    }
   ],
   "source": [
    "# now it has been verified that each HLA-II B allele has unique pseudo sequence from\n",
    "# file \"../../data/intermediate_data/pseudosequence_2016_all_X.dat\"\n",
    "len(set(HLA_II_beta_dict.values()))\n",
    "# 62\n",
    "list_HLA_II_beta = list(set(HLA_II_beta_dict.values()))\n",
    "list_HLA_II_beta.sort()\n",
    "list_HLA_II_beta[:10]"
   ]
  },
  {
   "cell_type": "code",
   "execution_count": 49,
   "metadata": {},
   "outputs": [
    {
     "data": {
      "text/plain": [
       "62"
      ]
     },
     "execution_count": 49,
     "metadata": {},
     "output_type": "execute_result"
    }
   ],
   "source": [
    "# use HLA_II_beta_set_pseudo_dict to get a dict with pseudo seq as value\n",
    "HLA_II_beta_pseudo_dict = defaultdict(str)\n",
    "\n",
    "for key in HLA_II_beta_set_pseudo_dict:\n",
    "    HLA_II_beta_pseudo_dict[key] = list(HLA_II_beta_set_pseudo_dict[key])[0]\n",
    "\n",
    "len(HLA_II_beta_pseudo_dict)"
   ]
  },
  {
   "cell_type": "markdown",
   "metadata": {},
   "source": [
    "Load the full sequences files\n",
    "\n",
    "Load DRB sequences"
   ]
  },
  {
   "cell_type": "code",
   "execution_count": 53,
   "metadata": {},
   "outputs": [
    {
     "data": {
      "text/plain": [
       "1709"
      ]
     },
     "execution_count": 53,
     "metadata": {},
     "output_type": "execute_result"
    }
   ],
   "source": [
    "DRB_prot = pd.read_csv(\"../../data/intermediate_data/HLA_TCR_contact/DRB_prot.alfas\", \n",
    "                       sep = \" \", header = None)\n",
    "\n",
    "name_ind = list(range(int(DRB_prot.shape[0]/2)))\n",
    "names = DRB_prot.loc[[2 * ind for ind in name_ind]]\n",
    "names = names.iloc[:, 0].tolist()\n",
    "names = [name.replace(\">\", \"\") for name in names]\n",
    "seqs = DRB_prot.loc[[2 * ind + 1 for ind in name_ind]]\n",
    "seqs = seqs.iloc[:, 0].tolist()\n",
    "\n",
    "DRB_seqs = pd.DataFrame(list(zip(names, seqs)), \n",
    "                            columns =['name', 'seq']) \n",
    "DRB_seqs.shape\n",
    "# (2238, 2)\n",
    "DRB_seqs['short'] = [\":\".join(name.split(\":\")[:2]) for name in DRB_seqs.name.tolist()]\n",
    "DRB_seq_dict = defaultdict(set)\n",
    "for short, seq in zip(DRB_seqs.short.tolist(), DRB_seqs.seq.tolist()):\n",
    "    DRB_seq_dict[short].add(seq)\n",
    "\n",
    "len(DRB_seq_dict)"
   ]
  },
  {
   "cell_type": "markdown",
   "metadata": {},
   "source": [
    "Load DPB1 sequences"
   ]
  },
  {
   "cell_type": "code",
   "execution_count": 81,
   "metadata": {},
   "outputs": [
    {
     "data": {
      "text/plain": [
       "641"
      ]
     },
     "execution_count": 81,
     "metadata": {},
     "output_type": "execute_result"
    }
   ],
   "source": [
    "DPB1_prot = pd.read_csv(\"../../data/intermediate_data/HLA_TCR_contact/DPB1_prot.alfas\", \n",
    "                        sep = \" \", header = None)\n",
    "name_ind = list(range(int(DPB1_prot.shape[0]/2)))\n",
    "names = DPB1_prot.loc[[2 * ind for ind in name_ind]]\n",
    "names = names.iloc[:, 0].tolist()\n",
    "names = [name.replace(\">\", \"\") for name in names]\n",
    "seqs = DPB1_prot.loc[[2 * ind + 1 for ind in name_ind]]\n",
    "seqs = seqs.iloc[:, 0].tolist()\n",
    "\n",
    "DPB1_seqs = pd.DataFrame(list(zip(names, seqs)), \n",
    "                            columns =['name', 'seq']) \n",
    "DPB1_seqs.shape\n",
    "# (873, 2)\n",
    "DPB1_seqs['short'] = [\":\".join(name.split(\":\")[:2]) for name in DPB1_seqs.name.tolist()]\n",
    "DPB1_seq_dict = defaultdict(set)\n",
    "for short, seq in zip(DPB1_seqs.short.tolist(), DPB1_seqs.seq.tolist()):\n",
    "    DPB1_seq_dict[short].add(seq)\n",
    "\n",
    "len(DPB1_seq_dict)"
   ]
  },
  {
   "cell_type": "markdown",
   "metadata": {},
   "source": [
    "Load DQB1 sequences"
   ]
  },
  {
   "cell_type": "code",
   "execution_count": 82,
   "metadata": {},
   "outputs": [
    {
     "data": {
      "text/plain": [
       "748"
      ]
     },
     "execution_count": 82,
     "metadata": {},
     "output_type": "execute_result"
    }
   ],
   "source": [
    "DQB1_prot = pd.read_csv(\"../../data/intermediate_data/HLA_TCR_contact/DQB1_prot.alfas\", \n",
    "                        sep = \" \", header = None)\n",
    "name_ind = list(range(int(DQB1_prot.shape[0]/2)))\n",
    "names = DQB1_prot.loc[[2 * ind for ind in name_ind]]\n",
    "names = names.iloc[:, 0].tolist()\n",
    "names = [name.replace(\">\", \"\") for name in names]\n",
    "seqs = DQB1_prot.loc[[2 * ind + 1 for ind in name_ind]]\n",
    "seqs = seqs.iloc[:, 0].tolist()\n",
    "\n",
    "DQB1_seqs = pd.DataFrame(list(zip(names, seqs)), \n",
    "                            columns =['name', 'seq']) \n",
    "DQB1_seqs.shape\n",
    "# (1045, 2)\n",
    "DQB1_seqs['short'] = [\":\".join(name.split(\":\")[:2]) for name in DQB1_seqs.name.tolist()]\n",
    "DQB1_seq_dict = defaultdict(set)\n",
    "for short, seq in zip(DQB1_seqs.short.tolist(), DQB1_seqs.seq.tolist()):\n",
    "    DQB1_seq_dict[short].add(seq)\n",
    "\n",
    "len(DQB1_seq_dict)"
   ]
  },
  {
   "cell_type": "code",
   "execution_count": 60,
   "metadata": {},
   "outputs": [],
   "source": [
    "# set of DPBs that need additional modifications\n",
    "extra_modify_DPBs = ['DPB1*17:01', 'DPB1*10:01']"
   ]
  },
  {
   "cell_type": "markdown",
   "metadata": {},
   "source": [
    "Next we proceed to verify reconstructed pseduo sequences based on 19 positions. \n",
    "\n",
    "The adjustments needed for alignment:\n",
    "\n",
    "(0) All positions from NetMHCIIpan-3.0 should be subtracted by 7 in order to match the full sequence files, \n",
    "\n",
    "which means from \n",
    "\n",
    "9, 11, 13, 26, 28, 30, 47, 57, 67, 70, 71, 74, 77, 78, 81, 85, 86, 89, 90\n",
    "\n",
    "to\n",
    "\n",
    "2, 4, 6, 19, 21, 23, 40, 50, 60, 63, 64, 67, 70, 71, 74, 78, 79, 82, 83.\n",
    "\n",
    "(1) For two DPBs DPB1*17:01 and DPB1*10:01, the first position needs to be moved by 2 positions to the left, \n",
    "\n",
    "which means from \n",
    "\n",
    "2, 4, 6, 19, 21, 23, 40, 50, 60, 63, 64, 67, 70, 71, 74, 78, 79, 82, 83\n",
    "\n",
    "to \n",
    "\n",
    "0, 4, 6, 19, 21, 23, 40, 50, 60, 63, 64, 67, 70, 71, 74, 78, 79, 82, 83.\n",
    "\n",
    "(2) If a B allele has multiple corresponding pseudo sequences, drop those containing \"X\"."
   ]
  },
  {
   "cell_type": "code",
   "execution_count": 64,
   "metadata": {},
   "outputs": [],
   "source": [
    "# reconstruct a pseudo sequence dictionary from full sequence data\n",
    "\n",
    "\n",
    "\n",
    "HLA_II_beta_pseudo_rec_dict = defaultdict(str)\n",
    "\n",
    "\n",
    "pos_beta = [pos for pos in nineteen]\n",
    "\n",
    "def get_b_half_modify_19(lookup_dict, allele, pos_beta, modify_flag):\n",
    "    seq_candids = list(lookup_dict[allele])\n",
    "    if modify_flag:\n",
    "        seq_pseudos_modify = list(set([\"\".join([item[ind-7] for ind in pos_beta]) for item in seq_candids]))\n",
    "        seq_pseudos = ['Y'+item[1:] for item in seq_pseudos_modify]\n",
    "    else:\n",
    "        seq_pseudos = list(set([\"\".join([item[ind-7] for ind in pos_beta]) for item in seq_candids]))\n",
    "    seq_pseudo_noX = [seq for seq in seq_pseudos if \"X\" not in seq]\n",
    "    if len(seq_pseudo_noX) == 1:\n",
    "        return True, seq_pseudo_noX[0]\n",
    "    else:\n",
    "        return False, \"\"\n",
    "    \n",
    "    \n",
    "for item in list_HLA_II_beta:\n",
    "    if item[:3] == \"DQB\":\n",
    "        sub_flag, seq = get_b_half_modify_19(DQB1_seq_dict, item, pos_beta, False)\n",
    "        if not sub_flag:\n",
    "            print(\"seq_pseudo_noX len is not 1\")\n",
    "            print(\"item = \", item)\n",
    "            break\n",
    "        HLA_II_beta_pseudo_rec_dict[item] = seq     \n",
    "    elif item[:3] == \"DPB\":\n",
    "        modify_flag = (item in extra_modify_DPBs)\n",
    "        sub_flag, seq = get_b_half_modify_19(DPB1_seq_dict, item, pos_beta, modify_flag)\n",
    "        if not sub_flag:\n",
    "            print(\"seq_pseudo_noX len is not 1\")\n",
    "            print(\"item = \", item)\n",
    "            break\n",
    "        HLA_II_beta_pseudo_rec_dict[item] = seq     \n",
    "    elif item[:3] == \"DRB\":\n",
    "        sub_flag, seq = get_b_half_modify_19(DRB_seq_dict, item, pos_beta, False)\n",
    "        if not sub_flag:\n",
    "            print(\"seq_pseudo_noX len is not 1\")\n",
    "            print(\"item = \", item)\n",
    "            break\n",
    "        HLA_II_beta_pseudo_rec_dict[item] = seq  \n",
    "    else:\n",
    "        print(\"error found, first three letters exception\")\n",
    "        print(item)\n",
    "        break"
   ]
  },
  {
   "cell_type": "code",
   "execution_count": 67,
   "metadata": {},
   "outputs": [
    {
     "data": {
      "text/plain": [
       "True"
      ]
     },
     "execution_count": 67,
     "metadata": {},
     "output_type": "execute_result"
    }
   ],
   "source": [
    "# thus we have verified that this way of reconstructing pseudo sequences\n",
    "# gets results that match those from file \"../../data/intermediate_data/pseudosequence_2016_all_X.dat\"\n",
    "HLA_II_beta_pseudo_rec_dict == HLA_II_beta_pseudo_dict"
   ]
  },
  {
   "cell_type": "code",
   "execution_count": 69,
   "metadata": {},
   "outputs": [
    {
     "data": {
      "text/plain": [
       "{'YVYQGRQECYAFN--GTQRFLERYIYNREEYARFDSDVGEFRAVTELGRPAAEYWNSQKDILEEKRAVPDRVCRHNYELDEAVTL'}"
      ]
     },
     "execution_count": 69,
     "metadata": {},
     "output_type": "execute_result"
    }
   ],
   "source": [
    "DPB1_seq_dict['DPB1*01:01']"
   ]
  },
  {
   "cell_type": "code",
   "execution_count": 70,
   "metadata": {},
   "outputs": [
    {
     "data": {
      "text/plain": [
       "{'YVHQLRQECYAFN--GTQRFLERYIYNREEFVRFDSDVGEFRAVTELGRPDEEYWNSQKDILEEERAVPDRVCRHNYELDEAVTL'}"
      ]
     },
     "execution_count": 70,
     "metadata": {},
     "output_type": "execute_result"
    }
   ],
   "source": [
    "DPB1_seq_dict['DPB1*10:01']"
   ]
  },
  {
   "cell_type": "code",
   "execution_count": 71,
   "metadata": {},
   "outputs": [
    {
     "data": {
      "text/plain": [
       "{'YVHQLRQECYAFN--GTQRFLERYIYNREEFVRFDSDVGEFRAVTELGRPDEDYWNSQKDILEEERAVPDRMCRHNYELDEAVTL'}"
      ]
     },
     "execution_count": 71,
     "metadata": {},
     "output_type": "execute_result"
    }
   ],
   "source": [
    "DPB1_seq_dict['DPB1*17:01']"
   ]
  },
  {
   "cell_type": "code",
   "execution_count": 73,
   "metadata": {},
   "outputs": [
    {
     "data": {
      "text/plain": [
       "[2, 4, 6, 19, 21, 23, 40, 50, 60, 63, 64, 67, 70, 71, 74, 78, 79, 82, 83]"
      ]
     },
     "execution_count": 73,
     "metadata": {},
     "output_type": "execute_result"
    }
   ],
   "source": [
    "[ind - 7 for ind in nineteen]"
   ]
  },
  {
   "cell_type": "code",
   "execution_count": 74,
   "metadata": {},
   "outputs": [
    {
     "data": {
      "text/plain": [
       "'YGQFEYFAIEKVRVHLDVT'"
      ]
     },
     "execution_count": 74,
     "metadata": {},
     "output_type": "execute_result"
    }
   ],
   "source": [
    "HLA_II_beta_pseudo_dict['DPB1*01:01']\n",
    "'YVYQGRQECYAFN--GTQRFLERYIYNREEYARFDSDVGEFRAVTELGRPAAEYWNSQKDILEEKRAVPDRVCRHNYELDEAVTL'"
   ]
  },
  {
   "cell_type": "code",
   "execution_count": 75,
   "metadata": {},
   "outputs": [
    {
     "data": {
      "text/plain": [
       "'YLQFEYFDIEEVRVHLDVT'"
      ]
     },
     "execution_count": 75,
     "metadata": {},
     "output_type": "execute_result"
    }
   ],
   "source": [
    "HLA_II_beta_pseudo_dict['DPB1*10:01']\n",
    "'YVHQLRQECYAFN--GTQRFLERYIYNREEFVRFDSDVGEFRAVTELGRPDEEYWNSQKDILEEERAVPDRVCRHNYELDEAVTL'"
   ]
  },
  {
   "cell_type": "code",
   "execution_count": 76,
   "metadata": {},
   "outputs": [
    {
     "data": {
      "text/plain": [
       "'YLQFEYFDIEEVRMHLDVT'"
      ]
     },
     "execution_count": 76,
     "metadata": {},
     "output_type": "execute_result"
    }
   ],
   "source": [
    "HLA_II_beta_pseudo_dict['DPB1*17:01']\n",
    "'YVHQLRQECYAFN--GTQRFLERYIYNREEFVRFDSDVGEFRAVTELGRPDEDYWNSQKDILEEERAVPDRMCRHNYELDEAVTL'"
   ]
  },
  {
   "cell_type": "code",
   "execution_count": 83,
   "metadata": {},
   "outputs": [],
   "source": [
    "#list_HLA_II_beta[:10]"
   ]
  },
  {
   "cell_type": "code",
   "execution_count": 84,
   "metadata": {},
   "outputs": [],
   "source": [
    "#[DPB1_seq_dict[key] for key in list_HLA_II_beta]"
   ]
  },
  {
   "cell_type": "code",
   "execution_count": 86,
   "metadata": {},
   "outputs": [
    {
     "data": {
      "text/plain": [
       "[56, 60, 61, 64, 66, 69, 73, 76, 82]"
      ]
     },
     "execution_count": 86,
     "metadata": {},
     "output_type": "execute_result"
    }
   ],
   "source": [
    "# 9 additional positions (index adjusted) for HLA-II alpha chain:\n",
    "nine = [49, 53, 54, 57, 59, 62, 66, 69, 75]\n",
    "# add 7 to all to take them on the same scale as the original fifteen\n",
    "up_nine = [ind + 7 for ind in nine]\n",
    "up_nine"
   ]
  },
  {
   "cell_type": "markdown",
   "metadata": {},
   "source": [
    "Assume that the two extra_modify_DPBs will not need additional adjustment after the very beginning part of the sequences."
   ]
  },
  {
   "cell_type": "code",
   "execution_count": 87,
   "metadata": {},
   "outputs": [],
   "source": [
    "# now let's check whether for each HLA-II B alleles, we can find a unique pseudo \n",
    "# sequence for it based on these 9 positions\n",
    "\n",
    "\n",
    "flag_HLA_II_on_9 = []\n",
    "HLA_II_beta_pseudo_9_dict = defaultdict(str)\n",
    "\n",
    "\n",
    "pos_up_9 = [pos for pos in up_nine]\n",
    "\n",
    "def get_b_half_modify_9(lookup_dict, allele, pos_up_9):\n",
    "    seq_candids = list(lookup_dict[allele])\n",
    "    seq_pseudos = list(set([\"\".join([item[ind-7] for ind in pos_up_9]) for item in seq_candids]))\n",
    "    seq_pseudo_noX = [seq for seq in seq_pseudos if \"X\" not in seq]\n",
    "    if len(seq_pseudo_noX) == 1:\n",
    "        return True, seq_pseudo_noX[0]\n",
    "    else:\n",
    "        return False, \"\"\n",
    "    \n",
    "    \n",
    "for item in list_HLA_II_beta:\n",
    "    if item[:3] == \"DQB\":\n",
    "        sub_flag, seq = get_b_half_modify_9(DQB1_seq_dict, item, pos_up_9)\n",
    "        flag_HLA_II_on_9 += [sub_flag]\n",
    "        if not sub_flag:\n",
    "            print(\"seq_pseudo_noX len is not 1\")\n",
    "            print(\"item = \", item)\n",
    "            break\n",
    "        HLA_II_beta_pseudo_9_dict[item] = seq     \n",
    "    elif item[:3] == \"DPB\":\n",
    "        sub_flag, seq = get_b_half_modify_9(DPB1_seq_dict, item, pos_up_9)\n",
    "        flag_HLA_II_on_9 += [sub_flag]\n",
    "        if not sub_flag:\n",
    "            print(\"seq_pseudo_noX len is not 1\")\n",
    "            print(\"item = \", item)\n",
    "            break\n",
    "        HLA_II_beta_pseudo_9_dict[item] = seq     \n",
    "    elif item[:3] == \"DRB\":\n",
    "        sub_flag, seq = get_b_half_modify_9(DRB_seq_dict, item, pos_up_9)\n",
    "        flag_HLA_II_on_9 += [sub_flag]\n",
    "        if not sub_flag:\n",
    "            print(\"seq_pseudo_noX len is not 1\")\n",
    "            print(\"item = \", item)\n",
    "            break\n",
    "        HLA_II_beta_pseudo_9_dict[item] = seq  \n",
    "    else:\n",
    "        print(\"error found, first three letters exception\")\n",
    "        print(item)\n",
    "        break"
   ]
  },
  {
   "cell_type": "code",
   "execution_count": 90,
   "metadata": {},
   "outputs": [
    {
     "data": {
      "text/plain": [
       "1.0"
      ]
     },
     "execution_count": 90,
     "metadata": {},
     "output_type": "execute_result"
    }
   ],
   "source": [
    "sum(flag_HLA_II_on_9)/len(flag_HLA_II_on_9)"
   ]
  },
  {
   "cell_type": "code",
   "execution_count": 95,
   "metadata": {},
   "outputs": [
    {
     "data": {
      "text/plain": [
       "[2, 3, 1, 1, 2, 1, 2, 1, 1]"
      ]
     },
     "execution_count": 95,
     "metadata": {},
     "output_type": "execute_result"
    }
   ],
   "source": [
    "# now we have verified that we can construct one unique pseudo sequence\n",
    "# on the nine additional positions for each HLA-II B allele in \n",
    "# the HLA-II pairs in HLA v2 matrix of DeWitt_2018\n",
    "\n",
    "# next we check how many of these 9 additional positions have diversity\n",
    "# in terms of amino acids across the 62 HLA-II B alleles\n",
    "\n",
    "nunique_9 = []\n",
    "\n",
    "for i in range(9):\n",
    "    cur_aas = ''\n",
    "    for value in list(HLA_II_beta_pseudo_9_dict.values()):\n",
    "        cur_aas += value[i]\n",
    "    nunique_9 += [len(set(cur_aas))]\n",
    "\n",
    "nunique_9"
   ]
  },
  {
   "cell_type": "code",
   "execution_count": 96,
   "metadata": {},
   "outputs": [
    {
     "data": {
      "text/plain": [
       "[56, 60, 66, 73]"
      ]
     },
     "execution_count": 96,
     "metadata": {},
     "output_type": "execute_result"
    }
   ],
   "source": [
    "# 4 out of 9 positions have diverity\n",
    "add_HLA_II_4 = [up_nine[i] for i in range(9) if nunique_9[i] > 1]\n",
    "add_HLA_II_4"
   ]
  },
  {
   "cell_type": "markdown",
   "metadata": {},
   "source": [
    "Combine the 4 additional positions with the original 19 to make a set of 23 positions."
   ]
  },
  {
   "cell_type": "code",
   "execution_count": 101,
   "metadata": {},
   "outputs": [],
   "source": [
    "extended_HLA_II_beta = nineteen + add_HLA_II_4\n",
    "extended_HLA_II_beta.sort()\n",
    "#extended_HLA_II_beta\n",
    "# [9,11,13,26,28,30,47,56,57,60,66,67,70,71,73,74,77,78,81,85,86,89,90]"
   ]
  },
  {
   "cell_type": "code",
   "execution_count": 104,
   "metadata": {},
   "outputs": [],
   "source": [
    "# now move on to get pseudo sequences based on these 23 positions:\n",
    "\n",
    "# three adjustments mentioned in earlier part of this file is also used here\n",
    "\n",
    "flag_HLA_II_on_23 = []\n",
    "HLA_II_beta_pseudo_23_dict = defaultdict(str)\n",
    "\n",
    "\n",
    "pos_up_23 = [pos for pos in extended_HLA_II_beta]\n",
    "\n",
    "def get_b_half_modify_23(lookup_dict, allele, pos_up_23, modify_flag):\n",
    "    seq_candids = list(lookup_dict[allele])\n",
    "    if modify_flag:\n",
    "        seq_pseudos_modify = list(set([\"\".join([item[ind-7] for ind in pos_up_23]) for item in seq_candids]))\n",
    "        seq_pseudos = ['Y'+item[1:] for item in seq_pseudos_modify]\n",
    "    else:\n",
    "        seq_pseudos = list(set([\"\".join([item[ind-7] for ind in pos_up_23]) for item in seq_candids]))\n",
    "    seq_pseudo_noX = [seq for seq in seq_pseudos if \"X\" not in seq]\n",
    "    if len(seq_pseudo_noX) == 1:\n",
    "        return True, seq_pseudo_noX[0]\n",
    "    else:\n",
    "        return False, \"\"\n",
    "    \n",
    "for item in list_HLA_II_beta:\n",
    "    if item[:3] == \"DQB\":\n",
    "        sub_flag, seq = get_b_half_modify_23(DQB1_seq_dict, item, pos_up_23, False)\n",
    "        flag_HLA_II_on_23 += [sub_flag]\n",
    "        if not sub_flag:\n",
    "            print(\"seq_pseudo_noX len is not 1\")\n",
    "            print(\"item = \", item)\n",
    "            break\n",
    "        HLA_II_beta_pseudo_23_dict[item] = seq     \n",
    "    elif item[:3] == \"DPB\":\n",
    "        modify_flag = (item in extra_modify_DPBs)\n",
    "        sub_flag, seq = get_b_half_modify_23(DPB1_seq_dict, item, pos_up_23, modify_flag)\n",
    "        flag_HLA_II_on_23 += [sub_flag]\n",
    "        if not sub_flag:\n",
    "            print(\"seq_pseudo_noX len is not 1\")\n",
    "            print(\"item = \", item)\n",
    "            break\n",
    "        HLA_II_beta_pseudo_23_dict[item] = seq     \n",
    "    elif item[:3] == \"DRB\":\n",
    "        sub_flag, seq = get_b_half_modify_23(DRB_seq_dict, item, pos_up_23, False)\n",
    "        flag_HLA_II_on_23 += [sub_flag]\n",
    "        if not sub_flag:\n",
    "            print(\"seq_pseudo_noX len is not 1\")\n",
    "            print(\"item = \", item)\n",
    "            break\n",
    "        HLA_II_beta_pseudo_23_dict[item] = seq  \n",
    "    else:\n",
    "        print(\"error found, first three letters exception\")\n",
    "        print(item)\n",
    "        break"
   ]
  },
  {
   "cell_type": "code",
   "execution_count": 105,
   "metadata": {},
   "outputs": [
    {
     "data": {
      "text/plain": [
       "1.0"
      ]
     },
     "execution_count": 105,
     "metadata": {},
     "output_type": "execute_result"
    }
   ],
   "source": [
    "sum(flag_HLA_II_on_23)/len(flag_HLA_II_on_23)"
   ]
  },
  {
   "cell_type": "code",
   "execution_count": 107,
   "metadata": {},
   "outputs": [
    {
     "data": {
      "text/plain": [
       "62"
      ]
     },
     "execution_count": 107,
     "metadata": {},
     "output_type": "execute_result"
    }
   ],
   "source": [
    "len(HLA_II_beta_pseudo_23_dict)"
   ]
  },
  {
   "cell_type": "code",
   "execution_count": 108,
   "metadata": {},
   "outputs": [],
   "source": [
    "HLA_II_beta_pseudo_23_value = [HLA_II_beta_pseudo_23_dict[key] for key in list_HLA_II_beta]\n",
    "\n",
    "df_HLA_II_beta_23 = pd.DataFrame(list(zip(list_HLA_II_beta, HLA_II_beta_pseudo_23_value)), \\\n",
    "                                 columns = [\"allele\", \"seq\"])\n",
    "df_HLA_II_beta_23.shape\n",
    "# (62, 2)"
   ]
  },
  {
   "cell_type": "code",
   "execution_count": 111,
   "metadata": {},
   "outputs": [],
   "source": [
    "# write the dictionary out in the format of a table\n",
    "df_HLA_II_beta_23.to_csv(\"../../data/intermediate_data/t4_HLA_II_v2_beta_pseudo_23_dict.csv\", index = False)"
   ]
  },
  {
   "cell_type": "code",
   "execution_count": null,
   "metadata": {},
   "outputs": [],
   "source": []
  },
  {
   "cell_type": "code",
   "execution_count": 112,
   "metadata": {},
   "outputs": [],
   "source": [
    "# go and check a few HLA-II B alleles"
   ]
  },
  {
   "cell_type": "code",
   "execution_count": 116,
   "metadata": {},
   "outputs": [
    {
     "data": {
      "text/plain": [
       "True"
      ]
     },
     "execution_count": 116,
     "metadata": {},
     "output_type": "execute_result"
    }
   ],
   "source": [
    "#'DPB1*01:01' 'YGQFEYFAIEKVRVHLDVT'\n",
    "''.join(['YGQFEYFPAYDIEKAVRVHLDVT'[i] for i in range(23) if extended_HLA_II_beta[i] in nineteen])\\\n",
    "   == 'YGQFEYFAIEKVRVHLDVT'"
   ]
  },
  {
   "cell_type": "code",
   "execution_count": 121,
   "metadata": {},
   "outputs": [
    {
     "data": {
      "text/plain": [
       "True"
      ]
     },
     "execution_count": 121,
     "metadata": {},
     "output_type": "execute_result"
    }
   ],
   "source": [
    "# 'DPB1*10:01': 'YLQFEYFDIEEVRVHLDVT'\n",
    "''.join(['YLQFEYFPDYDIEEAVRVHLDVT'[i] for i in range(23) if extended_HLA_II_beta[i] in nineteen])\\\n",
    "   == 'YLQFEYFDIEEVRVHLDVT'"
   ]
  },
  {
   "cell_type": "code",
   "execution_count": 123,
   "metadata": {},
   "outputs": [
    {
     "data": {
      "text/plain": [
       "True"
      ]
     },
     "execution_count": 123,
     "metadata": {},
     "output_type": "execute_result"
    }
   ],
   "source": [
    "# 'DPB1*17:01': 'YLQFEYFDIEEVRMHLDVT'\n",
    "''.join(['YLQFEYFPDYDIEEAVRMHLDVT'[i] for i in range(23) if extended_HLA_II_beta[i] in nineteen])\\\n",
    "   == 'YLQFEYFDIEEVRMHLDVT'"
   ]
  },
  {
   "cell_type": "code",
   "execution_count": 125,
   "metadata": {},
   "outputs": [
    {
     "data": {
      "text/plain": [
       "True"
      ]
     },
     "execution_count": 125,
     "metadata": {},
     "output_type": "execute_result"
    }
   ],
   "source": [
    "# 'DQB1*06:02': 'FFGLTYYDVGTETVHVAGI',\n",
    "''.join(['FFGLTYYPDYEVGTAETVHVAGI'[i] for i in range(23) if extended_HLA_II_beta[i] in nineteen])\\\n",
    "   == 'FFGLTYYDVGTETVHVAGI'"
   ]
  },
  {
   "cell_type": "code",
   "execution_count": 127,
   "metadata": {},
   "outputs": [
    {
     "data": {
      "text/plain": [
       "True"
      ]
     },
     "execution_count": 127,
     "metadata": {},
     "output_type": "execute_result"
    }
   ],
   "source": [
    "# 'DRB1*12:02': 'ESGLEHFVFDRATYHAVFT',\n",
    "''.join(['ESGLEHFPVSDFDRAATYHAVFT'[i] for i in range(23) if extended_HLA_II_beta[i] in nineteen])\\\n",
    "   == 'ESGLEHFVFDRATYHAVFT'"
   ]
  }
 ],
 "metadata": {
  "kernelspec": {
   "display_name": "Python 3 (ipykernel)",
   "language": "python",
   "name": "python3"
  },
  "language_info": {
   "codemirror_mode": {
    "name": "ipython",
    "version": 3
   },
   "file_extension": ".py",
   "mimetype": "text/x-python",
   "name": "python",
   "nbconvert_exporter": "python",
   "pygments_lexer": "ipython3",
   "version": "3.9.10"
  }
 },
 "nbformat": 4,
 "nbformat_minor": 2
}
