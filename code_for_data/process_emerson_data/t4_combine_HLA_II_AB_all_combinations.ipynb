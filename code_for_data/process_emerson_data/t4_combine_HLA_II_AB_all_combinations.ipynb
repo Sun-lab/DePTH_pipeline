{
 "cells": [
  {
   "cell_type": "markdown",
   "metadata": {},
   "source": [
    "### This file combines the extended pseudo sequences of HLA-II A alleles with HLA-II B alleles\n",
    "\n",
    "**In addition to the 135 pairs, this version also covers all pairs formed between DPAs & DPBs and between DQAs & DQBs from DeWitt_2018 data**\n",
    "\n",
    "From the 135 pairs contained in HLA v2 matrix of DeWitt_2018 (original format is 130 items with 5 haplotypes. After separating each haplotype into two pairs we eventually get 135 pairs), extract the unique DRBs, DPAs, DPBs, DQAs and DQBs, and then go through all unique DRBs, all unique (DPA, DPB) and all unique (DQA, DQB).\n",
    "\n",
    "Input files:\n",
    "\n",
    "The dictionary of extended pseudo sequences for 17 HLA-II A alleles(all DRAs treated as one) stored in \n",
    "\n",
    "    ../../data/intermediate_data/t4_HLA_II_v2_alpha_pseudo_22_dict.csv\n",
    "\n",
    "The dictionary of extended pseudo sequences for 62 HLA-II B alleles stored in\n",
    "\n",
    "    ../../data/intermediate_data/t4_HLA_II_v2_beta_pseudo_23_dict.csv\n",
    "\n",
    "The names of HLA-II items from HLA v2 data of DeWitt_2018 stored in \n",
    "\n",
    "    ../../data/intermediate_data/DeWitt_2018/HLA_v2_features_row_names.txt\n",
    "\n",
    "Output file:\n",
    "\n",
    "A csv file storing the combined extended pseudo sequences for 135 HLA-II pairs: \n",
    "\n",
    "    ../../data/for_encoders/HLA_II_pseudo_45.csv"
   ]
  },
  {
   "cell_type": "code",
   "execution_count": 1,
   "metadata": {},
   "outputs": [],
   "source": [
    "import numpy as np\n",
    "import pandas as pd\n",
    "\n",
    "from collections import Counter\n",
    "from collections import defaultdict"
   ]
  },
  {
   "cell_type": "code",
   "execution_count": 2,
   "metadata": {},
   "outputs": [
    {
     "data": {
      "text/html": [
       "<div>\n",
       "<style scoped>\n",
       "    .dataframe tbody tr th:only-of-type {\n",
       "        vertical-align: middle;\n",
       "    }\n",
       "\n",
       "    .dataframe tbody tr th {\n",
       "        vertical-align: top;\n",
       "    }\n",
       "\n",
       "    .dataframe thead th {\n",
       "        text-align: right;\n",
       "    }\n",
       "</style>\n",
       "<table border=\"1\" class=\"dataframe\">\n",
       "  <thead>\n",
       "    <tr style=\"text-align: right;\">\n",
       "      <th></th>\n",
       "      <th>feature</th>\n",
       "      <th>hla</th>\n",
       "    </tr>\n",
       "  </thead>\n",
       "  <tbody>\n",
       "    <tr>\n",
       "      <th>0</th>\n",
       "      <td>feature:</td>\n",
       "      <td>HLA-DPAB*02:01_04:01</td>\n",
       "    </tr>\n",
       "    <tr>\n",
       "      <th>1</th>\n",
       "      <td>feature:</td>\n",
       "      <td>HLA-DQAB*05:05_06:04</td>\n",
       "    </tr>\n",
       "    <tr>\n",
       "      <th>2</th>\n",
       "      <td>feature:</td>\n",
       "      <td>HLA-B*08:01</td>\n",
       "    </tr>\n",
       "    <tr>\n",
       "      <th>3</th>\n",
       "      <td>feature:</td>\n",
       "      <td>HLA-A*24:02</td>\n",
       "    </tr>\n",
       "    <tr>\n",
       "      <th>4</th>\n",
       "      <td>feature:</td>\n",
       "      <td>HLA-A*24:03</td>\n",
       "    </tr>\n",
       "    <tr>\n",
       "      <th>5</th>\n",
       "      <td>feature:</td>\n",
       "      <td>HLA-B*38:02</td>\n",
       "    </tr>\n",
       "  </tbody>\n",
       "</table>\n",
       "</div>"
      ],
      "text/plain": [
       "    feature                   hla\n",
       "0  feature:  HLA-DPAB*02:01_04:01\n",
       "1  feature:  HLA-DQAB*05:05_06:04\n",
       "2  feature:           HLA-B*08:01\n",
       "3  feature:           HLA-A*24:02\n",
       "4  feature:           HLA-A*24:03\n",
       "5  feature:           HLA-B*38:02"
      ]
     },
     "execution_count": 2,
     "metadata": {},
     "output_type": "execute_result"
    }
   ],
   "source": [
    "# get HLA-II pair names from HLA_v2_features\n",
    "HLA_v2_features_row_names = pd.read_csv(\"../../data/intermediate_data/DeWitt_2018/HLA_v2_features_row_names.txt\", \n",
    "                                        sep = \" \", header = None)\n",
    "HLA_v2_features_row_names.columns = [\"feature\", \"hla\"]\n",
    "HLA_v2_features_row_names.shape\n",
    "# (215, 2)\n",
    "HLA_v2_features_row_names[:6]"
   ]
  },
  {
   "cell_type": "code",
   "execution_count": 3,
   "metadata": {},
   "outputs": [],
   "source": [
    "HLA_II_v2_pairs = [hla for hla in HLA_v2_features_row_names.hla.tolist() if hla[:7] in [\"HLA-DPA\", \"HLA-DQA\", \"HLA-DRD\", \"HLA-DRB\"]]"
   ]
  },
  {
   "cell_type": "code",
   "execution_count": 4,
   "metadata": {},
   "outputs": [
    {
     "data": {
      "text/plain": [
       "['HLA-DRDQ*10:01_01:05_05:01',\n",
       " 'HLA-DRDQ*03:01_05:01_02:01',\n",
       " 'HLA-DRDQ*13:01_01:03_06:03',\n",
       " 'HLA-DRDQ*15:01_01:02_06:02',\n",
       " 'HLA-DRDQ*09:01_03:02_03:03']"
      ]
     },
     "execution_count": 4,
     "metadata": {},
     "output_type": "execute_result"
    }
   ],
   "source": [
    "HLA_II_v2_5DRDQ = [item for item in HLA_II_v2_pairs if len(item.split(\"_\")) > 2]\n",
    "HLA_II_v2_5DRDQ"
   ]
  },
  {
   "cell_type": "code",
   "execution_count": 5,
   "metadata": {},
   "outputs": [],
   "source": [
    "HLA_II_v2_5DRDQ_DRB = [\"HLA-DRB1*\" + item[9:].split(\"_\")[0] for item in HLA_II_v2_5DRDQ]\n",
    "HLA_II_v2_5DRDQ_DQAB = [\"HLA-DQAB*\" + \"_\".join(item[9:].split(\"_\")[1:]) for item in HLA_II_v2_5DRDQ]"
   ]
  },
  {
   "cell_type": "code",
   "execution_count": 8,
   "metadata": {},
   "outputs": [
    {
     "name": "stdout",
     "output_type": "stream",
     "text": [
      "135\n"
     ]
    },
    {
     "data": {
      "text/plain": [
       "['HLA-DPAB*01:03_01:01',\n",
       " 'HLA-DPAB*01:03_02:01',\n",
       " 'HLA-DPAB*01:03_03:01',\n",
       " 'HLA-DPAB*01:03_04:01',\n",
       " 'HLA-DPAB*01:03_04:02',\n",
       " 'HLA-DPAB*01:03_05:01']"
      ]
     },
     "execution_count": 8,
     "metadata": {},
     "output_type": "execute_result"
    }
   ],
   "source": [
    "HLA_II_complete = list(set(HLA_II_v2_pairs + HLA_II_v2_5DRDQ_DRB + HLA_II_v2_5DRDQ_DQAB) - set(HLA_II_v2_5DRDQ))\n",
    "print(len(HLA_II_complete))\n",
    "# 135\n",
    "HLA_II_complete.sort()\n",
    "HLA_II_complete[:6]"
   ]
  },
  {
   "cell_type": "code",
   "execution_count": 10,
   "metadata": {},
   "outputs": [
    {
     "data": {
      "text/plain": [
       "['HLA-DPAB*01:03_01:01',\n",
       " 'HLA-DPAB*01:03_02:01',\n",
       " 'HLA-DPAB*01:03_03:01',\n",
       " 'HLA-DPAB*01:03_04:01',\n",
       " 'HLA-DPAB*01:03_04:02',\n",
       " 'HLA-DPAB*01:03_05:01',\n",
       " 'HLA-DPAB*01:03_10:01',\n",
       " 'HLA-DPAB*01:03_11:01',\n",
       " 'HLA-DPAB*01:03_13:01',\n",
       " 'HLA-DPAB*01:03_17:01',\n",
       " 'HLA-DPAB*02:01_01:01',\n",
       " 'HLA-DPAB*02:01_02:01',\n",
       " 'HLA-DPAB*02:01_03:01',\n",
       " 'HLA-DPAB*02:01_04:01',\n",
       " 'HLA-DPAB*02:01_04:02',\n",
       " 'HLA-DPAB*02:01_05:01',\n",
       " 'HLA-DPAB*02:01_10:01',\n",
       " 'HLA-DPAB*02:01_11:01',\n",
       " 'HLA-DPAB*02:01_13:01',\n",
       " 'HLA-DPAB*02:01_17:01',\n",
       " 'HLA-DPAB*02:02_01:01',\n",
       " 'HLA-DPAB*02:02_02:01',\n",
       " 'HLA-DPAB*02:02_04:01',\n",
       " 'HLA-DPAB*02:02_04:02',\n",
       " 'HLA-DPAB*02:02_05:01',\n",
       " 'HLA-DQAB*01:01_02:02',\n",
       " 'HLA-DQAB*01:01_03:01',\n",
       " 'HLA-DQAB*01:01_03:02',\n",
       " 'HLA-DQAB*01:01_05:01',\n",
       " 'HLA-DQAB*01:01_05:03',\n",
       " 'HLA-DQAB*01:01_06:02',\n",
       " 'HLA-DQAB*01:01_06:03',\n",
       " 'HLA-DQAB*01:02_02:01',\n",
       " 'HLA-DQAB*01:02_02:02',\n",
       " 'HLA-DQAB*01:02_03:01',\n",
       " 'HLA-DQAB*01:02_03:02',\n",
       " 'HLA-DQAB*01:02_03:03',\n",
       " 'HLA-DQAB*01:02_04:02',\n",
       " 'HLA-DQAB*01:02_05:01',\n",
       " 'HLA-DQAB*01:02_05:02',\n",
       " 'HLA-DQAB*01:02_06:02',\n",
       " 'HLA-DQAB*01:02_06:03',\n",
       " 'HLA-DQAB*01:02_06:04',\n",
       " 'HLA-DQAB*01:02_06:09',\n",
       " 'HLA-DQAB*01:03_02:01',\n",
       " 'HLA-DQAB*01:03_02:02',\n",
       " 'HLA-DQAB*01:03_03:01',\n",
       " 'HLA-DQAB*01:03_06:01',\n",
       " 'HLA-DQAB*01:03_06:02',\n",
       " 'HLA-DQAB*01:03_06:03',\n",
       " 'HLA-DQAB*01:04_02:01',\n",
       " 'HLA-DQAB*01:04_05:03',\n",
       " 'HLA-DQAB*01:05_05:01',\n",
       " 'HLA-DQAB*02:01_02:01',\n",
       " 'HLA-DQAB*02:01_02:02',\n",
       " 'HLA-DQAB*02:01_03:01',\n",
       " 'HLA-DQAB*02:01_03:02',\n",
       " 'HLA-DQAB*02:01_03:03',\n",
       " 'HLA-DQAB*02:01_05:01',\n",
       " 'HLA-DQAB*02:01_06:02',\n",
       " 'HLA-DQAB*02:01_06:03',\n",
       " 'HLA-DQAB*02:01_06:09',\n",
       " 'HLA-DQAB*03:01_02:01',\n",
       " 'HLA-DQAB*03:01_02:02',\n",
       " 'HLA-DQAB*03:01_03:01',\n",
       " 'HLA-DQAB*03:01_03:02',\n",
       " 'HLA-DQAB*03:01_06:02',\n",
       " 'HLA-DQAB*03:01_06:03',\n",
       " 'HLA-DQAB*03:01_06:04',\n",
       " 'HLA-DQAB*03:02_03:03',\n",
       " 'HLA-DQAB*03:03_02:01',\n",
       " 'HLA-DQAB*03:03_02:02',\n",
       " 'HLA-DQAB*03:03_03:01',\n",
       " 'HLA-DQAB*03:03_03:02',\n",
       " 'HLA-DQAB*03:03_05:01',\n",
       " 'HLA-DQAB*03:03_06:02',\n",
       " 'HLA-DQAB*04:01_03:01',\n",
       " 'HLA-DQAB*04:01_04:02',\n",
       " 'HLA-DQAB*04:01_05:01',\n",
       " 'HLA-DQAB*05:01_02:01',\n",
       " 'HLA-DQAB*05:01_02:02',\n",
       " 'HLA-DQAB*05:01_03:01',\n",
       " 'HLA-DQAB*05:01_03:03',\n",
       " 'HLA-DQAB*05:01_05:01',\n",
       " 'HLA-DQAB*05:01_06:02',\n",
       " 'HLA-DQAB*05:01_06:03',\n",
       " 'HLA-DQAB*05:01_06:04',\n",
       " 'HLA-DQAB*05:05_02:01',\n",
       " 'HLA-DQAB*05:05_02:02',\n",
       " 'HLA-DQAB*05:05_03:01',\n",
       " 'HLA-DQAB*05:05_03:02',\n",
       " 'HLA-DQAB*05:05_03:03',\n",
       " 'HLA-DQAB*05:05_05:01',\n",
       " 'HLA-DQAB*05:05_06:02',\n",
       " 'HLA-DQAB*05:05_06:03',\n",
       " 'HLA-DQAB*05:05_06:04',\n",
       " 'HLA-DQAB*06:01_03:01',\n",
       " 'HLA-DRB1*01:01',\n",
       " 'HLA-DRB1*01:02',\n",
       " 'HLA-DRB1*01:03',\n",
       " 'HLA-DRB1*03:01',\n",
       " 'HLA-DRB1*04:01',\n",
       " 'HLA-DRB1*04:02',\n",
       " 'HLA-DRB1*04:03',\n",
       " 'HLA-DRB1*04:04',\n",
       " 'HLA-DRB1*04:05',\n",
       " 'HLA-DRB1*04:07',\n",
       " 'HLA-DRB1*04:08',\n",
       " 'HLA-DRB1*07:01',\n",
       " 'HLA-DRB1*08:01',\n",
       " 'HLA-DRB1*08:02',\n",
       " 'HLA-DRB1*08:03',\n",
       " 'HLA-DRB1*08:04',\n",
       " 'HLA-DRB1*09:01',\n",
       " 'HLA-DRB1*10:01',\n",
       " 'HLA-DRB1*11:01',\n",
       " 'HLA-DRB1*11:02',\n",
       " 'HLA-DRB1*11:03',\n",
       " 'HLA-DRB1*11:04',\n",
       " 'HLA-DRB1*12:01',\n",
       " 'HLA-DRB1*12:02',\n",
       " 'HLA-DRB1*13:01',\n",
       " 'HLA-DRB1*13:02',\n",
       " 'HLA-DRB1*13:03',\n",
       " 'HLA-DRB1*13:05',\n",
       " 'HLA-DRB1*14:01',\n",
       " 'HLA-DRB1*14:02',\n",
       " 'HLA-DRB1*14:04',\n",
       " 'HLA-DRB1*14:07',\n",
       " 'HLA-DRB1*14:54',\n",
       " 'HLA-DRB1*15:01',\n",
       " 'HLA-DRB1*15:02',\n",
       " 'HLA-DRB1*15:03',\n",
       " 'HLA-DRB1*16:01',\n",
       " 'HLA-DRB1*16:02']"
      ]
     },
     "execution_count": 10,
     "metadata": {},
     "output_type": "execute_result"
    }
   ],
   "source": [
    "HLA_II_complete"
   ]
  },
  {
   "cell_type": "code",
   "execution_count": 22,
   "metadata": {},
   "outputs": [],
   "source": [
    "# extract\n",
    "# all unique DRB\n",
    "# all unique DQA, DQB\n",
    "# all unique DPA, DPB\n",
    "\n",
    "DRB_raw = [\"DRB1*\"+item[9:] for item in HLA_II_complete if item[:8]=='HLA-DRB1']\n",
    "DQA_raw = [\"DQA1*\"+item[9:].split(\"_\")[0] for item in HLA_II_complete if item[:8]=='HLA-DQAB']\n",
    "DQB_raw = [\"DQB1*\"+item[9:].split(\"_\")[1] for item in HLA_II_complete if item[:8]=='HLA-DQAB']\n",
    "DPA_raw = [\"DPA1*\"+item[9:].split(\"_\")[0] for item in HLA_II_complete if item[:8]=='HLA-DPAB']\n",
    "DPB_raw = [\"DPB1*\"+item[9:].split(\"_\")[1] for item in HLA_II_complete if item[:8]=='HLA-DPAB']"
   ]
  },
  {
   "cell_type": "code",
   "execution_count": 23,
   "metadata": {},
   "outputs": [
    {
     "name": "stdout",
     "output_type": "stream",
     "text": [
      "135\n",
      "135\n"
     ]
    }
   ],
   "source": [
    "print(len(DRB_raw)+len(DQA_raw)+len(DPA_raw))\n",
    "print(len(DRB_raw)+len(DQB_raw)+len(DPB_raw))"
   ]
  },
  {
   "cell_type": "code",
   "execution_count": 24,
   "metadata": {},
   "outputs": [
    {
     "name": "stdout",
     "output_type": "stream",
     "text": [
      "38\n",
      "13\n",
      "14\n",
      "3\n",
      "10\n",
      "78\n"
     ]
    }
   ],
   "source": [
    "DRB_list = list(set(DRB_raw))\n",
    "DQA_list = list(set(DQA_raw))\n",
    "DQB_list = list(set(DQB_raw))\n",
    "DPA_list = list(set(DPA_raw))\n",
    "DPB_list = list(set(DPB_raw))\n",
    "\n",
    "DRB_list.sort()\n",
    "DQA_list.sort()\n",
    "DQB_list.sort()\n",
    "DPA_list.sort()\n",
    "DPB_list.sort()\n",
    "\n",
    "print(len(DRB_list))\n",
    "print(len(DQA_list))\n",
    "print(len(DQB_list))\n",
    "print(len(DPA_list))\n",
    "print(len(DPB_list))\n",
    "\n",
    "print(len(DRB_list)+len(DQA_list)+len(DQB_list)+len(DPA_list)+len(DPB_list))"
   ]
  },
  {
   "cell_type": "code",
   "execution_count": null,
   "metadata": {},
   "outputs": [],
   "source": []
  },
  {
   "cell_type": "code",
   "execution_count": 31,
   "metadata": {},
   "outputs": [
    {
     "name": "stdout",
     "output_type": "stream",
     "text": [
      "(17, 2)\n",
      "(62, 2)\n"
     ]
    }
   ],
   "source": [
    "# load extended pseudo sequences dicts for HLA-II A alleles and HLA-II B alleles\n",
    "pseudo_a = pd.read_csv(\"../../data/intermediate_data/t4_HLA_II_v2_alpha_pseudo_22_dict.csv\", \n",
    "                       header = 0)\n",
    "print(pseudo_a.shape)\n",
    "# (17, 2)\n",
    "pseudo_b = pd.read_csv(\"../../data/intermediate_data/t4_HLA_II_v2_beta_pseudo_23_dict.csv\", \n",
    "                       header = 0)\n",
    "print(pseudo_b.shape)\n",
    "# (62, 2)"
   ]
  },
  {
   "cell_type": "code",
   "execution_count": 37,
   "metadata": {},
   "outputs": [
    {
     "name": "stdout",
     "output_type": "stream",
     "text": [
      "17\n",
      "62\n"
     ]
    }
   ],
   "source": [
    "pseudo_a_dict = defaultdict(str)\n",
    "pseudo_b_dict = defaultdict(str)\n",
    "\n",
    "for allele, seq in zip(pseudo_a.allele.tolist(), pseudo_a.seq.tolist()):\n",
    "    pseudo_a_dict[allele] = seq\n",
    "    \n",
    "for allele, seq in zip(pseudo_b.allele.tolist(), pseudo_b.seq.tolist()):\n",
    "    pseudo_b_dict[allele] = seq\n",
    "    \n",
    "print(len(pseudo_a_dict))\n",
    "# 17\n",
    "print(len(pseudo_b_dict))\n",
    "# 62"
   ]
  },
  {
   "cell_type": "markdown",
   "metadata": {},
   "source": [
    "Deal with DRB, DPA/DPB and DQA/DQB separately\n",
    "\n",
    "    add DRA for DRB\n",
    "    go through pairs formed between all DPAs and all DPBs\n",
    "    go through pairs formed between all DQAs and all DQBs"
   ]
  },
  {
   "cell_type": "code",
   "execution_count": 79,
   "metadata": {},
   "outputs": [],
   "source": [
    "# this first two lists holds the corresponding A/B alleles of each HLA-II pair\n",
    "HLA_II_alpha_list = []\n",
    "HLA_II_beta_list = []\n",
    "# this list holds the A/B alleles names put together, just as a sanity check\n",
    "HLA_II_rec_names = []\n",
    "# the dictionary below holds the combined pseudo sequences\n",
    "all_seq_dict = defaultdict(str)\n",
    "\n",
    "# separate the HLA-II pairs into two alleles each\n",
    "# translate them into the names in file \"../../data/intermediate_data/pseudosequence_2016_all_X.dat\"\n",
    "\n",
    "\n",
    "for item in DRB_list:\n",
    "    item_1 = \"DRA\"\n",
    "    item_2 = item\n",
    "    HLA_II_alpha_list += [item_1]\n",
    "    HLA_II_beta_list += [item_2]\n",
    "    HLA_II_rec_names += [item_1 + '-' + item_2]\n",
    "    full_name = \"HLA-\"+item\n",
    "    all_seq_dict[full_name] = pseudo_a_dict[item_1] + pseudo_b_dict[item_2]   \n",
    "\n",
    "for item_1 in DQA_list:\n",
    "    for item_2 in DQB_list:\n",
    "        HLA_II_alpha_list += [item_1]\n",
    "        HLA_II_beta_list += [item_2]\n",
    "        HLA_II_rec_names += [item_1 + '-' + item_2]\n",
    "        full_name = \"HLA-DQAB*\"+item_1.split(\"*\")[1]+\"_\"+item_2.split(\"*\")[1]\n",
    "        all_seq_dict[full_name] = pseudo_a_dict[item_1] + pseudo_b_dict[item_2]\n",
    "        \n",
    "for item_1 in DPA_list:\n",
    "    for item_2 in DPB_list:\n",
    "        HLA_II_alpha_list += [item_1]\n",
    "        HLA_II_beta_list += [item_2]\n",
    "        HLA_II_rec_names += [item_1 + '-' + item_2]\n",
    "        full_name = \"HLA-DPAB*\"+item_1.split(\"*\")[1]+\"_\"+item_2.split(\"*\")[1]\n",
    "        all_seq_dict[full_name] = pseudo_a_dict[item_1] + pseudo_b_dict[item_2]"
   ]
  },
  {
   "cell_type": "code",
   "execution_count": 81,
   "metadata": {},
   "outputs": [
    {
     "name": "stdout",
     "output_type": "stream",
     "text": [
      "250\n",
      "250\n"
     ]
    }
   ],
   "source": [
    "print(len(all_seq_dict))\n",
    "print(len(DRB_list)+len(DQA_list)*len(DQB_list)+len(DPA_list)*len(DPB_list))"
   ]
  },
  {
   "cell_type": "code",
   "execution_count": 83,
   "metadata": {},
   "outputs": [
    {
     "data": {
      "text/plain": [
       "Counter({'DRA': 38,\n",
       "         'DQA1*01:01': 14,\n",
       "         'DQA1*01:02': 14,\n",
       "         'DQA1*01:03': 14,\n",
       "         'DQA1*01:04': 14,\n",
       "         'DQA1*01:05': 14,\n",
       "         'DQA1*02:01': 14,\n",
       "         'DQA1*03:01': 14,\n",
       "         'DQA1*03:02': 14,\n",
       "         'DQA1*03:03': 14,\n",
       "         'DQA1*04:01': 14,\n",
       "         'DQA1*05:01': 14,\n",
       "         'DQA1*05:05': 14,\n",
       "         'DQA1*06:01': 14,\n",
       "         'DPA1*01:03': 10,\n",
       "         'DPA1*02:01': 10,\n",
       "         'DPA1*02:02': 10})"
      ]
     },
     "execution_count": 83,
     "metadata": {},
     "output_type": "execute_result"
    }
   ],
   "source": [
    "Counter(HLA_II_alpha_list)"
   ]
  },
  {
   "cell_type": "code",
   "execution_count": 96,
   "metadata": {},
   "outputs": [
    {
     "name": "stdout",
     "output_type": "stream",
     "text": [
      "14\n",
      "10\n"
     ]
    }
   ],
   "source": [
    "print(len(DQB_list))\n",
    "print(len(DPB_list))"
   ]
  },
  {
   "cell_type": "code",
   "execution_count": 95,
   "metadata": {},
   "outputs": [
    {
     "name": "stdout",
     "output_type": "stream",
     "text": [
      "(250, 3)\n"
     ]
    },
    {
     "data": {
      "text/plain": [
       "Counter({True: 212})"
      ]
     },
     "execution_count": 95,
     "metadata": {},
     "output_type": "execute_result"
    }
   ],
   "source": [
    "sanity_check_df = pd.DataFrame(list(zip(HLA_II_alpha_list, \\\n",
    "                                        HLA_II_beta_list, HLA_II_rec_names)),\\\n",
    "                               columns = [\"a_name\", \"b_name\", \"rec_name\"])\n",
    "print(sanity_check_df.shape)\n",
    "\n",
    "Counter([c==(a+\"-\"+b) for a,b,c in zip(sanity_check_df.a_name.tolist(), \n",
    "                                       sanity_check_df.b_name.tolist(), \n",
    "                                       sanity_check_df.rec_name.tolist()) if a!=\"DRA\"])"
   ]
  },
  {
   "cell_type": "code",
   "execution_count": null,
   "metadata": {},
   "outputs": [],
   "source": []
  },
  {
   "cell_type": "code",
   "execution_count": 97,
   "metadata": {},
   "outputs": [
    {
     "data": {
      "text/plain": [
       "Counter({45: 250})"
      ]
     },
     "execution_count": 97,
     "metadata": {},
     "output_type": "execute_result"
    }
   ],
   "source": [
    "Counter([len(value) for value in list(all_seq_dict.values())])"
   ]
  },
  {
   "cell_type": "code",
   "execution_count": 98,
   "metadata": {},
   "outputs": [
    {
     "data": {
      "text/plain": [
       "hla    250\n",
       "seq    169\n",
       "dtype: int64"
      ]
     },
     "execution_count": 98,
     "metadata": {},
     "output_type": "execute_result"
    }
   ],
   "source": [
    "all_keys = list(all_seq_dict.keys())\n",
    "all_keys.sort()\n",
    "\n",
    "all_seqs_list = [all_seq_dict[key] for key in all_keys]\n",
    "                  \n",
    "df_all_seqs = pd.DataFrame(list(zip(all_keys, all_seqs_list)), \\\n",
    "                               columns = ['hla', \"seq\"])\n",
    "\n",
    "df_all_seqs.nunique()"
   ]
  },
  {
   "cell_type": "code",
   "execution_count": 99,
   "metadata": {},
   "outputs": [
    {
     "data": {
      "text/html": [
       "<div>\n",
       "<style scoped>\n",
       "    .dataframe tbody tr th:only-of-type {\n",
       "        vertical-align: middle;\n",
       "    }\n",
       "\n",
       "    .dataframe tbody tr th {\n",
       "        vertical-align: top;\n",
       "    }\n",
       "\n",
       "    .dataframe thead th {\n",
       "        text-align: right;\n",
       "    }\n",
       "</style>\n",
       "<table border=\"1\" class=\"dataframe\">\n",
       "  <thead>\n",
       "    <tr style=\"text-align: right;\">\n",
       "      <th></th>\n",
       "      <th>hla</th>\n",
       "      <th>seq</th>\n",
       "    </tr>\n",
       "  </thead>\n",
       "  <tbody>\n",
       "    <tr>\n",
       "      <th>0</th>\n",
       "      <td>HLA-DPAB*01:03_01:01</td>\n",
       "      <td>YAFFMGQAFSEGGAILNNNTLQYGQFEYFPAYDIEKAVRVHLDVT</td>\n",
       "    </tr>\n",
       "    <tr>\n",
       "      <th>1</th>\n",
       "      <td>HLA-DPAB*01:03_02:01</td>\n",
       "      <td>YAFFMGQAFSEGGAILNNNTLQFGQFEYFPDYDIEEAVRMHLGMT</td>\n",
       "    </tr>\n",
       "    <tr>\n",
       "      <th>2</th>\n",
       "      <td>HLA-DPAB*01:03_03:01</td>\n",
       "      <td>YAFFMGQAFSEGGAILNNNTLQYLQFEYFPDYDLEKAVRVHLDVT</td>\n",
       "    </tr>\n",
       "    <tr>\n",
       "      <th>3</th>\n",
       "      <td>HLA-DPAB*01:03_04:01</td>\n",
       "      <td>YAFFMGQAFSEGGAILNNNTLQFGQFEYFPAYDIEKAVRMHLGMT</td>\n",
       "    </tr>\n",
       "    <tr>\n",
       "      <th>4</th>\n",
       "      <td>HLA-DPAB*01:03_04:02</td>\n",
       "      <td>YAFFMGQAFSEGGAILNNNTLQFGQFEYFPDYDIEKAVRMHLGMT</td>\n",
       "    </tr>\n",
       "    <tr>\n",
       "      <th>...</th>\n",
       "      <td>...</td>\n",
       "      <td>...</td>\n",
       "    </tr>\n",
       "    <tr>\n",
       "      <th>245</th>\n",
       "      <td>HLA-DRB1*15:01</td>\n",
       "      <td>QEFFIGRFASEGAAVDKAEIMKWPRFDYFPDYDIQAAATYHVVFT</td>\n",
       "    </tr>\n",
       "    <tr>\n",
       "      <th>246</th>\n",
       "      <td>HLA-DRB1*15:02</td>\n",
       "      <td>QEFFIGRFASEGAAVDKAEIMKWPRFDYFPDYDIQAAATYHVGFT</td>\n",
       "    </tr>\n",
       "    <tr>\n",
       "      <th>247</th>\n",
       "      <td>HLA-DRB1*15:03</td>\n",
       "      <td>QEFFIGRFASEGAAVDKAEIMKWPRFDHFPDYDIQAAATYHVVFT</td>\n",
       "    </tr>\n",
       "    <tr>\n",
       "      <th>248</th>\n",
       "      <td>HLA-DRB1*16:01</td>\n",
       "      <td>QEFFIGRFASEGAAVDKAEIMKWPRFDYYPDYDFDRAATYHVGFT</td>\n",
       "    </tr>\n",
       "    <tr>\n",
       "      <th>249</th>\n",
       "      <td>HLA-DRB1*16:02</td>\n",
       "      <td>QEFFIGRFASEGAAVDKAEIMKWPRFDYYPDYDLDRAATYHVGFT</td>\n",
       "    </tr>\n",
       "  </tbody>\n",
       "</table>\n",
       "<p>250 rows × 2 columns</p>\n",
       "</div>"
      ],
      "text/plain": [
       "                      hla                                            seq\n",
       "0    HLA-DPAB*01:03_01:01  YAFFMGQAFSEGGAILNNNTLQYGQFEYFPAYDIEKAVRVHLDVT\n",
       "1    HLA-DPAB*01:03_02:01  YAFFMGQAFSEGGAILNNNTLQFGQFEYFPDYDIEEAVRMHLGMT\n",
       "2    HLA-DPAB*01:03_03:01  YAFFMGQAFSEGGAILNNNTLQYLQFEYFPDYDLEKAVRVHLDVT\n",
       "3    HLA-DPAB*01:03_04:01  YAFFMGQAFSEGGAILNNNTLQFGQFEYFPAYDIEKAVRMHLGMT\n",
       "4    HLA-DPAB*01:03_04:02  YAFFMGQAFSEGGAILNNNTLQFGQFEYFPDYDIEKAVRMHLGMT\n",
       "..                    ...                                            ...\n",
       "245        HLA-DRB1*15:01  QEFFIGRFASEGAAVDKAEIMKWPRFDYFPDYDIQAAATYHVVFT\n",
       "246        HLA-DRB1*15:02  QEFFIGRFASEGAAVDKAEIMKWPRFDYFPDYDIQAAATYHVGFT\n",
       "247        HLA-DRB1*15:03  QEFFIGRFASEGAAVDKAEIMKWPRFDHFPDYDIQAAATYHVVFT\n",
       "248        HLA-DRB1*16:01  QEFFIGRFASEGAAVDKAEIMKWPRFDYYPDYDFDRAATYHVGFT\n",
       "249        HLA-DRB1*16:02  QEFFIGRFASEGAAVDKAEIMKWPRFDYYPDYDLDRAATYHVGFT\n",
       "\n",
       "[250 rows x 2 columns]"
      ]
     },
     "execution_count": 99,
     "metadata": {},
     "output_type": "execute_result"
    }
   ],
   "source": [
    "df_all_seqs"
   ]
  },
  {
   "cell_type": "code",
   "execution_count": 100,
   "metadata": {},
   "outputs": [],
   "source": [
    "df_all_seqs.to_csv(\"../../data/for_encoders/HLA_II_pseudo_45.csv\", index = False)"
   ]
  },
  {
   "cell_type": "code",
   "execution_count": 107,
   "metadata": {},
   "outputs": [
    {
     "data": {
      "text/plain": [
       "Counter({45: 250})"
      ]
     },
     "execution_count": 107,
     "metadata": {},
     "output_type": "execute_result"
    }
   ],
   "source": [
    "Counter([len(s) for s in df_all_seqs.seq.tolist()])"
   ]
  },
  {
   "cell_type": "code",
   "execution_count": null,
   "metadata": {},
   "outputs": [],
   "source": []
  }
 ],
 "metadata": {
  "kernelspec": {
   "display_name": "Python 3 (ipykernel)",
   "language": "python",
   "name": "python3"
  },
  "language_info": {
   "codemirror_mode": {
    "name": "ipython",
    "version": 3
   },
   "file_extension": ".py",
   "mimetype": "text/x-python",
   "name": "python",
   "nbconvert_exporter": "python",
   "pygments_lexer": "ipython3",
   "version": "3.9.10"
  }
 },
 "nbformat": 4,
 "nbformat_minor": 2
}
