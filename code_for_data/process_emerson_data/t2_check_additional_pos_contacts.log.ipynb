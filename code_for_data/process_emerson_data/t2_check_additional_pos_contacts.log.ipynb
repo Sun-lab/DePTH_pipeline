{
 "cells": [
  {
   "cell_type": "markdown",
   "metadata": {},
   "source": [
    "This file explores the additional possible contact positions provided by \n",
    "\n",
    "    ../../data/intermediate_data/HLA_TCR_contact/contacts.log\n",
    "\n",
    "A summary of findings is put in file \n",
    "\n",
    "    t2_summary.md\n",
    "\n",
    "TCR contacts and peptide contacts will be treated separately. \n",
    "\n",
    "HLA-I and HLA-II contacts will be treated separately.\n",
    "\n",
    "Alpha and beta chain for HLA-II contacts will be treated separately as well. "
   ]
  },
  {
   "cell_type": "code",
   "execution_count": 1,
   "metadata": {},
   "outputs": [],
   "source": [
    "import numpy as np\n",
    "import pandas as pd\n",
    "\n",
    "import os\n",
    "\n",
    "from collections import Counter\n",
    "from collections import defaultdict"
   ]
  },
  {
   "cell_type": "code",
   "execution_count": 3,
   "metadata": {},
   "outputs": [
    {
     "data": {
      "text/plain": [
       "(5475, 9)"
      ]
     },
     "execution_count": 3,
     "metadata": {},
     "output_type": "execute_result"
    }
   ],
   "source": [
    "contacts = pd.read_csv(\"../../data/intermediate_data/HLA_TCR_contact/contacts.log\", sep=' ', header= None)\n",
    "contacts.shape"
   ]
  },
  {
   "cell_type": "code",
   "execution_count": 4,
   "metadata": {},
   "outputs": [
    {
     "data": {
      "text/html": [
       "<div>\n",
       "<style scoped>\n",
       "    .dataframe tbody tr th:only-of-type {\n",
       "        vertical-align: middle;\n",
       "    }\n",
       "\n",
       "    .dataframe tbody tr th {\n",
       "        vertical-align: top;\n",
       "    }\n",
       "\n",
       "    .dataframe thead th {\n",
       "        text-align: right;\n",
       "    }\n",
       "</style>\n",
       "<table border=\"1\" class=\"dataframe\">\n",
       "  <thead>\n",
       "    <tr style=\"text-align: right;\">\n",
       "      <th></th>\n",
       "      <th>0</th>\n",
       "      <th>1</th>\n",
       "      <th>2</th>\n",
       "      <th>3</th>\n",
       "      <th>4</th>\n",
       "      <th>5</th>\n",
       "      <th>6</th>\n",
       "      <th>7</th>\n",
       "      <th>8</th>\n",
       "    </tr>\n",
       "  </thead>\n",
       "  <tbody>\n",
       "    <tr>\n",
       "      <th>0</th>\n",
       "      <td>tcr_contact_pos:</td>\n",
       "      <td>A</td>\n",
       "      <td>D</td>\n",
       "      <td>A*02</td>\n",
       "      <td>57</td>\n",
       "      <td>E</td>\n",
       "      <td>DEGQ</td>\n",
       "      <td>E</td>\n",
       "      <td>/home/pbradley/tcr_scripts/pdb_files/1ao7.pdb....</td>\n",
       "    </tr>\n",
       "    <tr>\n",
       "      <th>1</th>\n",
       "      <td>tcr_contact_pos:</td>\n",
       "      <td>A</td>\n",
       "      <td>D</td>\n",
       "      <td>A*02</td>\n",
       "      <td>64</td>\n",
       "      <td>R</td>\n",
       "      <td>GPR</td>\n",
       "      <td>R</td>\n",
       "      <td>/home/pbradley/tcr_scripts/pdb_files/1ao7.pdb....</td>\n",
       "    </tr>\n",
       "    <tr>\n",
       "      <th>2</th>\n",
       "      <td>tcr_contact_pos:</td>\n",
       "      <td>A</td>\n",
       "      <td>D</td>\n",
       "      <td>A*02</td>\n",
       "      <td>65</td>\n",
       "      <td>K</td>\n",
       "      <td>KNQ</td>\n",
       "      <td>K</td>\n",
       "      <td>/home/pbradley/tcr_scripts/pdb_files/1ao7.pdb....</td>\n",
       "    </tr>\n",
       "    <tr>\n",
       "      <th>3</th>\n",
       "      <td>tcr_contact_pos:</td>\n",
       "      <td>A</td>\n",
       "      <td>D</td>\n",
       "      <td>A*02</td>\n",
       "      <td>67</td>\n",
       "      <td>K</td>\n",
       "      <td>EKR</td>\n",
       "      <td>K</td>\n",
       "      <td>/home/pbradley/tcr_scripts/pdb_files/1ao7.pdb....</td>\n",
       "    </tr>\n",
       "    <tr>\n",
       "      <th>4</th>\n",
       "      <td>tcr_contact_pos:</td>\n",
       "      <td>A</td>\n",
       "      <td>D</td>\n",
       "      <td>A*02</td>\n",
       "      <td>68</td>\n",
       "      <td>A</td>\n",
       "      <td>ADSTV</td>\n",
       "      <td>A</td>\n",
       "      <td>/home/pbradley/tcr_scripts/pdb_files/1ao7.pdb....</td>\n",
       "    </tr>\n",
       "    <tr>\n",
       "      <th>5</th>\n",
       "      <td>tcr_contact_pos:</td>\n",
       "      <td>A</td>\n",
       "      <td>E</td>\n",
       "      <td>A*02</td>\n",
       "      <td>68</td>\n",
       "      <td>A</td>\n",
       "      <td>ADSTV</td>\n",
       "      <td>A</td>\n",
       "      <td>/home/pbradley/tcr_scripts/pdb_files/1ao7.pdb....</td>\n",
       "    </tr>\n",
       "  </tbody>\n",
       "</table>\n",
       "</div>"
      ],
      "text/plain": [
       "                  0  1  2     3   4  5      6  7  \\\n",
       "0  tcr_contact_pos:  A  D  A*02  57  E   DEGQ  E   \n",
       "1  tcr_contact_pos:  A  D  A*02  64  R    GPR  R   \n",
       "2  tcr_contact_pos:  A  D  A*02  65  K    KNQ  K   \n",
       "3  tcr_contact_pos:  A  D  A*02  67  K    EKR  K   \n",
       "4  tcr_contact_pos:  A  D  A*02  68  A  ADSTV  A   \n",
       "5  tcr_contact_pos:  A  E  A*02  68  A  ADSTV  A   \n",
       "\n",
       "                                                   8  \n",
       "0  /home/pbradley/tcr_scripts/pdb_files/1ao7.pdb....  \n",
       "1  /home/pbradley/tcr_scripts/pdb_files/1ao7.pdb....  \n",
       "2  /home/pbradley/tcr_scripts/pdb_files/1ao7.pdb....  \n",
       "3  /home/pbradley/tcr_scripts/pdb_files/1ao7.pdb....  \n",
       "4  /home/pbradley/tcr_scripts/pdb_files/1ao7.pdb....  \n",
       "5  /home/pbradley/tcr_scripts/pdb_files/1ao7.pdb....  "
      ]
     },
     "execution_count": 4,
     "metadata": {},
     "output_type": "execute_result"
    }
   ],
   "source": [
    "contacts[:6]"
   ]
  },
  {
   "cell_type": "code",
   "execution_count": 5,
   "metadata": {},
   "outputs": [
    {
     "data": {
      "text/html": [
       "<div>\n",
       "<style scoped>\n",
       "    .dataframe tbody tr th:only-of-type {\n",
       "        vertical-align: middle;\n",
       "    }\n",
       "\n",
       "    .dataframe tbody tr th {\n",
       "        vertical-align: top;\n",
       "    }\n",
       "\n",
       "    .dataframe thead th {\n",
       "        text-align: right;\n",
       "    }\n",
       "</style>\n",
       "<table border=\"1\" class=\"dataframe\">\n",
       "  <thead>\n",
       "    <tr style=\"text-align: right;\">\n",
       "      <th></th>\n",
       "      <th>tag</th>\n",
       "      <th>mhc_chain</th>\n",
       "      <th>other_chain</th>\n",
       "      <th>allele</th>\n",
       "      <th>contact_column</th>\n",
       "      <th>seq_at</th>\n",
       "      <th>seq_pos</th>\n",
       "      <th>seq_emerson</th>\n",
       "      <th>pdb_file</th>\n",
       "    </tr>\n",
       "  </thead>\n",
       "  <tbody>\n",
       "    <tr>\n",
       "      <th>0</th>\n",
       "      <td>tcr_contact_pos:</td>\n",
       "      <td>A</td>\n",
       "      <td>D</td>\n",
       "      <td>A*02</td>\n",
       "      <td>57</td>\n",
       "      <td>E</td>\n",
       "      <td>DEGQ</td>\n",
       "      <td>E</td>\n",
       "      <td>/home/pbradley/tcr_scripts/pdb_files/1ao7.pdb....</td>\n",
       "    </tr>\n",
       "    <tr>\n",
       "      <th>1</th>\n",
       "      <td>tcr_contact_pos:</td>\n",
       "      <td>A</td>\n",
       "      <td>D</td>\n",
       "      <td>A*02</td>\n",
       "      <td>64</td>\n",
       "      <td>R</td>\n",
       "      <td>GPR</td>\n",
       "      <td>R</td>\n",
       "      <td>/home/pbradley/tcr_scripts/pdb_files/1ao7.pdb....</td>\n",
       "    </tr>\n",
       "    <tr>\n",
       "      <th>2</th>\n",
       "      <td>tcr_contact_pos:</td>\n",
       "      <td>A</td>\n",
       "      <td>D</td>\n",
       "      <td>A*02</td>\n",
       "      <td>65</td>\n",
       "      <td>K</td>\n",
       "      <td>KNQ</td>\n",
       "      <td>K</td>\n",
       "      <td>/home/pbradley/tcr_scripts/pdb_files/1ao7.pdb....</td>\n",
       "    </tr>\n",
       "    <tr>\n",
       "      <th>3</th>\n",
       "      <td>tcr_contact_pos:</td>\n",
       "      <td>A</td>\n",
       "      <td>D</td>\n",
       "      <td>A*02</td>\n",
       "      <td>67</td>\n",
       "      <td>K</td>\n",
       "      <td>EKR</td>\n",
       "      <td>K</td>\n",
       "      <td>/home/pbradley/tcr_scripts/pdb_files/1ao7.pdb....</td>\n",
       "    </tr>\n",
       "    <tr>\n",
       "      <th>4</th>\n",
       "      <td>tcr_contact_pos:</td>\n",
       "      <td>A</td>\n",
       "      <td>D</td>\n",
       "      <td>A*02</td>\n",
       "      <td>68</td>\n",
       "      <td>A</td>\n",
       "      <td>ADSTV</td>\n",
       "      <td>A</td>\n",
       "      <td>/home/pbradley/tcr_scripts/pdb_files/1ao7.pdb....</td>\n",
       "    </tr>\n",
       "    <tr>\n",
       "      <th>5</th>\n",
       "      <td>tcr_contact_pos:</td>\n",
       "      <td>A</td>\n",
       "      <td>E</td>\n",
       "      <td>A*02</td>\n",
       "      <td>68</td>\n",
       "      <td>A</td>\n",
       "      <td>ADSTV</td>\n",
       "      <td>A</td>\n",
       "      <td>/home/pbradley/tcr_scripts/pdb_files/1ao7.pdb....</td>\n",
       "    </tr>\n",
       "  </tbody>\n",
       "</table>\n",
       "</div>"
      ],
      "text/plain": [
       "                tag mhc_chain other_chain allele  contact_column seq_at  \\\n",
       "0  tcr_contact_pos:         A           D   A*02              57      E   \n",
       "1  tcr_contact_pos:         A           D   A*02              64      R   \n",
       "2  tcr_contact_pos:         A           D   A*02              65      K   \n",
       "3  tcr_contact_pos:         A           D   A*02              67      K   \n",
       "4  tcr_contact_pos:         A           D   A*02              68      A   \n",
       "5  tcr_contact_pos:         A           E   A*02              68      A   \n",
       "\n",
       "  seq_pos seq_emerson                                           pdb_file  \n",
       "0    DEGQ           E  /home/pbradley/tcr_scripts/pdb_files/1ao7.pdb....  \n",
       "1     GPR           R  /home/pbradley/tcr_scripts/pdb_files/1ao7.pdb....  \n",
       "2     KNQ           K  /home/pbradley/tcr_scripts/pdb_files/1ao7.pdb....  \n",
       "3     EKR           K  /home/pbradley/tcr_scripts/pdb_files/1ao7.pdb....  \n",
       "4   ADSTV           A  /home/pbradley/tcr_scripts/pdb_files/1ao7.pdb....  \n",
       "5   ADSTV           A  /home/pbradley/tcr_scripts/pdb_files/1ao7.pdb....  "
      ]
     },
     "execution_count": 5,
     "metadata": {},
     "output_type": "execute_result"
    }
   ],
   "source": [
    "contacts.columns = [\"tag\", \"mhc_chain\", \"other_chain\", \"allele\", \n",
    "                   \"contact_column\", \"seq_at\", \"seq_pos\", \"seq_emerson\", \n",
    "                   \"pdb_file\"]\n",
    "contacts[:6]"
   ]
  },
  {
   "cell_type": "code",
   "execution_count": 6,
   "metadata": {},
   "outputs": [
    {
     "data": {
      "text/plain": [
       "tag                 2\n",
       "mhc_chain           2\n",
       "other_chain         3\n",
       "allele             23\n",
       "contact_column     95\n",
       "seq_at             20\n",
       "seq_pos           263\n",
       "seq_emerson        43\n",
       "pdb_file          109\n",
       "dtype: int64"
      ]
     },
     "execution_count": 6,
     "metadata": {},
     "output_type": "execute_result"
    }
   ],
   "source": [
    "contacts.nunique()"
   ]
  },
  {
   "cell_type": "code",
   "execution_count": 7,
   "metadata": {},
   "outputs": [
    {
     "data": {
      "text/plain": [
       "array(['A*02', 'DRA*01', 'DRB1*01', 'DRB1*04', 'B*08', 'DRB1*15',\n",
       "       'DRB5*01', 'B*35', 'B*57', 'B*44', 'DQA1*01', 'DQB1*05', 'A*24',\n",
       "       'B*27', 'DQA1*03', 'DQB1*03', 'DRB3*03', 'B*51', 'DQA1*05',\n",
       "       'DQB1*02', 'DPA1*01', 'DPB1*352', 'A*01'], dtype=object)"
      ]
     },
     "execution_count": 7,
     "metadata": {},
     "output_type": "execute_result"
    }
   ],
   "source": [
    "contacts.allele.unique()"
   ]
  },
  {
   "cell_type": "code",
   "execution_count": 11,
   "metadata": {},
   "outputs": [],
   "source": [
    "#Counter(contacts.allele)"
   ]
  },
  {
   "cell_type": "code",
   "execution_count": 8,
   "metadata": {},
   "outputs": [
    {
     "data": {
      "text/plain": [
       "95"
      ]
     },
     "execution_count": 8,
     "metadata": {},
     "output_type": "execute_result"
    }
   ],
   "source": [
    "contacts.contact_column.nunique()"
   ]
  },
  {
   "cell_type": "code",
   "execution_count": 9,
   "metadata": {},
   "outputs": [
    {
     "data": {
      "text/plain": [
       "Counter({'tcr_contact_pos:': 2014, 'pep_contact_pos:': 3461})"
      ]
     },
     "execution_count": 9,
     "metadata": {},
     "output_type": "execute_result"
    }
   ],
   "source": [
    "Counter(contacts.tag)"
   ]
  },
  {
   "cell_type": "code",
   "execution_count": 11,
   "metadata": {},
   "outputs": [],
   "source": [
    "contacts['short_name'] = [item.split(\"*\")[0] for item in contacts.allele.tolist()]"
   ]
  },
  {
   "cell_type": "code",
   "execution_count": 12,
   "metadata": {},
   "outputs": [
    {
     "data": {
      "text/plain": [
       "Counter({'A': 2946,\n",
       "         'DRA': 330,\n",
       "         'DRB1': 250,\n",
       "         'B': 1071,\n",
       "         'DRB5': 27,\n",
       "         'DQA1': 371,\n",
       "         'DQB1': 396,\n",
       "         'DRB3': 29,\n",
       "         'DPA1': 23,\n",
       "         'DPB1': 32})"
      ]
     },
     "execution_count": 12,
     "metadata": {},
     "output_type": "execute_result"
    }
   ],
   "source": [
    "Counter(contacts.short_name)"
   ]
  },
  {
   "cell_type": "markdown",
   "metadata": {},
   "source": [
    "Separate by tcr or peptide contact"
   ]
  },
  {
   "cell_type": "code",
   "execution_count": 22,
   "metadata": {},
   "outputs": [
    {
     "data": {
      "text/plain": [
       "(2014, 10)"
      ]
     },
     "execution_count": 22,
     "metadata": {},
     "output_type": "execute_result"
    }
   ],
   "source": [
    "tcr_contacts = contacts.loc[contacts['tag'] == 'tcr_contact_pos:']\n",
    "tcr_contacts.shape"
   ]
  },
  {
   "cell_type": "code",
   "execution_count": 23,
   "metadata": {},
   "outputs": [
    {
     "data": {
      "text/plain": [
       "tag                 1\n",
       "mhc_chain           2\n",
       "other_chain         2\n",
       "allele             23\n",
       "contact_column     53\n",
       "seq_at             18\n",
       "seq_pos           143\n",
       "seq_emerson        23\n",
       "pdb_file          109\n",
       "short_name         10\n",
       "dtype: int64"
      ]
     },
     "execution_count": 23,
     "metadata": {},
     "output_type": "execute_result"
    }
   ],
   "source": [
    "tcr_contacts.nunique()"
   ]
  },
  {
   "cell_type": "code",
   "execution_count": 24,
   "metadata": {},
   "outputs": [
    {
     "data": {
      "text/plain": [
       "Counter({'A': 1130,\n",
       "         'B': 384,\n",
       "         'DPA1': 4,\n",
       "         'DPB1': 11,\n",
       "         'DQA1': 132,\n",
       "         'DQB1': 123,\n",
       "         'DRA': 116,\n",
       "         'DRB1': 91,\n",
       "         'DRB3': 10,\n",
       "         'DRB5': 13})"
      ]
     },
     "execution_count": 24,
     "metadata": {},
     "output_type": "execute_result"
    }
   ],
   "source": [
    "Counter(tcr_contacts.short_name)"
   ]
  },
  {
   "cell_type": "code",
   "execution_count": 25,
   "metadata": {},
   "outputs": [],
   "source": [
    "#Counter(tcr_contacts.contact_column)"
   ]
  },
  {
   "cell_type": "code",
   "execution_count": 19,
   "metadata": {},
   "outputs": [],
   "source": [
    "#tcr_contacts[:6]"
   ]
  },
  {
   "cell_type": "code",
   "execution_count": 26,
   "metadata": {},
   "outputs": [],
   "source": [
    "pep_contacts = contacts.loc[contacts['tag'] == 'pep_contact_pos:']"
   ]
  },
  {
   "cell_type": "code",
   "execution_count": 27,
   "metadata": {},
   "outputs": [
    {
     "data": {
      "text/plain": [
       "(3461, 10)"
      ]
     },
     "execution_count": 27,
     "metadata": {},
     "output_type": "execute_result"
    }
   ],
   "source": [
    "pep_contacts.shape"
   ]
  },
  {
   "cell_type": "code",
   "execution_count": 28,
   "metadata": {},
   "outputs": [
    {
     "data": {
      "text/html": [
       "<div>\n",
       "<style scoped>\n",
       "    .dataframe tbody tr th:only-of-type {\n",
       "        vertical-align: middle;\n",
       "    }\n",
       "\n",
       "    .dataframe tbody tr th {\n",
       "        vertical-align: top;\n",
       "    }\n",
       "\n",
       "    .dataframe thead th {\n",
       "        text-align: right;\n",
       "    }\n",
       "</style>\n",
       "<table border=\"1\" class=\"dataframe\">\n",
       "  <thead>\n",
       "    <tr style=\"text-align: right;\">\n",
       "      <th></th>\n",
       "      <th>tag</th>\n",
       "      <th>mhc_chain</th>\n",
       "      <th>other_chain</th>\n",
       "      <th>allele</th>\n",
       "      <th>contact_column</th>\n",
       "      <th>seq_at</th>\n",
       "      <th>seq_pos</th>\n",
       "      <th>seq_emerson</th>\n",
       "      <th>pdb_file</th>\n",
       "      <th>short_name</th>\n",
       "    </tr>\n",
       "  </thead>\n",
       "  <tbody>\n",
       "    <tr>\n",
       "      <th>21</th>\n",
       "      <td>pep_contact_pos:</td>\n",
       "      <td>A</td>\n",
       "      <td>C</td>\n",
       "      <td>A*02</td>\n",
       "      <td>4</td>\n",
       "      <td>M</td>\n",
       "      <td>LMV</td>\n",
       "      <td>M</td>\n",
       "      <td>/home/pbradley/tcr_scripts/pdb_files/1ao7.pdb....</td>\n",
       "      <td>A</td>\n",
       "    </tr>\n",
       "    <tr>\n",
       "      <th>22</th>\n",
       "      <td>pep_contact_pos:</td>\n",
       "      <td>A</td>\n",
       "      <td>C</td>\n",
       "      <td>A*02</td>\n",
       "      <td>6</td>\n",
       "      <td>Y</td>\n",
       "      <td>CHY</td>\n",
       "      <td>Y</td>\n",
       "      <td>/home/pbradley/tcr_scripts/pdb_files/1ao7.pdb....</td>\n",
       "      <td>A</td>\n",
       "    </tr>\n",
       "    <tr>\n",
       "      <th>23</th>\n",
       "      <td>pep_contact_pos:</td>\n",
       "      <td>A</td>\n",
       "      <td>C</td>\n",
       "      <td>A*02</td>\n",
       "      <td>8</td>\n",
       "      <td>F</td>\n",
       "      <td>FSTY</td>\n",
       "      <td>FY</td>\n",
       "      <td>/home/pbradley/tcr_scripts/pdb_files/1ao7.pdb....</td>\n",
       "      <td>A</td>\n",
       "    </tr>\n",
       "    <tr>\n",
       "      <th>24</th>\n",
       "      <td>pep_contact_pos:</td>\n",
       "      <td>A</td>\n",
       "      <td>C</td>\n",
       "      <td>A*02</td>\n",
       "      <td>44</td>\n",
       "      <td>M</td>\n",
       "      <td>MV</td>\n",
       "      <td>M</td>\n",
       "      <td>/home/pbradley/tcr_scripts/pdb_files/1ao7.pdb....</td>\n",
       "      <td>A</td>\n",
       "    </tr>\n",
       "    <tr>\n",
       "      <th>25</th>\n",
       "      <td>pep_contact_pos:</td>\n",
       "      <td>A</td>\n",
       "      <td>C</td>\n",
       "      <td>A*02</td>\n",
       "      <td>58</td>\n",
       "      <td>Y</td>\n",
       "      <td>Y</td>\n",
       "      <td>Y</td>\n",
       "      <td>/home/pbradley/tcr_scripts/pdb_files/1ao7.pdb....</td>\n",
       "      <td>A</td>\n",
       "    </tr>\n",
       "    <tr>\n",
       "      <th>26</th>\n",
       "      <td>pep_contact_pos:</td>\n",
       "      <td>A</td>\n",
       "      <td>C</td>\n",
       "      <td>A*02</td>\n",
       "      <td>62</td>\n",
       "      <td>E</td>\n",
       "      <td>EN</td>\n",
       "      <td>E</td>\n",
       "      <td>/home/pbradley/tcr_scripts/pdb_files/1ao7.pdb....</td>\n",
       "      <td>A</td>\n",
       "    </tr>\n",
       "  </tbody>\n",
       "</table>\n",
       "</div>"
      ],
      "text/plain": [
       "                 tag mhc_chain other_chain allele  contact_column seq_at  \\\n",
       "21  pep_contact_pos:         A           C   A*02               4      M   \n",
       "22  pep_contact_pos:         A           C   A*02               6      Y   \n",
       "23  pep_contact_pos:         A           C   A*02               8      F   \n",
       "24  pep_contact_pos:         A           C   A*02              44      M   \n",
       "25  pep_contact_pos:         A           C   A*02              58      Y   \n",
       "26  pep_contact_pos:         A           C   A*02              62      E   \n",
       "\n",
       "   seq_pos seq_emerson                                           pdb_file  \\\n",
       "21     LMV           M  /home/pbradley/tcr_scripts/pdb_files/1ao7.pdb....   \n",
       "22     CHY           Y  /home/pbradley/tcr_scripts/pdb_files/1ao7.pdb....   \n",
       "23    FSTY          FY  /home/pbradley/tcr_scripts/pdb_files/1ao7.pdb....   \n",
       "24      MV           M  /home/pbradley/tcr_scripts/pdb_files/1ao7.pdb....   \n",
       "25       Y           Y  /home/pbradley/tcr_scripts/pdb_files/1ao7.pdb....   \n",
       "26      EN           E  /home/pbradley/tcr_scripts/pdb_files/1ao7.pdb....   \n",
       "\n",
       "   short_name  \n",
       "21          A  \n",
       "22          A  \n",
       "23          A  \n",
       "24          A  \n",
       "25          A  \n",
       "26          A  "
      ]
     },
     "execution_count": 28,
     "metadata": {},
     "output_type": "execute_result"
    }
   ],
   "source": [
    "pep_contacts[:6]"
   ]
  },
  {
   "cell_type": "code",
   "execution_count": 29,
   "metadata": {},
   "outputs": [
    {
     "data": {
      "text/plain": [
       "tag                 1\n",
       "mhc_chain           2\n",
       "other_chain         1\n",
       "allele             23\n",
       "contact_column     84\n",
       "seq_at             20\n",
       "seq_pos           228\n",
       "seq_emerson        43\n",
       "pdb_file          109\n",
       "short_name         10\n",
       "dtype: int64"
      ]
     },
     "execution_count": 29,
     "metadata": {},
     "output_type": "execute_result"
    }
   ],
   "source": [
    "pep_contacts.nunique()"
   ]
  },
  {
   "cell_type": "code",
   "execution_count": 30,
   "metadata": {},
   "outputs": [
    {
     "data": {
      "text/plain": [
       "Counter({'A': 1816,\n",
       "         'B': 687,\n",
       "         'DPA1': 19,\n",
       "         'DPB1': 21,\n",
       "         'DQA1': 239,\n",
       "         'DQB1': 273,\n",
       "         'DRA': 214,\n",
       "         'DRB1': 159,\n",
       "         'DRB3': 19,\n",
       "         'DRB5': 14})"
      ]
     },
     "execution_count": 30,
     "metadata": {},
     "output_type": "execute_result"
    }
   ],
   "source": [
    "Counter(pep_contacts.short_name)"
   ]
  },
  {
   "cell_type": "code",
   "execution_count": 31,
   "metadata": {},
   "outputs": [],
   "source": [
    "#Counter(pep_contacts.contact_column)"
   ]
  },
  {
   "cell_type": "code",
   "execution_count": 32,
   "metadata": {},
   "outputs": [],
   "source": [
    "#pep_contacts.contact_column.unique()"
   ]
  },
  {
   "cell_type": "code",
   "execution_count": 33,
   "metadata": {},
   "outputs": [],
   "source": [
    "#pep_contacts.contact_column.nunique()"
   ]
  },
  {
   "cell_type": "code",
   "execution_count": 34,
   "metadata": {},
   "outputs": [],
   "source": [
    "#pep_contacts.contact_column.unique() + 1"
   ]
  },
  {
   "cell_type": "markdown",
   "metadata": {},
   "source": [
    "Separate by HLA-I or HLA-II alleles\n",
    "\n",
    "Then the parts related to HLA-II alleles are separated into alpha/beta chains. \n",
    "\n",
    "Resulting in the following six data frames:\n",
    "\n",
    "\n",
    "tcr_HLA_I_contacts\n",
    "\n",
    "tcr_HLA_II_contacts_alpha\n",
    "\n",
    "tcr_HLA_II_contacts_beta \n",
    "\n",
    "\n",
    "pep_HLA_I_contacts\n",
    "\n",
    "pep_HLA_II_contacts_alpha\n",
    "\n",
    "pep_HLA_II_contacts_beta "
   ]
  },
  {
   "cell_type": "code",
   "execution_count": 35,
   "metadata": {},
   "outputs": [],
   "source": [
    "HLA_I_short_name_list  = ['A', 'B']\n",
    "HLA_II_short_name_list = ['DRA','DRB1','DRB3', 'DRB5', 'DPA1','DPB1','DQA1','DQB1']"
   ]
  },
  {
   "cell_type": "code",
   "execution_count": 37,
   "metadata": {},
   "outputs": [],
   "source": [
    "tcr_HLA_I_contacts = tcr_contacts[tcr_contacts['short_name'].isin(HLA_I_short_name_list)]"
   ]
  },
  {
   "cell_type": "code",
   "execution_count": 46,
   "metadata": {},
   "outputs": [],
   "source": [
    "#Counter(tcr_HLA_I_contacts.contact_column)"
   ]
  },
  {
   "cell_type": "code",
   "execution_count": 47,
   "metadata": {},
   "outputs": [],
   "source": [
    "tcr_HLA_II_contacts = tcr_contacts[tcr_contacts['short_name'].isin(HLA_II_short_name_list)]"
   ]
  },
  {
   "cell_type": "code",
   "execution_count": 51,
   "metadata": {},
   "outputs": [
    {
     "data": {
      "text/plain": [
       "Counter({'A': 252, 'B': 248})"
      ]
     },
     "execution_count": 51,
     "metadata": {},
     "output_type": "execute_result"
    }
   ],
   "source": [
    "Counter(tcr_HLA_II_contacts.mhc_chain)"
   ]
  },
  {
   "cell_type": "code",
   "execution_count": 52,
   "metadata": {},
   "outputs": [],
   "source": [
    "tcr_HLA_II_contacts_alpha = tcr_HLA_II_contacts[tcr_HLA_II_contacts['mhc_chain'] == 'A']"
   ]
  },
  {
   "cell_type": "code",
   "execution_count": 56,
   "metadata": {},
   "outputs": [],
   "source": [
    "#Counter(tcr_HLA_II_contacts_alpha.contact_column)"
   ]
  },
  {
   "cell_type": "code",
   "execution_count": 57,
   "metadata": {},
   "outputs": [],
   "source": [
    "tcr_HLA_II_contacts_beta = tcr_HLA_II_contacts[tcr_HLA_II_contacts['mhc_chain'] == 'B']"
   ]
  },
  {
   "cell_type": "code",
   "execution_count": 59,
   "metadata": {},
   "outputs": [
    {
     "data": {
      "text/plain": [
       "Counter({'DPB1': 11, 'DQB1': 123, 'DRB1': 91, 'DRB3': 10, 'DRB5': 13})"
      ]
     },
     "execution_count": 59,
     "metadata": {},
     "output_type": "execute_result"
    }
   ],
   "source": [
    "Counter(tcr_HLA_II_contacts_beta.short_name)"
   ]
  },
  {
   "cell_type": "code",
   "execution_count": 60,
   "metadata": {},
   "outputs": [],
   "source": [
    "pep_HLA_I_contacts = pep_contacts[pep_contacts['short_name'].isin(HLA_I_short_name_list)]"
   ]
  },
  {
   "cell_type": "code",
   "execution_count": 66,
   "metadata": {},
   "outputs": [
    {
     "data": {
      "text/plain": [
       "Counter({'A': 2503})"
      ]
     },
     "execution_count": 66,
     "metadata": {},
     "output_type": "execute_result"
    }
   ],
   "source": [
    "Counter(pep_HLA_I_contacts.mhc_chain)"
   ]
  },
  {
   "cell_type": "code",
   "execution_count": 67,
   "metadata": {},
   "outputs": [],
   "source": [
    "pep_HLA_II_contacts = pep_contacts[pep_contacts['short_name'].isin(HLA_II_short_name_list)]"
   ]
  },
  {
   "cell_type": "code",
   "execution_count": 68,
   "metadata": {},
   "outputs": [
    {
     "data": {
      "text/plain": [
       "(958, 10)"
      ]
     },
     "execution_count": 68,
     "metadata": {},
     "output_type": "execute_result"
    }
   ],
   "source": [
    "pep_HLA_II_contacts.shape"
   ]
  },
  {
   "cell_type": "code",
   "execution_count": 70,
   "metadata": {},
   "outputs": [],
   "source": [
    "pep_HLA_II_contacts_alpha = pep_HLA_II_contacts[pep_HLA_II_contacts['mhc_chain'] == 'A']"
   ]
  },
  {
   "cell_type": "code",
   "execution_count": 71,
   "metadata": {},
   "outputs": [],
   "source": [
    "pep_HLA_II_contacts_beta = pep_HLA_II_contacts[pep_HLA_II_contacts['mhc_chain'] == 'B']"
   ]
  },
  {
   "cell_type": "code",
   "execution_count": 75,
   "metadata": {},
   "outputs": [
    {
     "data": {
      "text/plain": [
       "Counter({'DPA1': 19, 'DQA1': 239, 'DRA': 214})"
      ]
     },
     "execution_count": 75,
     "metadata": {},
     "output_type": "execute_result"
    }
   ],
   "source": [
    "Counter(pep_HLA_II_contacts_alpha.short_name)"
   ]
  },
  {
   "cell_type": "code",
   "execution_count": 76,
   "metadata": {},
   "outputs": [
    {
     "data": {
      "text/plain": [
       "Counter({'DPB1': 21, 'DQB1': 273, 'DRB1': 159, 'DRB3': 19, 'DRB5': 14})"
      ]
     },
     "execution_count": 76,
     "metadata": {},
     "output_type": "execute_result"
    }
   ],
   "source": [
    "Counter(pep_HLA_II_contacts_beta.short_name)"
   ]
  },
  {
   "cell_type": "markdown",
   "metadata": {},
   "source": [
    "Now move on to check the counts of different positions. \n",
    "\n",
    "Eventually, we will need to check positions for three components:\n",
    "    \n",
    "HLA-I alleles\n",
    "\n",
    "HLA-II alpha chain\n",
    "\n",
    "HLA-II beta chain"
   ]
  },
  {
   "cell_type": "code",
   "execution_count": null,
   "metadata": {},
   "outputs": [],
   "source": [
    "'''\n",
    "tcr_HLA_I_contacts\n",
    "\n",
    "tcr_HLA_II_contacts_alpha\n",
    "\n",
    "tcr_HLA_II_contacts_beta\n",
    "\n",
    "pep_HLA_I_contacts\n",
    "\n",
    "pep_HLA_II_contacts_alpha\n",
    "\n",
    "pep_HLA_II_contacts_beta\n",
    "'''"
   ]
  },
  {
   "cell_type": "markdown",
   "metadata": {},
   "source": [
    "First, look into contact positions related to HLA_I."
   ]
  },
  {
   "cell_type": "code",
   "execution_count": 84,
   "metadata": {},
   "outputs": [],
   "source": [
    "thirty_four = [7, 9, 24, 45, 59, 62, 63, 66, 67, 69, 70,\n",
    "              73, 74, 76, 77, 80, 81, 84, 95, 97, 99, 114, \n",
    "              116, 118, 143, 147, 150, 152, 156, 158, 159, \n",
    "              163, 167, 171]\n",
    "HLA_I_34 = [ind-1 for ind in thirty_four]"
   ]
  },
  {
   "cell_type": "code",
   "execution_count": 82,
   "metadata": {},
   "outputs": [],
   "source": [
    "tcr_HLA_I_contacts_counter = Counter(tcr_HLA_I_contacts.contact_column.tolist())\n",
    "\n",
    "tcr_HLA_I_contacts_key_list = list(tcr_HLA_I_contacts_counter.keys())\n",
    "tcr_HLA_I_contacts_key_list.sort()\n",
    "tcr_HLA_I_contacts_key_list\n",
    "\n",
    "tcr_HLA_I_contacts_counts = [tcr_HLA_I_contacts_counter[key] for key in tcr_HLA_I_contacts_key_list]\n",
    "df_tcr_HLA_I_contacts = pd.DataFrame(list(zip(tcr_HLA_I_contacts_key_list, tcr_HLA_I_contacts_counts)),\\\n",
    "                                     columns = ['pos', 'count'])\n",
    "# 0 indexed positions\n",
    "df_tcr_HLA_I_contacts.to_csv(\"../../data/intermediate_data/t2_tcr_HLA_I_contacts.csv\", index = False)\n",
    "\n",
    "df_tcr_HLA_I_contacts.shape"
   ]
  },
  {
   "cell_type": "code",
   "execution_count": 136,
   "metadata": {},
   "outputs": [],
   "source": [
    "#df_tcr_HLA_I_contacts"
   ]
  },
  {
   "cell_type": "code",
   "execution_count": 274,
   "metadata": {},
   "outputs": [],
   "source": [
    "sub_tcr_HLA_I_contacts = df_tcr_HLA_I_contacts[df_tcr_HLA_I_contacts['count']>= 10]"
   ]
  },
  {
   "cell_type": "code",
   "execution_count": 275,
   "metadata": {},
   "outputs": [
    {
     "data": {
      "text/plain": [
       "{57, 64, 67, 71, 74, 145, 148, 150, 153, 154, 156, 160, 161, 165, 169}"
      ]
     },
     "execution_count": 275,
     "metadata": {},
     "output_type": "execute_result"
    }
   ],
   "source": [
    "set(sub_tcr_HLA_I_contacts.pos) - set(HLA_I_34)"
   ]
  },
  {
   "cell_type": "code",
   "execution_count": 276,
   "metadata": {},
   "outputs": [
    {
     "data": {
      "text/plain": [
       "21"
      ]
     },
     "execution_count": 276,
     "metadata": {},
     "output_type": "execute_result"
    }
   ],
   "source": [
    "len(set(HLA_I_34) - set(sub_tcr_HLA_I_contacts.pos))"
   ]
  },
  {
   "cell_type": "code",
   "execution_count": 98,
   "metadata": {},
   "outputs": [],
   "source": [
    "pep_HLA_I_contacts_counter = Counter(pep_HLA_I_contacts.contact_column.tolist())\n",
    "\n",
    "pep_HLA_I_contacts_key_list = list(pep_HLA_I_contacts_counter.keys())\n",
    "pep_HLA_I_contacts_key_list.sort()\n",
    "#pep_HLA_I_contacts_key_list\n",
    "\n",
    "pep_HLA_I_contacts_counts = [pep_HLA_I_contacts_counter[key] for key in pep_HLA_I_contacts_key_list]\n",
    "df_pep_HLA_I_contacts = pd.DataFrame(list(zip(pep_HLA_I_contacts_key_list, pep_HLA_I_contacts_counts)),\\\n",
    "                                     columns = ['pos', 'count'])\n",
    "# 0-indexed positions\n",
    "df_pep_HLA_I_contacts.to_csv(\"../../data/intermediate_data/t2_pep_HLA_I_contacts.csv\", index = False)\n",
    "df_pep_HLA_I_contacts.shape\n",
    "\n",
    "#Counter(df_pep_HLA_I_contacts['count'].tolist())"
   ]
  },
  {
   "cell_type": "code",
   "execution_count": 277,
   "metadata": {},
   "outputs": [],
   "source": [
    "sub_pep_HLA_I_contacts = df_pep_HLA_I_contacts[df_pep_HLA_I_contacts['count']>= 10]"
   ]
  },
  {
   "cell_type": "code",
   "execution_count": 278,
   "metadata": {},
   "outputs": [
    {
     "data": {
      "text/plain": [
       "(37, 2)"
      ]
     },
     "execution_count": 278,
     "metadata": {},
     "output_type": "execute_result"
    }
   ],
   "source": [
    "sub_pep_HLA_I_contacts.shape"
   ]
  },
  {
   "cell_type": "code",
   "execution_count": 279,
   "metadata": {},
   "outputs": [
    {
     "data": {
      "text/plain": [
       "{4, 71, 122, 145, 154}"
      ]
     },
     "execution_count": 279,
     "metadata": {},
     "output_type": "execute_result"
    }
   ],
   "source": [
    "set(sub_pep_HLA_I_contacts.pos) - set(HLA_I_34)"
   ]
  },
  {
   "cell_type": "code",
   "execution_count": 286,
   "metadata": {},
   "outputs": [
    {
     "data": {
      "text/plain": [
       "{117, 157}"
      ]
     },
     "execution_count": 286,
     "metadata": {},
     "output_type": "execute_result"
    }
   ],
   "source": [
    "set(HLA_I_34) - set(sub_pep_HLA_I_contacts.pos)"
   ]
  },
  {
   "cell_type": "code",
   "execution_count": 281,
   "metadata": {},
   "outputs": [],
   "source": [
    "add_HLA_I = list(set(sub_tcr_HLA_I_contacts.pos.tolist()).union(set(sub_pep_HLA_I_contacts.pos.tolist())) - set(HLA_I_34))\n",
    "add_HLA_I.sort()"
   ]
  },
  {
   "cell_type": "code",
   "execution_count": 288,
   "metadata": {},
   "outputs": [
    {
     "data": {
      "text/plain": [
       "[4, 57, 64, 67, 71, 74, 122, 145, 148, 150, 153, 154, 156, 160, 161, 165, 169]"
      ]
     },
     "execution_count": 288,
     "metadata": {},
     "output_type": "execute_result"
    }
   ],
   "source": [
    "add_HLA_I"
   ]
  },
  {
   "cell_type": "markdown",
   "metadata": {},
   "source": [
    "Second, look into positions related to HLA_II alpha chain."
   ]
  },
  {
   "cell_type": "code",
   "execution_count": 160,
   "metadata": {},
   "outputs": [],
   "source": [
    "fifteen = [9, 11, 22, 24, 31, 52, 53, 58, 59, 61, 65, 66, 68, 72, 73]\n",
    "HLA_II_alpha = [ind-1 for ind in fifteen]"
   ]
  },
  {
   "cell_type": "code",
   "execution_count": 161,
   "metadata": {},
   "outputs": [
    {
     "data": {
      "text/plain": [
       "[8, 10, 21, 23, 30, 51, 52, 57, 58, 60, 64, 65, 67, 71, 72]"
      ]
     },
     "execution_count": 161,
     "metadata": {},
     "output_type": "execute_result"
    }
   ],
   "source": [
    "HLA_II_alpha"
   ]
  },
  {
   "cell_type": "code",
   "execution_count": 162,
   "metadata": {},
   "outputs": [],
   "source": [
    "tcr_HLA_II_contacts_alpha_counter = Counter(tcr_HLA_II_contacts_alpha.contact_column.tolist())"
   ]
  },
  {
   "cell_type": "code",
   "execution_count": 163,
   "metadata": {},
   "outputs": [
    {
     "data": {
      "text/plain": [
       "Counter({35: 10,\n",
       "         49: 2,\n",
       "         50: 1,\n",
       "         51: 29,\n",
       "         53: 38,\n",
       "         54: 34,\n",
       "         55: 3,\n",
       "         56: 16,\n",
       "         57: 37,\n",
       "         58: 14,\n",
       "         60: 20,\n",
       "         61: 23,\n",
       "         63: 7,\n",
       "         64: 16,\n",
       "         67: 2})"
      ]
     },
     "execution_count": 163,
     "metadata": {},
     "output_type": "execute_result"
    }
   ],
   "source": [
    "tcr_HLA_II_contacts_alpha_counter"
   ]
  },
  {
   "cell_type": "code",
   "execution_count": 165,
   "metadata": {},
   "outputs": [
    {
     "data": {
      "text/plain": [
       "[35, 49, 50, 51, 53, 54, 55, 56, 57, 58, 60, 61, 63, 64, 67]"
      ]
     },
     "execution_count": 165,
     "metadata": {},
     "output_type": "execute_result"
    }
   ],
   "source": [
    "tcr_HLA_II_contacts_alpha_key_list = list(tcr_HLA_II_contacts_alpha_counter.keys())\n",
    "tcr_HLA_II_contacts_alpha_key_list.sort()\n",
    "tcr_HLA_II_contacts_alpha_key_list"
   ]
  },
  {
   "cell_type": "code",
   "execution_count": 166,
   "metadata": {},
   "outputs": [],
   "source": [
    "tcr_HLA_II_contacts_alpha_counts = [tcr_HLA_II_contacts_alpha_counter[key] for key in tcr_HLA_II_contacts_alpha_key_list]\n",
    "df_tcr_HLA_II_contacts_alpha = pd.DataFrame(list(zip(tcr_HLA_II_contacts_alpha_key_list, tcr_HLA_II_contacts_alpha_counts)),\\\n",
    "                                     columns = ['pos', 'count'])\n",
    "# 0 indexed positions\n",
    "df_tcr_HLA_II_contacts_alpha.to_csv(\"../../data/intermediate_data/t2_tcr_HLA_II_contacts_alpha.csv\", index = False)"
   ]
  },
  {
   "cell_type": "code",
   "execution_count": 177,
   "metadata": {},
   "outputs": [
    {
     "data": {
      "text/plain": [
       "(15, 2)"
      ]
     },
     "execution_count": 177,
     "metadata": {},
     "output_type": "execute_result"
    }
   ],
   "source": [
    "df_tcr_HLA_II_contacts_alpha.shape"
   ]
  },
  {
   "cell_type": "code",
   "execution_count": null,
   "metadata": {},
   "outputs": [],
   "source": []
  },
  {
   "cell_type": "code",
   "execution_count": 169,
   "metadata": {},
   "outputs": [],
   "source": [
    "pep_HLA_II_contacts_alpha_counter = Counter(pep_HLA_II_contacts_alpha.contact_column.tolist())"
   ]
  },
  {
   "cell_type": "code",
   "execution_count": 171,
   "metadata": {},
   "outputs": [],
   "source": [
    "#pep_HLA_II_contacts_alpha_counter"
   ]
  },
  {
   "cell_type": "code",
   "execution_count": 173,
   "metadata": {},
   "outputs": [],
   "source": [
    "pep_HLA_II_contacts_alpha_key_list = list(pep_HLA_II_contacts_alpha_counter.keys())\n",
    "pep_HLA_II_contacts_alpha_key_list.sort()\n",
    "#pep_HLA_II_contacts_alpha_key_list"
   ]
  },
  {
   "cell_type": "code",
   "execution_count": 174,
   "metadata": {},
   "outputs": [],
   "source": [
    "pep_HLA_II_contacts_alpha_counts = [pep_HLA_II_contacts_alpha_counter[key] for key in pep_HLA_II_contacts_alpha_key_list]\n",
    "df_pep_HLA_II_contacts_alpha = pd.DataFrame(list(zip(pep_HLA_II_contacts_alpha_key_list, pep_HLA_II_contacts_alpha_counts)),\\\n",
    "                                     columns = ['pos', 'count'])\n",
    "# 0 indexed positions\n",
    "df_pep_HLA_II_contacts_alpha.to_csv(\"../../data/intermediate_data/t2_pep_HLA_II_contacts_alpha.csv\", index = False)"
   ]
  },
  {
   "cell_type": "code",
   "execution_count": 176,
   "metadata": {},
   "outputs": [
    {
     "data": {
      "text/plain": [
       "(30, 2)"
      ]
     },
     "execution_count": 176,
     "metadata": {},
     "output_type": "execute_result"
    }
   ],
   "source": [
    "df_pep_HLA_II_contacts_alpha.shape"
   ]
  },
  {
   "cell_type": "code",
   "execution_count": 233,
   "metadata": {},
   "outputs": [
    {
     "data": {
      "text/plain": [
       "[5, 7, 18, 20, 27, 48, 49, 54, 55, 57, 61, 62, 64, 68, 69]"
      ]
     },
     "execution_count": 233,
     "metadata": {},
     "output_type": "execute_result"
    }
   ],
   "source": [
    "modify_15 = [ind - 4 for ind in fifteen]\n",
    "modify_15"
   ]
  },
  {
   "cell_type": "code",
   "execution_count": 234,
   "metadata": {},
   "outputs": [
    {
     "data": {
      "text/plain": [
       "[0, 0, 0, 0, 0, 0, 2, 34, 3, 37, 23, 0, 16, 0, 0]"
      ]
     },
     "execution_count": 234,
     "metadata": {},
     "output_type": "execute_result"
    }
   ],
   "source": [
    "[tcr_HLA_II_contacts_alpha_counter[key] for key in modify_15]"
   ]
  },
  {
   "cell_type": "code",
   "execution_count": 232,
   "metadata": {},
   "outputs": [
    {
     "data": {
      "text/plain": [
       "set()"
      ]
     },
     "execution_count": 232,
     "metadata": {},
     "output_type": "execute_result"
    }
   ],
   "source": [
    "set(modify_15) - set(df_pep_HLA_II_contacts_alpha.pos)"
   ]
  },
  {
   "cell_type": "code",
   "execution_count": 220,
   "metadata": {},
   "outputs": [
    {
     "data": {
      "text/plain": [
       "[3, 10, 25, 26, 10, 26, 26, 23, 6, 5, 26, 25, 19, 26, 19]"
      ]
     },
     "execution_count": 220,
     "metadata": {},
     "output_type": "execute_result"
    }
   ],
   "source": [
    "[pep_HLA_II_contacts_alpha_counter[key] for key in modify_15]"
   ]
  },
  {
   "cell_type": "code",
   "execution_count": 231,
   "metadata": {},
   "outputs": [
    {
     "data": {
      "text/plain": [
       "(12, 2)"
      ]
     },
     "execution_count": 231,
     "metadata": {},
     "output_type": "execute_result"
    }
   ],
   "source": [
    "# keep all contact positions with counts >= 3\n",
    "\n",
    "sub_tcr_HLA_II_contacts_alpha = df_tcr_HLA_II_contacts_alpha[df_tcr_HLA_II_contacts_alpha['count']>=3]\n",
    "sub_tcr_HLA_II_contacts_alpha.shape"
   ]
  },
  {
   "cell_type": "code",
   "execution_count": 229,
   "metadata": {},
   "outputs": [
    {
     "data": {
      "text/plain": [
       "(28, 2)"
      ]
     },
     "execution_count": 229,
     "metadata": {},
     "output_type": "execute_result"
    }
   ],
   "source": [
    "sub_pep_HLA_II_contacts_alpha = df_pep_HLA_II_contacts_alpha[df_pep_HLA_II_contacts_alpha['count']>=3]\n",
    "sub_pep_HLA_II_contacts_alpha.shape"
   ]
  },
  {
   "cell_type": "code",
   "execution_count": 235,
   "metadata": {},
   "outputs": [
    {
     "data": {
      "text/plain": [
       "{4, 28, 35, 39, 45, 46, 47, 50, 51, 53, 56, 58, 60, 63, 65, 67, 71, 72}"
      ]
     },
     "execution_count": 235,
     "metadata": {},
     "output_type": "execute_result"
    }
   ],
   "source": [
    "set(sub_tcr_HLA_II_contacts_alpha.pos.tolist()).union(set(sub_pep_HLA_II_contacts_alpha.pos.tolist())) - set(modify_15)"
   ]
  },
  {
   "cell_type": "code",
   "execution_count": 239,
   "metadata": {},
   "outputs": [
    {
     "data": {
      "text/plain": [
       "[4, 28, 35, 39, 45, 46, 47, 50, 51, 53, 56, 58, 60, 63, 65, 67, 71, 72]"
      ]
     },
     "execution_count": 239,
     "metadata": {},
     "output_type": "execute_result"
    }
   ],
   "source": [
    "add_HLA_II_alpha = list(set(sub_tcr_HLA_II_contacts_alpha.pos.tolist()).union(set(sub_pep_HLA_II_contacts_alpha.pos.tolist())) - set(modify_15))\n",
    "add_HLA_II_alpha.sort()\n",
    "add_HLA_II_alpha"
   ]
  },
  {
   "cell_type": "code",
   "execution_count": null,
   "metadata": {},
   "outputs": [],
   "source": []
  },
  {
   "cell_type": "markdown",
   "metadata": {},
   "source": [
    "In the end, look into positions related to HLA_II allele beta chain."
   ]
  },
  {
   "cell_type": "code",
   "execution_count": 183,
   "metadata": {},
   "outputs": [],
   "source": [
    "nineteen = [9, 11, 13, 26, 28, 30, 47, 57, 67, 70, 71, 74, 77, 78, 81, 85, 86, 89, 90]"
   ]
  },
  {
   "cell_type": "code",
   "execution_count": 185,
   "metadata": {},
   "outputs": [],
   "source": [
    "tcr_HLA_II_contacts_beta_counter = Counter(tcr_HLA_II_contacts_beta.contact_column.tolist())"
   ]
  },
  {
   "cell_type": "code",
   "execution_count": 187,
   "metadata": {},
   "outputs": [
    {
     "data": {
      "text/plain": [
       "18"
      ]
     },
     "execution_count": 187,
     "metadata": {},
     "output_type": "execute_result"
    }
   ],
   "source": [
    "len(tcr_HLA_II_contacts_beta_counter)"
   ]
  },
  {
   "cell_type": "code",
   "execution_count": 188,
   "metadata": {},
   "outputs": [
    {
     "data": {
      "text/plain": [
       "[53, 54, 57, 59, 60, 62, 63, 64, 65, 66, 67, 69, 70, 71, 73, 74, 77, 78]"
      ]
     },
     "execution_count": 188,
     "metadata": {},
     "output_type": "execute_result"
    }
   ],
   "source": [
    "tcr_HLA_II_contacts_beta_key_list = list(tcr_HLA_II_contacts_beta_counter.keys())\n",
    "tcr_HLA_II_contacts_beta_key_list.sort()\n",
    "tcr_HLA_II_contacts_beta_key_list"
   ]
  },
  {
   "cell_type": "code",
   "execution_count": 189,
   "metadata": {},
   "outputs": [],
   "source": [
    "tcr_HLA_II_contacts_beta_counts = [tcr_HLA_II_contacts_beta_counter[key] for key in tcr_HLA_II_contacts_beta_key_list]\n",
    "df_tcr_HLA_II_contacts_beta = pd.DataFrame(list(zip(tcr_HLA_II_contacts_beta_key_list, tcr_HLA_II_contacts_beta_counts)),\\\n",
    "                                     columns = ['pos', 'count'])\n",
    "# 0 indexed positions\n",
    "df_tcr_HLA_II_contacts_beta.to_csv(\"../../data/intermediate_data/t2_tcr_HLA_II_contacts_beta.csv\", index = False)"
   ]
  },
  {
   "cell_type": "code",
   "execution_count": 191,
   "metadata": {},
   "outputs": [],
   "source": [
    "#df_tcr_HLA_II_contacts_beta"
   ]
  },
  {
   "cell_type": "code",
   "execution_count": 192,
   "metadata": {},
   "outputs": [],
   "source": [
    "pep_HLA_II_contacts_beta_counter = Counter(pep_HLA_II_contacts_beta.contact_column.tolist())"
   ]
  },
  {
   "cell_type": "code",
   "execution_count": 194,
   "metadata": {},
   "outputs": [],
   "source": [
    "pep_HLA_II_contacts_beta_key_list = list(pep_HLA_II_contacts_beta_counter.keys())\n",
    "pep_HLA_II_contacts_beta_key_list.sort()\n",
    "#pep_HLA_II_contacts_beta_key_list"
   ]
  },
  {
   "cell_type": "code",
   "execution_count": 195,
   "metadata": {},
   "outputs": [],
   "source": [
    "pep_HLA_II_contacts_beta_counts = [pep_HLA_II_contacts_beta_counter[key] for key in pep_HLA_II_contacts_beta_key_list]\n",
    "df_pep_HLA_II_contacts_beta = pd.DataFrame(list(zip(pep_HLA_II_contacts_beta_key_list, pep_HLA_II_contacts_beta_counts)),\\\n",
    "                                     columns = ['pos', 'count'])\n",
    "# 0 indexed positions\n",
    "df_pep_HLA_II_contacts_beta.to_csv(\"../../data/intermediate_data/t2_pep_HLA_II_contacts_beta.csv\", index = False)"
   ]
  },
  {
   "cell_type": "code",
   "execution_count": 197,
   "metadata": {},
   "outputs": [
    {
     "data": {
      "text/plain": [
       "38"
      ]
     },
     "execution_count": 197,
     "metadata": {},
     "output_type": "execute_result"
    }
   ],
   "source": [
    "set(df_tcr_HLA_II_contacts_beta.pos.tolist()).union(set(df_pep_HLA_II_contacts_beta.pos.tolist())) "
   ]
  },
  {
   "cell_type": "code",
   "execution_count": 264,
   "metadata": {},
   "outputs": [
    {
     "data": {
      "text/plain": [
       "[2, 4, 6, 19, 21, 23, 40, 50, 60, 63, 64, 67, 70, 71, 74, 78, 79, 82, 83]"
      ]
     },
     "execution_count": 264,
     "metadata": {},
     "output_type": "execute_result"
    }
   ],
   "source": [
    "modify_19 = [ind - 7 for ind in nineteen]\n",
    "modify_19"
   ]
  },
  {
   "cell_type": "code",
   "execution_count": 265,
   "metadata": {},
   "outputs": [
    {
     "data": {
      "text/plain": [
       "{82, 83}"
      ]
     },
     "execution_count": 265,
     "metadata": {},
     "output_type": "execute_result"
    }
   ],
   "source": [
    "set(modify_19) - set(pep_HLA_II_contacts_beta_key_list)"
   ]
  },
  {
   "cell_type": "code",
   "execution_count": 258,
   "metadata": {},
   "outputs": [
    {
     "data": {
      "text/plain": [
       "(10, 2)"
      ]
     },
     "execution_count": 258,
     "metadata": {},
     "output_type": "execute_result"
    }
   ],
   "source": [
    "sub_tcr_HLA_II_contacts_beta = df_tcr_HLA_II_contacts_beta[df_tcr_HLA_II_contacts_beta['count'] >= 10]\n",
    "sub_tcr_HLA_II_contacts_beta.shape"
   ]
  },
  {
   "cell_type": "code",
   "execution_count": 266,
   "metadata": {},
   "outputs": [
    {
     "data": {
      "text/plain": [
       "[12, 23, 26, 20, 22, 18, 13, 26, 25, 17, 22, 22, 21, 26, 26, 26, 10, 0, 0]"
      ]
     },
     "execution_count": 266,
     "metadata": {},
     "output_type": "execute_result"
    }
   ],
   "source": [
    "[pep_HLA_II_contacts_beta_counter[key] for key in modify_19]"
   ]
  },
  {
   "cell_type": "code",
   "execution_count": 252,
   "metadata": {},
   "outputs": [
    {
     "data": {
      "text/plain": [
       "(21, 2)"
      ]
     },
     "execution_count": 252,
     "metadata": {},
     "output_type": "execute_result"
    }
   ],
   "source": [
    "sub_pep_HLA_II_contacts_beta = df_pep_HLA_II_contacts_beta[df_pep_HLA_II_contacts_beta['count'] >=10]\n",
    "sub_pep_HLA_II_contacts_beta.shape"
   ]
  },
  {
   "cell_type": "code",
   "execution_count": 267,
   "metadata": {},
   "outputs": [
    {
     "data": {
      "text/plain": [
       "{49, 53, 54, 57, 59, 62, 66, 69, 75}"
      ]
     },
     "execution_count": 267,
     "metadata": {},
     "output_type": "execute_result"
    }
   ],
   "source": [
    "set(sub_tcr_HLA_II_contacts_beta.pos.tolist()).union(set(sub_pep_HLA_II_contacts_beta.pos.tolist())) - set(modify_19)"
   ]
  },
  {
   "cell_type": "code",
   "execution_count": 268,
   "metadata": {},
   "outputs": [
    {
     "data": {
      "text/plain": [
       "[49, 53, 54, 57, 59, 62, 66, 69, 75]"
      ]
     },
     "execution_count": 268,
     "metadata": {},
     "output_type": "execute_result"
    }
   ],
   "source": [
    "add_HLA_II_beta = list(set(sub_tcr_HLA_II_contacts_beta.pos.tolist()).union(set(sub_pep_HLA_II_contacts_beta.pos.tolist())) - set(modify_19))\n",
    "add_HLA_II_beta.sort()\n",
    "add_HLA_II_beta"
   ]
  },
  {
   "cell_type": "code",
   "execution_count": 269,
   "metadata": {},
   "outputs": [
    {
     "data": {
      "text/plain": [
       "9"
      ]
     },
     "execution_count": 269,
     "metadata": {},
     "output_type": "execute_result"
    }
   ],
   "source": [
    "len(add_HLA_II_beta)"
   ]
  },
  {
   "cell_type": "code",
   "execution_count": null,
   "metadata": {},
   "outputs": [],
   "source": []
  }
 ],
 "metadata": {
  "kernelspec": {
   "display_name": "Python 3 (ipykernel)",
   "language": "python",
   "name": "python3"
  },
  "language_info": {
   "codemirror_mode": {
    "name": "ipython",
    "version": 3
   },
   "file_extension": ".py",
   "mimetype": "text/x-python",
   "name": "python",
   "nbconvert_exporter": "python",
   "pygments_lexer": "ipython3",
   "version": "3.9.10"
  }
 },
 "nbformat": 4,
 "nbformat_minor": 2
}
