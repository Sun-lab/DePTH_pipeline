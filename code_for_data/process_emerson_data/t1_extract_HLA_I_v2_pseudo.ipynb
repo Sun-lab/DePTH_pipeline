{
 "cells": [
  {
   "cell_type": "markdown",
   "metadata": {},
   "source": [
    "Extract the short pseudo sequence (34 amimo acids) from MHC_pseudo.txt for 85 HLA-I alleles in DeWitt 2018. "
   ]
  },
  {
   "cell_type": "code",
   "execution_count": 1,
   "metadata": {},
   "outputs": [],
   "source": [
    "import os\n",
    "\n",
    "import numpy as np\n",
    "import pandas as pd\n",
    "\n",
    "from collections import Counter"
   ]
  },
  {
   "cell_type": "code",
   "execution_count": 2,
   "metadata": {},
   "outputs": [],
   "source": [
    "data_dir = \"../../data/intermediate_data\"\n",
    "MHC_file = \"MHC_pseudo.txt\"\n",
    "MHC_path = os.path.join(data_dir, MHC_file)\n",
    "MHC_pseudo = pd.read_csv(MHC_path, sep=' ', header= None)"
   ]
  },
  {
   "cell_type": "code",
   "execution_count": 3,
   "metadata": {},
   "outputs": [
    {
     "data": {
      "text/plain": [
       "(5327, 2)"
      ]
     },
     "execution_count": 3,
     "metadata": {},
     "output_type": "execute_result"
    }
   ],
   "source": [
    "MHC_pseudo.shape"
   ]
  },
  {
   "cell_type": "code",
   "execution_count": 4,
   "metadata": {},
   "outputs": [
    {
     "data": {
      "text/html": [
       "<div>\n",
       "<style scoped>\n",
       "    .dataframe tbody tr th:only-of-type {\n",
       "        vertical-align: middle;\n",
       "    }\n",
       "\n",
       "    .dataframe tbody tr th {\n",
       "        vertical-align: top;\n",
       "    }\n",
       "\n",
       "    .dataframe thead th {\n",
       "        text-align: right;\n",
       "    }\n",
       "</style>\n",
       "<table border=\"1\" class=\"dataframe\">\n",
       "  <thead>\n",
       "    <tr style=\"text-align: right;\">\n",
       "      <th></th>\n",
       "      <th>name</th>\n",
       "      <th>seq</th>\n",
       "    </tr>\n",
       "  </thead>\n",
       "  <tbody>\n",
       "    <tr>\n",
       "      <th>0</th>\n",
       "      <td>BoLA-1:00901</td>\n",
       "      <td>YYSMYREISENVYGSNLYLLYRDYTWEYLNYRWY</td>\n",
       "    </tr>\n",
       "    <tr>\n",
       "      <th>1</th>\n",
       "      <td>BoLA-1:00902</td>\n",
       "      <td>YYSEYREISENVYESNLYLLYRDYTWEYLNYRWY</td>\n",
       "    </tr>\n",
       "    <tr>\n",
       "      <th>2</th>\n",
       "      <td>BoLA-1:01901</td>\n",
       "      <td>YHTKYREISENVYGSNLYYDYDYYTWAVFNYRGY</td>\n",
       "    </tr>\n",
       "    <tr>\n",
       "      <th>3</th>\n",
       "      <td>BoLA-1:02001</td>\n",
       "      <td>YHTKYREISENVYGSNLYFLYMDYTWAVFNYRGY</td>\n",
       "    </tr>\n",
       "    <tr>\n",
       "      <th>4</th>\n",
       "      <td>BoLA-1:02101</td>\n",
       "      <td>YYTKYREISENVYGSNLYFQFRYYTWADFNYEGY</td>\n",
       "    </tr>\n",
       "    <tr>\n",
       "      <th>5</th>\n",
       "      <td>BoLA-1:02301</td>\n",
       "      <td>YYSEYREISENVYESNLYIAYSDYTWEYLNYRWY</td>\n",
       "    </tr>\n",
       "    <tr>\n",
       "      <th>6</th>\n",
       "      <td>BoLA-1:02801</td>\n",
       "      <td>YYTKYREISEKLYENTLYLQFRYYTWADFNYEWY</td>\n",
       "    </tr>\n",
       "    <tr>\n",
       "      <th>7</th>\n",
       "      <td>BoLA-1:02901</td>\n",
       "      <td>YYTRYREISENLYKNTAYITFMYYTWANENYRGY</td>\n",
       "    </tr>\n",
       "    <tr>\n",
       "      <th>8</th>\n",
       "      <td>BoLA-1:03101</td>\n",
       "      <td>YYTKYDEISENLYKNTLYIAFRDYTWAYLNYTWY</td>\n",
       "    </tr>\n",
       "  </tbody>\n",
       "</table>\n",
       "</div>"
      ],
      "text/plain": [
       "           name                                 seq\n",
       "0  BoLA-1:00901  YYSMYREISENVYGSNLYLLYRDYTWEYLNYRWY\n",
       "1  BoLA-1:00902  YYSEYREISENVYESNLYLLYRDYTWEYLNYRWY\n",
       "2  BoLA-1:01901  YHTKYREISENVYGSNLYYDYDYYTWAVFNYRGY\n",
       "3  BoLA-1:02001  YHTKYREISENVYGSNLYFLYMDYTWAVFNYRGY\n",
       "4  BoLA-1:02101  YYTKYREISENVYGSNLYFQFRYYTWADFNYEGY\n",
       "5  BoLA-1:02301  YYSEYREISENVYESNLYIAYSDYTWEYLNYRWY\n",
       "6  BoLA-1:02801  YYTKYREISEKLYENTLYLQFRYYTWADFNYEWY\n",
       "7  BoLA-1:02901  YYTRYREISENLYKNTAYITFMYYTWANENYRGY\n",
       "8  BoLA-1:03101  YYTKYDEISENLYKNTLYIAFRDYTWAYLNYTWY"
      ]
     },
     "execution_count": 4,
     "metadata": {},
     "output_type": "execute_result"
    }
   ],
   "source": [
    "MHC_pseudo.columns = [\"name\", \"seq\"]\n",
    "MHC_pseudo[0:9]"
   ]
  },
  {
   "cell_type": "code",
   "execution_count": 5,
   "metadata": {},
   "outputs": [
    {
     "data": {
      "text/plain": [
       "name    5315\n",
       "seq     2125\n",
       "dtype: int64"
      ]
     },
     "execution_count": 5,
     "metadata": {},
     "output_type": "execute_result"
    }
   ],
   "source": [
    "MHC_pseudo.nunique()"
   ]
  },
  {
   "cell_type": "code",
   "execution_count": 6,
   "metadata": {},
   "outputs": [
    {
     "data": {
      "text/plain": [
       "(24, 2)"
      ]
     },
     "execution_count": 6,
     "metadata": {},
     "output_type": "execute_result"
    }
   ],
   "source": [
    "dup_rows = MHC_pseudo[MHC_pseudo.duplicated(subset=['name'],keep=False)]\n",
    "dup_rows.shape"
   ]
  },
  {
   "cell_type": "code",
   "execution_count": 7,
   "metadata": {},
   "outputs": [
    {
     "data": {
      "text/html": [
       "<div>\n",
       "<style scoped>\n",
       "    .dataframe tbody tr th:only-of-type {\n",
       "        vertical-align: middle;\n",
       "    }\n",
       "\n",
       "    .dataframe tbody tr th {\n",
       "        vertical-align: top;\n",
       "    }\n",
       "\n",
       "    .dataframe thead th {\n",
       "        text-align: right;\n",
       "    }\n",
       "</style>\n",
       "<table border=\"1\" class=\"dataframe\">\n",
       "  <thead>\n",
       "    <tr style=\"text-align: right;\">\n",
       "      <th></th>\n",
       "      <th>name</th>\n",
       "      <th>seq</th>\n",
       "    </tr>\n",
       "  </thead>\n",
       "  <tbody>\n",
       "    <tr>\n",
       "      <th>4598</th>\n",
       "      <td>Mamu-A01</td>\n",
       "      <td>YYAMYRENMTENAVNTLYLRVEYYTWAVMAYQWY</td>\n",
       "    </tr>\n",
       "    <tr>\n",
       "      <th>4599</th>\n",
       "      <td>Mamu-A01</td>\n",
       "      <td>YYAMYRENMTENAVNTLYLRVEYYTWAVMAYQWY</td>\n",
       "    </tr>\n",
       "    <tr>\n",
       "      <th>4600</th>\n",
       "      <td>Mamu-A02</td>\n",
       "      <td>YYAMYRENMAENAVNNLYIRYHSYTWAEHTYEWY</td>\n",
       "    </tr>\n",
       "    <tr>\n",
       "      <th>4601</th>\n",
       "      <td>Mamu-A02</td>\n",
       "      <td>YYAMYRENMAENAVNNLYIRYHSYTWAEHTYEWY</td>\n",
       "    </tr>\n",
       "    <tr>\n",
       "      <th>4612</th>\n",
       "      <td>Mamu-A07</td>\n",
       "      <td>YYSEYRNICANTYESNLYIRYEFYTWAAMAYEWH</td>\n",
       "    </tr>\n",
       "    <tr>\n",
       "      <th>4613</th>\n",
       "      <td>Mamu-A07</td>\n",
       "      <td>YYSEYRNICANTYESNLYIRYEFYTWAAMAYEWH</td>\n",
       "    </tr>\n",
       "    <tr>\n",
       "      <th>4615</th>\n",
       "      <td>Mamu-A11</td>\n",
       "      <td>YHTKYREISANTYENTAYFTYDYYTWAVHTYEWY</td>\n",
       "    </tr>\n",
       "    <tr>\n",
       "      <th>4616</th>\n",
       "      <td>Mamu-A11</td>\n",
       "      <td>YHTKYREISANTYENTAYFTYDYYTWAVHTYEWY</td>\n",
       "    </tr>\n",
       "    <tr>\n",
       "      <th>4855</th>\n",
       "      <td>Mamu-B01</td>\n",
       "      <td>YHSMYREKAGNTDENIAYLMHYRYTWAVRAYRWY</td>\n",
       "    </tr>\n",
       "    <tr>\n",
       "      <th>4856</th>\n",
       "      <td>Mamu-B01</td>\n",
       "      <td>YHSMYREKAGNTDENIAYLMHYRYTWAVRAYRWY</td>\n",
       "    </tr>\n",
       "    <tr>\n",
       "      <th>4858</th>\n",
       "      <td>Mamu-B03</td>\n",
       "      <td>YSSEYEENAGHTDADNLYLTYHYYTWAEVAYTWY</td>\n",
       "    </tr>\n",
       "    <tr>\n",
       "      <th>4859</th>\n",
       "      <td>Mamu-B03</td>\n",
       "      <td>YSSEYEENAGHTDADNLYLTYHYYTWAEVAYTWY</td>\n",
       "    </tr>\n",
       "    <tr>\n",
       "      <th>4861</th>\n",
       "      <td>Mamu-B04</td>\n",
       "      <td>YSEMYEERAGNTFVGNLYYWYDFYTWAEQAYTWY</td>\n",
       "    </tr>\n",
       "    <tr>\n",
       "      <th>4862</th>\n",
       "      <td>Mamu-B04</td>\n",
       "      <td>YSEMYEERAGNTFVGNLYYWYDFYTWAEQAYTWY</td>\n",
       "    </tr>\n",
       "    <tr>\n",
       "      <th>4865</th>\n",
       "      <td>Mamu-B08</td>\n",
       "      <td>YSSEYEERAGHTDADTLYLTYHYYTWAEVAYTWY</td>\n",
       "    </tr>\n",
       "    <tr>\n",
       "      <th>4866</th>\n",
       "      <td>Mamu-B08</td>\n",
       "      <td>YSSEYEERAGHTDADTLYLTYHYYTWAEVAYTWY</td>\n",
       "    </tr>\n",
       "    <tr>\n",
       "      <th>4869</th>\n",
       "      <td>Mamu-B17</td>\n",
       "      <td>YYSEYEARAEATHENTAYIKYHSYTWNYFAYEWY</td>\n",
       "    </tr>\n",
       "    <tr>\n",
       "      <th>4870</th>\n",
       "      <td>Mamu-B17</td>\n",
       "      <td>YYSEYEARAEATHENTAYIKYHSYTWNYFAYEWY</td>\n",
       "    </tr>\n",
       "    <tr>\n",
       "      <th>4891</th>\n",
       "      <td>Mamu-B48</td>\n",
       "      <td>YSAMYEEIADATFVGILYYWYHFYTWVEFAYRWY</td>\n",
       "    </tr>\n",
       "    <tr>\n",
       "      <th>4892</th>\n",
       "      <td>Mamu-B48</td>\n",
       "      <td>YSAMYEEIADATFVGILYYWYHFYTWVEFAYRWY</td>\n",
       "    </tr>\n",
       "    <tr>\n",
       "      <th>5253</th>\n",
       "      <td>SLA-20401</td>\n",
       "      <td>YDEMYRNNAGNIYGNTAYIIYSDYTWAERSYTWY</td>\n",
       "    </tr>\n",
       "    <tr>\n",
       "      <th>5254</th>\n",
       "      <td>SLA-20401</td>\n",
       "      <td>YDEMYRNNAGNIYGNTAYIIYSDYTWAERSYTWY</td>\n",
       "    </tr>\n",
       "    <tr>\n",
       "      <th>5302</th>\n",
       "      <td>SLA-30401</td>\n",
       "      <td>YDEMYKENAGSTFVNNLYLSYSDYTRAAMSYAWY</td>\n",
       "    </tr>\n",
       "    <tr>\n",
       "      <th>5303</th>\n",
       "      <td>SLA-30401</td>\n",
       "      <td>YDEMYKENAGSTFVNNLYLSYSDYTRAAMSYAWY</td>\n",
       "    </tr>\n",
       "  </tbody>\n",
       "</table>\n",
       "</div>"
      ],
      "text/plain": [
       "           name                                 seq\n",
       "4598   Mamu-A01  YYAMYRENMTENAVNTLYLRVEYYTWAVMAYQWY\n",
       "4599   Mamu-A01  YYAMYRENMTENAVNTLYLRVEYYTWAVMAYQWY\n",
       "4600   Mamu-A02  YYAMYRENMAENAVNNLYIRYHSYTWAEHTYEWY\n",
       "4601   Mamu-A02  YYAMYRENMAENAVNNLYIRYHSYTWAEHTYEWY\n",
       "4612   Mamu-A07  YYSEYRNICANTYESNLYIRYEFYTWAAMAYEWH\n",
       "4613   Mamu-A07  YYSEYRNICANTYESNLYIRYEFYTWAAMAYEWH\n",
       "4615   Mamu-A11  YHTKYREISANTYENTAYFTYDYYTWAVHTYEWY\n",
       "4616   Mamu-A11  YHTKYREISANTYENTAYFTYDYYTWAVHTYEWY\n",
       "4855   Mamu-B01  YHSMYREKAGNTDENIAYLMHYRYTWAVRAYRWY\n",
       "4856   Mamu-B01  YHSMYREKAGNTDENIAYLMHYRYTWAVRAYRWY\n",
       "4858   Mamu-B03  YSSEYEENAGHTDADNLYLTYHYYTWAEVAYTWY\n",
       "4859   Mamu-B03  YSSEYEENAGHTDADNLYLTYHYYTWAEVAYTWY\n",
       "4861   Mamu-B04  YSEMYEERAGNTFVGNLYYWYDFYTWAEQAYTWY\n",
       "4862   Mamu-B04  YSEMYEERAGNTFVGNLYYWYDFYTWAEQAYTWY\n",
       "4865   Mamu-B08  YSSEYEERAGHTDADTLYLTYHYYTWAEVAYTWY\n",
       "4866   Mamu-B08  YSSEYEERAGHTDADTLYLTYHYYTWAEVAYTWY\n",
       "4869   Mamu-B17  YYSEYEARAEATHENTAYIKYHSYTWNYFAYEWY\n",
       "4870   Mamu-B17  YYSEYEARAEATHENTAYIKYHSYTWNYFAYEWY\n",
       "4891   Mamu-B48  YSAMYEEIADATFVGILYYWYHFYTWVEFAYRWY\n",
       "4892   Mamu-B48  YSAMYEEIADATFVGILYYWYHFYTWVEFAYRWY\n",
       "5253  SLA-20401  YDEMYRNNAGNIYGNTAYIIYSDYTWAERSYTWY\n",
       "5254  SLA-20401  YDEMYRNNAGNIYGNTAYIIYSDYTWAERSYTWY\n",
       "5302  SLA-30401  YDEMYKENAGSTFVNNLYLSYSDYTRAAMSYAWY\n",
       "5303  SLA-30401  YDEMYKENAGSTFVNNLYLSYSDYTRAAMSYAWY"
      ]
     },
     "execution_count": 7,
     "metadata": {},
     "output_type": "execute_result"
    }
   ],
   "source": [
    "# none of the rows duplicated wrt name column is from HLA\n",
    "# ignore it for now\n",
    "dup_rows"
   ]
  },
  {
   "cell_type": "code",
   "execution_count": 8,
   "metadata": {},
   "outputs": [
    {
     "data": {
      "text/plain": [
       "12"
      ]
     },
     "execution_count": 8,
     "metadata": {},
     "output_type": "execute_result"
    }
   ],
   "source": [
    "dup_rows.name.nunique()"
   ]
  },
  {
   "cell_type": "code",
   "execution_count": 9,
   "metadata": {},
   "outputs": [
    {
     "data": {
      "text/plain": [
       "5327"
      ]
     },
     "execution_count": 9,
     "metadata": {},
     "output_type": "execute_result"
    }
   ],
   "source": [
    "dup_rows.shape[0] + MHC_pseudo.name.nunique() - dup_rows.name.nunique()"
   ]
  },
  {
   "cell_type": "code",
   "execution_count": null,
   "metadata": {},
   "outputs": [],
   "source": [
    "# subset the HLA related rows"
   ]
  },
  {
   "cell_type": "code",
   "execution_count": 10,
   "metadata": {},
   "outputs": [
    {
     "data": {
      "text/plain": [
       "'BoL'"
      ]
     },
     "execution_count": 10,
     "metadata": {},
     "output_type": "execute_result"
    }
   ],
   "source": [
    "MHC_pseudo.name[0][0:3]"
   ]
  },
  {
   "cell_type": "code",
   "execution_count": 11,
   "metadata": {},
   "outputs": [
    {
     "data": {
      "text/html": [
       "<div>\n",
       "<style scoped>\n",
       "    .dataframe tbody tr th:only-of-type {\n",
       "        vertical-align: middle;\n",
       "    }\n",
       "\n",
       "    .dataframe tbody tr th {\n",
       "        vertical-align: top;\n",
       "    }\n",
       "\n",
       "    .dataframe thead th {\n",
       "        text-align: right;\n",
       "    }\n",
       "</style>\n",
       "<table border=\"1\" class=\"dataframe\">\n",
       "  <thead>\n",
       "    <tr style=\"text-align: right;\">\n",
       "      <th></th>\n",
       "      <th>name</th>\n",
       "      <th>seq</th>\n",
       "      <th>first_three</th>\n",
       "    </tr>\n",
       "  </thead>\n",
       "  <tbody>\n",
       "    <tr>\n",
       "      <th>0</th>\n",
       "      <td>BoLA-1:00901</td>\n",
       "      <td>YYSMYREISENVYGSNLYLLYRDYTWEYLNYRWY</td>\n",
       "      <td>BoL</td>\n",
       "    </tr>\n",
       "    <tr>\n",
       "      <th>1</th>\n",
       "      <td>BoLA-1:00902</td>\n",
       "      <td>YYSEYREISENVYESNLYLLYRDYTWEYLNYRWY</td>\n",
       "      <td>BoL</td>\n",
       "    </tr>\n",
       "    <tr>\n",
       "      <th>2</th>\n",
       "      <td>BoLA-1:01901</td>\n",
       "      <td>YHTKYREISENVYGSNLYYDYDYYTWAVFNYRGY</td>\n",
       "      <td>BoL</td>\n",
       "    </tr>\n",
       "    <tr>\n",
       "      <th>3</th>\n",
       "      <td>BoLA-1:02001</td>\n",
       "      <td>YHTKYREISENVYGSNLYFLYMDYTWAVFNYRGY</td>\n",
       "      <td>BoL</td>\n",
       "    </tr>\n",
       "    <tr>\n",
       "      <th>4</th>\n",
       "      <td>BoLA-1:02101</td>\n",
       "      <td>YYTKYREISENVYGSNLYFQFRYYTWADFNYEGY</td>\n",
       "      <td>BoL</td>\n",
       "    </tr>\n",
       "    <tr>\n",
       "      <th>5</th>\n",
       "      <td>BoLA-1:02301</td>\n",
       "      <td>YYSEYREISENVYESNLYIAYSDYTWEYLNYRWY</td>\n",
       "      <td>BoL</td>\n",
       "    </tr>\n",
       "  </tbody>\n",
       "</table>\n",
       "</div>"
      ],
      "text/plain": [
       "           name                                 seq first_three\n",
       "0  BoLA-1:00901  YYSMYREISENVYGSNLYLLYRDYTWEYLNYRWY         BoL\n",
       "1  BoLA-1:00902  YYSEYREISENVYESNLYLLYRDYTWEYLNYRWY         BoL\n",
       "2  BoLA-1:01901  YHTKYREISENVYGSNLYYDYDYYTWAVFNYRGY         BoL\n",
       "3  BoLA-1:02001  YHTKYREISENVYGSNLYFLYMDYTWAVFNYRGY         BoL\n",
       "4  BoLA-1:02101  YYTKYREISENVYGSNLYFQFRYYTWADFNYEGY         BoL\n",
       "5  BoLA-1:02301  YYSEYREISENVYESNLYIAYSDYTWEYLNYRWY         BoL"
      ]
     },
     "execution_count": 11,
     "metadata": {},
     "output_type": "execute_result"
    }
   ],
   "source": [
    "MHC_pseudo['first_three'] = MHC_pseudo['name'].str[:3]\n",
    "MHC_pseudo[:6]"
   ]
  },
  {
   "cell_type": "code",
   "execution_count": 12,
   "metadata": {},
   "outputs": [
    {
     "data": {
      "text/plain": [
       "Counter({'BoL': 181,\n",
       "         'Chi': 3,\n",
       "         'Gog': 1,\n",
       "         'H-2': 9,\n",
       "         'H2-': 8,\n",
       "         'HLA': 4396,\n",
       "         'Mam': 508,\n",
       "         'Pat': 105,\n",
       "         'SLA': 116})"
      ]
     },
     "execution_count": 12,
     "metadata": {},
     "output_type": "execute_result"
    }
   ],
   "source": [
    "Counter(MHC_pseudo['first_three'])"
   ]
  },
  {
   "cell_type": "code",
   "execution_count": 13,
   "metadata": {},
   "outputs": [
    {
     "data": {
      "text/plain": [
       "(4396, 3)"
      ]
     },
     "execution_count": 13,
     "metadata": {},
     "output_type": "execute_result"
    }
   ],
   "source": [
    "HLA_pseudo = MHC_pseudo.loc[MHC_pseudo['first_three'] == 'HLA']\n",
    "HLA_pseudo.shape"
   ]
  },
  {
   "cell_type": "code",
   "execution_count": 14,
   "metadata": {},
   "outputs": [
    {
     "data": {
      "text/html": [
       "<div>\n",
       "<style scoped>\n",
       "    .dataframe tbody tr th:only-of-type {\n",
       "        vertical-align: middle;\n",
       "    }\n",
       "\n",
       "    .dataframe tbody tr th {\n",
       "        vertical-align: top;\n",
       "    }\n",
       "\n",
       "    .dataframe thead th {\n",
       "        text-align: right;\n",
       "    }\n",
       "</style>\n",
       "<table border=\"1\" class=\"dataframe\">\n",
       "  <thead>\n",
       "    <tr style=\"text-align: right;\">\n",
       "      <th></th>\n",
       "      <th>name</th>\n",
       "      <th>seq</th>\n",
       "      <th>first_three</th>\n",
       "    </tr>\n",
       "  </thead>\n",
       "  <tbody>\n",
       "    <tr>\n",
       "      <th>202</th>\n",
       "      <td>HLA-A0101</td>\n",
       "      <td>YFAMYQENMAHTDANTLYIIYRDYTWVARVYRGY</td>\n",
       "      <td>HLA</td>\n",
       "    </tr>\n",
       "    <tr>\n",
       "      <th>203</th>\n",
       "      <td>HLA-A0102</td>\n",
       "      <td>YSAMYQENMAHTDANTLYIIYRDYTWVARVYRGY</td>\n",
       "      <td>HLA</td>\n",
       "    </tr>\n",
       "    <tr>\n",
       "      <th>204</th>\n",
       "      <td>HLA-A0103</td>\n",
       "      <td>YFAMYQENMAHTDANTLYIMYRDYTWVARVYRGY</td>\n",
       "      <td>HLA</td>\n",
       "    </tr>\n",
       "    <tr>\n",
       "      <th>205</th>\n",
       "      <td>HLA-A0104</td>\n",
       "      <td>YFAMYQENMAHTDANTLYIIYRDYTWVARVYRGY</td>\n",
       "      <td>HLA</td>\n",
       "    </tr>\n",
       "    <tr>\n",
       "      <th>206</th>\n",
       "      <td>HLA-A0106</td>\n",
       "      <td>YFAMYQENMAHTDANTLYIIYRDYTWVALAYRGY</td>\n",
       "      <td>HLA</td>\n",
       "    </tr>\n",
       "    <tr>\n",
       "      <th>207</th>\n",
       "      <td>HLA-A0107</td>\n",
       "      <td>YFAMYQENVAHTDENTLYIIYRDYTWVARVYRGY</td>\n",
       "      <td>HLA</td>\n",
       "    </tr>\n",
       "    <tr>\n",
       "      <th>208</th>\n",
       "      <td>HLA-A0108</td>\n",
       "      <td>YFAMYQENMAHTDANTLYIIYRDYTWVARVYWGY</td>\n",
       "      <td>HLA</td>\n",
       "    </tr>\n",
       "    <tr>\n",
       "      <th>209</th>\n",
       "      <td>HLA-A0109</td>\n",
       "      <td>YFAMYQENMAHTDANTLYIIYRDYTWVARVYRGY</td>\n",
       "      <td>HLA</td>\n",
       "    </tr>\n",
       "    <tr>\n",
       "      <th>210</th>\n",
       "      <td>HLA-A0110</td>\n",
       "      <td>YFAMYQENMAHTDANTLYIIYRDYTWARRVYRGY</td>\n",
       "      <td>HLA</td>\n",
       "    </tr>\n",
       "  </tbody>\n",
       "</table>\n",
       "</div>"
      ],
      "text/plain": [
       "          name                                 seq first_three\n",
       "202  HLA-A0101  YFAMYQENMAHTDANTLYIIYRDYTWVARVYRGY         HLA\n",
       "203  HLA-A0102  YSAMYQENMAHTDANTLYIIYRDYTWVARVYRGY         HLA\n",
       "204  HLA-A0103  YFAMYQENMAHTDANTLYIMYRDYTWVARVYRGY         HLA\n",
       "205  HLA-A0104  YFAMYQENMAHTDANTLYIIYRDYTWVARVYRGY         HLA\n",
       "206  HLA-A0106  YFAMYQENMAHTDANTLYIIYRDYTWVALAYRGY         HLA\n",
       "207  HLA-A0107  YFAMYQENVAHTDENTLYIIYRDYTWVARVYRGY         HLA\n",
       "208  HLA-A0108  YFAMYQENMAHTDANTLYIIYRDYTWVARVYWGY         HLA\n",
       "209  HLA-A0109  YFAMYQENMAHTDANTLYIIYRDYTWVARVYRGY         HLA\n",
       "210  HLA-A0110  YFAMYQENMAHTDANTLYIIYRDYTWARRVYRGY         HLA"
      ]
     },
     "execution_count": 14,
     "metadata": {},
     "output_type": "execute_result"
    }
   ],
   "source": [
    "HLA_pseudo[0:9]"
   ]
  },
  {
   "cell_type": "code",
   "execution_count": 15,
   "metadata": {},
   "outputs": [
    {
     "data": {
      "text/plain": [
       "name           4396\n",
       "seq            1577\n",
       "first_three       1\n",
       "dtype: int64"
      ]
     },
     "execution_count": 15,
     "metadata": {},
     "output_type": "execute_result"
    }
   ],
   "source": [
    "HLA_pseudo.nunique()"
   ]
  },
  {
   "cell_type": "code",
   "execution_count": 16,
   "metadata": {},
   "outputs": [
    {
     "data": {
      "text/plain": [
       "202    HLA-A0101\n",
       "203    HLA-A0102\n",
       "204    HLA-A0103\n",
       "205    HLA-A0104\n",
       "206    HLA-A0106\n",
       "207    HLA-A0107\n",
       "208    HLA-A0108\n",
       "209    HLA-A0109\n",
       "210    HLA-A0110\n",
       "211    HLA-A0111\n",
       "Name: name, dtype: object"
      ]
     },
     "execution_count": 16,
     "metadata": {},
     "output_type": "execute_result"
    }
   ],
   "source": [
    "HLA_pseudo.name[:10]"
   ]
  },
  {
   "cell_type": "markdown",
   "metadata": {},
   "source": [
    "Load HLA information v2 from DeWitt 2018"
   ]
  },
  {
   "cell_type": "code",
   "execution_count": 20,
   "metadata": {},
   "outputs": [],
   "source": [
    "HLA_2_file = \"../../data/intermediate_data/DeWitt_2018/HLA_v2_features.txt\""
   ]
  },
  {
   "cell_type": "code",
   "execution_count": 21,
   "metadata": {},
   "outputs": [
    {
     "data": {
      "text/plain": [
       "0"
      ]
     },
     "execution_count": 21,
     "metadata": {},
     "output_type": "execute_result"
    }
   ],
   "source": [
    "# use hard coded directory for now\n",
    "\n",
    "cmd2 = \"cut -f1,2 -d ' ' ../../data/intermediate_data/DeWitt_2018/HLA_v2_features.txt > ../../data/intermediate_data/DeWitt_2018/HLA_v2_features_row_names.txt\"\n",
    "os.system(cmd2)"
   ]
  },
  {
   "cell_type": "code",
   "execution_count": 22,
   "metadata": {},
   "outputs": [
    {
     "data": {
      "text/plain": [
       "(215, 2)"
      ]
     },
     "execution_count": 22,
     "metadata": {},
     "output_type": "execute_result"
    }
   ],
   "source": [
    "HLA_v2_rname = pd.read_csv(\"../../data/intermediate_data/DeWitt_2018/HLA_v2_features_row_names.txt\", \n",
    "                     sep = \" \",\n",
    "                     header = None)\n",
    "HLA_v2_rname.shape"
   ]
  },
  {
   "cell_type": "code",
   "execution_count": 23,
   "metadata": {},
   "outputs": [
    {
     "data": {
      "text/html": [
       "<div>\n",
       "<style scoped>\n",
       "    .dataframe tbody tr th:only-of-type {\n",
       "        vertical-align: middle;\n",
       "    }\n",
       "\n",
       "    .dataframe tbody tr th {\n",
       "        vertical-align: top;\n",
       "    }\n",
       "\n",
       "    .dataframe thead th {\n",
       "        text-align: right;\n",
       "    }\n",
       "</style>\n",
       "<table border=\"1\" class=\"dataframe\">\n",
       "  <thead>\n",
       "    <tr style=\"text-align: right;\">\n",
       "      <th></th>\n",
       "      <th>feature</th>\n",
       "      <th>name</th>\n",
       "    </tr>\n",
       "  </thead>\n",
       "  <tbody>\n",
       "    <tr>\n",
       "      <th>0</th>\n",
       "      <td>feature:</td>\n",
       "      <td>HLA-DPAB*02:01_04:01</td>\n",
       "    </tr>\n",
       "    <tr>\n",
       "      <th>1</th>\n",
       "      <td>feature:</td>\n",
       "      <td>HLA-DQAB*05:05_06:04</td>\n",
       "    </tr>\n",
       "    <tr>\n",
       "      <th>2</th>\n",
       "      <td>feature:</td>\n",
       "      <td>HLA-B*08:01</td>\n",
       "    </tr>\n",
       "    <tr>\n",
       "      <th>3</th>\n",
       "      <td>feature:</td>\n",
       "      <td>HLA-A*24:02</td>\n",
       "    </tr>\n",
       "    <tr>\n",
       "      <th>4</th>\n",
       "      <td>feature:</td>\n",
       "      <td>HLA-A*24:03</td>\n",
       "    </tr>\n",
       "    <tr>\n",
       "      <th>5</th>\n",
       "      <td>feature:</td>\n",
       "      <td>HLA-B*38:02</td>\n",
       "    </tr>\n",
       "    <tr>\n",
       "      <th>6</th>\n",
       "      <td>feature:</td>\n",
       "      <td>HLA-DPAB*02:01_04:02</td>\n",
       "    </tr>\n",
       "    <tr>\n",
       "      <th>7</th>\n",
       "      <td>feature:</td>\n",
       "      <td>HLA-DRDQ*10:01_01:05_05:01</td>\n",
       "    </tr>\n",
       "    <tr>\n",
       "      <th>8</th>\n",
       "      <td>feature:</td>\n",
       "      <td>HLA-B*51:01</td>\n",
       "    </tr>\n",
       "    <tr>\n",
       "      <th>9</th>\n",
       "      <td>feature:</td>\n",
       "      <td>HLA-B*57:01</td>\n",
       "    </tr>\n",
       "  </tbody>\n",
       "</table>\n",
       "</div>"
      ],
      "text/plain": [
       "    feature                        name\n",
       "0  feature:        HLA-DPAB*02:01_04:01\n",
       "1  feature:        HLA-DQAB*05:05_06:04\n",
       "2  feature:                 HLA-B*08:01\n",
       "3  feature:                 HLA-A*24:02\n",
       "4  feature:                 HLA-A*24:03\n",
       "5  feature:                 HLA-B*38:02\n",
       "6  feature:        HLA-DPAB*02:01_04:02\n",
       "7  feature:  HLA-DRDQ*10:01_01:05_05:01\n",
       "8  feature:                 HLA-B*51:01\n",
       "9  feature:                 HLA-B*57:01"
      ]
     },
     "execution_count": 23,
     "metadata": {},
     "output_type": "execute_result"
    }
   ],
   "source": [
    "HLA_v2_rname.columns = [\"feature\", \"name\"]\n",
    "HLA_v2_rname[:10]"
   ]
  },
  {
   "cell_type": "code",
   "execution_count": 24,
   "metadata": {},
   "outputs": [
    {
     "data": {
      "text/plain": [
       "feature      1\n",
       "name       215\n",
       "dtype: int64"
      ]
     },
     "execution_count": 24,
     "metadata": {},
     "output_type": "execute_result"
    }
   ],
   "source": [
    "HLA_v2_rname.nunique()"
   ]
  },
  {
   "cell_type": "code",
   "execution_count": 25,
   "metadata": {},
   "outputs": [
    {
     "data": {
      "text/plain": [
       "215"
      ]
     },
     "execution_count": 25,
     "metadata": {},
     "output_type": "execute_result"
    }
   ],
   "source": [
    "HLA_v2_set = set(HLA_v2_rname.name)\n",
    "len(HLA_v2_set)"
   ]
  },
  {
   "cell_type": "markdown",
   "metadata": {},
   "source": [
    "now look at how many different general allele types there are in HLA_v2_set and the counts of each one"
   ]
  },
  {
   "cell_type": "code",
   "execution_count": 27,
   "metadata": {},
   "outputs": [
    {
     "data": {
      "text/plain": [
       "Counter({'HLA-A': 24,\n",
       "         'HLA-B': 40,\n",
       "         'HLA-C': 21,\n",
       "         'HLA-DPAB': 25,\n",
       "         'HLA-DQAB': 67,\n",
       "         'HLA-DRB1': 33,\n",
       "         'HLA-DRDQ': 5})"
      ]
     },
     "execution_count": 27,
     "metadata": {},
     "output_type": "execute_result"
    }
   ],
   "source": [
    "HLA_v2_list = list(HLA_v2_set)\n",
    "HLA_v2_list.sort()\n",
    "general_type_2 = [item.split(\"*\")[0] for item in HLA_v2_list]\n",
    "Counter(general_type_2)"
   ]
  },
  {
   "cell_type": "markdown",
   "metadata": {},
   "source": [
    "move on to check the intersection of HLA_v2 with the HLA pseudo sequence and how to deal with combined types"
   ]
  },
  {
   "cell_type": "code",
   "execution_count": 28,
   "metadata": {},
   "outputs": [
    {
     "data": {
      "text/plain": [
       "['HLA-A01:01',\n",
       " 'HLA-A02:01',\n",
       " 'HLA-A02:05',\n",
       " 'HLA-A02:06',\n",
       " 'HLA-A03:01',\n",
       " 'HLA-A03:02',\n",
       " 'HLA-A11:01',\n",
       " 'HLA-A23:01',\n",
       " 'HLA-A24:02',\n",
       " 'HLA-A24:03',\n",
       " 'HLA-A25:01',\n",
       " 'HLA-A26:01',\n",
       " 'HLA-A29:01',\n",
       " 'HLA-A29:02',\n",
       " 'HLA-A30:01',\n",
       " 'HLA-A30:02',\n",
       " 'HLA-A31:01',\n",
       " 'HLA-A32:01',\n",
       " 'HLA-A33:01',\n",
       " 'HLA-A33:03',\n",
       " 'HLA-A34:01',\n",
       " 'HLA-A66:01',\n",
       " 'HLA-A68:01',\n",
       " 'HLA-A68:02',\n",
       " 'HLA-B07:02',\n",
       " 'HLA-B07:05',\n",
       " 'HLA-B08:01',\n",
       " 'HLA-B13:02',\n",
       " 'HLA-B14:01',\n",
       " 'HLA-B14:02',\n",
       " 'HLA-B15:01',\n",
       " 'HLA-B15:03',\n",
       " 'HLA-B15:07',\n",
       " 'HLA-B15:17',\n",
       " 'HLA-B15:18',\n",
       " 'HLA-B18:01',\n",
       " 'HLA-B27:05',\n",
       " 'HLA-B35:01',\n",
       " 'HLA-B35:02',\n",
       " 'HLA-B35:03',\n",
       " 'HLA-B35:08',\n",
       " 'HLA-B37:01',\n",
       " 'HLA-B38:01',\n",
       " 'HLA-B38:02',\n",
       " 'HLA-B39:01',\n",
       " 'HLA-B39:06',\n",
       " 'HLA-B40:01',\n",
       " 'HLA-B40:02',\n",
       " 'HLA-B40:06',\n",
       " 'HLA-B41:01',\n",
       " 'HLA-B41:02',\n",
       " 'HLA-B44:02',\n",
       " 'HLA-B44:03',\n",
       " 'HLA-B45:01',\n",
       " 'HLA-B48:01',\n",
       " 'HLA-B49:01',\n",
       " 'HLA-B50:01',\n",
       " 'HLA-B51:01',\n",
       " 'HLA-B52:01',\n",
       " 'HLA-B53:01',\n",
       " 'HLA-B55:01',\n",
       " 'HLA-B56:01',\n",
       " 'HLA-B57:01',\n",
       " 'HLA-B58:01',\n",
       " 'HLA-C01:02',\n",
       " 'HLA-C02:02',\n",
       " 'HLA-C03:02',\n",
       " 'HLA-C03:03',\n",
       " 'HLA-C03:04',\n",
       " 'HLA-C04:01',\n",
       " 'HLA-C05:01',\n",
       " 'HLA-C06:02',\n",
       " 'HLA-C07:01',\n",
       " 'HLA-C07:02',\n",
       " 'HLA-C07:04',\n",
       " 'HLA-C08:01',\n",
       " 'HLA-C08:02',\n",
       " 'HLA-C08:03',\n",
       " 'HLA-C12:03',\n",
       " 'HLA-C14:02',\n",
       " 'HLA-C15:02',\n",
       " 'HLA-C15:05',\n",
       " 'HLA-C16:01',\n",
       " 'HLA-C16:02',\n",
       " 'HLA-C17:01',\n",
       " 'HLA-DPAB01:03_01:01',\n",
       " 'HLA-DPAB01:03_02:01',\n",
       " 'HLA-DPAB01:03_03:01',\n",
       " 'HLA-DPAB01:03_04:01',\n",
       " 'HLA-DPAB01:03_04:02',\n",
       " 'HLA-DPAB01:03_05:01',\n",
       " 'HLA-DPAB01:03_10:01',\n",
       " 'HLA-DPAB01:03_11:01',\n",
       " 'HLA-DPAB01:03_13:01',\n",
       " 'HLA-DPAB01:03_17:01',\n",
       " 'HLA-DPAB02:01_01:01',\n",
       " 'HLA-DPAB02:01_02:01',\n",
       " 'HLA-DPAB02:01_03:01',\n",
       " 'HLA-DPAB02:01_04:01',\n",
       " 'HLA-DPAB02:01_04:02',\n",
       " 'HLA-DPAB02:01_05:01',\n",
       " 'HLA-DPAB02:01_10:01',\n",
       " 'HLA-DPAB02:01_11:01',\n",
       " 'HLA-DPAB02:01_13:01',\n",
       " 'HLA-DPAB02:01_17:01',\n",
       " 'HLA-DPAB02:02_01:01',\n",
       " 'HLA-DPAB02:02_02:01',\n",
       " 'HLA-DPAB02:02_04:01',\n",
       " 'HLA-DPAB02:02_04:02',\n",
       " 'HLA-DPAB02:02_05:01',\n",
       " 'HLA-DQAB01:01_02:02',\n",
       " 'HLA-DQAB01:01_03:01',\n",
       " 'HLA-DQAB01:01_03:02',\n",
       " 'HLA-DQAB01:01_05:01',\n",
       " 'HLA-DQAB01:01_05:03',\n",
       " 'HLA-DQAB01:01_06:02',\n",
       " 'HLA-DQAB01:01_06:03',\n",
       " 'HLA-DQAB01:02_02:01',\n",
       " 'HLA-DQAB01:02_02:02',\n",
       " 'HLA-DQAB01:02_03:01',\n",
       " 'HLA-DQAB01:02_03:02',\n",
       " 'HLA-DQAB01:02_03:03',\n",
       " 'HLA-DQAB01:02_04:02',\n",
       " 'HLA-DQAB01:02_05:01',\n",
       " 'HLA-DQAB01:02_05:02',\n",
       " 'HLA-DQAB01:02_06:03',\n",
       " 'HLA-DQAB01:02_06:04',\n",
       " 'HLA-DQAB01:02_06:09',\n",
       " 'HLA-DQAB01:03_02:01',\n",
       " 'HLA-DQAB01:03_02:02',\n",
       " 'HLA-DQAB01:03_03:01',\n",
       " 'HLA-DQAB01:03_06:01',\n",
       " 'HLA-DQAB01:03_06:02',\n",
       " 'HLA-DQAB01:04_02:01',\n",
       " 'HLA-DQAB01:04_05:03',\n",
       " 'HLA-DQAB02:01_02:01',\n",
       " 'HLA-DQAB02:01_02:02',\n",
       " 'HLA-DQAB02:01_03:01',\n",
       " 'HLA-DQAB02:01_03:02',\n",
       " 'HLA-DQAB02:01_03:03',\n",
       " 'HLA-DQAB02:01_05:01',\n",
       " 'HLA-DQAB02:01_06:02',\n",
       " 'HLA-DQAB02:01_06:03',\n",
       " 'HLA-DQAB02:01_06:09',\n",
       " 'HLA-DQAB03:01_02:01',\n",
       " 'HLA-DQAB03:01_02:02',\n",
       " 'HLA-DQAB03:01_03:01',\n",
       " 'HLA-DQAB03:01_03:02',\n",
       " 'HLA-DQAB03:01_06:02',\n",
       " 'HLA-DQAB03:01_06:03',\n",
       " 'HLA-DQAB03:01_06:04',\n",
       " 'HLA-DQAB03:03_02:01',\n",
       " 'HLA-DQAB03:03_02:02',\n",
       " 'HLA-DQAB03:03_03:01',\n",
       " 'HLA-DQAB03:03_03:02',\n",
       " 'HLA-DQAB03:03_05:01',\n",
       " 'HLA-DQAB03:03_06:02',\n",
       " 'HLA-DQAB04:01_03:01',\n",
       " 'HLA-DQAB04:01_04:02',\n",
       " 'HLA-DQAB04:01_05:01',\n",
       " 'HLA-DQAB05:01_02:02',\n",
       " 'HLA-DQAB05:01_03:01',\n",
       " 'HLA-DQAB05:01_03:03',\n",
       " 'HLA-DQAB05:01_05:01',\n",
       " 'HLA-DQAB05:01_06:02',\n",
       " 'HLA-DQAB05:01_06:03',\n",
       " 'HLA-DQAB05:01_06:04',\n",
       " 'HLA-DQAB05:05_02:01',\n",
       " 'HLA-DQAB05:05_02:02',\n",
       " 'HLA-DQAB05:05_03:01',\n",
       " 'HLA-DQAB05:05_03:02',\n",
       " 'HLA-DQAB05:05_03:03',\n",
       " 'HLA-DQAB05:05_05:01',\n",
       " 'HLA-DQAB05:05_06:02',\n",
       " 'HLA-DQAB05:05_06:03',\n",
       " 'HLA-DQAB05:05_06:04',\n",
       " 'HLA-DQAB06:01_03:01',\n",
       " 'HLA-DRB101:01',\n",
       " 'HLA-DRB101:02',\n",
       " 'HLA-DRB101:03',\n",
       " 'HLA-DRB104:01',\n",
       " 'HLA-DRB104:02',\n",
       " 'HLA-DRB104:03',\n",
       " 'HLA-DRB104:04',\n",
       " 'HLA-DRB104:05',\n",
       " 'HLA-DRB104:07',\n",
       " 'HLA-DRB104:08',\n",
       " 'HLA-DRB107:01',\n",
       " 'HLA-DRB108:01',\n",
       " 'HLA-DRB108:02',\n",
       " 'HLA-DRB108:03',\n",
       " 'HLA-DRB108:04',\n",
       " 'HLA-DRB111:01',\n",
       " 'HLA-DRB111:02',\n",
       " 'HLA-DRB111:03',\n",
       " 'HLA-DRB111:04',\n",
       " 'HLA-DRB112:01',\n",
       " 'HLA-DRB112:02',\n",
       " 'HLA-DRB113:02',\n",
       " 'HLA-DRB113:03',\n",
       " 'HLA-DRB113:05',\n",
       " 'HLA-DRB114:01',\n",
       " 'HLA-DRB114:02',\n",
       " 'HLA-DRB114:04',\n",
       " 'HLA-DRB114:07',\n",
       " 'HLA-DRB114:54',\n",
       " 'HLA-DRB115:02',\n",
       " 'HLA-DRB115:03',\n",
       " 'HLA-DRB116:01',\n",
       " 'HLA-DRB116:02',\n",
       " 'HLA-DRDQ03:01_05:01_02:01',\n",
       " 'HLA-DRDQ09:01_03:02_03:03',\n",
       " 'HLA-DRDQ10:01_01:05_05:01',\n",
       " 'HLA-DRDQ13:01_01:03_06:03',\n",
       " 'HLA-DRDQ15:01_01:02_06:02']"
      ]
     },
     "execution_count": 28,
     "metadata": {},
     "output_type": "execute_result"
    }
   ],
   "source": [
    "HLA_rm_star_v2_list = [item.replace(\"*\", \"\") for item in HLA_v2_list]\n",
    "HLA_rm_star_v2_list"
   ]
  },
  {
   "cell_type": "code",
   "execution_count": 29,
   "metadata": {},
   "outputs": [
    {
     "data": {
      "text/plain": [
       "85"
      ]
     },
     "execution_count": 29,
     "metadata": {},
     "output_type": "execute_result"
    }
   ],
   "source": [
    "len(set(HLA_rm_star_v2_list).intersection(set(HLA_pseudo.name)))"
   ]
  },
  {
   "cell_type": "code",
   "execution_count": 30,
   "metadata": {},
   "outputs": [
    {
     "data": {
      "text/plain": [
       "{'HLA-DPAB01:03_01:01',\n",
       " 'HLA-DPAB01:03_02:01',\n",
       " 'HLA-DPAB01:03_03:01',\n",
       " 'HLA-DPAB01:03_04:01',\n",
       " 'HLA-DPAB01:03_04:02',\n",
       " 'HLA-DPAB01:03_05:01',\n",
       " 'HLA-DPAB01:03_10:01',\n",
       " 'HLA-DPAB01:03_11:01',\n",
       " 'HLA-DPAB01:03_13:01',\n",
       " 'HLA-DPAB01:03_17:01',\n",
       " 'HLA-DPAB02:01_01:01',\n",
       " 'HLA-DPAB02:01_02:01',\n",
       " 'HLA-DPAB02:01_03:01',\n",
       " 'HLA-DPAB02:01_04:01',\n",
       " 'HLA-DPAB02:01_04:02',\n",
       " 'HLA-DPAB02:01_05:01',\n",
       " 'HLA-DPAB02:01_10:01',\n",
       " 'HLA-DPAB02:01_11:01',\n",
       " 'HLA-DPAB02:01_13:01',\n",
       " 'HLA-DPAB02:01_17:01',\n",
       " 'HLA-DPAB02:02_01:01',\n",
       " 'HLA-DPAB02:02_02:01',\n",
       " 'HLA-DPAB02:02_04:01',\n",
       " 'HLA-DPAB02:02_04:02',\n",
       " 'HLA-DPAB02:02_05:01',\n",
       " 'HLA-DQAB01:01_02:02',\n",
       " 'HLA-DQAB01:01_03:01',\n",
       " 'HLA-DQAB01:01_03:02',\n",
       " 'HLA-DQAB01:01_05:01',\n",
       " 'HLA-DQAB01:01_05:03',\n",
       " 'HLA-DQAB01:01_06:02',\n",
       " 'HLA-DQAB01:01_06:03',\n",
       " 'HLA-DQAB01:02_02:01',\n",
       " 'HLA-DQAB01:02_02:02',\n",
       " 'HLA-DQAB01:02_03:01',\n",
       " 'HLA-DQAB01:02_03:02',\n",
       " 'HLA-DQAB01:02_03:03',\n",
       " 'HLA-DQAB01:02_04:02',\n",
       " 'HLA-DQAB01:02_05:01',\n",
       " 'HLA-DQAB01:02_05:02',\n",
       " 'HLA-DQAB01:02_06:03',\n",
       " 'HLA-DQAB01:02_06:04',\n",
       " 'HLA-DQAB01:02_06:09',\n",
       " 'HLA-DQAB01:03_02:01',\n",
       " 'HLA-DQAB01:03_02:02',\n",
       " 'HLA-DQAB01:03_03:01',\n",
       " 'HLA-DQAB01:03_06:01',\n",
       " 'HLA-DQAB01:03_06:02',\n",
       " 'HLA-DQAB01:04_02:01',\n",
       " 'HLA-DQAB01:04_05:03',\n",
       " 'HLA-DQAB02:01_02:01',\n",
       " 'HLA-DQAB02:01_02:02',\n",
       " 'HLA-DQAB02:01_03:01',\n",
       " 'HLA-DQAB02:01_03:02',\n",
       " 'HLA-DQAB02:01_03:03',\n",
       " 'HLA-DQAB02:01_05:01',\n",
       " 'HLA-DQAB02:01_06:02',\n",
       " 'HLA-DQAB02:01_06:03',\n",
       " 'HLA-DQAB02:01_06:09',\n",
       " 'HLA-DQAB03:01_02:01',\n",
       " 'HLA-DQAB03:01_02:02',\n",
       " 'HLA-DQAB03:01_03:01',\n",
       " 'HLA-DQAB03:01_03:02',\n",
       " 'HLA-DQAB03:01_06:02',\n",
       " 'HLA-DQAB03:01_06:03',\n",
       " 'HLA-DQAB03:01_06:04',\n",
       " 'HLA-DQAB03:03_02:01',\n",
       " 'HLA-DQAB03:03_02:02',\n",
       " 'HLA-DQAB03:03_03:01',\n",
       " 'HLA-DQAB03:03_03:02',\n",
       " 'HLA-DQAB03:03_05:01',\n",
       " 'HLA-DQAB03:03_06:02',\n",
       " 'HLA-DQAB04:01_03:01',\n",
       " 'HLA-DQAB04:01_04:02',\n",
       " 'HLA-DQAB04:01_05:01',\n",
       " 'HLA-DQAB05:01_02:02',\n",
       " 'HLA-DQAB05:01_03:01',\n",
       " 'HLA-DQAB05:01_03:03',\n",
       " 'HLA-DQAB05:01_05:01',\n",
       " 'HLA-DQAB05:01_06:02',\n",
       " 'HLA-DQAB05:01_06:03',\n",
       " 'HLA-DQAB05:01_06:04',\n",
       " 'HLA-DQAB05:05_02:01',\n",
       " 'HLA-DQAB05:05_02:02',\n",
       " 'HLA-DQAB05:05_03:01',\n",
       " 'HLA-DQAB05:05_03:02',\n",
       " 'HLA-DQAB05:05_03:03',\n",
       " 'HLA-DQAB05:05_05:01',\n",
       " 'HLA-DQAB05:05_06:02',\n",
       " 'HLA-DQAB05:05_06:03',\n",
       " 'HLA-DQAB05:05_06:04',\n",
       " 'HLA-DQAB06:01_03:01',\n",
       " 'HLA-DRB101:01',\n",
       " 'HLA-DRB101:02',\n",
       " 'HLA-DRB101:03',\n",
       " 'HLA-DRB104:01',\n",
       " 'HLA-DRB104:02',\n",
       " 'HLA-DRB104:03',\n",
       " 'HLA-DRB104:04',\n",
       " 'HLA-DRB104:05',\n",
       " 'HLA-DRB104:07',\n",
       " 'HLA-DRB104:08',\n",
       " 'HLA-DRB107:01',\n",
       " 'HLA-DRB108:01',\n",
       " 'HLA-DRB108:02',\n",
       " 'HLA-DRB108:03',\n",
       " 'HLA-DRB108:04',\n",
       " 'HLA-DRB111:01',\n",
       " 'HLA-DRB111:02',\n",
       " 'HLA-DRB111:03',\n",
       " 'HLA-DRB111:04',\n",
       " 'HLA-DRB112:01',\n",
       " 'HLA-DRB112:02',\n",
       " 'HLA-DRB113:02',\n",
       " 'HLA-DRB113:03',\n",
       " 'HLA-DRB113:05',\n",
       " 'HLA-DRB114:01',\n",
       " 'HLA-DRB114:02',\n",
       " 'HLA-DRB114:04',\n",
       " 'HLA-DRB114:07',\n",
       " 'HLA-DRB114:54',\n",
       " 'HLA-DRB115:02',\n",
       " 'HLA-DRB115:03',\n",
       " 'HLA-DRB116:01',\n",
       " 'HLA-DRB116:02',\n",
       " 'HLA-DRDQ03:01_05:01_02:01',\n",
       " 'HLA-DRDQ09:01_03:02_03:03',\n",
       " 'HLA-DRDQ10:01_01:05_05:01',\n",
       " 'HLA-DRDQ13:01_01:03_06:03',\n",
       " 'HLA-DRDQ15:01_01:02_06:02'}"
      ]
     },
     "execution_count": 30,
     "metadata": {},
     "output_type": "execute_result"
    }
   ],
   "source": [
    "set(HLA_rm_star_v2_list) - set(HLA_pseudo.name)"
   ]
  },
  {
   "cell_type": "markdown",
   "metadata": {},
   "source": [
    "### constrained to HLA-I pseudo sequence for now"
   ]
  },
  {
   "cell_type": "code",
   "execution_count": null,
   "metadata": {},
   "outputs": [],
   "source": [
    "# double check whether HLA_pseudo only contains Allele-I"
   ]
  },
  {
   "cell_type": "code",
   "execution_count": 31,
   "metadata": {},
   "outputs": [
    {
     "data": {
      "text/plain": [
       "4396"
      ]
     },
     "execution_count": 31,
     "metadata": {},
     "output_type": "execute_result"
    }
   ],
   "source": [
    "HLA_pseudo_list = HLA_pseudo.name.tolist()\n",
    "HLA_pseudo_list_rm_colon = [item.replace(\":\", \"\") for item in HLA_pseudo_list]\n",
    "\n",
    "HLA_pseudo_general_type = [''.join([i for i in item if not i.isdigit()]) \n",
    "                           for item in HLA_pseudo_list_rm_colon]\n",
    "\n",
    "len(HLA_pseudo_general_type)"
   ]
  },
  {
   "cell_type": "code",
   "execution_count": 32,
   "metadata": {},
   "outputs": [
    {
     "data": {
      "text/plain": [
       "Counter({'HLA-A': 1364, 'HLA-B': 2204, 'HLA-C': 808, 'HLA-E': 4, 'HLA-G': 16})"
      ]
     },
     "execution_count": 32,
     "metadata": {},
     "output_type": "execute_result"
    }
   ],
   "source": [
    "Counter(HLA_pseudo_general_type)"
   ]
  },
  {
   "cell_type": "code",
   "execution_count": 237,
   "metadata": {},
   "outputs": [],
   "source": [
    "# we have verified that HLA_pseudo only contains HLA-I alleles"
   ]
  },
  {
   "cell_type": "markdown",
   "metadata": {},
   "source": [
    "subset from HLA_v2 that only cover HLA-I alleles"
   ]
  },
  {
   "cell_type": "code",
   "execution_count": 35,
   "metadata": {},
   "outputs": [],
   "source": [
    "HLA_v2_name_general_type = [item.split(\"*\")[0] for item in HLA_v2_rname.name.tolist()]\n",
    "\n",
    "HLA_v2_r2kp = [item in [\"HLA-A\", \"HLA-B\", \"HLA-C\"] for item in HLA_v2_name_general_type]"
   ]
  },
  {
   "cell_type": "code",
   "execution_count": 36,
   "metadata": {},
   "outputs": [
    {
     "data": {
      "text/plain": [
       "(85, 2)"
      ]
     },
     "execution_count": 36,
     "metadata": {},
     "output_type": "execute_result"
    }
   ],
   "source": [
    "HLA_I_v2 = HLA_v2_rname[HLA_v2_r2kp]\n",
    "\n",
    "HLA_I_v2.shape"
   ]
  },
  {
   "cell_type": "code",
   "execution_count": 37,
   "metadata": {},
   "outputs": [
    {
     "data": {
      "text/plain": [
       "Counter({'HLA-B': 40, 'HLA-A': 24, 'HLA-C': 21})"
      ]
     },
     "execution_count": 37,
     "metadata": {},
     "output_type": "execute_result"
    }
   ],
   "source": [
    "Counter([item.split(\"*\")[0] for item in HLA_I_v2.name.tolist()])"
   ]
  },
  {
   "cell_type": "code",
   "execution_count": 39,
   "metadata": {},
   "outputs": [
    {
     "data": {
      "text/plain": [
       "(4396, 3)"
      ]
     },
     "execution_count": 39,
     "metadata": {},
     "output_type": "execute_result"
    }
   ],
   "source": [
    "# find the corresponding pseudo sequences\n",
    "HLA_pseudo.shape"
   ]
  },
  {
   "cell_type": "code",
   "execution_count": 40,
   "metadata": {},
   "outputs": [
    {
     "data": {
      "text/plain": [
       "name           4396\n",
       "seq            1577\n",
       "first_three       1\n",
       "dtype: int64"
      ]
     },
     "execution_count": 40,
     "metadata": {},
     "output_type": "execute_result"
    }
   ],
   "source": [
    "HLA_pseudo.nunique()"
   ]
  },
  {
   "cell_type": "code",
   "execution_count": 41,
   "metadata": {},
   "outputs": [],
   "source": [
    "HLA_I_v2_name_rm_star = [item.replace(\"*\", \"\") for item in HLA_I_v2.name]"
   ]
  },
  {
   "cell_type": "code",
   "execution_count": 42,
   "metadata": {},
   "outputs": [
    {
     "data": {
      "text/plain": [
       "0"
      ]
     },
     "execution_count": 42,
     "metadata": {},
     "output_type": "execute_result"
    }
   ],
   "source": [
    "# here we verify that all the HLA_I alleles in v2 are contained in HLA_pseudo\n",
    "len(set(HLA_I_v2_name_rm_star) - set(HLA_pseudo.name))"
   ]
  },
  {
   "cell_type": "code",
   "execution_count": 43,
   "metadata": {},
   "outputs": [],
   "source": [
    "name_sort = [s for s in HLA_I_v2_name_rm_star if s in HLA_pseudo.name.tolist()]"
   ]
  },
  {
   "cell_type": "code",
   "execution_count": 44,
   "metadata": {},
   "outputs": [],
   "source": [
    "HLA_pseudo_sub = HLA_pseudo.set_index('name').loc[name_sort].reset_index()"
   ]
  },
  {
   "cell_type": "code",
   "execution_count": 45,
   "metadata": {},
   "outputs": [
    {
     "data": {
      "text/plain": [
       "(85, 3)"
      ]
     },
     "execution_count": 45,
     "metadata": {},
     "output_type": "execute_result"
    }
   ],
   "source": [
    "HLA_pseudo_sub.shape"
   ]
  },
  {
   "cell_type": "code",
   "execution_count": 46,
   "metadata": {},
   "outputs": [
    {
     "data": {
      "text/html": [
       "<div>\n",
       "<style scoped>\n",
       "    .dataframe tbody tr th:only-of-type {\n",
       "        vertical-align: middle;\n",
       "    }\n",
       "\n",
       "    .dataframe tbody tr th {\n",
       "        vertical-align: top;\n",
       "    }\n",
       "\n",
       "    .dataframe thead th {\n",
       "        text-align: right;\n",
       "    }\n",
       "</style>\n",
       "<table border=\"1\" class=\"dataframe\">\n",
       "  <thead>\n",
       "    <tr style=\"text-align: right;\">\n",
       "      <th></th>\n",
       "      <th>name</th>\n",
       "      <th>seq</th>\n",
       "      <th>first_three</th>\n",
       "    </tr>\n",
       "  </thead>\n",
       "  <tbody>\n",
       "    <tr>\n",
       "      <th>0</th>\n",
       "      <td>HLA-B08:01</td>\n",
       "      <td>YDSEYRNIFTNTDESNLYLSYNYYTWAVDAYTWY</td>\n",
       "      <td>HLA</td>\n",
       "    </tr>\n",
       "    <tr>\n",
       "      <th>1</th>\n",
       "      <td>HLA-A24:02</td>\n",
       "      <td>YSAMYEEKVAHTDENIAYLMFHYYTWAVQAYTGY</td>\n",
       "      <td>HLA</td>\n",
       "    </tr>\n",
       "    <tr>\n",
       "      <th>2</th>\n",
       "      <td>HLA-A24:03</td>\n",
       "      <td>YSAMYEEKVAHTDENIAYLMFHYYTWAVQAYTWY</td>\n",
       "      <td>HLA</td>\n",
       "    </tr>\n",
       "    <tr>\n",
       "      <th>3</th>\n",
       "      <td>HLA-B38:02</td>\n",
       "      <td>YYSEYRNICTNTYENTAYLRYNFYTWAVLTYTWY</td>\n",
       "      <td>HLA</td>\n",
       "    </tr>\n",
       "    <tr>\n",
       "      <th>4</th>\n",
       "      <td>HLA-B51:01</td>\n",
       "      <td>YYATYRNIFTNTYENIAYWTYNYYTWAELAYLWH</td>\n",
       "      <td>HLA</td>\n",
       "    </tr>\n",
       "    <tr>\n",
       "      <th>5</th>\n",
       "      <td>HLA-B57:01</td>\n",
       "      <td>YYAMYGENMASTYENIAYIVYDSYTWAVLAYLWY</td>\n",
       "      <td>HLA</td>\n",
       "    </tr>\n",
       "    <tr>\n",
       "      <th>6</th>\n",
       "      <td>HLA-A23:01</td>\n",
       "      <td>YSAMYEEKVAHTDENIAYLMFHYYTWAVLAYTGY</td>\n",
       "      <td>HLA</td>\n",
       "    </tr>\n",
       "    <tr>\n",
       "      <th>7</th>\n",
       "      <td>HLA-B15:17</td>\n",
       "      <td>YYAMYRENMASTYENIAYLRYHDYTWAELAYLWY</td>\n",
       "      <td>HLA</td>\n",
       "    </tr>\n",
       "    <tr>\n",
       "      <th>8</th>\n",
       "      <td>HLA-B50:01</td>\n",
       "      <td>YHTKYREISTNTYESNLYWRYNLYTWAELAYLWY</td>\n",
       "      <td>HLA</td>\n",
       "    </tr>\n",
       "    <tr>\n",
       "      <th>9</th>\n",
       "      <td>HLA-B07:05</td>\n",
       "      <td>YYSEYRNIYAQTDESNLYLSYNYYTWAERAYEWY</td>\n",
       "      <td>HLA</td>\n",
       "    </tr>\n",
       "  </tbody>\n",
       "</table>\n",
       "</div>"
      ],
      "text/plain": [
       "         name                                 seq first_three\n",
       "0  HLA-B08:01  YDSEYRNIFTNTDESNLYLSYNYYTWAVDAYTWY         HLA\n",
       "1  HLA-A24:02  YSAMYEEKVAHTDENIAYLMFHYYTWAVQAYTGY         HLA\n",
       "2  HLA-A24:03  YSAMYEEKVAHTDENIAYLMFHYYTWAVQAYTWY         HLA\n",
       "3  HLA-B38:02  YYSEYRNICTNTYENTAYLRYNFYTWAVLTYTWY         HLA\n",
       "4  HLA-B51:01  YYATYRNIFTNTYENIAYWTYNYYTWAELAYLWH         HLA\n",
       "5  HLA-B57:01  YYAMYGENMASTYENIAYIVYDSYTWAVLAYLWY         HLA\n",
       "6  HLA-A23:01  YSAMYEEKVAHTDENIAYLMFHYYTWAVLAYTGY         HLA\n",
       "7  HLA-B15:17  YYAMYRENMASTYENIAYLRYHDYTWAELAYLWY         HLA\n",
       "8  HLA-B50:01  YHTKYREISTNTYESNLYWRYNLYTWAELAYLWY         HLA\n",
       "9  HLA-B07:05  YYSEYRNIYAQTDESNLYLSYNYYTWAERAYEWY         HLA"
      ]
     },
     "execution_count": 46,
     "metadata": {},
     "output_type": "execute_result"
    }
   ],
   "source": [
    "HLA_pseudo_sub[:10]"
   ]
  },
  {
   "cell_type": "code",
   "execution_count": 47,
   "metadata": {},
   "outputs": [
    {
     "data": {
      "text/plain": [
       "Counter({True: 85})"
      ]
     },
     "execution_count": 47,
     "metadata": {},
     "output_type": "execute_result"
    }
   ],
   "source": [
    "Counter(HLA_I_v2_name_rm_star == HLA_pseudo_sub.name)"
   ]
  },
  {
   "cell_type": "code",
   "execution_count": 48,
   "metadata": {},
   "outputs": [],
   "source": [
    "# write out the pseudo sequence for the second\n",
    "HLA_pseudo_sub.drop(columns=['first_three']).to_csv(\"../../data/intermediate_data/HLA_I_v2_pseudo_sub.csv\", index=False)"
   ]
  },
  {
   "cell_type": "code",
   "execution_count": 49,
   "metadata": {},
   "outputs": [
    {
     "data": {
      "text/plain": [
       "Counter({True: 85})"
      ]
     },
     "execution_count": 49,
     "metadata": {},
     "output_type": "execute_result"
    }
   ],
   "source": [
    "# check whether rows with names suspected to be the same will have the same seq content\n",
    "\n",
    "HLA_pseudo_name_set = set(HLA_pseudo.name)\n",
    "\n",
    "flag_list = []\n",
    "for item in HLA_pseudo_sub.name:\n",
    "    var_item = item.replace(\":\", \"\")\n",
    "    if var_item in HLA_pseudo_name_set:\n",
    "        seq1 = HLA_pseudo_sub.loc[HLA_pseudo_sub['name'] == item].seq.values[0]\n",
    "        seq2 = HLA_pseudo.loc[HLA_pseudo['name'] == var_item].seq.values[0]\n",
    "        flag = (seq1 == seq2)\n",
    "        flag_list.append(flag)\n",
    "\n",
    "Counter(flag_list)"
   ]
  },
  {
   "cell_type": "code",
   "execution_count": null,
   "metadata": {},
   "outputs": [],
   "source": [
    "# the result above shows that the HLA_pseudo has duplicates with two formats for name\n",
    "# and the same content in seq"
   ]
  }
 ],
 "metadata": {
  "kernelspec": {
   "display_name": "Python 3 (ipykernel)",
   "language": "python",
   "name": "python3"
  },
  "language_info": {
   "codemirror_mode": {
    "name": "ipython",
    "version": 3
   },
   "file_extension": ".py",
   "mimetype": "text/x-python",
   "name": "python",
   "nbconvert_exporter": "python",
   "pygments_lexer": "ipython3",
   "version": "3.9.10"
  }
 },
 "nbformat": 4,
 "nbformat_minor": 2
}
