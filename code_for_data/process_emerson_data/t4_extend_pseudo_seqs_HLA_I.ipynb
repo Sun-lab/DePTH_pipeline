{
 "cells": [
  {
   "cell_type": "markdown",
   "metadata": {},
   "source": [
    "### This file extends the pseudo sequences for HLA I alleles\n",
    "\n",
    "A summary is put in file \n",
    "\n",
    "    t4_summary.md\n",
    "\n",
    "We have pseudo sequences for HLA alleles on 34 positions for 85 HLA-I alleles \n",
    "\n",
    "    ../../data/intermediate_data/HLA_I_v2_pseudo_sub.csv \n",
    "\n",
    "We want to extend the positions to also cover those additional positions got from \n",
    "\n",
    "    t2_check_additional_pos_contacts.log.ipynb. \n",
    "\n",
    "First, we need to check whether we can get an unique pseudo sequence for each HLA on the additional positions. \n",
    "\n",
    "If that is true, secondly, we will keep those positions with diversity in amino acids. "
   ]
  },
  {
   "cell_type": "code",
   "execution_count": 1,
   "metadata": {},
   "outputs": [],
   "source": [
    "import numpy as np\n",
    "import pandas as pd\n",
    "\n",
    "from collections import Counter\n",
    "from collections import defaultdict"
   ]
  },
  {
   "cell_type": "markdown",
   "metadata": {},
   "source": [
    "\n",
    " Materials:\n",
    " \n",
    " Full sequence file: \n",
    " \n",
    "     ../../data/intermediate_data/HLA_TCR_contact/ClassI_prot.alfas\n",
    " \n",
    " 34 contact positions (1-indexed) from NetMHCPan:\n",
    " \n",
    " 7, 9, 24, 45, 59, 62, 63, 66, 67, 69, 70, 73, 74, 76, 77, 80, 81, 84, 95, 97, 99, 114, 116, 118, 143, 147, 150, 152, 156, 158, 159, 163, 167, 171\n",
    " \n",
    " 17 additional positions (0-indexed) from t2_check_additional_pos_contacts.log.ipynb:\n",
    " \n",
    " 4, 57, 64, 67, 71, 74, 122, 145, 148, 150, 153, 154, 156, 160, 161, 165, 169\n",
    " \n",
    " pseudo sequences for the 34 positions: \n",
    " \n",
    "    ../../data/intermediate_data/HLA_I_v2_pseudo_sub.csv\n",
    "    \n",
    " Output file:\n",
    "\n",
    "A csv file storing the combined extended pseudo sequences for 135 HLA-II pairs: \n",
    "\n",
    "    ../../data/for_encoders/HLA_I_v2_pseudo_40.csv"
   ]
  },
  {
   "cell_type": "code",
   "execution_count": 2,
   "metadata": {},
   "outputs": [],
   "source": [
    "thirty_four = [7, 9, 24, 45, 59, 62, 63, 66, 67, 69, 70, 73, 74, 76, 77, 80, 81, 84, 95, 97, 99, 114, 116, 118, 143, 147, 150, 152, 156, 158, 159, 163, 167, 171]\n",
    "HLA_I_34 = [ind-1 for ind in thirty_four]"
   ]
  },
  {
   "cell_type": "code",
   "execution_count": 3,
   "metadata": {},
   "outputs": [
    {
     "data": {
      "text/plain": [
       "8671"
      ]
     },
     "execution_count": 3,
     "metadata": {},
     "output_type": "execute_result"
    }
   ],
   "source": [
    "# convert the info in \"../../data/intermediate_data/HLA_TCR_contact/ClassI_prot.alfas\" into a dictionary \n",
    "ClassI_prot = pd.read_csv(\"../../data/intermediate_data/HLA_TCR_contact/ClassI_prot.alfas\", \n",
    "                          sep=' ', header= None)\n",
    "name_ind = list(range(11761))\n",
    "names = ClassI_prot.loc[[2 * ind for ind in name_ind]]\n",
    "names = names.iloc[:, 0].tolist()\n",
    "names = [name.replace(\">\", \"\") for name in names]\n",
    "seqs = ClassI_prot.loc[[2 * ind + 1 for ind in name_ind]]\n",
    "seqs = seqs.iloc[:, 0].tolist()\n",
    "class_I_seqs = pd.DataFrame(list(zip(names, seqs)), \n",
    "                            columns =['name', 'seq']) \n",
    "class_I_seqs.shape\n",
    "# (11761, 2)\n",
    "class_I_seqs.nunique()\n",
    "# name    11761\n",
    "# seq      8201\n",
    "# dtype: int64\n",
    "class_I_seqs[:6]\n",
    "\n",
    "short_name = [ \":\".join(name.split(\":\")[:2]) for name in names]\n",
    "class_I_seqs[\"short_name\"] = short_name\n",
    "class_I_seqs.nunique()\n",
    "\n",
    "seq_dict_I = defaultdict(set)\n",
    "\n",
    "for short_name, seq in zip(class_I_seqs.short_name, class_I_seqs.seq):\n",
    "    seq_dict_I[short_name].add(seq)\n",
    "len(seq_dict_I)"
   ]
  },
  {
   "cell_type": "markdown",
   "metadata": {},
   "source": [
    "For each HLA-I allele (\"short_name\", up to specific HLA protein level, cutoff after the second colon) in v2: \n",
    "\n",
    "first, check whether the corresponding pseudo sequences consisting of amino acids on the 34 positions are all the same, and if the same, whether it matches the pseudo sequence in file \n",
    "\n",
    "    ../../data/intermediate_data/HLA_I_v2_pseudo_sub.csv\n",
    "\n",
    "second, check whether the corresponding pseudo sequences consisting of amino acids on the additional 17 positions are all the same. If so, how many of these 17 positions have diversity among the 85 HLA-I alleles;\n",
    "\n",
    "Lastly, pick out those with diversity, combine them with the original 34 positions and construct a pseudo sequence on these positions. "
   ]
  },
  {
   "cell_type": "code",
   "execution_count": 4,
   "metadata": {},
   "outputs": [],
   "source": [
    "# load HLA_I_v2_pseudo_sub.csv to get the 34 positions\n",
    "HLA_I_pseudo_34 = pd.read_csv(\"../../data/intermediate_data/HLA_I_v2_pseudo_sub.csv\", sep=',', header= 0)\n",
    "HLA_I_pseudo_34_dict = defaultdict(str)\n",
    "for name, seq in zip(HLA_I_pseudo_34.name.tolist(), HLA_I_pseudo_34.seq.tolist()):\n",
    "    name = name[4:]\n",
    "    HLA_I_pseudo_34_dict[name] = seq"
   ]
  },
  {
   "cell_type": "code",
   "execution_count": 5,
   "metadata": {},
   "outputs": [],
   "source": [
    "# let's start from verifying whether for each of the 85 HLA-I alleles, the pseudo sequences\n",
    "# on the original 34 positions are the same\n",
    "\n",
    "pseudo_seqs_ori_HLA_I_dict = defaultdict(str)\n",
    "\n",
    "for name in HLA_I_pseudo_34_dict:\n",
    "    star_name = name[0] + \"*\" + name[1:]\n",
    "    list_seq = list(seq_dict_I[star_name])\n",
    "    if len(list_seq) == 1:\n",
    "        seq = list_seq[0]\n",
    "        pseudo_seqs_ori_HLA_I_dict[name] = \\\n",
    "                    ''.join([seq[i] for i in HLA_I_34])\n",
    "    else:\n",
    "        set_pseudo = set()\n",
    "        for seq in list_seq:\n",
    "            cur_pseudo = ''.join([seq[i] for i in HLA_I_34])\n",
    "            set_pseudo.add(cur_pseudo)\n",
    "        if len(set_pseudo) == 1:\n",
    "            pseudo_seqs_ori_HLA_I_dict[name] = \\\n",
    "                    ''.join([seq[i] for i in HLA_I_34])\n",
    "        else:\n",
    "            print(\"pseudo seqs don't match\")\n",
    "            print(name)\n",
    "            break"
   ]
  },
  {
   "cell_type": "code",
   "execution_count": 6,
   "metadata": {},
   "outputs": [
    {
     "data": {
      "text/plain": [
       "85"
      ]
     },
     "execution_count": 6,
     "metadata": {},
     "output_type": "execute_result"
    }
   ],
   "source": [
    "len(pseudo_seqs_ori_HLA_I_dict)"
   ]
  },
  {
   "cell_type": "code",
   "execution_count": 7,
   "metadata": {},
   "outputs": [
    {
     "data": {
      "text/plain": [
       "True"
      ]
     },
     "execution_count": 7,
     "metadata": {},
     "output_type": "execute_result"
    }
   ],
   "source": [
    "# now check whether these pseudo sequences match those from \n",
    "# \"../../data/intermediate_data/HLA_I_v2_pseudo_sub.csv\"\n",
    "# they do match\n",
    "HLA_I_pseudo_34_dict == pseudo_seqs_ori_HLA_I_dict"
   ]
  },
  {
   "cell_type": "code",
   "execution_count": 8,
   "metadata": {},
   "outputs": [],
   "source": [
    "add_HLA_I = [4, 57, 64, 67, 71, 74, 122, 145, 148, 150, 153, 154, 156, 160, 161, 165, 169]"
   ]
  },
  {
   "cell_type": "code",
   "execution_count": 10,
   "metadata": {},
   "outputs": [],
   "source": [
    "# this cell verifies that for each of the 85 HLA-I alleles, the pseudo sequences\n",
    "# on these additional 17 positions are the same\n",
    "nunique_seqs = []\n",
    "pseudo_seqs_add_HLA_I_dict = defaultdict(str)\n",
    "\n",
    "for name in HLA_I_pseudo_34_dict:\n",
    "    star_name = name[0] + \"*\" + name[1:]\n",
    "    list_seq = list(seq_dict_I[star_name])\n",
    "    nunique_seqs += [len(list_seq)]\n",
    "    if len(list_seq) == 1:\n",
    "        seq = list_seq[0]\n",
    "        pseudo_seqs_add_HLA_I_dict[name] = \\\n",
    "                    ''.join([seq[i] for i in add_HLA_I])\n",
    "    else:\n",
    "        set_pseudo = set()\n",
    "        for seq in list_seq:\n",
    "            cur_pseudo = ''.join([seq[i] for i in add_HLA_I])\n",
    "            set_pseudo.add(cur_pseudo)\n",
    "        if len(set_pseudo) == 1:\n",
    "            pseudo_seqs_add_HLA_I_dict[name] = \\\n",
    "                    ''.join([seq[i] for i in add_HLA_I])\n",
    "        else:\n",
    "            print(\"pseudo seqs don't match\")\n",
    "            print(name)\n",
    "            break"
   ]
  },
  {
   "cell_type": "code",
   "execution_count": 11,
   "metadata": {},
   "outputs": [],
   "source": [
    "# this cell counts how many unique amino acids each of the 17 positions has among the 85 alleles\n",
    "nunique_17 = []\n",
    "\n",
    "pseudo_seqs_add_HLA_I_values = list(pseudo_seqs_add_HLA_I_dict.values())\n",
    "for i in range(17):\n",
    "    aa_list = []\n",
    "    for value in pseudo_seqs_add_HLA_I_values:\n",
    "        aa_list += [value[i]]\n",
    "    nunique_17 += [len(set(aa_list))]"
   ]
  },
  {
   "cell_type": "code",
   "execution_count": 12,
   "metadata": {},
   "outputs": [
    {
     "data": {
      "text/plain": [
       "[64, 148, 150, 160, 165, 169]"
      ]
     },
     "execution_count": 12,
     "metadata": {},
     "output_type": "execute_result"
    }
   ],
   "source": [
    "# pick out those with number of unique amino acids greater than 1\n",
    "diverse_add_HLA_I = [add_HLA_I[i] for i in range(17) if nunique_17[i] > 1]\n",
    "diverse_add_HLA_I"
   ]
  },
  {
   "cell_type": "code",
   "execution_count": 14,
   "metadata": {},
   "outputs": [],
   "source": [
    "# now we have the 40 positions together for HLA-I alleles\n",
    "extended_HLA_I_40 = HLA_I_34 + diverse_add_HLA_I\n",
    "extended_HLA_I_40.sort()\n",
    "#extended_HLA_I_40"
   ]
  },
  {
   "cell_type": "code",
   "execution_count": 15,
   "metadata": {},
   "outputs": [],
   "source": [
    "# move on to get the pseudo sequence of amino acids on these 40 positions out\n",
    "\n",
    "HLA_I_name_85 = HLA_I_pseudo_34.name.tolist()\n",
    "\n",
    "pseudo_seqs_HLA_I_40_dict = defaultdict(str)\n",
    "\n",
    "\n",
    "for name in HLA_I_name_85:\n",
    "    star_name = name[4] + \"*\" + name[5:]\n",
    "    if star_name not in seq_dict_I:\n",
    "        print(False)\n",
    "        print(star_name)\n",
    "        break\n",
    "    list_seq = list(seq_dict_I[star_name])\n",
    "    if len(list_seq) == 1:\n",
    "        seq = list_seq[0]\n",
    "        pseudo_seqs_HLA_I_40_dict[name] = \\\n",
    "            ''.join([seq[i] for i in extended_HLA_I_40])\n",
    "    else:\n",
    "        set_pseudo = set()\n",
    "        for seq in list_seq:\n",
    "            cur_pseudo = ''.join([seq[i] for i in extended_HLA_I_40])\n",
    "            set_pseudo.add(cur_pseudo)\n",
    "        if len(set_pseudo) == 1:\n",
    "            pseudo_seqs_HLA_I_40_dict[name] = ''.join([seq[i] for i in extended_HLA_I_40])\n",
    "        else:\n",
    "            print(\"pseudo seqs based on 40 positions don't match\")\n",
    "            print(name)\n",
    "            break"
   ]
  },
  {
   "cell_type": "code",
   "execution_count": 94,
   "metadata": {},
   "outputs": [],
   "source": [
    "#pseudo_seqs_HLA_I_40_dict"
   ]
  },
  {
   "cell_type": "code",
   "execution_count": 16,
   "metadata": {},
   "outputs": [],
   "source": [
    "pseudo_seqs_HLA_I_40_value = [pseudo_seqs_HLA_I_40_dict[key] for key in HLA_I_name_85]"
   ]
  },
  {
   "cell_type": "code",
   "execution_count": 27,
   "metadata": {},
   "outputs": [],
   "source": [
    "HLA_I_name_85_star = [name[:5]+\"*\"+name[5:] for name in HLA_I_name_85]\n",
    "\n",
    "HLA_I_v2_pseudo_sub_40 = \\\n",
    "     pd.DataFrame(list(zip(HLA_I_name_85_star, pseudo_seqs_HLA_I_40_value)), \\\n",
    "                  columns = ['hla', \"seq\"])\n",
    "\n",
    "HLA_I_v2_pseudo_sub_40.to_csv(\"../../data/for_encoders/HLA_I_pseudo_40.csv\", index = False)"
   ]
  },
  {
   "cell_type": "code",
   "execution_count": 30,
   "metadata": {},
   "outputs": [
    {
     "data": {
      "text/html": [
       "<div>\n",
       "<style scoped>\n",
       "    .dataframe tbody tr th:only-of-type {\n",
       "        vertical-align: middle;\n",
       "    }\n",
       "\n",
       "    .dataframe tbody tr th {\n",
       "        vertical-align: top;\n",
       "    }\n",
       "\n",
       "    .dataframe thead th {\n",
       "        text-align: right;\n",
       "    }\n",
       "</style>\n",
       "<table border=\"1\" class=\"dataframe\">\n",
       "  <thead>\n",
       "    <tr style=\"text-align: right;\">\n",
       "      <th></th>\n",
       "      <th>hla</th>\n",
       "      <th>seq</th>\n",
       "    </tr>\n",
       "  </thead>\n",
       "  <tbody>\n",
       "    <tr>\n",
       "      <th>0</th>\n",
       "      <td>HLA-B*08:01</td>\n",
       "      <td>YDSEYRNQIFTNTDESNLYLSYNYYTWAARVDAYETEWRY</td>\n",
       "    </tr>\n",
       "    <tr>\n",
       "      <th>1</th>\n",
       "      <td>HLA-A*24:02</td>\n",
       "      <td>YSAMYEEGKVAHTDENIAYLMFHYYTWAAHVQAYETDGRY</td>\n",
       "    </tr>\n",
       "    <tr>\n",
       "      <th>2</th>\n",
       "      <td>HLA-A*24:03</td>\n",
       "      <td>YSAMYEEGKVAHTDENIAYLMFHYYTWAAHVQAYETEWRY</td>\n",
       "    </tr>\n",
       "    <tr>\n",
       "      <th>3</th>\n",
       "      <td>HLA-B*38:02</td>\n",
       "      <td>YYSEYRNQICTNTYENTAYLRYNFYTWAARVLTYETEWRY</td>\n",
       "    </tr>\n",
       "    <tr>\n",
       "      <th>4</th>\n",
       "      <td>HLA-B*51:01</td>\n",
       "      <td>YYATYRNQIFTNTYENIAYWTYNYYTWAARELAYELEWRH</td>\n",
       "    </tr>\n",
       "    <tr>\n",
       "      <th>5</th>\n",
       "      <td>HLA-B*57:01</td>\n",
       "      <td>YYAMYGERNMASTYENIAYIVYDSYTWAARVLAYELEWRY</td>\n",
       "    </tr>\n",
       "  </tbody>\n",
       "</table>\n",
       "</div>"
      ],
      "text/plain": [
       "           hla                                       seq\n",
       "0  HLA-B*08:01  YDSEYRNQIFTNTDESNLYLSYNYYTWAARVDAYETEWRY\n",
       "1  HLA-A*24:02  YSAMYEEGKVAHTDENIAYLMFHYYTWAAHVQAYETDGRY\n",
       "2  HLA-A*24:03  YSAMYEEGKVAHTDENIAYLMFHYYTWAAHVQAYETEWRY\n",
       "3  HLA-B*38:02  YYSEYRNQICTNTYENTAYLRYNFYTWAARVLTYETEWRY\n",
       "4  HLA-B*51:01  YYATYRNQIFTNTYENIAYWTYNYYTWAARELAYELEWRH\n",
       "5  HLA-B*57:01  YYAMYGERNMASTYENIAYIVYDSYTWAARVLAYELEWRY"
      ]
     },
     "execution_count": 30,
     "metadata": {},
     "output_type": "execute_result"
    }
   ],
   "source": [
    "HLA_I_v2_pseudo_sub_40[:6]"
   ]
  },
  {
   "cell_type": "code",
   "execution_count": 20,
   "metadata": {},
   "outputs": [
    {
     "data": {
      "text/plain": [
       "19"
      ]
     },
     "execution_count": 20,
     "metadata": {},
     "output_type": "execute_result"
    }
   ],
   "source": [
    "all_aa = \"\"\n",
    "for seq in HLA_I_v2_pseudo_sub_40.seq.tolist():\n",
    "    all_aa += seq\n",
    "\n",
    "len(Counter(all_aa))"
   ]
  }
 ],
 "metadata": {
  "kernelspec": {
   "display_name": "Python 3 (ipykernel)",
   "language": "python",
   "name": "python3"
  },
  "language_info": {
   "codemirror_mode": {
    "name": "ipython",
    "version": 3
   },
   "file_extension": ".py",
   "mimetype": "text/x-python",
   "name": "python",
   "nbconvert_exporter": "python",
   "pygments_lexer": "ipython3",
   "version": "3.9.10"
  }
 },
 "nbformat": 4,
 "nbformat_minor": 2
}
