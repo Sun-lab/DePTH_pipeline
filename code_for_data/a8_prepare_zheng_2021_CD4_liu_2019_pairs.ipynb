{
 "cells": [
  {
   "cell_type": "markdown",
   "metadata": {},
   "source": [
    "Prepare the input data file based on\n",
    "\n",
    "the 141 unique HLA-II alleles from processed Liu 2019 data:\n",
    "\n",
    "    ../data/Liu_2019/liu_2019_hla_ii_format.csv\n",
    "    \n",
    "and the 6547 Zheng 2021 CD4 TCRs from processed Zheng 2021 CD4 data:\n",
    "\n",
    "    ../data/Zheng_2021/CD4_pos_TCRs_weighted_for_DePTH_comb_xcr_format.csv\n",
    "\n",
    "for making prediction on"
   ]
  },
  {
   "cell_type": "code",
   "execution_count": 2,
   "metadata": {},
   "outputs": [],
   "source": [
    "import numpy as np\n",
    "import pandas as pd"
   ]
  },
  {
   "cell_type": "code",
   "execution_count": 1,
   "metadata": {},
   "outputs": [],
   "source": [
    "hla_file = '../data/Liu_2019/liu_2019_hla_ii_format.csv'\n",
    "zheng_2021_file = '../data/Zheng_2021/CD4_pos_TCRs_weighted_for_DePTH_comb_xcr_format.csv'"
   ]
  },
  {
   "cell_type": "code",
   "execution_count": 3,
   "metadata": {},
   "outputs": [],
   "source": [
    "df_hla = pd.read_csv(hla_file, header=0)\n",
    "df_tcr = pd.read_csv(zheng_2021_file, header=0)"
   ]
  },
  {
   "cell_type": "code",
   "execution_count": 4,
   "metadata": {},
   "outputs": [
    {
     "data": {
      "text/plain": [
       "(141, 1)"
      ]
     },
     "execution_count": 4,
     "metadata": {},
     "output_type": "execute_result"
    }
   ],
   "source": [
    "df_hla.shape"
   ]
  },
  {
   "cell_type": "code",
   "execution_count": 6,
   "metadata": {},
   "outputs": [
    {
     "data": {
      "text/plain": [
       "(6547, 2)"
      ]
     },
     "execution_count": 6,
     "metadata": {},
     "output_type": "execute_result"
    }
   ],
   "source": [
    "df_tcr.shape"
   ]
  },
  {
   "cell_type": "code",
   "execution_count": 7,
   "metadata": {},
   "outputs": [
    {
     "data": {
      "text/html": [
       "<div>\n",
       "<style scoped>\n",
       "    .dataframe tbody tr th:only-of-type {\n",
       "        vertical-align: middle;\n",
       "    }\n",
       "\n",
       "    .dataframe tbody tr th {\n",
       "        vertical-align: top;\n",
       "    }\n",
       "\n",
       "    .dataframe thead th {\n",
       "        text-align: right;\n",
       "    }\n",
       "</style>\n",
       "<table border=\"1\" class=\"dataframe\">\n",
       "  <thead>\n",
       "    <tr style=\"text-align: right;\">\n",
       "      <th></th>\n",
       "      <th>hla</th>\n",
       "    </tr>\n",
       "  </thead>\n",
       "  <tbody>\n",
       "    <tr>\n",
       "      <th>0</th>\n",
       "      <td>HLA-DPAB*01:03_01:01</td>\n",
       "    </tr>\n",
       "    <tr>\n",
       "      <th>1</th>\n",
       "      <td>HLA-DPAB*01:03_02:01</td>\n",
       "    </tr>\n",
       "  </tbody>\n",
       "</table>\n",
       "</div>"
      ],
      "text/plain": [
       "                    hla\n",
       "0  HLA-DPAB*01:03_01:01\n",
       "1  HLA-DPAB*01:03_02:01"
      ]
     },
     "execution_count": 7,
     "metadata": {},
     "output_type": "execute_result"
    }
   ],
   "source": [
    "df_hla[:2]"
   ]
  },
  {
   "cell_type": "code",
   "execution_count": 8,
   "metadata": {},
   "outputs": [
    {
     "data": {
      "text/html": [
       "<div>\n",
       "<style scoped>\n",
       "    .dataframe tbody tr th:only-of-type {\n",
       "        vertical-align: middle;\n",
       "    }\n",
       "\n",
       "    .dataframe tbody tr th {\n",
       "        vertical-align: top;\n",
       "    }\n",
       "\n",
       "    .dataframe thead th {\n",
       "        text-align: right;\n",
       "    }\n",
       "</style>\n",
       "<table border=\"1\" class=\"dataframe\">\n",
       "  <thead>\n",
       "    <tr style=\"text-align: right;\">\n",
       "      <th></th>\n",
       "      <th>v</th>\n",
       "      <th>aa</th>\n",
       "    </tr>\n",
       "  </thead>\n",
       "  <tbody>\n",
       "    <tr>\n",
       "      <th>0</th>\n",
       "      <td>TRBV20-1*01</td>\n",
       "      <td>CSAHGGFANHHEQFF</td>\n",
       "    </tr>\n",
       "    <tr>\n",
       "      <th>1</th>\n",
       "      <td>TRBV20-1*01</td>\n",
       "      <td>CSAHGGFANHHEQFF</td>\n",
       "    </tr>\n",
       "    <tr>\n",
       "      <th>2</th>\n",
       "      <td>TRBV20-1*01</td>\n",
       "      <td>CSAHGGFANHHEQFF</td>\n",
       "    </tr>\n",
       "    <tr>\n",
       "      <th>3</th>\n",
       "      <td>TRBV20-1*01</td>\n",
       "      <td>CSAHGGFANHHEQFF</td>\n",
       "    </tr>\n",
       "    <tr>\n",
       "      <th>4</th>\n",
       "      <td>TRBV20-1*01</td>\n",
       "      <td>CSAHGGFANHHEQFF</td>\n",
       "    </tr>\n",
       "    <tr>\n",
       "      <th>5</th>\n",
       "      <td>TRBV20-1*01</td>\n",
       "      <td>CSAHGGFANHHEQFF</td>\n",
       "    </tr>\n",
       "  </tbody>\n",
       "</table>\n",
       "</div>"
      ],
      "text/plain": [
       "             v               aa\n",
       "0  TRBV20-1*01  CSAHGGFANHHEQFF\n",
       "1  TRBV20-1*01  CSAHGGFANHHEQFF\n",
       "2  TRBV20-1*01  CSAHGGFANHHEQFF\n",
       "3  TRBV20-1*01  CSAHGGFANHHEQFF\n",
       "4  TRBV20-1*01  CSAHGGFANHHEQFF\n",
       "5  TRBV20-1*01  CSAHGGFANHHEQFF"
      ]
     },
     "execution_count": 8,
     "metadata": {},
     "output_type": "execute_result"
    }
   ],
   "source": [
    "df_tcr[:6]"
   ]
  },
  {
   "cell_type": "code",
   "execution_count": 9,
   "metadata": {},
   "outputs": [
    {
     "data": {
      "text/plain": [
       "[('TRBV20-1*01,CSAHGGFANHHEQFF', 'HLA-DPAB*01:03_01:01'),\n",
       " ('TRBV20-1*01,CSAHGGFANHHEQFF', 'HLA-DPAB*01:03_02:01'),\n",
       " ('TRBV20-1*01,CSAHGGFANHHEQFF', 'HLA-DPAB*01:03_03:01'),\n",
       " ('TRBV20-1*01,CSAHGGFANHHEQFF', 'HLA-DPAB*01:03_04:01'),\n",
       " ('TRBV20-1*01,CSAHGGFANHHEQFF', 'HLA-DPAB*01:03_04:02'),\n",
       " ('TRBV20-1*01,CSAHGGFANHHEQFF', 'HLA-DPAB*01:03_13:01'),\n",
       " ('TRBV20-1*01,CSAHGGFANHHEQFF', 'HLA-DPAB*01:03_17:01'),\n",
       " ('TRBV20-1*01,CSAHGGFANHHEQFF', 'HLA-DPAB*02:01_01:01'),\n",
       " ('TRBV20-1*01,CSAHGGFANHHEQFF', 'HLA-DPAB*02:01_02:01'),\n",
       " ('TRBV20-1*01,CSAHGGFANHHEQFF', 'HLA-DPAB*02:01_03:01')]"
      ]
     },
     "execution_count": 9,
     "metadata": {},
     "output_type": "execute_result"
    }
   ],
   "source": [
    "test_tcrs = [\",\".join([a, b]) for a, b in zip(df_tcr.v.tolist(), df_tcr.aa.tolist())]\n",
    "\n",
    "pair_list = [(tcr, hla) for tcr in test_tcrs for hla in df_hla.hla.tolist()]\n",
    "pair_list[:10]"
   ]
  },
  {
   "cell_type": "code",
   "execution_count": 10,
   "metadata": {},
   "outputs": [
    {
     "data": {
      "text/plain": [
       "923127"
      ]
     },
     "execution_count": 10,
     "metadata": {},
     "output_type": "execute_result"
    }
   ],
   "source": [
    "len(pair_list)"
   ]
  },
  {
   "cell_type": "code",
   "execution_count": 11,
   "metadata": {},
   "outputs": [
    {
     "data": {
      "text/plain": [
       "923127"
      ]
     },
     "execution_count": 11,
     "metadata": {},
     "output_type": "execute_result"
    }
   ],
   "source": [
    "df_hla.shape[0]*len(test_tcrs)"
   ]
  },
  {
   "cell_type": "code",
   "execution_count": 12,
   "metadata": {},
   "outputs": [
    {
     "data": {
      "text/html": [
       "<div>\n",
       "<style scoped>\n",
       "    .dataframe tbody tr th:only-of-type {\n",
       "        vertical-align: middle;\n",
       "    }\n",
       "\n",
       "    .dataframe tbody tr th {\n",
       "        vertical-align: top;\n",
       "    }\n",
       "\n",
       "    .dataframe thead th {\n",
       "        text-align: right;\n",
       "    }\n",
       "</style>\n",
       "<table border=\"1\" class=\"dataframe\">\n",
       "  <thead>\n",
       "    <tr style=\"text-align: right;\">\n",
       "      <th></th>\n",
       "      <th>tcr</th>\n",
       "      <th>hla_allele</th>\n",
       "    </tr>\n",
       "  </thead>\n",
       "  <tbody>\n",
       "    <tr>\n",
       "      <th>0</th>\n",
       "      <td>TRBV20-1*01,CSAHGGFANHHEQFF</td>\n",
       "      <td>HLA-DPAB*01:03_01:01</td>\n",
       "    </tr>\n",
       "    <tr>\n",
       "      <th>1</th>\n",
       "      <td>TRBV20-1*01,CSAHGGFANHHEQFF</td>\n",
       "      <td>HLA-DPAB*01:03_02:01</td>\n",
       "    </tr>\n",
       "    <tr>\n",
       "      <th>2</th>\n",
       "      <td>TRBV20-1*01,CSAHGGFANHHEQFF</td>\n",
       "      <td>HLA-DPAB*01:03_03:01</td>\n",
       "    </tr>\n",
       "    <tr>\n",
       "      <th>3</th>\n",
       "      <td>TRBV20-1*01,CSAHGGFANHHEQFF</td>\n",
       "      <td>HLA-DPAB*01:03_04:01</td>\n",
       "    </tr>\n",
       "    <tr>\n",
       "      <th>4</th>\n",
       "      <td>TRBV20-1*01,CSAHGGFANHHEQFF</td>\n",
       "      <td>HLA-DPAB*01:03_04:02</td>\n",
       "    </tr>\n",
       "    <tr>\n",
       "      <th>5</th>\n",
       "      <td>TRBV20-1*01,CSAHGGFANHHEQFF</td>\n",
       "      <td>HLA-DPAB*01:03_13:01</td>\n",
       "    </tr>\n",
       "  </tbody>\n",
       "</table>\n",
       "</div>"
      ],
      "text/plain": [
       "                           tcr            hla_allele\n",
       "0  TRBV20-1*01,CSAHGGFANHHEQFF  HLA-DPAB*01:03_01:01\n",
       "1  TRBV20-1*01,CSAHGGFANHHEQFF  HLA-DPAB*01:03_02:01\n",
       "2  TRBV20-1*01,CSAHGGFANHHEQFF  HLA-DPAB*01:03_03:01\n",
       "3  TRBV20-1*01,CSAHGGFANHHEQFF  HLA-DPAB*01:03_04:01\n",
       "4  TRBV20-1*01,CSAHGGFANHHEQFF  HLA-DPAB*01:03_04:02\n",
       "5  TRBV20-1*01,CSAHGGFANHHEQFF  HLA-DPAB*01:03_13:01"
      ]
     },
     "execution_count": 12,
     "metadata": {},
     "output_type": "execute_result"
    }
   ],
   "source": [
    "df_pairs = pd.DataFrame(pair_list, columns=['tcr', 'hla_allele'])\n",
    "df_pairs[:6]"
   ]
  },
  {
   "cell_type": "code",
   "execution_count": 13,
   "metadata": {},
   "outputs": [],
   "source": [
    "df_pairs.to_csv(\"../data/Zheng_2021/zheng_2021_HLA_II_pairs.csv\", index=False)"
   ]
  },
  {
   "cell_type": "code",
   "execution_count": null,
   "metadata": {},
   "outputs": [],
   "source": []
  }
 ],
 "metadata": {
  "kernelspec": {
   "display_name": "Python 3 (ipykernel)",
   "language": "python",
   "name": "python3"
  },
  "language_info": {
   "codemirror_mode": {
    "name": "ipython",
    "version": 3
   },
   "file_extension": ".py",
   "mimetype": "text/x-python",
   "name": "python",
   "nbconvert_exporter": "python",
   "pygments_lexer": "ipython3",
   "version": "3.9.10"
  }
 },
 "nbformat": 4,
 "nbformat_minor": 4
}
