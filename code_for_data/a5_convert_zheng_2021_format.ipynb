{
 "cells": [
  {
   "cell_type": "markdown",
   "metadata": {},
   "source": [
    "Convert candidate TCRs from zheng 2021 single cell TCRs for getting predicted scores, in order to prepare for computing correlations\n",
    "\n",
    "The TCRs should have v alleles belonging to one of the 142 human beta alleles in \n",
    "\n",
    "    ../data/for_encoders/combo_xcr.tsv\n",
    "    \n",
    "the original v part has a format different from what we used for DePTH model, we need to transform it\n",
    "\n",
    "The amino acid sequences should not have strange characters\n",
    "\n",
    "The amino acid sequences should not have length exceeding what we have encoded for"
   ]
  },
  {
   "cell_type": "code",
   "execution_count": 1,
   "metadata": {},
   "outputs": [],
   "source": [
    "import pandas as pd\n",
    "import numpy as np\n",
    "\n",
    "from collections import defaultdict\n",
    "from collections import Counter"
   ]
  },
  {
   "cell_type": "code",
   "execution_count": 2,
   "metadata": {},
   "outputs": [],
   "source": [
    "data_dir = \"../data/Zheng_2021/\"\n",
    "\n",
    "file_pos = \"TCRs_CD8_pos_1_with_v_gene_weighted.csv\"\n",
    "file_neg = \"TCRs_CD8_neg_1_with_v_gene_weighted.csv\""
   ]
  },
  {
   "cell_type": "code",
   "execution_count": 3,
   "metadata": {},
   "outputs": [
    {
     "name": "stdout",
     "output_type": "stream",
     "text": [
      "(10008, 1)\n",
      "(25081, 1)\n",
      "                   tcr\n",
      "0  TRBV13,CASSLTGNEQFF\n",
      "1  TRBV13,CASSLTGNEQFF\n",
      "2  TRBV13,CASSLTGNEQFF\n",
      "3  TRBV13,CASSLTGNEQFF\n",
      "4  TRBV13,CASSLTGNEQFF\n",
      "5  TRBV13,CASSLTGNEQFF\n",
      "                    tcr\n",
      "0  TRBV19,CASSGRSTDTQYF\n",
      "1  TRBV19,CASSGRSTDTQYF\n",
      "2  TRBV19,CASSGRSTDTQYF\n",
      "3  TRBV19,CASSGRSTDTQYF\n",
      "4  TRBV19,CASSGRSTDTQYF\n",
      "5  TRBV19,CASSGRSTDTQYF\n"
     ]
    }
   ],
   "source": [
    "df_pos = pd.read_csv(data_dir + file_pos, header = 0)\n",
    "df_neg = pd.read_csv(data_dir + file_neg, header = 0)\n",
    "\n",
    "print(df_pos.shape)\n",
    "print(df_neg.shape)\n",
    "\n",
    "print(df_pos[:6])\n",
    "print(df_neg[:6])"
   ]
  },
  {
   "cell_type": "code",
   "execution_count": 4,
   "metadata": {},
   "outputs": [],
   "source": [
    "pos_v = [x.split(\",\")[0] for x in df_pos.tcr.tolist()]\n",
    "pos_aa = [x.split(\",\")[1] for x in df_pos.tcr.tolist()]\n",
    "\n",
    "neg_v = [x.split(\",\")[0] for x in df_neg.tcr.tolist()]\n",
    "neg_aa = [x.split(\",\")[1] for x in df_neg.tcr.tolist()]"
   ]
  },
  {
   "cell_type": "code",
   "execution_count": 5,
   "metadata": {},
   "outputs": [
    {
     "name": "stdout",
     "output_type": "stream",
     "text": [
      "Counter({15: 2782, 14: 2660, 13: 1980, 16: 1693, 12: 893})\n",
      "Counter({15: 7081, 14: 6680, 13: 4766, 16: 4249, 12: 2305})\n"
     ]
    }
   ],
   "source": [
    "print(Counter([len(x) for x in pos_aa]))\n",
    "print(Counter([len(x) for x in neg_aa]))"
   ]
  },
  {
   "cell_type": "code",
   "execution_count": 6,
   "metadata": {},
   "outputs": [
    {
     "data": {
      "text/plain": [
       "48"
      ]
     },
     "execution_count": 6,
     "metadata": {},
     "output_type": "execute_result"
    }
   ],
   "source": [
    "# add *01 to v gene to get the format as allowed in tcrdist -- why we want the format as in tcrdist? in combo_xcr.tsv?\n",
    "\n",
    "all_vs = list(set(pos_v + neg_v))\n",
    "len(all_vs)"
   ]
  },
  {
   "cell_type": "code",
   "execution_count": 7,
   "metadata": {},
   "outputs": [
    {
     "data": {
      "text/plain": [
       "['TRBV10-1',\n",
       " 'TRBV10-2',\n",
       " 'TRBV10-3',\n",
       " 'TRBV11-1',\n",
       " 'TRBV11-2',\n",
       " 'TRBV11-3',\n",
       " 'TRBV12-3',\n",
       " 'TRBV12-4',\n",
       " 'TRBV12-5',\n",
       " 'TRBV13',\n",
       " 'TRBV14',\n",
       " 'TRBV15',\n",
       " 'TRBV16',\n",
       " 'TRBV18',\n",
       " 'TRBV19',\n",
       " 'TRBV2',\n",
       " 'TRBV20-1',\n",
       " 'TRBV21-1',\n",
       " 'TRBV24-1',\n",
       " 'TRBV25-1',\n",
       " 'TRBV27',\n",
       " 'TRBV28',\n",
       " 'TRBV29-1',\n",
       " 'TRBV3-1',\n",
       " 'TRBV30',\n",
       " 'TRBV4-1',\n",
       " 'TRBV4-2',\n",
       " 'TRBV4-3',\n",
       " 'TRBV5-1',\n",
       " 'TRBV5-4',\n",
       " 'TRBV5-5',\n",
       " 'TRBV5-6',\n",
       " 'TRBV5-7',\n",
       " 'TRBV5-8',\n",
       " 'TRBV6-1',\n",
       " 'TRBV6-3',\n",
       " 'TRBV6-4',\n",
       " 'TRBV6-5',\n",
       " 'TRBV6-6',\n",
       " 'TRBV6-7',\n",
       " 'TRBV6-9',\n",
       " 'TRBV7-2',\n",
       " 'TRBV7-3',\n",
       " 'TRBV7-6',\n",
       " 'TRBV7-7',\n",
       " 'TRBV7-8',\n",
       " 'TRBV7-9',\n",
       " 'TRBV9']"
      ]
     },
     "execution_count": 7,
     "metadata": {},
     "output_type": "execute_result"
    }
   ],
   "source": [
    "all_vs.sort()\n",
    "all_vs"
   ]
  },
  {
   "cell_type": "code",
   "execution_count": 8,
   "metadata": {},
   "outputs": [
    {
     "data": {
      "text/html": [
       "<div>\n",
       "<style scoped>\n",
       "    .dataframe tbody tr th:only-of-type {\n",
       "        vertical-align: middle;\n",
       "    }\n",
       "\n",
       "    .dataframe tbody tr th {\n",
       "        vertical-align: top;\n",
       "    }\n",
       "\n",
       "    .dataframe thead th {\n",
       "        text-align: right;\n",
       "    }\n",
       "</style>\n",
       "<table border=\"1\" class=\"dataframe\">\n",
       "  <thead>\n",
       "    <tr style=\"text-align: right;\">\n",
       "      <th></th>\n",
       "      <th>id</th>\n",
       "      <th>organism</th>\n",
       "      <th>chain</th>\n",
       "      <th>region</th>\n",
       "      <th>nucseq</th>\n",
       "      <th>frame</th>\n",
       "      <th>aligned_protseq</th>\n",
       "      <th>cdr_columns</th>\n",
       "      <th>cdrs</th>\n",
       "    </tr>\n",
       "  </thead>\n",
       "  <tbody>\n",
       "    <tr>\n",
       "      <th>566</th>\n",
       "      <td>TRBV1*01</td>\n",
       "      <td>human</td>\n",
       "      <td>B</td>\n",
       "      <td>V</td>\n",
       "      <td>gatactggaattacccagacaccaaaatacctggtcacagcaatgg...</td>\n",
       "      <td>1</td>\n",
       "      <td>DTGITQTPKYLVTAMGSKRTMKREHLGH........DSMYWYRQKA...</td>\n",
       "      <td>27-38;56-65;81-86;104-109</td>\n",
       "      <td>GH........DS;YNC....KEF;P.DSSR;CTSSQ.</td>\n",
       "    </tr>\n",
       "    <tr>\n",
       "      <th>567</th>\n",
       "      <td>TRBV10-1*01</td>\n",
       "      <td>human</td>\n",
       "      <td>B</td>\n",
       "      <td>V</td>\n",
       "      <td>gatgctgaaatcacccagagcccaagacacaagatcacagagacag...</td>\n",
       "      <td>1</td>\n",
       "      <td>DAEITQSPRHKITETGRQVTLACHQTWNH.......NNMFWYRQDL...</td>\n",
       "      <td>27-38;56-65;81-86;104-109</td>\n",
       "      <td>WNH.......NN;SYG....VQD;S.NTED;CASSE.</td>\n",
       "    </tr>\n",
       "    <tr>\n",
       "      <th>568</th>\n",
       "      <td>TRBV10-1*02</td>\n",
       "      <td>human</td>\n",
       "      <td>B</td>\n",
       "      <td>V</td>\n",
       "      <td>gatgctgaaatcacccagagcccaagacacaagatcacagagacag...</td>\n",
       "      <td>1</td>\n",
       "      <td>DAEITQSPRHKITETGRQVTLACHQTWNH.......NNMFWYRQDL...</td>\n",
       "      <td>27-38;56-65;81-86;104-109</td>\n",
       "      <td>WNH.......NN;SYG....VHD;S.NTED;CASSE.</td>\n",
       "    </tr>\n",
       "    <tr>\n",
       "      <th>569</th>\n",
       "      <td>TRBV10-2*01</td>\n",
       "      <td>human</td>\n",
       "      <td>B</td>\n",
       "      <td>V</td>\n",
       "      <td>gatgctggaatcacccagagcccaagatacaagatcacagagacag...</td>\n",
       "      <td>1</td>\n",
       "      <td>DAGITQSPRYKITETGRQVTLMCHQTWSH.......SYMFWYRQDL...</td>\n",
       "      <td>27-38;56-65;81-86;104-109</td>\n",
       "      <td>WSH.......SY;SAA....ADI;S.KTEN;CASSE.</td>\n",
       "    </tr>\n",
       "    <tr>\n",
       "      <th>570</th>\n",
       "      <td>TRBV10-2*02</td>\n",
       "      <td>human</td>\n",
       "      <td>B</td>\n",
       "      <td>V</td>\n",
       "      <td>aaggcaggtgaccttgatgtgtcaccagacttggagccacagctat...</td>\n",
       "      <td>2</td>\n",
       "      <td>................RQVTLMCHQTWSH.......SYMFWYRQDL...</td>\n",
       "      <td>27-38;56-65;81-86;104-109</td>\n",
       "      <td>WSH.......SY;SAA....ADI;S.KTEN;......</td>\n",
       "    </tr>\n",
       "    <tr>\n",
       "      <th>571</th>\n",
       "      <td>TRBV10-3*01</td>\n",
       "      <td>human</td>\n",
       "      <td>B</td>\n",
       "      <td>V</td>\n",
       "      <td>gatgctggaatcacccagagcccaagacacaaggtcacagagacag...</td>\n",
       "      <td>1</td>\n",
       "      <td>DAGITQSPRHKVTETGTPVTLRCHQTENH.......RYMYWYRQDP...</td>\n",
       "      <td>27-38;56-65;81-86;104-109</td>\n",
       "      <td>ENH.......RY;SYG....VKD;S.KTED;CAISE.</td>\n",
       "    </tr>\n",
       "  </tbody>\n",
       "</table>\n",
       "</div>"
      ],
      "text/plain": [
       "              id organism chain region  \\\n",
       "566     TRBV1*01    human     B      V   \n",
       "567  TRBV10-1*01    human     B      V   \n",
       "568  TRBV10-1*02    human     B      V   \n",
       "569  TRBV10-2*01    human     B      V   \n",
       "570  TRBV10-2*02    human     B      V   \n",
       "571  TRBV10-3*01    human     B      V   \n",
       "\n",
       "                                                nucseq  frame  \\\n",
       "566  gatactggaattacccagacaccaaaatacctggtcacagcaatgg...      1   \n",
       "567  gatgctgaaatcacccagagcccaagacacaagatcacagagacag...      1   \n",
       "568  gatgctgaaatcacccagagcccaagacacaagatcacagagacag...      1   \n",
       "569  gatgctggaatcacccagagcccaagatacaagatcacagagacag...      1   \n",
       "570  aaggcaggtgaccttgatgtgtcaccagacttggagccacagctat...      2   \n",
       "571  gatgctggaatcacccagagcccaagacacaaggtcacagagacag...      1   \n",
       "\n",
       "                                       aligned_protseq  \\\n",
       "566  DTGITQTPKYLVTAMGSKRTMKREHLGH........DSMYWYRQKA...   \n",
       "567  DAEITQSPRHKITETGRQVTLACHQTWNH.......NNMFWYRQDL...   \n",
       "568  DAEITQSPRHKITETGRQVTLACHQTWNH.......NNMFWYRQDL...   \n",
       "569  DAGITQSPRYKITETGRQVTLMCHQTWSH.......SYMFWYRQDL...   \n",
       "570  ................RQVTLMCHQTWSH.......SYMFWYRQDL...   \n",
       "571  DAGITQSPRHKVTETGTPVTLRCHQTENH.......RYMYWYRQDP...   \n",
       "\n",
       "                   cdr_columns                                   cdrs  \n",
       "566  27-38;56-65;81-86;104-109  GH........DS;YNC....KEF;P.DSSR;CTSSQ.  \n",
       "567  27-38;56-65;81-86;104-109  WNH.......NN;SYG....VQD;S.NTED;CASSE.  \n",
       "568  27-38;56-65;81-86;104-109  WNH.......NN;SYG....VHD;S.NTED;CASSE.  \n",
       "569  27-38;56-65;81-86;104-109  WSH.......SY;SAA....ADI;S.KTEN;CASSE.  \n",
       "570  27-38;56-65;81-86;104-109  WSH.......SY;SAA....ADI;S.KTEN;......  \n",
       "571  27-38;56-65;81-86;104-109  ENH.......RY;SYG....VKD;S.KTED;CAISE.  "
      ]
     },
     "execution_count": 8,
     "metadata": {},
     "output_type": "execute_result"
    }
   ],
   "source": [
    "# load the combo_xcr.tsv table to translate the format to \n",
    "V_info = pd.read_csv(\"../data/for_encoders/combo_xcr.tsv\", sep='\\t')\n",
    "V_sub_info = V_info.loc[(V_info.organism == 'human')\n",
    "                        & (V_info.chain == 'B')\n",
    "                        & (V_info.region == 'V')]\n",
    "\n",
    "V_sub_info[:6]"
   ]
  },
  {
   "cell_type": "code",
   "execution_count": 9,
   "metadata": {},
   "outputs": [
    {
     "data": {
      "text/plain": [
       "['TRBV1*01',\n",
       " 'TRBV10-1*01',\n",
       " 'TRBV10-1*02',\n",
       " 'TRBV10-2*01',\n",
       " 'TRBV10-2*02',\n",
       " 'TRBV10-3*01',\n",
       " 'TRBV10-3*02',\n",
       " 'TRBV10-3*03',\n",
       " 'TRBV10-3*04',\n",
       " 'TRBV11-1*01',\n",
       " 'TRBV11-2*01',\n",
       " 'TRBV11-2*02',\n",
       " 'TRBV11-2*03',\n",
       " 'TRBV11-3*01',\n",
       " 'TRBV11-3*02',\n",
       " 'TRBV11-3*03',\n",
       " 'TRBV12-1*01',\n",
       " 'TRBV12-2*01',\n",
       " 'TRBV12-3*01',\n",
       " 'TRBV12-4*01',\n",
       " 'TRBV12-4*02',\n",
       " 'TRBV12-5*01',\n",
       " 'TRBV13*01',\n",
       " 'TRBV13*02',\n",
       " 'TRBV14*01',\n",
       " 'TRBV14*02',\n",
       " 'TRBV15*01',\n",
       " 'TRBV15*02',\n",
       " 'TRBV15*03',\n",
       " 'TRBV16*01',\n",
       " 'TRBV16*02',\n",
       " 'TRBV16*03',\n",
       " 'TRBV17*01',\n",
       " 'TRBV18*01',\n",
       " 'TRBV19*01',\n",
       " 'TRBV19*02',\n",
       " 'TRBV19*03',\n",
       " 'TRBV2*01',\n",
       " 'TRBV2*02',\n",
       " 'TRBV2*03',\n",
       " 'TRBV20-1*01',\n",
       " 'TRBV20-1*02',\n",
       " 'TRBV20-1*03',\n",
       " 'TRBV20-1*04',\n",
       " 'TRBV20-1*05',\n",
       " 'TRBV20-1*06',\n",
       " 'TRBV20-1*07',\n",
       " 'TRBV20/OR9-2*01',\n",
       " 'TRBV20/OR9-2*02',\n",
       " 'TRBV20/OR9-2*03',\n",
       " 'TRBV21-1*01',\n",
       " 'TRBV21/OR9-2*01',\n",
       " 'TRBV23-1*01',\n",
       " 'TRBV23/OR9-2*01',\n",
       " 'TRBV23/OR9-2*02',\n",
       " 'TRBV24-1*01',\n",
       " 'TRBV24/OR9-2*01',\n",
       " 'TRBV25-1*01',\n",
       " 'TRBV26*01',\n",
       " 'TRBV26/OR9-2*01',\n",
       " 'TRBV26/OR9-2*02',\n",
       " 'TRBV27*01',\n",
       " 'TRBV28*01',\n",
       " 'TRBV29-1*01',\n",
       " 'TRBV29-1*02',\n",
       " 'TRBV29-1*03',\n",
       " 'TRBV29/OR9-2*01',\n",
       " 'TRBV29/OR9-2*02',\n",
       " 'TRBV3-1*01',\n",
       " 'TRBV3-1*02',\n",
       " 'TRBV3-2*01',\n",
       " 'TRBV3-2*02',\n",
       " 'TRBV3-2*03',\n",
       " 'TRBV30*01',\n",
       " 'TRBV30*02',\n",
       " 'TRBV30*04',\n",
       " 'TRBV30*05',\n",
       " 'TRBV4-1*01',\n",
       " 'TRBV4-1*02',\n",
       " 'TRBV4-2*01',\n",
       " 'TRBV4-2*02',\n",
       " 'TRBV4-3*01',\n",
       " 'TRBV4-3*02',\n",
       " 'TRBV4-3*03',\n",
       " 'TRBV4-3*04',\n",
       " 'TRBV5-1*01',\n",
       " 'TRBV5-1*02',\n",
       " 'TRBV5-3*01',\n",
       " 'TRBV5-3*02',\n",
       " 'TRBV5-4*01',\n",
       " 'TRBV5-4*02',\n",
       " 'TRBV5-4*03',\n",
       " 'TRBV5-4*04',\n",
       " 'TRBV5-5*01',\n",
       " 'TRBV5-5*02',\n",
       " 'TRBV5-5*03',\n",
       " 'TRBV5-6*01',\n",
       " 'TRBV5-7*01',\n",
       " 'TRBV5-8*01',\n",
       " 'TRBV5-8*02',\n",
       " 'TRBV6-1*01',\n",
       " 'TRBV6-2*01',\n",
       " 'TRBV6-3*01',\n",
       " 'TRBV6-4*01',\n",
       " 'TRBV6-4*02',\n",
       " 'TRBV6-5*01',\n",
       " 'TRBV6-6*01',\n",
       " 'TRBV6-6*02',\n",
       " 'TRBV6-6*03',\n",
       " 'TRBV6-6*04',\n",
       " 'TRBV6-6*05',\n",
       " 'TRBV6-7*01',\n",
       " 'TRBV6-8*01',\n",
       " 'TRBV6-9*01',\n",
       " 'TRBV7-1*01',\n",
       " 'TRBV7-2*01',\n",
       " 'TRBV7-2*02',\n",
       " 'TRBV7-2*03',\n",
       " 'TRBV7-2*04',\n",
       " 'TRBV7-3*01',\n",
       " 'TRBV7-3*02',\n",
       " 'TRBV7-3*03',\n",
       " 'TRBV7-3*04',\n",
       " 'TRBV7-3*05',\n",
       " 'TRBV7-4*01',\n",
       " 'TRBV7-6*01',\n",
       " 'TRBV7-6*02',\n",
       " 'TRBV7-7*01',\n",
       " 'TRBV7-7*02',\n",
       " 'TRBV7-8*01',\n",
       " 'TRBV7-8*02',\n",
       " 'TRBV7-8*03',\n",
       " 'TRBV7-9*01',\n",
       " 'TRBV7-9*02',\n",
       " 'TRBV7-9*03',\n",
       " 'TRBV7-9*04',\n",
       " 'TRBV7-9*05',\n",
       " 'TRBV7-9*06',\n",
       " 'TRBV7-9*07',\n",
       " 'TRBV9*01',\n",
       " 'TRBV9*02',\n",
       " 'TRBV9*03']"
      ]
     },
     "execution_count": 9,
     "metadata": {},
     "output_type": "execute_result"
    }
   ],
   "source": [
    "combo_xcr_ids = list(set(V_sub_info.id))\n",
    "combo_xcr_ids.sort()\n",
    "combo_xcr_ids"
   ]
  },
  {
   "cell_type": "code",
   "execution_count": 10,
   "metadata": {},
   "outputs": [],
   "source": [
    "to_combo_dict = defaultdict(str)\n",
    "\n",
    "to_combo_dict['TRBV10-1'] = 'TRBV10-1*01'\n",
    "to_combo_dict['TRBV10-2'] = 'TRBV10-2*01'\n",
    "to_combo_dict['TRBV10-3'] = 'TRBV10-3*01'\n",
    "\n",
    "to_combo_dict['TRBV11-1'] = 'TRBV11-1*01'\n",
    "to_combo_dict['TRBV11-2'] = 'TRBV11-2*01'\n",
    "to_combo_dict['TRBV11-3'] = 'TRBV11-3*01'\n",
    "\n",
    "to_combo_dict['TRBV12-3'] = 'TRBV12-3*01'\n",
    "to_combo_dict['TRBV12-4'] = 'TRBV12-4*01'\n",
    "to_combo_dict['TRBV12-5'] = 'TRBV12-5*01'\n",
    "\n",
    "to_combo_dict['TRBV13'] = 'TRBV13*01'\n",
    "to_combo_dict['TRBV14'] = 'TRBV14*01'\n",
    "to_combo_dict['TRBV15'] = 'TRBV15*01'\n",
    "to_combo_dict['TRBV16'] = 'TRBV16*01'\n",
    "to_combo_dict['TRBV18'] = 'TRBV18*01'\n",
    "to_combo_dict['TRBV19'] = 'TRBV19*01'\n",
    "\n",
    "to_combo_dict['TRBV2'] = 'TRBV2*01'\n",
    "to_combo_dict['TRBV20-1'] = 'TRBV20-1*01'\n",
    "to_combo_dict['TRBV21-1'] = 'TRBV21-1*01'\n",
    "to_combo_dict['TRBV24-1'] = 'TRBV24-1*01'\n",
    "to_combo_dict['TRBV25-1'] = 'TRBV25-1*01'\n",
    "to_combo_dict['TRBV27'] = 'TRBV27*01'\n",
    "to_combo_dict['TRBV28'] = 'TRBV28*01'\n",
    "to_combo_dict['TRBV29-1'] = 'TRBV29-1*01'\n",
    "\n",
    "to_combo_dict['TRBV3-1'] = 'TRBV3-1*01'\n",
    "to_combo_dict['TRBV30'] = 'TRBV30*01'\n",
    "\n",
    "to_combo_dict['TRBV4-1'] = 'TRBV4-1*01'\n",
    "to_combo_dict['TRBV4-2'] = 'TRBV4-2*01'\n",
    "to_combo_dict['TRBV4-3'] = 'TRBV4-3*01'\n",
    "\n",
    "to_combo_dict['TRBV5-1'] = 'TRBV5-1*01'\n",
    "to_combo_dict['TRBV5-4'] = 'TRBV5-4*01'\n",
    "to_combo_dict['TRBV5-5'] = 'TRBV5-5*01'\n",
    "to_combo_dict['TRBV5-6'] = 'TRBV5-6*01'\n",
    "to_combo_dict['TRBV5-7'] = 'TRBV5-7*01'\n",
    "to_combo_dict['TRBV5-8'] = 'TRBV5-8*01'\n",
    "\n",
    "to_combo_dict['TRBV6-1'] = 'TRBV6-1*01'\n",
    "to_combo_dict['TRBV6-3'] = 'TRBV6-3*01'\n",
    "to_combo_dict['TRBV6-4'] = 'TRBV6-4*01'\n",
    "to_combo_dict['TRBV6-5'] = 'TRBV6-5*01'\n",
    "to_combo_dict['TRBV6-6'] = 'TRBV6-6*01'\n",
    "to_combo_dict['TRBV6-7'] = 'TRBV6-7*01'\n",
    "to_combo_dict['TRBV6-9'] = 'TRBV6-9*01'\n",
    "\n",
    "to_combo_dict['TRBV7-2'] = 'TRBV7-2*01'\n",
    "to_combo_dict['TRBV7-3'] = 'TRBV7-3*01'\n",
    "to_combo_dict['TRBV7-6'] = 'TRBV7-6*01'\n",
    "to_combo_dict['TRBV7-7'] = 'TRBV7-7*01'\n",
    "to_combo_dict['TRBV7-8'] = 'TRBV7-8*01'\n",
    "to_combo_dict['TRBV7-9'] = 'TRBV7-9*01'\n",
    "\n",
    "to_combo_dict['TRBV9'] = 'TRBV9*01'"
   ]
  },
  {
   "cell_type": "code",
   "execution_count": 11,
   "metadata": {},
   "outputs": [
    {
     "data": {
      "text/plain": [
       "48"
      ]
     },
     "execution_count": 11,
     "metadata": {},
     "output_type": "execute_result"
    }
   ],
   "source": [
    "len(to_combo_dict)"
   ]
  },
  {
   "cell_type": "code",
   "execution_count": 12,
   "metadata": {},
   "outputs": [
    {
     "data": {
      "text/plain": [
       "True"
      ]
     },
     "execution_count": 12,
     "metadata": {},
     "output_type": "execute_result"
    }
   ],
   "source": [
    "set(to_combo_dict.keys()) == set(all_vs)"
   ]
  },
  {
   "cell_type": "code",
   "execution_count": 13,
   "metadata": {},
   "outputs": [
    {
     "data": {
      "text/plain": [
       "1.0"
      ]
     },
     "execution_count": 13,
     "metadata": {},
     "output_type": "execute_result"
    }
   ],
   "source": [
    "# verify whether everything is simply by adding *01\n",
    "flag_list = []\n",
    "\n",
    "for v in all_vs:\n",
    "    flag_list += [to_combo_dict[v] == v + \"*01\"]\n",
    "\n",
    "sum(flag_list)/len(flag_list)"
   ]
  },
  {
   "cell_type": "code",
   "execution_count": 14,
   "metadata": {},
   "outputs": [
    {
     "data": {
      "text/plain": [
       "set()"
      ]
     },
     "execution_count": 14,
     "metadata": {},
     "output_type": "execute_result"
    }
   ],
   "source": [
    "# verify whether all values belong to the ids in combo_xcr.tsv\n",
    "set(to_combo_dict.values()) - set(V_sub_info.id)"
   ]
  },
  {
   "cell_type": "code",
   "execution_count": 15,
   "metadata": {},
   "outputs": [
    {
     "data": {
      "text/plain": [
       "Counter({'C': 35133,\n",
       "         'A': 51229,\n",
       "         'S': 78656,\n",
       "         'L': 20235,\n",
       "         'T': 30283,\n",
       "         'G': 48494,\n",
       "         'N': 14223,\n",
       "         'E': 30700,\n",
       "         'Q': 34246,\n",
       "         'F': 52441,\n",
       "         'D': 14637,\n",
       "         'R': 15742,\n",
       "         'V': 9081,\n",
       "         'P': 14031,\n",
       "         'H': 5718,\n",
       "         'Y': 32505,\n",
       "         'W': 3050,\n",
       "         'K': 3120,\n",
       "         'I': 5016,\n",
       "         'M': 1311})"
      ]
     },
     "execution_count": 15,
     "metadata": {},
     "output_type": "execute_result"
    }
   ],
   "source": [
    "# look into the characters among amino acid sequences\n",
    "Counter(\"\".join(pos_aa + neg_aa))"
   ]
  },
  {
   "cell_type": "code",
   "execution_count": null,
   "metadata": {},
   "outputs": [],
   "source": [
    "# by using the cdr1, cdr2, cdr2.5 sequences for V part, we can allow more v genes as long\n",
    "# as they are allowed for tcrdist"
   ]
  },
  {
   "cell_type": "code",
   "execution_count": 16,
   "metadata": {},
   "outputs": [
    {
     "data": {
      "text/html": [
       "<div>\n",
       "<style scoped>\n",
       "    .dataframe tbody tr th:only-of-type {\n",
       "        vertical-align: middle;\n",
       "    }\n",
       "\n",
       "    .dataframe tbody tr th {\n",
       "        vertical-align: top;\n",
       "    }\n",
       "\n",
       "    .dataframe thead th {\n",
       "        text-align: right;\n",
       "    }\n",
       "</style>\n",
       "<table border=\"1\" class=\"dataframe\">\n",
       "  <thead>\n",
       "    <tr style=\"text-align: right;\">\n",
       "      <th></th>\n",
       "      <th>tcr</th>\n",
       "    </tr>\n",
       "  </thead>\n",
       "  <tbody>\n",
       "    <tr>\n",
       "      <th>0</th>\n",
       "      <td>TRBV13,CASSLTGNEQFF</td>\n",
       "    </tr>\n",
       "    <tr>\n",
       "      <th>1</th>\n",
       "      <td>TRBV13,CASSLTGNEQFF</td>\n",
       "    </tr>\n",
       "    <tr>\n",
       "      <th>2</th>\n",
       "      <td>TRBV13,CASSLTGNEQFF</td>\n",
       "    </tr>\n",
       "    <tr>\n",
       "      <th>3</th>\n",
       "      <td>TRBV13,CASSLTGNEQFF</td>\n",
       "    </tr>\n",
       "    <tr>\n",
       "      <th>4</th>\n",
       "      <td>TRBV13,CASSLTGNEQFF</td>\n",
       "    </tr>\n",
       "    <tr>\n",
       "      <th>5</th>\n",
       "      <td>TRBV13,CASSLTGNEQFF</td>\n",
       "    </tr>\n",
       "  </tbody>\n",
       "</table>\n",
       "</div>"
      ],
      "text/plain": [
       "                   tcr\n",
       "0  TRBV13,CASSLTGNEQFF\n",
       "1  TRBV13,CASSLTGNEQFF\n",
       "2  TRBV13,CASSLTGNEQFF\n",
       "3  TRBV13,CASSLTGNEQFF\n",
       "4  TRBV13,CASSLTGNEQFF\n",
       "5  TRBV13,CASSLTGNEQFF"
      ]
     },
     "execution_count": 16,
     "metadata": {},
     "output_type": "execute_result"
    }
   ],
   "source": [
    "df_pos[:6]"
   ]
  },
  {
   "cell_type": "code",
   "execution_count": 21,
   "metadata": {},
   "outputs": [
    {
     "data": {
      "text/html": [
       "<div>\n",
       "<style scoped>\n",
       "    .dataframe tbody tr th:only-of-type {\n",
       "        vertical-align: middle;\n",
       "    }\n",
       "\n",
       "    .dataframe tbody tr th {\n",
       "        vertical-align: top;\n",
       "    }\n",
       "\n",
       "    .dataframe thead th {\n",
       "        text-align: right;\n",
       "    }\n",
       "</style>\n",
       "<table border=\"1\" class=\"dataframe\">\n",
       "  <thead>\n",
       "    <tr style=\"text-align: right;\">\n",
       "      <th></th>\n",
       "      <th>tcr</th>\n",
       "      <th>v_forward</th>\n",
       "      <th>aa</th>\n",
       "    </tr>\n",
       "  </thead>\n",
       "  <tbody>\n",
       "    <tr>\n",
       "      <th>0</th>\n",
       "      <td>TRBV13,CASSLTGNEQFF</td>\n",
       "      <td>TRBV13*01</td>\n",
       "      <td>CASSLTGNEQFF</td>\n",
       "    </tr>\n",
       "    <tr>\n",
       "      <th>1</th>\n",
       "      <td>TRBV13,CASSLTGNEQFF</td>\n",
       "      <td>TRBV13*01</td>\n",
       "      <td>CASSLTGNEQFF</td>\n",
       "    </tr>\n",
       "    <tr>\n",
       "      <th>2</th>\n",
       "      <td>TRBV13,CASSLTGNEQFF</td>\n",
       "      <td>TRBV13*01</td>\n",
       "      <td>CASSLTGNEQFF</td>\n",
       "    </tr>\n",
       "    <tr>\n",
       "      <th>3</th>\n",
       "      <td>TRBV13,CASSLTGNEQFF</td>\n",
       "      <td>TRBV13*01</td>\n",
       "      <td>CASSLTGNEQFF</td>\n",
       "    </tr>\n",
       "    <tr>\n",
       "      <th>4</th>\n",
       "      <td>TRBV13,CASSLTGNEQFF</td>\n",
       "      <td>TRBV13*01</td>\n",
       "      <td>CASSLTGNEQFF</td>\n",
       "    </tr>\n",
       "    <tr>\n",
       "      <th>5</th>\n",
       "      <td>TRBV13,CASSLTGNEQFF</td>\n",
       "      <td>TRBV13*01</td>\n",
       "      <td>CASSLTGNEQFF</td>\n",
       "    </tr>\n",
       "  </tbody>\n",
       "</table>\n",
       "</div>"
      ],
      "text/plain": [
       "                   tcr  v_forward            aa\n",
       "0  TRBV13,CASSLTGNEQFF  TRBV13*01  CASSLTGNEQFF\n",
       "1  TRBV13,CASSLTGNEQFF  TRBV13*01  CASSLTGNEQFF\n",
       "2  TRBV13,CASSLTGNEQFF  TRBV13*01  CASSLTGNEQFF\n",
       "3  TRBV13,CASSLTGNEQFF  TRBV13*01  CASSLTGNEQFF\n",
       "4  TRBV13,CASSLTGNEQFF  TRBV13*01  CASSLTGNEQFF\n",
       "5  TRBV13,CASSLTGNEQFF  TRBV13*01  CASSLTGNEQFF"
      ]
     },
     "execution_count": 21,
     "metadata": {},
     "output_type": "execute_result"
    }
   ],
   "source": [
    "df_pos[\"v_forward\"] = [to_combo_dict[x] for x in pos_v]\n",
    "df_neg[\"v_forward\"] = [to_combo_dict[x] for x in neg_v]\n",
    "\n",
    "df_pos[\"aa\"] = pos_aa\n",
    "df_neg[\"aa\"] = neg_aa\n",
    "\n",
    "df_pos[:6]"
   ]
  },
  {
   "cell_type": "code",
   "execution_count": 22,
   "metadata": {},
   "outputs": [
    {
     "data": {
      "text/plain": [
       "(10008, 3)"
      ]
     },
     "execution_count": 22,
     "metadata": {},
     "output_type": "execute_result"
    }
   ],
   "source": [
    "df_pos.shape"
   ]
  },
  {
   "cell_type": "code",
   "execution_count": 23,
   "metadata": {},
   "outputs": [
    {
     "data": {
      "text/plain": [
       "3514"
      ]
     },
     "execution_count": 23,
     "metadata": {},
     "output_type": "execute_result"
    }
   ],
   "source": [
    "len(set([(v, aa) for v, aa in zip(df_pos.v_forward.tolist(), df_pos.aa.tolist())]))"
   ]
  },
  {
   "cell_type": "code",
   "execution_count": 24,
   "metadata": {},
   "outputs": [
    {
     "data": {
      "text/plain": [
       "Counter({'TRBV13*01': 109,\n",
       "         'TRBV7-9*01': 741,\n",
       "         'TRBV20-1*01': 784,\n",
       "         'TRBV6-5*01': 380,\n",
       "         'TRBV5-8*01': 59,\n",
       "         'TRBV11-1*01': 46,\n",
       "         'TRBV2*01': 353,\n",
       "         'TRBV12-3*01': 216,\n",
       "         'TRBV30*01': 156,\n",
       "         'TRBV5-4*01': 198,\n",
       "         'TRBV28*01': 709,\n",
       "         'TRBV6-1*01': 270,\n",
       "         'TRBV15*01': 233,\n",
       "         'TRBV7-8*01': 298,\n",
       "         'TRBV5-6*01': 323,\n",
       "         'TRBV10-1*01': 77,\n",
       "         'TRBV4-1*01': 362,\n",
       "         'TRBV4-2*01': 151,\n",
       "         'TRBV12-4*01': 178,\n",
       "         'TRBV5-5*01': 115,\n",
       "         'TRBV10-3*01': 111,\n",
       "         'TRBV29-1*01': 312,\n",
       "         'TRBV9*01': 614,\n",
       "         'TRBV11-2*01': 263,\n",
       "         'TRBV5-1*01': 347,\n",
       "         'TRBV3-1*01': 162,\n",
       "         'TRBV7-6*01': 185,\n",
       "         'TRBV7-2*01': 160,\n",
       "         'TRBV19*01': 415,\n",
       "         'TRBV27*01': 447,\n",
       "         'TRBV6-3*01': 288,\n",
       "         'TRBV7-3*01': 143,\n",
       "         'TRBV4-3*01': 189,\n",
       "         'TRBV21-1*01': 30,\n",
       "         'TRBV18*01': 82,\n",
       "         'TRBV24-1*01': 107,\n",
       "         'TRBV6-6*01': 111,\n",
       "         'TRBV25-1*01': 56,\n",
       "         'TRBV11-3*01': 41,\n",
       "         'TRBV14*01': 50,\n",
       "         'TRBV16*01': 23,\n",
       "         'TRBV10-2*01': 59,\n",
       "         'TRBV12-5*01': 25,\n",
       "         'TRBV7-7*01': 17,\n",
       "         'TRBV6-4*01': 13})"
      ]
     },
     "execution_count": 24,
     "metadata": {},
     "output_type": "execute_result"
    }
   ],
   "source": [
    "Counter(df_pos.v_forward)"
   ]
  },
  {
   "cell_type": "code",
   "execution_count": 25,
   "metadata": {},
   "outputs": [
    {
     "data": {
      "text/plain": [
       "(25081, 3)"
      ]
     },
     "execution_count": 25,
     "metadata": {},
     "output_type": "execute_result"
    }
   ],
   "source": [
    "df_neg.shape"
   ]
  },
  {
   "cell_type": "code",
   "execution_count": 26,
   "metadata": {},
   "outputs": [
    {
     "data": {
      "text/plain": [
       "14248"
      ]
     },
     "execution_count": 26,
     "metadata": {},
     "output_type": "execute_result"
    }
   ],
   "source": [
    "len(set([(v, aa) for v, aa in zip(df_neg.v_forward.tolist(), df_neg.aa.tolist())]))"
   ]
  },
  {
   "cell_type": "code",
   "execution_count": 27,
   "metadata": {},
   "outputs": [
    {
     "data": {
      "text/plain": [
       "Counter({'TRBV19*01': 1433,\n",
       "         'TRBV29-1*01': 813,\n",
       "         'TRBV4-2*01': 563,\n",
       "         'TRBV5-6*01': 566,\n",
       "         'TRBV9*01': 1227,\n",
       "         'TRBV13*01': 297,\n",
       "         'TRBV6-6*01': 361,\n",
       "         'TRBV7-3*01': 476,\n",
       "         'TRBV6-5*01': 818,\n",
       "         'TRBV18*01': 351,\n",
       "         'TRBV6-1*01': 887,\n",
       "         'TRBV20-1*01': 1845,\n",
       "         'TRBV28*01': 1350,\n",
       "         'TRBV6-3*01': 691,\n",
       "         'TRBV11-3*01': 169,\n",
       "         'TRBV27*01': 1206,\n",
       "         'TRBV7-2*01': 634,\n",
       "         'TRBV14*01': 283,\n",
       "         'TRBV7-9*01': 1450,\n",
       "         'TRBV10-3*01': 347,\n",
       "         'TRBV5-1*01': 954,\n",
       "         'TRBV7-8*01': 517,\n",
       "         'TRBV4-3*01': 509,\n",
       "         'TRBV2*01': 873,\n",
       "         'TRBV12-3*01': 454,\n",
       "         'TRBV4-1*01': 1006,\n",
       "         'TRBV3-1*01': 527,\n",
       "         'TRBV5-4*01': 387,\n",
       "         'TRBV25-1*01': 224,\n",
       "         'TRBV24-1*01': 255,\n",
       "         'TRBV7-7*01': 96,\n",
       "         'TRBV11-2*01': 688,\n",
       "         'TRBV30*01': 544,\n",
       "         'TRBV5-5*01': 278,\n",
       "         'TRBV11-1*01': 95,\n",
       "         'TRBV12-4*01': 442,\n",
       "         'TRBV6-4*01': 284,\n",
       "         'TRBV5-8*01': 99,\n",
       "         'TRBV7-6*01': 301,\n",
       "         'TRBV10-2*01': 187,\n",
       "         'TRBV15*01': 374,\n",
       "         'TRBV10-1*01': 83,\n",
       "         'TRBV16*01': 40,\n",
       "         'TRBV12-5*01': 43,\n",
       "         'TRBV21-1*01': 50,\n",
       "         'TRBV5-7*01': 1,\n",
       "         'TRBV6-7*01': 2,\n",
       "         'TRBV6-9*01': 1})"
      ]
     },
     "execution_count": 27,
     "metadata": {},
     "output_type": "execute_result"
    }
   ],
   "source": [
    "Counter(df_neg.v_forward)"
   ]
  },
  {
   "cell_type": "code",
   "execution_count": 28,
   "metadata": {},
   "outputs": [],
   "source": [
    "output_pos = pd.DataFrame(list(zip(df_pos.v_forward.tolist(), \n",
    "                                   df_pos.aa.tolist())), columns = [\"v\", \"aa\"])\n",
    "output_neg = pd.DataFrame(list(zip(df_neg.v_forward.tolist(), \n",
    "                                   df_neg.aa.tolist())), columns = [\"v\", \"aa\"])\n",
    "\n",
    "output_pos.to_csv(data_dir + \"pos_TCRs_weighted_for_DePTH_comb_xcr_format.csv\", index = False)\n",
    "output_neg.to_csv(data_dir + \"neg_TCRs_weighted_for_DePTH_comb_xcr_format.csv\", index = False)"
   ]
  },
  {
   "cell_type": "code",
   "execution_count": 29,
   "metadata": {},
   "outputs": [],
   "source": [
    "# output another file with both pos and neg\n",
    "output_both = pd.DataFrame(list(zip(df_pos.v_forward.tolist() + df_neg.v_forward.tolist(), \n",
    "                                    df_pos.aa.tolist() + df_neg.aa.tolist())), columns = [\"v\", \"aa\"])\n",
    "\n",
    "output_both.to_csv(data_dir + \"both_TCRs_weighted_for_DePTH_comb_xcr_format.csv\", index = False)"
   ]
  },
  {
   "cell_type": "code",
   "execution_count": 30,
   "metadata": {},
   "outputs": [
    {
     "data": {
      "text/plain": [
       "(35089, 2)"
      ]
     },
     "execution_count": 30,
     "metadata": {},
     "output_type": "execute_result"
    }
   ],
   "source": [
    "output_both.shape"
   ]
  },
  {
   "cell_type": "code",
   "execution_count": null,
   "metadata": {},
   "outputs": [],
   "source": []
  }
 ],
 "metadata": {
  "kernelspec": {
   "display_name": "Python 3 (ipykernel)",
   "language": "python",
   "name": "python3"
  },
  "language_info": {
   "codemirror_mode": {
    "name": "ipython",
    "version": 3
   },
   "file_extension": ".py",
   "mimetype": "text/x-python",
   "name": "python",
   "nbconvert_exporter": "python",
   "pygments_lexer": "ipython3",
   "version": "3.9.10"
  }
 },
 "nbformat": 4,
 "nbformat_minor": 4
}
