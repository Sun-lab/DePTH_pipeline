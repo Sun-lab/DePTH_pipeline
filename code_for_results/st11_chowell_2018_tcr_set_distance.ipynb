{
 "cells": [
  {
   "cell_type": "markdown",
   "metadata": {},
   "source": [
    "This notebook prepares the subject-level distances and between-subject distances for Chowell 2018 combined and kept subjects\n",
    "\n",
    "This is the second step of the processing\n",
    "\n",
    "There is another step of processing (st10) before this one\n",
    "\n",
    "### HLA heterozygosity metrics for each subject\n",
    "\n",
    "    depth on Zheng 2021 positive TCRs, set (mean_DePTH_set)\n",
    "    \n",
    "    glazer on Zheng 2021 positive TCRs, set (mean_CLAIRE_set)\n",
    "    \n",
    "    depth on Zheng 2021 positive TCRs, breadth (DePTH_breadth)\n",
    "    \n",
    "    glazer on Zheng 2021 positive TCRs, breadth (CLAIRE_breadth)\n",
    "\n",
    "### optimal transport distance among subjects\n",
    "\n",
    "    depth on Zheng 2021 pos TCRs, set (dist_DePTH_breadth)\n",
    "    \n",
    "    glazer on Zheng 2021 pos TCRs, set (dist_CLAIRE_breadth)"
   ]
  },
  {
   "cell_type": "code",
   "execution_count": 1,
   "metadata": {},
   "outputs": [],
   "source": [
    "import pandas as pd\n",
    "import numpy as np\n",
    "\n",
    "import re\n",
    "\n",
    "from collections import defaultdict\n",
    "from collections import Counter\n",
    "\n",
    "import matplotlib.pyplot as plt"
   ]
  },
  {
   "cell_type": "code",
   "execution_count": 3,
   "metadata": {},
   "outputs": [
    {
     "name": "stdout",
     "output_type": "stream",
     "text": [
      "(10008, 85)\n",
      "(10008, 146)\n"
     ]
    }
   ],
   "source": [
    "# load the two predicted score files\n",
    "\n",
    "result_dir = \"../results/\"\n",
    "\n",
    "depth_file = \"st4_HLA_I_zheng_2021_ensemble_reshape_20.csv\"\n",
    "glazer_file = \"st8_Glazer_2022_server_on_zheng_2021_pos_extended_hlas_146.csv\" \n",
    "\n",
    "df_depth = pd.read_csv(result_dir + depth_file, header = 0)\n",
    "df_glazer = pd.read_csv(result_dir + glazer_file, header = 0)\n",
    "\n",
    "print(df_depth.shape)\n",
    "print(df_glazer.shape)"
   ]
  },
  {
   "cell_type": "code",
   "execution_count": 4,
   "metadata": {},
   "outputs": [],
   "source": [
    "# verify consistency between the columns of score files and the order in pseudo seq file\n",
    "ori_data_dir = \"../data/\"\n",
    "pseudo_file = \"for_encoders/HLA_I_pseudo_40.csv\"\n",
    "df_pseudo = pd.read_csv(ori_data_dir + pseudo_file, header = 0)"
   ]
  },
  {
   "cell_type": "code",
   "execution_count": 5,
   "metadata": {},
   "outputs": [
    {
     "data": {
      "text/plain": [
       "Counter({True: 85})"
      ]
     },
     "execution_count": 5,
     "metadata": {},
     "output_type": "execute_result"
    }
   ],
   "source": [
    "Counter([a==b for a,b in zip(df_pseudo.hla.tolist(), df_depth.columns.tolist())])"
   ]
  },
  {
   "cell_type": "code",
   "execution_count": 6,
   "metadata": {},
   "outputs": [],
   "source": [
    "# construct a dictionary of tcr index sets for HLAs\n",
    "# use threshold 0.5\n",
    "\n",
    "cutoff = 0.5\n",
    "\n",
    "depth_hla_dict = defaultdict(set)\n",
    "glazer_hla_dict = defaultdict(set)\n",
    "\n",
    "hla_85_list = df_depth.columns.tolist()\n",
    "hla_146_list = df_glazer.columns.tolist()\n",
    "\n",
    "for hla in hla_85_list:\n",
    "    hla_formatted = \"\".join(re.split('-|\\*|:', hla)[1:])\n",
    "    depth_cur_column = df_depth[hla].tolist()\n",
    "    depth_hla_dict[hla_formatted] = set([i for i, x in enumerate(depth_cur_column) if x>=cutoff])\n",
    "\n",
    "\n",
    "for hla in hla_146_list: \n",
    "\n",
    "    glazer_cur_column = df_glazer[hla].tolist()\n",
    "    glazer_hla_dict[hla] = set([i for i, x in enumerate(glazer_cur_column) if x>=cutoff])"
   ]
  },
  {
   "cell_type": "code",
   "execution_count": 7,
   "metadata": {},
   "outputs": [
    {
     "data": {
      "text/plain": [
       "3368"
      ]
     },
     "execution_count": 7,
     "metadata": {},
     "output_type": "execute_result"
    }
   ],
   "source": [
    "min([len(x) for x in depth_hla_dict.values()])"
   ]
  },
  {
   "cell_type": "code",
   "execution_count": 8,
   "metadata": {},
   "outputs": [
    {
     "data": {
      "text/plain": [
       "6007"
      ]
     },
     "execution_count": 8,
     "metadata": {},
     "output_type": "execute_result"
    }
   ],
   "source": [
    "max([len(x) for x in depth_hla_dict.values()])"
   ]
  },
  {
   "cell_type": "code",
   "execution_count": 9,
   "metadata": {},
   "outputs": [
    {
     "data": {
      "text/plain": [
       "2"
      ]
     },
     "execution_count": 9,
     "metadata": {},
     "output_type": "execute_result"
    }
   ],
   "source": [
    "min([len(x) for x in glazer_hla_dict.values()])"
   ]
  },
  {
   "cell_type": "code",
   "execution_count": 10,
   "metadata": {},
   "outputs": [
    {
     "data": {
      "text/plain": [
       "9880"
      ]
     },
     "execution_count": 10,
     "metadata": {},
     "output_type": "execute_result"
    }
   ],
   "source": [
    "max([len(x) for x in glazer_hla_dict.values()])"
   ]
  },
  {
   "cell_type": "code",
   "execution_count": 11,
   "metadata": {},
   "outputs": [],
   "source": [
    "# define a function to compute the distance between two sets\n",
    "\n",
    "def set_dist(a, b):\n",
    "    de = len(a.union(b))\n",
    "    nu = len(a-b) + len(b-a)\n",
    "    return(nu/de)"
   ]
  },
  {
   "cell_type": "code",
   "execution_count": 12,
   "metadata": {},
   "outputs": [],
   "source": [
    "# load the previously extended subject feature file to add v allele heterozygosity score \n",
    "# using set distance\n",
    "\n",
    "feature_file = \"st10_chowell_2018_depth_glazer_aa_scores.csv\"\n",
    "\n",
    "df_2018_kept = pd.read_csv(result_dir + feature_file, header=0)"
   ]
  },
  {
   "cell_type": "code",
   "execution_count": 13,
   "metadata": {},
   "outputs": [],
   "source": [
    "# create a dictionary for the distance between any two hla i alleles from \n",
    "# the 85 or 146 under consideration\n",
    "hla_i_85_format = [\"\".join(re.split('-|\\*|:', x)[1:]) for x in df_depth.columns.tolist()]\n",
    "hla_i_146_format = df_glazer.columns.tolist()\n",
    "\n",
    "# one dictionary based on associated TCRs from one resource\n",
    "depth_dict = defaultdict(float)\n",
    "glazer_dict = defaultdict(float)\n",
    "\n",
    "for a in hla_i_85_format:\n",
    "    cur_a_set = depth_hla_dict[a]\n",
    "    for b in hla_i_85_format:\n",
    "        cur_b_set = depth_hla_dict[b]\n",
    "        depth_dict[(a, b)] = set_dist(cur_a_set, cur_b_set)\n",
    "\n",
    "for a in hla_i_146_format:\n",
    "    cur_a_set = glazer_hla_dict[a]\n",
    "    for b in hla_i_146_format:\n",
    "        cur_b_set = glazer_hla_dict[b]\n",
    "        glazer_dict[(a, b)] = set_dist(cur_a_set, cur_b_set)"
   ]
  },
  {
   "cell_type": "code",
   "execution_count": 14,
   "metadata": {},
   "outputs": [
    {
     "data": {
      "image/png": "[encoded data removed]",
      "text/plain": [
       "<Figure size 432x288 with 1 Axes>"
      ]
     },
     "metadata": {
      "needs_background": "light"
     },
     "output_type": "display_data"
    }
   ],
   "source": [
    "plt.hist(depth_dict.values())\n",
    "plt.show()"
   ]
  },
  {
   "cell_type": "code",
   "execution_count": 15,
   "metadata": {},
   "outputs": [
    {
     "data": {
      "image/png": "[encoded data removed]",
      "text/plain": [
       "<Figure size 432x288 with 1 Axes>"
      ]
     },
     "metadata": {
      "needs_background": "light"
     },
     "output_type": "display_data"
    }
   ],
   "source": [
    "plt.hist(glazer_dict.values())\n",
    "plt.show()"
   ]
  },
  {
   "cell_type": "code",
   "execution_count": 16,
   "metadata": {},
   "outputs": [
    {
     "data": {
      "image/png": "[encoded data removed]",
      "text/plain": [
       "<Figure size 432x288 with 1 Axes>"
      ]
     },
     "metadata": {
      "needs_background": "light"
     },
     "output_type": "display_data"
    }
   ],
   "source": [
    "plot_depth_dict_keys = list(depth_dict.keys())\n",
    "plot_depth_dict_values = [depth_dict[x] for x in plot_depth_dict_keys]\n",
    "plot_glazer_dict_values = [glazer_dict[x] for x in plot_depth_dict_keys]\n",
    "\n",
    "plt.scatter(plot_depth_dict_values, plot_glazer_dict_values)\n",
    "plt.show()"
   ]
  },
  {
   "cell_type": "code",
   "execution_count": 17,
   "metadata": {},
   "outputs": [
    {
     "data": {
      "text/html": [
       "<div>\n",
       "<style scoped>\n",
       "    .dataframe tbody tr th:only-of-type {\n",
       "        vertical-align: middle;\n",
       "    }\n",
       "\n",
       "    .dataframe tbody tr th {\n",
       "        vertical-align: top;\n",
       "    }\n",
       "\n",
       "    .dataframe thead th {\n",
       "        text-align: right;\n",
       "    }\n",
       "</style>\n",
       "<table border=\"1\" class=\"dataframe\">\n",
       "  <thead>\n",
       "    <tr style=\"text-align: right;\">\n",
       "      <th></th>\n",
       "      <th>ID</th>\n",
       "      <th>age</th>\n",
       "      <th>age_group</th>\n",
       "      <th>os_months</th>\n",
       "      <th>os_event</th>\n",
       "      <th>mutcnt</th>\n",
       "      <th>gender</th>\n",
       "      <th>drug_class</th>\n",
       "      <th>cancer_type</th>\n",
       "      <th>stage_m</th>\n",
       "      <th>stage</th>\n",
       "      <th>reference</th>\n",
       "      <th>hla_class_i_alleles</th>\n",
       "      <th>homozygous</th>\n",
       "      <th>hla_class_i_alleles_replace</th>\n",
       "      <th>depth_ave</th>\n",
       "      <th>glazer_ave</th>\n",
       "      <th>aa_ave</th>\n",
       "      <th>log_mutcnt</th>\n",
       "    </tr>\n",
       "  </thead>\n",
       "  <tbody>\n",
       "    <tr>\n",
       "      <th>0</th>\n",
       "      <td>CR0095</td>\n",
       "      <td>74.0</td>\n",
       "      <td>&gt;71</td>\n",
       "      <td>67.936885</td>\n",
       "      <td>0.0</td>\n",
       "      <td>9.400000</td>\n",
       "      <td>M</td>\n",
       "      <td>CTLA-4</td>\n",
       "      <td>Melanoma</td>\n",
       "      <td>M1b</td>\n",
       "      <td>Stage 4</td>\n",
       "      <td>Snyder et al. 2014</td>\n",
       "      <td>A0201,A3101,B3502,B3906,C0702,C0401</td>\n",
       "      <td>0.0</td>\n",
       "      <td>A0201,A3101,B3502,B3906,C0702,C0401</td>\n",
       "      <td>0.039943</td>\n",
       "      <td>0.527117</td>\n",
       "      <td>0.266016</td>\n",
       "      <td>0.973590</td>\n",
       "    </tr>\n",
       "    <tr>\n",
       "      <th>1</th>\n",
       "      <td>CR04885</td>\n",
       "      <td>49.0</td>\n",
       "      <td>31-50</td>\n",
       "      <td>25.617525</td>\n",
       "      <td>0.0</td>\n",
       "      <td>70.066667</td>\n",
       "      <td>F</td>\n",
       "      <td>CTLA-4</td>\n",
       "      <td>Melanoma</td>\n",
       "      <td>M0</td>\n",
       "      <td>Stage 3</td>\n",
       "      <td>Snyder et al. 2014</td>\n",
       "      <td>A0201,A3201,B0702,B1801,C0701,C0702</td>\n",
       "      <td>0.0</td>\n",
       "      <td>A0201,A3201,B0702,B1801,C0701,C0702</td>\n",
       "      <td>0.033624</td>\n",
       "      <td>0.358978</td>\n",
       "      <td>0.239550</td>\n",
       "      <td>1.845573</td>\n",
       "    </tr>\n",
       "  </tbody>\n",
       "</table>\n",
       "</div>"
      ],
      "text/plain": [
       "        ID   age age_group  os_months  os_event     mutcnt gender drug_class  \\\n",
       "0   CR0095  74.0       >71  67.936885       0.0   9.400000      M     CTLA-4   \n",
       "1  CR04885  49.0     31-50  25.617525       0.0  70.066667      F     CTLA-4   \n",
       "\n",
       "  cancer_type stage_m    stage           reference  \\\n",
       "0    Melanoma     M1b  Stage 4  Snyder et al. 2014   \n",
       "1    Melanoma      M0  Stage 3  Snyder et al. 2014   \n",
       "\n",
       "                   hla_class_i_alleles  homozygous  \\\n",
       "0  A0201,A3101,B3502,B3906,C0702,C0401         0.0   \n",
       "1  A0201,A3201,B0702,B1801,C0701,C0702         0.0   \n",
       "\n",
       "           hla_class_i_alleles_replace  depth_ave  glazer_ave    aa_ave  \\\n",
       "0  A0201,A3101,B3502,B3906,C0702,C0401   0.039943    0.527117  0.266016   \n",
       "1  A0201,A3201,B0702,B1801,C0701,C0702   0.033624    0.358978  0.239550   \n",
       "\n",
       "   log_mutcnt  \n",
       "0    0.973590  \n",
       "1    1.845573  "
      ]
     },
     "execution_count": 17,
     "metadata": {},
     "output_type": "execute_result"
    }
   ],
   "source": [
    "df_2018_kept[:2]"
   ]
  },
  {
   "cell_type": "code",
   "execution_count": 18,
   "metadata": {},
   "outputs": [],
   "source": [
    "# compute the distance based on both two set-based TCR resources for each subject\n",
    "\n",
    "\n",
    "genotype_replace_list = [x.split(\",\") for x in df_2018_kept.hla_class_i_alleles_replace.tolist()]\n",
    "\n",
    "set_depth_aa = []\n",
    "set_depth_bb = []\n",
    "set_depth_cc = []\n",
    "\n",
    "for genotype in genotype_replace_list:\n",
    "    set_depth_aa += [depth_dict[(genotype[0], genotype[1])]]\n",
    "    set_depth_bb += [depth_dict[(genotype[2], genotype[3])]]   \n",
    "    set_depth_cc += [depth_dict[(genotype[4], genotype[5])]]\n",
    "\n",
    "set_depth_ave = [(x+y+z)/3 for x,y,z in zip(set_depth_aa, set_depth_bb, set_depth_cc)]\n",
    "\n",
    "\n",
    "\n",
    "genotype_list = [x.split(\",\") for x in df_2018_kept.hla_class_i_alleles.tolist()]\n",
    "\n",
    "set_glazer_aa = []\n",
    "set_glazer_bb = []\n",
    "set_glazer_cc = []\n",
    "\n",
    "for genotype in genotype_list:\n",
    "    set_glazer_aa += [glazer_dict[(genotype[0], genotype[1])]]\n",
    "    set_glazer_bb += [glazer_dict[(genotype[2], genotype[3])]]   \n",
    "    set_glazer_cc += [glazer_dict[(genotype[4], genotype[5])]]\n",
    "\n",
    "set_glazer_ave = [(x+y+z)/3 for x,y,z in zip(set_glazer_aa, set_glazer_bb, set_glazer_cc)]"
   ]
  },
  {
   "cell_type": "code",
   "execution_count": 19,
   "metadata": {},
   "outputs": [],
   "source": [
    "df_2018_kept[\"depth_set_ave\"] = set_depth_ave\n",
    "df_2018_kept[\"glazer_set_ave\"] = set_glazer_ave"
   ]
  },
  {
   "cell_type": "code",
   "execution_count": 20,
   "metadata": {},
   "outputs": [
    {
     "data": {
      "text/plain": [
       "(1443, 21)"
      ]
     },
     "execution_count": 20,
     "metadata": {},
     "output_type": "execute_result"
    }
   ],
   "source": [
    "df_2018_kept.shape"
   ]
  },
  {
   "cell_type": "code",
   "execution_count": 21,
   "metadata": {},
   "outputs": [
    {
     "data": {
      "text/plain": [
       "['ID',\n",
       " 'age',\n",
       " 'age_group',\n",
       " 'os_months',\n",
       " 'os_event',\n",
       " 'mutcnt',\n",
       " 'gender',\n",
       " 'drug_class',\n",
       " 'cancer_type',\n",
       " 'stage_m',\n",
       " 'stage',\n",
       " 'reference',\n",
       " 'hla_class_i_alleles',\n",
       " 'homozygous',\n",
       " 'hla_class_i_alleles_replace',\n",
       " 'depth_ave',\n",
       " 'glazer_ave',\n",
       " 'aa_ave',\n",
       " 'log_mutcnt',\n",
       " 'depth_set_ave',\n",
       " 'glazer_set_ave']"
      ]
     },
     "execution_count": 21,
     "metadata": {},
     "output_type": "execute_result"
    }
   ],
   "source": [
    "df_2018_kept.columns.tolist()"
   ]
  },
  {
   "cell_type": "code",
   "execution_count": 22,
   "metadata": {},
   "outputs": [
    {
     "data": {
      "image/png": "[encoded data removed]",
      "text/plain": [
       "<Figure size 432x288 with 1 Axes>"
      ]
     },
     "metadata": {
      "needs_background": "light"
     },
     "output_type": "display_data"
    }
   ],
   "source": [
    "plt.scatter(df_2018_kept.depth_ave, df_2018_kept.depth_set_ave)\n",
    "plt.show()"
   ]
  },
  {
   "cell_type": "code",
   "execution_count": 23,
   "metadata": {},
   "outputs": [],
   "source": [
    "# compute hla breadth metric for each subject\n",
    "# compute distances between subjects\n",
    "\n",
    "\n",
    "# first, get list of sets with unioned set of TCRs as the set\n",
    "\n",
    "depth_subject_list = []\n",
    "glazer_subject_list = []\n",
    "\n",
    "for geno in genotype_replace_list:\n",
    "    \n",
    "    six_depth_sets = [depth_hla_dict[geno[0]], depth_hla_dict[geno[1]], \n",
    "                      depth_hla_dict[geno[2]], depth_hla_dict[geno[3]],\n",
    "                      depth_hla_dict[geno[4]], depth_hla_dict[geno[5]]]\n",
    "                    \n",
    "    cur_depth_union = set().union(*six_depth_sets)\n",
    "                    \n",
    "    depth_subject_list += [cur_depth_union]\n",
    "    \n",
    "    \n",
    "for geno in genotype_list:\n",
    "    \n",
    "    six_glazer_sets = [glazer_hla_dict[geno[0]], glazer_hla_dict[geno[1]], \n",
    "                       glazer_hla_dict[geno[2]], glazer_hla_dict[geno[3]],\n",
    "                       glazer_hla_dict[geno[4]], glazer_hla_dict[geno[5]]]\n",
    "                    \n",
    "    cur_glazer_union = set().union(*six_glazer_sets)\n",
    "                    \n",
    "    glazer_subject_list += [cur_glazer_union]  \n",
    "    \n",
    "    \n",
    "# second, get hla breadth for each subject\n",
    "\n",
    "depth_breadth = [len(x) for x in depth_subject_list]\n",
    "glazer_breadth = [len(x) for x in glazer_subject_list]\n",
    "   \n",
    "    \n",
    "df_2018_kept[\"depth_breadth\"] = depth_breadth\n",
    "df_2018_kept[\"glazer_breadth\"] = glazer_breadth\n",
    "    \n",
    "    \n",
    "# third, compute the set distances\n",
    "\n",
    "set_depth_mat = []\n",
    "\n",
    "for a in depth_subject_list:\n",
    "    cur_depth_row = []\n",
    "    for b in depth_subject_list:\n",
    "        cur_depth_row += [set_dist(a, b)]\n",
    "    set_depth_mat += [cur_depth_row]\n",
    "    \n",
    "set_glazer_mat = []\n",
    "\n",
    "for a in glazer_subject_list:\n",
    "    cur_glazer_row = []\n",
    "    for b in glazer_subject_list:\n",
    "        cur_glazer_row += [set_dist(a, b)]\n",
    "    set_glazer_mat += [cur_glazer_row]"
   ]
  },
  {
   "cell_type": "code",
   "execution_count": 24,
   "metadata": {},
   "outputs": [
    {
     "data": {
      "image/png": "[encoded data removed]",
      "text/plain": [
       "<Figure size 432x288 with 1 Axes>"
      ]
     },
     "metadata": {
      "needs_background": "light"
     },
     "output_type": "display_data"
    }
   ],
   "source": [
    "plt.scatter([x for cur in set_depth_mat for x in cur], \n",
    "            [x for cur in set_glazer_mat for x in cur])\n",
    "plt.show()"
   ]
  },
  {
   "cell_type": "code",
   "execution_count": 25,
   "metadata": {},
   "outputs": [
    {
     "data": {
      "image/png": "[encoded data removed]",
      "text/plain": [
       "<Figure size 432x288 with 1 Axes>"
      ]
     },
     "metadata": {
      "needs_background": "light"
     },
     "output_type": "display_data"
    }
   ],
   "source": [
    "plt.scatter(df_2018_kept.depth_breadth, df_2018_kept.glazer_breadth)\n",
    "plt.show()"
   ]
  },
  {
   "cell_type": "code",
   "execution_count": 26,
   "metadata": {},
   "outputs": [],
   "source": [
    "# save the extended df_2018_kept file out\n",
    "df_2018_kept.to_csv(\"../results/st11_chowell_2018_depth_glazer_aa_set_breadth.csv\", \n",
    "                    index = False)"
   ]
  },
  {
   "cell_type": "code",
   "execution_count": 27,
   "metadata": {},
   "outputs": [],
   "source": [
    "df_set_depth = pd.DataFrame(set_depth_mat)\n",
    "df_set_depth.columns = df_2018_kept['ID'].tolist()\n",
    "\n",
    "df_set_glazer = pd.DataFrame(set_glazer_mat)\n",
    "df_set_glazer.columns = df_2018_kept['ID'].tolist()"
   ]
  },
  {
   "cell_type": "code",
   "execution_count": 28,
   "metadata": {},
   "outputs": [],
   "source": [
    "df_set_depth.to_csv(\"../results/st11_chowell_2018_kept_depth_set_mat.csv\", index = False)\n",
    "df_set_glazer.to_csv(\"../results/st11_chowell_2018_kept_glazer_set_mat.csv\", index = False)"
   ]
  },
  {
   "cell_type": "code",
   "execution_count": null,
   "metadata": {},
   "outputs": [],
   "source": []
  }
 ],
 "metadata": {
  "kernelspec": {
   "display_name": "Python 3 (ipykernel)",
   "language": "python",
   "name": "python3"
  },
  "language_info": {
   "codemirror_mode": {
    "name": "ipython",
    "version": 3
   },
   "file_extension": ".py",
   "mimetype": "text/x-python",
   "name": "python",
   "nbconvert_exporter": "python",
   "pygments_lexer": "ipython3",
   "version": "3.9.10"
  }
 },
 "nbformat": 4,
 "nbformat_minor": 4
}
