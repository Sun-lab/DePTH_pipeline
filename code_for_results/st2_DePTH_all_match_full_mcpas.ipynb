{
 "cells": [
  {
   "cell_type": "markdown",
   "metadata": {},
   "source": [
    "Get AUCs from:\n",
    "\n",
    "    DePTH models trained on Emerson and tested on McPAS\n",
    "    DePTH models trained on McPAS and tested on Emerson"
   ]
  },
  {
   "cell_type": "code",
   "execution_count": 1,
   "metadata": {},
   "outputs": [],
   "source": [
    "import pandas as pd\n",
    "import numpy as np\n",
    "\n",
    "from collections import defaultdict\n",
    "from collections import Counter\n",
    "\n",
    "from sklearn import metrics\n",
    "\n",
    "import pickle\n",
    "\n",
    "import matplotlib.pyplot as plt\n",
    "\n",
    "import math"
   ]
  },
  {
   "cell_type": "markdown",
   "metadata": {},
   "source": [
    "### DePTH models trained on Emerson and tested on McPAS"
   ]
  },
  {
   "cell_type": "code",
   "execution_count": 5,
   "metadata": {},
   "outputs": [
    {
     "name": "stdout",
     "output_type": "stream",
     "text": [
      "(1041, 3)\n",
      "(1045, 3)\n"
     ]
    }
   ],
   "source": [
    "cur_setting = \"HLA_I_all_match_full_mcpas\"\n",
    "\n",
    "test_neg_score_file = \"results/ensemble_scores/\"+cur_setting+\"/\"+cur_setting+\"_test_neg_20.csv\"\n",
    "test_pos_score_file = \"results/ensemble_scores/\"+cur_setting+\"/\"+cur_setting+\"_test_pos_20.csv\"\n",
    "\n",
    "df_test_neg_scores = pd.read_csv(test_neg_score_file, header = 0)\n",
    "df_test_pos_scores = pd.read_csv(test_pos_score_file, header = 0)\n",
    "\n",
    "print(df_test_neg_scores.shape)\n",
    "print(df_test_pos_scores.shape)"
   ]
  },
  {
   "cell_type": "code",
   "execution_count": 6,
   "metadata": {},
   "outputs": [
    {
     "data": {
      "text/html": [
       "<div>\n",
       "<style scoped>\n",
       "    .dataframe tbody tr th:only-of-type {\n",
       "        vertical-align: middle;\n",
       "    }\n",
       "\n",
       "    .dataframe tbody tr th {\n",
       "        vertical-align: top;\n",
       "    }\n",
       "\n",
       "    .dataframe thead th {\n",
       "        text-align: right;\n",
       "    }\n",
       "</style>\n",
       "<table border=\"1\" class=\"dataframe\">\n",
       "  <thead>\n",
       "    <tr style=\"text-align: right;\">\n",
       "      <th></th>\n",
       "      <th>tcr</th>\n",
       "      <th>hla_allele</th>\n",
       "      <th>ave</th>\n",
       "    </tr>\n",
       "  </thead>\n",
       "  <tbody>\n",
       "    <tr>\n",
       "      <th>0</th>\n",
       "      <td>TRBV7-2*01,CASSSSQGNQPQHF</td>\n",
       "      <td>HLA-A*02:01</td>\n",
       "      <td>0.045889</td>\n",
       "    </tr>\n",
       "    <tr>\n",
       "      <th>1</th>\n",
       "      <td>TRBV30*01,CAWEKGTSGTYEQYF</td>\n",
       "      <td>HLA-A*11:01</td>\n",
       "      <td>0.407014</td>\n",
       "    </tr>\n",
       "    <tr>\n",
       "      <th>2</th>\n",
       "      <td>TRBV27*01,CASKQGAGGLYEQYF</td>\n",
       "      <td>HLA-C*07:02</td>\n",
       "      <td>0.937733</td>\n",
       "    </tr>\n",
       "    <tr>\n",
       "      <th>3</th>\n",
       "      <td>TRBV7-9*01,CASSPQGINTEAFF</td>\n",
       "      <td>HLA-C*07:02</td>\n",
       "      <td>0.309623</td>\n",
       "    </tr>\n",
       "    <tr>\n",
       "      <th>4</th>\n",
       "      <td>TRBV20-1*01,CSARSYSGSSYNEQFF</td>\n",
       "      <td>HLA-A*02:01</td>\n",
       "      <td>0.223652</td>\n",
       "    </tr>\n",
       "    <tr>\n",
       "      <th>5</th>\n",
       "      <td>TRBV12-4*01,CASSLGRELAEAF</td>\n",
       "      <td>HLA-A*02:01</td>\n",
       "      <td>0.016392</td>\n",
       "    </tr>\n",
       "  </tbody>\n",
       "</table>\n",
       "</div>"
      ],
      "text/plain": [
       "                            tcr   hla_allele       ave\n",
       "0     TRBV7-2*01,CASSSSQGNQPQHF  HLA-A*02:01  0.045889\n",
       "1     TRBV30*01,CAWEKGTSGTYEQYF  HLA-A*11:01  0.407014\n",
       "2     TRBV27*01,CASKQGAGGLYEQYF  HLA-C*07:02  0.937733\n",
       "3     TRBV7-9*01,CASSPQGINTEAFF  HLA-C*07:02  0.309623\n",
       "4  TRBV20-1*01,CSARSYSGSSYNEQFF  HLA-A*02:01  0.223652\n",
       "5     TRBV12-4*01,CASSLGRELAEAF  HLA-A*02:01  0.016392"
      ]
     },
     "execution_count": 6,
     "metadata": {},
     "output_type": "execute_result"
    }
   ],
   "source": [
    "df_test_neg_scores[:6]"
   ]
  },
  {
   "cell_type": "code",
   "execution_count": 7,
   "metadata": {},
   "outputs": [
    {
     "data": {
      "text/plain": [
       "0.517122384163185"
      ]
     },
     "execution_count": 7,
     "metadata": {},
     "output_type": "execute_result"
    }
   ],
   "source": [
    "test_y = [0 for _ in range(df_test_neg_scores.shape[0])] + [1 for _ in range(df_test_pos_scores.shape[0])]\n",
    "test_pred = df_test_neg_scores.ave.tolist() + df_test_pos_scores.ave.tolist()\n",
    "\n",
    "fpr, tpr, thresholds = metrics.roc_curve(test_y, test_pred, pos_label=1)\n",
    "metrics.auc(fpr, tpr)"
   ]
  },
  {
   "cell_type": "markdown",
   "metadata": {},
   "source": [
    "### DePTH models trained on McPAS and tested on Emerson"
   ]
  },
  {
   "cell_type": "code",
   "execution_count": 13,
   "metadata": {},
   "outputs": [
    {
     "name": "stdout",
     "output_type": "stream",
     "text": [
      "(6420, 3)\n",
      "(1284, 3)\n"
     ]
    }
   ],
   "source": [
    "cur_setting = \"HLA_I_full_mcpas_all_match\"\n",
    "\n",
    "test_neg_score_file = \"results/ensemble_scores/\"+cur_setting+\"/\"+cur_setting+\"_test_neg_20.csv\"\n",
    "test_pos_score_file = \"results/ensemble_scores/\"+cur_setting+\"/\"+cur_setting+\"_test_pos_20.csv\"\n",
    "\n",
    "df_test_neg_scores = pd.read_csv(test_neg_score_file, header = 0)\n",
    "df_test_pos_scores = pd.read_csv(test_pos_score_file, header = 0)\n",
    "\n",
    "print(df_test_neg_scores.shape)\n",
    "print(df_test_pos_scores.shape)"
   ]
  },
  {
   "cell_type": "code",
   "execution_count": 14,
   "metadata": {},
   "outputs": [
    {
     "data": {
      "text/plain": [
       "0.5200849661785114"
      ]
     },
     "execution_count": 14,
     "metadata": {},
     "output_type": "execute_result"
    }
   ],
   "source": [
    "test_y = [0 for _ in range(df_test_neg_scores.shape[0])] + [1 for _ in range(df_test_pos_scores.shape[0])]\n",
    "test_pred = df_test_neg_scores.ave.tolist() + df_test_pos_scores.ave.tolist()\n",
    "\n",
    "fpr, tpr, thresholds = metrics.roc_curve(test_y, test_pred, pos_label=1)\n",
    "metrics.auc(fpr, tpr)"
   ]
  },
  {
   "cell_type": "code",
   "execution_count": null,
   "metadata": {},
   "outputs": [],
   "source": []
  }
 ],
 "metadata": {
  "kernelspec": {
   "display_name": "Python 3 (ipykernel)",
   "language": "python",
   "name": "python3"
  },
  "language_info": {
   "codemirror_mode": {
    "name": "ipython",
    "version": 3
   },
   "file_extension": ".py",
   "mimetype": "text/x-python",
   "name": "python",
   "nbconvert_exporter": "python",
   "pygments_lexer": "ipython3",
   "version": "3.9.10"
  }
 },
 "nbformat": 4,
 "nbformat_minor": 4
}
