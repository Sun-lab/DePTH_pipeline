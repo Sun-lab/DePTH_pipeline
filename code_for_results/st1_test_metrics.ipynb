{
 "cells": [
  {
   "cell_type": "markdown",
   "metadata": {},
   "source": [
    "Get \n",
    "\n",
    "    AUC\n",
    "    recall\n",
    "    specificity\n",
    "    \n",
    "for each data "
   ]
  },
  {
   "cell_type": "code",
   "execution_count": 1,
   "metadata": {},
   "outputs": [],
   "source": [
    "import pandas as pd\n",
    "import numpy as np\n",
    "\n",
    "from collections import defaultdict\n",
    "from collections import Counter\n",
    "\n",
    "from sklearn import metrics\n",
    "\n",
    "import matplotlib.pyplot as plt"
   ]
  },
  {
   "cell_type": "code",
   "execution_count": 2,
   "metadata": {},
   "outputs": [],
   "source": [
    "data_list = [\"HLA_I_all_match\", \"HLA_II_all_match\", \"HLA_I_full_mcpas\", \\\n",
    "             \"HLA_I_leave1out_match_B0702\", \"HLA_I_leave1out_match_B0801\", \\\n",
    "             \"HLA_I_leave1out_match_C0701\"]\n",
    "\n",
    "\n",
    "ensemble_dir = \"results/ensemble_scores/\""
   ]
  },
  {
   "cell_type": "code",
   "execution_count": 4,
   "metadata": {},
   "outputs": [
    {
     "name": "stdout",
     "output_type": "stream",
     "text": [
      "HLA_I_all_match :\n",
      "AUC  0.82\n",
      "recall  0.63\n",
      "precision  0.86\n",
      "HLA_II_all_match :\n",
      "AUC  0.79\n",
      "recall  0.63\n",
      "precision  0.8\n",
      "HLA_I_full_mcpas :\n",
      "AUC  0.79\n",
      "recall  0.72\n",
      "precision  0.71\n",
      "HLA_I_leave1out_match_B0702 :\n",
      "AUC  0.69\n",
      "recall  0.22\n",
      "precision  0.95\n",
      "HLA_I_leave1out_match_B0801 :\n",
      "AUC  0.64\n",
      "recall  0.26\n",
      "precision  0.92\n",
      "HLA_I_leave1out_match_C0701 :\n",
      "AUC  0.69\n",
      "recall  0.31\n",
      "precision  0.92\n"
     ]
    }
   ],
   "source": [
    "for cur_data in data_list:\n",
    "    \n",
    "    print(cur_data, \":\")\n",
    "    \n",
    "    df_test_pos = pd.read_csv(ensemble_dir+cur_data+\"/\"+cur_data+\"_test_pos_20.csv\", header=0)\n",
    "    df_test_neg = pd.read_csv(ensemble_dir+cur_data+\"/\"+cur_data+\"_test_neg_20.csv\", header=0)\n",
    "    \n",
    "    pos_scores = df_test_pos.ave.tolist()\n",
    "    neg_scores = df_test_neg.ave.tolist()\n",
    "    \n",
    "    test_y = [0 for _ in range(df_test_neg.shape[0])] + [1 for _ in range(df_test_pos.shape[0])]\n",
    "    test_pred = neg_scores + pos_scores\n",
    "\n",
    "    fpr, tpr, thresholds = metrics.roc_curve(test_y, test_pred, pos_label=1)\n",
    "    print(\"AUC \", round(metrics.auc(fpr, tpr), 2))\n",
    "    print(\"recall \", round(sum([x>0.5 for x in pos_scores])/len(pos_scores), 2))\n",
    "    print(\"precision \", round(sum([x<=0.5 for x in neg_scores])/len(neg_scores), 2))"
   ]
  },
  {
   "cell_type": "code",
   "execution_count": null,
   "metadata": {},
   "outputs": [],
   "source": []
  }
 ],
 "metadata": {
  "kernelspec": {
   "display_name": "Python 3 (ipykernel)",
   "language": "python",
   "name": "python3"
  },
  "language_info": {
   "codemirror_mode": {
    "name": "ipython",
    "version": 3
   },
   "file_extension": ".py",
   "mimetype": "text/x-python",
   "name": "python",
   "nbconvert_exporter": "python",
   "pygments_lexer": "ipython3",
   "version": "3.9.10"
  }
 },
 "nbformat": 4,
 "nbformat_minor": 4
}
