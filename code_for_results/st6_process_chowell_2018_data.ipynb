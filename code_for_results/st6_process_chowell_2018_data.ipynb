{
 "cells": [
  {
   "cell_type": "markdown",
   "metadata": {},
   "source": [
    "Look into Chowell 2018 data\n",
    "\n",
    "    -> find all HLA-I alleles from Chowell 2018 data that either belong to or have match in the 85 HLA-I alleles with pseudo sequences, and output a file of all these 146 HLA-I alleles to submit to CLAIRE server for prediction\n",
    "    \n",
    "    -> combine two sheets from Chowell 2018 data into one data frame, process, add matched HLA-I alleles and save out.\n",
    "    \n",
    "Note that the mutcnt from sheet 1 should be divided by 30 before matching combining\n",
    "with the results from sheet 2"
   ]
  },
  {
   "cell_type": "code",
   "execution_count": 3,
   "metadata": {},
   "outputs": [],
   "source": [
    "import pandas as pd\n",
    "import numpy as np\n",
    "\n",
    "from collections import defaultdict\n",
    "from collections import Counter\n",
    "\n",
    "import re"
   ]
  },
  {
   "cell_type": "code",
   "execution_count": 2,
   "metadata": {},
   "outputs": [],
   "source": [
    "import matplotlib.pyplot as plt"
   ]
  },
  {
   "cell_type": "code",
   "execution_count": 4,
   "metadata": {},
   "outputs": [],
   "source": [
    "data_dir = \"../data/\"\n",
    "chowell_folder = \"Chowell_2018/\""
   ]
  },
  {
   "cell_type": "code",
   "execution_count": 5,
   "metadata": {},
   "outputs": [
    {
     "name": "stderr",
     "output_type": "stream",
     "text": [
      "/Users/sliu/opt/anaconda3/envs/conga_jan_2022/lib/python3.9/site-packages/openpyxl/worksheet/_reader.py:300: UserWarning: Unknown extension is not supported and will be removed\n",
      "  warn(msg)\n"
     ]
    },
    {
     "data": {
      "text/plain": [
       "(371, 15)"
      ]
     },
     "execution_count": 5,
     "metadata": {},
     "output_type": "execute_result"
    }
   ],
   "source": [
    "spreadsheet = \"aao4572_chowell_sm-table-s9.xlsx\"\n",
    "\n",
    "df_2018_1 = pd.read_excel(data_dir + chowell_folder + spreadsheet, 'Cohort 1')\n",
    "df_2018_1.shape"
   ]
  },
  {
   "cell_type": "code",
   "execution_count": 6,
   "metadata": {},
   "outputs": [
    {
     "data": {
      "text/html": [
       "<div>\n",
       "<style scoped>\n",
       "    .dataframe tbody tr th:only-of-type {\n",
       "        vertical-align: middle;\n",
       "    }\n",
       "\n",
       "    .dataframe tbody tr th {\n",
       "        vertical-align: top;\n",
       "    }\n",
       "\n",
       "    .dataframe thead th {\n",
       "        text-align: right;\n",
       "    }\n",
       "</style>\n",
       "<table border=\"1\" class=\"dataframe\">\n",
       "  <thead>\n",
       "    <tr style=\"text-align: right;\">\n",
       "      <th></th>\n",
       "      <th>Sample</th>\n",
       "      <th>OS_Months</th>\n",
       "      <th>OS_Event</th>\n",
       "      <th>Drug Class</th>\n",
       "      <th>Stage M</th>\n",
       "      <th>Stage</th>\n",
       "      <th>Age</th>\n",
       "      <th>Gender</th>\n",
       "      <th>MutCnt</th>\n",
       "      <th>Cancer Type</th>\n",
       "      <th>Reference</th>\n",
       "      <th>HLA Class I Alleles</th>\n",
       "      <th>HLA Class I Supertypes</th>\n",
       "      <th>Homozygous (1=Yes; 0=No)</th>\n",
       "      <th>LOH (1=Yes; 0=No)</th>\n",
       "    </tr>\n",
       "  </thead>\n",
       "  <tbody>\n",
       "    <tr>\n",
       "      <th>0</th>\n",
       "      <td>CR0095</td>\n",
       "      <td>67.936885</td>\n",
       "      <td>0.0</td>\n",
       "      <td>CTLA-4</td>\n",
       "      <td>M1b</td>\n",
       "      <td>Stage 4</td>\n",
       "      <td>74.0</td>\n",
       "      <td>M</td>\n",
       "      <td>282.0</td>\n",
       "      <td>Melanoma</td>\n",
       "      <td>Snyder et al. 2014</td>\n",
       "      <td>A0201,A3101,B3502,B3906,C0702,C0401</td>\n",
       "      <td>A02,A03,B07,B27,UNK,UNK</td>\n",
       "      <td>0.0</td>\n",
       "      <td>0.0</td>\n",
       "    </tr>\n",
       "    <tr>\n",
       "      <th>1</th>\n",
       "      <td>CR04885</td>\n",
       "      <td>25.617525</td>\n",
       "      <td>0.0</td>\n",
       "      <td>CTLA-4</td>\n",
       "      <td>M0</td>\n",
       "      <td>Stage 3</td>\n",
       "      <td>49.0</td>\n",
       "      <td>F</td>\n",
       "      <td>2102.0</td>\n",
       "      <td>Melanoma</td>\n",
       "      <td>Snyder et al. 2014</td>\n",
       "      <td>A0201,A3201,B0702,B1801,C0701,C0702</td>\n",
       "      <td>A02,A01,B07,B44,UNK,UNK</td>\n",
       "      <td>0.0</td>\n",
       "      <td>0.0</td>\n",
       "    </tr>\n",
       "    <tr>\n",
       "      <th>2</th>\n",
       "      <td>CR06670</td>\n",
       "      <td>44.430394</td>\n",
       "      <td>1.0</td>\n",
       "      <td>CTLA-4</td>\n",
       "      <td>M0</td>\n",
       "      <td>Stage 3</td>\n",
       "      <td>79.0</td>\n",
       "      <td>F</td>\n",
       "      <td>590.0</td>\n",
       "      <td>Melanoma</td>\n",
       "      <td>Snyder et al. 2014</td>\n",
       "      <td>A2402,A2601,B1801,B4403,C1601,C1203</td>\n",
       "      <td>A24,A01,B44,B44,UNK,UNK</td>\n",
       "      <td>0.0</td>\n",
       "      <td>0.0</td>\n",
       "    </tr>\n",
       "  </tbody>\n",
       "</table>\n",
       "</div>"
      ],
      "text/plain": [
       "    Sample  OS_Months  OS_Event Drug Class Stage M    Stage  Age  Gender  \\\n",
       "0   CR0095  67.936885       0.0     CTLA-4     M1b  Stage 4  74.0      M   \n",
       "1  CR04885  25.617525       0.0     CTLA-4      M0  Stage 3  49.0      F   \n",
       "2  CR06670  44.430394       1.0     CTLA-4      M0  Stage 3  79.0      F   \n",
       "\n",
       "   MutCnt Cancer Type           Reference  \\\n",
       "0   282.0    Melanoma  Snyder et al. 2014   \n",
       "1  2102.0    Melanoma  Snyder et al. 2014   \n",
       "2   590.0    Melanoma  Snyder et al. 2014   \n",
       "\n",
       "                   HLA Class I Alleles   HLA Class I Supertypes  \\\n",
       "0  A0201,A3101,B3502,B3906,C0702,C0401  A02,A03,B07,B27,UNK,UNK   \n",
       "1  A0201,A3201,B0702,B1801,C0701,C0702  A02,A01,B07,B44,UNK,UNK   \n",
       "2  A2402,A2601,B1801,B4403,C1601,C1203  A24,A01,B44,B44,UNK,UNK   \n",
       "\n",
       "   Homozygous (1=Yes; 0=No)  LOH (1=Yes; 0=No)  \n",
       "0                       0.0                0.0  \n",
       "1                       0.0                0.0  \n",
       "2                       0.0                0.0  "
      ]
     },
     "execution_count": 6,
     "metadata": {},
     "output_type": "execute_result"
    }
   ],
   "source": [
    "df_2018_1[:3]"
   ]
  },
  {
   "cell_type": "code",
   "execution_count": 7,
   "metadata": {},
   "outputs": [
    {
     "data": {
      "text/plain": [
       "Sample                       0\n",
       "OS_Months                    2\n",
       "OS_Event                     1\n",
       "Drug Class                   0\n",
       "Stage M                     13\n",
       "Stage                       13\n",
       "Age                          0\n",
       "Gender                       0\n",
       "MutCnt                      67\n",
       "Cancer Type                  0\n",
       "Reference                    0\n",
       "HLA Class I Alleles          1\n",
       "HLA Class I Supertypes       0\n",
       "Homozygous (1=Yes; 0=No)     1\n",
       "LOH (1=Yes; 0=No)           69\n",
       "dtype: int64"
      ]
     },
     "execution_count": 7,
     "metadata": {},
     "output_type": "execute_result"
    }
   ],
   "source": [
    "df_2018_1.isna().sum()"
   ]
  },
  {
   "cell_type": "code",
   "execution_count": 8,
   "metadata": {},
   "outputs": [
    {
     "data": {
      "text/plain": [
       "Counter({'M': 222, 'F': 149})"
      ]
     },
     "execution_count": 8,
     "metadata": {},
     "output_type": "execute_result"
    }
   ],
   "source": [
    "Counter(df_2018_1.Gender)"
   ]
  },
  {
   "cell_type": "code",
   "execution_count": 9,
   "metadata": {},
   "outputs": [
    {
     "data": {
      "text/plain": [
       "369"
      ]
     },
     "execution_count": 9,
     "metadata": {},
     "output_type": "execute_result"
    }
   ],
   "source": [
    "keep_1 = [i for i, (a, b, c) in enumerate(zip(df_2018_1[\"OS_Months\"].tolist(), \n",
    "                                              df_2018_1[\"OS_Event\"].tolist(), \n",
    "                                              df_2018_1[\"HLA Class I Alleles\"].tolist()))\n",
    "          if ((not pd.isna(a)) and (not pd.isna(b)) and (not pd.isna(c)))]\n",
    "\n",
    "len(keep_1)"
   ]
  },
  {
   "cell_type": "code",
   "execution_count": 10,
   "metadata": {},
   "outputs": [
    {
     "data": {
      "text/plain": [
       "(369, 15)"
      ]
     },
     "execution_count": 10,
     "metadata": {},
     "output_type": "execute_result"
    }
   ],
   "source": [
    "df_2018_1_kept = df_2018_1.iloc[keep_1]\n",
    "df_2018_1_kept.shape"
   ]
  },
  {
   "cell_type": "code",
   "execution_count": 11,
   "metadata": {},
   "outputs": [
    {
     "data": {
      "text/plain": [
       "Sample                       0\n",
       "OS_Months                    0\n",
       "OS_Event                     0\n",
       "Drug Class                   0\n",
       "Stage M                     13\n",
       "Stage                       13\n",
       "Age                          0\n",
       "Gender                       0\n",
       "MutCnt                      66\n",
       "Cancer Type                  0\n",
       "Reference                    0\n",
       "HLA Class I Alleles          0\n",
       "HLA Class I Supertypes       0\n",
       "Homozygous (1=Yes; 0=No)     0\n",
       "LOH (1=Yes; 0=No)           67\n",
       "dtype: int64"
      ]
     },
     "execution_count": 11,
     "metadata": {},
     "output_type": "execute_result"
    }
   ],
   "source": [
    "df_2018_1_kept.isna().sum()"
   ]
  },
  {
   "cell_type": "code",
   "execution_count": 12,
   "metadata": {},
   "outputs": [
    {
     "data": {
      "text/plain": [
       "Counter({'Melanoma': 269, 'Non-Small Cell Lung Cancer': 100})"
      ]
     },
     "execution_count": 12,
     "metadata": {},
     "output_type": "execute_result"
    }
   ],
   "source": [
    "Counter(df_2018_1_kept[\"Cancer Type\"])"
   ]
  },
  {
   "cell_type": "code",
   "execution_count": 13,
   "metadata": {},
   "outputs": [
    {
     "name": "stderr",
     "output_type": "stream",
     "text": [
      "/Users/sliu/opt/anaconda3/envs/conga_jan_2022/lib/python3.9/site-packages/openpyxl/worksheet/_reader.py:300: UserWarning: Unknown extension is not supported and will be removed\n",
      "  warn(msg)\n"
     ]
    },
    {
     "data": {
      "text/plain": [
       "(1166, 11)"
      ]
     },
     "execution_count": 13,
     "metadata": {},
     "output_type": "execute_result"
    }
   ],
   "source": [
    "df_2018_2 = pd.read_excel(data_dir + chowell_folder + spreadsheet, 'Cohort 2')\n",
    "df_2018_2.shape"
   ]
  },
  {
   "cell_type": "code",
   "execution_count": 14,
   "metadata": {},
   "outputs": [
    {
     "data": {
      "text/plain": [
       "Sample                      0\n",
       "Age Group                   0\n",
       "OS_Months                   0\n",
       "OS_Event                    0\n",
       "IMPACT-MutCnt               0\n",
       "Drug Class                  0\n",
       "Cancer Type                 4\n",
       "Reference                   0\n",
       "HLA Class I Alleles         0\n",
       "HLA Class I Supertypes      0\n",
       "Homozygous (1=Yes; 0=No)    0\n",
       "dtype: int64"
      ]
     },
     "execution_count": 14,
     "metadata": {},
     "output_type": "execute_result"
    }
   ],
   "source": [
    "# there are four subjects with unknown cancer type in cohort 2\n",
    "df_2018_2.isna().sum()"
   ]
  },
  {
   "cell_type": "code",
   "execution_count": 15,
   "metadata": {},
   "outputs": [
    {
     "data": {
      "text/plain": [
       "Counter({'31-50': 492, '<30': 28, '>71': 137, '61-70': 200, '50-60': 309})"
      ]
     },
     "execution_count": 15,
     "metadata": {},
     "output_type": "execute_result"
    }
   ],
   "source": [
    "Counter(df_2018_2['Age Group'])"
   ]
  },
  {
   "cell_type": "code",
   "execution_count": 16,
   "metadata": {},
   "outputs": [
    {
     "data": {
      "text/plain": [
       "Counter({'Non-Small Cell Lung Cancer': 271,\n",
       "         'Melanoma': 246,\n",
       "         'Bladder Cancer': 87,\n",
       "         'Glioma': 82,\n",
       "         'Renal Cell Carcinoma': 129,\n",
       "         'Head and Neck Cancer': 58,\n",
       "         'Esophagogastric Cancer': 29,\n",
       "         'Soft Tissue Sarcoma': 14,\n",
       "         'Gastrointestinal Neuroendocrine Tumor': 2,\n",
       "         'Mesothelioma': 9,\n",
       "         'Skin Cancer; Non-Melanoma': 15,\n",
       "         'Cancer of Unknown Primary': 27,\n",
       "         'Colorectal Cancer': 44,\n",
       "         'Hepatobiliary Cancer': 16,\n",
       "         'Small Cell Lung Cancer': 15,\n",
       "         'Breast Cancer': 29,\n",
       "         'Adrenocortical Carcinoma': 12,\n",
       "         'Non-Hodgkin Lymphoma': 16,\n",
       "         'Pancreatic Cancer': 22,\n",
       "         'Gastrointestinal Stromal Tumor': 2,\n",
       "         'Prostate Cancer': 10,\n",
       "         'Thyroid Cancer': 6,\n",
       "         'Bone Cancer': 7,\n",
       "         'Hodgkin Lymphoma': 3,\n",
       "         'Anal Cancer': 7,\n",
       "         'Sex Cord Stromal Tumor': 1,\n",
       "         'Salivary Gland Cancer': 1,\n",
       "         nan: 4,\n",
       "         'Ampullary Carcinoma': 1,\n",
       "         'Embryonal Tumor': 1})"
      ]
     },
     "execution_count": 16,
     "metadata": {},
     "output_type": "execute_result"
    }
   ],
   "source": [
    "Counter(df_2018_2[\"Cancer Type\"])"
   ]
  },
  {
   "cell_type": "code",
   "execution_count": 17,
   "metadata": {},
   "outputs": [
    {
     "data": {
      "text/plain": [
       "0"
      ]
     },
     "execution_count": 17,
     "metadata": {},
     "output_type": "execute_result"
    }
   ],
   "source": [
    "# there is no overlap between the cohort 1 subjects kept and the cohort 2 subjects\n",
    "len(set(df_2018_1_kept[\"Sample\"]).intersection(set(df_2018_2[\"Sample\"])))"
   ]
  },
  {
   "cell_type": "code",
   "execution_count": 18,
   "metadata": {},
   "outputs": [
    {
     "data": {
      "text/plain": [
       "1535"
      ]
     },
     "execution_count": 18,
     "metadata": {},
     "output_type": "execute_result"
    }
   ],
   "source": [
    "len(set(df_2018_1_kept[\"Sample\"]).union(set(df_2018_2[\"Sample\"])))"
   ]
  },
  {
   "cell_type": "code",
   "execution_count": 19,
   "metadata": {},
   "outputs": [
    {
     "data": {
      "text/plain": [
       "1535"
      ]
     },
     "execution_count": 19,
     "metadata": {},
     "output_type": "execute_result"
    }
   ],
   "source": [
    "df_2018_1_kept.shape[0] + df_2018_2.shape[0]"
   ]
  },
  {
   "cell_type": "code",
   "execution_count": 20,
   "metadata": {},
   "outputs": [],
   "source": [
    "# prepare columns for the data to keep\n",
    "\n",
    "sample_list = df_2018_1_kept[\"Sample\"].tolist() + df_2018_2[\"Sample\"].tolist()\n",
    "age_list = df_2018_1_kept[\"Age \"].tolist() + [np.nan for _ in range(df_2018_2.shape[0])]\n",
    "\n",
    "def group_age(x):\n",
    "    if (x<=30):\n",
    "        return \"<30\"\n",
    "    elif (x <= 50):\n",
    "        return \"31-50\"\n",
    "    elif (x <= 60):\n",
    "        return \"50-60\"\n",
    "    elif (x <= 70):\n",
    "        return \"61-70\"\n",
    "    else:\n",
    "        return \">71\"\n",
    "\n",
    "age_group_1 = [group_age(x) for x in df_2018_1_kept[\"Age \"].tolist()]\n",
    "age_group_list = age_group_1 + df_2018_2[\"Age Group\"].tolist()\n",
    "OS_Months_list = df_2018_1_kept[\"OS_Months\"].tolist() + df_2018_2[\"OS_Months\"].tolist()\n",
    "OS_Event_list = df_2018_1_kept[\"OS_Event\"].tolist() + df_2018_2[\"OS_Event\"].tolist()\n",
    "\n",
    "scaled_mutcnt_1 = [x/30 for x in df_2018_1_kept[\"MutCnt\"].tolist()]\n",
    "MutCnt_list = scaled_mutcnt_1 + df_2018_2[\"IMPACT-MutCnt\"].tolist()\n",
    "gender_list = df_2018_1_kept[\"Gender\"].tolist() + [np.nan for _ in range(df_2018_2.shape[0])]\n",
    "\n",
    "Drug_list = df_2018_1_kept[\"Drug Class\"].tolist() + df_2018_2[\"Drug Class\"].tolist()\n",
    "Drug_list = [\"CTLA-4\" if x==\"CTLA4\" else x for x in Drug_list ]\n",
    "\n",
    "Type_list = df_2018_1_kept[\"Cancer Type\"].tolist() + df_2018_2[\"Cancer Type\"].tolist()\n",
    "Stage_M_list = df_2018_1_kept[\"Stage M\"].tolist() + [np.nan for _ in range(df_2018_2.shape[0])]\n",
    "Stage_list = df_2018_1_kept[\"Stage\"].tolist() + [np.nan for _ in range(df_2018_2.shape[0])]\n",
    "Reference_list = df_2018_1_kept[\"Reference\"].tolist() + df_2018_2[\"Reference\"].tolist()\n",
    "alleles_list = df_2018_1_kept[\"HLA Class I Alleles\"].tolist() + df_2018_2[\"HLA Class I Alleles\"].tolist()\n",
    "Homozygous_list = df_2018_1_kept[\"Homozygous (1=Yes; 0=No)\"].tolist() + df_2018_2[\"Homozygous (1=Yes; 0=No)\"].tolist()"
   ]
  },
  {
   "cell_type": "code",
   "execution_count": 21,
   "metadata": {},
   "outputs": [],
   "source": [
    "df_2018_combined = pd.DataFrame(zip(sample_list, \n",
    "                                    age_list, \n",
    "                                    age_group_list, \n",
    "                                    OS_Months_list, \n",
    "                                    OS_Event_list, \n",
    "                                    MutCnt_list, \n",
    "                                    gender_list, \n",
    "                                    Drug_list, \n",
    "                                    Type_list, \n",
    "                                    Stage_M_list, \n",
    "                                    Stage_list, \n",
    "                                    Reference_list, \n",
    "                                    alleles_list, \n",
    "                                    Homozygous_list), \n",
    "                             columns = [\"ID\", \"age\", \"age_group\", \"os_months\", \"os_event\", \n",
    "                                        \"mutcnt\", \"gender\", \"drug_class\", \"cancer_type\", \"stage_m\", \"stage\", \n",
    "                                        \"reference\", \"hla_class_i_alleles\", \"homozygous\"])"
   ]
  },
  {
   "cell_type": "code",
   "execution_count": 22,
   "metadata": {},
   "outputs": [
    {
     "data": {
      "text/plain": [
       "(1535, 14)"
      ]
     },
     "execution_count": 22,
     "metadata": {},
     "output_type": "execute_result"
    }
   ],
   "source": [
    "df_2018_combined.shape"
   ]
  },
  {
   "cell_type": "code",
   "execution_count": 23,
   "metadata": {},
   "outputs": [
    {
     "data": {
      "text/html": [
       "<div>\n",
       "<style scoped>\n",
       "    .dataframe tbody tr th:only-of-type {\n",
       "        vertical-align: middle;\n",
       "    }\n",
       "\n",
       "    .dataframe tbody tr th {\n",
       "        vertical-align: top;\n",
       "    }\n",
       "\n",
       "    .dataframe thead th {\n",
       "        text-align: right;\n",
       "    }\n",
       "</style>\n",
       "<table border=\"1\" class=\"dataframe\">\n",
       "  <thead>\n",
       "    <tr style=\"text-align: right;\">\n",
       "      <th></th>\n",
       "      <th>ID</th>\n",
       "      <th>age</th>\n",
       "      <th>age_group</th>\n",
       "      <th>os_months</th>\n",
       "      <th>os_event</th>\n",
       "      <th>mutcnt</th>\n",
       "      <th>gender</th>\n",
       "      <th>drug_class</th>\n",
       "      <th>cancer_type</th>\n",
       "      <th>stage_m</th>\n",
       "      <th>stage</th>\n",
       "      <th>reference</th>\n",
       "      <th>hla_class_i_alleles</th>\n",
       "      <th>homozygous</th>\n",
       "    </tr>\n",
       "  </thead>\n",
       "  <tbody>\n",
       "    <tr>\n",
       "      <th>0</th>\n",
       "      <td>CR0095</td>\n",
       "      <td>74.0</td>\n",
       "      <td>&gt;71</td>\n",
       "      <td>67.936885</td>\n",
       "      <td>0.0</td>\n",
       "      <td>9.400000</td>\n",
       "      <td>M</td>\n",
       "      <td>CTLA-4</td>\n",
       "      <td>Melanoma</td>\n",
       "      <td>M1b</td>\n",
       "      <td>Stage 4</td>\n",
       "      <td>Snyder et al. 2014</td>\n",
       "      <td>A0201,A3101,B3502,B3906,C0702,C0401</td>\n",
       "      <td>0.0</td>\n",
       "    </tr>\n",
       "    <tr>\n",
       "      <th>1</th>\n",
       "      <td>CR04885</td>\n",
       "      <td>49.0</td>\n",
       "      <td>31-50</td>\n",
       "      <td>25.617525</td>\n",
       "      <td>0.0</td>\n",
       "      <td>70.066667</td>\n",
       "      <td>F</td>\n",
       "      <td>CTLA-4</td>\n",
       "      <td>Melanoma</td>\n",
       "      <td>M0</td>\n",
       "      <td>Stage 3</td>\n",
       "      <td>Snyder et al. 2014</td>\n",
       "      <td>A0201,A3201,B0702,B1801,C0701,C0702</td>\n",
       "      <td>0.0</td>\n",
       "    </tr>\n",
       "  </tbody>\n",
       "</table>\n",
       "</div>"
      ],
      "text/plain": [
       "        ID   age age_group  os_months  os_event     mutcnt gender drug_class  \\\n",
       "0   CR0095  74.0       >71  67.936885       0.0   9.400000      M     CTLA-4   \n",
       "1  CR04885  49.0     31-50  25.617525       0.0  70.066667      F     CTLA-4   \n",
       "\n",
       "  cancer_type stage_m    stage           reference  \\\n",
       "0    Melanoma     M1b  Stage 4  Snyder et al. 2014   \n",
       "1    Melanoma      M0  Stage 3  Snyder et al. 2014   \n",
       "\n",
       "                   hla_class_i_alleles  homozygous  \n",
       "0  A0201,A3101,B3502,B3906,C0702,C0401         0.0  \n",
       "1  A0201,A3201,B0702,B1801,C0701,C0702         0.0  "
      ]
     },
     "execution_count": 23,
     "metadata": {},
     "output_type": "execute_result"
    }
   ],
   "source": [
    "df_2018_combined[:2]"
   ]
  },
  {
   "cell_type": "code",
   "execution_count": 26,
   "metadata": {},
   "outputs": [],
   "source": [
    "# only keep the subjects with hla i alleles among the 85 ones with pseudo sequences\n",
    "# or the hlas that we can find a replacement for from the hla alleles that we have pseudo sequence for\n",
    "\n",
    "df_pseudo = pd.read_csv(data_dir + \"for_encoders/HLA_I_pseudo_40.csv\", header = 0)\n",
    "hla_i_considered = set([\"\".join(re.split('-|\\*|:', x)[1:]) for x in df_pseudo.hla.tolist()])\n",
    "#hla_i_considered"
   ]
  },
  {
   "cell_type": "code",
   "execution_count": 27,
   "metadata": {},
   "outputs": [
    {
     "name": "stdout",
     "output_type": "stream",
     "text": [
      "9210\n",
      "158\n"
     ]
    }
   ],
   "source": [
    "chowell_2018_hla_i_group_list = [x.split(\",\") for x in df_2018_combined[\"hla_class_i_alleles\"].tolist()]\n",
    "chowell_2018_hla_i_list = [y for x in chowell_2018_hla_i_group_list for y in x]\n",
    "\n",
    "print(len(chowell_2018_hla_i_list))\n",
    "print(len(set(chowell_2018_hla_i_list)))"
   ]
  },
  {
   "cell_type": "code",
   "execution_count": 28,
   "metadata": {},
   "outputs": [
    {
     "data": {
      "text/plain": [
       "73"
      ]
     },
     "execution_count": 28,
     "metadata": {},
     "output_type": "execute_result"
    }
   ],
   "source": [
    "# there are 73 alleles from chowell that are not included in the 85 ones\n",
    "len(set(chowell_2018_hla_i_list) - hla_i_considered)"
   ]
  },
  {
   "cell_type": "code",
   "execution_count": 29,
   "metadata": {},
   "outputs": [
    {
     "data": {
      "text/plain": [
       "0"
      ]
     },
     "execution_count": 29,
     "metadata": {},
     "output_type": "execute_result"
    }
   ],
   "source": [
    "# all 85 ones with pseudo sequences are in chowell 2018\n",
    "len(hla_i_considered - set(chowell_2018_hla_i_list))"
   ]
  },
  {
   "cell_type": "code",
   "execution_count": 30,
   "metadata": {},
   "outputs": [],
   "source": [
    "temp_hla_candidate_list = list(set(chowell_2018_hla_i_list) - hla_i_considered)\n",
    "temp_hla_candidate_list.sort()\n",
    "#temp_hla_candidate_list"
   ]
  },
  {
   "cell_type": "code",
   "execution_count": 31,
   "metadata": {},
   "outputs": [],
   "source": [
    "hla_i_considered_list = list(hla_i_considered)"
   ]
  },
  {
   "cell_type": "code",
   "execution_count": 32,
   "metadata": {},
   "outputs": [],
   "source": [
    "hla_replace_dict = defaultdict(str)\n",
    "\n",
    "hla_replace_dict['A0102'] = 'A0101'\n",
    "hla_replace_dict['A0103'] = 'A0101'\n",
    "\n",
    "hla_replace_dict['A0202'] = 'A0201'\n",
    "hla_replace_dict['A0203'] = 'A0201'\n",
    "hla_replace_dict['A0207'] = 'A0201'\n",
    "hla_replace_dict['A0217'] = 'A0201'\n",
    "    \n",
    "hla_replace_dict['A0305'] = 'A0301'\n",
    "\n",
    "hla_replace_dict['A1102'] = 'A1101'\n",
    "hla_replace_dict['A1104'] = 'A1101'\n",
    "\n",
    "hla_replace_dict['A2407'] = 'A2402'\n",
    "hla_replace_dict['A2421'] = 'A2402'\n",
    "hla_replace_dict['A2426'] = 'A2402'\n",
    "\n",
    "hla_replace_dict['A2602'] = 'A2601'\n",
    "hla_replace_dict['A2608'] = 'A2601'\n",
    "\n",
    "hla_replace_dict['A3004'] = 'A3001'\n",
    "hla_replace_dict['A3010'] = 'A3001'\n",
    "    \n",
    "hla_replace_dict['A3402'] = 'A3401'\n",
    "\n",
    "# 'A3601', 'A6901', 'A7401' do not find matching hla \n",
    "    \n",
    "hla_replace_dict['A6602'] = 'A6601'\n",
    "\n",
    "hla_replace_dict['A6810'] = 'A6801'\n",
    "\n",
    "\n",
    "\n",
    "hla_replace_dict['B0704'] = 'B0702'\n",
    "\n",
    "hla_replace_dict['B1301'] = 'B1302'\n",
    "    \n",
    "hla_replace_dict['B1502'] = 'B1501'\n",
    "hla_replace_dict['B1505'] = 'B1501'\n",
    "hla_replace_dict['B1508'] = 'B1501'\n",
    "hla_replace_dict['B1509'] = 'B1501'\n",
    "hla_replace_dict['B1510'] = 'B1501'\n",
    "hla_replace_dict['B1512'] = 'B1501'\n",
    "hla_replace_dict['B1516'] = 'B1501'\n",
    "hla_replace_dict['B1525'] = 'B1501'\n",
    "hla_replace_dict['B1527'] = 'B1501'\n",
    "\n",
    "hla_replace_dict['B1803'] = 'B1801'\n",
    "    \n",
    "hla_replace_dict['B2702'] = 'B2705'\n",
    "hla_replace_dict['B2703'] = 'B2705'\n",
    "hla_replace_dict['B2704'] = 'B2705' \n",
    "\n",
    "hla_replace_dict['B3505'] = 'B3501'\n",
    "    \n",
    "hla_replace_dict['B3902'] = 'B3901'\n",
    "hla_replace_dict['B3910'] = 'B3901'\n",
    "hla_replace_dict['B3924'] = 'B3901'\n",
    "\n",
    "hla_replace_dict['B4003'] = 'B4001'\n",
    "hla_replace_dict['B4004'] = 'B4001'\n",
    "\n",
    "# 'B4201', 'B4601', 'B4701',  'B5401',  'B6701', 'B7301', 'B7801', 'B8101', not found match\n",
    "    \n",
    "hla_replace_dict['B4405'] = 'B4402'\n",
    "\n",
    "hla_replace_dict['B5102'] = 'B5101'\n",
    "hla_replace_dict['B5107'] = 'B5101'\n",
    "hla_replace_dict['B5108'] = 'B5101'\n",
    "    \n",
    "hla_replace_dict['B5502'] = 'B5501'\n",
    "    \n",
    "hla_replace_dict['B5604'] = 'B5601'\n",
    "\n",
    "hla_replace_dict['B5702'] = 'B5701'\n",
    "hla_replace_dict['B5703'] = 'B5701'\n",
    "\n",
    "hla_replace_dict['B5802'] = 'B5801'\n",
    "    \n",
    "\n",
    "# \n",
    "\n",
    "hla_replace_dict['C0103'] = 'C0102'\n",
    "\n",
    "hla_replace_dict['C0210'] = 'C0202'\n",
    "\n",
    "hla_replace_dict['C0305'] = 'C0302'\n",
    "\n",
    "hla_replace_dict['C0403'] = 'C0401'\n",
    "hla_replace_dict['C0404'] = 'C0401'\n",
    "\n",
    "hla_replace_dict['C0706'] = 'C0701'\n",
    "hla_replace_dict['C0718'] = 'C0701'\n",
    "\n",
    "hla_replace_dict['C0804'] = 'C0801'\n",
    "\n",
    "hla_replace_dict['C1202'] = 'C1203'\n",
    "\n",
    "hla_replace_dict['C1403'] = 'C1402'\n",
    "\n",
    "hla_replace_dict['C1504'] = 'C1502'\n",
    "\n",
    "hla_replace_dict['C1604'] = 'C1601'\n",
    " \n",
    "# 'C1801' not found"
   ]
  },
  {
   "cell_type": "code",
   "execution_count": 33,
   "metadata": {},
   "outputs": [
    {
     "data": {
      "text/plain": [
       "73"
      ]
     },
     "execution_count": 33,
     "metadata": {},
     "output_type": "execute_result"
    }
   ],
   "source": [
    "len(hla_replace_dict) + 12"
   ]
  },
  {
   "cell_type": "code",
   "execution_count": 34,
   "metadata": {},
   "outputs": [],
   "source": [
    "# use a function to find matching hla allele with pseudo sequence, \n",
    "# and build the dictionary again, to verify whether the previously built \n",
    "# dictionary is correct\n",
    "\n",
    "# map each two digit HLA allele to its first match among the alleles\n",
    "\n",
    "two_digit_dict = defaultdict(str)\n",
    "\n",
    "all_two_digits = list(set([x[:3] for x in hla_i_considered_list]))\n",
    "\n",
    "for a01 in all_two_digits:\n",
    "    \n",
    "    cur_list = [x for x in hla_i_considered_list if x[:3]==a01]\n",
    "    \n",
    "    cur_list.sort()\n",
    "    \n",
    "    two_digit_dict[a01] = cur_list[0]"
   ]
  },
  {
   "cell_type": "code",
   "execution_count": 35,
   "metadata": {},
   "outputs": [
    {
     "name": "stdout",
     "output_type": "stream",
     "text": [
      "54\n",
      "54\n"
     ]
    }
   ],
   "source": [
    "print(len(all_two_digits))\n",
    "print(len(two_digit_dict))"
   ]
  },
  {
   "cell_type": "code",
   "execution_count": 35,
   "metadata": {},
   "outputs": [
    {
     "data": {
      "text/plain": [
       "61"
      ]
     },
     "execution_count": 35,
     "metadata": {},
     "output_type": "execute_result"
    }
   ],
   "source": [
    "hla_replace_dict_verify = defaultdict(str)\n",
    "\n",
    "for temp_hla in temp_hla_candidate_list:\n",
    "    \n",
    "    if temp_hla[:3] in set(all_two_digits):\n",
    "        \n",
    "        hla_replace_dict_verify[temp_hla] = two_digit_dict[temp_hla[:3]]\n",
    "\n",
    "len(hla_replace_dict_verify)"
   ]
  },
  {
   "cell_type": "code",
   "execution_count": 36,
   "metadata": {},
   "outputs": [],
   "source": [
    "temp_keys = list(hla_replace_dict.keys())"
   ]
  },
  {
   "cell_type": "code",
   "execution_count": 37,
   "metadata": {},
   "outputs": [
    {
     "name": "stdout",
     "output_type": "stream",
     "text": [
      "True\n"
     ]
    },
    {
     "data": {
      "text/plain": [
       "61"
      ]
     },
     "execution_count": 37,
     "metadata": {},
     "output_type": "execute_result"
    }
   ],
   "source": [
    "# now we have verified that the translation dictionary is correct\n",
    "print(set(hla_replace_dict.keys()) == set(hla_replace_dict_verify.keys()))\n",
    "sum([hla_replace_dict[x]==hla_replace_dict_verify[x] for x in temp_keys])"
   ]
  },
  {
   "cell_type": "code",
   "execution_count": 38,
   "metadata": {},
   "outputs": [
    {
     "name": "stdout",
     "output_type": "stream",
     "text": [
      "146\n",
      "146\n"
     ]
    }
   ],
   "source": [
    "# output the list of hla alleles that either have pseudo sequences or can find a match\n",
    "# to prepare for getting scores from Glazer 2022 model\n",
    "\n",
    "hla_alleles_for_Glazer_2022 = hla_i_considered_list + temp_keys\n",
    "hla_alleles_for_Glazer_2022.sort()\n",
    "print(len(hla_alleles_for_Glazer_2022))\n",
    "print(len(set(hla_alleles_for_Glazer_2022)))"
   ]
  },
  {
   "cell_type": "code",
   "execution_count": 39,
   "metadata": {},
   "outputs": [
    {
     "data": {
      "text/plain": [
       "(146, 1)"
      ]
     },
     "execution_count": 39,
     "metadata": {},
     "output_type": "execute_result"
    }
   ],
   "source": [
    "df_chowell_2018_alleles = pd.DataFrame(hla_alleles_for_Glazer_2022, columns = [\"hla\"])\n",
    "df_chowell_2018_alleles.shape"
   ]
  },
  {
   "cell_type": "code",
   "execution_count": 41,
   "metadata": {},
   "outputs": [],
   "source": [
    "df_chowell_2018_alleles.to_csv(\"../results/st6_chowell_2018_alleles_for_Glazer_2022.csv\", index = False)"
   ]
  },
  {
   "cell_type": "code",
   "execution_count": 42,
   "metadata": {},
   "outputs": [],
   "source": [
    "# count how many subjects from chowell 2018 combined have hla alleles all under our consideration\n",
    "# or belong to one of those that we can find match for\n",
    "\n",
    "hla_alleles_for_Glazer_2022_set = set(hla_alleles_for_Glazer_2022)\n",
    "\n",
    "subjects_to_consider = []\n",
    "\n",
    "for name, hlas in zip(df_2018_combined[\"ID\"].tolist(), df_2018_combined.hla_class_i_alleles.tolist()):\n",
    "    cur_hla_set = set(hlas.split(\",\"))\n",
    "    if (len(cur_hla_set.intersection(hla_alleles_for_Glazer_2022_set)) == len(cur_hla_set)):\n",
    "        subjects_to_consider += [name]"
   ]
  },
  {
   "cell_type": "code",
   "execution_count": 43,
   "metadata": {},
   "outputs": [
    {
     "data": {
      "text/plain": [
       "1443"
      ]
     },
     "execution_count": 43,
     "metadata": {},
     "output_type": "execute_result"
    }
   ],
   "source": [
    "len(subjects_to_consider)"
   ]
  },
  {
   "cell_type": "code",
   "execution_count": 44,
   "metadata": {},
   "outputs": [
    {
     "data": {
      "text/plain": [
       "(1443, 14)"
      ]
     },
     "execution_count": 44,
     "metadata": {},
     "output_type": "execute_result"
    }
   ],
   "source": [
    "# subset df_2018 data to only keep those with HLAs that we have pseudo amino acid information for\n",
    "# or can find a match with pseudo information for\n",
    "df_2018_kept = df_2018_combined.loc[df_2018_combined['ID'].isin(subjects_to_consider)]\n",
    "df_2018_kept.shape"
   ]
  },
  {
   "cell_type": "code",
   "execution_count": 45,
   "metadata": {},
   "outputs": [
    {
     "data": {
      "text/plain": [
       "Counter({True: 1443})"
      ]
     },
     "execution_count": 45,
     "metadata": {},
     "output_type": "execute_result"
    }
   ],
   "source": [
    "Counter([a==b for a, b in zip(df_2018_kept.ID, subjects_to_consider)])"
   ]
  },
  {
   "cell_type": "code",
   "execution_count": 46,
   "metadata": {},
   "outputs": [
    {
     "data": {
      "text/html": [
       "<div>\n",
       "<style scoped>\n",
       "    .dataframe tbody tr th:only-of-type {\n",
       "        vertical-align: middle;\n",
       "    }\n",
       "\n",
       "    .dataframe tbody tr th {\n",
       "        vertical-align: top;\n",
       "    }\n",
       "\n",
       "    .dataframe thead th {\n",
       "        text-align: right;\n",
       "    }\n",
       "</style>\n",
       "<table border=\"1\" class=\"dataframe\">\n",
       "  <thead>\n",
       "    <tr style=\"text-align: right;\">\n",
       "      <th></th>\n",
       "      <th>ID</th>\n",
       "      <th>age</th>\n",
       "      <th>age_group</th>\n",
       "      <th>os_months</th>\n",
       "      <th>os_event</th>\n",
       "      <th>mutcnt</th>\n",
       "      <th>gender</th>\n",
       "      <th>drug_class</th>\n",
       "      <th>cancer_type</th>\n",
       "      <th>stage_m</th>\n",
       "      <th>stage</th>\n",
       "      <th>reference</th>\n",
       "      <th>hla_class_i_alleles</th>\n",
       "      <th>homozygous</th>\n",
       "    </tr>\n",
       "  </thead>\n",
       "  <tbody>\n",
       "    <tr>\n",
       "      <th>0</th>\n",
       "      <td>CR0095</td>\n",
       "      <td>74.0</td>\n",
       "      <td>&gt;71</td>\n",
       "      <td>67.936885</td>\n",
       "      <td>0.0</td>\n",
       "      <td>9.400000</td>\n",
       "      <td>M</td>\n",
       "      <td>CTLA-4</td>\n",
       "      <td>Melanoma</td>\n",
       "      <td>M1b</td>\n",
       "      <td>Stage 4</td>\n",
       "      <td>Snyder et al. 2014</td>\n",
       "      <td>A0201,A3101,B3502,B3906,C0702,C0401</td>\n",
       "      <td>0.0</td>\n",
       "    </tr>\n",
       "    <tr>\n",
       "      <th>1</th>\n",
       "      <td>CR04885</td>\n",
       "      <td>49.0</td>\n",
       "      <td>31-50</td>\n",
       "      <td>25.617525</td>\n",
       "      <td>0.0</td>\n",
       "      <td>70.066667</td>\n",
       "      <td>F</td>\n",
       "      <td>CTLA-4</td>\n",
       "      <td>Melanoma</td>\n",
       "      <td>M0</td>\n",
       "      <td>Stage 3</td>\n",
       "      <td>Snyder et al. 2014</td>\n",
       "      <td>A0201,A3201,B0702,B1801,C0701,C0702</td>\n",
       "      <td>0.0</td>\n",
       "    </tr>\n",
       "  </tbody>\n",
       "</table>\n",
       "</div>"
      ],
      "text/plain": [
       "        ID   age age_group  os_months  os_event     mutcnt gender drug_class  \\\n",
       "0   CR0095  74.0       >71  67.936885       0.0   9.400000      M     CTLA-4   \n",
       "1  CR04885  49.0     31-50  25.617525       0.0  70.066667      F     CTLA-4   \n",
       "\n",
       "  cancer_type stage_m    stage           reference  \\\n",
       "0    Melanoma     M1b  Stage 4  Snyder et al. 2014   \n",
       "1    Melanoma      M0  Stage 3  Snyder et al. 2014   \n",
       "\n",
       "                   hla_class_i_alleles  homozygous  \n",
       "0  A0201,A3101,B3502,B3906,C0702,C0401         0.0  \n",
       "1  A0201,A3201,B0702,B1801,C0701,C0702         0.0  "
      ]
     },
     "execution_count": 46,
     "metadata": {},
     "output_type": "execute_result"
    }
   ],
   "source": [
    "df_2018_kept[:2]"
   ]
  },
  {
   "cell_type": "code",
   "execution_count": 47,
   "metadata": {},
   "outputs": [
    {
     "data": {
      "text/plain": [
       "Counter({'>71': 217, '31-50': 530, '50-60': 375, '61-70': 285, '<30': 36})"
      ]
     },
     "execution_count": 47,
     "metadata": {},
     "output_type": "execute_result"
    }
   ],
   "source": [
    "Counter(df_2018_kept.age_group)"
   ]
  },
  {
   "cell_type": "code",
   "execution_count": 48,
   "metadata": {},
   "outputs": [
    {
     "data": {
      "text/plain": [
       "Counter({'M': 216, 'F': 141, nan: 1086})"
      ]
     },
     "execution_count": 48,
     "metadata": {},
     "output_type": "execute_result"
    }
   ],
   "source": [
    "Counter(df_2018_kept.gender)"
   ]
  },
  {
   "cell_type": "code",
   "execution_count": 49,
   "metadata": {},
   "outputs": [
    {
     "data": {
      "text/plain": [
       "Counter({'CTLA-4': 218,\n",
       "         'PD-1': 189,\n",
       "         'PD-L1 + CTLA-4': 4,\n",
       "         'CTLA-4 + PD-1': 3,\n",
       "         'PD-L1': 1,\n",
       "         'PD-1/PDL-1': 857,\n",
       "         'Combo': 171})"
      ]
     },
     "execution_count": 49,
     "metadata": {},
     "output_type": "execute_result"
    }
   ],
   "source": [
    "Counter(df_2018_kept.drug_class)"
   ]
  },
  {
   "cell_type": "code",
   "execution_count": 50,
   "metadata": {},
   "outputs": [
    {
     "data": {
      "text/plain": [
       "Counter({'Melanoma': 498,\n",
       "         'Non-Small Cell Lung Cancer': 337,\n",
       "         'Bladder Cancer': 84,\n",
       "         'Glioma': 76,\n",
       "         'Renal Cell Carcinoma': 123,\n",
       "         'Head and Neck Cancer': 56,\n",
       "         'Esophagogastric Cancer': 29,\n",
       "         'Soft Tissue Sarcoma': 14,\n",
       "         'Gastrointestinal Neuroendocrine Tumor': 2,\n",
       "         'Skin Cancer; Non-Melanoma': 13,\n",
       "         'Cancer of Unknown Primary': 25,\n",
       "         'Colorectal Cancer': 40,\n",
       "         'Hepatobiliary Cancer': 15,\n",
       "         'Small Cell Lung Cancer': 13,\n",
       "         'Breast Cancer': 26,\n",
       "         'Adrenocortical Carcinoma': 12,\n",
       "         'Mesothelioma': 7,\n",
       "         'Non-Hodgkin Lymphoma': 14,\n",
       "         'Pancreatic Cancer': 20,\n",
       "         'Gastrointestinal Stromal Tumor': 2,\n",
       "         'Prostate Cancer': 10,\n",
       "         'Thyroid Cancer': 6,\n",
       "         'Bone Cancer': 6,\n",
       "         'Hodgkin Lymphoma': 3,\n",
       "         'Anal Cancer': 6,\n",
       "         'Sex Cord Stromal Tumor': 1,\n",
       "         'Salivary Gland Cancer': 1,\n",
       "         'Ampullary Carcinoma': 1,\n",
       "         nan: 2,\n",
       "         'Embryonal Tumor': 1})"
      ]
     },
     "execution_count": 50,
     "metadata": {},
     "output_type": "execute_result"
    }
   ],
   "source": [
    "Counter(df_2018_kept.cancer_type)"
   ]
  },
  {
   "cell_type": "code",
   "execution_count": 51,
   "metadata": {},
   "outputs": [
    {
     "data": {
      "text/plain": [
       "Counter({'M1b': 37, 'M0': 12, 'M1c': 266, 'M1a': 29, nan: 1099})"
      ]
     },
     "execution_count": 51,
     "metadata": {},
     "output_type": "execute_result"
    }
   ],
   "source": [
    "Counter(df_2018_kept.stage_m)"
   ]
  },
  {
   "cell_type": "code",
   "execution_count": 52,
   "metadata": {},
   "outputs": [
    {
     "data": {
      "text/plain": [
       "Counter({'Stage 4': 332, 'Stage 3': 12, nan: 1099})"
      ]
     },
     "execution_count": 52,
     "metadata": {},
     "output_type": "execute_result"
    }
   ],
   "source": [
    "Counter(df_2018_kept.stage)"
   ]
  },
  {
   "cell_type": "code",
   "execution_count": 53,
   "metadata": {},
   "outputs": [
    {
     "data": {
      "text/plain": [
       "Counter({'Snyder et al. 2014': 62,\n",
       "         'Van Allen et al. 2015': 98,\n",
       "         'Riaz et al. 2017': 68,\n",
       "         'Hugo et al. 2016': 37,\n",
       "         'Rizvi et al. 2015': 34,\n",
       "         'Rizvi_CUMC': 58,\n",
       "         'MSK-IMPACT': 1086})"
      ]
     },
     "execution_count": 53,
     "metadata": {},
     "output_type": "execute_result"
    }
   ],
   "source": [
    "Counter(df_2018_kept.reference)"
   ]
  },
  {
   "cell_type": "code",
   "execution_count": 54,
   "metadata": {},
   "outputs": [
    {
     "data": {
      "text/plain": [
       "Counter({0.0: 1106, 1.0: 337})"
      ]
     },
     "execution_count": 54,
     "metadata": {},
     "output_type": "execute_result"
    }
   ],
   "source": [
    "Counter(df_2018_kept.homozygous)"
   ]
  },
  {
   "cell_type": "code",
   "execution_count": 55,
   "metadata": {},
   "outputs": [
    {
     "data": {
      "text/plain": [
       "ID                        0\n",
       "age                    1086\n",
       "age_group                 0\n",
       "os_months                 0\n",
       "os_event                  0\n",
       "mutcnt                   58\n",
       "gender                 1086\n",
       "drug_class                0\n",
       "cancer_type               2\n",
       "stage_m                1099\n",
       "stage                  1099\n",
       "reference                 0\n",
       "hla_class_i_alleles       0\n",
       "homozygous                0\n",
       "dtype: int64"
      ]
     },
     "execution_count": 55,
     "metadata": {},
     "output_type": "execute_result"
    }
   ],
   "source": [
    "df_2018_kept.isna().sum()"
   ]
  },
  {
   "cell_type": "code",
   "execution_count": 56,
   "metadata": {},
   "outputs": [],
   "source": [
    "# translate hla alleles to those we have pseudo sequence for\n",
    "\n",
    "kept_trans_alleles = []\n",
    "\n",
    "for x in df_2018_kept[\"hla_class_i_alleles\"].tolist():\n",
    "    \n",
    "    cur_alleles = x.split(\",\")\n",
    "    cur_trans_alleles = [hla if hla in hla_i_considered else hla_replace_dict[hla] for hla in cur_alleles]\n",
    "    kept_trans_alleles += [cur_trans_alleles]"
   ]
  },
  {
   "cell_type": "code",
   "execution_count": 57,
   "metadata": {},
   "outputs": [
    {
     "data": {
      "text/plain": [
       "85"
      ]
     },
     "execution_count": 57,
     "metadata": {},
     "output_type": "execute_result"
    }
   ],
   "source": [
    "len(set([y for x in kept_trans_alleles for y in x]))"
   ]
  },
  {
   "cell_type": "code",
   "execution_count": 58,
   "metadata": {},
   "outputs": [
    {
     "data": {
      "text/plain": [
       "True"
      ]
     },
     "execution_count": 58,
     "metadata": {},
     "output_type": "execute_result"
    }
   ],
   "source": [
    "set([y for x in kept_trans_alleles for y in x]) == hla_i_considered"
   ]
  },
  {
   "cell_type": "code",
   "execution_count": 59,
   "metadata": {},
   "outputs": [
    {
     "data": {
      "text/plain": [
       "['A3301,A2601,B3801,B3501,C1203,C0401',\n",
       " 'A0301,A0201,B4101,B5001,C1701,C0602',\n",
       " 'A0205,A6801,B1402,B1801,C0701,C0802']"
      ]
     },
     "execution_count": 59,
     "metadata": {},
     "output_type": "execute_result"
    }
   ],
   "source": [
    "kept_trans_alleles_string = [\",\".join(x) for x in kept_trans_alleles]\n",
    "kept_trans_alleles_string[3:6]"
   ]
  },
  {
   "cell_type": "code",
   "execution_count": 60,
   "metadata": {},
   "outputs": [
    {
     "data": {
      "text/plain": [
       "['A3301,A2601,B3801,B3501,C1203,C0401',\n",
       " 'A0301,A0201,B4101,B5001,C1701,C0602',\n",
       " 'A0205,A6801,B1402,B1801,C0701,C0802']"
      ]
     },
     "execution_count": 60,
     "metadata": {},
     "output_type": "execute_result"
    }
   ],
   "source": [
    "df_2018_kept[\"hla_class_i_alleles\"].tolist()[3:6]"
   ]
  },
  {
   "cell_type": "code",
   "execution_count": 61,
   "metadata": {},
   "outputs": [
    {
     "name": "stderr",
     "output_type": "stream",
     "text": [
      "/var/folders/2w/md4qmqxd3cn9kfl7flgbmyrw0000gp/T/ipykernel_74142/2054981338.py:1: SettingWithCopyWarning: \n",
      "A value is trying to be set on a copy of a slice from a DataFrame.\n",
      "Try using .loc[row_indexer,col_indexer] = value instead\n",
      "\n",
      "See the caveats in the documentation: https://pandas.pydata.org/pandas-docs/stable/user_guide/indexing.html#returning-a-view-versus-a-copy\n",
      "  df_2018_kept['hla_class_i_alleles_replace'] = kept_trans_alleles_string\n"
     ]
    }
   ],
   "source": [
    "df_2018_kept['hla_class_i_alleles_replace'] = kept_trans_alleles_string"
   ]
  },
  {
   "cell_type": "code",
   "execution_count": 62,
   "metadata": {},
   "outputs": [
    {
     "data": {
      "text/plain": [
       "[('A0201,A3101,B3502,B3906,C0702,C0401',\n",
       "  'A0201,A3101,B3502,B3906,C0702,C0401'),\n",
       " ('A0201,A3201,B0702,B1801,C0701,C0702',\n",
       "  'A0201,A3201,B0702,B1801,C0701,C0702'),\n",
       " ('A2402,A2601,B1801,B4403,C1601,C1203',\n",
       "  'A2402,A2601,B1801,B4403,C1601,C1203')]"
      ]
     },
     "execution_count": 62,
     "metadata": {},
     "output_type": "execute_result"
    }
   ],
   "source": [
    "list(zip(df_2018_kept['hla_class_i_alleles'], df_2018_kept['hla_class_i_alleles_replace']))[:3]"
   ]
  },
  {
   "cell_type": "code",
   "execution_count": 64,
   "metadata": {},
   "outputs": [],
   "source": [
    "df_2018_kept.to_csv(\"../results/st6_chowell_2018_kept_hla_match_replace.csv\", index = False)"
   ]
  },
  {
   "cell_type": "code",
   "execution_count": null,
   "metadata": {},
   "outputs": [],
   "source": []
  }
 ],
 "metadata": {
  "kernelspec": {
   "display_name": "Python 3 (ipykernel)",
   "language": "python",
   "name": "python3"
  },
  "language_info": {
   "codemirror_mode": {
    "name": "ipython",
    "version": 3
   },
   "file_extension": ".py",
   "mimetype": "text/x-python",
   "name": "python",
   "nbconvert_exporter": "python",
   "pygments_lexer": "ipython3",
   "version": "3.9.10"
  }
 },
 "nbformat": 4,
 "nbformat_minor": 4
}
