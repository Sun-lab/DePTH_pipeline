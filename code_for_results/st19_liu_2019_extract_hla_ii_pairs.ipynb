{
 "cells": [
  {
   "cell_type": "markdown",
   "metadata": {},
   "source": [
    "Put DQA\\&DQB, DPA\\&DPB into combinations following the format of HLA-II alleles in DeWitt_2018 data, also as in the format in file:\n",
    "\n",
    "    ../data/for_encoders/HLA_II_pseudo_45.csv\n",
    "\n",
    "In addition, extract the list of all unique HLA-II alleles (including DRB1, DPAB and DQAB). \n",
    "\n"
   ]
  },
  {
   "cell_type": "code",
   "execution_count": 1,
   "metadata": {},
   "outputs": [],
   "source": [
    "import numpy as np\n",
    "import pandas as pd\n",
    "\n",
    "from collections import defaultdict\n",
    "from collections import Counter\n",
    "\n",
    "import re"
   ]
  },
  {
   "cell_type": "code",
   "execution_count": 2,
   "metadata": {},
   "outputs": [],
   "source": [
    "data_dir = \"../data/Liu_2019\""
   ]
  },
  {
   "cell_type": "code",
   "execution_count": 3,
   "metadata": {},
   "outputs": [
    {
     "data": {
      "text/plain": [
       "Index(['Unnamed: 0', 'total_muts', 'nonsyn_muts', 'clonal_muts',\n",
       "       'subclonal_muts', 'heterogeneity', 'total_neoantigens', 'CNA_prop',\n",
       "       'gender (Male=1, Female=0)', 'biopsy site', 'monthsBiopsyPreTx', 'BR',\n",
       "       'PFS', 'OS', 'TimeToBR', 'cyclesOnTherapy', 'txOngoing', 'Tx',\n",
       "       'Mstage (IIIC=0, M1a=1, M1b=2, M1c=3)', 'Tx_Start_ECOG', 'Tx_Start_LDH',\n",
       "       'LDH_Elevated', 'Brain_Met', 'Cut_SubQ_Met', 'LN_Met', 'Lung_Met',\n",
       "       'Liver_Visc_Met', 'Bone_Met', 'progressed', 'dead', 'Primary_Type',\n",
       "       'Histology', 'IOTherapy', 'steroidsGT10mgDaily', 'priorMAPKTx',\n",
       "       'priorCTLA4', 'postCTLA4', 'postMAPKTx', 'postCombinedCTLA_PD1',\n",
       "       'numPriorTherapies', 'biopsy site_categ',\n",
       "       'biopsyContext (1=Pre-Ipi; 2=On-Ipi; 3=Pre-PD1; 4=On-PD1)',\n",
       "       'daysBiopsyToPD1', 'daysBiopsyAfterIpiStart', 'purity', 'ploidy',\n",
       "       'hla_class_ii_alleles', 'homozygous', 'hla_class_ii_alleles_replace'],\n",
       "      dtype='object')"
      ]
     },
     "execution_count": 3,
     "metadata": {},
     "output_type": "execute_result"
    }
   ],
   "source": [
    "df_liu_2019_kept = pd.read_csv(\"../results/st18_liu_2019_kept_hla_ii_match_replace.csv\", header=0)\n",
    "df_liu_2019_kept.columns"
   ]
  },
  {
   "cell_type": "code",
   "execution_count": 4,
   "metadata": {},
   "outputs": [
    {
     "data": {
      "text/plain": [
       "'DRB1*04:01,DRB1*15:01,DQA1*01:02,DQA1*03:01,DQB1*03:02,DQB1*06:02,DPA1*01:03,DPA1*01:03,DPB1*04:01,DPB1*04:01'"
      ]
     },
     "execution_count": 4,
     "metadata": {},
     "output_type": "execute_result"
    }
   ],
   "source": [
    "df_liu_2019_kept.hla_class_ii_alleles_replace.tolist()[0]"
   ]
  },
  {
   "cell_type": "code",
   "execution_count": null,
   "metadata": {},
   "outputs": [],
   "source": [
    "HLA-DPAB*01:03_02:01\n",
    "HLA-DQAB*01:01_02:01\n",
    "HLA-DRB1*10:01"
   ]
  },
  {
   "cell_type": "code",
   "execution_count": 5,
   "metadata": {},
   "outputs": [],
   "source": [
    "def generate_alleles(x):\n",
    "    \n",
    "    items = x.split(\",\")\n",
    "    \n",
    "    DRB_pairs = [\"HLA-\"+items[0], \"HLA-\"+items[1]]\n",
    "    \n",
    "    DQA_1 = items[2].split(\"*\")[-1]\n",
    "    DQA_2 = items[3].split(\"*\")[-1]\n",
    "    DQB_1 = items[4].split(\"*\")[-1]\n",
    "    DQB_2 = items[5].split(\"*\")[-1]\n",
    "    \n",
    "    DQAB_pairs = [\"HLA-DQAB*\"+DQA_1+\"_\"+DQB_1, \n",
    "                  \"HLA-DQAB*\"+DQA_1+\"_\"+DQB_2, \n",
    "                  \"HLA-DQAB*\"+DQA_2+\"_\"+DQB_1, \n",
    "                  \"HLA-DQAB*\"+DQA_2+\"_\"+DQB_2]\n",
    "    \n",
    "    DPA_1 = items[6].split(\"*\")[-1]\n",
    "    DPA_2 = items[7].split(\"*\")[-1]\n",
    "    DPB_1 = items[8].split(\"*\")[-1]\n",
    "    DPB_2 = items[9].split(\"*\")[-1]\n",
    "    \n",
    "    DPAB_pairs = [\"HLA-DPAB*\"+DPA_1+\"_\"+DPB_1, \n",
    "                  \"HLA-DPAB*\"+DPA_1+\"_\"+DPB_2, \n",
    "                  \"HLA-DPAB*\"+DPA_2+\"_\"+DPB_1, \n",
    "                  \"HLA-DPAB*\"+DPA_2+\"_\"+DPB_2]   \n",
    "    \n",
    "    return DRB_pairs+DQAB_pairs+DPAB_pairs"
   ]
  },
  {
   "cell_type": "code",
   "execution_count": 6,
   "metadata": {},
   "outputs": [
    {
     "data": {
      "text/plain": [
       "['HLA-DRB1*03:01',\n",
       " 'HLA-DRB1*11:01',\n",
       " 'HLA-DQAB*05:01_02:01',\n",
       " 'HLA-DQAB*05:01_03:01',\n",
       " 'HLA-DQAB*05:05_02:01',\n",
       " 'HLA-DQAB*05:05_03:01',\n",
       " 'HLA-DPAB*01:03_01:01',\n",
       " 'HLA-DPAB*01:03_02:01',\n",
       " 'HLA-DPAB*02:01_01:01',\n",
       " 'HLA-DPAB*02:01_02:01']"
      ]
     },
     "execution_count": 6,
     "metadata": {},
     "output_type": "execute_result"
    }
   ],
   "source": [
    "generate_alleles(df_liu_2019_kept.hla_class_ii_alleles_replace.tolist()[20])"
   ]
  },
  {
   "cell_type": "code",
   "execution_count": 7,
   "metadata": {},
   "outputs": [
    {
     "data": {
      "text/plain": [
       "'DRB1*03:01,DRB1*11:01,DQA1*05:01,DQA1*05:05,DQB1*02:01,DQB1*03:01,DPA1*01:03,DPA1*02:01,DPB1*01:01,DPB1*02:01'"
      ]
     },
     "execution_count": 7,
     "metadata": {},
     "output_type": "execute_result"
    }
   ],
   "source": [
    "df_liu_2019_kept.hla_class_ii_alleles_replace.tolist()[20]"
   ]
  },
  {
   "cell_type": "code",
   "execution_count": 8,
   "metadata": {},
   "outputs": [
    {
     "data": {
      "text/plain": [
       "120"
      ]
     },
     "execution_count": 8,
     "metadata": {},
     "output_type": "execute_result"
    }
   ],
   "source": [
    "hla_class_ii_replace_reformat_list = [generate_alleles(x) for x in \\\n",
    "                                      df_liu_2019_kept.hla_class_ii_alleles_replace.tolist()]\n",
    "\n",
    "hla_class_ii_replace_reformat_string = [\",\".join(cur_list) for cur_list in \\\n",
    "                                        hla_class_ii_replace_reformat_list]\n",
    "\n",
    "len(hla_class_ii_replace_reformat_string)"
   ]
  },
  {
   "cell_type": "code",
   "execution_count": 9,
   "metadata": {},
   "outputs": [],
   "source": [
    "df_liu_2019_kept['hla_class_ii_replace_reformat'] = hla_class_ii_replace_reformat_string"
   ]
  },
  {
   "cell_type": "code",
   "execution_count": 10,
   "metadata": {},
   "outputs": [
    {
     "data": {
      "text/plain": [
       "(120, 50)"
      ]
     },
     "execution_count": 10,
     "metadata": {},
     "output_type": "execute_result"
    }
   ],
   "source": [
    "df_liu_2019_kept.shape"
   ]
  },
  {
   "cell_type": "code",
   "execution_count": 11,
   "metadata": {},
   "outputs": [],
   "source": [
    "df_liu_2019_kept.to_csv(\"../results/st19_liu_2019_kept_hla_ii_replace_reformat.csv\", \n",
    "                        index=False)"
   ]
  },
  {
   "cell_type": "markdown",
   "metadata": {},
   "source": [
    "Extract unique HLA-II alleles in the format of DeWitt 2018"
   ]
  },
  {
   "cell_type": "code",
   "execution_count": 12,
   "metadata": {},
   "outputs": [
    {
     "data": {
      "text/plain": [
       "1200"
      ]
     },
     "execution_count": 12,
     "metadata": {},
     "output_type": "execute_result"
    }
   ],
   "source": [
    "expand_list = [x for cur_list in hla_class_ii_replace_reformat_list for x in cur_list]\n",
    "len(expand_list)"
   ]
  },
  {
   "cell_type": "code",
   "execution_count": 13,
   "metadata": {},
   "outputs": [
    {
     "data": {
      "text/plain": [
       "141"
      ]
     },
     "execution_count": 13,
     "metadata": {},
     "output_type": "execute_result"
    }
   ],
   "source": [
    "unique_ii_allele_list = list(set(expand_list))\n",
    "unique_ii_allele_list.sort()\n",
    "len(unique_ii_allele_list)"
   ]
  },
  {
   "cell_type": "markdown",
   "metadata": {},
   "source": [
    "Verify whether all unique HLA-II alleles here are in the combinations formed by DQA&DQB, DPA&DPB and DRB from DeWitt 2018 data\n",
    "\n",
    "The answer is yes. "
   ]
  },
  {
   "cell_type": "code",
   "execution_count": 14,
   "metadata": {},
   "outputs": [],
   "source": [
    "df_pseudo = pd.read_csv(\"../data/for_encoders/HLA_II_pseudo_45.csv\", header = 0)"
   ]
  },
  {
   "cell_type": "code",
   "execution_count": 15,
   "metadata": {},
   "outputs": [
    {
     "data": {
      "text/plain": [
       "set()"
      ]
     },
     "execution_count": 15,
     "metadata": {},
     "output_type": "execute_result"
    }
   ],
   "source": [
    "set(unique_ii_allele_list) - set(df_pseudo.hla)"
   ]
  },
  {
   "cell_type": "code",
   "execution_count": 16,
   "metadata": {},
   "outputs": [
    {
     "data": {
      "text/html": [
       "<div>\n",
       "<style scoped>\n",
       "    .dataframe tbody tr th:only-of-type {\n",
       "        vertical-align: middle;\n",
       "    }\n",
       "\n",
       "    .dataframe tbody tr th {\n",
       "        vertical-align: top;\n",
       "    }\n",
       "\n",
       "    .dataframe thead th {\n",
       "        text-align: right;\n",
       "    }\n",
       "</style>\n",
       "<table border=\"1\" class=\"dataframe\">\n",
       "  <thead>\n",
       "    <tr style=\"text-align: right;\">\n",
       "      <th></th>\n",
       "      <th>hla</th>\n",
       "    </tr>\n",
       "  </thead>\n",
       "  <tbody>\n",
       "    <tr>\n",
       "      <th>0</th>\n",
       "      <td>HLA-DPAB*01:03_01:01</td>\n",
       "    </tr>\n",
       "    <tr>\n",
       "      <th>1</th>\n",
       "      <td>HLA-DPAB*01:03_02:01</td>\n",
       "    </tr>\n",
       "    <tr>\n",
       "      <th>2</th>\n",
       "      <td>HLA-DPAB*01:03_03:01</td>\n",
       "    </tr>\n",
       "    <tr>\n",
       "      <th>3</th>\n",
       "      <td>HLA-DPAB*01:03_04:01</td>\n",
       "    </tr>\n",
       "    <tr>\n",
       "      <th>4</th>\n",
       "      <td>HLA-DPAB*01:03_04:02</td>\n",
       "    </tr>\n",
       "    <tr>\n",
       "      <th>5</th>\n",
       "      <td>HLA-DPAB*01:03_13:01</td>\n",
       "    </tr>\n",
       "  </tbody>\n",
       "</table>\n",
       "</div>"
      ],
      "text/plain": [
       "                    hla\n",
       "0  HLA-DPAB*01:03_01:01\n",
       "1  HLA-DPAB*01:03_02:01\n",
       "2  HLA-DPAB*01:03_03:01\n",
       "3  HLA-DPAB*01:03_04:01\n",
       "4  HLA-DPAB*01:03_04:02\n",
       "5  HLA-DPAB*01:03_13:01"
      ]
     },
     "execution_count": 16,
     "metadata": {},
     "output_type": "execute_result"
    }
   ],
   "source": [
    "df_hla_ii_liu_2019_format = pd.DataFrame(unique_ii_allele_list, columns=['hla'])\n",
    "df_hla_ii_liu_2019_format[:6]"
   ]
  },
  {
   "cell_type": "code",
   "execution_count": 17,
   "metadata": {},
   "outputs": [
    {
     "data": {
      "text/plain": [
       "(141, 1)"
      ]
     },
     "execution_count": 17,
     "metadata": {},
     "output_type": "execute_result"
    }
   ],
   "source": [
    "df_hla_ii_liu_2019_format.shape"
   ]
  },
  {
   "cell_type": "code",
   "execution_count": 36,
   "metadata": {},
   "outputs": [],
   "source": [
    "df_hla_ii_liu_2019_format.to_csv(data_dir+\"/liu_2019_hla_ii_format.csv\", \n",
    "                                 index=False)"
   ]
  },
  {
   "cell_type": "code",
   "execution_count": null,
   "metadata": {},
   "outputs": [],
   "source": []
  }
 ],
 "metadata": {
  "kernelspec": {
   "display_name": "Python 3 (ipykernel)",
   "language": "python",
   "name": "python3"
  },
  "language_info": {
   "codemirror_mode": {
    "name": "ipython",
    "version": 3
   },
   "file_extension": ".py",
   "mimetype": "text/x-python",
   "name": "python",
   "nbconvert_exporter": "python",
   "pygments_lexer": "ipython3",
   "version": "3.9.10"
  }
 },
 "nbformat": 4,
 "nbformat_minor": 4
}
