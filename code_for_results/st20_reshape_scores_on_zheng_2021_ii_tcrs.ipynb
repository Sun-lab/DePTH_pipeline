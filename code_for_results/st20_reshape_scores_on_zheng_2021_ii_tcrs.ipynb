{
 "cells": [
  {
   "cell_type": "markdown",
   "metadata": {},
   "source": [
    "Loads the average score list and reshapes it to the multiple column format required by analysis in later steps"
   ]
  },
  {
   "cell_type": "code",
   "execution_count": 16,
   "metadata": {},
   "outputs": [],
   "source": [
    "import numpy as np\n",
    "import pandas as pd\n",
    "\n",
    "from collections import Counter"
   ]
  },
  {
   "cell_type": "code",
   "execution_count": 2,
   "metadata": {},
   "outputs": [
    {
     "data": {
      "text/plain": [
       "(141, 1)"
      ]
     },
     "execution_count": 2,
     "metadata": {},
     "output_type": "execute_result"
    }
   ],
   "source": [
    "hla_file = \"../data/Liu_2019/liu_2019_hla_ii_format.csv\"\n",
    "df_hla = pd.read_csv(hla_file, sep=\",\", header=0)\n",
    "df_hla.shape"
   ]
  },
  {
   "cell_type": "code",
   "execution_count": 3,
   "metadata": {},
   "outputs": [
    {
     "data": {
      "text/html": [
       "<div>\n",
       "<style scoped>\n",
       "    .dataframe tbody tr th:only-of-type {\n",
       "        vertical-align: middle;\n",
       "    }\n",
       "\n",
       "    .dataframe tbody tr th {\n",
       "        vertical-align: top;\n",
       "    }\n",
       "\n",
       "    .dataframe thead th {\n",
       "        text-align: right;\n",
       "    }\n",
       "</style>\n",
       "<table border=\"1\" class=\"dataframe\">\n",
       "  <thead>\n",
       "    <tr style=\"text-align: right;\">\n",
       "      <th></th>\n",
       "      <th>hla</th>\n",
       "    </tr>\n",
       "  </thead>\n",
       "  <tbody>\n",
       "    <tr>\n",
       "      <th>0</th>\n",
       "      <td>HLA-DPAB*01:03_01:01</td>\n",
       "    </tr>\n",
       "    <tr>\n",
       "      <th>1</th>\n",
       "      <td>HLA-DPAB*01:03_02:01</td>\n",
       "    </tr>\n",
       "  </tbody>\n",
       "</table>\n",
       "</div>"
      ],
      "text/plain": [
       "                    hla\n",
       "0  HLA-DPAB*01:03_01:01\n",
       "1  HLA-DPAB*01:03_02:01"
      ]
     },
     "execution_count": 3,
     "metadata": {},
     "output_type": "execute_result"
    }
   ],
   "source": [
    "df_hla[:2]"
   ]
  },
  {
   "cell_type": "code",
   "execution_count": 4,
   "metadata": {},
   "outputs": [
    {
     "name": "stdout",
     "output_type": "stream",
     "text": [
      "(923127, 3)\n",
      "(923127, 3)\n"
     ]
    }
   ],
   "source": [
    "df_ave_20 = pd.read_csv(\"../results/ensemble_scores/HLA_II_all_match_zheng/HLA_II_all_match_zheng_20.csv\", header=0)\n",
    "df_scores = pd.read_csv(\"../results/ensemble_scores/HLA_II_all_match_zheng_default/predicted_scores.csv\", header=0)\n",
    "\n",
    "print(df_ave_20.shape)\n",
    "print(df_scores.shape)"
   ]
  },
  {
   "cell_type": "code",
   "execution_count": 5,
   "metadata": {},
   "outputs": [
    {
     "data": {
      "text/html": [
       "<div>\n",
       "<style scoped>\n",
       "    .dataframe tbody tr th:only-of-type {\n",
       "        vertical-align: middle;\n",
       "    }\n",
       "\n",
       "    .dataframe tbody tr th {\n",
       "        vertical-align: top;\n",
       "    }\n",
       "\n",
       "    .dataframe thead th {\n",
       "        text-align: right;\n",
       "    }\n",
       "</style>\n",
       "<table border=\"1\" class=\"dataframe\">\n",
       "  <thead>\n",
       "    <tr style=\"text-align: right;\">\n",
       "      <th></th>\n",
       "      <th>tcr</th>\n",
       "      <th>hla_allele</th>\n",
       "      <th>ave</th>\n",
       "    </tr>\n",
       "  </thead>\n",
       "  <tbody>\n",
       "    <tr>\n",
       "      <th>0</th>\n",
       "      <td>TRBV20-1*01,CSAHGGFANHHEQFF</td>\n",
       "      <td>HLA-DPAB*01:03_01:01</td>\n",
       "      <td>0.916261</td>\n",
       "    </tr>\n",
       "    <tr>\n",
       "      <th>1</th>\n",
       "      <td>TRBV20-1*01,CSAHGGFANHHEQFF</td>\n",
       "      <td>HLA-DPAB*01:03_02:01</td>\n",
       "      <td>0.926451</td>\n",
       "    </tr>\n",
       "  </tbody>\n",
       "</table>\n",
       "</div>"
      ],
      "text/plain": [
       "                           tcr            hla_allele       ave\n",
       "0  TRBV20-1*01,CSAHGGFANHHEQFF  HLA-DPAB*01:03_01:01  0.916261\n",
       "1  TRBV20-1*01,CSAHGGFANHHEQFF  HLA-DPAB*01:03_02:01  0.926451"
      ]
     },
     "execution_count": 5,
     "metadata": {},
     "output_type": "execute_result"
    }
   ],
   "source": [
    "df_ave_20[:2]"
   ]
  },
  {
   "cell_type": "code",
   "execution_count": 6,
   "metadata": {},
   "outputs": [
    {
     "data": {
      "text/html": [
       "<div>\n",
       "<style scoped>\n",
       "    .dataframe tbody tr th:only-of-type {\n",
       "        vertical-align: middle;\n",
       "    }\n",
       "\n",
       "    .dataframe tbody tr th {\n",
       "        vertical-align: top;\n",
       "    }\n",
       "\n",
       "    .dataframe thead th {\n",
       "        text-align: right;\n",
       "    }\n",
       "</style>\n",
       "<table border=\"1\" class=\"dataframe\">\n",
       "  <thead>\n",
       "    <tr style=\"text-align: right;\">\n",
       "      <th></th>\n",
       "      <th>tcr</th>\n",
       "      <th>hla_allele</th>\n",
       "      <th>score</th>\n",
       "    </tr>\n",
       "  </thead>\n",
       "  <tbody>\n",
       "    <tr>\n",
       "      <th>0</th>\n",
       "      <td>TRBV20-1*01,CSAHGGFANHHEQFF</td>\n",
       "      <td>HLA-DPAB*01:03_01:01</td>\n",
       "      <td>0.916261</td>\n",
       "    </tr>\n",
       "    <tr>\n",
       "      <th>1</th>\n",
       "      <td>TRBV20-1*01,CSAHGGFANHHEQFF</td>\n",
       "      <td>HLA-DPAB*01:03_02:01</td>\n",
       "      <td>0.926451</td>\n",
       "    </tr>\n",
       "  </tbody>\n",
       "</table>\n",
       "</div>"
      ],
      "text/plain": [
       "                           tcr            hla_allele     score\n",
       "0  TRBV20-1*01,CSAHGGFANHHEQFF  HLA-DPAB*01:03_01:01  0.916261\n",
       "1  TRBV20-1*01,CSAHGGFANHHEQFF  HLA-DPAB*01:03_02:01  0.926451"
      ]
     },
     "execution_count": 6,
     "metadata": {},
     "output_type": "execute_result"
    }
   ],
   "source": [
    "df_scores[:2]"
   ]
  },
  {
   "cell_type": "code",
   "execution_count": 13,
   "metadata": {},
   "outputs": [
    {
     "name": "stdout",
     "output_type": "stream",
     "text": [
      "9.424984470651765e-08\n",
      "-9.983778026523282e-08\n"
     ]
    }
   ],
   "source": [
    "diff_list = [x-y for x,y in zip(df_ave_20.ave.tolist(), df_scores.score.tolist())]\n",
    "\n",
    "print(max(diff_list))\n",
    "print(min(diff_list))"
   ]
  },
  {
   "cell_type": "code",
   "execution_count": 17,
   "metadata": {},
   "outputs": [
    {
     "data": {
      "text/plain": [
       "Counter({True: 141})"
      ]
     },
     "execution_count": 17,
     "metadata": {},
     "output_type": "execute_result"
    }
   ],
   "source": [
    "Counter([x==y for x,y in zip(df_hla.hla.tolist(), df_scores.hla_allele.tolist()[:141])])"
   ]
  },
  {
   "cell_type": "code",
   "execution_count": 18,
   "metadata": {},
   "outputs": [],
   "source": [
    "array_scores = np.array(df_scores.score)\n",
    "mat_scores = array_scores.reshape(6547, 141)"
   ]
  },
  {
   "cell_type": "code",
   "execution_count": 19,
   "metadata": {},
   "outputs": [
    {
     "data": {
      "text/html": [
       "<div>\n",
       "<style scoped>\n",
       "    .dataframe tbody tr th:only-of-type {\n",
       "        vertical-align: middle;\n",
       "    }\n",
       "\n",
       "    .dataframe tbody tr th {\n",
       "        vertical-align: top;\n",
       "    }\n",
       "\n",
       "    .dataframe thead th {\n",
       "        text-align: right;\n",
       "    }\n",
       "</style>\n",
       "<table border=\"1\" class=\"dataframe\">\n",
       "  <thead>\n",
       "    <tr style=\"text-align: right;\">\n",
       "      <th></th>\n",
       "      <th>tcr</th>\n",
       "      <th>hla_allele</th>\n",
       "      <th>score</th>\n",
       "    </tr>\n",
       "  </thead>\n",
       "  <tbody>\n",
       "    <tr>\n",
       "      <th>0</th>\n",
       "      <td>TRBV20-1*01,CSAHGGFANHHEQFF</td>\n",
       "      <td>HLA-DPAB*01:03_01:01</td>\n",
       "      <td>0.916261</td>\n",
       "    </tr>\n",
       "    <tr>\n",
       "      <th>1</th>\n",
       "      <td>TRBV20-1*01,CSAHGGFANHHEQFF</td>\n",
       "      <td>HLA-DPAB*01:03_02:01</td>\n",
       "      <td>0.926451</td>\n",
       "    </tr>\n",
       "    <tr>\n",
       "      <th>2</th>\n",
       "      <td>TRBV20-1*01,CSAHGGFANHHEQFF</td>\n",
       "      <td>HLA-DPAB*01:03_03:01</td>\n",
       "      <td>0.937578</td>\n",
       "    </tr>\n",
       "    <tr>\n",
       "      <th>3</th>\n",
       "      <td>TRBV20-1*01,CSAHGGFANHHEQFF</td>\n",
       "      <td>HLA-DPAB*01:03_04:01</td>\n",
       "      <td>0.948547</td>\n",
       "    </tr>\n",
       "    <tr>\n",
       "      <th>4</th>\n",
       "      <td>TRBV20-1*01,CSAHGGFANHHEQFF</td>\n",
       "      <td>HLA-DPAB*01:03_04:02</td>\n",
       "      <td>0.937126</td>\n",
       "    </tr>\n",
       "    <tr>\n",
       "      <th>5</th>\n",
       "      <td>TRBV20-1*01,CSAHGGFANHHEQFF</td>\n",
       "      <td>HLA-DPAB*01:03_13:01</td>\n",
       "      <td>0.938613</td>\n",
       "    </tr>\n",
       "  </tbody>\n",
       "</table>\n",
       "</div>"
      ],
      "text/plain": [
       "                           tcr            hla_allele     score\n",
       "0  TRBV20-1*01,CSAHGGFANHHEQFF  HLA-DPAB*01:03_01:01  0.916261\n",
       "1  TRBV20-1*01,CSAHGGFANHHEQFF  HLA-DPAB*01:03_02:01  0.926451\n",
       "2  TRBV20-1*01,CSAHGGFANHHEQFF  HLA-DPAB*01:03_03:01  0.937578\n",
       "3  TRBV20-1*01,CSAHGGFANHHEQFF  HLA-DPAB*01:03_04:01  0.948547\n",
       "4  TRBV20-1*01,CSAHGGFANHHEQFF  HLA-DPAB*01:03_04:02  0.937126\n",
       "5  TRBV20-1*01,CSAHGGFANHHEQFF  HLA-DPAB*01:03_13:01  0.938613"
      ]
     },
     "execution_count": 19,
     "metadata": {},
     "output_type": "execute_result"
    }
   ],
   "source": [
    "df_scores[:6]"
   ]
  },
  {
   "cell_type": "code",
   "execution_count": 29,
   "metadata": {},
   "outputs": [
    {
     "data": {
      "text/plain": [
       "array([0.91626128, 0.92645104, 0.93757775, 0.94854701, 0.93712587,\n",
       "       0.93861265, 0.88783347, 0.88775523, 0.90847149, 0.90570677,\n",
       "       0.92623562, 0.9156317 , 0.83280893, 0.91172084, 0.85886649,\n",
       "       0.87167463, 0.91627461, 0.90697753, 0.91301781, 0.91301781,\n",
       "       0.85110991, 0.88133607, 0.86596719, 0.91481304, 0.89934842,\n",
       "       0.88064813, 0.86920928, 0.89008124, 0.91655863, 0.91655863,\n",
       "       0.85325005, 0.88002469, 0.86194922, 0.89102723, 0.87664342,\n",
       "       0.87662711, 0.84344825, 0.87430298, 0.85976059, 0.88336262,\n",
       "       0.88564111, 0.88220901, 0.88220901, 0.81730353, 0.8455705 ,\n",
       "       0.88089618, 0.87568286, 0.85503263, 0.85855341, 0.81741796,\n",
       "       0.85420365, 0.83684831, 0.86347549, 0.86269742, 0.91301781,\n",
       "       0.85110991, 0.88328063, 0.8410469 , 0.88064813, 0.91301781,\n",
       "       0.89934842, 0.9486866 , 0.9486866 , 0.876003  , 0.87662169,\n",
       "       0.89058711, 0.92385869, 0.89694813, 0.88076729, 0.86817703,\n",
       "       0.91101868, 0.87593587, 0.92307074, 0.89702503, 0.9044847 ,\n",
       "       0.88481343, 0.86972771, 0.88840227, 0.86626317, 0.88202888,\n",
       "       0.92307074, 0.89964632, 0.92307074, 0.92307074, 0.89702503,\n",
       "       0.9044847 , 0.92892766, 0.88481343, 0.86972771, 0.88840227,\n",
       "       0.86626317, 0.88189509, 0.8544288 , 0.87536035, 0.86332376,\n",
       "       0.83037354, 0.91982642, 0.91982642, 0.91024185, 0.89043418,\n",
       "       0.89496736, 0.89913106, 0.90599435, 0.86755871, 0.91982642,\n",
       "       0.91982642, 0.91024185, 0.87559387, 0.89043418, 0.91765296,\n",
       "       0.89496736, 0.88071402, 0.89913106, 0.90159132, 0.90599435,\n",
       "       0.89805137, 0.85328688, 0.95341322, 0.92082868, 0.85058089,\n",
       "       0.90633606, 0.87149671, 0.88660127, 0.94281735, 0.82159356,\n",
       "       0.83361142, 0.89129278, 0.88704969, 0.88895412, 0.87296231,\n",
       "       0.87658592, 0.8305398 , 0.87429217, 0.88690747, 0.84682025,\n",
       "       0.89676313, 0.89260243, 0.89676313, 0.87110852, 0.88188876,\n",
       "       0.81487645])"
      ]
     },
     "execution_count": 29,
     "metadata": {},
     "output_type": "execute_result"
    }
   ],
   "source": [
    "mat_scores[0]"
   ]
  },
  {
   "cell_type": "code",
   "execution_count": 30,
   "metadata": {},
   "outputs": [],
   "source": [
    "df_mat = pd.DataFrame(mat_scores, columns=df_hla.hla.tolist())"
   ]
  },
  {
   "cell_type": "code",
   "execution_count": 34,
   "metadata": {},
   "outputs": [],
   "source": [
    "df_mat.to_csv(\"../results/st20_HLA_II_zheng_2021_ensemble_reshape_20.csv\", index=False)"
   ]
  },
  {
   "cell_type": "code",
   "execution_count": null,
   "metadata": {},
   "outputs": [],
   "source": []
  }
 ],
 "metadata": {
  "kernelspec": {
   "display_name": "Python 3 (ipykernel)",
   "language": "python",
   "name": "python3"
  },
  "language_info": {
   "codemirror_mode": {
    "name": "ipython",
    "version": 3
   },
   "file_extension": ".py",
   "mimetype": "text/x-python",
   "name": "python",
   "nbconvert_exporter": "python",
   "pygments_lexer": "ipython3",
   "version": "3.9.10"
  }
 },
 "nbformat": 4,
 "nbformat_minor": 4
}
