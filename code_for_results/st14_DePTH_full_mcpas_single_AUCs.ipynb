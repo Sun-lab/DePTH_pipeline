{
 "cells": [
  {
   "cell_type": "markdown",
   "metadata": {},
   "source": [
    "Prepare files for comparing allele-wise AUCs from the first single model to those from CLAIRE"
   ]
  },
  {
   "cell_type": "code",
   "execution_count": 1,
   "metadata": {},
   "outputs": [],
   "source": [
    "import pandas as pd\n",
    "import numpy as np\n",
    "\n",
    "from collections import defaultdict\n",
    "from collections import Counter\n",
    "\n",
    "from sklearn import metrics\n",
    "\n",
    "import pickle\n",
    "\n",
    "import matplotlib.pyplot as plt\n",
    "\n",
    "import math"
   ]
  },
  {
   "cell_type": "markdown",
   "metadata": {},
   "source": [
    "### DePTH HLA-I full mcpas performance"
   ]
  },
  {
   "cell_type": "code",
   "execution_count": 4,
   "metadata": {},
   "outputs": [
    {
     "name": "stdout",
     "output_type": "stream",
     "text": [
      "(1041, 3)\n",
      "(1045, 3)\n"
     ]
    }
   ],
   "source": [
    "test_neg_score_file = \"HLA_I_full_mcpas_neg_test_5779_7821_6367/predicted_scores.csv\"\n",
    "test_pos_score_file = \"HLA_I_full_mcpas_pos_test_5779_7821_6367/predicted_scores.csv\"\n",
    "\n",
    "df_test_neg_scores = pd.read_csv(\"../results/predicted_scores/HLA_I_full_mcpas_ensemble/\"+test_neg_score_file, \n",
    "                                 header = 0)\n",
    "df_test_pos_scores = pd.read_csv(\"../results/predicted_scores/HLA_I_full_mcpas_ensemble/\"+test_pos_score_file, \n",
    "                                 header = 0)\n",
    "\n",
    "print(df_test_neg_scores.shape)\n",
    "print(df_test_pos_scores.shape)"
   ]
  },
  {
   "cell_type": "code",
   "execution_count": 5,
   "metadata": {},
   "outputs": [
    {
     "data": {
      "text/html": [
       "<div>\n",
       "<style scoped>\n",
       "    .dataframe tbody tr th:only-of-type {\n",
       "        vertical-align: middle;\n",
       "    }\n",
       "\n",
       "    .dataframe tbody tr th {\n",
       "        vertical-align: top;\n",
       "    }\n",
       "\n",
       "    .dataframe thead th {\n",
       "        text-align: right;\n",
       "    }\n",
       "</style>\n",
       "<table border=\"1\" class=\"dataframe\">\n",
       "  <thead>\n",
       "    <tr style=\"text-align: right;\">\n",
       "      <th></th>\n",
       "      <th>tcr</th>\n",
       "      <th>hla_allele</th>\n",
       "      <th>score</th>\n",
       "    </tr>\n",
       "  </thead>\n",
       "  <tbody>\n",
       "    <tr>\n",
       "      <th>0</th>\n",
       "      <td>TRBV7-2*01,CASSSSQGNQPQHF</td>\n",
       "      <td>HLA-A*02:01</td>\n",
       "      <td>0.127530</td>\n",
       "    </tr>\n",
       "    <tr>\n",
       "      <th>1</th>\n",
       "      <td>TRBV30*01,CAWEKGTSGTYEQYF</td>\n",
       "      <td>HLA-A*11:01</td>\n",
       "      <td>0.136442</td>\n",
       "    </tr>\n",
       "    <tr>\n",
       "      <th>2</th>\n",
       "      <td>TRBV27*01,CASKQGAGGLYEQYF</td>\n",
       "      <td>HLA-C*07:02</td>\n",
       "      <td>0.204902</td>\n",
       "    </tr>\n",
       "    <tr>\n",
       "      <th>3</th>\n",
       "      <td>TRBV7-9*01,CASSPQGINTEAFF</td>\n",
       "      <td>HLA-C*07:02</td>\n",
       "      <td>0.078044</td>\n",
       "    </tr>\n",
       "    <tr>\n",
       "      <th>4</th>\n",
       "      <td>TRBV20-1*01,CSARSYSGSSYNEQFF</td>\n",
       "      <td>HLA-A*02:01</td>\n",
       "      <td>0.893703</td>\n",
       "    </tr>\n",
       "    <tr>\n",
       "      <th>5</th>\n",
       "      <td>TRBV12-4*01,CASSLGRELAEAF</td>\n",
       "      <td>HLA-A*02:01</td>\n",
       "      <td>0.393354</td>\n",
       "    </tr>\n",
       "  </tbody>\n",
       "</table>\n",
       "</div>"
      ],
      "text/plain": [
       "                            tcr   hla_allele     score\n",
       "0     TRBV7-2*01,CASSSSQGNQPQHF  HLA-A*02:01  0.127530\n",
       "1     TRBV30*01,CAWEKGTSGTYEQYF  HLA-A*11:01  0.136442\n",
       "2     TRBV27*01,CASKQGAGGLYEQYF  HLA-C*07:02  0.204902\n",
       "3     TRBV7-9*01,CASSPQGINTEAFF  HLA-C*07:02  0.078044\n",
       "4  TRBV20-1*01,CSARSYSGSSYNEQFF  HLA-A*02:01  0.893703\n",
       "5     TRBV12-4*01,CASSLGRELAEAF  HLA-A*02:01  0.393354"
      ]
     },
     "execution_count": 5,
     "metadata": {},
     "output_type": "execute_result"
    }
   ],
   "source": [
    "df_test_neg_scores[:6]"
   ]
  },
  {
   "cell_type": "code",
   "execution_count": 7,
   "metadata": {},
   "outputs": [
    {
     "name": "stdout",
     "output_type": "stream",
     "text": [
      "AUC  0.76\n",
      "recall  0.65\n",
      "precision  0.71\n"
     ]
    }
   ],
   "source": [
    "pos_scores = df_test_pos_scores.score.tolist()\n",
    "neg_scores = df_test_neg_scores.score.tolist()\n",
    "\n",
    "test_y = [0 for _ in range(df_test_neg_scores.shape[0])] + [1 for _ in range(df_test_pos_scores.shape[0])]\n",
    "test_pred = neg_scores + pos_scores\n",
    "\n",
    "fpr, tpr, thresholds = metrics.roc_curve(test_y, test_pred, pos_label=1)\n",
    "print(\"AUC \", round(metrics.auc(fpr, tpr), 2))\n",
    "print(\"recall \", round(sum([x>0.5 for x in pos_scores])/len(pos_scores), 2))\n",
    "print(\"precision \", round(sum([x<=0.5 for x in neg_scores])/len(neg_scores), 2))"
   ]
  },
  {
   "cell_type": "code",
   "execution_count": null,
   "metadata": {},
   "outputs": [],
   "source": []
  },
  {
   "cell_type": "code",
   "execution_count": 8,
   "metadata": {},
   "outputs": [
    {
     "data": {
      "text/plain": [
       "['HLA-A*01:01',\n",
       " 'HLA-A*02:01',\n",
       " 'HLA-A*02:05',\n",
       " 'HLA-A*02:06',\n",
       " 'HLA-A*11:01',\n",
       " 'HLA-A*24:02',\n",
       " 'HLA-B*07:02',\n",
       " 'HLA-B*08:01',\n",
       " 'HLA-B*14:01',\n",
       " 'HLA-B*27:05',\n",
       " 'HLA-B*35:01',\n",
       " 'HLA-B*35:02',\n",
       " 'HLA-B*57:01',\n",
       " 'HLA-C*07:02',\n",
       " 'HLA-C*16:01']"
      ]
     },
     "execution_count": 8,
     "metadata": {},
     "output_type": "execute_result"
    }
   ],
   "source": [
    "HLA_I_2_compare = list(set(df_test_neg_scores.hla_allele.tolist() + df_test_pos_scores.hla_allele.tolist()))\n",
    "HLA_I_2_compare.sort()\n",
    "HLA_I_2_compare"
   ]
  },
  {
   "cell_type": "code",
   "execution_count": 10,
   "metadata": {},
   "outputs": [],
   "source": [
    "# compute allele-wise AUCs, only for HLA-I alleles with both positive and negative pairs in test data\n",
    "\n",
    "DePTH_aucs_dict = defaultdict(float)\n",
    "\n",
    "for cur_hla in HLA_I_2_compare:\n",
    "    \n",
    "    cur_test_neg_scores = [y for x, y in zip(df_test_neg_scores.hla_allele.tolist(), \n",
    "                                             df_test_neg_scores.score.tolist()) if x == cur_hla]\n",
    "    cur_test_pos_scores = [y for x, y in zip(df_test_pos_scores.hla_allele.tolist(), \n",
    "                                             df_test_pos_scores.score.tolist()) if x == cur_hla]\n",
    "\n",
    "    cur_labels = [0 for _ in range(len(cur_test_neg_scores))] + [1 for _ in range(len(cur_test_pos_scores))]\n",
    "    cur_scores = cur_test_neg_scores + cur_test_pos_scores\n",
    "\n",
    "    if len(set(cur_labels)) > 1:\n",
    "        fpr, tpr, thresholds = metrics.roc_curve(cur_labels, cur_scores, pos_label=1)\n",
    "        DePTH_aucs_dict[cur_hla] = metrics.auc(fpr, tpr)\n",
    "    else:\n",
    "        DePTH_aucs_dict[cur_hla] = np.nan"
   ]
  },
  {
   "cell_type": "code",
   "execution_count": 11,
   "metadata": {},
   "outputs": [
    {
     "data": {
      "text/plain": [
       "defaultdict(float,\n",
       "            {'HLA-A*01:01': 0.6338518690503832,\n",
       "             'HLA-A*02:01': 0.7576686354054807,\n",
       "             'HLA-A*02:05': nan,\n",
       "             'HLA-A*02:06': nan,\n",
       "             'HLA-A*11:01': 0.7326007326007327,\n",
       "             'HLA-A*24:02': 0.7023809523809524,\n",
       "             'HLA-B*07:02': 0.7235591206179441,\n",
       "             'HLA-B*08:01': 0.7548717948717949,\n",
       "             'HLA-B*14:01': nan,\n",
       "             'HLA-B*27:05': 0.7118055555555556,\n",
       "             'HLA-B*35:01': 1.0,\n",
       "             'HLA-B*35:02': nan,\n",
       "             'HLA-B*57:01': 0.93,\n",
       "             'HLA-C*07:02': 0.8470492470492471,\n",
       "             'HLA-C*16:01': nan})"
      ]
     },
     "execution_count": 11,
     "metadata": {},
     "output_type": "execute_result"
    }
   ],
   "source": [
    "DePTH_aucs_dict"
   ]
  },
  {
   "cell_type": "markdown",
   "metadata": {},
   "source": [
    "### CLAIRE performance on mcpas"
   ]
  },
  {
   "cell_type": "code",
   "execution_count": 12,
   "metadata": {},
   "outputs": [],
   "source": [
    "# load predicted scores\n",
    "df_Glazer_2022_test_pos_scores = pd.read_csv(\"../results/CLAIRE_mcpas/st2_Glazer_2022_test_pos_scores.csv\", header = 0)\n",
    "df_Glazer_2022_test_neg_scores = pd.read_csv(\"../results/CLAIRE_mcpas/st2_Glazer_2022_test_neg_scores.csv\", header = 0)"
   ]
  },
  {
   "cell_type": "code",
   "execution_count": 14,
   "metadata": {},
   "outputs": [
    {
     "name": "stdout",
     "output_type": "stream",
     "text": [
      "(1620, 10)\n",
      "(1639, 10)\n"
     ]
    }
   ],
   "source": [
    "print(df_Glazer_2022_test_pos_scores.shape)\n",
    "print(df_Glazer_2022_test_neg_scores.shape)"
   ]
  },
  {
   "cell_type": "code",
   "execution_count": 15,
   "metadata": {},
   "outputs": [
    {
     "data": {
      "text/plain": [
       "0.7120585045081689"
      ]
     },
     "execution_count": 15,
     "metadata": {},
     "output_type": "execute_result"
    }
   ],
   "source": [
    "y = np.array([1 for _ in range(df_Glazer_2022_test_pos_scores.shape[0])] + \n",
    "             [0 for _ in range(df_Glazer_2022_test_neg_scores.shape[0])])\n",
    "\n",
    "pred = np.array(df_Glazer_2022_test_pos_scores.prediction.tolist() + \n",
    "                df_Glazer_2022_test_neg_scores.prediction.tolist())\n",
    "\n",
    "fpr, tpr, thresholds = metrics.roc_curve(y, pred, pos_label=1)\n",
    "metrics.auc(fpr, tpr)"
   ]
  },
  {
   "cell_type": "code",
   "execution_count": 16,
   "metadata": {},
   "outputs": [
    {
     "data": {
      "text/plain": [
       "0.8727031380503518"
      ]
     },
     "execution_count": 16,
     "metadata": {},
     "output_type": "execute_result"
    }
   ],
   "source": [
    "# allele-wise AUC from CLAIRE on HLA-A02:01\n",
    "\n",
    "hlaa0201_pos_scores = [p for p, hla in zip(df_Glazer_2022_test_pos_scores.prediction.tolist(), \n",
    "                                           df_Glazer_2022_test_pos_scores.mhc.tolist()) if hla == \"HLA-A02:01\"]\n",
    "\n",
    "hlaa0201_neg_scores = [p for p, hla in zip(df_Glazer_2022_test_neg_scores.prediction.tolist(), \n",
    "                                           df_Glazer_2022_test_neg_scores.mhc.tolist()) if hla == \"HLA-A02:01\"]\n",
    "\n",
    "y = np.array([1 for _ in range(len(hlaa0201_pos_scores))] + \n",
    "             [0 for _ in range(len(hlaa0201_neg_scores))])\n",
    "\n",
    "pred = np.array(hlaa0201_pos_scores + hlaa0201_neg_scores)\n",
    "\n",
    "fpr, tpr, thresholds = metrics.roc_curve(y, pred, pos_label=1)\n",
    "metrics.auc(fpr, tpr)"
   ]
  },
  {
   "cell_type": "code",
   "execution_count": 17,
   "metadata": {},
   "outputs": [
    {
     "data": {
      "text/plain": [
       "0.6571443529247523"
      ]
     },
     "execution_count": 17,
     "metadata": {},
     "output_type": "execute_result"
    }
   ],
   "source": [
    "# allele-wise AUC from CLAIRE on HLA-B07:01\n",
    "\n",
    "hlab0701_pos_scores = [p for p, hla in zip(df_Glazer_2022_test_pos_scores.prediction.tolist(), \n",
    "                                           df_Glazer_2022_test_pos_scores.mhc.tolist()) if hla == \"HLA-B07:01\"]\n",
    "\n",
    "hlab0701_neg_scores = [p for p, hla in zip(df_Glazer_2022_test_neg_scores.prediction.tolist(), \n",
    "                                           df_Glazer_2022_test_neg_scores.mhc.tolist()) if hla == \"HLA-B07:01\"]\n",
    "\n",
    "y = np.array([1 for _ in range(len(hlab0701_pos_scores))] + \n",
    "             [0 for _ in range(len(hlab0701_neg_scores))])\n",
    "\n",
    "pred = np.array(hlab0701_pos_scores + hlab0701_neg_scores)\n",
    "\n",
    "fpr, tpr, thresholds = metrics.roc_curve(y, pred, pos_label=1)\n",
    "metrics.auc(fpr, tpr)"
   ]
  },
  {
   "cell_type": "code",
   "execution_count": 18,
   "metadata": {},
   "outputs": [
    {
     "data": {
      "text/plain": [
       "0.5135825400510796"
      ]
     },
     "execution_count": 18,
     "metadata": {},
     "output_type": "execute_result"
    }
   ],
   "source": [
    "# allele-wise AUC from CLAIRE on HLA-A01:01\n",
    "\n",
    "hlaa0101_pos_scores = [p for p, hla in zip(df_Glazer_2022_test_pos_scores.prediction.tolist(), \n",
    "                                           df_Glazer_2022_test_pos_scores.mhc.tolist()) if hla == \"HLA-A01:01\"]\n",
    "\n",
    "hlaa0101_neg_scores = [p for p, hla in zip(df_Glazer_2022_test_neg_scores.prediction.tolist(), \n",
    "                                           df_Glazer_2022_test_neg_scores.mhc.tolist()) if hla == \"HLA-A01:01\"]\n",
    "\n",
    "y = np.array([1 for _ in range(len(hlaa0101_pos_scores))] + \n",
    "             [0 for _ in range(len(hlaa0101_neg_scores))])\n",
    "\n",
    "pred = np.array(hlaa0101_pos_scores + hlaa0101_neg_scores)\n",
    "\n",
    "fpr, tpr, thresholds = metrics.roc_curve(y, pred, pos_label=1)\n",
    "metrics.auc(fpr, tpr)"
   ]
  },
  {
   "cell_type": "code",
   "execution_count": 19,
   "metadata": {},
   "outputs": [],
   "source": [
    "# transform the 15 HLA-I alleles that we have pseudo sequences for into the format of CLAIRE mcpas data\n",
    "hlas_kept = set([\"\".join(x.split(\"*\")) for x in HLA_I_2_compare])"
   ]
  },
  {
   "cell_type": "code",
   "execution_count": 20,
   "metadata": {},
   "outputs": [
    {
     "data": {
      "text/plain": [
       "0.7775620607715253"
      ]
     },
     "execution_count": 20,
     "metadata": {},
     "output_type": "execute_result"
    }
   ],
   "source": [
    "hla_kept_pos_scores = [p for p, hla in zip(df_Glazer_2022_test_pos_scores.prediction.tolist(), \n",
    "                                           df_Glazer_2022_test_pos_scores.mhc.tolist()) if hla in hlas_kept]\n",
    "\n",
    "hla_kept_neg_scores = [p for p, hla in zip(df_Glazer_2022_test_neg_scores.prediction.tolist(), \n",
    "                                           df_Glazer_2022_test_neg_scores.mhc.tolist()) if hla in hlas_kept]\n",
    "\n",
    "y = np.array([1 for _ in range(len(hla_kept_pos_scores))] + \n",
    "             [0 for _ in range(len(hla_kept_neg_scores))])\n",
    "\n",
    "pred = np.array(hla_kept_pos_scores + hla_kept_neg_scores)\n",
    "\n",
    "fpr, tpr, thresholds = metrics.roc_curve(y, pred, pos_label=1)\n",
    "metrics.auc(fpr, tpr)"
   ]
  },
  {
   "cell_type": "code",
   "execution_count": 21,
   "metadata": {},
   "outputs": [
    {
     "name": "stdout",
     "output_type": "stream",
     "text": [
      "1045\n",
      "1041\n"
     ]
    }
   ],
   "source": [
    "print(len(hla_kept_pos_scores))\n",
    "print(len(hla_kept_neg_scores))"
   ]
  },
  {
   "cell_type": "code",
   "execution_count": 22,
   "metadata": {},
   "outputs": [
    {
     "data": {
      "text/plain": [
       "Counter({'HLA-B07:02': 168,\n",
       "         'HLA-A02:01': 1274,\n",
       "         'HLA-DR01:04': 146,\n",
       "         'HLA-B07:01': 681,\n",
       "         'HLA-A01:01': 132,\n",
       "         'HLA-DQ08:01': 6,\n",
       "         'HLA-C07:02': 222,\n",
       "         'HLA-B08:01': 110,\n",
       "         'HLA-B27:05': 34,\n",
       "         'HLA-B42:01': 105,\n",
       "         'HLA-B57:03': 28,\n",
       "         'HLA-A24:02': 66,\n",
       "         'HLA-B35:01': 16,\n",
       "         'HLA-DR15:01': 39,\n",
       "         'HLA-DR11:01': 29,\n",
       "         'HLA-A02:06': 1,\n",
       "         'HLA-B57:01': 25,\n",
       "         'HLA-A11:01': 34,\n",
       "         'HLA-DR05:01': 23,\n",
       "         'HLA-DQ02:01': 50,\n",
       "         'HLA-DR01:15': 4,\n",
       "         'HLA-DQ01:06': 25,\n",
       "         'HLA-B27:01': 5,\n",
       "         'HLA-DR01:01': 21,\n",
       "         'HLA-A02:10': 1,\n",
       "         'HLA-DR04:01': 1,\n",
       "         'HLA-A02:13': 1,\n",
       "         'HLA-DQ02:05': 5,\n",
       "         'HLA-B35:02': 1,\n",
       "         'HLA-A02:07': 1,\n",
       "         'HLA-A02:05': 1,\n",
       "         'HLA-B14:01': 1,\n",
       "         'HLA-A02:04': 1,\n",
       "         'HLA-C16:01': 1,\n",
       "         'HLA-DQ01:01': 1})"
      ]
     },
     "execution_count": 22,
     "metadata": {},
     "output_type": "execute_result"
    }
   ],
   "source": [
    "Counter(df_Glazer_2022_test_pos_scores.mhc.tolist() + \n",
    "        df_Glazer_2022_test_neg_scores.mhc.tolist())"
   ]
  },
  {
   "cell_type": "code",
   "execution_count": 23,
   "metadata": {},
   "outputs": [
    {
     "name": "stdout",
     "output_type": "stream",
     "text": [
      "['HLA-A01:01', 'HLA-A02:01', 'HLA-A11:01', 'HLA-A24:02', 'HLA-B07:02', 'HLA-B08:01', 'HLA-B27:05', 'HLA-B35:01', 'HLA-B57:01', 'HLA-C07:02']\n"
     ]
    },
    {
     "data": {
      "text/plain": [
       "defaultdict(float,\n",
       "            {'HLA-A01:01': 0.6338518690503832,\n",
       "             'HLA-A02:01': 0.7576686354054807,\n",
       "             'HLA-A11:01': 0.7326007326007327,\n",
       "             'HLA-A24:02': 0.7023809523809524,\n",
       "             'HLA-B07:02': 0.7235591206179441,\n",
       "             'HLA-B08:01': 0.7548717948717949,\n",
       "             'HLA-B27:05': 0.7118055555555556,\n",
       "             'HLA-B35:01': 1.0,\n",
       "             'HLA-B57:01': 0.93,\n",
       "             'HLA-C07:02': 0.8470492470492471})"
      ]
     },
     "execution_count": 23,
     "metadata": {},
     "output_type": "execute_result"
    }
   ],
   "source": [
    "# convert DePTH_aucs_dict to the format as for CLAIRE mcpas\n",
    "# remove the HLAs with no positive pair or with no negative pair\n",
    "\n",
    "DePTH_aucs_mcpas_format_dict = defaultdict(float)\n",
    "\n",
    "DePTH_aucs_dict_keys = list(DePTH_aucs_dict.keys())\n",
    "\n",
    "allele_wise_compare_list = []\n",
    "\n",
    "\n",
    "for key in DePTH_aucs_dict_keys:\n",
    "    \n",
    "    if DePTH_aucs_dict[key] == DePTH_aucs_dict[key]:\n",
    "        \n",
    "        mcpas_key = \"\".join(key.split(\"*\"))\n",
    "        allele_wise_compare_list += [mcpas_key]\n",
    "        DePTH_aucs_mcpas_format_dict[mcpas_key] = DePTH_aucs_dict[key]\n",
    "        \n",
    "print(allele_wise_compare_list)\n",
    "DePTH_aucs_mcpas_format_dict"
   ]
  },
  {
   "cell_type": "code",
   "execution_count": 24,
   "metadata": {},
   "outputs": [],
   "source": [
    "# define a function to compute allele-wise AUC from CLAIRE mcpas predicted scores\n",
    "\n",
    "def allelewise_auc(cur_hla):\n",
    "    \n",
    "    cur_pos_scores = [p for p, hla in zip(df_Glazer_2022_test_pos_scores.prediction.tolist(), \n",
    "                                          df_Glazer_2022_test_pos_scores.mhc.tolist()) if hla == cur_hla]\n",
    "\n",
    "    cur_neg_scores = [p for p, hla in zip(df_Glazer_2022_test_neg_scores.prediction.tolist(), \n",
    "                                          df_Glazer_2022_test_neg_scores.mhc.tolist()) if hla == cur_hla]\n",
    "    \n",
    "    if ((len(cur_pos_scores) == 0) or (len(cur_neg_scores) == 0)):\n",
    "        \n",
    "        return np.nan\n",
    "        \n",
    "    else:\n",
    "\n",
    "        y = np.array([1 for _ in range(len(cur_pos_scores))] + \n",
    "                     [0 for _ in range(len(cur_neg_scores))])\n",
    "\n",
    "        pred = np.array(cur_pos_scores + cur_neg_scores)\n",
    "\n",
    "        fpr, tpr, thresholds = metrics.roc_curve(y, pred, pos_label=1)\n",
    "        return(metrics.auc(fpr, tpr))\n"
   ]
  },
  {
   "cell_type": "code",
   "execution_count": 25,
   "metadata": {},
   "outputs": [
    {
     "data": {
      "text/plain": [
       "defaultdict(float,\n",
       "            {'HLA-A01:01': 0.5135825400510796,\n",
       "             'HLA-A02:01': 0.8727031380503518,\n",
       "             'HLA-A11:01': 0.4505494505494506,\n",
       "             'HLA-A24:02': 0.6448412698412698,\n",
       "             'HLA-B07:02': 0.5570409982174688,\n",
       "             'HLA-B08:01': 0.4704273504273504,\n",
       "             'HLA-B27:05': 0.3194444444444445,\n",
       "             'HLA-B35:01': 0.8571428571428572,\n",
       "             'HLA-B57:01': 0.52,\n",
       "             'HLA-C07:02': 0.6127798127798127})"
      ]
     },
     "execution_count": 25,
     "metadata": {},
     "output_type": "execute_result"
    }
   ],
   "source": [
    "Glazer_2022_allelewise_dict = defaultdict(float)\n",
    "\n",
    "for cur_hla in allele_wise_compare_list:\n",
    "    Glazer_2022_allelewise_dict[cur_hla] = allelewise_auc(cur_hla)\n",
    "    \n",
    "Glazer_2022_allelewise_dict"
   ]
  },
  {
   "cell_type": "code",
   "execution_count": 27,
   "metadata": {},
   "outputs": [],
   "source": [
    "Glazer_2022_allelewise_list = [Glazer_2022_allelewise_dict[hla] for hla in allele_wise_compare_list]\n",
    "DePTH_McPAS_allelewise_list = [DePTH_aucs_mcpas_format_dict[hla] for hla in allele_wise_compare_list]"
   ]
  },
  {
   "cell_type": "code",
   "execution_count": 28,
   "metadata": {},
   "outputs": [
    {
     "data": {
      "image/png": "[encoded data removed]",
      "text/plain": [
       "<Figure size 432x288 with 1 Axes>"
      ]
     },
     "metadata": {
      "needs_background": "light"
     },
     "output_type": "display_data"
    }
   ],
   "source": [
    "plt.scatter(Glazer_2022_allelewise_list, DePTH_McPAS_allelewise_list)\n",
    "plt.plot([0.0, 1.0])\n",
    "plt.title('Allele-wise AUC')\n",
    "plt.xlabel('Glazer 2022')\n",
    "plt.ylabel('DePTH McPAS')\n",
    "plt.show()"
   ]
  },
  {
   "cell_type": "code",
   "execution_count": 29,
   "metadata": {},
   "outputs": [],
   "source": [
    "# save the AUCs out, for generating plots in the paper\n",
    "\n",
    "hlas_to_compare_star = [x[:5]+\"*\"+x[5:] for x in allele_wise_compare_list]\n",
    "\n",
    "df_allelewise_auc = pd.DataFrame(list(zip(hlas_to_compare_star, \n",
    "                                          DePTH_McPAS_allelewise_list, \n",
    "                                          Glazer_2022_allelewise_list)), \n",
    "                                 columns = [\"hla\", \"depth_mcpas\", \"glazer_server\"])"
   ]
  },
  {
   "cell_type": "code",
   "execution_count": 30,
   "metadata": {},
   "outputs": [
    {
     "data": {
      "text/html": [
       "<div>\n",
       "<style scoped>\n",
       "    .dataframe tbody tr th:only-of-type {\n",
       "        vertical-align: middle;\n",
       "    }\n",
       "\n",
       "    .dataframe tbody tr th {\n",
       "        vertical-align: top;\n",
       "    }\n",
       "\n",
       "    .dataframe thead th {\n",
       "        text-align: right;\n",
       "    }\n",
       "</style>\n",
       "<table border=\"1\" class=\"dataframe\">\n",
       "  <thead>\n",
       "    <tr style=\"text-align: right;\">\n",
       "      <th></th>\n",
       "      <th>hla</th>\n",
       "      <th>depth_mcpas</th>\n",
       "      <th>glazer_server</th>\n",
       "    </tr>\n",
       "  </thead>\n",
       "  <tbody>\n",
       "    <tr>\n",
       "      <th>0</th>\n",
       "      <td>HLA-A*01:01</td>\n",
       "      <td>0.633852</td>\n",
       "      <td>0.513583</td>\n",
       "    </tr>\n",
       "    <tr>\n",
       "      <th>1</th>\n",
       "      <td>HLA-A*02:01</td>\n",
       "      <td>0.757669</td>\n",
       "      <td>0.872703</td>\n",
       "    </tr>\n",
       "    <tr>\n",
       "      <th>2</th>\n",
       "      <td>HLA-A*11:01</td>\n",
       "      <td>0.732601</td>\n",
       "      <td>0.450549</td>\n",
       "    </tr>\n",
       "    <tr>\n",
       "      <th>3</th>\n",
       "      <td>HLA-A*24:02</td>\n",
       "      <td>0.702381</td>\n",
       "      <td>0.644841</td>\n",
       "    </tr>\n",
       "    <tr>\n",
       "      <th>4</th>\n",
       "      <td>HLA-B*07:02</td>\n",
       "      <td>0.723559</td>\n",
       "      <td>0.557041</td>\n",
       "    </tr>\n",
       "    <tr>\n",
       "      <th>5</th>\n",
       "      <td>HLA-B*08:01</td>\n",
       "      <td>0.754872</td>\n",
       "      <td>0.470427</td>\n",
       "    </tr>\n",
       "    <tr>\n",
       "      <th>6</th>\n",
       "      <td>HLA-B*27:05</td>\n",
       "      <td>0.711806</td>\n",
       "      <td>0.319444</td>\n",
       "    </tr>\n",
       "    <tr>\n",
       "      <th>7</th>\n",
       "      <td>HLA-B*35:01</td>\n",
       "      <td>1.000000</td>\n",
       "      <td>0.857143</td>\n",
       "    </tr>\n",
       "    <tr>\n",
       "      <th>8</th>\n",
       "      <td>HLA-B*57:01</td>\n",
       "      <td>0.930000</td>\n",
       "      <td>0.520000</td>\n",
       "    </tr>\n",
       "    <tr>\n",
       "      <th>9</th>\n",
       "      <td>HLA-C*07:02</td>\n",
       "      <td>0.847049</td>\n",
       "      <td>0.612780</td>\n",
       "    </tr>\n",
       "  </tbody>\n",
       "</table>\n",
       "</div>"
      ],
      "text/plain": [
       "           hla  depth_mcpas  glazer_server\n",
       "0  HLA-A*01:01     0.633852       0.513583\n",
       "1  HLA-A*02:01     0.757669       0.872703\n",
       "2  HLA-A*11:01     0.732601       0.450549\n",
       "3  HLA-A*24:02     0.702381       0.644841\n",
       "4  HLA-B*07:02     0.723559       0.557041\n",
       "5  HLA-B*08:01     0.754872       0.470427\n",
       "6  HLA-B*27:05     0.711806       0.319444\n",
       "7  HLA-B*35:01     1.000000       0.857143\n",
       "8  HLA-B*57:01     0.930000       0.520000\n",
       "9  HLA-C*07:02     0.847049       0.612780"
      ]
     },
     "execution_count": 30,
     "metadata": {},
     "output_type": "execute_result"
    }
   ],
   "source": [
    "df_allelewise_auc"
   ]
  },
  {
   "cell_type": "code",
   "execution_count": 32,
   "metadata": {},
   "outputs": [],
   "source": [
    "df_allelewise_auc.to_csv(\"../results/st14_allelewise_auc_single.csv\", index = False)"
   ]
  },
  {
   "cell_type": "code",
   "execution_count": null,
   "metadata": {},
   "outputs": [],
   "source": []
  }
 ],
 "metadata": {
  "kernelspec": {
   "display_name": "Python 3 (ipykernel)",
   "language": "python",
   "name": "python3"
  },
  "language_info": {
   "codemirror_mode": {
    "name": "ipython",
    "version": 3
   },
   "file_extension": ".py",
   "mimetype": "text/x-python",
   "name": "python",
   "nbconvert_exporter": "python",
   "pygments_lexer": "ipython3",
   "version": "3.9.10"
  }
 },
 "nbformat": 4,
 "nbformat_minor": 4
}
