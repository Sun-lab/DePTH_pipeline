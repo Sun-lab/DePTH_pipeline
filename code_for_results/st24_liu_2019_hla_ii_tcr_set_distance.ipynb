{
 "cells": [
  {
   "cell_type": "markdown",
   "metadata": {},
   "source": [
    "This notebook prepares the subject-level distances for Liu 2019 kept data, based on HLA-II alleles that are matched to DRB1 and DQA/DQB & DPA&DPB alleles that are formed by alleles from DeWitt 2018 data.\n",
    "\n",
    "This is the second step of the processing\n",
    "\n",
    "There is another step of processing (st23) before this one\n",
    "\n",
    "### hla heterozygosity metrics for each subject\n",
    "\n",
    "    depth on Zheng 2021 positive TCRs, set\n",
    "    \n",
    "    depth on Zheng 2021 positive TCRs, breadth"
   ]
  },
  {
   "cell_type": "code",
   "execution_count": 1,
   "metadata": {},
   "outputs": [],
   "source": [
    "import pandas as pd\n",
    "import numpy as np\n",
    "\n",
    "import re\n",
    "\n",
    "from collections import defaultdict\n",
    "from collections import Counter\n",
    "\n",
    "import matplotlib.pyplot as plt"
   ]
  },
  {
   "cell_type": "code",
   "execution_count": 2,
   "metadata": {},
   "outputs": [
    {
     "name": "stdout",
     "output_type": "stream",
     "text": [
      "(6547, 141)\n"
     ]
    }
   ],
   "source": [
    "# load the two predicted score files\n",
    "\n",
    "result_dir = \"../results/\"\n",
    "\n",
    "depth_file = \"st20_HLA_II_zheng_2021_ensemble_reshape_20.csv\"\n",
    "df_depth = pd.read_csv(result_dir + depth_file, header = 0)\n",
    "\n",
    "print(df_depth.shape)"
   ]
  },
  {
   "cell_type": "code",
   "execution_count": 3,
   "metadata": {},
   "outputs": [],
   "source": [
    "# verify consistency between the columns of score files and the order in liu 2019 hla ii file\n",
    "\n",
    "hla_file = \"../data/Liu_2019/liu_2019_hla_ii_format.csv\"\n",
    "df_hla = pd.read_csv(hla_file, header = 0)"
   ]
  },
  {
   "cell_type": "code",
   "execution_count": 4,
   "metadata": {},
   "outputs": [
    {
     "data": {
      "text/plain": [
       "Counter({True: 141})"
      ]
     },
     "execution_count": 4,
     "metadata": {},
     "output_type": "execute_result"
    }
   ],
   "source": [
    "Counter([a==b for a,b in zip(df_hla.hla.tolist(), df_depth.columns.tolist())])"
   ]
  },
  {
   "cell_type": "code",
   "execution_count": 5,
   "metadata": {},
   "outputs": [
    {
     "data": {
      "text/html": [
       "<div>\n",
       "<style scoped>\n",
       "    .dataframe tbody tr th:only-of-type {\n",
       "        vertical-align: middle;\n",
       "    }\n",
       "\n",
       "    .dataframe tbody tr th {\n",
       "        vertical-align: top;\n",
       "    }\n",
       "\n",
       "    .dataframe thead th {\n",
       "        text-align: right;\n",
       "    }\n",
       "</style>\n",
       "<table border=\"1\" class=\"dataframe\">\n",
       "  <thead>\n",
       "    <tr style=\"text-align: right;\">\n",
       "      <th></th>\n",
       "      <th>hla</th>\n",
       "    </tr>\n",
       "  </thead>\n",
       "  <tbody>\n",
       "    <tr>\n",
       "      <th>0</th>\n",
       "      <td>HLA-DPAB*01:03_01:01</td>\n",
       "    </tr>\n",
       "    <tr>\n",
       "      <th>1</th>\n",
       "      <td>HLA-DPAB*01:03_02:01</td>\n",
       "    </tr>\n",
       "  </tbody>\n",
       "</table>\n",
       "</div>"
      ],
      "text/plain": [
       "                    hla\n",
       "0  HLA-DPAB*01:03_01:01\n",
       "1  HLA-DPAB*01:03_02:01"
      ]
     },
     "execution_count": 5,
     "metadata": {},
     "output_type": "execute_result"
    }
   ],
   "source": [
    "df_hla[:2]"
   ]
  },
  {
   "cell_type": "code",
   "execution_count": 6,
   "metadata": {},
   "outputs": [
    {
     "data": {
      "text/plain": [
       "['HLA-DPAB*01:03_01:01', 'HLA-DPAB*01:03_02:01']"
      ]
     },
     "execution_count": 6,
     "metadata": {},
     "output_type": "execute_result"
    }
   ],
   "source": [
    "df_depth.columns.tolist()[:2]"
   ]
  },
  {
   "cell_type": "code",
   "execution_count": 7,
   "metadata": {},
   "outputs": [],
   "source": [
    "# construct a dictionary of tcr index sets for HLAs\n",
    "# use threshold 0.5\n",
    "\n",
    "cutoff = 0.5\n",
    "\n",
    "depth_hla_dict = defaultdict(set)\n",
    "\n",
    "hla_141_list = df_depth.columns.tolist()\n",
    "\n",
    "for hla in hla_141_list:\n",
    "    depth_cur_column = df_depth[hla].tolist()\n",
    "    depth_hla_dict[hla] = set([i for i, x in enumerate(depth_cur_column) if x>=cutoff])\n"
   ]
  },
  {
   "cell_type": "code",
   "execution_count": 8,
   "metadata": {},
   "outputs": [
    {
     "data": {
      "text/plain": [
       "2726"
      ]
     },
     "execution_count": 8,
     "metadata": {},
     "output_type": "execute_result"
    }
   ],
   "source": [
    "min([len(x) for x in depth_hla_dict.values()])"
   ]
  },
  {
   "cell_type": "code",
   "execution_count": 9,
   "metadata": {},
   "outputs": [
    {
     "data": {
      "text/plain": [
       "4543"
      ]
     },
     "execution_count": 9,
     "metadata": {},
     "output_type": "execute_result"
    }
   ],
   "source": [
    "max([len(x) for x in depth_hla_dict.values()])"
   ]
  },
  {
   "cell_type": "code",
   "execution_count": 12,
   "metadata": {},
   "outputs": [],
   "source": [
    "# define a function to compute the distance between two sets\n",
    "\n",
    "def set_dist(a, b):\n",
    "    de = len(a.union(b))\n",
    "    nu = len(a-b) + len(b-a)\n",
    "    return(nu/de)"
   ]
  },
  {
   "cell_type": "code",
   "execution_count": 13,
   "metadata": {},
   "outputs": [],
   "source": [
    "# load the previously extended subject feature file to add v allele heterozygosity score \n",
    "# using set distance\n",
    "\n",
    "feature_file = \"st23_liu_2019_depth_aa_scores.csv\"\n",
    "\n",
    "df_liu_2019 = pd.read_csv(result_dir + feature_file, header=0)"
   ]
  },
  {
   "cell_type": "code",
   "execution_count": 14,
   "metadata": {},
   "outputs": [
    {
     "data": {
      "text/plain": [
       "(120, 52)"
      ]
     },
     "execution_count": 14,
     "metadata": {},
     "output_type": "execute_result"
    }
   ],
   "source": [
    "df_liu_2019.shape"
   ]
  },
  {
   "cell_type": "code",
   "execution_count": 15,
   "metadata": {},
   "outputs": [],
   "source": [
    "# create a dictionary for the distance between any two hla ii alleles from \n",
    "# the 141 \n",
    "\n",
    "# one dictionary based on associated TCRs from one resource\n",
    "depth_dict = defaultdict(float)\n",
    "\n",
    "for a in hla_141_list:\n",
    "    cur_a_set = depth_hla_dict[a]\n",
    "    for b in hla_141_list:\n",
    "        cur_b_set = depth_hla_dict[b]\n",
    "        depth_dict[(a, b)] = set_dist(cur_a_set, cur_b_set)"
   ]
  },
  {
   "cell_type": "code",
   "execution_count": 16,
   "metadata": {},
   "outputs": [
    {
     "data": {
      "image/png": "[encoded data removed]",
      "text/plain": [
       "<Figure size 432x288 with 1 Axes>"
      ]
     },
     "metadata": {
      "needs_background": "light"
     },
     "output_type": "display_data"
    }
   ],
   "source": [
    "plt.hist(depth_dict.values())\n",
    "plt.show()"
   ]
  },
  {
   "cell_type": "code",
   "execution_count": 17,
   "metadata": {},
   "outputs": [
    {
     "data": {
      "text/html": [
       "<div>\n",
       "<style scoped>\n",
       "    .dataframe tbody tr th:only-of-type {\n",
       "        vertical-align: middle;\n",
       "    }\n",
       "\n",
       "    .dataframe tbody tr th {\n",
       "        vertical-align: top;\n",
       "    }\n",
       "\n",
       "    .dataframe thead th {\n",
       "        text-align: right;\n",
       "    }\n",
       "</style>\n",
       "<table border=\"1\" class=\"dataframe\">\n",
       "  <thead>\n",
       "    <tr style=\"text-align: right;\">\n",
       "      <th></th>\n",
       "      <th>Unnamed: 0</th>\n",
       "      <th>total_muts</th>\n",
       "      <th>nonsyn_muts</th>\n",
       "      <th>clonal_muts</th>\n",
       "      <th>subclonal_muts</th>\n",
       "      <th>heterogeneity</th>\n",
       "      <th>total_neoantigens</th>\n",
       "      <th>CNA_prop</th>\n",
       "      <th>gender (Male=1, Female=0)</th>\n",
       "      <th>biopsy site</th>\n",
       "      <th>...</th>\n",
       "      <th>daysBiopsyToPD1</th>\n",
       "      <th>daysBiopsyAfterIpiStart</th>\n",
       "      <th>purity</th>\n",
       "      <th>ploidy</th>\n",
       "      <th>hla_class_ii_alleles</th>\n",
       "      <th>homozygous</th>\n",
       "      <th>hla_class_ii_alleles_replace</th>\n",
       "      <th>hla_class_ii_replace_reformat</th>\n",
       "      <th>depth_ave</th>\n",
       "      <th>aa_ave</th>\n",
       "    </tr>\n",
       "  </thead>\n",
       "  <tbody>\n",
       "    <tr>\n",
       "      <th>0</th>\n",
       "      <td>Patient10</td>\n",
       "      <td>96</td>\n",
       "      <td>71</td>\n",
       "      <td>48</td>\n",
       "      <td>22</td>\n",
       "      <td>0.314286</td>\n",
       "      <td>230</td>\n",
       "      <td>0.391384</td>\n",
       "      <td>0</td>\n",
       "      <td>skin</td>\n",
       "      <td>...</td>\n",
       "      <td>-12</td>\n",
       "      <td>107</td>\n",
       "      <td>0.83</td>\n",
       "      <td>1.84</td>\n",
       "      <td>DRB1*04:01,DRB1*15:01,DQA1*01:02,DQA1*03:01,DQ...</td>\n",
       "      <td>1</td>\n",
       "      <td>DRB1*04:01,DRB1*15:01,DQA1*01:02,DQA1*03:01,DQ...</td>\n",
       "      <td>HLA-DRB1*04:01,HLA-DRB1*15:01,HLA-DQAB*01:02_0...</td>\n",
       "      <td>0.024536</td>\n",
       "      <td>0.150551</td>\n",
       "    </tr>\n",
       "    <tr>\n",
       "      <th>1</th>\n",
       "      <td>Patient100</td>\n",
       "      <td>200</td>\n",
       "      <td>126</td>\n",
       "      <td>98</td>\n",
       "      <td>24</td>\n",
       "      <td>0.196721</td>\n",
       "      <td>301</td>\n",
       "      <td>0.029447</td>\n",
       "      <td>0</td>\n",
       "      <td>skin</td>\n",
       "      <td>...</td>\n",
       "      <td>-94</td>\n",
       "      <td>33</td>\n",
       "      <td>0.11</td>\n",
       "      <td>2.17</td>\n",
       "      <td>DRB1*01:01,DRB1*15:01,DQA1*01:01,DQA1*01:02,DQ...</td>\n",
       "      <td>1</td>\n",
       "      <td>DRB1*01:01,DRB1*15:01,DQA1*01:01,DQA1*01:02,DQ...</td>\n",
       "      <td>HLA-DRB1*01:01,HLA-DRB1*15:01,HLA-DQAB*01:01_0...</td>\n",
       "      <td>0.017504</td>\n",
       "      <td>0.114182</td>\n",
       "    </tr>\n",
       "  </tbody>\n",
       "</table>\n",
       "<p>2 rows × 52 columns</p>\n",
       "</div>"
      ],
      "text/plain": [
       "   Unnamed: 0  total_muts  nonsyn_muts  clonal_muts  subclonal_muts  \\\n",
       "0   Patient10          96           71           48              22   \n",
       "1  Patient100         200          126           98              24   \n",
       "\n",
       "   heterogeneity  total_neoantigens  CNA_prop  gender (Male=1, Female=0)  \\\n",
       "0       0.314286                230  0.391384                          0   \n",
       "1       0.196721                301  0.029447                          0   \n",
       "\n",
       "  biopsy site  ...  daysBiopsyToPD1 daysBiopsyAfterIpiStart  purity  ploidy  \\\n",
       "0        skin  ...              -12                     107    0.83    1.84   \n",
       "1        skin  ...              -94                      33    0.11    2.17   \n",
       "\n",
       "                                hla_class_ii_alleles homozygous  \\\n",
       "0  DRB1*04:01,DRB1*15:01,DQA1*01:02,DQA1*03:01,DQ...          1   \n",
       "1  DRB1*01:01,DRB1*15:01,DQA1*01:01,DQA1*01:02,DQ...          1   \n",
       "\n",
       "                        hla_class_ii_alleles_replace  \\\n",
       "0  DRB1*04:01,DRB1*15:01,DQA1*01:02,DQA1*03:01,DQ...   \n",
       "1  DRB1*01:01,DRB1*15:01,DQA1*01:01,DQA1*01:02,DQ...   \n",
       "\n",
       "                       hla_class_ii_replace_reformat  depth_ave    aa_ave  \n",
       "0  HLA-DRB1*04:01,HLA-DRB1*15:01,HLA-DQAB*01:02_0...   0.024536  0.150551  \n",
       "1  HLA-DRB1*01:01,HLA-DRB1*15:01,HLA-DQAB*01:01_0...   0.017504  0.114182  \n",
       "\n",
       "[2 rows x 52 columns]"
      ]
     },
     "execution_count": 17,
     "metadata": {},
     "output_type": "execute_result"
    }
   ],
   "source": [
    "df_liu_2019[:2]"
   ]
  },
  {
   "cell_type": "code",
   "execution_count": 18,
   "metadata": {},
   "outputs": [
    {
     "data": {
      "text/plain": [
       "'HLA-DRB1*04:01,HLA-DRB1*15:01,HLA-DQAB*01:02_03:02,HLA-DQAB*01:02_06:02,HLA-DQAB*03:01_03:02,HLA-DQAB*03:01_06:02,HLA-DPAB*01:03_04:01,HLA-DPAB*01:03_04:01,HLA-DPAB*01:03_04:01,HLA-DPAB*01:03_04:01'"
      ]
     },
     "execution_count": 18,
     "metadata": {},
     "output_type": "execute_result"
    }
   ],
   "source": [
    "df_liu_2019.hla_class_ii_replace_reformat.tolist()[0]"
   ]
  },
  {
   "cell_type": "code",
   "execution_count": 19,
   "metadata": {},
   "outputs": [],
   "source": [
    "# compute the distance for each subject based on TCR sets\n",
    "\n",
    "# for DRB, use the set distance between the two\n",
    "# for DQAB, use the average of six set distances\n",
    "# for DQAB, use the average of six set distances\n",
    "\n",
    "\n",
    "def ave_six(input_list, input_dict):\n",
    "    \n",
    "    temp_dist = 0\n",
    "    \n",
    "    for i in range(3):\n",
    "        for j in range((i+1),4):\n",
    "            temp_dist += input_dict[(input_list[i], input_list[j])]\n",
    "            \n",
    "    temp_result = temp_dist/6\n",
    "    return temp_result\n",
    "\n",
    "\n",
    "\n",
    "\n",
    "genotype_replace_list = [x.split(\",\") for x in df_liu_2019.hla_class_ii_replace_reformat.tolist()]\n",
    "\n",
    "set_depth_rr = []\n",
    "set_depth_qq = []\n",
    "set_depth_pp = []\n",
    "\n",
    "for genotype in genotype_replace_list:\n",
    "    \n",
    "    set_depth_rr += [depth_dict[(genotype[0], genotype[1])]]\n",
    "    \n",
    "    set_depth_qq += [ave_six(genotype[2:6], depth_dict)]   \n",
    "    set_depth_pp += [ave_six(genotype[6:], depth_dict)]\n",
    "\n",
    "set_depth_ave = [(x+y+z)/3 for x,y,z in zip(set_depth_rr, set_depth_qq, set_depth_pp)]"
   ]
  },
  {
   "cell_type": "code",
   "execution_count": 20,
   "metadata": {},
   "outputs": [],
   "source": [
    "df_liu_2019[\"depth_set_ave\"] = set_depth_ave"
   ]
  },
  {
   "cell_type": "code",
   "execution_count": 21,
   "metadata": {},
   "outputs": [
    {
     "data": {
      "text/plain": [
       "(120, 53)"
      ]
     },
     "execution_count": 21,
     "metadata": {},
     "output_type": "execute_result"
    }
   ],
   "source": [
    "df_liu_2019.shape"
   ]
  },
  {
   "cell_type": "code",
   "execution_count": 22,
   "metadata": {},
   "outputs": [
    {
     "data": {
      "text/plain": [
       "['Unnamed: 0',\n",
       " 'total_muts',\n",
       " 'nonsyn_muts',\n",
       " 'clonal_muts',\n",
       " 'subclonal_muts',\n",
       " 'heterogeneity',\n",
       " 'total_neoantigens',\n",
       " 'CNA_prop',\n",
       " 'gender (Male=1, Female=0)',\n",
       " 'biopsy site',\n",
       " 'monthsBiopsyPreTx',\n",
       " 'BR',\n",
       " 'PFS',\n",
       " 'OS',\n",
       " 'TimeToBR',\n",
       " 'cyclesOnTherapy',\n",
       " 'txOngoing',\n",
       " 'Tx',\n",
       " 'Mstage (IIIC=0, M1a=1, M1b=2, M1c=3)',\n",
       " 'Tx_Start_ECOG',\n",
       " 'Tx_Start_LDH',\n",
       " 'LDH_Elevated',\n",
       " 'Brain_Met',\n",
       " 'Cut_SubQ_Met',\n",
       " 'LN_Met',\n",
       " 'Lung_Met',\n",
       " 'Liver_Visc_Met',\n",
       " 'Bone_Met',\n",
       " 'progressed',\n",
       " 'dead',\n",
       " 'Primary_Type',\n",
       " 'Histology',\n",
       " 'IOTherapy',\n",
       " 'steroidsGT10mgDaily',\n",
       " 'priorMAPKTx',\n",
       " 'priorCTLA4',\n",
       " 'postCTLA4',\n",
       " 'postMAPKTx',\n",
       " 'postCombinedCTLA_PD1',\n",
       " 'numPriorTherapies',\n",
       " 'biopsy site_categ',\n",
       " 'biopsyContext (1=Pre-Ipi; 2=On-Ipi; 3=Pre-PD1; 4=On-PD1)',\n",
       " 'daysBiopsyToPD1',\n",
       " 'daysBiopsyAfterIpiStart',\n",
       " 'purity',\n",
       " 'ploidy',\n",
       " 'hla_class_ii_alleles',\n",
       " 'homozygous',\n",
       " 'hla_class_ii_alleles_replace',\n",
       " 'hla_class_ii_replace_reformat',\n",
       " 'depth_ave',\n",
       " 'aa_ave',\n",
       " 'depth_set_ave']"
      ]
     },
     "execution_count": 22,
     "metadata": {},
     "output_type": "execute_result"
    }
   ],
   "source": [
    "df_liu_2019.columns.tolist()"
   ]
  },
  {
   "cell_type": "code",
   "execution_count": 23,
   "metadata": {},
   "outputs": [
    {
     "data": {
      "image/png": "[encoded data removed]",
      "text/plain": [
       "<Figure size 432x288 with 1 Axes>"
      ]
     },
     "metadata": {
      "needs_background": "light"
     },
     "output_type": "display_data"
    }
   ],
   "source": [
    "plt.scatter(df_liu_2019.depth_ave, df_liu_2019.depth_set_ave)\n",
    "plt.show()"
   ]
  },
  {
   "cell_type": "code",
   "execution_count": 24,
   "metadata": {},
   "outputs": [
    {
     "data": {
      "text/plain": [
       "True"
      ]
     },
     "execution_count": 24,
     "metadata": {},
     "output_type": "execute_result"
    }
   ],
   "source": [
    "set([x for y in genotype_replace_list for x in y]) == set(df_hla.hla)"
   ]
  },
  {
   "cell_type": "code",
   "execution_count": 25,
   "metadata": {},
   "outputs": [],
   "source": [
    "# compute hla breadth metric for each subject\n",
    "\n",
    "# first, get list of sets with unioned set of TCRs as the set\n",
    "\n",
    "depth_subject_list = []\n",
    "\n",
    "for geno in genotype_replace_list:\n",
    "    \n",
    "    ten_depth_sets = [depth_hla_dict[geno[0]], depth_hla_dict[geno[1]], \n",
    "                      depth_hla_dict[geno[2]], depth_hla_dict[geno[3]],\n",
    "                      depth_hla_dict[geno[4]], depth_hla_dict[geno[5]], \n",
    "                      depth_hla_dict[geno[6]], depth_hla_dict[geno[7]],\n",
    "                      depth_hla_dict[geno[8]], depth_hla_dict[geno[9]]]\n",
    "                    \n",
    "    cur_depth_union = set().union(*ten_depth_sets)\n",
    "                    \n",
    "    depth_subject_list += [cur_depth_union]\n",
    "    \n",
    "    \n",
    "# second, get hla breadth for each subject\n",
    "\n",
    "depth_breadth = [len(x) for x in depth_subject_list]\n",
    "   \n",
    "df_liu_2019[\"depth_breadth\"] = depth_breadth"
   ]
  },
  {
   "cell_type": "code",
   "execution_count": 26,
   "metadata": {},
   "outputs": [
    {
     "data": {
      "image/png": "[encoded data removed]",
      "text/plain": [
       "<Figure size 432x288 with 1 Axes>"
      ]
     },
     "metadata": {
      "needs_background": "light"
     },
     "output_type": "display_data"
    }
   ],
   "source": [
    "plt.scatter(df_liu_2019.depth_breadth, df_liu_2019.depth_ave)\n",
    "plt.show()"
   ]
  },
  {
   "cell_type": "code",
   "execution_count": 27,
   "metadata": {},
   "outputs": [
    {
     "data": {
      "image/png": "[encoded data removed]",
      "text/plain": [
       "<Figure size 432x288 with 1 Axes>"
      ]
     },
     "metadata": {
      "needs_background": "light"
     },
     "output_type": "display_data"
    }
   ],
   "source": [
    "plt.scatter(df_liu_2019.depth_breadth, df_liu_2019.depth_set_ave)\n",
    "plt.show()"
   ]
  },
  {
   "cell_type": "code",
   "execution_count": 28,
   "metadata": {},
   "outputs": [
    {
     "data": {
      "image/png": "[encoded data removed]",
      "text/plain": [
       "<Figure size 432x288 with 1 Axes>"
      ]
     },
     "metadata": {
      "needs_background": "light"
     },
     "output_type": "display_data"
    }
   ],
   "source": [
    "plt.scatter(df_liu_2019.depth_breadth, df_liu_2019.aa_ave)\n",
    "plt.show()"
   ]
  },
  {
   "cell_type": "code",
   "execution_count": 29,
   "metadata": {},
   "outputs": [],
   "source": [
    "# save the extended df_liu_2019 file out\n",
    "df_liu_2019.to_csv(\"../results/st24_liu_2019_hla_ii_depth_aa_set_breadth.csv\", \n",
    "                   index = False)"
   ]
  },
  {
   "cell_type": "code",
   "execution_count": null,
   "metadata": {},
   "outputs": [],
   "source": []
  }
 ],
 "metadata": {
  "kernelspec": {
   "display_name": "Python 3 (ipykernel)",
   "language": "python",
   "name": "python3"
  },
  "language_info": {
   "codemirror_mode": {
    "name": "ipython",
    "version": 3
   },
   "file_extension": ".py",
   "mimetype": "text/x-python",
   "name": "python",
   "nbconvert_exporter": "python",
   "pygments_lexer": "ipython3",
   "version": "3.9.10"
  }
 },
 "nbformat": 4,
 "nbformat_minor": 4
}
