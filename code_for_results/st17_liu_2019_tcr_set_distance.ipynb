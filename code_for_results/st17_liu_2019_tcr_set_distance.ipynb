{
 "cells": [
  {
   "cell_type": "markdown",
   "metadata": {},
   "source": [
    "This notebook prepares the subject-level distances for Liu 2019 kept data\n",
    "\n",
    "This is the second step of the processing\n",
    "\n",
    "There is another step of processing (st16) before this one\n",
    "\n",
    "### hla heterozygosity metrics for each subject\n",
    "\n",
    "    depth on Zheng 2021 positive TCRs, set\n",
    "    \n",
    "    depth on Zheng 2021 positive TCRs, breadth"
   ]
  },
  {
   "cell_type": "code",
   "execution_count": 1,
   "metadata": {},
   "outputs": [],
   "source": [
    "import pandas as pd\n",
    "import numpy as np\n",
    "\n",
    "import re\n",
    "\n",
    "from collections import defaultdict\n",
    "from collections import Counter\n",
    "\n",
    "import matplotlib.pyplot as plt"
   ]
  },
  {
   "cell_type": "code",
   "execution_count": 2,
   "metadata": {},
   "outputs": [
    {
     "name": "stdout",
     "output_type": "stream",
     "text": [
      "(10008, 85)\n"
     ]
    }
   ],
   "source": [
    "# load the two predicted score files\n",
    "\n",
    "result_dir = \"../results/\"\n",
    "\n",
    "depth_file = \"st4_HLA_I_zheng_2021_ensemble_reshape_20.csv\"\n",
    "\n",
    "df_depth = pd.read_csv(result_dir + depth_file, header = 0)\n",
    "\n",
    "print(df_depth.shape)"
   ]
  },
  {
   "cell_type": "code",
   "execution_count": 3,
   "metadata": {},
   "outputs": [],
   "source": [
    "# verify consistency between the columns of score files and the order in pseudo seq file\n",
    "ori_data_dir = \"../data/\"\n",
    "pseudo_file = \"for_encoders/HLA_I_pseudo_40.csv\"\n",
    "df_pseudo = pd.read_csv(ori_data_dir + pseudo_file, header = 0)"
   ]
  },
  {
   "cell_type": "code",
   "execution_count": 4,
   "metadata": {},
   "outputs": [
    {
     "data": {
      "text/plain": [
       "Counter({True: 85})"
      ]
     },
     "execution_count": 4,
     "metadata": {},
     "output_type": "execute_result"
    }
   ],
   "source": [
    "Counter([a==b for a,b in zip(df_pseudo.hla.tolist(), df_depth.columns.tolist())])"
   ]
  },
  {
   "cell_type": "code",
   "execution_count": 5,
   "metadata": {},
   "outputs": [],
   "source": [
    "# construct a dictionary of tcr index sets for HLAs\n",
    "# use threshold 0.5\n",
    "\n",
    "cutoff = 0.5\n",
    "\n",
    "depth_hla_dict = defaultdict(set)\n",
    "\n",
    "hla_85_list = df_depth.columns.tolist()\n",
    "\n",
    "for hla in hla_85_list:\n",
    "    hla_formatted = \"\".join(re.split('-|\\*|:', hla)[1:])\n",
    "    depth_cur_column = df_depth[hla].tolist()\n",
    "    depth_hla_dict[hla_formatted] = set([i for i, x in enumerate(depth_cur_column) if x>=cutoff])"
   ]
  },
  {
   "cell_type": "code",
   "execution_count": 6,
   "metadata": {},
   "outputs": [
    {
     "data": {
      "text/plain": [
       "3368"
      ]
     },
     "execution_count": 6,
     "metadata": {},
     "output_type": "execute_result"
    }
   ],
   "source": [
    "min([len(x) for x in depth_hla_dict.values()])"
   ]
  },
  {
   "cell_type": "code",
   "execution_count": 7,
   "metadata": {},
   "outputs": [
    {
     "data": {
      "text/plain": [
       "6007"
      ]
     },
     "execution_count": 7,
     "metadata": {},
     "output_type": "execute_result"
    }
   ],
   "source": [
    "max([len(x) for x in depth_hla_dict.values()])"
   ]
  },
  {
   "cell_type": "code",
   "execution_count": 8,
   "metadata": {},
   "outputs": [],
   "source": [
    "# define a function to compute the distance between two sets\n",
    "\n",
    "def set_dist(a, b):\n",
    "    de = len(a.union(b))\n",
    "    nu = len(a-b) + len(b-a)\n",
    "    return(nu/de)"
   ]
  },
  {
   "cell_type": "code",
   "execution_count": 9,
   "metadata": {},
   "outputs": [],
   "source": [
    "# load the previously extended subject feature file to add v allele heterozygosity score \n",
    "# using set distance\n",
    "\n",
    "feature_file = \"st16_liu_2019_depth_aa_scores.csv\"\n",
    "\n",
    "df_liu_2019 = pd.read_csv(result_dir + feature_file, header=0)"
   ]
  },
  {
   "cell_type": "code",
   "execution_count": 10,
   "metadata": {},
   "outputs": [],
   "source": [
    "# create a dictionary for the distance between any two hla i alleles from \n",
    "# the 85 under consideration\n",
    "hla_i_85_format = [\"\".join(re.split('-|\\*|:', x)[1:]) for x in df_depth.columns.tolist()]\n",
    "\n",
    "# one dictionary based on associated TCRs from one resource\n",
    "depth_dict = defaultdict(float)\n",
    "\n",
    "for a in hla_i_85_format:\n",
    "    cur_a_set = depth_hla_dict[a]\n",
    "    for b in hla_i_85_format:\n",
    "        cur_b_set = depth_hla_dict[b]\n",
    "        depth_dict[(a, b)] = set_dist(cur_a_set, cur_b_set)"
   ]
  },
  {
   "cell_type": "code",
   "execution_count": 11,
   "metadata": {},
   "outputs": [
    {
     "data": {
      "image/png": "[encoded data removed]",
      "text/plain": [
       "<Figure size 432x288 with 1 Axes>"
      ]
     },
     "metadata": {
      "needs_background": "light"
     },
     "output_type": "display_data"
    }
   ],
   "source": [
    "plt.hist(depth_dict.values())\n",
    "plt.show()"
   ]
  },
  {
   "cell_type": "code",
   "execution_count": 12,
   "metadata": {},
   "outputs": [],
   "source": [
    "plot_depth_dict_keys = list(depth_dict.keys())\n",
    "plot_depth_dict_values = [depth_dict[x] for x in plot_depth_dict_keys]"
   ]
  },
  {
   "cell_type": "code",
   "execution_count": 13,
   "metadata": {},
   "outputs": [
    {
     "data": {
      "text/html": [
       "<div>\n",
       "<style scoped>\n",
       "    .dataframe tbody tr th:only-of-type {\n",
       "        vertical-align: middle;\n",
       "    }\n",
       "\n",
       "    .dataframe tbody tr th {\n",
       "        vertical-align: top;\n",
       "    }\n",
       "\n",
       "    .dataframe thead th {\n",
       "        text-align: right;\n",
       "    }\n",
       "</style>\n",
       "<table border=\"1\" class=\"dataframe\">\n",
       "  <thead>\n",
       "    <tr style=\"text-align: right;\">\n",
       "      <th></th>\n",
       "      <th>Unnamed: 0</th>\n",
       "      <th>total_muts</th>\n",
       "      <th>nonsyn_muts</th>\n",
       "      <th>clonal_muts</th>\n",
       "      <th>subclonal_muts</th>\n",
       "      <th>heterogeneity</th>\n",
       "      <th>total_neoantigens</th>\n",
       "      <th>CNA_prop</th>\n",
       "      <th>gender (Male=1, Female=0)</th>\n",
       "      <th>biopsy site</th>\n",
       "      <th>...</th>\n",
       "      <th>biopsyContext (1=Pre-Ipi; 2=On-Ipi; 3=Pre-PD1; 4=On-PD1)</th>\n",
       "      <th>daysBiopsyToPD1</th>\n",
       "      <th>daysBiopsyAfterIpiStart</th>\n",
       "      <th>purity</th>\n",
       "      <th>ploidy</th>\n",
       "      <th>hla_class_i_alleles</th>\n",
       "      <th>homozygous</th>\n",
       "      <th>hla_class_i_alleles_replace</th>\n",
       "      <th>depth_ave</th>\n",
       "      <th>aa_ave</th>\n",
       "    </tr>\n",
       "  </thead>\n",
       "  <tbody>\n",
       "    <tr>\n",
       "      <th>0</th>\n",
       "      <td>Patient1</td>\n",
       "      <td>34</td>\n",
       "      <td>22</td>\n",
       "      <td>12</td>\n",
       "      <td>10</td>\n",
       "      <td>0.454545</td>\n",
       "      <td>49</td>\n",
       "      <td>0.321417</td>\n",
       "      <td>0</td>\n",
       "      <td>skin</td>\n",
       "      <td>...</td>\n",
       "      <td>3</td>\n",
       "      <td>-84</td>\n",
       "      <td>unk</td>\n",
       "      <td>0.92</td>\n",
       "      <td>1.73</td>\n",
       "      <td>A0201,A1101,B1801,B4402,C0501,C1203</td>\n",
       "      <td>0</td>\n",
       "      <td>A0201,A1101,B1801,B4402,C0501,C1203</td>\n",
       "      <td>0.024470</td>\n",
       "      <td>0.283245</td>\n",
       "    </tr>\n",
       "    <tr>\n",
       "      <th>1</th>\n",
       "      <td>Patient10</td>\n",
       "      <td>96</td>\n",
       "      <td>71</td>\n",
       "      <td>48</td>\n",
       "      <td>22</td>\n",
       "      <td>0.314286</td>\n",
       "      <td>230</td>\n",
       "      <td>0.391384</td>\n",
       "      <td>0</td>\n",
       "      <td>skin</td>\n",
       "      <td>...</td>\n",
       "      <td>3</td>\n",
       "      <td>-12</td>\n",
       "      <td>107</td>\n",
       "      <td>0.83</td>\n",
       "      <td>1.84</td>\n",
       "      <td>A0101,A0201,B0801,B1501,C0304,C0701</td>\n",
       "      <td>0</td>\n",
       "      <td>A0101,A0201,B0801,B1501,C0304,C0701</td>\n",
       "      <td>0.051861</td>\n",
       "      <td>0.343986</td>\n",
       "    </tr>\n",
       "  </tbody>\n",
       "</table>\n",
       "<p>2 rows × 51 columns</p>\n",
       "</div>"
      ],
      "text/plain": [
       "  Unnamed: 0  total_muts  nonsyn_muts  clonal_muts  subclonal_muts  \\\n",
       "0   Patient1          34           22           12              10   \n",
       "1  Patient10          96           71           48              22   \n",
       "\n",
       "   heterogeneity  total_neoantigens  CNA_prop  gender (Male=1, Female=0)  \\\n",
       "0       0.454545                 49  0.321417                          0   \n",
       "1       0.314286                230  0.391384                          0   \n",
       "\n",
       "  biopsy site  ...  biopsyContext (1=Pre-Ipi; 2=On-Ipi; 3=Pre-PD1; 4=On-PD1)  \\\n",
       "0        skin  ...                                                  3          \n",
       "1        skin  ...                                                  3          \n",
       "\n",
       "  daysBiopsyToPD1  daysBiopsyAfterIpiStart  purity  ploidy  \\\n",
       "0             -84                      unk    0.92    1.73   \n",
       "1             -12                      107    0.83    1.84   \n",
       "\n",
       "                   hla_class_i_alleles  homozygous  \\\n",
       "0  A0201,A1101,B1801,B4402,C0501,C1203           0   \n",
       "1  A0101,A0201,B0801,B1501,C0304,C0701           0   \n",
       "\n",
       "           hla_class_i_alleles_replace  depth_ave    aa_ave  \n",
       "0  A0201,A1101,B1801,B4402,C0501,C1203   0.024470  0.283245  \n",
       "1  A0101,A0201,B0801,B1501,C0304,C0701   0.051861  0.343986  \n",
       "\n",
       "[2 rows x 51 columns]"
      ]
     },
     "execution_count": 13,
     "metadata": {},
     "output_type": "execute_result"
    }
   ],
   "source": [
    "df_liu_2019[:2]"
   ]
  },
  {
   "cell_type": "code",
   "execution_count": 14,
   "metadata": {},
   "outputs": [],
   "source": [
    "# compute the distance for each subject based on TCR sets\n",
    "\n",
    "\n",
    "genotype_replace_list = [x.split(\",\") for x in df_liu_2019.hla_class_i_alleles_replace.tolist()]\n",
    "\n",
    "set_depth_aa = []\n",
    "set_depth_bb = []\n",
    "set_depth_cc = []\n",
    "\n",
    "for genotype in genotype_replace_list:\n",
    "    set_depth_aa += [depth_dict[(genotype[0], genotype[1])]]\n",
    "    set_depth_bb += [depth_dict[(genotype[2], genotype[3])]]   \n",
    "    set_depth_cc += [depth_dict[(genotype[4], genotype[5])]]\n",
    "\n",
    "set_depth_ave = [(x+y+z)/3 for x,y,z in zip(set_depth_aa, set_depth_bb, set_depth_cc)]"
   ]
  },
  {
   "cell_type": "code",
   "execution_count": 15,
   "metadata": {},
   "outputs": [],
   "source": [
    "df_liu_2019[\"depth_set_ave\"] = set_depth_ave"
   ]
  },
  {
   "cell_type": "code",
   "execution_count": 16,
   "metadata": {},
   "outputs": [
    {
     "data": {
      "text/plain": [
       "(143, 52)"
      ]
     },
     "execution_count": 16,
     "metadata": {},
     "output_type": "execute_result"
    }
   ],
   "source": [
    "df_liu_2019.shape"
   ]
  },
  {
   "cell_type": "code",
   "execution_count": 17,
   "metadata": {},
   "outputs": [
    {
     "data": {
      "text/plain": [
       "['Unnamed: 0',\n",
       " 'total_muts',\n",
       " 'nonsyn_muts',\n",
       " 'clonal_muts',\n",
       " 'subclonal_muts',\n",
       " 'heterogeneity',\n",
       " 'total_neoantigens',\n",
       " 'CNA_prop',\n",
       " 'gender (Male=1, Female=0)',\n",
       " 'biopsy site',\n",
       " 'monthsBiopsyPreTx',\n",
       " 'BR',\n",
       " 'PFS',\n",
       " 'OS',\n",
       " 'TimeToBR',\n",
       " 'cyclesOnTherapy',\n",
       " 'txOngoing',\n",
       " 'Tx',\n",
       " 'Mstage (IIIC=0, M1a=1, M1b=2, M1c=3)',\n",
       " 'Tx_Start_ECOG',\n",
       " 'Tx_Start_LDH',\n",
       " 'LDH_Elevated',\n",
       " 'Brain_Met',\n",
       " 'Cut_SubQ_Met',\n",
       " 'LN_Met',\n",
       " 'Lung_Met',\n",
       " 'Liver_Visc_Met',\n",
       " 'Bone_Met',\n",
       " 'progressed',\n",
       " 'dead',\n",
       " 'Primary_Type',\n",
       " 'Histology',\n",
       " 'IOTherapy',\n",
       " 'steroidsGT10mgDaily',\n",
       " 'priorMAPKTx',\n",
       " 'priorCTLA4',\n",
       " 'postCTLA4',\n",
       " 'postMAPKTx',\n",
       " 'postCombinedCTLA_PD1',\n",
       " 'numPriorTherapies',\n",
       " 'biopsy site_categ',\n",
       " 'biopsyContext (1=Pre-Ipi; 2=On-Ipi; 3=Pre-PD1; 4=On-PD1)',\n",
       " 'daysBiopsyToPD1',\n",
       " 'daysBiopsyAfterIpiStart',\n",
       " 'purity',\n",
       " 'ploidy',\n",
       " 'hla_class_i_alleles',\n",
       " 'homozygous',\n",
       " 'hla_class_i_alleles_replace',\n",
       " 'depth_ave',\n",
       " 'aa_ave',\n",
       " 'depth_set_ave']"
      ]
     },
     "execution_count": 17,
     "metadata": {},
     "output_type": "execute_result"
    }
   ],
   "source": [
    "df_liu_2019.columns.tolist()"
   ]
  },
  {
   "cell_type": "code",
   "execution_count": 18,
   "metadata": {},
   "outputs": [
    {
     "data": {
      "image/png": "[encoded data removed]",
      "text/plain": [
       "<Figure size 432x288 with 1 Axes>"
      ]
     },
     "metadata": {
      "needs_background": "light"
     },
     "output_type": "display_data"
    }
   ],
   "source": [
    "plt.scatter(df_liu_2019.depth_ave, df_liu_2019.depth_set_ave)\n",
    "plt.show()"
   ]
  },
  {
   "cell_type": "code",
   "execution_count": 19,
   "metadata": {},
   "outputs": [],
   "source": [
    "# compute hla breadth metric for each subject\n",
    "# compute distances between subjects\n",
    "\n",
    "\n",
    "# first, get list of sets with unioned set of TCRs as the set\n",
    "\n",
    "depth_subject_list = []\n",
    "\n",
    "for geno in genotype_replace_list:\n",
    "    \n",
    "    six_depth_sets = [depth_hla_dict[geno[0]], depth_hla_dict[geno[1]], \n",
    "                      depth_hla_dict[geno[2]], depth_hla_dict[geno[3]],\n",
    "                      depth_hla_dict[geno[4]], depth_hla_dict[geno[5]]]\n",
    "                    \n",
    "    cur_depth_union = set().union(*six_depth_sets)\n",
    "                    \n",
    "    depth_subject_list += [cur_depth_union]\n",
    "    \n",
    "    \n",
    "# second, get hla breadth for each subject\n",
    "\n",
    "depth_breadth = [len(x) for x in depth_subject_list]\n",
    "    \n",
    "df_liu_2019[\"depth_breadth\"] = depth_breadth\n",
    "    \n",
    "    \n",
    "# third, compute the set distances\n",
    "\n",
    "set_depth_mat = []\n",
    "\n",
    "for a in depth_subject_list:\n",
    "    cur_depth_row = []\n",
    "    for b in depth_subject_list:\n",
    "        cur_depth_row += [set_dist(a, b)]\n",
    "    set_depth_mat += [cur_depth_row]"
   ]
  },
  {
   "cell_type": "code",
   "execution_count": 20,
   "metadata": {},
   "outputs": [],
   "source": [
    "# save the extended df_liu_2019 file out\n",
    "df_liu_2019.to_csv(\"../results/st17_liu_2019_depth_aa_set_breadth.csv\", \n",
    "                   index = False)"
   ]
  },
  {
   "cell_type": "code",
   "execution_count": null,
   "metadata": {},
   "outputs": [],
   "source": []
  }
 ],
 "metadata": {
  "kernelspec": {
   "display_name": "Python 3 (ipykernel)",
   "language": "python",
   "name": "python3"
  },
  "language_info": {
   "codemirror_mode": {
    "name": "ipython",
    "version": 3
   },
   "file_extension": ".py",
   "mimetype": "text/x-python",
   "name": "python",
   "nbconvert_exporter": "python",
   "pygments_lexer": "ipython3",
   "version": "3.9.10"
  }
 },
 "nbformat": 4,
 "nbformat_minor": 4
}
