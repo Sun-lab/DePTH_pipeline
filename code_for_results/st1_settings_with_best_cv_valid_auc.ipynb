{
 "cells": [
  {
   "cell_type": "markdown",
   "metadata": {},
   "source": [
    "For each of \n",
    "\n",
    "    HLA_I_all_match\n",
    "    HLA_II_all_match\n",
    "    HLA_I_full_mcpas\n",
    "    HLA_I_leave1out_match_B0702\n",
    "    HLA_I_leave1out_match_B0801\n",
    "    HLA_I_leave1out_match_C0701\n",
    " \n",
    "combine the average validation AUC together from 60 hyperparameter settings into one file"
   ]
  },
  {
   "cell_type": "code",
   "execution_count": 2,
   "metadata": {},
   "outputs": [],
   "source": [
    "import numpy as np\n",
    "import pandas as pd\n",
    "\n",
    "import matplotlib.pyplot as plt\n",
    "\n",
    "import os"
   ]
  },
  {
   "cell_type": "markdown",
   "metadata": {},
   "source": [
    "### HLA_I_all_match\n",
    "\n",
    "one_hot, 2, [64,16], True, 0.2"
   ]
  },
  {
   "cell_type": "code",
   "execution_count": 3,
   "metadata": {},
   "outputs": [
    {
     "data": {
      "image/png": "[encoded data removed]",
      "text/plain": [
       "<Figure size 432x288 with 1 Axes>"
      ]
     },
     "metadata": {
      "needs_background": "light"
     },
     "output_type": "display_data"
    }
   ],
   "source": [
    "cur_dir = \"results/cv_average_valid/HLA_I_all_match\"\n",
    "setting_list = next(os.walk(cur_dir))[1]\n",
    "setting_list.sort()\n",
    "\n",
    "auc_roc_list = []\n",
    "\n",
    "for setting in setting_list:\n",
    "    cur_df = pd.read_csv(cur_dir + \"/\" + setting + \"/average_validation_auc_roc.csv\", header = 0)\n",
    "    auc_roc_list += [cur_df.average_valid_auc.tolist()[0]]\n",
    "\n",
    "df = pd.DataFrame(list(zip(setting_list, auc_roc_list)),\n",
    "                  columns = [\"setting\",  \"auc_roc\"])\n",
    "\n",
    "df.to_csv(\"results/st1_combined_average_cv_valid_auc/st1_HLA_I_all_match_average_cv_valid_auc_combined.csv\", \n",
    "          index = False)\n",
    "\n",
    "plt.hist(df.auc_roc)\n",
    "plt.show()"
   ]
  },
  {
   "cell_type": "markdown",
   "metadata": {},
   "source": [
    "### HLA_II_all_match\n",
    "one_hot, 2, [64,16], True, 0.2"
   ]
  },
  {
   "cell_type": "code",
   "execution_count": 4,
   "metadata": {},
   "outputs": [
    {
     "data": {
      "image/png": "[encoded data removed]",
      "text/plain": [
       "<Figure size 432x288 with 1 Axes>"
      ]
     },
     "metadata": {
      "needs_background": "light"
     },
     "output_type": "display_data"
    }
   ],
   "source": [
    "cur_dir = \"results/cv_average_valid/HLA_II_all_match\"\n",
    "setting_list = next(os.walk(cur_dir))[1]\n",
    "setting_list.sort()\n",
    "\n",
    "auc_roc_list = []\n",
    "\n",
    "for setting in setting_list:\n",
    "    cur_df = pd.read_csv(cur_dir + \"/\" + setting + \"/average_validation_auc_roc.csv\", header = 0)\n",
    "    auc_roc_list += [cur_df.average_valid_auc.tolist()[0]]\n",
    "\n",
    "df = pd.DataFrame(list(zip(setting_list, auc_roc_list)),\n",
    "                  columns = [\"setting\",  \"auc_roc\"])\n",
    "\n",
    "df.to_csv(\"results/st1_combined_average_cv_valid_auc/st1_HLA_II_all_match_average_cv_valid_auc_combined.csv\", \n",
    "          index = False)\n",
    "\n",
    "plt.hist(df.auc_roc)\n",
    "plt.show()"
   ]
  },
  {
   "cell_type": "markdown",
   "metadata": {},
   "source": [
    "### HLA_I_full_mcpas\n",
    "pca, 2, [64,16], True, 0.2"
   ]
  },
  {
   "cell_type": "code",
   "execution_count": 5,
   "metadata": {},
   "outputs": [
    {
     "data": {
      "image/png": "[encoded data removed]",
      "text/plain": [
       "<Figure size 432x288 with 1 Axes>"
      ]
     },
     "metadata": {
      "needs_background": "light"
     },
     "output_type": "display_data"
    }
   ],
   "source": [
    "cur_dir = \"results/cv_average_valid/HLA_I_full_mcpas\"\n",
    "setting_list = next(os.walk(cur_dir))[1]\n",
    "setting_list.sort()\n",
    "\n",
    "auc_roc_list = []\n",
    "\n",
    "\n",
    "for setting in setting_list:\n",
    "    cur_df = pd.read_csv(cur_dir + \"/\" + setting + \"/average_validation_auc_roc.csv\", header = 0)\n",
    "    auc_roc_list += [cur_df.average_valid_auc.tolist()[0]]\n",
    "\n",
    "df = pd.DataFrame(list(zip(setting_list, auc_roc_list)),\n",
    "                  columns = [\"setting\",  \"auc_roc\"])\n",
    "\n",
    "df.to_csv(\"results/st1_combined_average_cv_valid_auc/st1_HLA_I_full_mcpas_average_cv_valid_auc_combined.csv\", \n",
    "          index = False)\n",
    "\n",
    "plt.hist(df.auc_roc)\n",
    "plt.show()"
   ]
  },
  {
   "cell_type": "markdown",
   "metadata": {},
   "source": [
    "### HLA_I_leave1out_match_B0702\n",
    "\n",
    "pca, 1, [64], True, 0.5"
   ]
  },
  {
   "cell_type": "code",
   "execution_count": 6,
   "metadata": {},
   "outputs": [
    {
     "data": {
      "image/png": "[encoded data removed]",
      "text/plain": [
       "<Figure size 432x288 with 1 Axes>"
      ]
     },
     "metadata": {
      "needs_background": "light"
     },
     "output_type": "display_data"
    }
   ],
   "source": [
    "leftout = \"B0702\"\n",
    "\n",
    "cur_dir = \"results/cv_average_valid/HLA_I_leave1out_match_\"+leftout\n",
    "setting_list = next(os.walk(cur_dir))[1]\n",
    "setting_list.sort()\n",
    "\n",
    "auc_roc_list = []\n",
    "\n",
    "\n",
    "for setting in setting_list:\n",
    "    cur_df = pd.read_csv(cur_dir + \"/\" + setting + \"/average_validation_auc_roc.csv\", header = 0)\n",
    "    auc_roc_list += [cur_df.average_valid_auc.tolist()[0]]\n",
    "\n",
    "df = pd.DataFrame(list(zip(setting_list, auc_roc_list)),\n",
    "                  columns = [\"setting\",  \"auc_roc\"])\n",
    "\n",
    "df.to_csv(\"results/st1_combined_average_cv_valid_auc/st1_HLA_I_leave1out_match_\"+leftout+\"_average_cv_valid_auc_combined.csv\", \n",
    "          index = False)\n",
    "\n",
    "plt.hist(df.auc_roc)\n",
    "plt.show()"
   ]
  },
  {
   "cell_type": "markdown",
   "metadata": {},
   "source": [
    "### HLA_I_leave1out_match_B0801\n",
    "\n",
    "pca, 1, [64], True, 0.5"
   ]
  },
  {
   "cell_type": "code",
   "execution_count": 7,
   "metadata": {},
   "outputs": [
    {
     "data": {
      "image/png": "[encoded data removed]",
      "text/plain": [
       "<Figure size 432x288 with 1 Axes>"
      ]
     },
     "metadata": {
      "needs_background": "light"
     },
     "output_type": "display_data"
    }
   ],
   "source": [
    "leftout = \"B0801\"\n",
    "\n",
    "cur_dir = \"results/cv_average_valid/HLA_I_leave1out_match_\"+leftout\n",
    "setting_list = next(os.walk(cur_dir))[1]\n",
    "setting_list.sort()\n",
    "\n",
    "auc_roc_list = []\n",
    "\n",
    "\n",
    "for setting in setting_list:\n",
    "    cur_df = pd.read_csv(cur_dir + \"/\" + setting + \"/average_validation_auc_roc.csv\", header = 0)\n",
    "    auc_roc_list += [cur_df.average_valid_auc.tolist()[0]]\n",
    "\n",
    "df = pd.DataFrame(list(zip(setting_list, auc_roc_list)),\n",
    "                  columns = [\"setting\",  \"auc_roc\"])\n",
    "\n",
    "df.to_csv(\"results/st1_combined_average_cv_valid_auc/st1_HLA_I_leave1out_match_\"+leftout+\"_average_cv_valid_auc_combined.csv\", \n",
    "          index = False)\n",
    "\n",
    "plt.hist(df.auc_roc)\n",
    "plt.show()"
   ]
  },
  {
   "cell_type": "markdown",
   "metadata": {},
   "source": [
    "### HLA_I_leave1out_match_C0701\n",
    "\n",
    "pca, 2, [64,16], True, 0.2"
   ]
  },
  {
   "cell_type": "code",
   "execution_count": 9,
   "metadata": {},
   "outputs": [
    {
     "data": {
      "image/png": "[encoded data removed]",
      "text/plain": [
       "<Figure size 432x288 with 1 Axes>"
      ]
     },
     "metadata": {
      "needs_background": "light"
     },
     "output_type": "display_data"
    }
   ],
   "source": [
    "leftout = \"C0701\"\n",
    "\n",
    "cur_dir = \"results/cv_average_valid/HLA_I_leave1out_match_\"+leftout\n",
    "setting_list = next(os.walk(cur_dir))[1]\n",
    "setting_list.sort()\n",
    "\n",
    "auc_roc_list = []\n",
    "\n",
    "\n",
    "for setting in setting_list:\n",
    "    cur_df = pd.read_csv(cur_dir + \"/\" + setting + \"/average_validation_auc_roc.csv\", header = 0)\n",
    "    auc_roc_list += [cur_df.average_valid_auc.tolist()[0]]\n",
    "\n",
    "df = pd.DataFrame(list(zip(setting_list, auc_roc_list)),\n",
    "                  columns = [\"setting\",  \"auc_roc\"])\n",
    "\n",
    "df.to_csv(\"results/st1_combined_average_cv_valid_auc/st1_HLA_I_leave1out_match_\"+leftout+\"_average_cv_valid_auc_combined.csv\", \n",
    "          index = False)\n",
    "\n",
    "plt.hist(df.auc_roc)\n",
    "plt.show()"
   ]
  },
  {
   "cell_type": "code",
   "execution_count": null,
   "metadata": {},
   "outputs": [],
   "source": []
  }
 ],
 "metadata": {
  "kernelspec": {
   "display_name": "Python 3 (ipykernel)",
   "language": "python",
   "name": "python3"
  },
  "language_info": {
   "codemirror_mode": {
    "name": "ipython",
    "version": 3
   },
   "file_extension": ".py",
   "mimetype": "text/x-python",
   "name": "python",
   "nbconvert_exporter": "python",
   "pygments_lexer": "ipython3",
   "version": "3.9.10"
  }
 },
 "nbformat": 4,
 "nbformat_minor": 4
}
