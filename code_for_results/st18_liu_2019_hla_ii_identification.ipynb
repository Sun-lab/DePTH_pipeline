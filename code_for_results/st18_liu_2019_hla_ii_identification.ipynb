{
 "cells": [
  {
   "cell_type": "code",
   "execution_count": 1,
   "metadata": {},
   "outputs": [],
   "source": [
    "import numpy as np\n",
    "import pandas as pd\n",
    "\n",
    "from collections import defaultdict\n",
    "from collections import Counter\n",
    "\n",
    "import re"
   ]
  },
  {
   "cell_type": "code",
   "execution_count": 2,
   "metadata": {},
   "outputs": [],
   "source": [
    "data_dir = \"../data/Liu_2019\"\n",
    "\n",
    "hla_ii_file = \"HLA_II_03042023.csv\"\n",
    "ID_file = \"SraRunTable_short.tsv\"\n",
    "table_s1 = \"41591_2019_654_MOESM4_ESM.xlsx\""
   ]
  },
  {
   "cell_type": "code",
   "execution_count": 5,
   "metadata": {},
   "outputs": [
    {
     "name": "stdout",
     "output_type": "stream",
     "text": [
      "(287, 11)\n"
     ]
    },
    {
     "data": {
      "text/html": [
       "<div>\n",
       "<style scoped>\n",
       "    .dataframe tbody tr th:only-of-type {\n",
       "        vertical-align: middle;\n",
       "    }\n",
       "\n",
       "    .dataframe tbody tr th {\n",
       "        vertical-align: top;\n",
       "    }\n",
       "\n",
       "    .dataframe thead th {\n",
       "        text-align: right;\n",
       "    }\n",
       "</style>\n",
       "<table border=\"1\" class=\"dataframe\">\n",
       "  <thead>\n",
       "    <tr style=\"text-align: right;\">\n",
       "      <th></th>\n",
       "      <th>ID</th>\n",
       "      <th>DRB_1</th>\n",
       "      <th>DRB_2</th>\n",
       "      <th>DQA_1</th>\n",
       "      <th>DQA_2</th>\n",
       "      <th>DQB_1</th>\n",
       "      <th>DQB_2</th>\n",
       "      <th>DPA_1</th>\n",
       "      <th>DPA_2</th>\n",
       "      <th>DPB_1</th>\n",
       "      <th>DPB_2</th>\n",
       "    </tr>\n",
       "  </thead>\n",
       "  <tbody>\n",
       "    <tr>\n",
       "      <th>0</th>\n",
       "      <td>SRR10801640</td>\n",
       "      <td>DRB1*15:01</td>\n",
       "      <td>DRB1*03:01</td>\n",
       "      <td>DQA1*01:02</td>\n",
       "      <td>DQA1*05:01</td>\n",
       "      <td>DQB1*06:02</td>\n",
       "      <td>DQB1*02:01</td>\n",
       "      <td>DPA1*01:03</td>\n",
       "      <td>DPA1*02:01</td>\n",
       "      <td>DPB1*04:01</td>\n",
       "      <td>DPB1*01:01</td>\n",
       "    </tr>\n",
       "    <tr>\n",
       "      <th>1</th>\n",
       "      <td>SRR10801641</td>\n",
       "      <td>DRB1*15:02</td>\n",
       "      <td>DRB1*14:01</td>\n",
       "      <td>DQA1*01:04</td>\n",
       "      <td>DQA1*01:03</td>\n",
       "      <td>DQB1*06:01</td>\n",
       "      <td>DQB1*05:03</td>\n",
       "      <td>DPA1*01:03</td>\n",
       "      <td>DPA1*02:01</td>\n",
       "      <td>DPB1*13:01</td>\n",
       "      <td>DPB1*04:01</td>\n",
       "    </tr>\n",
       "    <tr>\n",
       "      <th>2</th>\n",
       "      <td>SRR10801642</td>\n",
       "      <td>DRB1*15:01</td>\n",
       "      <td>DRB1*13:01</td>\n",
       "      <td>DQA1*01:02</td>\n",
       "      <td>DQA1*01:03</td>\n",
       "      <td>DQB1*06:02</td>\n",
       "      <td>DQB1*06:03</td>\n",
       "      <td>DPA1*01:03</td>\n",
       "      <td>NaN</td>\n",
       "      <td>DPB1*02:01</td>\n",
       "      <td>DPB1*03:01</td>\n",
       "    </tr>\n",
       "    <tr>\n",
       "      <th>3</th>\n",
       "      <td>SRR10801643</td>\n",
       "      <td>DRB1*11:04</td>\n",
       "      <td>DRB1*04:04</td>\n",
       "      <td>DQA1*03:01</td>\n",
       "      <td>DQA1*05:05</td>\n",
       "      <td>DQB1*03:02</td>\n",
       "      <td>DQB1*03:01</td>\n",
       "      <td>DPA1*01:03</td>\n",
       "      <td>NaN</td>\n",
       "      <td>DPB1*04:01</td>\n",
       "      <td>NaN</td>\n",
       "    </tr>\n",
       "    <tr>\n",
       "      <th>4</th>\n",
       "      <td>SRR10801644</td>\n",
       "      <td>DRB1*13:03</td>\n",
       "      <td>DRB1*03:01</td>\n",
       "      <td>DQA1*05:01</td>\n",
       "      <td>DQA1*05:05</td>\n",
       "      <td>DQB1*03:01</td>\n",
       "      <td>DQB1*02:01</td>\n",
       "      <td>DPA1*01:03</td>\n",
       "      <td>NaN</td>\n",
       "      <td>DPB1*104:01</td>\n",
       "      <td>NaN</td>\n",
       "    </tr>\n",
       "    <tr>\n",
       "      <th>5</th>\n",
       "      <td>SRR10801645</td>\n",
       "      <td>DRB1*11:04</td>\n",
       "      <td>DRB1*11:01</td>\n",
       "      <td>DQA1*05:05</td>\n",
       "      <td>NaN</td>\n",
       "      <td>DQB1*03:01</td>\n",
       "      <td>NaN</td>\n",
       "      <td>DPA1*01:03</td>\n",
       "      <td>NaN</td>\n",
       "      <td>DPB1*04:01</td>\n",
       "      <td>NaN</td>\n",
       "    </tr>\n",
       "  </tbody>\n",
       "</table>\n",
       "</div>"
      ],
      "text/plain": [
       "            ID       DRB_1       DRB_2       DQA_1       DQA_2       DQB_1  \\\n",
       "0  SRR10801640  DRB1*15:01  DRB1*03:01  DQA1*01:02  DQA1*05:01  DQB1*06:02   \n",
       "1  SRR10801641  DRB1*15:02  DRB1*14:01  DQA1*01:04  DQA1*01:03  DQB1*06:01   \n",
       "2  SRR10801642  DRB1*15:01  DRB1*13:01  DQA1*01:02  DQA1*01:03  DQB1*06:02   \n",
       "3  SRR10801643  DRB1*11:04  DRB1*04:04  DQA1*03:01  DQA1*05:05  DQB1*03:02   \n",
       "4  SRR10801644  DRB1*13:03  DRB1*03:01  DQA1*05:01  DQA1*05:05  DQB1*03:01   \n",
       "5  SRR10801645  DRB1*11:04  DRB1*11:01  DQA1*05:05         NaN  DQB1*03:01   \n",
       "\n",
       "        DQB_2       DPA_1       DPA_2        DPB_1       DPB_2  \n",
       "0  DQB1*02:01  DPA1*01:03  DPA1*02:01   DPB1*04:01  DPB1*01:01  \n",
       "1  DQB1*05:03  DPA1*01:03  DPA1*02:01   DPB1*13:01  DPB1*04:01  \n",
       "2  DQB1*06:03  DPA1*01:03         NaN   DPB1*02:01  DPB1*03:01  \n",
       "3  DQB1*03:01  DPA1*01:03         NaN   DPB1*04:01         NaN  \n",
       "4  DQB1*02:01  DPA1*01:03         NaN  DPB1*104:01         NaN  \n",
       "5         NaN  DPA1*01:03         NaN   DPB1*04:01         NaN  "
      ]
     },
     "execution_count": 5,
     "metadata": {},
     "output_type": "execute_result"
    }
   ],
   "source": [
    "df_hla = pd.read_csv(data_dir+\"/\"+hla_ii_file, header=0)\n",
    "print(df_hla.shape)\n",
    "df_hla[:6]"
   ]
  },
  {
   "cell_type": "code",
   "execution_count": 6,
   "metadata": {},
   "outputs": [
    {
     "name": "stdout",
     "output_type": "stream",
     "text": [
      "(288, 41)\n"
     ]
    },
    {
     "data": {
      "text/html": [
       "<div>\n",
       "<style scoped>\n",
       "    .dataframe tbody tr th:only-of-type {\n",
       "        vertical-align: middle;\n",
       "    }\n",
       "\n",
       "    .dataframe tbody tr th {\n",
       "        vertical-align: top;\n",
       "    }\n",
       "\n",
       "    .dataframe thead th {\n",
       "        text-align: right;\n",
       "    }\n",
       "</style>\n",
       "<table border=\"1\" class=\"dataframe\">\n",
       "  <thead>\n",
       "    <tr style=\"text-align: right;\">\n",
       "      <th></th>\n",
       "      <th>Run</th>\n",
       "      <th>analyte_type</th>\n",
       "      <th>Assay Type</th>\n",
       "      <th>AvgSpotLen</th>\n",
       "      <th>Bases</th>\n",
       "      <th>BioProject</th>\n",
       "      <th>BioSample</th>\n",
       "      <th>biospecimen_repository</th>\n",
       "      <th>biospecimen_repository_sample_id</th>\n",
       "      <th>Bytes</th>\n",
       "      <th>...</th>\n",
       "      <th>submitted_subject_id</th>\n",
       "      <th>AssemblyName</th>\n",
       "      <th>study_disease</th>\n",
       "      <th>subject_is_affected</th>\n",
       "      <th>flowcell_barcode (run)</th>\n",
       "      <th>instrument_name (run)</th>\n",
       "      <th>lsid (exp)</th>\n",
       "      <th>lsid (run)</th>\n",
       "      <th>material_type (exp)</th>\n",
       "      <th>biospecimen__repository_sample_type</th>\n",
       "    </tr>\n",
       "  </thead>\n",
       "  <tbody>\n",
       "    <tr>\n",
       "      <th>0</th>\n",
       "      <td>SRR11080170</td>\n",
       "      <td>DNA; RNA</td>\n",
       "      <td>WXS</td>\n",
       "      <td>152</td>\n",
       "      <td>21110407976</td>\n",
       "      <td>PRJNA82747</td>\n",
       "      <td>SAMN12309122</td>\n",
       "      <td>NHGRI_Melanoma_Garraway</td>\n",
       "      <td>Patient142_T</td>\n",
       "      <td>6369252802</td>\n",
       "      <td>...</td>\n",
       "      <td>Patient142</td>\n",
       "      <td>GCA_000001405.13</td>\n",
       "      <td>Melanoma</td>\n",
       "      <td>Yes</td>\n",
       "      <td>HK5C7BBXX\\, HJYHVBBXX</td>\n",
       "      <td>SL-HFC</td>\n",
       "      <td>broadinstitute.org:bsp.prod.sample:EXZ57</td>\n",
       "      <td>broadinstitute.org:bsp.prod.sample:EXZ57</td>\n",
       "      <td>DNA:DNA Somatic</td>\n",
       "      <td>T</td>\n",
       "    </tr>\n",
       "    <tr>\n",
       "      <th>1</th>\n",
       "      <td>SRR11080191</td>\n",
       "      <td>DNA; RNA</td>\n",
       "      <td>WXS</td>\n",
       "      <td>152</td>\n",
       "      <td>24884983848</td>\n",
       "      <td>PRJNA82747</td>\n",
       "      <td>SAMN12309302</td>\n",
       "      <td>NHGRI_Melanoma_Garraway</td>\n",
       "      <td>Patient156_T</td>\n",
       "      <td>7505282208</td>\n",
       "      <td>...</td>\n",
       "      <td>Patient156</td>\n",
       "      <td>GCA_000001405.13</td>\n",
       "      <td>Melanoma</td>\n",
       "      <td>Yes</td>\n",
       "      <td>HJYHVBBXX\\, HK5C7BBXX</td>\n",
       "      <td>SL-HFC</td>\n",
       "      <td>broadinstitute.org:bsp.prod.sample:EXZ6D</td>\n",
       "      <td>broadinstitute.org:bsp.prod.sample:EXZ6D</td>\n",
       "      <td>DNA:DNA Somatic</td>\n",
       "      <td>T</td>\n",
       "    </tr>\n",
       "    <tr>\n",
       "      <th>2</th>\n",
       "      <td>SRR11080225</td>\n",
       "      <td>DNA; RNA</td>\n",
       "      <td>WXS</td>\n",
       "      <td>152</td>\n",
       "      <td>38197538744</td>\n",
       "      <td>PRJNA82747</td>\n",
       "      <td>SAMN12309266</td>\n",
       "      <td>NHGRI_Melanoma_Garraway</td>\n",
       "      <td>Patient21_T_M</td>\n",
       "      <td>7901881806</td>\n",
       "      <td>...</td>\n",
       "      <td>Patient21</td>\n",
       "      <td>GCA_000001405.13</td>\n",
       "      <td>Melanoma</td>\n",
       "      <td>Yes</td>\n",
       "      <td>HHKHGBBXX\\, HHKHKBBXX\\, HHK23BBXX\\, HHK22BBXX</td>\n",
       "      <td>SL-HFB\\, SL-HFA</td>\n",
       "      <td>broadinstitute.org:bsp.prod.sample:DPR96</td>\n",
       "      <td>broadinstitute.org:bsp.prod.sample:DPR96</td>\n",
       "      <td>DNA:DNA Somatic</td>\n",
       "      <td>T_M</td>\n",
       "    </tr>\n",
       "    <tr>\n",
       "      <th>3</th>\n",
       "      <td>SRR11080226</td>\n",
       "      <td>DNA; RNA</td>\n",
       "      <td>WXS</td>\n",
       "      <td>152</td>\n",
       "      <td>26446046040</td>\n",
       "      <td>PRJNA82747</td>\n",
       "      <td>SAMN12309293</td>\n",
       "      <td>NHGRI_Melanoma_Garraway</td>\n",
       "      <td>Patient149_T</td>\n",
       "      <td>6976852028</td>\n",
       "      <td>...</td>\n",
       "      <td>Patient149</td>\n",
       "      <td>GCA_000001405.13</td>\n",
       "      <td>Melanoma</td>\n",
       "      <td>Yes</td>\n",
       "      <td>HKKTJBBXX\\, HKHVFBBXX\\, HKKLMBBXX</td>\n",
       "      <td>SL-HFC\\, SL-HFA</td>\n",
       "      <td>broadinstitute.org:bsp.prod.sample:F56LN</td>\n",
       "      <td>broadinstitute.org:bsp.prod.sample:F56LN</td>\n",
       "      <td>DNA:DNA Somatic</td>\n",
       "      <td>T</td>\n",
       "    </tr>\n",
       "    <tr>\n",
       "      <th>4</th>\n",
       "      <td>SRR10841991</td>\n",
       "      <td>DNA</td>\n",
       "      <td>WXS</td>\n",
       "      <td>152</td>\n",
       "      <td>32636008616</td>\n",
       "      <td>PRJNA82747</td>\n",
       "      <td>SAMN12309077</td>\n",
       "      <td>NHGRI_Melanoma_Garraway</td>\n",
       "      <td>Patient100_N</td>\n",
       "      <td>7086590983</td>\n",
       "      <td>...</td>\n",
       "      <td>Patient100</td>\n",
       "      <td>GCA_000001405.13</td>\n",
       "      <td>Melanoma</td>\n",
       "      <td>Yes</td>\n",
       "      <td>HHKH7BBXX\\, HHK22BBXX\\, HHKHHBBXX</td>\n",
       "      <td>SL-HFA\\, SL-HFB</td>\n",
       "      <td>broadinstitute.org:bsp.prod.sample:DPR7K</td>\n",
       "      <td>broadinstitute.org:bsp.prod.sample:DPR7K</td>\n",
       "      <td>DNA:DNA Somatic</td>\n",
       "      <td>N</td>\n",
       "    </tr>\n",
       "    <tr>\n",
       "      <th>5</th>\n",
       "      <td>SRR10841995</td>\n",
       "      <td>DNA</td>\n",
       "      <td>WXS</td>\n",
       "      <td>152</td>\n",
       "      <td>25095568448</td>\n",
       "      <td>PRJNA82747</td>\n",
       "      <td>SAMN12309100</td>\n",
       "      <td>NHGRI_Melanoma_Garraway</td>\n",
       "      <td>Patient112_N</td>\n",
       "      <td>5053428698</td>\n",
       "      <td>...</td>\n",
       "      <td>Patient112</td>\n",
       "      <td>GCA_000001405.13</td>\n",
       "      <td>Melanoma</td>\n",
       "      <td>Yes</td>\n",
       "      <td>HHK23BBXX\\, HHK22BBXX\\, HHKHKBBXX\\, HHKHGBBXX</td>\n",
       "      <td>SL-HFB\\, SL-HFA</td>\n",
       "      <td>broadinstitute.org:bsp.prod.sample:DPSS4</td>\n",
       "      <td>broadinstitute.org:bsp.prod.sample:DPSS4</td>\n",
       "      <td>DNA:DNA Somatic</td>\n",
       "      <td>N</td>\n",
       "    </tr>\n",
       "  </tbody>\n",
       "</table>\n",
       "<p>6 rows × 41 columns</p>\n",
       "</div>"
      ],
      "text/plain": [
       "           Run analyte_type Assay Type  AvgSpotLen        Bases  BioProject  \\\n",
       "0  SRR11080170     DNA; RNA        WXS         152  21110407976  PRJNA82747   \n",
       "1  SRR11080191     DNA; RNA        WXS         152  24884983848  PRJNA82747   \n",
       "2  SRR11080225     DNA; RNA        WXS         152  38197538744  PRJNA82747   \n",
       "3  SRR11080226     DNA; RNA        WXS         152  26446046040  PRJNA82747   \n",
       "4  SRR10841991          DNA        WXS         152  32636008616  PRJNA82747   \n",
       "5  SRR10841995          DNA        WXS         152  25095568448  PRJNA82747   \n",
       "\n",
       "      BioSample   biospecimen_repository biospecimen_repository_sample_id  \\\n",
       "0  SAMN12309122  NHGRI_Melanoma_Garraway                     Patient142_T   \n",
       "1  SAMN12309302  NHGRI_Melanoma_Garraway                     Patient156_T   \n",
       "2  SAMN12309266  NHGRI_Melanoma_Garraway                    Patient21_T_M   \n",
       "3  SAMN12309293  NHGRI_Melanoma_Garraway                     Patient149_T   \n",
       "4  SAMN12309077  NHGRI_Melanoma_Garraway                     Patient100_N   \n",
       "5  SAMN12309100  NHGRI_Melanoma_Garraway                     Patient112_N   \n",
       "\n",
       "        Bytes  ... submitted_subject_id      AssemblyName study_disease  \\\n",
       "0  6369252802  ...           Patient142  GCA_000001405.13      Melanoma   \n",
       "1  7505282208  ...           Patient156  GCA_000001405.13      Melanoma   \n",
       "2  7901881806  ...            Patient21  GCA_000001405.13      Melanoma   \n",
       "3  6976852028  ...           Patient149  GCA_000001405.13      Melanoma   \n",
       "4  7086590983  ...           Patient100  GCA_000001405.13      Melanoma   \n",
       "5  5053428698  ...           Patient112  GCA_000001405.13      Melanoma   \n",
       "\n",
       "  subject_is_affected                         flowcell_barcode (run)  \\\n",
       "0                 Yes                          HK5C7BBXX\\, HJYHVBBXX   \n",
       "1                 Yes                          HJYHVBBXX\\, HK5C7BBXX   \n",
       "2                 Yes  HHKHGBBXX\\, HHKHKBBXX\\, HHK23BBXX\\, HHK22BBXX   \n",
       "3                 Yes              HKKTJBBXX\\, HKHVFBBXX\\, HKKLMBBXX   \n",
       "4                 Yes              HHKH7BBXX\\, HHK22BBXX\\, HHKHHBBXX   \n",
       "5                 Yes  HHK23BBXX\\, HHK22BBXX\\, HHKHKBBXX\\, HHKHGBBXX   \n",
       "\n",
       "  instrument_name (run)                                lsid (exp)  \\\n",
       "0                SL-HFC  broadinstitute.org:bsp.prod.sample:EXZ57   \n",
       "1                SL-HFC  broadinstitute.org:bsp.prod.sample:EXZ6D   \n",
       "2       SL-HFB\\, SL-HFA  broadinstitute.org:bsp.prod.sample:DPR96   \n",
       "3       SL-HFC\\, SL-HFA  broadinstitute.org:bsp.prod.sample:F56LN   \n",
       "4       SL-HFA\\, SL-HFB  broadinstitute.org:bsp.prod.sample:DPR7K   \n",
       "5       SL-HFB\\, SL-HFA  broadinstitute.org:bsp.prod.sample:DPSS4   \n",
       "\n",
       "                                 lsid (run) material_type (exp)  \\\n",
       "0  broadinstitute.org:bsp.prod.sample:EXZ57     DNA:DNA Somatic   \n",
       "1  broadinstitute.org:bsp.prod.sample:EXZ6D     DNA:DNA Somatic   \n",
       "2  broadinstitute.org:bsp.prod.sample:DPR96     DNA:DNA Somatic   \n",
       "3  broadinstitute.org:bsp.prod.sample:F56LN     DNA:DNA Somatic   \n",
       "4  broadinstitute.org:bsp.prod.sample:DPR7K     DNA:DNA Somatic   \n",
       "5  broadinstitute.org:bsp.prod.sample:DPSS4     DNA:DNA Somatic   \n",
       "\n",
       "  biospecimen__repository_sample_type  \n",
       "0                                   T  \n",
       "1                                   T  \n",
       "2                                 T_M  \n",
       "3                                   T  \n",
       "4                                   N  \n",
       "5                                   N  \n",
       "\n",
       "[6 rows x 41 columns]"
      ]
     },
     "execution_count": 6,
     "metadata": {},
     "output_type": "execute_result"
    }
   ],
   "source": [
    "df_ID = pd.read_csv(data_dir+\"/\"+\"SraRunTable_short.tsv\",sep='\\t')\n",
    "print(df_ID.shape)\n",
    "df_ID[:6]"
   ]
  },
  {
   "cell_type": "code",
   "execution_count": 7,
   "metadata": {},
   "outputs": [
    {
     "data": {
      "text/plain": [
       "Index(['Run', 'analyte_type', 'Assay Type', 'AvgSpotLen', 'Bases',\n",
       "       'BioProject', 'BioSample', 'biospecimen_repository',\n",
       "       'biospecimen_repository_sample_id', 'Bytes', 'Center Name',\n",
       "       'Consent_Code', 'Consent', 'DATASTORE filetype', 'DATASTORE provider',\n",
       "       'DATASTORE region', 'Experiment', 'gap_accession', 'Instrument',\n",
       "       'Is_Tumor', 'Library Name', 'LibraryLayout', 'LibrarySelection',\n",
       "       'LibrarySource', 'Organism', 'Platform', 'ReleaseDate', 'Sample Name',\n",
       "       'SRA Study', 'study_design', 'study_name', 'submitted_subject_id',\n",
       "       'AssemblyName', 'study_disease', 'subject_is_affected',\n",
       "       'flowcell_barcode (run)', 'instrument_name (run)', 'lsid (exp)',\n",
       "       'lsid (run)', 'material_type (exp)',\n",
       "       'biospecimen__repository_sample_type'],\n",
       "      dtype='object')"
      ]
     },
     "execution_count": 7,
     "metadata": {},
     "output_type": "execute_result"
    }
   ],
   "source": [
    "df_ID.columns"
   ]
  },
  {
   "cell_type": "code",
   "execution_count": 8,
   "metadata": {},
   "outputs": [
    {
     "data": {
      "text/plain": [
       "Counter({'Yes': 144, 'No': 144})"
      ]
     },
     "execution_count": 8,
     "metadata": {},
     "output_type": "execute_result"
    }
   ],
   "source": [
    "Counter(df_ID['Is_Tumor'])"
   ]
  },
  {
   "cell_type": "code",
   "execution_count": 9,
   "metadata": {},
   "outputs": [
    {
     "data": {
      "text/plain": [
       "set()"
      ]
     },
     "execution_count": 9,
     "metadata": {},
     "output_type": "execute_result"
    }
   ],
   "source": [
    "set(df_hla.ID) - set(df_ID.Run)"
   ]
  },
  {
   "cell_type": "code",
   "execution_count": 10,
   "metadata": {},
   "outputs": [
    {
     "data": {
      "text/plain": [
       "{'SRR10899714'}"
      ]
     },
     "execution_count": 10,
     "metadata": {},
     "output_type": "execute_result"
    }
   ],
   "source": [
    "set(df_ID.Run) - set(df_hla.ID)"
   ]
  },
  {
   "cell_type": "code",
   "execution_count": 11,
   "metadata": {},
   "outputs": [
    {
     "data": {
      "text/plain": [
       "{'N', 'T', 'T_M', 'T_P'}"
      ]
     },
     "execution_count": 11,
     "metadata": {},
     "output_type": "execute_result"
    }
   ],
   "source": [
    "set([\"_\".join(x.split(\"_\")[1:]) for x in df_ID.biospecimen_repository_sample_id.tolist()])"
   ]
  },
  {
   "cell_type": "code",
   "execution_count": 12,
   "metadata": {},
   "outputs": [
    {
     "data": {
      "text/plain": [
       "Counter({'T': 56, 'T_M': 49, 'T_P': 39})"
      ]
     },
     "execution_count": 12,
     "metadata": {},
     "output_type": "execute_result"
    }
   ],
   "source": [
    "Counter([\"_\".join(x.split(\"_\")[1:]) for x, y in zip(df_ID.biospecimen_repository_sample_id.tolist(), \n",
    "                                                    df_ID.Is_Tumor.tolist()) if y==\"Yes\"])"
   ]
  },
  {
   "cell_type": "code",
   "execution_count": 13,
   "metadata": {},
   "outputs": [
    {
     "data": {
      "text/plain": [
       "Counter({'N': 144})"
      ]
     },
     "execution_count": 13,
     "metadata": {},
     "output_type": "execute_result"
    }
   ],
   "source": [
    "Counter([\"_\".join(x.split(\"_\")[1:]) for x, y in zip(df_ID.biospecimen_repository_sample_id.tolist(), \n",
    "                                                    df_ID.Is_Tumor.tolist()) if y==\"No\"])"
   ]
  },
  {
   "cell_type": "code",
   "execution_count": 14,
   "metadata": {},
   "outputs": [
    {
     "data": {
      "text/plain": [
       "{2}"
      ]
     },
     "execution_count": 14,
     "metadata": {},
     "output_type": "execute_result"
    }
   ],
   "source": [
    "set(Counter(df_ID.submitted_subject_id.tolist()).values())"
   ]
  },
  {
   "cell_type": "code",
   "execution_count": 15,
   "metadata": {},
   "outputs": [],
   "source": [
    "# build a dictionary with submitted subject id (patient***) as key and \n",
    "# biospecimen_repository_sample_id (patient***_ one of {'N', 'T', 'T_M', 'T_P'}) as value\n",
    "# build another dictioary with biospecimen_repository_sample_id and \n",
    "# the corresponding run (SRR********) as value\n",
    "\n",
    "bio_dict = defaultdict(list)\n",
    "\n",
    "for b, c in zip(df_ID.biospecimen_repository_sample_id.tolist(), \n",
    "                df_ID.submitted_subject_id.tolist()):\n",
    "    bio_dict[c] += [b]\n",
    "\n",
    "\n",
    "run_dict = defaultdict(str)\n",
    "\n",
    "for a, b in zip(df_ID.Run.tolist(), \n",
    "                df_ID.biospecimen_repository_sample_id.tolist()):\n",
    "    run_dict[b] = a"
   ]
  },
  {
   "cell_type": "code",
   "execution_count": 16,
   "metadata": {},
   "outputs": [
    {
     "data": {
      "text/plain": [
       "defaultdict(list,\n",
       "            {'Patient142': ['Patient142_T', 'Patient142_N'],\n",
       "             'Patient156': ['Patient156_T', 'Patient156_N'],\n",
       "             'Patient21': ['Patient21_T_M', 'Patient21_N'],\n",
       "             'Patient149': ['Patient149_T', 'Patient149_N'],\n",
       "             'Patient100': ['Patient100_N', 'Patient100_T_P'],\n",
       "             'Patient112': ['Patient112_N', 'Patient112_T_P'],\n",
       "             'Patient102': ['Patient102_N', 'Patient102_T_P'],\n",
       "             'Patient108': ['Patient108_N', 'Patient108_T_P'],\n",
       "             'Patient104': ['Patient104_N', 'Patient104_T_P'],\n",
       "             'Patient105': ['Patient105_N', 'Patient105_T_P'],\n",
       "             'Patient106': ['Patient106_N', 'Patient106_T_P'],\n",
       "             'Patient10': ['Patient10_N', 'Patient10_T_M'],\n",
       "             'Patient110': ['Patient110_N', 'Patient110_T_M'],\n",
       "             'Patient107': ['Patient107_N', 'Patient107_T_P'],\n",
       "             'Patient59': ['Patient59_N', 'Patient59_T_M'],\n",
       "             'Patient36': ['Patient36_N', 'Patient36_T_M'],\n",
       "             'Patient35': ['Patient35_N', 'Patient35_T_M'],\n",
       "             'Patient37': ['Patient37_N', 'Patient37_T_M'],\n",
       "             'Patient30': ['Patient30_T_M', 'Patient30_N'],\n",
       "             'Patient32': ['Patient32_T_M', 'Patient32_N'],\n",
       "             'Patient33': ['Patient33_T_M', 'Patient33_N'],\n",
       "             'Patient34': ['Patient34_N', 'Patient34_T_M'],\n",
       "             'Patient31': ['Patient31_N', 'Patient31_T_M'],\n",
       "             'Patient182': ['Patient182_N', 'Patient182_T'],\n",
       "             'Patient24': ['Patient24_T_M', 'Patient24_N'],\n",
       "             'Patient18': ['Patient18_N', 'Patient18_T_M'],\n",
       "             'Patient184': ['Patient184_N', 'Patient184_T'],\n",
       "             'Patient173': ['Patient173_T', 'Patient173_N'],\n",
       "             'Patient203': ['Patient203_T', 'Patient203_N'],\n",
       "             'Patient191': ['Patient191_N', 'Patient191_T'],\n",
       "             'Patient196': ['Patient196_N', 'Patient196_T'],\n",
       "             'Patient187': ['Patient187_N', 'Patient187_T'],\n",
       "             'Patient159': ['Patient159_T', 'Patient159_N'],\n",
       "             'Patient201': ['Patient201_N', 'Patient201_T'],\n",
       "             'Patient192': ['Patient192_N', 'Patient192_T'],\n",
       "             'Patient189': ['Patient189_N', 'Patient189_T'],\n",
       "             'Patient15': ['Patient15_T_M', 'Patient15_N'],\n",
       "             'Patient172': ['Patient172_T', 'Patient172_N'],\n",
       "             'Patient22': ['Patient22_T_M', 'Patient22_N'],\n",
       "             'Patient20': ['Patient20_T_M', 'Patient20_N'],\n",
       "             'Patient185': ['Patient185_N', 'Patient185_T'],\n",
       "             'Patient197': ['Patient197_N', 'Patient197_T'],\n",
       "             'Patient181': ['Patient181_N', 'Patient181_T'],\n",
       "             'Patient166': ['Patient166_N', 'Patient166_T'],\n",
       "             'Patient17': ['Patient17_T_M', 'Patient17_N'],\n",
       "             'Patient195': ['Patient195_T', 'Patient195_N'],\n",
       "             'Patient205': ['Patient205_T', 'Patient205_N'],\n",
       "             'Patient165': ['Patient165_T', 'Patient165_N'],\n",
       "             'Patient167': ['Patient167_N', 'Patient167_T'],\n",
       "             'Patient170': ['Patient170_T', 'Patient170_N'],\n",
       "             'Patient188': ['Patient188_T', 'Patient188_N'],\n",
       "             'Patient168': ['Patient168_T', 'Patient168_N'],\n",
       "             'Patient206': ['Patient206_T', 'Patient206_N'],\n",
       "             'Patient180': ['Patient180_T', 'Patient180_N'],\n",
       "             'Patient204': ['Patient204_T', 'Patient204_N'],\n",
       "             'Patient179': ['Patient179_T', 'Patient179_N'],\n",
       "             'Patient163': ['Patient163_N', 'Patient163_T'],\n",
       "             'Patient183': ['Patient183_N', 'Patient183_T'],\n",
       "             'Patient25': ['Patient25_T_M', 'Patient25_N'],\n",
       "             'Patient23': ['Patient23_T_M', 'Patient23_N'],\n",
       "             'Patient169': ['Patient169_T', 'Patient169_N'],\n",
       "             'Patient200': ['Patient200_T', 'Patient200_N'],\n",
       "             'Patient1': ['Patient1_N', 'Patient1_T_M'],\n",
       "             'Patient27': ['Patient27_N', 'Patient27_T_M'],\n",
       "             'Patient162': ['Patient162_N', 'Patient162_T'],\n",
       "             'Patient193': ['Patient193_T', 'Patient193_N'],\n",
       "             'Patient136': ['Patient136_T', 'Patient136_N'],\n",
       "             'Patient155': ['Patient155_N', 'Patient155_T'],\n",
       "             'Patient14': ['Patient14_N', 'Patient14_T_M'],\n",
       "             'Patient130': ['Patient130_T_P', 'Patient130_N'],\n",
       "             'Patient131': ['Patient131_T', 'Patient131_N'],\n",
       "             'Patient126': ['Patient126_T_P', 'Patient126_N'],\n",
       "             'Patient116': ['Patient116_T_P', 'Patient116_N'],\n",
       "             'Patient127': ['Patient127_T_P', 'Patient127_N'],\n",
       "             'Patient13': ['Patient13_T_M', 'Patient13_N'],\n",
       "             'Patient119': ['Patient119_N', 'Patient119_T_P'],\n",
       "             'Patient145': ['Patient145_N', 'Patient145_T'],\n",
       "             'Patient137': ['Patient137_N', 'Patient137_T'],\n",
       "             'Patient141': ['Patient141_T', 'Patient141_N'],\n",
       "             'Patient154': ['Patient154_T', 'Patient154_N'],\n",
       "             'Patient117': ['Patient117_T_P', 'Patient117_N'],\n",
       "             'Patient157': ['Patient157_N', 'Patient157_T'],\n",
       "             'Patient125': ['Patient125_T_P', 'Patient125_N'],\n",
       "             'Patient132': ['Patient132_T', 'Patient132_N'],\n",
       "             'Patient148': ['Patient148_T', 'Patient148_N'],\n",
       "             'Patient146': ['Patient146_N', 'Patient146_T'],\n",
       "             'Patient143': ['Patient143_T', 'Patient143_N'],\n",
       "             'Patient135': ['Patient135_N', 'Patient135_T'],\n",
       "             'Patient144': ['Patient144_T', 'Patient144_N'],\n",
       "             'Patient134': ['Patient134_N', 'Patient134_T'],\n",
       "             'Patient150': ['Patient150_T', 'Patient150_N'],\n",
       "             'Patient158': ['Patient158_N', 'Patient158_T'],\n",
       "             'Patient120': ['Patient120_T_P', 'Patient120_N'],\n",
       "             'Patient118': ['Patient118_T_P', 'Patient118_N'],\n",
       "             'Patient147': ['Patient147_T', 'Patient147_N'],\n",
       "             'Patient11': ['Patient11_N', 'Patient11_T_M'],\n",
       "             'Patient133': ['Patient133_T', 'Patient133_N'],\n",
       "             'Patient140': ['Patient140_T', 'Patient140_N'],\n",
       "             'Patient121': ['Patient121_N', 'Patient121_T_P'],\n",
       "             'Patient46': ['Patient46_T_M', 'Patient46_N'],\n",
       "             'Patient86': ['Patient86_T_P', 'Patient86_N'],\n",
       "             'Patient45': ['Patient45_T_M', 'Patient45_N'],\n",
       "             'Patient51': ['Patient51_N', 'Patient51_T_M'],\n",
       "             'Patient78': ['Patient78_N', 'Patient78_T_P'],\n",
       "             'Patient58': ['Patient58_N', 'Patient58_T_M'],\n",
       "             'Patient42': ['Patient42_T_M', 'Patient42_N'],\n",
       "             'Patient50': ['Patient50_N', 'Patient50_T_M'],\n",
       "             'Patient41': ['Patient41_N', 'Patient41_T_M'],\n",
       "             'Patient6': ['Patient6_N', 'Patient6_T_M'],\n",
       "             'Patient75': ['Patient75_T_P', 'Patient75_N'],\n",
       "             'Patient94': ['Patient94_N', 'Patient94_T_P'],\n",
       "             'Patient9': ['Patient9_T_M', 'Patient9_N'],\n",
       "             'Patient73': ['Patient73_N', 'Patient73_T_P'],\n",
       "             'Patient4': ['Patient4_N', 'Patient4_T_M'],\n",
       "             'Patient98': ['Patient98_T_P', 'Patient98_N'],\n",
       "             'Patient7': ['Patient7_T_M', 'Patient7_N'],\n",
       "             'Patient60': ['Patient60_T_M', 'Patient60_N'],\n",
       "             'Patient80': ['Patient80_T_P', 'Patient80_N'],\n",
       "             'Patient48': ['Patient48_T_M', 'Patient48_N'],\n",
       "             'Patient38': ['Patient38_N', 'Patient38_T_M'],\n",
       "             'Patient99': ['Patient99_N', 'Patient99_T_P'],\n",
       "             'Patient56': ['Patient56_N', 'Patient56_T_M'],\n",
       "             'Patient82': ['Patient82_T_P', 'Patient82_N'],\n",
       "             'Patient40': ['Patient40_T_M', 'Patient40_N'],\n",
       "             'Patient63': ['Patient63_N', 'Patient63_T_P'],\n",
       "             'Patient83': ['Patient83_T_P', 'Patient83_N'],\n",
       "             'Patient72': ['Patient72_N', 'Patient72_T_P'],\n",
       "             'Patient44': ['Patient44_N', 'Patient44_T_M'],\n",
       "             'Patient79': ['Patient79_T_P', 'Patient79_N'],\n",
       "             'Patient62': ['Patient62_T_P', 'Patient62_N'],\n",
       "             'Patient8': ['Patient8_N', 'Patient8_T_M'],\n",
       "             'Patient54': ['Patient54_T_M', 'Patient54_N'],\n",
       "             'Patient61': ['Patient61_N', 'Patient61_T_P'],\n",
       "             'Patient47': ['Patient47_T_M', 'Patient47_N'],\n",
       "             'Patient49': ['Patient49_T_M', 'Patient49_N'],\n",
       "             'Patient87': ['Patient87_N', 'Patient87_T_P'],\n",
       "             'Patient39': ['Patient39_T_M', 'Patient39_N'],\n",
       "             'Patient55': ['Patient55_N', 'Patient55_T_M'],\n",
       "             'Patient77': ['Patient77_N', 'Patient77_T_P'],\n",
       "             'Patient96': ['Patient96_T_P', 'Patient96_N'],\n",
       "             'Patient84': ['Patient84_N', 'Patient84_T_P'],\n",
       "             'Patient88': ['Patient88_T_P', 'Patient88_N'],\n",
       "             'Patient67': ['Patient67_T_P', 'Patient67_N'],\n",
       "             'Patient43': ['Patient43_N', 'Patient43_T_M']})"
      ]
     },
     "execution_count": 16,
     "metadata": {},
     "output_type": "execute_result"
    }
   ],
   "source": [
    "bio_dict"
   ]
  },
  {
   "cell_type": "code",
   "execution_count": 17,
   "metadata": {},
   "outputs": [
    {
     "data": {
      "text/plain": [
       "['ID',\n",
       " 'DRB_1',\n",
       " 'DRB_2',\n",
       " 'DQA_1',\n",
       " 'DQA_2',\n",
       " 'DQB_1',\n",
       " 'DQB_2',\n",
       " 'DPA_1',\n",
       " 'DPA_2',\n",
       " 'DPB_1',\n",
       " 'DPB_2']"
      ]
     },
     "execution_count": 17,
     "metadata": {},
     "output_type": "execute_result"
    }
   ],
   "source": [
    "df_hla.columns.tolist()"
   ]
  },
  {
   "cell_type": "code",
   "execution_count": 18,
   "metadata": {},
   "outputs": [],
   "source": [
    "# build a dict with run (SRR********) as key and the list of HLAs as value\n",
    "\n",
    "hla_dict = defaultdict(list)\n",
    "\n",
    "for cur_id, drb1, drb2, dqa1, dqa2, dqb1, dqb2, dpa1, dpa2, dpb1, dpb2 in zip(df_hla.ID.tolist(), \n",
    "                                                                              df_hla.DRB_1.tolist(), \n",
    "                                                                              df_hla.DRB_2.tolist(), \n",
    "                                                                              df_hla.DQA_1.tolist(), \n",
    "                                                                              df_hla.DQA_2.tolist(),\n",
    "                                                                              df_hla.DQB_1.tolist(), \n",
    "                                                                              df_hla.DQB_2.tolist(), \n",
    "                                                                              df_hla.DPA_1.tolist(), \n",
    "                                                                              df_hla.DPA_2.tolist(),\n",
    "                                                                              df_hla.DPB_1.tolist(), \n",
    "                                                                              df_hla.DPB_2.tolist()):\n",
    "    if drb2 == drb2:\n",
    "        drbs = [drb1, drb2]\n",
    "    else:\n",
    "        drbs = [drb1 for _ in range(2)]\n",
    "        \n",
    "    if dqa2 == dqa2:\n",
    "        dqas = [dqa1, dqa2]\n",
    "    else:\n",
    "        dqas = [dqa1 for _ in range(2)]\n",
    "    \n",
    "    if dqb2 == dqb2:\n",
    "        dqbs = [dqb1, dqb2]\n",
    "    else:\n",
    "        dqbs = [dqb1 for _ in range(2)]\n",
    "        \n",
    "    if dpa2 == dpa2:\n",
    "        dpas = [dpa1, dpa2]\n",
    "    else:\n",
    "        dpas = [dpa1 for _ in range(2)]\n",
    "    \n",
    "    if dpb2 == dpb2:\n",
    "        dpbs = [dpb1, dpb2]\n",
    "    else:\n",
    "        dpbs = [dpb1 for _ in range(2)]\n",
    "        \n",
    "    drbs.sort()\n",
    "    dqas.sort()\n",
    "    dqbs.sort()\n",
    "    dpas.sort()\n",
    "    dpbs.sort()\n",
    "    \n",
    "    cur_hla_list = drbs+dqas+dqbs+dpas+dpbs\n",
    "    hla_dict[cur_id] = cur_hla_list"
   ]
  },
  {
   "cell_type": "code",
   "execution_count": 19,
   "metadata": {},
   "outputs": [
    {
     "data": {
      "text/plain": [
       "287"
      ]
     },
     "execution_count": 19,
     "metadata": {},
     "output_type": "execute_result"
    }
   ],
   "source": [
    "len(hla_dict)"
   ]
  },
  {
   "cell_type": "code",
   "execution_count": 20,
   "metadata": {},
   "outputs": [
    {
     "name": "stdout",
     "output_type": "stream",
     "text": [
      "288\n",
      "288\n"
     ]
    }
   ],
   "source": [
    "print(len(set(df_ID.Run)))\n",
    "print(len(set(df_ID.biospecimen_repository_sample_id)))"
   ]
  },
  {
   "cell_type": "markdown",
   "metadata": {},
   "source": [
    "**Print out the information for Run SRR10899714, which is not finished as of 18:04 on 03052023**"
   ]
  },
  {
   "cell_type": "code",
   "execution_count": 21,
   "metadata": {},
   "outputs": [
    {
     "data": {
      "text/plain": [
       "[('Patient131_T', 'Patient131', 'Yes')]"
      ]
     },
     "execution_count": 21,
     "metadata": {},
     "output_type": "execute_result"
    }
   ],
   "source": [
    "[(x,y,z) for x,y,z,a in zip(df_ID.biospecimen_repository_sample_id.tolist(), \n",
    "                            df_ID.submitted_subject_id.tolist(), \n",
    "                            df_ID.Is_Tumor.tolist(), \n",
    "                            df_ID.Run.tolist()) if a==\"SRR10899714\"]"
   ]
  },
  {
   "cell_type": "code",
   "execution_count": 22,
   "metadata": {},
   "outputs": [
    {
     "name": "stdout",
     "output_type": "stream",
     "text": [
      "             \n",
      "Patient131\n",
      "only has one run output\n",
      "Patient131_N: DRB1*15:01 DRB1*15:02 DQA1*01:02 DQA1*01:03 DQB1*06:01 DQB1*06:02 DPA1*01:03 DPA1*02:01 DPB1*03:01 DPB1*13:01\n",
      "              \n",
      "Patient143\n",
      "Patient143_N: DRB1*01:01 DRB1*01:01 DQA1*01:01 DQA1*01:01 DQB1*05:01 DQB1*05:01 DPA1*01:03 DPA1*01:03 DPB1*04:02 DPB1*104:01\n",
      "Patient143_T: DRB1*01:01 DRB1*01:01 DQA1*01:01 DQA1*01:01 DQB1*05:01 DQB1*05:01 DPA1*01:03 DPA1*01:03 DPB1*03:01 DPB1*1037:01\n",
      "              \n",
      "Patient148\n",
      "Patient148_N: DRB1*07:01 DRB1*16:01 DQA1*01:02 DQA1*02:01 DQB1*03:03 DQB1*05:02 DPA1*01:03 DPA1*01:03 DPB1*03:01 DPB1*04:01\n",
      "Patient148_T: DRB1*07:01 DRB1*16:01 DQA1*01:02 DQA1*02:01 DQB1*03:03 DQB1*05:02 DPA1*01:03 DPA1*01:03 DPB1*03:01 DPB1*1231:01\n",
      "              \n",
      "Patient179\n",
      "Patient179_N: DRB1*03:01 DRB1*04:01 DQA1*03:01 DQA1*05:01 DQB1*02:01 DQB1*03:02 DPA1*01:03 DPA1*01:03 DPB1*04:01 DPB1*04:01\n",
      "Patient179_T: DRB1*03:01 DRB1*04:01 DQA1*05:01 DQA1*05:01 DQB1*02:01 DQB1*03:457 DPA1*01:03 DPA1*01:03 DPB1*04:01 DPB1*04:01\n",
      "              \n",
      "Patient181\n",
      "Patient181_N: DRB1*03:01 DRB1*07:01 DQA1*02:01 DQA1*05:01 DQB1*02:01 DQB1*02:02 DPA1*01:03 DPA1*01:03 DPB1*04:01 DPB1*04:02\n",
      "Patient181_T: DRB1*03:01 DRB1*07:01 DQA1*02:01 DQA1*05:01 DQB1*02:01 DQB1*02:02 DPA1*01:03 DPA1*01:03 DPB1*04:02 DPB1*126:01\n",
      "              \n",
      "Patient189\n",
      "Patient189_N: DRB1*04:01 DRB1*08:01 DQA1*03:03 DQA1*04:01 DQB1*03:01 DQB1*04:02 DPA1*01:03 DPA1*01:03 DPB1*02:01 DPB1*04:01\n",
      "Patient189_T: DRB1*04:01 DRB1*08:77 DQA1*03:03 DQA1*04:01 DQB1*03:01 DQB1*04:02 DPA1*01:03 DPA1*01:03 DPB1*02:01 DPB1*04:01\n",
      "              \n",
      "Patient31\n",
      "Patient31_N: DRB1*11:01 DRB1*13:01 DQA1*01:03 DQA1*05:05 DQB1*03:01 DQB1*06:03 DPA1*01:03 DPA1*01:03 DPB1*02:01 DPB1*04:01\n",
      "Patient31_T_M: DRB1*11:01 DRB1*13:01 DQA1*01:03 DQA1*05:48 DQB1*03:01 DQB1*06:03 DPA1*01:03 DPA1*01:03 DPB1*02:01 DPB1*04:01\n",
      "              \n",
      "Patient49\n",
      "Patient49_N: DRB1*11:01 DRB1*14:54 DQA1*01:04 DQA1*05:05 DQB1*03:01 DQB1*05:03 DPA1*01:03 DPA1*01:03 DPB1*04:02 DPB1*16:01\n",
      "Patient49_T_M: DRB1*11:01 DRB1*14:54 DQA1*01:04 DQA1*05:05 DQB1*03:01 DQB1*05:03 DPA1*01:03 DPA1*01:03 DPB1*463:01 DPB1*968:01\n",
      "              \n",
      "Patient82\n",
      "Patient82_N: DRB1*11:04 DRB1*14:54 DQA1*01:04 DQA1*05:05 DQB1*03:01 DQB1*05:03 DPA1*01:03 DPA1*01:03 DPB1*02:01 DPB1*04:02\n",
      "Patient82_T_P: DRB1*11:04 DRB1*14:54 DQA1*01:04 DQA1*05:05 DQB1*03:01 DQB1*05:03 DPA1*01:03 DPA1*01:03 DPB1*04:02 DPB1*04:02\n",
      "              \n",
      "Patient94\n",
      "Patient94_N: DRB1*11:03 DRB1*15:01 DQA1*01:02 DQA1*05:05 DQB1*03:01 DQB1*06:02 DPA1*01:03 DPA1*01:03 DPB1*02:02 DPB1*03:01\n",
      "Patient94_T_P: DRB1*11:03 DRB1*15:01 DQA1*01:02 DQA1*05:48 DQB1*03:01 DQB1*06:02 DPA1*01:03 DPA1*01:03 DPB1*02:02 DPB1*1049:01\n"
     ]
    }
   ],
   "source": [
    "# for each patient, check whether the HLAs are consistent between two samples\n",
    "\n",
    "patient_ids = set(df_ID.submitted_subject_id)\n",
    "patient_ids = list(patient_ids)\n",
    "patient_ids.sort()\n",
    "\n",
    "match_flags = []\n",
    "\n",
    "for patient in patient_ids:\n",
    "    \n",
    "    bio_list = bio_dict[patient]\n",
    "    bio_list.sort()\n",
    "    \n",
    "    run_list_0 = run_dict[bio_list[0]]\n",
    "    run_list_1 = run_dict[bio_list[1]]\n",
    "    \n",
    "    if \"SRR10899714\" in [run_list_0, run_list_1]:\n",
    "        if bio_list[0] == 'Patient131_T':\n",
    "            only_bio = bio_list[1]\n",
    "        elif bio_list[1] == 'Patient131_T':\n",
    "            only_bio = bio_list[0]\n",
    "        else:\n",
    "            print(\"Error in finding bio for Patient131_T and SRR10899714\")\n",
    "        \n",
    "        only_run = run_dict[only_bio]\n",
    "        if only_run == \"SRR10899714\":\n",
    "            print(\"Error in bio and run mismatch\")\n",
    "            \n",
    "        print(\"             \")\n",
    "        print(patient)\n",
    "        print(\"only has one run output\")\n",
    "        print(only_bio+\": \"+\" \".join(hla_dict[only_run]))\n",
    "    \n",
    "    else:\n",
    "        hlas_0 = hla_dict[run_list_0]\n",
    "        hlas_1 = hla_dict[run_list_1]\n",
    "\n",
    "        if hlas_0 == hlas_1:\n",
    "            match_flags += [True]\n",
    "        else:\n",
    "            match_flags += [False]\n",
    "            print(\"              \")\n",
    "            print(patient)\n",
    "            print(bio_list[0]+\": \"+\" \".join(hlas_0))\n",
    "            print(bio_list[1]+\": \"+\" \".join(hlas_1))"
   ]
  },
  {
   "cell_type": "markdown",
   "metadata": {},
   "source": [
    "**initial attempt on deciding which sample to keep for these patients is listed in file** \n",
    "\n",
    "    ../Liu_2019/HLA_II_inconsistency.txt"
   ]
  },
  {
   "cell_type": "code",
   "execution_count": 23,
   "metadata": {},
   "outputs": [
    {
     "data": {
      "text/plain": [
       "Counter({True: 134, False: 9})"
      ]
     },
     "execution_count": 23,
     "metadata": {},
     "output_type": "execute_result"
    }
   ],
   "source": [
    "Counter(match_flags)"
   ]
  },
  {
   "cell_type": "code",
   "execution_count": 24,
   "metadata": {},
   "outputs": [
    {
     "name": "stdout",
     "output_type": "stream",
     "text": [
      "SRR10899840\n",
      "SRR10899817\n"
     ]
    }
   ],
   "source": [
    "print(run_dict[bio_dict['Patient143'][0]])\n",
    "print(run_dict[bio_dict['Patient143'][1]])"
   ]
  },
  {
   "cell_type": "code",
   "execution_count": 25,
   "metadata": {},
   "outputs": [
    {
     "name": "stdout",
     "output_type": "stream",
     "text": [
      "SRR10899825\n",
      "SRR10899815\n"
     ]
    }
   ],
   "source": [
    "print(run_dict[bio_dict['Patient148'][0]])\n",
    "print(run_dict[bio_dict['Patient148'][1]])"
   ]
  },
  {
   "cell_type": "code",
   "execution_count": 26,
   "metadata": {},
   "outputs": [
    {
     "data": {
      "text/html": [
       "<div>\n",
       "<style scoped>\n",
       "    .dataframe tbody tr th:only-of-type {\n",
       "        vertical-align: middle;\n",
       "    }\n",
       "\n",
       "    .dataframe tbody tr th {\n",
       "        vertical-align: top;\n",
       "    }\n",
       "\n",
       "    .dataframe thead th {\n",
       "        text-align: right;\n",
       "    }\n",
       "</style>\n",
       "<table border=\"1\" class=\"dataframe\">\n",
       "  <thead>\n",
       "    <tr style=\"text-align: right;\">\n",
       "      <th></th>\n",
       "      <th>ID</th>\n",
       "      <th>DRB_1</th>\n",
       "      <th>DRB_2</th>\n",
       "      <th>DQA_1</th>\n",
       "      <th>DQA_2</th>\n",
       "      <th>DQB_1</th>\n",
       "      <th>DQB_2</th>\n",
       "      <th>DPA_1</th>\n",
       "      <th>DPA_2</th>\n",
       "      <th>DPB_1</th>\n",
       "      <th>DPB_2</th>\n",
       "    </tr>\n",
       "  </thead>\n",
       "  <tbody>\n",
       "    <tr>\n",
       "      <th>0</th>\n",
       "      <td>SRR10801640</td>\n",
       "      <td>DRB1*15:01</td>\n",
       "      <td>DRB1*03:01</td>\n",
       "      <td>DQA1*01:02</td>\n",
       "      <td>DQA1*05:01</td>\n",
       "      <td>DQB1*06:02</td>\n",
       "      <td>DQB1*02:01</td>\n",
       "      <td>DPA1*01:03</td>\n",
       "      <td>DPA1*02:01</td>\n",
       "      <td>DPB1*04:01</td>\n",
       "      <td>DPB1*01:01</td>\n",
       "    </tr>\n",
       "    <tr>\n",
       "      <th>1</th>\n",
       "      <td>SRR10801641</td>\n",
       "      <td>DRB1*15:02</td>\n",
       "      <td>DRB1*14:01</td>\n",
       "      <td>DQA1*01:04</td>\n",
       "      <td>DQA1*01:03</td>\n",
       "      <td>DQB1*06:01</td>\n",
       "      <td>DQB1*05:03</td>\n",
       "      <td>DPA1*01:03</td>\n",
       "      <td>DPA1*02:01</td>\n",
       "      <td>DPB1*13:01</td>\n",
       "      <td>DPB1*04:01</td>\n",
       "    </tr>\n",
       "    <tr>\n",
       "      <th>2</th>\n",
       "      <td>SRR10801642</td>\n",
       "      <td>DRB1*15:01</td>\n",
       "      <td>DRB1*13:01</td>\n",
       "      <td>DQA1*01:02</td>\n",
       "      <td>DQA1*01:03</td>\n",
       "      <td>DQB1*06:02</td>\n",
       "      <td>DQB1*06:03</td>\n",
       "      <td>DPA1*01:03</td>\n",
       "      <td>NaN</td>\n",
       "      <td>DPB1*02:01</td>\n",
       "      <td>DPB1*03:01</td>\n",
       "    </tr>\n",
       "    <tr>\n",
       "      <th>3</th>\n",
       "      <td>SRR10801643</td>\n",
       "      <td>DRB1*11:04</td>\n",
       "      <td>DRB1*04:04</td>\n",
       "      <td>DQA1*03:01</td>\n",
       "      <td>DQA1*05:05</td>\n",
       "      <td>DQB1*03:02</td>\n",
       "      <td>DQB1*03:01</td>\n",
       "      <td>DPA1*01:03</td>\n",
       "      <td>NaN</td>\n",
       "      <td>DPB1*04:01</td>\n",
       "      <td>NaN</td>\n",
       "    </tr>\n",
       "    <tr>\n",
       "      <th>4</th>\n",
       "      <td>SRR10801644</td>\n",
       "      <td>DRB1*13:03</td>\n",
       "      <td>DRB1*03:01</td>\n",
       "      <td>DQA1*05:01</td>\n",
       "      <td>DQA1*05:05</td>\n",
       "      <td>DQB1*03:01</td>\n",
       "      <td>DQB1*02:01</td>\n",
       "      <td>DPA1*01:03</td>\n",
       "      <td>NaN</td>\n",
       "      <td>DPB1*104:01</td>\n",
       "      <td>NaN</td>\n",
       "    </tr>\n",
       "    <tr>\n",
       "      <th>...</th>\n",
       "      <td>...</td>\n",
       "      <td>...</td>\n",
       "      <td>...</td>\n",
       "      <td>...</td>\n",
       "      <td>...</td>\n",
       "      <td>...</td>\n",
       "      <td>...</td>\n",
       "      <td>...</td>\n",
       "      <td>...</td>\n",
       "      <td>...</td>\n",
       "      <td>...</td>\n",
       "    </tr>\n",
       "    <tr>\n",
       "      <th>282</th>\n",
       "      <td>SRR10899972</td>\n",
       "      <td>DRB1*01:01</td>\n",
       "      <td>DRB1*07:01</td>\n",
       "      <td>DQA1*01:01</td>\n",
       "      <td>DQA1*02:01</td>\n",
       "      <td>DQB1*05:01</td>\n",
       "      <td>DQB1*02:02</td>\n",
       "      <td>DPA1*01:03</td>\n",
       "      <td>DPA1*02:01</td>\n",
       "      <td>DPB1*04:01</td>\n",
       "      <td>DPB1*01:01</td>\n",
       "    </tr>\n",
       "    <tr>\n",
       "      <th>283</th>\n",
       "      <td>SRR11080170</td>\n",
       "      <td>DRB1*11:01</td>\n",
       "      <td>DRB1*07:01</td>\n",
       "      <td>DQA1*02:01</td>\n",
       "      <td>DQA1*05:05</td>\n",
       "      <td>DQB1*03:01</td>\n",
       "      <td>DQB1*02:02</td>\n",
       "      <td>DPA1*01:03</td>\n",
       "      <td>DPA1*02:01</td>\n",
       "      <td>DPB1*04:01</td>\n",
       "      <td>DPB1*17:01</td>\n",
       "    </tr>\n",
       "    <tr>\n",
       "      <th>284</th>\n",
       "      <td>SRR11080191</td>\n",
       "      <td>DRB1*13:01</td>\n",
       "      <td>DRB1*11:01</td>\n",
       "      <td>DQA1*01:03</td>\n",
       "      <td>DQA1*05:05</td>\n",
       "      <td>DQB1*06:03</td>\n",
       "      <td>DQB1*03:01</td>\n",
       "      <td>DPA1*01:03</td>\n",
       "      <td>DPA1*02:07</td>\n",
       "      <td>DPB1*19:01</td>\n",
       "      <td>DPB1*04:01</td>\n",
       "    </tr>\n",
       "    <tr>\n",
       "      <th>285</th>\n",
       "      <td>SRR11080225</td>\n",
       "      <td>DRB1*13:01</td>\n",
       "      <td>DRB1*01:01</td>\n",
       "      <td>DQA1*01:03</td>\n",
       "      <td>DQA1*01:01</td>\n",
       "      <td>DQB1*06:03</td>\n",
       "      <td>DQB1*05:01</td>\n",
       "      <td>DPA1*01:03</td>\n",
       "      <td>DPA1*02:01</td>\n",
       "      <td>DPB1*04:02</td>\n",
       "      <td>DPB1*17:01</td>\n",
       "    </tr>\n",
       "    <tr>\n",
       "      <th>286</th>\n",
       "      <td>SRR11080226</td>\n",
       "      <td>DRB1*01:01</td>\n",
       "      <td>DRB1*03:01</td>\n",
       "      <td>DQA1*01:01</td>\n",
       "      <td>DQA1*05:01</td>\n",
       "      <td>DQB1*05:01</td>\n",
       "      <td>DQB1*02:01</td>\n",
       "      <td>DPA1*01:03</td>\n",
       "      <td>DPA1*02:01</td>\n",
       "      <td>DPB1*01:01</td>\n",
       "      <td>DPB1*04:01</td>\n",
       "    </tr>\n",
       "  </tbody>\n",
       "</table>\n",
       "<p>287 rows × 11 columns</p>\n",
       "</div>"
      ],
      "text/plain": [
       "              ID       DRB_1       DRB_2       DQA_1       DQA_2       DQB_1  \\\n",
       "0    SRR10801640  DRB1*15:01  DRB1*03:01  DQA1*01:02  DQA1*05:01  DQB1*06:02   \n",
       "1    SRR10801641  DRB1*15:02  DRB1*14:01  DQA1*01:04  DQA1*01:03  DQB1*06:01   \n",
       "2    SRR10801642  DRB1*15:01  DRB1*13:01  DQA1*01:02  DQA1*01:03  DQB1*06:02   \n",
       "3    SRR10801643  DRB1*11:04  DRB1*04:04  DQA1*03:01  DQA1*05:05  DQB1*03:02   \n",
       "4    SRR10801644  DRB1*13:03  DRB1*03:01  DQA1*05:01  DQA1*05:05  DQB1*03:01   \n",
       "..           ...         ...         ...         ...         ...         ...   \n",
       "282  SRR10899972  DRB1*01:01  DRB1*07:01  DQA1*01:01  DQA1*02:01  DQB1*05:01   \n",
       "283  SRR11080170  DRB1*11:01  DRB1*07:01  DQA1*02:01  DQA1*05:05  DQB1*03:01   \n",
       "284  SRR11080191  DRB1*13:01  DRB1*11:01  DQA1*01:03  DQA1*05:05  DQB1*06:03   \n",
       "285  SRR11080225  DRB1*13:01  DRB1*01:01  DQA1*01:03  DQA1*01:01  DQB1*06:03   \n",
       "286  SRR11080226  DRB1*01:01  DRB1*03:01  DQA1*01:01  DQA1*05:01  DQB1*05:01   \n",
       "\n",
       "          DQB_2       DPA_1       DPA_2        DPB_1       DPB_2  \n",
       "0    DQB1*02:01  DPA1*01:03  DPA1*02:01   DPB1*04:01  DPB1*01:01  \n",
       "1    DQB1*05:03  DPA1*01:03  DPA1*02:01   DPB1*13:01  DPB1*04:01  \n",
       "2    DQB1*06:03  DPA1*01:03         NaN   DPB1*02:01  DPB1*03:01  \n",
       "3    DQB1*03:01  DPA1*01:03         NaN   DPB1*04:01         NaN  \n",
       "4    DQB1*02:01  DPA1*01:03         NaN  DPB1*104:01         NaN  \n",
       "..          ...         ...         ...          ...         ...  \n",
       "282  DQB1*02:02  DPA1*01:03  DPA1*02:01   DPB1*04:01  DPB1*01:01  \n",
       "283  DQB1*02:02  DPA1*01:03  DPA1*02:01   DPB1*04:01  DPB1*17:01  \n",
       "284  DQB1*03:01  DPA1*01:03  DPA1*02:07   DPB1*19:01  DPB1*04:01  \n",
       "285  DQB1*05:01  DPA1*01:03  DPA1*02:01   DPB1*04:02  DPB1*17:01  \n",
       "286  DQB1*02:01  DPA1*01:03  DPA1*02:01   DPB1*01:01  DPB1*04:01  \n",
       "\n",
       "[287 rows x 11 columns]"
      ]
     },
     "execution_count": 26,
     "metadata": {},
     "output_type": "execute_result"
    }
   ],
   "source": [
    "df_hla"
   ]
  },
  {
   "cell_type": "code",
   "execution_count": 27,
   "metadata": {},
   "outputs": [],
   "source": [
    "# build a dict with run (SRR********) as key and the string of sorted HLAs as value\n",
    "# based on hla_dict, this one concatenates the items in the list into a string\n",
    "\n",
    "\n",
    "hla_str_dict = defaultdict(str)\n",
    "\n",
    "for cur_id in df_hla.ID.tolist(): \n",
    "    \n",
    "    cur_hla_list = hla_dict[cur_id]\n",
    "    hla_str_dict[cur_id] = \",\".join(cur_hla_list)"
   ]
  },
  {
   "cell_type": "code",
   "execution_count": 28,
   "metadata": {},
   "outputs": [
    {
     "data": {
      "text/plain": [
       "287"
      ]
     },
     "execution_count": 28,
     "metadata": {},
     "output_type": "execute_result"
    }
   ],
   "source": [
    "len(hla_str_dict)"
   ]
  },
  {
   "cell_type": "code",
   "execution_count": 29,
   "metadata": {},
   "outputs": [
    {
     "data": {
      "text/plain": [
       "['DRB1*03:01',\n",
       " 'DRB1*15:01',\n",
       " 'DQA1*01:02',\n",
       " 'DQA1*05:01',\n",
       " 'DQB1*02:01',\n",
       " 'DQB1*06:02',\n",
       " 'DPA1*01:03',\n",
       " 'DPA1*02:01',\n",
       " 'DPB1*01:01',\n",
       " 'DPB1*04:01']"
      ]
     },
     "execution_count": 29,
     "metadata": {},
     "output_type": "execute_result"
    }
   ],
   "source": [
    "hla_dict['SRR10801640']"
   ]
  },
  {
   "cell_type": "code",
   "execution_count": 30,
   "metadata": {},
   "outputs": [
    {
     "data": {
      "text/plain": [
       "'DRB1*03:01,DRB1*15:01,DQA1*01:02,DQA1*05:01,DQB1*02:01,DQB1*06:02,DPA1*01:03,DPA1*02:01,DPB1*01:01,DPB1*04:01'"
      ]
     },
     "execution_count": 30,
     "metadata": {},
     "output_type": "execute_result"
    }
   ],
   "source": [
    "hla_str_dict['SRR10801640']"
   ]
  },
  {
   "cell_type": "code",
   "execution_count": 31,
   "metadata": {},
   "outputs": [
    {
     "data": {
      "text/plain": [
       "['DRB1*01:01',\n",
       " 'DRB1*07:01',\n",
       " 'DQA1*01:01',\n",
       " 'DQA1*02:01',\n",
       " 'DQB1*02:02',\n",
       " 'DQB1*05:01',\n",
       " 'DPA1*01:03',\n",
       " 'DPA1*02:01',\n",
       " 'DPB1*01:01',\n",
       " 'DPB1*04:01']"
      ]
     },
     "execution_count": 31,
     "metadata": {},
     "output_type": "execute_result"
    }
   ],
   "source": [
    "hla_dict['SRR10899972']"
   ]
  },
  {
   "cell_type": "code",
   "execution_count": 32,
   "metadata": {},
   "outputs": [
    {
     "data": {
      "text/plain": [
       "'DRB1*01:01,DRB1*07:01,DQA1*01:01,DQA1*02:01,DQB1*02:02,DQB1*05:01,DPA1*01:03,DPA1*02:01,DPB1*01:01,DPB1*04:01'"
      ]
     },
     "execution_count": 32,
     "metadata": {},
     "output_type": "execute_result"
    }
   ],
   "source": [
    "hla_str_dict['SRR10899972']"
   ]
  },
  {
   "cell_type": "code",
   "execution_count": 33,
   "metadata": {},
   "outputs": [],
   "source": [
    "# build a dictionary with patient ID as key, and the string of HLAs as key\n",
    "\n",
    "# for the one patient with only normal sample result out and nine patients with \n",
    "# inconsistency between normal sample and tumor sample, follow the intitial \n",
    "# attempt to decide which sample to include as listed in file\n",
    "# HLA_II_inconsistency.txt\n",
    "\n",
    "final_hla_dict = defaultdict(str)\n",
    "\n",
    "\n",
    "patient_ids = set(df_ID.submitted_subject_id)\n",
    "patient_ids = list(patient_ids)\n",
    "patient_ids.sort()\n",
    "\n",
    "manual_dict = defaultdict(str)\n",
    "\n",
    "manual_dict['Patient131'] = 'Patient131_N'\n",
    "manual_dict['Patient143'] = 'Patient143_T'\n",
    "manual_dict['Patient148'] = 'Patient148_N'\n",
    "manual_dict['Patient179'] = 'Patient179_T'\n",
    "manual_dict['Patient181'] = 'Patient181_N'\n",
    "manual_dict['Patient189'] = 'Patient189_T'\n",
    "manual_dict['Patient31'] = 'Patient31_T_M'\n",
    "manual_dict['Patient49'] = 'Patient49_N'\n",
    "manual_dict['Patient82'] = 'Patient82_T_P'\n",
    "manual_dict['Patient94'] = 'Patient94_N'\n",
    "\n",
    "\n",
    "chosen_bio_list = []\n",
    "\n",
    "for patient in patient_ids:\n",
    "    \n",
    "    if patient in manual_dict:\n",
    "        bio2use = manual_dict[patient]\n",
    "    else:\n",
    "        bio_list = bio_dict[patient]\n",
    "        bio_list.sort()\n",
    "        bio2use = bio_list[1]\n",
    "    \n",
    "    chosen_bio_list += [bio2use]\n",
    "    \n",
    "    run_list_1 = run_dict[bio2use]\n",
    "    \n",
    "    hlas_1 = hla_str_dict[run_list_1]\n",
    "    \n",
    "    final_hla_dict[patient] = hlas_1"
   ]
  },
  {
   "cell_type": "code",
   "execution_count": 34,
   "metadata": {},
   "outputs": [
    {
     "data": {
      "text/plain": [
       "144"
      ]
     },
     "execution_count": 34,
     "metadata": {},
     "output_type": "execute_result"
    }
   ],
   "source": [
    "len(final_hla_dict)"
   ]
  },
  {
   "cell_type": "code",
   "execution_count": null,
   "metadata": {},
   "outputs": [],
   "source": []
  },
  {
   "cell_type": "code",
   "execution_count": null,
   "metadata": {},
   "outputs": [],
   "source": []
  },
  {
   "cell_type": "code",
   "execution_count": 35,
   "metadata": {},
   "outputs": [
    {
     "name": "stdout",
     "output_type": "stream",
     "text": [
      "(144, 46)\n"
     ]
    },
    {
     "data": {
      "text/html": [
       "<div>\n",
       "<style scoped>\n",
       "    .dataframe tbody tr th:only-of-type {\n",
       "        vertical-align: middle;\n",
       "    }\n",
       "\n",
       "    .dataframe tbody tr th {\n",
       "        vertical-align: top;\n",
       "    }\n",
       "\n",
       "    .dataframe thead th {\n",
       "        text-align: right;\n",
       "    }\n",
       "</style>\n",
       "<table border=\"1\" class=\"dataframe\">\n",
       "  <thead>\n",
       "    <tr style=\"text-align: right;\">\n",
       "      <th></th>\n",
       "      <th>Unnamed: 0</th>\n",
       "      <th>total_muts</th>\n",
       "      <th>nonsyn_muts</th>\n",
       "      <th>clonal_muts</th>\n",
       "      <th>subclonal_muts</th>\n",
       "      <th>heterogeneity</th>\n",
       "      <th>total_neoantigens</th>\n",
       "      <th>CNA_prop</th>\n",
       "      <th>gender (Male=1, Female=0)</th>\n",
       "      <th>biopsy site</th>\n",
       "      <th>...</th>\n",
       "      <th>postCTLA4</th>\n",
       "      <th>postMAPKTx</th>\n",
       "      <th>postCombinedCTLA_PD1</th>\n",
       "      <th>numPriorTherapies</th>\n",
       "      <th>biopsy site_categ</th>\n",
       "      <th>biopsyContext (1=Pre-Ipi; 2=On-Ipi; 3=Pre-PD1; 4=On-PD1)</th>\n",
       "      <th>daysBiopsyToPD1</th>\n",
       "      <th>daysBiopsyAfterIpiStart</th>\n",
       "      <th>purity</th>\n",
       "      <th>ploidy</th>\n",
       "    </tr>\n",
       "  </thead>\n",
       "  <tbody>\n",
       "    <tr>\n",
       "      <th>0</th>\n",
       "      <td>Patient1</td>\n",
       "      <td>34</td>\n",
       "      <td>22</td>\n",
       "      <td>12</td>\n",
       "      <td>10</td>\n",
       "      <td>0.454545</td>\n",
       "      <td>49</td>\n",
       "      <td>0.321417</td>\n",
       "      <td>0</td>\n",
       "      <td>skin</td>\n",
       "      <td>...</td>\n",
       "      <td>0.0</td>\n",
       "      <td>0.0</td>\n",
       "      <td>0</td>\n",
       "      <td>1</td>\n",
       "      <td>skin</td>\n",
       "      <td>3</td>\n",
       "      <td>-84</td>\n",
       "      <td>unk</td>\n",
       "      <td>0.92</td>\n",
       "      <td>1.73</td>\n",
       "    </tr>\n",
       "    <tr>\n",
       "      <th>1</th>\n",
       "      <td>Patient10</td>\n",
       "      <td>96</td>\n",
       "      <td>71</td>\n",
       "      <td>48</td>\n",
       "      <td>22</td>\n",
       "      <td>0.314286</td>\n",
       "      <td>230</td>\n",
       "      <td>0.391384</td>\n",
       "      <td>0</td>\n",
       "      <td>skin</td>\n",
       "      <td>...</td>\n",
       "      <td>1.0</td>\n",
       "      <td>1.0</td>\n",
       "      <td>0</td>\n",
       "      <td>2</td>\n",
       "      <td>skin</td>\n",
       "      <td>3</td>\n",
       "      <td>-12</td>\n",
       "      <td>107</td>\n",
       "      <td>0.83</td>\n",
       "      <td>1.84</td>\n",
       "    </tr>\n",
       "    <tr>\n",
       "      <th>2</th>\n",
       "      <td>Patient100</td>\n",
       "      <td>200</td>\n",
       "      <td>126</td>\n",
       "      <td>98</td>\n",
       "      <td>24</td>\n",
       "      <td>0.196721</td>\n",
       "      <td>301</td>\n",
       "      <td>0.029447</td>\n",
       "      <td>0</td>\n",
       "      <td>skin</td>\n",
       "      <td>...</td>\n",
       "      <td>0.0</td>\n",
       "      <td>0.0</td>\n",
       "      <td>0</td>\n",
       "      <td>1</td>\n",
       "      <td>skin</td>\n",
       "      <td>3</td>\n",
       "      <td>-94</td>\n",
       "      <td>33</td>\n",
       "      <td>0.11</td>\n",
       "      <td>2.17</td>\n",
       "    </tr>\n",
       "    <tr>\n",
       "      <th>3</th>\n",
       "      <td>Patient102</td>\n",
       "      <td>370</td>\n",
       "      <td>246</td>\n",
       "      <td>215</td>\n",
       "      <td>26</td>\n",
       "      <td>0.107884</td>\n",
       "      <td>825</td>\n",
       "      <td>0.169389</td>\n",
       "      <td>1</td>\n",
       "      <td>brain</td>\n",
       "      <td>...</td>\n",
       "      <td>0.0</td>\n",
       "      <td>0.0</td>\n",
       "      <td>0</td>\n",
       "      <td>0</td>\n",
       "      <td>brain</td>\n",
       "      <td>3</td>\n",
       "      <td>-64</td>\n",
       "      <td>na</td>\n",
       "      <td>0.70</td>\n",
       "      <td>3.24</td>\n",
       "    </tr>\n",
       "    <tr>\n",
       "      <th>4</th>\n",
       "      <td>Patient104</td>\n",
       "      <td>130</td>\n",
       "      <td>96</td>\n",
       "      <td>65</td>\n",
       "      <td>28</td>\n",
       "      <td>0.301075</td>\n",
       "      <td>329</td>\n",
       "      <td>0.206518</td>\n",
       "      <td>0</td>\n",
       "      <td>lymph node</td>\n",
       "      <td>...</td>\n",
       "      <td>0.0</td>\n",
       "      <td>0.0</td>\n",
       "      <td>0</td>\n",
       "      <td>0</td>\n",
       "      <td>lymph node</td>\n",
       "      <td>3</td>\n",
       "      <td>-57</td>\n",
       "      <td>na</td>\n",
       "      <td>0.86</td>\n",
       "      <td>4.58</td>\n",
       "    </tr>\n",
       "    <tr>\n",
       "      <th>5</th>\n",
       "      <td>Patient105</td>\n",
       "      <td>185</td>\n",
       "      <td>125</td>\n",
       "      <td>85</td>\n",
       "      <td>23</td>\n",
       "      <td>0.212963</td>\n",
       "      <td>334</td>\n",
       "      <td>0.394306</td>\n",
       "      <td>0</td>\n",
       "      <td>skin</td>\n",
       "      <td>...</td>\n",
       "      <td>0.0</td>\n",
       "      <td>0.0</td>\n",
       "      <td>1</td>\n",
       "      <td>0</td>\n",
       "      <td>skin</td>\n",
       "      <td>3</td>\n",
       "      <td>-22</td>\n",
       "      <td>na</td>\n",
       "      <td>0.86</td>\n",
       "      <td>2.42</td>\n",
       "    </tr>\n",
       "  </tbody>\n",
       "</table>\n",
       "<p>6 rows × 46 columns</p>\n",
       "</div>"
      ],
      "text/plain": [
       "   Unnamed: 0  total_muts  nonsyn_muts  clonal_muts  subclonal_muts  \\\n",
       "0    Patient1          34           22           12              10   \n",
       "1   Patient10          96           71           48              22   \n",
       "2  Patient100         200          126           98              24   \n",
       "3  Patient102         370          246          215              26   \n",
       "4  Patient104         130           96           65              28   \n",
       "5  Patient105         185          125           85              23   \n",
       "\n",
       "   heterogeneity  total_neoantigens  CNA_prop  gender (Male=1, Female=0)  \\\n",
       "0       0.454545                 49  0.321417                          0   \n",
       "1       0.314286                230  0.391384                          0   \n",
       "2       0.196721                301  0.029447                          0   \n",
       "3       0.107884                825  0.169389                          1   \n",
       "4       0.301075                329  0.206518                          0   \n",
       "5       0.212963                334  0.394306                          0   \n",
       "\n",
       "  biopsy site  ...  postCTLA4 postMAPKTx  postCombinedCTLA_PD1  \\\n",
       "0        skin  ...        0.0        0.0                     0   \n",
       "1        skin  ...        1.0        1.0                     0   \n",
       "2        skin  ...        0.0        0.0                     0   \n",
       "3       brain  ...        0.0        0.0                     0   \n",
       "4  lymph node  ...        0.0        0.0                     0   \n",
       "5        skin  ...        0.0        0.0                     1   \n",
       "\n",
       "   numPriorTherapies  biopsy site_categ  \\\n",
       "0                  1               skin   \n",
       "1                  2               skin   \n",
       "2                  1               skin   \n",
       "3                  0              brain   \n",
       "4                  0         lymph node   \n",
       "5                  0               skin   \n",
       "\n",
       "  biopsyContext (1=Pre-Ipi; 2=On-Ipi; 3=Pre-PD1; 4=On-PD1)  daysBiopsyToPD1  \\\n",
       "0                                                  3                    -84   \n",
       "1                                                  3                    -12   \n",
       "2                                                  3                    -94   \n",
       "3                                                  3                    -64   \n",
       "4                                                  3                    -57   \n",
       "5                                                  3                    -22   \n",
       "\n",
       "  daysBiopsyAfterIpiStart  purity ploidy  \n",
       "0                     unk    0.92   1.73  \n",
       "1                     107    0.83   1.84  \n",
       "2                      33    0.11   2.17  \n",
       "3                      na    0.70   3.24  \n",
       "4                      na    0.86   4.58  \n",
       "5                      na    0.86   2.42  \n",
       "\n",
       "[6 rows x 46 columns]"
      ]
     },
     "execution_count": 35,
     "metadata": {},
     "output_type": "execute_result"
    }
   ],
   "source": [
    "df_s1 = pd.read_excel(data_dir+\"/\"+table_s1, \n",
    "                      sheet_name='Supplemental Table 1', \n",
    "                      skiprows=2, \n",
    "                      skipfooter=14)  \n",
    "print(df_s1.shape)\n",
    "df_s1[:6]"
   ]
  },
  {
   "cell_type": "code",
   "execution_count": 36,
   "metadata": {},
   "outputs": [
    {
     "data": {
      "text/plain": [
       "True"
      ]
     },
     "execution_count": 36,
     "metadata": {},
     "output_type": "execute_result"
    }
   ],
   "source": [
    "set(df_s1['Unnamed: 0']) == set(df_ID['submitted_subject_id'])"
   ]
  },
  {
   "cell_type": "code",
   "execution_count": 37,
   "metadata": {},
   "outputs": [
    {
     "data": {
      "text/plain": [
       "True"
      ]
     },
     "execution_count": 37,
     "metadata": {},
     "output_type": "execute_result"
    }
   ],
   "source": [
    "set(df_s1['Unnamed: 0']) == set(final_hla_dict.keys())"
   ]
  },
  {
   "cell_type": "code",
   "execution_count": 38,
   "metadata": {},
   "outputs": [],
   "source": [
    "hla_column = [final_hla_dict[x] for x in df_s1['Unnamed: 0'].tolist()]"
   ]
  },
  {
   "cell_type": "code",
   "execution_count": 39,
   "metadata": {},
   "outputs": [
    {
     "data": {
      "text/html": [
       "<div>\n",
       "<style scoped>\n",
       "    .dataframe tbody tr th:only-of-type {\n",
       "        vertical-align: middle;\n",
       "    }\n",
       "\n",
       "    .dataframe tbody tr th {\n",
       "        vertical-align: top;\n",
       "    }\n",
       "\n",
       "    .dataframe thead th {\n",
       "        text-align: right;\n",
       "    }\n",
       "</style>\n",
       "<table border=\"1\" class=\"dataframe\">\n",
       "  <thead>\n",
       "    <tr style=\"text-align: right;\">\n",
       "      <th></th>\n",
       "      <th>Unnamed: 0</th>\n",
       "      <th>total_muts</th>\n",
       "      <th>nonsyn_muts</th>\n",
       "      <th>clonal_muts</th>\n",
       "      <th>subclonal_muts</th>\n",
       "      <th>heterogeneity</th>\n",
       "      <th>total_neoantigens</th>\n",
       "      <th>CNA_prop</th>\n",
       "      <th>gender (Male=1, Female=0)</th>\n",
       "      <th>biopsy site</th>\n",
       "      <th>...</th>\n",
       "      <th>postMAPKTx</th>\n",
       "      <th>postCombinedCTLA_PD1</th>\n",
       "      <th>numPriorTherapies</th>\n",
       "      <th>biopsy site_categ</th>\n",
       "      <th>biopsyContext (1=Pre-Ipi; 2=On-Ipi; 3=Pre-PD1; 4=On-PD1)</th>\n",
       "      <th>daysBiopsyToPD1</th>\n",
       "      <th>daysBiopsyAfterIpiStart</th>\n",
       "      <th>purity</th>\n",
       "      <th>ploidy</th>\n",
       "      <th>hla_class_ii_alleles</th>\n",
       "    </tr>\n",
       "  </thead>\n",
       "  <tbody>\n",
       "    <tr>\n",
       "      <th>0</th>\n",
       "      <td>Patient1</td>\n",
       "      <td>34</td>\n",
       "      <td>22</td>\n",
       "      <td>12</td>\n",
       "      <td>10</td>\n",
       "      <td>0.454545</td>\n",
       "      <td>49</td>\n",
       "      <td>0.321417</td>\n",
       "      <td>0</td>\n",
       "      <td>skin</td>\n",
       "      <td>...</td>\n",
       "      <td>0.0</td>\n",
       "      <td>0</td>\n",
       "      <td>1</td>\n",
       "      <td>skin</td>\n",
       "      <td>3</td>\n",
       "      <td>-84</td>\n",
       "      <td>unk</td>\n",
       "      <td>0.92</td>\n",
       "      <td>1.73</td>\n",
       "      <td>DRB1*04:01,DRB1*04:03,DQA1*03:01,DQA1*03:03,DQ...</td>\n",
       "    </tr>\n",
       "    <tr>\n",
       "      <th>1</th>\n",
       "      <td>Patient10</td>\n",
       "      <td>96</td>\n",
       "      <td>71</td>\n",
       "      <td>48</td>\n",
       "      <td>22</td>\n",
       "      <td>0.314286</td>\n",
       "      <td>230</td>\n",
       "      <td>0.391384</td>\n",
       "      <td>0</td>\n",
       "      <td>skin</td>\n",
       "      <td>...</td>\n",
       "      <td>1.0</td>\n",
       "      <td>0</td>\n",
       "      <td>2</td>\n",
       "      <td>skin</td>\n",
       "      <td>3</td>\n",
       "      <td>-12</td>\n",
       "      <td>107</td>\n",
       "      <td>0.83</td>\n",
       "      <td>1.84</td>\n",
       "      <td>DRB1*04:01,DRB1*15:01,DQA1*01:02,DQA1*03:01,DQ...</td>\n",
       "    </tr>\n",
       "    <tr>\n",
       "      <th>2</th>\n",
       "      <td>Patient100</td>\n",
       "      <td>200</td>\n",
       "      <td>126</td>\n",
       "      <td>98</td>\n",
       "      <td>24</td>\n",
       "      <td>0.196721</td>\n",
       "      <td>301</td>\n",
       "      <td>0.029447</td>\n",
       "      <td>0</td>\n",
       "      <td>skin</td>\n",
       "      <td>...</td>\n",
       "      <td>0.0</td>\n",
       "      <td>0</td>\n",
       "      <td>1</td>\n",
       "      <td>skin</td>\n",
       "      <td>3</td>\n",
       "      <td>-94</td>\n",
       "      <td>33</td>\n",
       "      <td>0.11</td>\n",
       "      <td>2.17</td>\n",
       "      <td>DRB1*01:01,DRB1*15:01,DQA1*01:01,DQA1*01:02,DQ...</td>\n",
       "    </tr>\n",
       "    <tr>\n",
       "      <th>3</th>\n",
       "      <td>Patient102</td>\n",
       "      <td>370</td>\n",
       "      <td>246</td>\n",
       "      <td>215</td>\n",
       "      <td>26</td>\n",
       "      <td>0.107884</td>\n",
       "      <td>825</td>\n",
       "      <td>0.169389</td>\n",
       "      <td>1</td>\n",
       "      <td>brain</td>\n",
       "      <td>...</td>\n",
       "      <td>0.0</td>\n",
       "      <td>0</td>\n",
       "      <td>0</td>\n",
       "      <td>brain</td>\n",
       "      <td>3</td>\n",
       "      <td>-64</td>\n",
       "      <td>na</td>\n",
       "      <td>0.70</td>\n",
       "      <td>3.24</td>\n",
       "      <td>DRB1*01:01,DRB1*11:04,DQA1*01:01,DQA1*05:05,DQ...</td>\n",
       "    </tr>\n",
       "    <tr>\n",
       "      <th>4</th>\n",
       "      <td>Patient104</td>\n",
       "      <td>130</td>\n",
       "      <td>96</td>\n",
       "      <td>65</td>\n",
       "      <td>28</td>\n",
       "      <td>0.301075</td>\n",
       "      <td>329</td>\n",
       "      <td>0.206518</td>\n",
       "      <td>0</td>\n",
       "      <td>lymph node</td>\n",
       "      <td>...</td>\n",
       "      <td>0.0</td>\n",
       "      <td>0</td>\n",
       "      <td>0</td>\n",
       "      <td>lymph node</td>\n",
       "      <td>3</td>\n",
       "      <td>-57</td>\n",
       "      <td>na</td>\n",
       "      <td>0.86</td>\n",
       "      <td>4.58</td>\n",
       "      <td>DRB1*01:01,DRB1*07:01,DQA1*01:02,DQA1*02:01,DQ...</td>\n",
       "    </tr>\n",
       "    <tr>\n",
       "      <th>...</th>\n",
       "      <td>...</td>\n",
       "      <td>...</td>\n",
       "      <td>...</td>\n",
       "      <td>...</td>\n",
       "      <td>...</td>\n",
       "      <td>...</td>\n",
       "      <td>...</td>\n",
       "      <td>...</td>\n",
       "      <td>...</td>\n",
       "      <td>...</td>\n",
       "      <td>...</td>\n",
       "      <td>...</td>\n",
       "      <td>...</td>\n",
       "      <td>...</td>\n",
       "      <td>...</td>\n",
       "      <td>...</td>\n",
       "      <td>...</td>\n",
       "      <td>...</td>\n",
       "      <td>...</td>\n",
       "      <td>...</td>\n",
       "      <td>...</td>\n",
       "    </tr>\n",
       "    <tr>\n",
       "      <th>139</th>\n",
       "      <td>Patient9</td>\n",
       "      <td>911</td>\n",
       "      <td>652</td>\n",
       "      <td>562</td>\n",
       "      <td>80</td>\n",
       "      <td>0.124611</td>\n",
       "      <td>1996</td>\n",
       "      <td>0.111034</td>\n",
       "      <td>0</td>\n",
       "      <td>skin</td>\n",
       "      <td>...</td>\n",
       "      <td>0.0</td>\n",
       "      <td>0</td>\n",
       "      <td>0</td>\n",
       "      <td>skin</td>\n",
       "      <td>3</td>\n",
       "      <td>-39</td>\n",
       "      <td>na</td>\n",
       "      <td>0.88</td>\n",
       "      <td>2.02</td>\n",
       "      <td>DRB1*04:01,DRB1*11:03,DQA1*03:03,DQA1*05:05,DQ...</td>\n",
       "    </tr>\n",
       "    <tr>\n",
       "      <th>140</th>\n",
       "      <td>Patient94</td>\n",
       "      <td>414</td>\n",
       "      <td>268</td>\n",
       "      <td>227</td>\n",
       "      <td>21</td>\n",
       "      <td>0.084677</td>\n",
       "      <td>929</td>\n",
       "      <td>0.902095</td>\n",
       "      <td>0</td>\n",
       "      <td>skin</td>\n",
       "      <td>...</td>\n",
       "      <td>0.0</td>\n",
       "      <td>0</td>\n",
       "      <td>2</td>\n",
       "      <td>skin</td>\n",
       "      <td>3</td>\n",
       "      <td>-31</td>\n",
       "      <td>140</td>\n",
       "      <td>0.85</td>\n",
       "      <td>1.13</td>\n",
       "      <td>DRB1*11:03,DRB1*15:01,DQA1*01:02,DQA1*05:05,DQ...</td>\n",
       "    </tr>\n",
       "    <tr>\n",
       "      <th>141</th>\n",
       "      <td>Patient96</td>\n",
       "      <td>959</td>\n",
       "      <td>649</td>\n",
       "      <td>588</td>\n",
       "      <td>50</td>\n",
       "      <td>0.078370</td>\n",
       "      <td>2136</td>\n",
       "      <td>0.196499</td>\n",
       "      <td>1</td>\n",
       "      <td>pancreas</td>\n",
       "      <td>...</td>\n",
       "      <td>0.0</td>\n",
       "      <td>0</td>\n",
       "      <td>0</td>\n",
       "      <td>liver/visceral</td>\n",
       "      <td>3</td>\n",
       "      <td>-81</td>\n",
       "      <td>na</td>\n",
       "      <td>0.82</td>\n",
       "      <td>2.22</td>\n",
       "      <td>DRB1*13:01,DRB1*15:01,DQA1*01:02,DQA1*01:03,DQ...</td>\n",
       "    </tr>\n",
       "    <tr>\n",
       "      <th>142</th>\n",
       "      <td>Patient98</td>\n",
       "      <td>472</td>\n",
       "      <td>302</td>\n",
       "      <td>219</td>\n",
       "      <td>74</td>\n",
       "      <td>0.252560</td>\n",
       "      <td>790</td>\n",
       "      <td>0.223074</td>\n",
       "      <td>0</td>\n",
       "      <td>lung</td>\n",
       "      <td>...</td>\n",
       "      <td>0.0</td>\n",
       "      <td>1</td>\n",
       "      <td>0</td>\n",
       "      <td>lung</td>\n",
       "      <td>3</td>\n",
       "      <td>-24</td>\n",
       "      <td>na</td>\n",
       "      <td>0.60</td>\n",
       "      <td>1.99</td>\n",
       "      <td>DRB1*15:01,DRB1*15:01,DQA1*01:02,DQA1*01:02,DQ...</td>\n",
       "    </tr>\n",
       "    <tr>\n",
       "      <th>143</th>\n",
       "      <td>Patient99</td>\n",
       "      <td>1392</td>\n",
       "      <td>909</td>\n",
       "      <td>690</td>\n",
       "      <td>190</td>\n",
       "      <td>0.215909</td>\n",
       "      <td>2796</td>\n",
       "      <td>0.187194</td>\n",
       "      <td>1</td>\n",
       "      <td>soft tissue</td>\n",
       "      <td>...</td>\n",
       "      <td>0.0</td>\n",
       "      <td>1</td>\n",
       "      <td>0</td>\n",
       "      <td>soft tissue</td>\n",
       "      <td>3</td>\n",
       "      <td>-155</td>\n",
       "      <td>na</td>\n",
       "      <td>0.34</td>\n",
       "      <td>2.83</td>\n",
       "      <td>DRB1*01:01,DRB1*04:01,DQA1*01:01,DQA1*03:01,DQ...</td>\n",
       "    </tr>\n",
       "  </tbody>\n",
       "</table>\n",
       "<p>144 rows × 47 columns</p>\n",
       "</div>"
      ],
      "text/plain": [
       "     Unnamed: 0  total_muts  nonsyn_muts  clonal_muts  subclonal_muts  \\\n",
       "0      Patient1          34           22           12              10   \n",
       "1     Patient10          96           71           48              22   \n",
       "2    Patient100         200          126           98              24   \n",
       "3    Patient102         370          246          215              26   \n",
       "4    Patient104         130           96           65              28   \n",
       "..          ...         ...          ...          ...             ...   \n",
       "139    Patient9         911          652          562              80   \n",
       "140   Patient94         414          268          227              21   \n",
       "141   Patient96         959          649          588              50   \n",
       "142   Patient98         472          302          219              74   \n",
       "143   Patient99        1392          909          690             190   \n",
       "\n",
       "     heterogeneity  total_neoantigens  CNA_prop  gender (Male=1, Female=0)  \\\n",
       "0         0.454545                 49  0.321417                          0   \n",
       "1         0.314286                230  0.391384                          0   \n",
       "2         0.196721                301  0.029447                          0   \n",
       "3         0.107884                825  0.169389                          1   \n",
       "4         0.301075                329  0.206518                          0   \n",
       "..             ...                ...       ...                        ...   \n",
       "139       0.124611               1996  0.111034                          0   \n",
       "140       0.084677                929  0.902095                          0   \n",
       "141       0.078370               2136  0.196499                          1   \n",
       "142       0.252560                790  0.223074                          0   \n",
       "143       0.215909               2796  0.187194                          1   \n",
       "\n",
       "     biopsy site  ...  postMAPKTx postCombinedCTLA_PD1  numPriorTherapies  \\\n",
       "0           skin  ...         0.0                    0                  1   \n",
       "1           skin  ...         1.0                    0                  2   \n",
       "2           skin  ...         0.0                    0                  1   \n",
       "3          brain  ...         0.0                    0                  0   \n",
       "4     lymph node  ...         0.0                    0                  0   \n",
       "..           ...  ...         ...                  ...                ...   \n",
       "139         skin  ...         0.0                    0                  0   \n",
       "140         skin  ...         0.0                    0                  2   \n",
       "141     pancreas  ...         0.0                    0                  0   \n",
       "142         lung  ...         0.0                    1                  0   \n",
       "143  soft tissue  ...         0.0                    1                  0   \n",
       "\n",
       "     biopsy site_categ  \\\n",
       "0                 skin   \n",
       "1                 skin   \n",
       "2                 skin   \n",
       "3                brain   \n",
       "4           lymph node   \n",
       "..                 ...   \n",
       "139               skin   \n",
       "140               skin   \n",
       "141     liver/visceral   \n",
       "142               lung   \n",
       "143        soft tissue   \n",
       "\n",
       "     biopsyContext (1=Pre-Ipi; 2=On-Ipi; 3=Pre-PD1; 4=On-PD1) daysBiopsyToPD1  \\\n",
       "0                                                    3                    -84   \n",
       "1                                                    3                    -12   \n",
       "2                                                    3                    -94   \n",
       "3                                                    3                    -64   \n",
       "4                                                    3                    -57   \n",
       "..                                                 ...                    ...   \n",
       "139                                                  3                    -39   \n",
       "140                                                  3                    -31   \n",
       "141                                                  3                    -81   \n",
       "142                                                  3                    -24   \n",
       "143                                                  3                   -155   \n",
       "\n",
       "     daysBiopsyAfterIpiStart purity  ploidy  \\\n",
       "0                        unk   0.92    1.73   \n",
       "1                        107   0.83    1.84   \n",
       "2                         33   0.11    2.17   \n",
       "3                         na   0.70    3.24   \n",
       "4                         na   0.86    4.58   \n",
       "..                       ...    ...     ...   \n",
       "139                       na   0.88    2.02   \n",
       "140                      140   0.85    1.13   \n",
       "141                       na   0.82    2.22   \n",
       "142                       na   0.60    1.99   \n",
       "143                       na   0.34    2.83   \n",
       "\n",
       "                                  hla_class_ii_alleles  \n",
       "0    DRB1*04:01,DRB1*04:03,DQA1*03:01,DQA1*03:03,DQ...  \n",
       "1    DRB1*04:01,DRB1*15:01,DQA1*01:02,DQA1*03:01,DQ...  \n",
       "2    DRB1*01:01,DRB1*15:01,DQA1*01:01,DQA1*01:02,DQ...  \n",
       "3    DRB1*01:01,DRB1*11:04,DQA1*01:01,DQA1*05:05,DQ...  \n",
       "4    DRB1*01:01,DRB1*07:01,DQA1*01:02,DQA1*02:01,DQ...  \n",
       "..                                                 ...  \n",
       "139  DRB1*04:01,DRB1*11:03,DQA1*03:03,DQA1*05:05,DQ...  \n",
       "140  DRB1*11:03,DRB1*15:01,DQA1*01:02,DQA1*05:05,DQ...  \n",
       "141  DRB1*13:01,DRB1*15:01,DQA1*01:02,DQA1*01:03,DQ...  \n",
       "142  DRB1*15:01,DRB1*15:01,DQA1*01:02,DQA1*01:02,DQ...  \n",
       "143  DRB1*01:01,DRB1*04:01,DQA1*01:01,DQA1*03:01,DQ...  \n",
       "\n",
       "[144 rows x 47 columns]"
      ]
     },
     "execution_count": 39,
     "metadata": {},
     "output_type": "execute_result"
    }
   ],
   "source": [
    "df_s1[\"hla_class_ii_alleles\"] = hla_column\n",
    "df_s1"
   ]
  },
  {
   "cell_type": "code",
   "execution_count": 40,
   "metadata": {},
   "outputs": [
    {
     "data": {
      "text/plain": [
       "Unnamed: 0                                                  0\n",
       "total_muts                                                  0\n",
       "nonsyn_muts                                                 0\n",
       "clonal_muts                                                 0\n",
       "subclonal_muts                                              0\n",
       "heterogeneity                                               0\n",
       "total_neoantigens                                           0\n",
       "CNA_prop                                                    0\n",
       "gender (Male=1, Female=0)                                   0\n",
       "biopsy site                                                 0\n",
       "monthsBiopsyPreTx                                           0\n",
       "BR                                                          0\n",
       "PFS                                                         0\n",
       "OS                                                          0\n",
       "TimeToBR                                                    0\n",
       "cyclesOnTherapy                                             0\n",
       "txOngoing                                                   0\n",
       "Tx                                                          0\n",
       "Mstage (IIIC=0, M1a=1, M1b=2, M1c=3)                        0\n",
       "Tx_Start_ECOG                                               4\n",
       "Tx_Start_LDH                                                0\n",
       "LDH_Elevated                                                0\n",
       "Brain_Met                                                   0\n",
       "Cut_SubQ_Met                                                0\n",
       "LN_Met                                                      0\n",
       "Lung_Met                                                    0\n",
       "Liver_Visc_Met                                              0\n",
       "Bone_Met                                                    0\n",
       "progressed                                                  0\n",
       "dead                                                        0\n",
       "Primary_Type                                                0\n",
       "Histology                                                   2\n",
       "IOTherapy                                                   0\n",
       "steroidsGT10mgDaily                                         0\n",
       "priorMAPKTx                                                 0\n",
       "priorCTLA4                                                  0\n",
       "postCTLA4                                                   1\n",
       "postMAPKTx                                                  1\n",
       "postCombinedCTLA_PD1                                        1\n",
       "numPriorTherapies                                           0\n",
       "biopsy site_categ                                           0\n",
       "biopsyContext (1=Pre-Ipi; 2=On-Ipi; 3=Pre-PD1; 4=On-PD1)    0\n",
       "daysBiopsyToPD1                                             0\n",
       "daysBiopsyAfterIpiStart                                     0\n",
       "purity                                                      0\n",
       "ploidy                                                      0\n",
       "hla_class_ii_alleles                                        0\n",
       "dtype: int64"
      ]
     },
     "execution_count": 40,
     "metadata": {},
     "output_type": "execute_result"
    }
   ],
   "source": [
    "df_s1.isna().sum()"
   ]
  },
  {
   "cell_type": "code",
   "execution_count": 41,
   "metadata": {},
   "outputs": [
    {
     "data": {
      "text/plain": [
       "'DRB1*04:01,DRB1*04:03,DQA1*03:01,DQA1*03:03,DQB1*03:01,DQB1*03:02,DPA1*01:03,DPA1*01:03,DPB1*02:01,DPB1*14:01'"
      ]
     },
     "execution_count": 41,
     "metadata": {},
     "output_type": "execute_result"
    }
   ],
   "source": [
    "df_s1.hla_class_ii_alleles.tolist()[0]"
   ]
  },
  {
   "cell_type": "code",
   "execution_count": 42,
   "metadata": {},
   "outputs": [],
   "source": [
    "homozygous_flags = []\n",
    "\n",
    "for hla_string in df_s1[\"hla_class_ii_alleles\"].tolist():\n",
    "    hlas = hla_string.split(\",\")\n",
    "    if ((hlas[0]!= hlas[1]) and ((hlas[2]!=hlas[3]) or (hlas[4]!=hlas[5])) \\\n",
    "         and ((hlas[6]!= hlas[7]) or (hlas[8]!=hlas[9]))):\n",
    "        homozygous_flags += [0]\n",
    "    else:\n",
    "        homozygous_flags += [1]"
   ]
  },
  {
   "cell_type": "code",
   "execution_count": 43,
   "metadata": {},
   "outputs": [
    {
     "data": {
      "text/plain": [
       "Counter({0: 96, 1: 48})"
      ]
     },
     "execution_count": 43,
     "metadata": {},
     "output_type": "execute_result"
    }
   ],
   "source": [
    "Counter(homozygous_flags)"
   ]
  },
  {
   "cell_type": "code",
   "execution_count": 44,
   "metadata": {},
   "outputs": [
    {
     "data": {
      "text/plain": [
       "0.3333333333333333"
      ]
     },
     "execution_count": 44,
     "metadata": {},
     "output_type": "execute_result"
    }
   ],
   "source": [
    "48/144"
   ]
  },
  {
   "cell_type": "code",
   "execution_count": 45,
   "metadata": {},
   "outputs": [],
   "source": [
    "df_s1[\"homozygous\"] = homozygous_flags"
   ]
  },
  {
   "cell_type": "code",
   "execution_count": null,
   "metadata": {},
   "outputs": [],
   "source": []
  },
  {
   "cell_type": "code",
   "execution_count": 46,
   "metadata": {},
   "outputs": [],
   "source": [
    "# only keep the subjects with hla ii alleles among those from emerson data\n",
    "# or the hlas that we can find a replacement for from those from emerson data\n",
    "\n",
    "df_pseudo = pd.read_csv(\"../data/for_encoders/HLA_II_pseudo_45.csv\", header = 0)"
   ]
  },
  {
   "cell_type": "code",
   "execution_count": 47,
   "metadata": {},
   "outputs": [
    {
     "data": {
      "text/plain": [
       "['HLA-DPAB*01:03_01:01',\n",
       " 'HLA-DPAB*01:03_02:01',\n",
       " 'HLA-DPAB*01:03_03:01',\n",
       " 'HLA-DPAB*01:03_04:01',\n",
       " 'HLA-DPAB*01:03_04:02',\n",
       " 'HLA-DPAB*01:03_05:01',\n",
       " 'HLA-DPAB*01:03_10:01',\n",
       " 'HLA-DPAB*01:03_11:01',\n",
       " 'HLA-DPAB*01:03_13:01',\n",
       " 'HLA-DPAB*01:03_17:01',\n",
       " 'HLA-DPAB*02:01_01:01',\n",
       " 'HLA-DPAB*02:01_02:01',\n",
       " 'HLA-DPAB*02:01_03:01',\n",
       " 'HLA-DPAB*02:01_04:01',\n",
       " 'HLA-DPAB*02:01_04:02',\n",
       " 'HLA-DPAB*02:01_05:01',\n",
       " 'HLA-DPAB*02:01_10:01',\n",
       " 'HLA-DPAB*02:01_11:01',\n",
       " 'HLA-DPAB*02:01_13:01',\n",
       " 'HLA-DPAB*02:01_17:01',\n",
       " 'HLA-DPAB*02:02_01:01',\n",
       " 'HLA-DPAB*02:02_02:01',\n",
       " 'HLA-DPAB*02:02_04:01',\n",
       " 'HLA-DPAB*02:02_04:02',\n",
       " 'HLA-DPAB*02:02_05:01',\n",
       " 'HLA-DQAB*01:01_02:02',\n",
       " 'HLA-DQAB*01:01_03:01',\n",
       " 'HLA-DQAB*01:01_03:02',\n",
       " 'HLA-DQAB*01:01_05:01',\n",
       " 'HLA-DQAB*01:01_05:03',\n",
       " 'HLA-DQAB*01:01_06:02',\n",
       " 'HLA-DQAB*01:01_06:03',\n",
       " 'HLA-DQAB*01:02_02:01',\n",
       " 'HLA-DQAB*01:02_02:02',\n",
       " 'HLA-DQAB*01:02_03:01',\n",
       " 'HLA-DQAB*01:02_03:02',\n",
       " 'HLA-DQAB*01:02_03:03',\n",
       " 'HLA-DQAB*01:02_04:02',\n",
       " 'HLA-DQAB*01:02_05:01',\n",
       " 'HLA-DQAB*01:02_05:02',\n",
       " 'HLA-DQAB*01:02_06:02',\n",
       " 'HLA-DQAB*01:02_06:03',\n",
       " 'HLA-DQAB*01:02_06:04',\n",
       " 'HLA-DQAB*01:02_06:09',\n",
       " 'HLA-DQAB*01:03_02:01',\n",
       " 'HLA-DQAB*01:03_02:02',\n",
       " 'HLA-DQAB*01:03_03:01',\n",
       " 'HLA-DQAB*01:03_06:01',\n",
       " 'HLA-DQAB*01:03_06:02',\n",
       " 'HLA-DQAB*01:03_06:03',\n",
       " 'HLA-DQAB*01:04_02:01',\n",
       " 'HLA-DQAB*01:04_05:03',\n",
       " 'HLA-DQAB*01:05_05:01',\n",
       " 'HLA-DQAB*02:01_02:01',\n",
       " 'HLA-DQAB*02:01_02:02',\n",
       " 'HLA-DQAB*02:01_03:01',\n",
       " 'HLA-DQAB*02:01_03:02',\n",
       " 'HLA-DQAB*02:01_03:03',\n",
       " 'HLA-DQAB*02:01_05:01',\n",
       " 'HLA-DQAB*02:01_06:02',\n",
       " 'HLA-DQAB*02:01_06:03',\n",
       " 'HLA-DQAB*02:01_06:09',\n",
       " 'HLA-DQAB*03:01_02:01',\n",
       " 'HLA-DQAB*03:01_02:02',\n",
       " 'HLA-DQAB*03:01_03:01',\n",
       " 'HLA-DQAB*03:01_03:02',\n",
       " 'HLA-DQAB*03:01_06:02',\n",
       " 'HLA-DQAB*03:01_06:03',\n",
       " 'HLA-DQAB*03:01_06:04',\n",
       " 'HLA-DQAB*03:02_03:03',\n",
       " 'HLA-DQAB*03:03_02:01',\n",
       " 'HLA-DQAB*03:03_02:02',\n",
       " 'HLA-DQAB*03:03_03:01',\n",
       " 'HLA-DQAB*03:03_03:02',\n",
       " 'HLA-DQAB*03:03_05:01',\n",
       " 'HLA-DQAB*03:03_06:02',\n",
       " 'HLA-DQAB*04:01_03:01',\n",
       " 'HLA-DQAB*04:01_04:02',\n",
       " 'HLA-DQAB*04:01_05:01',\n",
       " 'HLA-DQAB*05:01_02:01',\n",
       " 'HLA-DQAB*05:01_02:02',\n",
       " 'HLA-DQAB*05:01_03:01',\n",
       " 'HLA-DQAB*05:01_03:03',\n",
       " 'HLA-DQAB*05:01_05:01',\n",
       " 'HLA-DQAB*05:01_06:02',\n",
       " 'HLA-DQAB*05:01_06:03',\n",
       " 'HLA-DQAB*05:01_06:04',\n",
       " 'HLA-DQAB*05:05_02:01',\n",
       " 'HLA-DQAB*05:05_02:02',\n",
       " 'HLA-DQAB*05:05_03:01',\n",
       " 'HLA-DQAB*05:05_03:02',\n",
       " 'HLA-DQAB*05:05_03:03',\n",
       " 'HLA-DQAB*05:05_05:01',\n",
       " 'HLA-DQAB*05:05_06:02',\n",
       " 'HLA-DQAB*05:05_06:03',\n",
       " 'HLA-DQAB*05:05_06:04',\n",
       " 'HLA-DQAB*06:01_03:01',\n",
       " 'HLA-DRB1*01:01',\n",
       " 'HLA-DRB1*01:02',\n",
       " 'HLA-DRB1*01:03',\n",
       " 'HLA-DRB1*03:01',\n",
       " 'HLA-DRB1*04:01',\n",
       " 'HLA-DRB1*04:02',\n",
       " 'HLA-DRB1*04:03',\n",
       " 'HLA-DRB1*04:04',\n",
       " 'HLA-DRB1*04:05',\n",
       " 'HLA-DRB1*04:07',\n",
       " 'HLA-DRB1*04:08',\n",
       " 'HLA-DRB1*07:01',\n",
       " 'HLA-DRB1*08:01',\n",
       " 'HLA-DRB1*08:02',\n",
       " 'HLA-DRB1*08:03',\n",
       " 'HLA-DRB1*08:04',\n",
       " 'HLA-DRB1*09:01',\n",
       " 'HLA-DRB1*10:01',\n",
       " 'HLA-DRB1*11:01',\n",
       " 'HLA-DRB1*11:02',\n",
       " 'HLA-DRB1*11:03',\n",
       " 'HLA-DRB1*11:04',\n",
       " 'HLA-DRB1*12:01',\n",
       " 'HLA-DRB1*12:02',\n",
       " 'HLA-DRB1*13:01',\n",
       " 'HLA-DRB1*13:02',\n",
       " 'HLA-DRB1*13:03',\n",
       " 'HLA-DRB1*13:05',\n",
       " 'HLA-DRB1*14:01',\n",
       " 'HLA-DRB1*14:02',\n",
       " 'HLA-DRB1*14:04',\n",
       " 'HLA-DRB1*14:07',\n",
       " 'HLA-DRB1*14:54',\n",
       " 'HLA-DRB1*15:01',\n",
       " 'HLA-DRB1*15:02',\n",
       " 'HLA-DRB1*15:03',\n",
       " 'HLA-DRB1*16:01',\n",
       " 'HLA-DRB1*16:02']"
      ]
     },
     "execution_count": 47,
     "metadata": {},
     "output_type": "execute_result"
    }
   ],
   "source": [
    "df_pseudo.hla.tolist()"
   ]
  },
  {
   "cell_type": "code",
   "execution_count": 48,
   "metadata": {},
   "outputs": [
    {
     "data": {
      "text/plain": [
       "'P'"
      ]
     },
     "execution_count": 48,
     "metadata": {},
     "output_type": "execute_result"
    }
   ],
   "source": [
    "'HLA-DPAB*01:03_01:01'[5]"
   ]
  },
  {
   "cell_type": "code",
   "execution_count": 47,
   "metadata": {},
   "outputs": [],
   "source": [
    "DRB_set = set()\n",
    "DQA_set = set()\n",
    "DQB_set = set()\n",
    "DPA_set = set()\n",
    "DPB_set = set()\n",
    "\n",
    "for cur_hla in df_pseudo.hla.tolist():\n",
    "    if cur_hla[5] == 'R':\n",
    "        DRB_set.add(cur_hla[4:])\n",
    "    elif cur_hla[5] == 'Q':\n",
    "        digit_list = cur_hla.split(\"*\")[1].split(\"_\")\n",
    "        DQA_set.add(\"DQA1*\"+digit_list[0])\n",
    "        DQB_set.add(\"DQB1*\"+digit_list[1])\n",
    "    elif cur_hla[5] == 'P':\n",
    "        digit_list = cur_hla.split(\"*\")[1].split(\"_\")\n",
    "        DPA_set.add(\"DPA1*\"+digit_list[0])\n",
    "        DPB_set.add(\"DPB1*\"+digit_list[1])\n",
    "    else:\n",
    "        print(\"unexpected character\")"
   ]
  },
  {
   "cell_type": "code",
   "execution_count": 48,
   "metadata": {},
   "outputs": [
    {
     "data": {
      "text/plain": [
       "['DRB1*04:01,DRB1*04:03,DQA1*03:01,DQA1*03:03,DQB1*03:01,DQB1*03:02,DPA1*01:03,DPA1*01:03,DPB1*02:01,DPB1*14:01',\n",
       " 'DRB1*04:01,DRB1*15:01,DQA1*01:02,DQA1*03:01,DQB1*03:02,DQB1*06:02,DPA1*01:03,DPA1*01:03,DPB1*04:01,DPB1*04:01']"
      ]
     },
     "execution_count": 48,
     "metadata": {},
     "output_type": "execute_result"
    }
   ],
   "source": [
    "df_s1[\"hla_class_ii_alleles\"].tolist()[:2]"
   ]
  },
  {
   "cell_type": "code",
   "execution_count": 49,
   "metadata": {},
   "outputs": [
    {
     "name": "stdout",
     "output_type": "stream",
     "text": [
      "288\n",
      "27\n",
      "288\n",
      "17\n",
      "288\n",
      "17\n",
      "288\n",
      "6\n",
      "288\n",
      "21\n"
     ]
    }
   ],
   "source": [
    "liu_2019_DRB_group_list = [x.split(\",\")[:2] for x in df_s1[\"hla_class_ii_alleles\"].tolist()]\n",
    "liu_2019_DQA_group_list = [x.split(\",\")[2:4] for x in df_s1[\"hla_class_ii_alleles\"].tolist()]\n",
    "liu_2019_DQB_group_list = [x.split(\",\")[4:6] for x in df_s1[\"hla_class_ii_alleles\"].tolist()]\n",
    "liu_2019_DPA_group_list = [x.split(\",\")[6:8] for x in df_s1[\"hla_class_ii_alleles\"].tolist()]\n",
    "liu_2019_DPB_group_list = [x.split(\",\")[8:] for x in df_s1[\"hla_class_ii_alleles\"].tolist()]\n",
    "\n",
    "liu_2019_DRB_list = [y for x in liu_2019_DRB_group_list for y in x]\n",
    "liu_2019_DQA_list = [y for x in liu_2019_DQA_group_list for y in x]\n",
    "liu_2019_DQB_list = [y for x in liu_2019_DQB_group_list for y in x]\n",
    "liu_2019_DPA_list = [y for x in liu_2019_DPA_group_list for y in x]\n",
    "liu_2019_DPB_list = [y for x in liu_2019_DPB_group_list for y in x]\n",
    "\n",
    "print(len(liu_2019_DRB_list))\n",
    "print(len(set(liu_2019_DRB_list)))\n",
    "\n",
    "print(len(liu_2019_DQA_list))\n",
    "print(len(set(liu_2019_DQA_list)))\n",
    "\n",
    "print(len(liu_2019_DQB_list))\n",
    "print(len(set(liu_2019_DQB_list)))\n",
    "\n",
    "print(len(liu_2019_DPA_list))\n",
    "print(len(set(liu_2019_DPA_list)))\n",
    "\n",
    "print(len(liu_2019_DPB_list))\n",
    "print(len(set(liu_2019_DPB_list)))"
   ]
  },
  {
   "cell_type": "code",
   "execution_count": 50,
   "metadata": {},
   "outputs": [
    {
     "name": "stdout",
     "output_type": "stream",
     "text": [
      "{'DRB1*08:77'}\n",
      "{'DQA1*04:02', 'DQA1*05:48', 'DQA1*01:10', 'DQA1*02:14', 'DQA1*05:09'}\n",
      "{'DQB1*06:280', 'DQB1*05:04', 'DQB1*03:457'}\n",
      "{'DPA1*02:07', 'DPA1*02:06', 'DPA1*01:130'}\n",
      "{'DPB1*1037:01', 'DPB1*02:02', 'DPB1*06:01', 'DPB1*14:01', 'DPB1*15:01', 'DPB1*51:01', 'DPB1*09:01', 'DPB1*104:01', 'DPB1*834:01', 'DPB1*784:01', 'DPB1*16:01', 'DPB1*19:01', 'DPB1*124:01'}\n"
     ]
    }
   ],
   "source": [
    "print(set(liu_2019_DRB_list) - DRB_set)\n",
    "print(set(liu_2019_DQA_list) - DQA_set)\n",
    "print(set(liu_2019_DQB_list) - DQB_set)\n",
    "print(set(liu_2019_DPA_list) - DPA_set)\n",
    "print(set(liu_2019_DPB_list) - DPB_set)"
   ]
  },
  {
   "cell_type": "code",
   "execution_count": 51,
   "metadata": {},
   "outputs": [
    {
     "data": {
      "text/plain": [
       "['DRB1*08:77']"
      ]
     },
     "execution_count": 51,
     "metadata": {},
     "output_type": "execute_result"
    }
   ],
   "source": [
    "temp_DRB_candidate_list = list(set(liu_2019_DRB_list) - DRB_set)\n",
    "temp_DRB_candidate_list.sort()\n",
    "temp_DRB_candidate_list"
   ]
  },
  {
   "cell_type": "code",
   "execution_count": 52,
   "metadata": {},
   "outputs": [
    {
     "data": {
      "text/plain": [
       "['DQA1*01:10', 'DQA1*02:14', 'DQA1*04:02', 'DQA1*05:09', 'DQA1*05:48']"
      ]
     },
     "execution_count": 52,
     "metadata": {},
     "output_type": "execute_result"
    }
   ],
   "source": [
    "temp_DQA_candidate_list = list(set(liu_2019_DQA_list) - DQA_set)\n",
    "temp_DQA_candidate_list.sort()\n",
    "temp_DQA_candidate_list"
   ]
  },
  {
   "cell_type": "code",
   "execution_count": 53,
   "metadata": {},
   "outputs": [
    {
     "data": {
      "text/plain": [
       "['DQB1*03:457', 'DQB1*05:04', 'DQB1*06:280']"
      ]
     },
     "execution_count": 53,
     "metadata": {},
     "output_type": "execute_result"
    }
   ],
   "source": [
    "temp_DQB_candidate_list = list(set(liu_2019_DQB_list) - DQB_set)\n",
    "temp_DQB_candidate_list.sort()\n",
    "temp_DQB_candidate_list"
   ]
  },
  {
   "cell_type": "code",
   "execution_count": 54,
   "metadata": {},
   "outputs": [
    {
     "data": {
      "text/plain": [
       "['DPA1*01:130', 'DPA1*02:06', 'DPA1*02:07']"
      ]
     },
     "execution_count": 54,
     "metadata": {},
     "output_type": "execute_result"
    }
   ],
   "source": [
    "temp_DPA_candidate_list = list(set(liu_2019_DPA_list) - DPA_set)\n",
    "temp_DPA_candidate_list.sort()\n",
    "temp_DPA_candidate_list"
   ]
  },
  {
   "cell_type": "code",
   "execution_count": 55,
   "metadata": {},
   "outputs": [
    {
     "data": {
      "text/plain": [
       "['DPB1*02:02',\n",
       " 'DPB1*06:01',\n",
       " 'DPB1*09:01',\n",
       " 'DPB1*1037:01',\n",
       " 'DPB1*104:01',\n",
       " 'DPB1*124:01',\n",
       " 'DPB1*14:01',\n",
       " 'DPB1*15:01',\n",
       " 'DPB1*16:01',\n",
       " 'DPB1*19:01',\n",
       " 'DPB1*51:01',\n",
       " 'DPB1*784:01',\n",
       " 'DPB1*834:01']"
      ]
     },
     "execution_count": 55,
     "metadata": {},
     "output_type": "execute_result"
    }
   ],
   "source": [
    "temp_DPB_candidate_list = list(set(liu_2019_DPB_list) - DPB_set)\n",
    "temp_DPB_candidate_list.sort()\n",
    "temp_DPB_candidate_list"
   ]
  },
  {
   "cell_type": "code",
   "execution_count": 56,
   "metadata": {},
   "outputs": [],
   "source": [
    "DRB_replace_dict = defaultdict(str)\n",
    "DQA_replace_dict = defaultdict(str)\n",
    "DQB_replace_dict = defaultdict(str)\n",
    "DPA_replace_dict = defaultdict(str)\n",
    "DPB_replace_dict = defaultdict(str)"
   ]
  },
  {
   "cell_type": "code",
   "execution_count": 57,
   "metadata": {},
   "outputs": [],
   "source": [
    "DRB_replace_dict['DRB1*08:77'] = 'DRB1*08:01'"
   ]
  },
  {
   "cell_type": "code",
   "execution_count": 58,
   "metadata": {},
   "outputs": [],
   "source": [
    "DQA_replace_dict['DQA1*01:10'] = 'DQA1*01:01'\n",
    "DQA_replace_dict['DQA1*02:14'] = 'DQA1*02:01'\n",
    "DQA_replace_dict['DQA1*04:02'] = 'DQA1*04:01'\n",
    "DQA_replace_dict['DQA1*05:09'] = 'DQA1*05:01'\n",
    "DQA_replace_dict['DQA1*05:48'] = 'DQA1*05:01'"
   ]
  },
  {
   "cell_type": "code",
   "execution_count": 59,
   "metadata": {},
   "outputs": [],
   "source": [
    "DQB_replace_dict['DQB1*03:457'] = 'DQB1*03:01'\n",
    "DQB_replace_dict['DQB1*05:04'] = 'DQB1*05:01'\n",
    "DQB_replace_dict['DQB1*06:280'] = 'DQB1*06:01'"
   ]
  },
  {
   "cell_type": "code",
   "execution_count": 60,
   "metadata": {},
   "outputs": [],
   "source": [
    "DPA_replace_dict['DPA1*01:130'] = 'DPA1*01:03'\n",
    "DPA_replace_dict['DPA1*02:06'] = 'DPA1*02:01'\n",
    "DPA_replace_dict['DPA1*02:07'] = 'DPA1*02:01'"
   ]
  },
  {
   "cell_type": "code",
   "execution_count": 61,
   "metadata": {},
   "outputs": [],
   "source": [
    "# no match is found for these 12 DPB1 alleles\n",
    "#  'DPB1*06:01',\n",
    "#  'DPB1*09:01',\n",
    "#  'DPB1*1037:01',\n",
    "#  'DPB1*104:01',\n",
    "#  'DPB1*124:01',\n",
    "#  'DPB1*14:01',\n",
    "#  'DPB1*15:01',\n",
    "#  'DPB1*16:01',\n",
    "#  'DPB1*19:01',\n",
    "#  'DPB1*51:01',\n",
    "#  'DPB1*784:01',\n",
    "# 'DPB1*834:01'\n",
    "\n",
    "DPB_replace_dict['DPB1*02:02'] = 'DPB1*02:01'"
   ]
  },
  {
   "cell_type": "code",
   "execution_count": null,
   "metadata": {},
   "outputs": [],
   "source": []
  },
  {
   "cell_type": "code",
   "execution_count": 62,
   "metadata": {},
   "outputs": [],
   "source": [
    "# use a function to find matching hla allele from emerson data\n",
    "# and build the dictionary again, to verify whether the previously built \n",
    "# dictionary is correct\n",
    "\n",
    "# map each two digit HLA allele to its first match among the alleles\n",
    "\n",
    "\n",
    "def create_dict(emerson_set, hlas2match):\n",
    "\n",
    "    emerson_list = list(emerson_set)\n",
    "    two_digit_dict = defaultdict(str)\n",
    "    \n",
    "    all_two_digits = list(set([x.split(\":\")[0] for x in emerson_list]))\n",
    "    \n",
    "    for cur_two in all_two_digits:\n",
    "        \n",
    "        cur_list = [x for x in emerson_list if x.split(\":\")[0]==cur_two]\n",
    "        cur_list.sort()\n",
    "        two_digit_dict[cur_two] = cur_list[0]\n",
    "        \n",
    "    result_dict = defaultdict(str)\n",
    "    \n",
    "    for temp_hla in hlas2match:\n",
    "        if temp_hla.split(\":\")[0] in two_digit_dict:\n",
    "            result_dict[temp_hla] = two_digit_dict[temp_hla.split(\":\")[0]]\n",
    "    \n",
    "    return result_dict\n",
    "\n",
    "\n",
    "DRB_verify_dict = create_dict(DRB_set, temp_DRB_candidate_list)\n",
    "DQA_verify_dict = create_dict(DQA_set, temp_DQA_candidate_list)\n",
    "DQB_verify_dict = create_dict(DQB_set, temp_DQB_candidate_list)\n",
    "DPA_verify_dict = create_dict(DPA_set, temp_DPA_candidate_list)\n",
    "DPB_verify_dict = create_dict(DPB_set, temp_DPB_candidate_list)"
   ]
  },
  {
   "cell_type": "code",
   "execution_count": 63,
   "metadata": {},
   "outputs": [
    {
     "name": "stdout",
     "output_type": "stream",
     "text": [
      "1\n",
      "5\n",
      "3\n",
      "3\n",
      "1\n"
     ]
    }
   ],
   "source": [
    "print(len(DRB_replace_dict))\n",
    "print(len(DQA_replace_dict))\n",
    "print(len(DQB_replace_dict))\n",
    "print(len(DPA_replace_dict))\n",
    "print(len(DPB_replace_dict))"
   ]
  },
  {
   "cell_type": "code",
   "execution_count": 64,
   "metadata": {},
   "outputs": [
    {
     "name": "stdout",
     "output_type": "stream",
     "text": [
      "1\n",
      "5\n",
      "3\n",
      "3\n",
      "1\n"
     ]
    }
   ],
   "source": [
    "print(len(DRB_verify_dict))\n",
    "print(len(DQA_verify_dict))\n",
    "print(len(DQB_verify_dict))\n",
    "print(len(DPA_verify_dict))\n",
    "print(len(DPB_verify_dict))"
   ]
  },
  {
   "cell_type": "code",
   "execution_count": 65,
   "metadata": {},
   "outputs": [
    {
     "name": "stdout",
     "output_type": "stream",
     "text": [
      "True\n",
      "True\n",
      "True\n",
      "True\n",
      "True\n"
     ]
    }
   ],
   "source": [
    "# now we have verified that the translation dictionaries are correct\n",
    "\n",
    "print(DRB_replace_dict == DRB_verify_dict)\n",
    "print(DQA_replace_dict == DQA_verify_dict)\n",
    "print(DQB_replace_dict == DQB_verify_dict)\n",
    "print(DPA_replace_dict == DPA_verify_dict)\n",
    "print(DPB_replace_dict == DPB_verify_dict)"
   ]
  },
  {
   "cell_type": "code",
   "execution_count": null,
   "metadata": {},
   "outputs": [],
   "source": [
    "# get the list of hla alleles that either have pseudo sequences or can find a match\n",
    "\n",
    "DRB_more = list(DRB_set) + list(DRB_replace_dict.keys())\n",
    "DQA_more = list(DQA_set) + list(DQA_replace_dict.keys())\n",
    "DQB_more = list(DQB_set) + list(DQB_replace_dict.keys())\n",
    "DPA_more = list(DPA_set) + list(DPA_replace_dict.keys())\n",
    "DPB_more = list(DPB_set) + list(DPB_replace_dict.keys())\n",
    "\n",
    "hla_alleles_allowed = DRB_more+DQA_more+DQB_more+DPA_more+DPB_more\n",
    "hla_alleles_allowed.sort()\n",
    "print(len(hla_alleles_allowed))\n",
    "print(len(set(hla_alleles_allowed)))"
   ]
  },
  {
   "cell_type": "code",
   "execution_count": 69,
   "metadata": {},
   "outputs": [
    {
     "name": "stdout",
     "output_type": "stream",
     "text": [
      "Patient1: DPB1*02:01 DPB1*14:01\n",
      "Patient104: DPB1*02:01 DPB1*09:01\n",
      "Patient105: DPB1*02:01 DPB1*16:01\n",
      "Patient108: DPB1*02:01 DPB1*06:01\n",
      "Patient118: DPB1*04:01 DPB1*14:01\n",
      "Patient143: DPB1*03:01 DPB1*1037:01\n",
      "Patient150: DPB1*02:01 DPB1*834:01\n",
      "Patient155: DPB1*06:01 DPB1*104:01\n",
      "Patient156: DPB1*04:01 DPB1*19:01\n",
      "Patient162: DPB1*04:01 DPB1*09:01\n",
      "Patient187: DPB1*04:02 DPB1*104:01\n",
      "Patient192: DPB1*04:02 DPB1*06:01\n",
      "Patient196: DPB1*02:01 DPB1*09:01\n",
      "Patient30: DPB1*04:01 DPB1*104:01\n",
      "Patient35: DPB1*06:01 DPB1*104:01\n",
      "Patient45: DPB1*04:01 DPB1*784:01\n",
      "Patient46: DPB1*04:01 DPB1*104:01\n",
      "Patient49: DPB1*04:02 DPB1*16:01\n",
      "Patient58: DPB1*04:01 DPB1*51:01\n",
      "Patient67: DPB1*04:01 DPB1*15:01\n",
      "Patient7: DPB1*104:01 DPB1*104:01\n",
      "Patient75: DPB1*04:01 DPB1*06:01\n",
      "Patient80: DPB1*14:01 DPB1*14:01\n",
      "Patient84: DPB1*02:01 DPB1*124:01\n"
     ]
    }
   ],
   "source": [
    "# we find match for certain alleles from liu 2019, but not for 12 of the DPB1 alleles\n",
    "\n",
    "# count how many subjects from liu 2019 have hla alleles all under our consideration\n",
    "# or belong to one of those that we can find match for\n",
    "\n",
    "# for those excluded, print outthe DPB information\n",
    "\n",
    "hla_alleles_allowed_set = set(hla_alleles_allowed)\n",
    "\n",
    "subjects_to_consider = []\n",
    "\n",
    "for name, hlas in zip(df_s1['Unnamed: 0'].tolist(), df_s1[\"hla_class_ii_alleles\"].tolist()):\n",
    "    cur_hla_set = set(hlas.split(\",\"))\n",
    "    if (len(cur_hla_set.intersection(hla_alleles_allowed_set)) == len(cur_hla_set)):\n",
    "        subjects_to_consider += [name]\n",
    "    else:\n",
    "        print(name+\": \"+\" \".join(hlas.split(\",\")[8:]))"
   ]
  },
  {
   "cell_type": "code",
   "execution_count": 70,
   "metadata": {},
   "outputs": [
    {
     "data": {
      "text/plain": [
       "120"
      ]
     },
     "execution_count": 70,
     "metadata": {},
     "output_type": "execute_result"
    }
   ],
   "source": [
    "len(subjects_to_consider)"
   ]
  },
  {
   "cell_type": "code",
   "execution_count": null,
   "metadata": {},
   "outputs": [],
   "source": []
  },
  {
   "cell_type": "code",
   "execution_count": null,
   "metadata": {},
   "outputs": [],
   "source": []
  },
  {
   "cell_type": "code",
   "execution_count": 71,
   "metadata": {},
   "outputs": [
    {
     "data": {
      "text/plain": [
       "{'Patient1',\n",
       " 'Patient104',\n",
       " 'Patient105',\n",
       " 'Patient108',\n",
       " 'Patient118',\n",
       " 'Patient143',\n",
       " 'Patient150',\n",
       " 'Patient155',\n",
       " 'Patient156',\n",
       " 'Patient162',\n",
       " 'Patient187',\n",
       " 'Patient192',\n",
       " 'Patient196',\n",
       " 'Patient30',\n",
       " 'Patient35',\n",
       " 'Patient45',\n",
       " 'Patient46',\n",
       " 'Patient49',\n",
       " 'Patient58',\n",
       " 'Patient67',\n",
       " 'Patient7',\n",
       " 'Patient75',\n",
       " 'Patient80',\n",
       " 'Patient84'}"
      ]
     },
     "execution_count": 71,
     "metadata": {},
     "output_type": "execute_result"
    }
   ],
   "source": [
    "set(df_s1['Unnamed: 0'].tolist()) - set(subjects_to_consider)"
   ]
  },
  {
   "cell_type": "code",
   "execution_count": 72,
   "metadata": {},
   "outputs": [
    {
     "data": {
      "text/plain": [
       "'DRB1*04:01,DRB1*04:03,DQA1*03:01,DQA1*03:03,DQB1*03:01,DQB1*03:02,DPA1*01:03,DPA1*01:03,DPB1*02:01,DPB1*14:01'"
      ]
     },
     "execution_count": 72,
     "metadata": {},
     "output_type": "execute_result"
    }
   ],
   "source": [
    "final_hla_dict['Patient1']"
   ]
  },
  {
   "cell_type": "code",
   "execution_count": 73,
   "metadata": {},
   "outputs": [
    {
     "data": {
      "text/plain": [
       "(120, 48)"
      ]
     },
     "execution_count": 73,
     "metadata": {},
     "output_type": "execute_result"
    }
   ],
   "source": [
    "# subset patients to only keep those with HLAs from those from Emerson data\n",
    "# or can find a match with pseudo information for\n",
    "df_liu_2019_kept = df_s1.loc[df_s1['Unnamed: 0'].isin(subjects_to_consider)]\n",
    "df_liu_2019_kept.shape"
   ]
  },
  {
   "cell_type": "code",
   "execution_count": 74,
   "metadata": {},
   "outputs": [
    {
     "data": {
      "text/plain": [
       "Counter({True: 120})"
      ]
     },
     "execution_count": 74,
     "metadata": {},
     "output_type": "execute_result"
    }
   ],
   "source": [
    "Counter([a==b for a, b in zip(df_liu_2019_kept['Unnamed: 0'].tolist(), \n",
    "                              subjects_to_consider)])"
   ]
  },
  {
   "cell_type": "code",
   "execution_count": 75,
   "metadata": {},
   "outputs": [
    {
     "data": {
      "text/html": [
       "<div>\n",
       "<style scoped>\n",
       "    .dataframe tbody tr th:only-of-type {\n",
       "        vertical-align: middle;\n",
       "    }\n",
       "\n",
       "    .dataframe tbody tr th {\n",
       "        vertical-align: top;\n",
       "    }\n",
       "\n",
       "    .dataframe thead th {\n",
       "        text-align: right;\n",
       "    }\n",
       "</style>\n",
       "<table border=\"1\" class=\"dataframe\">\n",
       "  <thead>\n",
       "    <tr style=\"text-align: right;\">\n",
       "      <th></th>\n",
       "      <th>Unnamed: 0</th>\n",
       "      <th>total_muts</th>\n",
       "      <th>nonsyn_muts</th>\n",
       "      <th>clonal_muts</th>\n",
       "      <th>subclonal_muts</th>\n",
       "      <th>heterogeneity</th>\n",
       "      <th>total_neoantigens</th>\n",
       "      <th>CNA_prop</th>\n",
       "      <th>gender (Male=1, Female=0)</th>\n",
       "      <th>biopsy site</th>\n",
       "      <th>...</th>\n",
       "      <th>postCombinedCTLA_PD1</th>\n",
       "      <th>numPriorTherapies</th>\n",
       "      <th>biopsy site_categ</th>\n",
       "      <th>biopsyContext (1=Pre-Ipi; 2=On-Ipi; 3=Pre-PD1; 4=On-PD1)</th>\n",
       "      <th>daysBiopsyToPD1</th>\n",
       "      <th>daysBiopsyAfterIpiStart</th>\n",
       "      <th>purity</th>\n",
       "      <th>ploidy</th>\n",
       "      <th>hla_class_ii_alleles</th>\n",
       "      <th>homozygous</th>\n",
       "    </tr>\n",
       "  </thead>\n",
       "  <tbody>\n",
       "    <tr>\n",
       "      <th>1</th>\n",
       "      <td>Patient10</td>\n",
       "      <td>96</td>\n",
       "      <td>71</td>\n",
       "      <td>48</td>\n",
       "      <td>22</td>\n",
       "      <td>0.314286</td>\n",
       "      <td>230</td>\n",
       "      <td>0.391384</td>\n",
       "      <td>0</td>\n",
       "      <td>skin</td>\n",
       "      <td>...</td>\n",
       "      <td>0</td>\n",
       "      <td>2</td>\n",
       "      <td>skin</td>\n",
       "      <td>3</td>\n",
       "      <td>-12</td>\n",
       "      <td>107</td>\n",
       "      <td>0.83</td>\n",
       "      <td>1.84</td>\n",
       "      <td>DRB1*04:01,DRB1*15:01,DQA1*01:02,DQA1*03:01,DQ...</td>\n",
       "      <td>1</td>\n",
       "    </tr>\n",
       "    <tr>\n",
       "      <th>2</th>\n",
       "      <td>Patient100</td>\n",
       "      <td>200</td>\n",
       "      <td>126</td>\n",
       "      <td>98</td>\n",
       "      <td>24</td>\n",
       "      <td>0.196721</td>\n",
       "      <td>301</td>\n",
       "      <td>0.029447</td>\n",
       "      <td>0</td>\n",
       "      <td>skin</td>\n",
       "      <td>...</td>\n",
       "      <td>0</td>\n",
       "      <td>1</td>\n",
       "      <td>skin</td>\n",
       "      <td>3</td>\n",
       "      <td>-94</td>\n",
       "      <td>33</td>\n",
       "      <td>0.11</td>\n",
       "      <td>2.17</td>\n",
       "      <td>DRB1*01:01,DRB1*15:01,DQA1*01:01,DQA1*01:02,DQ...</td>\n",
       "      <td>1</td>\n",
       "    </tr>\n",
       "  </tbody>\n",
       "</table>\n",
       "<p>2 rows × 48 columns</p>\n",
       "</div>"
      ],
      "text/plain": [
       "   Unnamed: 0  total_muts  nonsyn_muts  clonal_muts  subclonal_muts  \\\n",
       "1   Patient10          96           71           48              22   \n",
       "2  Patient100         200          126           98              24   \n",
       "\n",
       "   heterogeneity  total_neoantigens  CNA_prop  gender (Male=1, Female=0)  \\\n",
       "1       0.314286                230  0.391384                          0   \n",
       "2       0.196721                301  0.029447                          0   \n",
       "\n",
       "  biopsy site  ...  postCombinedCTLA_PD1 numPriorTherapies  biopsy site_categ  \\\n",
       "1        skin  ...                     0                 2               skin   \n",
       "2        skin  ...                     0                 1               skin   \n",
       "\n",
       "   biopsyContext (1=Pre-Ipi; 2=On-Ipi; 3=Pre-PD1; 4=On-PD1)  daysBiopsyToPD1  \\\n",
       "1                                                  3                     -12   \n",
       "2                                                  3                     -94   \n",
       "\n",
       "  daysBiopsyAfterIpiStart  purity ploidy  \\\n",
       "1                     107    0.83   1.84   \n",
       "2                      33    0.11   2.17   \n",
       "\n",
       "                                hla_class_ii_alleles homozygous  \n",
       "1  DRB1*04:01,DRB1*15:01,DQA1*01:02,DQA1*03:01,DQ...          1  \n",
       "2  DRB1*01:01,DRB1*15:01,DQA1*01:01,DQA1*01:02,DQ...          1  \n",
       "\n",
       "[2 rows x 48 columns]"
      ]
     },
     "execution_count": 75,
     "metadata": {},
     "output_type": "execute_result"
    }
   ],
   "source": [
    "df_liu_2019_kept[:2]"
   ]
  },
  {
   "cell_type": "code",
   "execution_count": 76,
   "metadata": {},
   "outputs": [
    {
     "data": {
      "text/plain": [
       "Unnamed: 0                                                  0\n",
       "total_muts                                                  0\n",
       "nonsyn_muts                                                 0\n",
       "clonal_muts                                                 0\n",
       "subclonal_muts                                              0\n",
       "heterogeneity                                               0\n",
       "total_neoantigens                                           0\n",
       "CNA_prop                                                    0\n",
       "gender (Male=1, Female=0)                                   0\n",
       "biopsy site                                                 0\n",
       "monthsBiopsyPreTx                                           0\n",
       "BR                                                          0\n",
       "PFS                                                         0\n",
       "OS                                                          0\n",
       "TimeToBR                                                    0\n",
       "cyclesOnTherapy                                             0\n",
       "txOngoing                                                   0\n",
       "Tx                                                          0\n",
       "Mstage (IIIC=0, M1a=1, M1b=2, M1c=3)                        0\n",
       "Tx_Start_ECOG                                               3\n",
       "Tx_Start_LDH                                                0\n",
       "LDH_Elevated                                                0\n",
       "Brain_Met                                                   0\n",
       "Cut_SubQ_Met                                                0\n",
       "LN_Met                                                      0\n",
       "Lung_Met                                                    0\n",
       "Liver_Visc_Met                                              0\n",
       "Bone_Met                                                    0\n",
       "progressed                                                  0\n",
       "dead                                                        0\n",
       "Primary_Type                                                0\n",
       "Histology                                                   2\n",
       "IOTherapy                                                   0\n",
       "steroidsGT10mgDaily                                         0\n",
       "priorMAPKTx                                                 0\n",
       "priorCTLA4                                                  0\n",
       "postCTLA4                                                   1\n",
       "postMAPKTx                                                  1\n",
       "postCombinedCTLA_PD1                                        1\n",
       "numPriorTherapies                                           0\n",
       "biopsy site_categ                                           0\n",
       "biopsyContext (1=Pre-Ipi; 2=On-Ipi; 3=Pre-PD1; 4=On-PD1)    0\n",
       "daysBiopsyToPD1                                             0\n",
       "daysBiopsyAfterIpiStart                                     0\n",
       "purity                                                      0\n",
       "ploidy                                                      0\n",
       "hla_class_ii_alleles                                        0\n",
       "homozygous                                                  0\n",
       "dtype: int64"
      ]
     },
     "execution_count": 76,
     "metadata": {},
     "output_type": "execute_result"
    }
   ],
   "source": [
    "df_liu_2019_kept.isna().sum()"
   ]
  },
  {
   "cell_type": "code",
   "execution_count": 77,
   "metadata": {},
   "outputs": [],
   "source": [
    "# translate hla alleles to those we have pseudo sequence for\n",
    "\n",
    "kept_trans_alleles = []\n",
    "\n",
    "def inner_translate(trans_dict, emerson_set, x):\n",
    "    if x in emerson_set:\n",
    "        return x\n",
    "    elif x in trans_dict:\n",
    "        return trans_dict[x]\n",
    "    else:\n",
    "        raise Exception(x+\" is not in trans_dict\")\n",
    "\n",
    "for x in df_liu_2019_kept[\"hla_class_ii_alleles\"].tolist():\n",
    "    \n",
    "    cur_alleles = x.split(\",\")\n",
    "    \n",
    "    DRB_trans = [inner_translate(DRB_replace_dict, DRB_set, cur_alleles[0]), \n",
    "                 inner_translate(DRB_replace_dict, DRB_set, cur_alleles[1])]\n",
    "    DQA_trans = [inner_translate(DQA_replace_dict, DQA_set, cur_alleles[2]), \n",
    "                 inner_translate(DQA_replace_dict, DQA_set, cur_alleles[3])]\n",
    "    DQB_trans = [inner_translate(DQB_replace_dict, DQB_set, cur_alleles[4]), \n",
    "                 inner_translate(DQB_replace_dict, DQB_set, cur_alleles[5])]  \n",
    "    DPA_trans = [inner_translate(DPA_replace_dict, DPA_set, cur_alleles[6]), \n",
    "                 inner_translate(DPA_replace_dict, DPA_set, cur_alleles[7])]\n",
    "    DPB_trans = [inner_translate(DPB_replace_dict, DPB_set, cur_alleles[8]), \n",
    "                 inner_translate(DPB_replace_dict, DPB_set, cur_alleles[9])] \n",
    "    \n",
    "    cur_trans_alleles = DRB_trans + DQA_trans + DQB_trans + DPA_trans + DPB_trans\n",
    "    kept_trans_alleles += [cur_trans_alleles]"
   ]
  },
  {
   "cell_type": "code",
   "execution_count": 78,
   "metadata": {},
   "outputs": [
    {
     "data": {
      "text/plain": [
       "63"
      ]
     },
     "execution_count": 78,
     "metadata": {},
     "output_type": "execute_result"
    }
   ],
   "source": [
    "len(set([y for x in kept_trans_alleles for y in x]))"
   ]
  },
  {
   "cell_type": "code",
   "execution_count": 79,
   "metadata": {},
   "outputs": [
    {
     "data": {
      "text/plain": [
       "78"
      ]
     },
     "execution_count": 79,
     "metadata": {},
     "output_type": "execute_result"
    }
   ],
   "source": [
    "len(set().union(*[DRB_set, DQA_set, DQB_set, DPA_set, DPB_set]))"
   ]
  },
  {
   "cell_type": "code",
   "execution_count": 80,
   "metadata": {},
   "outputs": [
    {
     "data": {
      "text/plain": [
       "15"
      ]
     },
     "execution_count": 80,
     "metadata": {},
     "output_type": "execute_result"
    }
   ],
   "source": [
    "len(set().union(*[DRB_set, DQA_set, DQB_set, DPA_set, DPB_set]) - set([y for x in kept_trans_alleles for y in x]))"
   ]
  },
  {
   "cell_type": "code",
   "execution_count": 81,
   "metadata": {},
   "outputs": [
    {
     "data": {
      "text/plain": [
       "['DRB1*03:01,DRB1*10:01,DQA1*01:05,DQA1*05:01,DQB1*02:01,DQB1*05:01,DPA1*01:03,DPA1*01:03,DPB1*02:01,DPB1*04:01',\n",
       " 'DRB1*04:02,DRB1*07:01,DQA1*02:01,DQA1*03:01,DQB1*02:02,DQB1*03:02,DPA1*01:03,DPA1*01:03,DPB1*04:01,DPB1*04:02',\n",
       " 'DRB1*01:01,DRB1*13:01,DQA1*01:01,DQA1*01:03,DQB1*05:01,DQB1*06:03,DPA1*01:03,DPA1*01:03,DPB1*02:01,DPB1*03:01']"
      ]
     },
     "execution_count": 81,
     "metadata": {},
     "output_type": "execute_result"
    }
   ],
   "source": [
    "kept_trans_alleles_string = [\",\".join(x) for x in kept_trans_alleles]\n",
    "kept_trans_alleles_string[3:6]"
   ]
  },
  {
   "cell_type": "code",
   "execution_count": 82,
   "metadata": {},
   "outputs": [
    {
     "data": {
      "text/plain": [
       "['DRB1*03:01,DRB1*10:01,DQA1*01:05,DQA1*05:01,DQB1*02:01,DQB1*05:01,DPA1*01:03,DPA1*01:03,DPB1*02:01,DPB1*04:01',\n",
       " 'DRB1*04:02,DRB1*07:01,DQA1*02:01,DQA1*03:01,DQB1*02:02,DQB1*03:02,DPA1*01:03,DPA1*01:03,DPB1*04:01,DPB1*04:02',\n",
       " 'DRB1*01:01,DRB1*13:01,DQA1*01:01,DQA1*01:03,DQB1*05:01,DQB1*06:03,DPA1*01:03,DPA1*01:03,DPB1*02:01,DPB1*03:01']"
      ]
     },
     "execution_count": 82,
     "metadata": {},
     "output_type": "execute_result"
    }
   ],
   "source": [
    "df_liu_2019_kept[\"hla_class_ii_alleles\"].tolist()[3:6]"
   ]
  },
  {
   "cell_type": "code",
   "execution_count": 83,
   "metadata": {},
   "outputs": [
    {
     "name": "stderr",
     "output_type": "stream",
     "text": [
      "/var/folders/2w/md4qmqxd3cn9kfl7flgbmyrw0000gp/T/ipykernel_26015/2729582048.py:1: SettingWithCopyWarning: \n",
      "A value is trying to be set on a copy of a slice from a DataFrame.\n",
      "Try using .loc[row_indexer,col_indexer] = value instead\n",
      "\n",
      "See the caveats in the documentation: https://pandas.pydata.org/pandas-docs/stable/user_guide/indexing.html#returning-a-view-versus-a-copy\n",
      "  df_liu_2019_kept['hla_class_ii_alleles_replace'] = kept_trans_alleles_string\n"
     ]
    }
   ],
   "source": [
    "df_liu_2019_kept['hla_class_ii_alleles_replace'] = kept_trans_alleles_string"
   ]
  },
  {
   "cell_type": "code",
   "execution_count": 84,
   "metadata": {},
   "outputs": [
    {
     "data": {
      "text/plain": [
       "[('DRB1*04:01,DRB1*15:01,DQA1*01:02,DQA1*03:01,DQB1*03:02,DQB1*06:02,DPA1*01:03,DPA1*01:03,DPB1*04:01,DPB1*04:01',\n",
       "  'DRB1*04:01,DRB1*15:01,DQA1*01:02,DQA1*03:01,DQB1*03:02,DQB1*06:02,DPA1*01:03,DPA1*01:03,DPB1*04:01,DPB1*04:01'),\n",
       " ('DRB1*01:01,DRB1*15:01,DQA1*01:01,DQA1*01:02,DQB1*05:01,DQB1*06:02,DPA1*01:03,DPA1*01:03,DPB1*04:01,DPB1*04:01',\n",
       "  'DRB1*01:01,DRB1*15:01,DQA1*01:01,DQA1*01:02,DQB1*05:01,DQB1*06:02,DPA1*01:03,DPA1*01:03,DPB1*04:01,DPB1*04:01'),\n",
       " ('DRB1*01:01,DRB1*11:04,DQA1*01:01,DQA1*05:05,DQB1*03:01,DQB1*05:01,DPA1*01:03,DPA1*01:03,DPB1*04:01,DPB1*04:02',\n",
       "  'DRB1*01:01,DRB1*11:04,DQA1*01:01,DQA1*05:05,DQB1*03:01,DQB1*05:01,DPA1*01:03,DPA1*01:03,DPB1*04:01,DPB1*04:02')]"
      ]
     },
     "execution_count": 84,
     "metadata": {},
     "output_type": "execute_result"
    }
   ],
   "source": [
    "list(zip(df_liu_2019_kept['hla_class_ii_alleles'], \n",
    "         df_liu_2019_kept['hla_class_ii_alleles_replace']))[:3]"
   ]
  },
  {
   "cell_type": "code",
   "execution_count": 85,
   "metadata": {},
   "outputs": [
    {
     "data": {
      "text/plain": [
       "Counter({True: 120})"
      ]
     },
     "execution_count": 85,
     "metadata": {},
     "output_type": "execute_result"
    }
   ],
   "source": [
    "Counter([x==y for x,y in zip(df_liu_2019_kept['hla_class_ii_alleles_replace'].tolist(), \n",
    "                             kept_trans_alleles_string)])"
   ]
  },
  {
   "cell_type": "code",
   "execution_count": 86,
   "metadata": {},
   "outputs": [],
   "source": [
    "df_liu_2019_kept.to_csv(\"../results/st18_liu_2019_kept_hla_ii_match_replace.csv\", index = False)"
   ]
  },
  {
   "cell_type": "code",
   "execution_count": null,
   "metadata": {},
   "outputs": [],
   "source": []
  }
 ],
 "metadata": {
  "kernelspec": {
   "display_name": "Python 3 (ipykernel)",
   "language": "python",
   "name": "python3"
  },
  "language_info": {
   "codemirror_mode": {
    "name": "ipython",
    "version": 3
   },
   "file_extension": ".py",
   "mimetype": "text/x-python",
   "name": "python",
   "nbconvert_exporter": "python",
   "pygments_lexer": "ipython3",
   "version": "3.9.10"
  }
 },
 "nbformat": 4,
 "nbformat_minor": 4
}
