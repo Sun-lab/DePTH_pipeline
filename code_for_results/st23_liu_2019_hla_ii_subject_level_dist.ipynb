{
 "cells": [
  {
   "cell_type": "markdown",
   "metadata": {},
   "source": [
    "\n",
    "This notebook prepares the subject-level mean distances for Liu 2019 kept subjects based on HLA-II alleles that are matched to DRB1 and DQA/DQB & DPA&DPB alleles that are formed by alleles from DeWitt 2018 data.\n",
    "\n",
    "\n",
    "This is only the first step of the processing\n",
    "\n",
    "There is another step of processing to add the values from set-based approach\n",
    "\n",
    "\n",
    "### mean distance between HLA alleles for each subject:\n",
    "\n",
    "    depth on Zheng 2021 positive TCRs, cor\n",
    "    \n",
    "    blosum62-based distance\n",
    "    \n",
    "the items below are left for the next notebook:\n",
    "    \n",
    "    depth on Zheng 2021 positive TCRs, set\n",
    "\n",
    "    depth on Zheng 2021 positive TCRs, breadth\n"
   ]
  },
  {
   "cell_type": "code",
   "execution_count": 1,
   "metadata": {},
   "outputs": [],
   "source": [
    "import pandas as pd\n",
    "import numpy as np\n",
    "\n",
    "from collections import defaultdict\n",
    "from collections import Counter\n",
    "\n",
    "import ot\n",
    "import ot.plot\n",
    "\n",
    "import matplotlib.pyplot as plt\n",
    "import math"
   ]
  },
  {
   "cell_type": "code",
   "execution_count": 2,
   "metadata": {},
   "outputs": [
    {
     "data": {
      "text/html": [
       "<div>\n",
       "<style scoped>\n",
       "    .dataframe tbody tr th:only-of-type {\n",
       "        vertical-align: middle;\n",
       "    }\n",
       "\n",
       "    .dataframe tbody tr th {\n",
       "        vertical-align: top;\n",
       "    }\n",
       "\n",
       "    .dataframe thead th {\n",
       "        text-align: right;\n",
       "    }\n",
       "</style>\n",
       "<table border=\"1\" class=\"dataframe\">\n",
       "  <thead>\n",
       "    <tr style=\"text-align: right;\">\n",
       "      <th></th>\n",
       "      <th>Unnamed: 0</th>\n",
       "      <th>total_muts</th>\n",
       "      <th>nonsyn_muts</th>\n",
       "      <th>clonal_muts</th>\n",
       "      <th>subclonal_muts</th>\n",
       "      <th>heterogeneity</th>\n",
       "      <th>total_neoantigens</th>\n",
       "      <th>CNA_prop</th>\n",
       "      <th>gender (Male=1, Female=0)</th>\n",
       "      <th>biopsy site</th>\n",
       "      <th>...</th>\n",
       "      <th>biopsy site_categ</th>\n",
       "      <th>biopsyContext (1=Pre-Ipi; 2=On-Ipi; 3=Pre-PD1; 4=On-PD1)</th>\n",
       "      <th>daysBiopsyToPD1</th>\n",
       "      <th>daysBiopsyAfterIpiStart</th>\n",
       "      <th>purity</th>\n",
       "      <th>ploidy</th>\n",
       "      <th>hla_class_ii_alleles</th>\n",
       "      <th>homozygous</th>\n",
       "      <th>hla_class_ii_alleles_replace</th>\n",
       "      <th>hla_class_ii_replace_reformat</th>\n",
       "    </tr>\n",
       "  </thead>\n",
       "  <tbody>\n",
       "    <tr>\n",
       "      <th>0</th>\n",
       "      <td>Patient10</td>\n",
       "      <td>96</td>\n",
       "      <td>71</td>\n",
       "      <td>48</td>\n",
       "      <td>22</td>\n",
       "      <td>0.314286</td>\n",
       "      <td>230</td>\n",
       "      <td>0.391384</td>\n",
       "      <td>0</td>\n",
       "      <td>skin</td>\n",
       "      <td>...</td>\n",
       "      <td>skin</td>\n",
       "      <td>3</td>\n",
       "      <td>-12</td>\n",
       "      <td>107</td>\n",
       "      <td>0.83</td>\n",
       "      <td>1.84</td>\n",
       "      <td>DRB1*04:01,DRB1*15:01,DQA1*01:02,DQA1*03:01,DQ...</td>\n",
       "      <td>1</td>\n",
       "      <td>DRB1*04:01,DRB1*15:01,DQA1*01:02,DQA1*03:01,DQ...</td>\n",
       "      <td>HLA-DRB1*04:01,HLA-DRB1*15:01,HLA-DQAB*01:02_0...</td>\n",
       "    </tr>\n",
       "    <tr>\n",
       "      <th>1</th>\n",
       "      <td>Patient100</td>\n",
       "      <td>200</td>\n",
       "      <td>126</td>\n",
       "      <td>98</td>\n",
       "      <td>24</td>\n",
       "      <td>0.196721</td>\n",
       "      <td>301</td>\n",
       "      <td>0.029447</td>\n",
       "      <td>0</td>\n",
       "      <td>skin</td>\n",
       "      <td>...</td>\n",
       "      <td>skin</td>\n",
       "      <td>3</td>\n",
       "      <td>-94</td>\n",
       "      <td>33</td>\n",
       "      <td>0.11</td>\n",
       "      <td>2.17</td>\n",
       "      <td>DRB1*01:01,DRB1*15:01,DQA1*01:01,DQA1*01:02,DQ...</td>\n",
       "      <td>1</td>\n",
       "      <td>DRB1*01:01,DRB1*15:01,DQA1*01:01,DQA1*01:02,DQ...</td>\n",
       "      <td>HLA-DRB1*01:01,HLA-DRB1*15:01,HLA-DQAB*01:01_0...</td>\n",
       "    </tr>\n",
       "    <tr>\n",
       "      <th>2</th>\n",
       "      <td>Patient102</td>\n",
       "      <td>370</td>\n",
       "      <td>246</td>\n",
       "      <td>215</td>\n",
       "      <td>26</td>\n",
       "      <td>0.107884</td>\n",
       "      <td>825</td>\n",
       "      <td>0.169389</td>\n",
       "      <td>1</td>\n",
       "      <td>brain</td>\n",
       "      <td>...</td>\n",
       "      <td>brain</td>\n",
       "      <td>3</td>\n",
       "      <td>-64</td>\n",
       "      <td>na</td>\n",
       "      <td>0.70</td>\n",
       "      <td>3.24</td>\n",
       "      <td>DRB1*01:01,DRB1*11:04,DQA1*01:01,DQA1*05:05,DQ...</td>\n",
       "      <td>0</td>\n",
       "      <td>DRB1*01:01,DRB1*11:04,DQA1*01:01,DQA1*05:05,DQ...</td>\n",
       "      <td>HLA-DRB1*01:01,HLA-DRB1*11:04,HLA-DQAB*01:01_0...</td>\n",
       "    </tr>\n",
       "    <tr>\n",
       "      <th>3</th>\n",
       "      <td>Patient106</td>\n",
       "      <td>380</td>\n",
       "      <td>245</td>\n",
       "      <td>194</td>\n",
       "      <td>36</td>\n",
       "      <td>0.156522</td>\n",
       "      <td>726</td>\n",
       "      <td>0.224147</td>\n",
       "      <td>0</td>\n",
       "      <td>skin</td>\n",
       "      <td>...</td>\n",
       "      <td>skin</td>\n",
       "      <td>3</td>\n",
       "      <td>-74</td>\n",
       "      <td>na</td>\n",
       "      <td>0.62</td>\n",
       "      <td>2.34</td>\n",
       "      <td>DRB1*03:01,DRB1*10:01,DQA1*01:05,DQA1*05:01,DQ...</td>\n",
       "      <td>0</td>\n",
       "      <td>DRB1*03:01,DRB1*10:01,DQA1*01:05,DQA1*05:01,DQ...</td>\n",
       "      <td>HLA-DRB1*03:01,HLA-DRB1*10:01,HLA-DQAB*01:05_0...</td>\n",
       "    </tr>\n",
       "    <tr>\n",
       "      <th>4</th>\n",
       "      <td>Patient107</td>\n",
       "      <td>247</td>\n",
       "      <td>158</td>\n",
       "      <td>133</td>\n",
       "      <td>20</td>\n",
       "      <td>0.130719</td>\n",
       "      <td>489</td>\n",
       "      <td>0.144822</td>\n",
       "      <td>1</td>\n",
       "      <td>adrenal gland</td>\n",
       "      <td>...</td>\n",
       "      <td>liver/visceral</td>\n",
       "      <td>3</td>\n",
       "      <td>-132</td>\n",
       "      <td>na</td>\n",
       "      <td>0.76</td>\n",
       "      <td>5.08</td>\n",
       "      <td>DRB1*04:02,DRB1*07:01,DQA1*02:01,DQA1*03:01,DQ...</td>\n",
       "      <td>0</td>\n",
       "      <td>DRB1*04:02,DRB1*07:01,DQA1*02:01,DQA1*03:01,DQ...</td>\n",
       "      <td>HLA-DRB1*04:02,HLA-DRB1*07:01,HLA-DQAB*02:01_0...</td>\n",
       "    </tr>\n",
       "    <tr>\n",
       "      <th>5</th>\n",
       "      <td>Patient11</td>\n",
       "      <td>246</td>\n",
       "      <td>172</td>\n",
       "      <td>131</td>\n",
       "      <td>35</td>\n",
       "      <td>0.210843</td>\n",
       "      <td>560</td>\n",
       "      <td>0.238964</td>\n",
       "      <td>0</td>\n",
       "      <td>skin</td>\n",
       "      <td>...</td>\n",
       "      <td>skin</td>\n",
       "      <td>3</td>\n",
       "      <td>-8</td>\n",
       "      <td>516</td>\n",
       "      <td>0.77</td>\n",
       "      <td>3.43</td>\n",
       "      <td>DRB1*01:01,DRB1*13:01,DQA1*01:01,DQA1*01:03,DQ...</td>\n",
       "      <td>0</td>\n",
       "      <td>DRB1*01:01,DRB1*13:01,DQA1*01:01,DQA1*01:03,DQ...</td>\n",
       "      <td>HLA-DRB1*01:01,HLA-DRB1*13:01,HLA-DQAB*01:01_0...</td>\n",
       "    </tr>\n",
       "  </tbody>\n",
       "</table>\n",
       "<p>6 rows × 50 columns</p>\n",
       "</div>"
      ],
      "text/plain": [
       "   Unnamed: 0  total_muts  nonsyn_muts  clonal_muts  subclonal_muts  \\\n",
       "0   Patient10          96           71           48              22   \n",
       "1  Patient100         200          126           98              24   \n",
       "2  Patient102         370          246          215              26   \n",
       "3  Patient106         380          245          194              36   \n",
       "4  Patient107         247          158          133              20   \n",
       "5   Patient11         246          172          131              35   \n",
       "\n",
       "   heterogeneity  total_neoantigens  CNA_prop  gender (Male=1, Female=0)  \\\n",
       "0       0.314286                230  0.391384                          0   \n",
       "1       0.196721                301  0.029447                          0   \n",
       "2       0.107884                825  0.169389                          1   \n",
       "3       0.156522                726  0.224147                          0   \n",
       "4       0.130719                489  0.144822                          1   \n",
       "5       0.210843                560  0.238964                          0   \n",
       "\n",
       "     biopsy site  ...  biopsy site_categ  \\\n",
       "0           skin  ...               skin   \n",
       "1           skin  ...               skin   \n",
       "2          brain  ...              brain   \n",
       "3           skin  ...               skin   \n",
       "4  adrenal gland  ...     liver/visceral   \n",
       "5           skin  ...               skin   \n",
       "\n",
       "  biopsyContext (1=Pre-Ipi; 2=On-Ipi; 3=Pre-PD1; 4=On-PD1)  daysBiopsyToPD1  \\\n",
       "0                                                  3                    -12   \n",
       "1                                                  3                    -94   \n",
       "2                                                  3                    -64   \n",
       "3                                                  3                    -74   \n",
       "4                                                  3                   -132   \n",
       "5                                                  3                     -8   \n",
       "\n",
       "   daysBiopsyAfterIpiStart  purity ploidy  \\\n",
       "0                      107    0.83   1.84   \n",
       "1                       33    0.11   2.17   \n",
       "2                       na    0.70   3.24   \n",
       "3                       na    0.62   2.34   \n",
       "4                       na    0.76   5.08   \n",
       "5                      516    0.77   3.43   \n",
       "\n",
       "                                hla_class_ii_alleles homozygous  \\\n",
       "0  DRB1*04:01,DRB1*15:01,DQA1*01:02,DQA1*03:01,DQ...          1   \n",
       "1  DRB1*01:01,DRB1*15:01,DQA1*01:01,DQA1*01:02,DQ...          1   \n",
       "2  DRB1*01:01,DRB1*11:04,DQA1*01:01,DQA1*05:05,DQ...          0   \n",
       "3  DRB1*03:01,DRB1*10:01,DQA1*01:05,DQA1*05:01,DQ...          0   \n",
       "4  DRB1*04:02,DRB1*07:01,DQA1*02:01,DQA1*03:01,DQ...          0   \n",
       "5  DRB1*01:01,DRB1*13:01,DQA1*01:01,DQA1*01:03,DQ...          0   \n",
       "\n",
       "                        hla_class_ii_alleles_replace  \\\n",
       "0  DRB1*04:01,DRB1*15:01,DQA1*01:02,DQA1*03:01,DQ...   \n",
       "1  DRB1*01:01,DRB1*15:01,DQA1*01:01,DQA1*01:02,DQ...   \n",
       "2  DRB1*01:01,DRB1*11:04,DQA1*01:01,DQA1*05:05,DQ...   \n",
       "3  DRB1*03:01,DRB1*10:01,DQA1*01:05,DQA1*05:01,DQ...   \n",
       "4  DRB1*04:02,DRB1*07:01,DQA1*02:01,DQA1*03:01,DQ...   \n",
       "5  DRB1*01:01,DRB1*13:01,DQA1*01:01,DQA1*01:03,DQ...   \n",
       "\n",
       "                       hla_class_ii_replace_reformat  \n",
       "0  HLA-DRB1*04:01,HLA-DRB1*15:01,HLA-DQAB*01:02_0...  \n",
       "1  HLA-DRB1*01:01,HLA-DRB1*15:01,HLA-DQAB*01:01_0...  \n",
       "2  HLA-DRB1*01:01,HLA-DRB1*11:04,HLA-DQAB*01:01_0...  \n",
       "3  HLA-DRB1*03:01,HLA-DRB1*10:01,HLA-DQAB*01:05_0...  \n",
       "4  HLA-DRB1*04:02,HLA-DRB1*07:01,HLA-DQAB*02:01_0...  \n",
       "5  HLA-DRB1*01:01,HLA-DRB1*13:01,HLA-DQAB*01:01_0...  \n",
       "\n",
       "[6 rows x 50 columns]"
      ]
     },
     "execution_count": 2,
     "metadata": {},
     "output_type": "execute_result"
    }
   ],
   "source": [
    "# load the info of subjects with HLA-I alleles under our consideration\n",
    "df_liu_2019 = pd.read_csv(\"../results/st19_liu_2019_kept_hla_ii_replace_reformat.csv\", header=0)\n",
    "df_liu_2019[:6]"
   ]
  },
  {
   "cell_type": "code",
   "execution_count": 3,
   "metadata": {},
   "outputs": [
    {
     "data": {
      "text/plain": [
       "(120, 50)"
      ]
     },
     "execution_count": 3,
     "metadata": {},
     "output_type": "execute_result"
    }
   ],
   "source": [
    "df_liu_2019.shape"
   ]
  },
  {
   "cell_type": "code",
   "execution_count": 4,
   "metadata": {},
   "outputs": [
    {
     "data": {
      "text/plain": [
       "Unnamed: 0                                                  0\n",
       "total_muts                                                  0\n",
       "nonsyn_muts                                                 0\n",
       "clonal_muts                                                 0\n",
       "subclonal_muts                                              0\n",
       "heterogeneity                                               0\n",
       "total_neoantigens                                           0\n",
       "CNA_prop                                                    0\n",
       "gender (Male=1, Female=0)                                   0\n",
       "biopsy site                                                 0\n",
       "monthsBiopsyPreTx                                           0\n",
       "BR                                                          0\n",
       "PFS                                                         0\n",
       "OS                                                          0\n",
       "TimeToBR                                                    0\n",
       "cyclesOnTherapy                                             0\n",
       "txOngoing                                                   0\n",
       "Tx                                                          0\n",
       "Mstage (IIIC=0, M1a=1, M1b=2, M1c=3)                        0\n",
       "Tx_Start_ECOG                                               3\n",
       "Tx_Start_LDH                                                0\n",
       "LDH_Elevated                                                0\n",
       "Brain_Met                                                   0\n",
       "Cut_SubQ_Met                                                0\n",
       "LN_Met                                                      0\n",
       "Lung_Met                                                    0\n",
       "Liver_Visc_Met                                              0\n",
       "Bone_Met                                                    0\n",
       "progressed                                                  0\n",
       "dead                                                        0\n",
       "Primary_Type                                                0\n",
       "Histology                                                   2\n",
       "IOTherapy                                                   0\n",
       "steroidsGT10mgDaily                                         0\n",
       "priorMAPKTx                                                 0\n",
       "priorCTLA4                                                  0\n",
       "postCTLA4                                                   1\n",
       "postMAPKTx                                                  1\n",
       "postCombinedCTLA_PD1                                        1\n",
       "numPriorTherapies                                           0\n",
       "biopsy site_categ                                           0\n",
       "biopsyContext (1=Pre-Ipi; 2=On-Ipi; 3=Pre-PD1; 4=On-PD1)    0\n",
       "daysBiopsyToPD1                                             0\n",
       "daysBiopsyAfterIpiStart                                     0\n",
       "purity                                                      0\n",
       "ploidy                                                      0\n",
       "hla_class_ii_alleles                                        0\n",
       "homozygous                                                  0\n",
       "hla_class_ii_alleles_replace                                0\n",
       "hla_class_ii_replace_reformat                               0\n",
       "dtype: int64"
      ]
     },
     "execution_count": 4,
     "metadata": {},
     "output_type": "execute_result"
    }
   ],
   "source": [
    "df_liu_2019.isna().sum()"
   ]
  },
  {
   "cell_type": "code",
   "execution_count": 5,
   "metadata": {},
   "outputs": [],
   "source": [
    "# load HLA-I distance matrix based on zheng 2021 pos tcrs or pseudo sequences\n",
    "\n",
    "df_depth = pd.read_csv(\"../results/st21_zheng_2021_pos_HLA_II_dist_ensemble_20.csv\", header=0)\n",
    "\n",
    "df_blosum62 = pd.read_csv(\"../results/st22_blosum62_HLA_II_dist.csv\", header=0)"
   ]
  },
  {
   "cell_type": "code",
   "execution_count": 6,
   "metadata": {},
   "outputs": [
    {
     "name": "stdout",
     "output_type": "stream",
     "text": [
      "(141, 141)\n",
      "(141, 141)\n"
     ]
    }
   ],
   "source": [
    "print(df_depth.shape)\n",
    "print(df_blosum62.shape)"
   ]
  },
  {
   "cell_type": "code",
   "execution_count": 7,
   "metadata": {},
   "outputs": [],
   "source": [
    "# load HLA-II allele names\n",
    "\n",
    "df_hla = pd.read_csv(\"../data/Liu_2019/liu_2019_hla_ii_format.csv\", header=0)"
   ]
  },
  {
   "cell_type": "code",
   "execution_count": 8,
   "metadata": {},
   "outputs": [
    {
     "data": {
      "text/plain": [
       "(141, 1)"
      ]
     },
     "execution_count": 8,
     "metadata": {},
     "output_type": "execute_result"
    }
   ],
   "source": [
    "df_hla.shape"
   ]
  },
  {
   "cell_type": "code",
   "execution_count": 9,
   "metadata": {},
   "outputs": [
    {
     "data": {
      "text/html": [
       "<div>\n",
       "<style scoped>\n",
       "    .dataframe tbody tr th:only-of-type {\n",
       "        vertical-align: middle;\n",
       "    }\n",
       "\n",
       "    .dataframe tbody tr th {\n",
       "        vertical-align: top;\n",
       "    }\n",
       "\n",
       "    .dataframe thead th {\n",
       "        text-align: right;\n",
       "    }\n",
       "</style>\n",
       "<table border=\"1\" class=\"dataframe\">\n",
       "  <thead>\n",
       "    <tr style=\"text-align: right;\">\n",
       "      <th></th>\n",
       "      <th>hla</th>\n",
       "    </tr>\n",
       "  </thead>\n",
       "  <tbody>\n",
       "    <tr>\n",
       "      <th>0</th>\n",
       "      <td>HLA-DPAB*01:03_01:01</td>\n",
       "    </tr>\n",
       "    <tr>\n",
       "      <th>1</th>\n",
       "      <td>HLA-DPAB*01:03_02:01</td>\n",
       "    </tr>\n",
       "  </tbody>\n",
       "</table>\n",
       "</div>"
      ],
      "text/plain": [
       "                    hla\n",
       "0  HLA-DPAB*01:03_01:01\n",
       "1  HLA-DPAB*01:03_02:01"
      ]
     },
     "execution_count": 9,
     "metadata": {},
     "output_type": "execute_result"
    }
   ],
   "source": [
    "df_hla[:2]"
   ]
  },
  {
   "cell_type": "code",
   "execution_count": 10,
   "metadata": {},
   "outputs": [],
   "source": [
    "hla_ii_141_format = df_hla.hla.tolist()"
   ]
  },
  {
   "cell_type": "code",
   "execution_count": 11,
   "metadata": {},
   "outputs": [],
   "source": [
    "# create a dictionary for the distance between any two hla i alleles under each situation\n",
    "\n",
    "\n",
    "# for DePTH zheng 2021 based\n",
    "\n",
    "depth_dict = defaultdict(float)\n",
    "\n",
    "for i, a in enumerate(hla_ii_141_format):\n",
    "    cur_list = df_depth.iloc[:, i].tolist()\n",
    "    for j, b in enumerate(hla_ii_141_format):\n",
    "        depth_dict[(a, b)] = cur_list[j]"
   ]
  },
  {
   "cell_type": "code",
   "execution_count": 12,
   "metadata": {},
   "outputs": [],
   "source": [
    "# for blosum62 based \n",
    "blosum62_dict = defaultdict(float)\n",
    "\n",
    "for i, a in enumerate(hla_ii_141_format):\n",
    "    cur_list = df_blosum62.iloc[:, i].tolist()\n",
    "    for j, b in enumerate(hla_ii_141_format):\n",
    "        blosum62_dict[(a, b)] = cur_list[j]"
   ]
  },
  {
   "cell_type": "code",
   "execution_count": 13,
   "metadata": {},
   "outputs": [],
   "source": [
    "# plot the distances from two lists of TCRs for the same HLA pairs\n",
    "\n",
    "test_depth_dict_keys = list(depth_dict.keys())\n",
    "\n",
    "test_depth_values = [depth_dict[x] for x in test_depth_dict_keys]"
   ]
  },
  {
   "cell_type": "code",
   "execution_count": 15,
   "metadata": {},
   "outputs": [
    {
     "data": {
      "image/png": "[encoded data removed]",
      "text/plain": [
       "<Figure size 432x288 with 1 Axes>"
      ]
     },
     "metadata": {
      "needs_background": "light"
     },
     "output_type": "display_data"
    }
   ],
   "source": [
    "# plot the distances from zheng 2021 positive TCRs and blosum62 for the same HLA pairs\n",
    "plt.scatter(blosum62_dict.values(), depth_dict.values())\n",
    "plt.show()"
   ]
  },
  {
   "cell_type": "code",
   "execution_count": 16,
   "metadata": {},
   "outputs": [
    {
     "data": {
      "text/plain": [
       "['HLA-DRB1*04:01,HLA-DRB1*15:01,HLA-DQAB*01:02_03:02,HLA-DQAB*01:02_06:02,HLA-DQAB*03:01_03:02,HLA-DQAB*03:01_06:02,HLA-DPAB*01:03_04:01,HLA-DPAB*01:03_04:01,HLA-DPAB*01:03_04:01,HLA-DPAB*01:03_04:01',\n",
       " 'HLA-DRB1*01:01,HLA-DRB1*15:01,HLA-DQAB*01:01_05:01,HLA-DQAB*01:01_06:02,HLA-DQAB*01:02_05:01,HLA-DQAB*01:02_06:02,HLA-DPAB*01:03_04:01,HLA-DPAB*01:03_04:01,HLA-DPAB*01:03_04:01,HLA-DPAB*01:03_04:01']"
      ]
     },
     "execution_count": 16,
     "metadata": {},
     "output_type": "execute_result"
    }
   ],
   "source": [
    "df_liu_2019.hla_class_ii_replace_reformat.tolist()[:2]"
   ]
  },
  {
   "cell_type": "code",
   "execution_count": 17,
   "metadata": {},
   "outputs": [
    {
     "data": {
      "text/plain": [
       "Counter({'RRQQQQPPPP': 120})"
      ]
     },
     "execution_count": 17,
     "metadata": {},
     "output_type": "execute_result"
    }
   ],
   "source": [
    "# verify whether each subject has two alleles for DRB, four alleles for DQ and four alleles for DP\n",
    "# the answer is true\n",
    "\n",
    "genotype_replace_list = [x.split(\",\") for x in df_liu_2019.hla_class_ii_replace_reformat.tolist()]\n",
    "\n",
    "RQP_replace_list = []\n",
    "\n",
    "for genotype in genotype_replace_list:\n",
    "    RQP_replace_list += [\"\".join([list(x)[5] for x in genotype])]\n",
    "\n",
    "Counter(RQP_replace_list)"
   ]
  },
  {
   "cell_type": "code",
   "execution_count": 18,
   "metadata": {},
   "outputs": [
    {
     "data": {
      "text/plain": [
       "True"
      ]
     },
     "execution_count": 18,
     "metadata": {},
     "output_type": "execute_result"
    }
   ],
   "source": [
    "set([x for y in genotype_replace_list for x in y]) == set(df_hla.hla)"
   ]
  },
  {
   "cell_type": "code",
   "execution_count": 19,
   "metadata": {},
   "outputs": [],
   "source": [
    "# compute the distance based on both two TCR resources and pseudo sequence\n",
    "# based on blosum62 for each subject\n",
    "\n",
    "# for DRB, take the distance between the two\n",
    "# for DQAB, take the average of pairwise distances from the four\n",
    "# for DPAB, take the average of pairwise distances from the four\n",
    "\n",
    "\n",
    "def ave_six(input_list, input_dict):\n",
    "    \n",
    "    temp_dist = 0\n",
    "    \n",
    "    for i in range(3):\n",
    "        for j in range((i+1),4):\n",
    "            temp_dist += input_dict[(input_list[i], input_list[j])]\n",
    "            \n",
    "    temp_result = temp_dist/6\n",
    "    return temp_result\n",
    "\n",
    "\n",
    "\n",
    "depth_rr = []\n",
    "depth_qq = []\n",
    "depth_pp = []\n",
    "\n",
    "for genotype in genotype_replace_list:\n",
    "    \n",
    "    depth_rr += [depth_dict[(genotype[0], genotype[1])]]\n",
    "    \n",
    "    depth_qq += [ave_six(genotype[2:6], depth_dict)]   \n",
    "    depth_pp += [ave_six(genotype[6:], depth_dict)]\n",
    "\n",
    "depth_ave = [(x+y+z)/3 for x,y,z in zip(depth_rr, depth_qq, depth_pp)]\n",
    "\n",
    "\n",
    "\n",
    "# use HLAI_Genotype_replace for aa as well\n",
    "aa_rr = []\n",
    "aa_qq = []\n",
    "aa_pp = []\n",
    "\n",
    "for genotype in genotype_replace_list:\n",
    "    \n",
    "    aa_rr += [blosum62_dict[(genotype[0], genotype[1])]]\n",
    "    \n",
    "    aa_qq += [ave_six(genotype[2:6], blosum62_dict)]   \n",
    "    aa_pp += [ave_six(genotype[6:], blosum62_dict)]\n",
    "\n",
    "aa_ave = [(x+y+z)/3 for x,y,z in zip(aa_rr, aa_qq, aa_pp)]"
   ]
  },
  {
   "cell_type": "code",
   "execution_count": 20,
   "metadata": {},
   "outputs": [
    {
     "data": {
      "image/png": "[encoded data removed]",
      "text/plain": [
       "<Figure size 432x288 with 1 Axes>"
      ]
     },
     "metadata": {
      "needs_background": "light"
     },
     "output_type": "display_data"
    }
   ],
   "source": [
    "plt.scatter(aa_ave, depth_ave)\n",
    "plt.show()"
   ]
  },
  {
   "cell_type": "code",
   "execution_count": 22,
   "metadata": {},
   "outputs": [],
   "source": [
    "df_liu_2019[\"depth_ave\"] = depth_ave\n",
    "df_liu_2019[\"aa_ave\"] = aa_ave"
   ]
  },
  {
   "cell_type": "code",
   "execution_count": 23,
   "metadata": {},
   "outputs": [
    {
     "data": {
      "text/plain": [
       "Unnamed: 0                                                  0\n",
       "total_muts                                                  0\n",
       "nonsyn_muts                                                 0\n",
       "clonal_muts                                                 0\n",
       "subclonal_muts                                              0\n",
       "heterogeneity                                               0\n",
       "total_neoantigens                                           0\n",
       "CNA_prop                                                    0\n",
       "gender (Male=1, Female=0)                                   0\n",
       "biopsy site                                                 0\n",
       "monthsBiopsyPreTx                                           0\n",
       "BR                                                          0\n",
       "PFS                                                         0\n",
       "OS                                                          0\n",
       "TimeToBR                                                    0\n",
       "cyclesOnTherapy                                             0\n",
       "txOngoing                                                   0\n",
       "Tx                                                          0\n",
       "Mstage (IIIC=0, M1a=1, M1b=2, M1c=3)                        0\n",
       "Tx_Start_ECOG                                               3\n",
       "Tx_Start_LDH                                                0\n",
       "LDH_Elevated                                                0\n",
       "Brain_Met                                                   0\n",
       "Cut_SubQ_Met                                                0\n",
       "LN_Met                                                      0\n",
       "Lung_Met                                                    0\n",
       "Liver_Visc_Met                                              0\n",
       "Bone_Met                                                    0\n",
       "progressed                                                  0\n",
       "dead                                                        0\n",
       "Primary_Type                                                0\n",
       "Histology                                                   2\n",
       "IOTherapy                                                   0\n",
       "steroidsGT10mgDaily                                         0\n",
       "priorMAPKTx                                                 0\n",
       "priorCTLA4                                                  0\n",
       "postCTLA4                                                   1\n",
       "postMAPKTx                                                  1\n",
       "postCombinedCTLA_PD1                                        1\n",
       "numPriorTherapies                                           0\n",
       "biopsy site_categ                                           0\n",
       "biopsyContext (1=Pre-Ipi; 2=On-Ipi; 3=Pre-PD1; 4=On-PD1)    0\n",
       "daysBiopsyToPD1                                             0\n",
       "daysBiopsyAfterIpiStart                                     0\n",
       "purity                                                      0\n",
       "ploidy                                                      0\n",
       "hla_class_ii_alleles                                        0\n",
       "homozygous                                                  0\n",
       "hla_class_ii_alleles_replace                                0\n",
       "hla_class_ii_replace_reformat                               0\n",
       "depth_ave                                                   0\n",
       "aa_ave                                                      0\n",
       "dtype: int64"
      ]
     },
     "execution_count": 23,
     "metadata": {},
     "output_type": "execute_result"
    }
   ],
   "source": [
    "df_liu_2019.isna().sum()"
   ]
  },
  {
   "cell_type": "code",
   "execution_count": 24,
   "metadata": {},
   "outputs": [],
   "source": [
    "# save the extended df_liu_2019 file out\n",
    "df_liu_2019.to_csv(\"../results/st23_liu_2019_depth_aa_scores.csv\", index = False)"
   ]
  },
  {
   "cell_type": "code",
   "execution_count": null,
   "metadata": {},
   "outputs": [],
   "source": []
  }
 ],
 "metadata": {
  "kernelspec": {
   "display_name": "Python 3 (ipykernel)",
   "language": "python",
   "name": "python3"
  },
  "language_info": {
   "codemirror_mode": {
    "name": "ipython",
    "version": 3
   },
   "file_extension": ".py",
   "mimetype": "text/x-python",
   "name": "python",
   "nbconvert_exporter": "python",
   "pygments_lexer": "ipython3",
   "version": "3.9.10"
  }
 },
 "nbformat": 4,
 "nbformat_minor": 4
}
