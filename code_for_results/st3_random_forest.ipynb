{
 "cells": [
  {
   "cell_type": "code",
   "execution_count": 1,
   "metadata": {},
   "outputs": [],
   "source": [
    "import os\n",
    "import sys\n",
    "import time\n",
    "\n",
    "import random\n",
    "\n",
    "import numpy as np\n",
    "import pandas as pd\n",
    "\n",
    "from sklearn import metrics"
   ]
  },
  {
   "cell_type": "code",
   "execution_count": 2,
   "metadata": {},
   "outputs": [],
   "source": [
    "from sklearn.ensemble import RandomForestClassifier"
   ]
  },
  {
   "cell_type": "code",
   "execution_count": 3,
   "metadata": {},
   "outputs": [],
   "source": [
    "from utils_extracting_encoded_data import _utils_simplified"
   ]
  },
  {
   "cell_type": "code",
   "execution_count": 4,
   "metadata": {},
   "outputs": [],
   "source": [
    "random.seed(1000) \n",
    "np.random.seed(1216)"
   ]
  },
  {
   "cell_type": "code",
   "execution_count": 5,
   "metadata": {},
   "outputs": [],
   "source": [
    "hla_class = \"HLA_I\"\n",
    "data_dir = \"../data/HLA_I_all_match/train_valid\"\n",
    "enc_method =\"one_hot\""
   ]
  },
  {
   "cell_type": "code",
   "execution_count": 6,
   "metadata": {},
   "outputs": [],
   "source": [
    "((encoded_train, y2_train, n_pos_train, n_neg_train),\n",
    " (encoded_valid, y2_valid, n_pos_valid, n_neg_valid)) = \\\n",
    "    _utils_simplified.get_data_flatten(hla_class, data_dir, enc_method, False)"
   ]
  },
  {
   "cell_type": "code",
   "execution_count": 7,
   "metadata": {},
   "outputs": [
    {
     "data": {
      "text/plain": [
       "(23124, 2044)"
      ]
     },
     "execution_count": 7,
     "metadata": {},
     "output_type": "execute_result"
    }
   ],
   "source": [
    "encoded_train.shape"
   ]
  },
  {
   "cell_type": "code",
   "execution_count": 8,
   "metadata": {},
   "outputs": [
    {
     "data": {
      "text/plain": [
       "(7710, 2044)"
      ]
     },
     "execution_count": 8,
     "metadata": {},
     "output_type": "execute_result"
    }
   ],
   "source": [
    "encoded_valid.shape"
   ]
  },
  {
   "cell_type": "code",
   "execution_count": 9,
   "metadata": {},
   "outputs": [
    {
     "data": {
      "text/plain": [
       "array([0, 0, 0, ..., 1, 0, 0])"
      ]
     },
     "execution_count": 9,
     "metadata": {},
     "output_type": "execute_result"
    }
   ],
   "source": [
    "label_train = y2_train.ravel()\n",
    "label_train"
   ]
  },
  {
   "cell_type": "code",
   "execution_count": 10,
   "metadata": {},
   "outputs": [
    {
     "data": {
      "text/plain": [
       "array([3854])"
      ]
     },
     "execution_count": 10,
     "metadata": {},
     "output_type": "execute_result"
    }
   ],
   "source": [
    "sum(y2_train)"
   ]
  },
  {
   "cell_type": "code",
   "execution_count": 11,
   "metadata": {},
   "outputs": [],
   "source": [
    "test_pos_file = \"../data/HLA_I_all_match/test/test_pos.csv\"\n",
    "test_neg_file = \"../data/HLA_I_all_match/test/test_neg.csv\"\n",
    "\n",
    "encoded_test_pos = _utils_simplified.get_pure_data_flatten(hla_class, test_pos_file, enc_method, False)\n",
    "encoded_test_neg = _utils_simplified.get_pure_data_flatten(hla_class, test_neg_file, enc_method, False)"
   ]
  },
  {
   "cell_type": "code",
   "execution_count": 12,
   "metadata": {},
   "outputs": [
    {
     "name": "stdout",
     "output_type": "stream",
     "text": [
      "n_trees: 100\n",
      "train AUC\n",
      "1.0\n",
      "valid AUC\n",
      "0.7773493012763251\n",
      "n_trees: 200\n",
      "train AUC\n",
      "1.0\n",
      "valid AUC\n",
      "0.7786599040106588\n",
      "n_trees: 300\n",
      "train AUC\n",
      "1.0\n",
      "valid AUC\n",
      "0.7812337507002376\n",
      "n_trees: 400\n",
      "train AUC\n",
      "1.0\n",
      "valid AUC\n",
      "0.7806387984678043\n",
      "n_trees: 500\n",
      "train AUC\n",
      "1.0\n",
      "valid AUC\n",
      "0.7807370285696982\n",
      "Validation auc hasn't improved for 2 steps of 100 additional trees. \n"
     ]
    }
   ],
   "source": [
    "train_auc = []\n",
    "valid_auc = []\n",
    "test_auc = []\n",
    "\n",
    "cnt = 0\n",
    "best_valid_auc = 0\n",
    "\n",
    "for i in range(1,50):\n",
    "    \n",
    "    if cnt == 2:\n",
    "        print(\"Validation auc hasn't improved for 2 steps of 100 additional trees. \")\n",
    "        break\n",
    "        \n",
    "    n_trees = 100*i\n",
    "    \n",
    "    print(\"n_trees:\", n_trees)\n",
    "    clf = RandomForestClassifier(class_weight={0:3854,1:19270}, \n",
    "                                 n_estimators=n_trees,\n",
    "                                 random_state=0)\n",
    "\n",
    "    clf.fit(encoded_train, label_train)\n",
    "\n",
    "    y_hat_train = clf.predict_proba(encoded_train)\n",
    "\n",
    "    fpr, tpr, thresholds = metrics.roc_curve(label_train, y_hat_train[:, [1]].ravel(), pos_label=1)\n",
    "    print(\"train AUC\")\n",
    "    cur_auc = metrics.auc(fpr, tpr)\n",
    "    print(cur_auc)\n",
    "    train_auc += [cur_auc]\n",
    "\n",
    "\n",
    "    y_hat_valid = clf.predict_proba(encoded_valid)\n",
    "    label_valid = y2_valid.ravel()\n",
    "\n",
    "    fpr, tpr, thresholds = metrics.roc_curve(label_valid, y_hat_valid[:, [1]].ravel(), pos_label=1)\n",
    "    print(\"valid AUC\")\n",
    "    cur_auc = metrics.auc(fpr, tpr)\n",
    "    print(cur_auc)\n",
    "    valid_auc += [cur_auc]\n",
    "    \n",
    "    if cur_auc <= best_valid_auc:\n",
    "        cnt += 1\n",
    "    else:\n",
    "        cnt = 0\n",
    "        best_valid_auc = cur_auc"
   ]
  },
  {
   "cell_type": "code",
   "execution_count": 13,
   "metadata": {},
   "outputs": [
    {
     "data": {
      "text/plain": [
       "[1.0, 1.0, 1.0, 1.0, 1.0]"
      ]
     },
     "execution_count": 13,
     "metadata": {},
     "output_type": "execute_result"
    }
   ],
   "source": [
    "train_auc"
   ]
  },
  {
   "cell_type": "code",
   "execution_count": 14,
   "metadata": {},
   "outputs": [
    {
     "data": {
      "text/plain": [
       "[0.7773493012763251,\n",
       " 0.7786599040106588,\n",
       " 0.7812337507002376,\n",
       " 0.7806387984678043,\n",
       " 0.7807370285696982]"
      ]
     },
     "execution_count": 14,
     "metadata": {},
     "output_type": "execute_result"
    }
   ],
   "source": [
    "valid_auc"
   ]
  },
  {
   "cell_type": "markdown",
   "metadata": {},
   "source": [
    "### Pick the best model when validation auc hasn't increased for two more addings of trees"
   ]
  },
  {
   "cell_type": "code",
   "execution_count": 15,
   "metadata": {},
   "outputs": [
    {
     "name": "stdout",
     "output_type": "stream",
     "text": [
      "n_trees: 300\n"
     ]
    },
    {
     "data": {
      "text/plain": [
       "RandomForestClassifier(class_weight={0: 3854, 1: 19270}, n_estimators=300,\n",
       "                       random_state=0)"
      ]
     },
     "execution_count": 15,
     "metadata": {},
     "output_type": "execute_result"
    }
   ],
   "source": [
    "n_trees = 100*3\n",
    "\n",
    "print(\"n_trees:\", n_trees)\n",
    "clf = RandomForestClassifier(class_weight={0:3854,1:19270}, \n",
    "                             n_estimators=n_trees,\n",
    "                             random_state=0)\n",
    "\n",
    "clf.fit(encoded_train, label_train)"
   ]
  },
  {
   "cell_type": "code",
   "execution_count": 16,
   "metadata": {},
   "outputs": [
    {
     "name": "stdout",
     "output_type": "stream",
     "text": [
      "train AUC\n",
      "1.0\n",
      "valid AUC\n",
      "0.7812337507002376\n",
      "test AUC\n",
      "0.772590825496647\n"
     ]
    }
   ],
   "source": [
    "y_hat_train = clf.predict_proba(encoded_train)\n",
    "\n",
    "fpr, tpr, thresholds = metrics.roc_curve(label_train, y_hat_train[:, [1]].ravel(), pos_label=1)\n",
    "print(\"train AUC\")\n",
    "cur_auc = metrics.auc(fpr, tpr)\n",
    "print(cur_auc)\n",
    "\n",
    "\n",
    "y_hat_valid = clf.predict_proba(encoded_valid)\n",
    "label_valid = y2_valid.ravel()\n",
    "\n",
    "fpr, tpr, thresholds = metrics.roc_curve(label_valid, y_hat_valid[:, [1]].ravel(), pos_label=1)\n",
    "print(\"valid AUC\")\n",
    "cur_auc = metrics.auc(fpr, tpr)\n",
    "print(cur_auc)\n",
    "\n",
    "\n",
    "y_hat_test_pos = clf.predict_proba(encoded_test_pos)\n",
    "y_hat_test_neg = clf.predict_proba(encoded_test_neg)\n",
    "\n",
    "y_test = np.array([1 for _ in range(encoded_test_pos.shape[0])] + [0 for _ in range(encoded_test_neg.shape[0])])\n",
    "y_hat_test = np.concatenate((y_hat_test_pos[:, [1]].ravel(), \n",
    "                             y_hat_test_neg[:, [1]].ravel()))\n",
    "\n",
    "fpr, tpr, thresholds = metrics.roc_curve(y_test, y_hat_test, pos_label=1)\n",
    "print(\"test AUC\")\n",
    "cur_auc = metrics.auc(fpr, tpr)\n",
    "print(cur_auc)"
   ]
  },
  {
   "cell_type": "code",
   "execution_count": null,
   "metadata": {},
   "outputs": [],
   "source": []
  },
  {
   "cell_type": "code",
   "execution_count": 17,
   "metadata": {},
   "outputs": [
    {
     "data": {
      "text/plain": [
       "(54, 2044)"
      ]
     },
     "execution_count": 17,
     "metadata": {},
     "output_type": "execute_result"
    }
   ],
   "source": [
    "szeto_file = \"../data/Szeto_2020/HLA_I_szeto_2020_compatible_pairs.csv\"\n",
    "encoded_szeto = _utils_simplified.get_pure_data_flatten(hla_class, szeto_file, enc_method, False)\n",
    "encoded_szeto.shape"
   ]
  },
  {
   "cell_type": "code",
   "execution_count": 18,
   "metadata": {},
   "outputs": [],
   "source": [
    "y_hat_szeto = clf.predict_proba(encoded_szeto)\n",
    "\n",
    "y_test_szeto = np.array([1 for _ in range(encoded_szeto.shape[0])] + [0 for _ in range(encoded_test_neg.shape[0])])\n",
    "y_hat_test_szeto = np.concatenate((y_hat_szeto[:, [1]].ravel(), \n",
    "                                   y_hat_test_neg[:, [1]].ravel()))"
   ]
  },
  {
   "cell_type": "code",
   "execution_count": 19,
   "metadata": {},
   "outputs": [
    {
     "name": "stdout",
     "output_type": "stream",
     "text": [
      "szeto v.s. negative test AUC\n",
      "0.6785897657782393\n"
     ]
    }
   ],
   "source": [
    "fpr, tpr, thresholds = metrics.roc_curve(y_test_szeto, y_hat_test_szeto, pos_label=1)\n",
    "print(\"szeto v.s. negative test AUC\")\n",
    "cur_auc = metrics.auc(fpr, tpr)\n",
    "print(cur_auc)"
   ]
  },
  {
   "cell_type": "code",
   "execution_count": 20,
   "metadata": {},
   "outputs": [
    {
     "data": {
      "text/plain": [
       "(54, 2)"
      ]
     },
     "execution_count": 20,
     "metadata": {},
     "output_type": "execute_result"
    }
   ],
   "source": [
    "df_szeto = pd.read_csv(szeto_file, sep=\",\", header=0)\n",
    "df_szeto.shape"
   ]
  },
  {
   "cell_type": "code",
   "execution_count": 33,
   "metadata": {},
   "outputs": [],
   "source": [
    "df_szeto['v_allele'] = [x.split(\",\")[0] for x in df_szeto.tcr.tolist()]\n",
    "df_szeto[\"len\"] = [len(x.split(\",\")[1]) for x in df_szeto.tcr.tolist()]\n",
    "df_szeto['random_forest_score'] = y_hat_szeto[:, [1]].ravel()"
   ]
  },
  {
   "cell_type": "code",
   "execution_count": 34,
   "metadata": {},
   "outputs": [],
   "source": [
    "df_test_pos = pd.read_csv(test_pos_file, sep=\",\", header=0)\n",
    "df_test_neg = pd.read_csv(test_neg_file, sep=\",\", header=0)\n",
    "\n",
    "df_test_pos['v_allele'] = [x.split(\",\")[0] for x in df_test_pos.tcr.tolist()]\n",
    "df_test_neg['v_allele'] = [x.split(\",\")[0] for x in df_test_neg.tcr.tolist()]\n",
    "\n",
    "df_test_pos[\"len\"] = [len(x.split(\",\")[1]) for x in df_test_pos.tcr.tolist()]\n",
    "df_test_neg[\"len\"] = [len(x.split(\",\")[1]) for x in df_test_neg.tcr.tolist()]\n",
    "\n",
    "df_test_pos['random_forest_score'] = y_hat_test_pos[:, [1]].ravel()\n",
    "df_test_neg['random_forest_score'] = y_hat_test_neg[:, [1]].ravel()"
   ]
  },
  {
   "cell_type": "code",
   "execution_count": 37,
   "metadata": {},
   "outputs": [],
   "source": [
    "df_szeto.to_csv(\"../results/st3_szeto_random_forest.csv\", index=False)\n",
    "df_test_pos.to_csv(\"../results/st3_test_pos_random_forest.csv\", index=False)\n",
    "df_test_neg.to_csv(\"../results/st3_test_neg_random_forest.csv\", index=False)"
   ]
  },
  {
   "cell_type": "code",
   "execution_count": null,
   "metadata": {},
   "outputs": [],
   "source": []
  }
 ],
 "metadata": {
  "kernelspec": {
   "display_name": "Python 3 (ipykernel)",
   "language": "python",
   "name": "python3"
  },
  "language_info": {
   "codemirror_mode": {
    "name": "ipython",
    "version": 3
   },
   "file_extension": ".py",
   "mimetype": "text/x-python",
   "name": "python",
   "nbconvert_exporter": "python",
   "pygments_lexer": "ipython3",
   "version": "3.9.10"
  }
 },
 "nbformat": 4,
 "nbformat_minor": 4
}
