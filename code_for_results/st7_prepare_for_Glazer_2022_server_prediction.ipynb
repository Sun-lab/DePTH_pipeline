{
 "cells": [
  {
   "cell_type": "markdown",
   "metadata": {},
   "source": [
    "Prepares for the files to get predictions from CLAIRE (Glazer 2022) model on server\n",
    "\n",
    "    -> form pairs between zheng 2021 positive TCRs and 146 HLA-I alleles from kept Chowell 2018 data\n",
    "    -> trying matching HLAs that are not seen in CLAIRE train + valid + test to those appearing among CLAIRE train + valid + test\n",
    "\n",
    "\n",
    "HLA part, need to:\n",
    "\n",
    "    convert the format of HLA-I alleles to those used by Glazer 2022 model on server\n",
    "\n",
    " TCR part, need to:\n",
    " \n",
    "    extract unique TCRs from Zheng 2021\n",
    "    translate v genes from Zheng 2021 to the format as used by Glazer 2022 model on server"
   ]
  },
  {
   "cell_type": "code",
   "execution_count": 1,
   "metadata": {},
   "outputs": [],
   "source": [
    "import pandas as pd\n",
    "import numpy as np\n",
    "\n",
    "from collections import defaultdict\n",
    "from collections import Counter\n",
    "\n",
    "import re\n",
    "import pickle"
   ]
  },
  {
   "cell_type": "code",
   "execution_count": 3,
   "metadata": {},
   "outputs": [],
   "source": [
    "data_dir = \"../data/\""
   ]
  },
  {
   "cell_type": "markdown",
   "metadata": {},
   "source": [
    "### Prepare HLAs"
   ]
  },
  {
   "cell_type": "code",
   "execution_count": 4,
   "metadata": {},
   "outputs": [],
   "source": [
    "df_pseudo = pd.read_csv(data_dir + \"HLA_I_pseudo_40.csv\", header = 0)\n",
    "\n",
    "hla_i_85 = set([\"\".join(re.split('-|\\*|:', x)[1:]) for x in df_pseudo.hla.tolist()])\n",
    "#hla_i_85"
   ]
  },
  {
   "cell_type": "code",
   "execution_count": 6,
   "metadata": {},
   "outputs": [
    {
     "data": {
      "text/plain": [
       "146"
      ]
     },
     "execution_count": 6,
     "metadata": {},
     "output_type": "execute_result"
    }
   ],
   "source": [
    "df_chowell_2018_alleles = pd.read_csv(\"../results/st6_chowell_2018_alleles_for_Glazer_2022.csv\", header = 0)\n",
    "len(set(df_chowell_2018_alleles.hla))"
   ]
  },
  {
   "cell_type": "code",
   "execution_count": 7,
   "metadata": {},
   "outputs": [
    {
     "data": {
      "text/plain": [
       "146"
      ]
     },
     "execution_count": 7,
     "metadata": {},
     "output_type": "execute_result"
    }
   ],
   "source": [
    "hla_union = set(df_chowell_2018_alleles.hla)\n",
    "\n",
    "len(hla_union)"
   ]
  },
  {
   "cell_type": "code",
   "execution_count": 8,
   "metadata": {},
   "outputs": [],
   "source": [
    "hla_full_list = list(hla_union)\n",
    "hla_full_list.sort()"
   ]
  },
  {
   "cell_type": "code",
   "execution_count": 9,
   "metadata": {},
   "outputs": [
    {
     "name": "stdout",
     "output_type": "stream",
     "text": [
      "15060\n",
      "3259\n",
      "3259\n",
      "21578\n"
     ]
    }
   ],
   "source": [
    "# load the pairs provided by Glazer 2022 to get the format of hla alleles and v genes\n",
    "Glazer_data_dir = \"../data/CLAIRE_mcpas_data/TCR-HLA-binding-predictor-for-PTH-datasets/\"\n",
    "\n",
    "train_sample = open(Glazer_data_dir + \"mcpas_train_samples.pickle\", \"rb\")\n",
    "valid_sample = open(Glazer_data_dir + \"mcpas_validation_samples.pickle\", \"rb\")\n",
    "test_sample = open(Glazer_data_dir + \"mcpas_test_samples.pickle\", \"rb\")\n",
    "\n",
    "train_pairs = pickle.load(train_sample)\n",
    "valid_pairs = pickle.load(valid_sample)\n",
    "test_pairs = pickle.load(test_sample)\n",
    "\n",
    "print(len(train_pairs))\n",
    "print(len(valid_pairs))\n",
    "print(len(test_pairs))\n",
    "\n",
    "all_pairs = train_pairs + valid_pairs + test_pairs\n",
    "\n",
    "print(len(all_pairs))\n",
    "\n",
    "tcrb_all = [x['tcrb'] for x in all_pairs]\n",
    "vb_all = [x['vb'] for x in all_pairs]\n",
    "mhc_all = [x['mhc'] for x in all_pairs]"
   ]
  },
  {
   "cell_type": "code",
   "execution_count": 10,
   "metadata": {},
   "outputs": [
    {
     "data": {
      "text/plain": [
       "{'HLA-A01:01',\n",
       " 'HLA-A02:01',\n",
       " 'HLA-A02:02',\n",
       " 'HLA-A02:03',\n",
       " 'HLA-A02:04',\n",
       " 'HLA-A02:05',\n",
       " 'HLA-A02:06',\n",
       " 'HLA-A02:07',\n",
       " 'HLA-A02:08',\n",
       " 'HLA-A02:09',\n",
       " 'HLA-A02:10',\n",
       " 'HLA-A02:11',\n",
       " 'HLA-A02:12',\n",
       " 'HLA-A02:13',\n",
       " 'HLA-A02:14',\n",
       " 'HLA-A02:15',\n",
       " 'HLA-A02:16',\n",
       " 'HLA-A02:17',\n",
       " 'HLA-A11:01',\n",
       " 'HLA-A24:02',\n",
       " 'HLA-B07:01',\n",
       " 'HLA-B07:02',\n",
       " 'HLA-B08:01',\n",
       " 'HLA-B14:01',\n",
       " 'HLA-B15:01',\n",
       " 'HLA-B27:01',\n",
       " 'HLA-B27:05',\n",
       " 'HLA-B35:01',\n",
       " 'HLA-B35:02',\n",
       " 'HLA-B42:01',\n",
       " 'HLA-B44:05',\n",
       " 'HLA-B57:01',\n",
       " 'HLA-B57:03',\n",
       " 'HLA-C07:02',\n",
       " 'HLA-C16:01',\n",
       " 'HLA-DQ01:01',\n",
       " 'HLA-DQ01:06',\n",
       " 'HLA-DQ02:01',\n",
       " 'HLA-DQ02:05',\n",
       " 'HLA-DQ05:01',\n",
       " 'HLA-DQ08:01',\n",
       " 'HLA-DR01:01',\n",
       " 'HLA-DR01:04',\n",
       " 'HLA-DR01:15',\n",
       " 'HLA-DR03:02',\n",
       " 'HLA-DR04:01',\n",
       " 'HLA-DR05:01',\n",
       " 'HLA-DR11:01',\n",
       " 'HLA-DR15:01'}"
      ]
     },
     "execution_count": 10,
     "metadata": {},
     "output_type": "execute_result"
    }
   ],
   "source": [
    "set(mhc_all)"
   ]
  },
  {
   "cell_type": "code",
   "execution_count": 11,
   "metadata": {},
   "outputs": [
    {
     "name": "stdout",
     "output_type": "stream",
     "text": [
      "146\n"
     ]
    },
    {
     "data": {
      "text/plain": [
       "['HLA-A01:01',\n",
       " 'HLA-A01:02',\n",
       " 'HLA-A01:03',\n",
       " 'HLA-A02:01',\n",
       " 'HLA-A02:02',\n",
       " 'HLA-A02:03']"
      ]
     },
     "execution_count": 11,
     "metadata": {},
     "output_type": "execute_result"
    }
   ],
   "source": [
    "# convert hla_full_list to the format as in mhc_all\n",
    "\n",
    "hla_full_list_Glazer_format = [\"HLA-\"+x[:3]+\":\"+x[3:] for x in hla_full_list]\n",
    "\n",
    "print(len(hla_full_list_Glazer_format))\n",
    "hla_full_list_Glazer_format[:6]"
   ]
  },
  {
   "cell_type": "code",
   "execution_count": 12,
   "metadata": {},
   "outputs": [
    {
     "data": {
      "text/plain": [
       "{'HLA-A02:04',\n",
       " 'HLA-A02:08',\n",
       " 'HLA-A02:09',\n",
       " 'HLA-A02:10',\n",
       " 'HLA-A02:11',\n",
       " 'HLA-A02:12',\n",
       " 'HLA-A02:13',\n",
       " 'HLA-A02:14',\n",
       " 'HLA-A02:15',\n",
       " 'HLA-A02:16',\n",
       " 'HLA-B07:01',\n",
       " 'HLA-B27:01',\n",
       " 'HLA-B42:01',\n",
       " 'HLA-DQ01:01',\n",
       " 'HLA-DQ01:06',\n",
       " 'HLA-DQ02:01',\n",
       " 'HLA-DQ02:05',\n",
       " 'HLA-DQ05:01',\n",
       " 'HLA-DQ08:01',\n",
       " 'HLA-DR01:01',\n",
       " 'HLA-DR01:04',\n",
       " 'HLA-DR01:15',\n",
       " 'HLA-DR03:02',\n",
       " 'HLA-DR04:01',\n",
       " 'HLA-DR05:01',\n",
       " 'HLA-DR11:01',\n",
       " 'HLA-DR15:01'}"
      ]
     },
     "execution_count": 12,
     "metadata": {},
     "output_type": "execute_result"
    }
   ],
   "source": [
    "set(mhc_all) - set(hla_full_list_Glazer_format)"
   ]
  },
  {
   "cell_type": "code",
   "execution_count": 13,
   "metadata": {},
   "outputs": [
    {
     "data": {
      "text/plain": [
       "{'HLA-A01:02',\n",
       " 'HLA-A01:03',\n",
       " 'HLA-A03:01',\n",
       " 'HLA-A03:02',\n",
       " 'HLA-A03:05',\n",
       " 'HLA-A11:02',\n",
       " 'HLA-A11:04',\n",
       " 'HLA-A23:01',\n",
       " 'HLA-A24:03',\n",
       " 'HLA-A24:07',\n",
       " 'HLA-A24:21',\n",
       " 'HLA-A24:26',\n",
       " 'HLA-A25:01',\n",
       " 'HLA-A26:01',\n",
       " 'HLA-A26:02',\n",
       " 'HLA-A26:08',\n",
       " 'HLA-A29:01',\n",
       " 'HLA-A29:02',\n",
       " 'HLA-A30:01',\n",
       " 'HLA-A30:02',\n",
       " 'HLA-A30:04',\n",
       " 'HLA-A30:10',\n",
       " 'HLA-A31:01',\n",
       " 'HLA-A32:01',\n",
       " 'HLA-A33:01',\n",
       " 'HLA-A33:03',\n",
       " 'HLA-A34:01',\n",
       " 'HLA-A34:02',\n",
       " 'HLA-A66:01',\n",
       " 'HLA-A66:02',\n",
       " 'HLA-A68:01',\n",
       " 'HLA-A68:02',\n",
       " 'HLA-A68:10',\n",
       " 'HLA-B07:04',\n",
       " 'HLA-B07:05',\n",
       " 'HLA-B13:01',\n",
       " 'HLA-B13:02',\n",
       " 'HLA-B14:02',\n",
       " 'HLA-B15:02',\n",
       " 'HLA-B15:03',\n",
       " 'HLA-B15:05',\n",
       " 'HLA-B15:07',\n",
       " 'HLA-B15:08',\n",
       " 'HLA-B15:09',\n",
       " 'HLA-B15:10',\n",
       " 'HLA-B15:12',\n",
       " 'HLA-B15:16',\n",
       " 'HLA-B15:17',\n",
       " 'HLA-B15:18',\n",
       " 'HLA-B15:25',\n",
       " 'HLA-B15:27',\n",
       " 'HLA-B18:01',\n",
       " 'HLA-B18:03',\n",
       " 'HLA-B27:02',\n",
       " 'HLA-B27:03',\n",
       " 'HLA-B27:04',\n",
       " 'HLA-B35:03',\n",
       " 'HLA-B35:05',\n",
       " 'HLA-B35:08',\n",
       " 'HLA-B37:01',\n",
       " 'HLA-B38:01',\n",
       " 'HLA-B38:02',\n",
       " 'HLA-B39:01',\n",
       " 'HLA-B39:02',\n",
       " 'HLA-B39:06',\n",
       " 'HLA-B39:10',\n",
       " 'HLA-B39:24',\n",
       " 'HLA-B40:01',\n",
       " 'HLA-B40:02',\n",
       " 'HLA-B40:03',\n",
       " 'HLA-B40:04',\n",
       " 'HLA-B40:06',\n",
       " 'HLA-B41:01',\n",
       " 'HLA-B41:02',\n",
       " 'HLA-B44:02',\n",
       " 'HLA-B44:03',\n",
       " 'HLA-B45:01',\n",
       " 'HLA-B48:01',\n",
       " 'HLA-B49:01',\n",
       " 'HLA-B50:01',\n",
       " 'HLA-B51:01',\n",
       " 'HLA-B51:02',\n",
       " 'HLA-B51:07',\n",
       " 'HLA-B51:08',\n",
       " 'HLA-B52:01',\n",
       " 'HLA-B53:01',\n",
       " 'HLA-B55:01',\n",
       " 'HLA-B55:02',\n",
       " 'HLA-B56:01',\n",
       " 'HLA-B56:04',\n",
       " 'HLA-B57:02',\n",
       " 'HLA-B58:01',\n",
       " 'HLA-B58:02',\n",
       " 'HLA-C01:02',\n",
       " 'HLA-C01:03',\n",
       " 'HLA-C02:02',\n",
       " 'HLA-C02:10',\n",
       " 'HLA-C03:02',\n",
       " 'HLA-C03:03',\n",
       " 'HLA-C03:04',\n",
       " 'HLA-C03:05',\n",
       " 'HLA-C04:01',\n",
       " 'HLA-C04:03',\n",
       " 'HLA-C04:04',\n",
       " 'HLA-C05:01',\n",
       " 'HLA-C06:02',\n",
       " 'HLA-C07:01',\n",
       " 'HLA-C07:04',\n",
       " 'HLA-C07:06',\n",
       " 'HLA-C07:18',\n",
       " 'HLA-C08:01',\n",
       " 'HLA-C08:02',\n",
       " 'HLA-C08:03',\n",
       " 'HLA-C08:04',\n",
       " 'HLA-C12:02',\n",
       " 'HLA-C12:03',\n",
       " 'HLA-C14:02',\n",
       " 'HLA-C14:03',\n",
       " 'HLA-C15:02',\n",
       " 'HLA-C15:04',\n",
       " 'HLA-C15:05',\n",
       " 'HLA-C16:02',\n",
       " 'HLA-C16:04',\n",
       " 'HLA-C17:01'}"
      ]
     },
     "execution_count": 13,
     "metadata": {},
     "output_type": "execute_result"
    }
   ],
   "source": [
    "set(hla_full_list_Glazer_format) - set(mhc_all)"
   ]
  },
  {
   "cell_type": "code",
   "execution_count": 14,
   "metadata": {},
   "outputs": [
    {
     "data": {
      "text/plain": [
       "124"
      ]
     },
     "execution_count": 14,
     "metadata": {},
     "output_type": "execute_result"
    }
   ],
   "source": [
    "hlas_need_match = list(set(hla_full_list_Glazer_format) - set(mhc_all))\n",
    "hlas_need_match.sort()\n",
    "len(hlas_need_match)"
   ]
  },
  {
   "cell_type": "code",
   "execution_count": 15,
   "metadata": {},
   "outputs": [
    {
     "data": {
      "text/plain": [
       "['HLA-A01:02',\n",
       " 'HLA-A01:03',\n",
       " 'HLA-A03:01',\n",
       " 'HLA-A03:02',\n",
       " 'HLA-A03:05',\n",
       " 'HLA-A11:02',\n",
       " 'HLA-A11:04',\n",
       " 'HLA-A23:01',\n",
       " 'HLA-A24:03',\n",
       " 'HLA-A24:07',\n",
       " 'HLA-A24:21',\n",
       " 'HLA-A24:26',\n",
       " 'HLA-A25:01',\n",
       " 'HLA-A26:01',\n",
       " 'HLA-A26:02',\n",
       " 'HLA-A26:08',\n",
       " 'HLA-A29:01',\n",
       " 'HLA-A29:02',\n",
       " 'HLA-A30:01',\n",
       " 'HLA-A30:02',\n",
       " 'HLA-A30:04',\n",
       " 'HLA-A30:10',\n",
       " 'HLA-A31:01',\n",
       " 'HLA-A32:01',\n",
       " 'HLA-A33:01',\n",
       " 'HLA-A33:03',\n",
       " 'HLA-A34:01',\n",
       " 'HLA-A34:02',\n",
       " 'HLA-A66:01',\n",
       " 'HLA-A66:02',\n",
       " 'HLA-A68:01',\n",
       " 'HLA-A68:02',\n",
       " 'HLA-A68:10',\n",
       " 'HLA-B07:04',\n",
       " 'HLA-B07:05',\n",
       " 'HLA-B13:01',\n",
       " 'HLA-B13:02',\n",
       " 'HLA-B14:02',\n",
       " 'HLA-B15:02',\n",
       " 'HLA-B15:03',\n",
       " 'HLA-B15:05',\n",
       " 'HLA-B15:07',\n",
       " 'HLA-B15:08',\n",
       " 'HLA-B15:09',\n",
       " 'HLA-B15:10',\n",
       " 'HLA-B15:12',\n",
       " 'HLA-B15:16',\n",
       " 'HLA-B15:17',\n",
       " 'HLA-B15:18',\n",
       " 'HLA-B15:25',\n",
       " 'HLA-B15:27',\n",
       " 'HLA-B18:01',\n",
       " 'HLA-B18:03',\n",
       " 'HLA-B27:02',\n",
       " 'HLA-B27:03',\n",
       " 'HLA-B27:04',\n",
       " 'HLA-B35:03',\n",
       " 'HLA-B35:05',\n",
       " 'HLA-B35:08',\n",
       " 'HLA-B37:01',\n",
       " 'HLA-B38:01',\n",
       " 'HLA-B38:02',\n",
       " 'HLA-B39:01',\n",
       " 'HLA-B39:02',\n",
       " 'HLA-B39:06',\n",
       " 'HLA-B39:10',\n",
       " 'HLA-B39:24',\n",
       " 'HLA-B40:01',\n",
       " 'HLA-B40:02',\n",
       " 'HLA-B40:03',\n",
       " 'HLA-B40:04',\n",
       " 'HLA-B40:06',\n",
       " 'HLA-B41:01',\n",
       " 'HLA-B41:02',\n",
       " 'HLA-B44:02',\n",
       " 'HLA-B44:03',\n",
       " 'HLA-B45:01',\n",
       " 'HLA-B48:01',\n",
       " 'HLA-B49:01',\n",
       " 'HLA-B50:01',\n",
       " 'HLA-B51:01',\n",
       " 'HLA-B51:02',\n",
       " 'HLA-B51:07',\n",
       " 'HLA-B51:08',\n",
       " 'HLA-B52:01',\n",
       " 'HLA-B53:01',\n",
       " 'HLA-B55:01',\n",
       " 'HLA-B55:02',\n",
       " 'HLA-B56:01',\n",
       " 'HLA-B56:04',\n",
       " 'HLA-B57:02',\n",
       " 'HLA-B58:01',\n",
       " 'HLA-B58:02',\n",
       " 'HLA-C01:02',\n",
       " 'HLA-C01:03',\n",
       " 'HLA-C02:02',\n",
       " 'HLA-C02:10',\n",
       " 'HLA-C03:02',\n",
       " 'HLA-C03:03',\n",
       " 'HLA-C03:04',\n",
       " 'HLA-C03:05',\n",
       " 'HLA-C04:01',\n",
       " 'HLA-C04:03',\n",
       " 'HLA-C04:04',\n",
       " 'HLA-C05:01',\n",
       " 'HLA-C06:02',\n",
       " 'HLA-C07:01',\n",
       " 'HLA-C07:04',\n",
       " 'HLA-C07:06',\n",
       " 'HLA-C07:18',\n",
       " 'HLA-C08:01',\n",
       " 'HLA-C08:02',\n",
       " 'HLA-C08:03',\n",
       " 'HLA-C08:04',\n",
       " 'HLA-C12:02',\n",
       " 'HLA-C12:03',\n",
       " 'HLA-C14:02',\n",
       " 'HLA-C14:03',\n",
       " 'HLA-C15:02',\n",
       " 'HLA-C15:04',\n",
       " 'HLA-C15:05',\n",
       " 'HLA-C16:02',\n",
       " 'HLA-C16:04',\n",
       " 'HLA-C17:01']"
      ]
     },
     "execution_count": 15,
     "metadata": {},
     "output_type": "execute_result"
    }
   ],
   "source": [
    "hlas_need_match"
   ]
  },
  {
   "cell_type": "markdown",
   "metadata": {},
   "source": [
    "### find matches for these HLAs from the HLAs appearing in CLAIRE train + valid + test data"
   ]
  },
  {
   "cell_type": "code",
   "execution_count": 16,
   "metadata": {},
   "outputs": [
    {
     "name": "stdout",
     "output_type": "stream",
     "text": [
      "49\n"
     ]
    },
    {
     "data": {
      "text/plain": [
       "['HLA-A01:01',\n",
       " 'HLA-A02:01',\n",
       " 'HLA-A02:02',\n",
       " 'HLA-A02:03',\n",
       " 'HLA-A02:04',\n",
       " 'HLA-A02:05',\n",
       " 'HLA-A02:06',\n",
       " 'HLA-A02:07',\n",
       " 'HLA-A02:08',\n",
       " 'HLA-A02:09',\n",
       " 'HLA-A02:10',\n",
       " 'HLA-A02:11',\n",
       " 'HLA-A02:12',\n",
       " 'HLA-A02:13',\n",
       " 'HLA-A02:14',\n",
       " 'HLA-A02:15',\n",
       " 'HLA-A02:16',\n",
       " 'HLA-A02:17',\n",
       " 'HLA-A11:01',\n",
       " 'HLA-A24:02',\n",
       " 'HLA-B07:01',\n",
       " 'HLA-B07:02',\n",
       " 'HLA-B08:01',\n",
       " 'HLA-B14:01',\n",
       " 'HLA-B15:01',\n",
       " 'HLA-B27:01',\n",
       " 'HLA-B27:05',\n",
       " 'HLA-B35:01',\n",
       " 'HLA-B35:02',\n",
       " 'HLA-B42:01',\n",
       " 'HLA-B44:05',\n",
       " 'HLA-B57:01',\n",
       " 'HLA-B57:03',\n",
       " 'HLA-C07:02',\n",
       " 'HLA-C16:01',\n",
       " 'HLA-DQ01:01',\n",
       " 'HLA-DQ01:06',\n",
       " 'HLA-DQ02:01',\n",
       " 'HLA-DQ02:05',\n",
       " 'HLA-DQ05:01',\n",
       " 'HLA-DQ08:01',\n",
       " 'HLA-DR01:01',\n",
       " 'HLA-DR01:04',\n",
       " 'HLA-DR01:15',\n",
       " 'HLA-DR03:02',\n",
       " 'HLA-DR04:01',\n",
       " 'HLA-DR05:01',\n",
       " 'HLA-DR11:01',\n",
       " 'HLA-DR15:01']"
      ]
     },
     "execution_count": 16,
     "metadata": {},
     "output_type": "execute_result"
    }
   ],
   "source": [
    "# all hlas from train + valid + test claire data\n",
    "claire_mhc_all_list = list(set(mhc_all))\n",
    "claire_mhc_all_list.sort()\n",
    "print(len(claire_mhc_all_list))\n",
    "claire_mhc_all_list"
   ]
  },
  {
   "cell_type": "code",
   "execution_count": 17,
   "metadata": {},
   "outputs": [
    {
     "name": "stdout",
     "output_type": "stream",
     "text": [
      "35\n"
     ]
    },
    {
     "data": {
      "text/plain": [
       "['HLA-A01:01',\n",
       " 'HLA-A02:01',\n",
       " 'HLA-A02:02',\n",
       " 'HLA-A02:03',\n",
       " 'HLA-A02:04',\n",
       " 'HLA-A02:05',\n",
       " 'HLA-A02:06',\n",
       " 'HLA-A02:07',\n",
       " 'HLA-A02:08',\n",
       " 'HLA-A02:09',\n",
       " 'HLA-A02:10',\n",
       " 'HLA-A02:11',\n",
       " 'HLA-A02:12',\n",
       " 'HLA-A02:13',\n",
       " 'HLA-A02:14',\n",
       " 'HLA-A02:15',\n",
       " 'HLA-A02:16',\n",
       " 'HLA-A02:17',\n",
       " 'HLA-A11:01',\n",
       " 'HLA-A24:02',\n",
       " 'HLA-B07:01',\n",
       " 'HLA-B07:02',\n",
       " 'HLA-B08:01',\n",
       " 'HLA-B14:01',\n",
       " 'HLA-B15:01',\n",
       " 'HLA-B27:01',\n",
       " 'HLA-B27:05',\n",
       " 'HLA-B35:01',\n",
       " 'HLA-B35:02',\n",
       " 'HLA-B42:01',\n",
       " 'HLA-B44:05',\n",
       " 'HLA-B57:01',\n",
       " 'HLA-B57:03',\n",
       " 'HLA-C07:02',\n",
       " 'HLA-C16:01']"
      ]
     },
     "execution_count": 17,
     "metadata": {},
     "output_type": "execute_result"
    }
   ],
   "source": [
    "# only hla i\n",
    "claire_mhc_i = [x for x in claire_mhc_all_list if x[4]!= \"D\"]\n",
    "print(len(claire_mhc_i))\n",
    "claire_mhc_i"
   ]
  },
  {
   "cell_type": "code",
   "execution_count": 18,
   "metadata": {},
   "outputs": [
    {
     "data": {
      "text/plain": [
       "defaultdict(str,\n",
       "            {'HLA-B27': 'HLA-B27:01',\n",
       "             'HLA-A24': 'HLA-A24:02',\n",
       "             'HLA-B14': 'HLA-B14:01',\n",
       "             'HLA-B15': 'HLA-B15:01',\n",
       "             'HLA-A02': 'HLA-A02:01',\n",
       "             'HLA-B42': 'HLA-B42:01',\n",
       "             'HLA-B35': 'HLA-B35:01',\n",
       "             'HLA-C07': 'HLA-C07:02',\n",
       "             'HLA-A11': 'HLA-A11:01',\n",
       "             'HLA-B08': 'HLA-B08:01',\n",
       "             'HLA-C16': 'HLA-C16:01',\n",
       "             'HLA-B07': 'HLA-B07:01',\n",
       "             'HLA-B57': 'HLA-B57:01',\n",
       "             'HLA-A01': 'HLA-A01:01',\n",
       "             'HLA-B44': 'HLA-B44:05'})"
      ]
     },
     "execution_count": 18,
     "metadata": {},
     "output_type": "execute_result"
    }
   ],
   "source": [
    "# build a dictionary\n",
    "# the key being the two digit HLAs from the HLA-I alleles appearing in \n",
    "# train + valid + test data of claire\n",
    "# the value being the first four digit HLA for each two digits\n",
    "\n",
    "two_digit_dict = defaultdict(str)\n",
    "\n",
    "all_two_digits = list(set([x[:7] for x in claire_mhc_i]))\n",
    "\n",
    "for a01 in all_two_digits:\n",
    "    \n",
    "    cur_list = [x for x in claire_mhc_i if x[:7]==a01]\n",
    "    \n",
    "    cur_list.sort()\n",
    "    \n",
    "    two_digit_dict[a01] = cur_list[0]\n",
    "    \n",
    "\n",
    "two_digit_dict"
   ]
  },
  {
   "cell_type": "code",
   "execution_count": 19,
   "metadata": {},
   "outputs": [
    {
     "data": {
      "text/plain": [
       "15"
      ]
     },
     "execution_count": 19,
     "metadata": {},
     "output_type": "execute_result"
    }
   ],
   "source": [
    "len(two_digit_dict)"
   ]
  },
  {
   "cell_type": "code",
   "execution_count": 20,
   "metadata": {},
   "outputs": [
    {
     "data": {
      "text/plain": [
       "39"
      ]
     },
     "execution_count": 20,
     "metadata": {},
     "output_type": "execute_result"
    }
   ],
   "source": [
    "# from the hlas needing matching, \n",
    "# find out those that can have a match from claire train + valid + test data\n",
    "\n",
    "hlas_with_match = [x for x in hlas_need_match if x[:7] in two_digit_dict]\n",
    "len(hlas_with_match)"
   ]
  },
  {
   "cell_type": "code",
   "execution_count": 21,
   "metadata": {},
   "outputs": [
    {
     "data": {
      "text/plain": [
       "85"
      ]
     },
     "execution_count": 21,
     "metadata": {},
     "output_type": "execute_result"
    }
   ],
   "source": [
    "len(set(hlas_need_match) - set(hlas_with_match))"
   ]
  },
  {
   "cell_type": "code",
   "execution_count": 22,
   "metadata": {},
   "outputs": [],
   "source": [
    "# define a function to convert the HLAs\n",
    "\n",
    "claire_mhc_i_set = set(claire_mhc_i)\n",
    "\n",
    "def match_hla_from_claire(x):\n",
    "    if x in claire_mhc_i_set:\n",
    "        return x\n",
    "    elif x[:7] in two_digit_dict:\n",
    "        return two_digit_dict[x[:7]]\n",
    "    else:\n",
    "        return x"
   ]
  },
  {
   "cell_type": "code",
   "execution_count": 23,
   "metadata": {},
   "outputs": [
    {
     "data": {
      "text/plain": [
       "'HLA-A01:01'"
      ]
     },
     "execution_count": 23,
     "metadata": {},
     "output_type": "execute_result"
    }
   ],
   "source": [
    "match_hla_from_claire('HLA-A01:02')"
   ]
  },
  {
   "cell_type": "code",
   "execution_count": 24,
   "metadata": {},
   "outputs": [
    {
     "data": {
      "text/plain": [
       "'HLA-A03:01'"
      ]
     },
     "execution_count": 24,
     "metadata": {},
     "output_type": "execute_result"
    }
   ],
   "source": [
    "match_hla_from_claire('HLA-A03:01')"
   ]
  },
  {
   "cell_type": "code",
   "execution_count": 25,
   "metadata": {},
   "outputs": [
    {
     "data": {
      "text/plain": [
       "'HLA-A02:03'"
      ]
     },
     "execution_count": 25,
     "metadata": {},
     "output_type": "execute_result"
    }
   ],
   "source": [
    "match_hla_from_claire('HLA-A02:03')"
   ]
  },
  {
   "cell_type": "code",
   "execution_count": 26,
   "metadata": {},
   "outputs": [
    {
     "data": {
      "text/plain": [
       "109"
      ]
     },
     "execution_count": 26,
     "metadata": {},
     "output_type": "execute_result"
    }
   ],
   "source": [
    "hla_full_list_Glazer_format_convert = \\\n",
    "[match_hla_from_claire(x) for x in hla_full_list_Glazer_format]\n",
    "\n",
    "len(set(hla_full_list_Glazer_format_convert))"
   ]
  },
  {
   "cell_type": "code",
   "execution_count": 27,
   "metadata": {},
   "outputs": [
    {
     "data": {
      "text/plain": [
       "37"
      ]
     },
     "execution_count": 27,
     "metadata": {},
     "output_type": "execute_result"
    }
   ],
   "source": [
    "len(hla_full_list_Glazer_format) - len(set(hla_full_list_Glazer_format_convert))"
   ]
  },
  {
   "cell_type": "code",
   "execution_count": 28,
   "metadata": {},
   "outputs": [
    {
     "data": {
      "text/plain": [
       "{'HLA-B07:01', 'HLA-B27:01'}"
      ]
     },
     "execution_count": 28,
     "metadata": {},
     "output_type": "execute_result"
    }
   ],
   "source": [
    "# the difference between 39 and 37 is due to that some hlas as value of \n",
    "# match_hla_from_claire did not appear in the overlap between \n",
    "# hla_full_list_Glazer_format & mhc_all\n",
    "\n",
    "set([two_digit_dict[x[:7]] for x in hlas_with_match]) - set(hla_full_list_Glazer_format).intersection(set(mhc_all))"
   ]
  },
  {
   "cell_type": "code",
   "execution_count": 30,
   "metadata": {},
   "outputs": [],
   "source": [
    "# write out the matching between hla_full_list_Glazer_format and \n",
    "# hla_full_list_Glazer_format_convert, for use in later step to assign scores\n",
    "\n",
    "df_hla_translate = pd.DataFrame(list(zip(hla_full_list, \n",
    "                                         hla_full_list_Glazer_format_convert)), \n",
    "                                columns = [\"hla_chowell_146\", \"hla_convert\"])\n",
    "\n",
    "df_hla_translate.to_csv(\"../results/st7_hla_chowell_146_mcpas_convert_39.csv\", index = False)"
   ]
  },
  {
   "cell_type": "code",
   "execution_count": 31,
   "metadata": {},
   "outputs": [
    {
     "data": {
      "text/plain": [
       "109"
      ]
     },
     "execution_count": 31,
     "metadata": {},
     "output_type": "execute_result"
    }
   ],
   "source": [
    "# only keep the unique hlas in hla_full_list_Glazer_format_convert\n",
    "# to reduce the time taken by CLAIRE (Glazer 2022) server to make prediction\n",
    "\n",
    "hla_full_list_Glazer_format_convert_unique = list(set(hla_full_list_Glazer_format_convert))\n",
    "hla_full_list_Glazer_format_convert_unique.sort()\n",
    "len(hla_full_list_Glazer_format_convert_unique)"
   ]
  },
  {
   "cell_type": "code",
   "execution_count": 32,
   "metadata": {},
   "outputs": [
    {
     "data": {
      "text/plain": [
       "22"
      ]
     },
     "execution_count": 32,
     "metadata": {},
     "output_type": "execute_result"
    }
   ],
   "source": [
    "len(set(hla_full_list_Glazer_format).intersection(set(mhc_all)))"
   ]
  },
  {
   "cell_type": "markdown",
   "metadata": {},
   "source": [
    "### Prepare TCRs"
   ]
  },
  {
   "cell_type": "code",
   "execution_count": 37,
   "metadata": {},
   "outputs": [
    {
     "data": {
      "text/plain": [
       "(10008, 1)"
      ]
     },
     "execution_count": 37,
     "metadata": {},
     "output_type": "execute_result"
    }
   ],
   "source": [
    "zheng_2021_pos_tcrs = pd.read_csv(\"../data/Zheng_2021/TCRs_CD8_pos_1_with_v_gene_weighted.csv\", header = 0)\n",
    "zheng_2021_pos_tcrs.shape"
   ]
  },
  {
   "cell_type": "code",
   "execution_count": 39,
   "metadata": {},
   "outputs": [
    {
     "data": {
      "text/html": [
       "<div>\n",
       "<style scoped>\n",
       "    .dataframe tbody tr th:only-of-type {\n",
       "        vertical-align: middle;\n",
       "    }\n",
       "\n",
       "    .dataframe tbody tr th {\n",
       "        vertical-align: top;\n",
       "    }\n",
       "\n",
       "    .dataframe thead th {\n",
       "        text-align: right;\n",
       "    }\n",
       "</style>\n",
       "<table border=\"1\" class=\"dataframe\">\n",
       "  <thead>\n",
       "    <tr style=\"text-align: right;\">\n",
       "      <th></th>\n",
       "      <th>tcr</th>\n",
       "    </tr>\n",
       "  </thead>\n",
       "  <tbody>\n",
       "    <tr>\n",
       "      <th>0</th>\n",
       "      <td>TRBV13,CASSLTGNEQFF</td>\n",
       "    </tr>\n",
       "    <tr>\n",
       "      <th>1</th>\n",
       "      <td>TRBV13,CASSLTGNEQFF</td>\n",
       "    </tr>\n",
       "  </tbody>\n",
       "</table>\n",
       "</div>"
      ],
      "text/plain": [
       "                   tcr\n",
       "0  TRBV13,CASSLTGNEQFF\n",
       "1  TRBV13,CASSLTGNEQFF"
      ]
     },
     "execution_count": 39,
     "metadata": {},
     "output_type": "execute_result"
    }
   ],
   "source": [
    "zheng_2021_pos_tcrs[:2]"
   ]
  },
  {
   "cell_type": "code",
   "execution_count": 40,
   "metadata": {},
   "outputs": [
    {
     "data": {
      "text/html": [
       "<div>\n",
       "<style scoped>\n",
       "    .dataframe tbody tr th:only-of-type {\n",
       "        vertical-align: middle;\n",
       "    }\n",
       "\n",
       "    .dataframe tbody tr th {\n",
       "        vertical-align: top;\n",
       "    }\n",
       "\n",
       "    .dataframe thead th {\n",
       "        text-align: right;\n",
       "    }\n",
       "</style>\n",
       "<table border=\"1\" class=\"dataframe\">\n",
       "  <thead>\n",
       "    <tr style=\"text-align: right;\">\n",
       "      <th></th>\n",
       "      <th>tcr</th>\n",
       "      <th>v</th>\n",
       "      <th>aa</th>\n",
       "    </tr>\n",
       "  </thead>\n",
       "  <tbody>\n",
       "    <tr>\n",
       "      <th>0</th>\n",
       "      <td>TRBV13,CASSLTGNEQFF</td>\n",
       "      <td>TRBV13</td>\n",
       "      <td>CASSLTGNEQFF</td>\n",
       "    </tr>\n",
       "    <tr>\n",
       "      <th>1</th>\n",
       "      <td>TRBV13,CASSLTGNEQFF</td>\n",
       "      <td>TRBV13</td>\n",
       "      <td>CASSLTGNEQFF</td>\n",
       "    </tr>\n",
       "  </tbody>\n",
       "</table>\n",
       "</div>"
      ],
      "text/plain": [
       "                   tcr       v            aa\n",
       "0  TRBV13,CASSLTGNEQFF  TRBV13  CASSLTGNEQFF\n",
       "1  TRBV13,CASSLTGNEQFF  TRBV13  CASSLTGNEQFF"
      ]
     },
     "execution_count": 40,
     "metadata": {},
     "output_type": "execute_result"
    }
   ],
   "source": [
    "zheng_2021_pos_tcrs['v'] = [x.split(\",\")[0] for x in zheng_2021_pos_tcrs.tcr.tolist()]\n",
    "zheng_2021_pos_tcrs['aa'] = [x.split(\",\")[1] for x in zheng_2021_pos_tcrs.tcr.tolist()]\n",
    "\n",
    "zheng_2021_pos_tcrs[:2]"
   ]
  },
  {
   "cell_type": "code",
   "execution_count": 41,
   "metadata": {},
   "outputs": [
    {
     "data": {
      "text/plain": [
       "45"
      ]
     },
     "execution_count": 41,
     "metadata": {},
     "output_type": "execute_result"
    }
   ],
   "source": [
    "len(set(zheng_2021_pos_tcrs.v))"
   ]
  },
  {
   "cell_type": "code",
   "execution_count": 42,
   "metadata": {},
   "outputs": [
    {
     "data": {
      "text/plain": [
       "83"
      ]
     },
     "execution_count": 42,
     "metadata": {},
     "output_type": "execute_result"
    }
   ],
   "source": [
    "len(set([x for x in vb_all if x==x]))"
   ]
  },
  {
   "cell_type": "code",
   "execution_count": 43,
   "metadata": {},
   "outputs": [
    {
     "data": {
      "text/plain": [
       "{'TRBV01-01',\n",
       " 'TRBV01-04',\n",
       " 'TRBV01-05',\n",
       " 'TRBV02-01',\n",
       " 'TRBV02-02',\n",
       " 'TRBV02-03',\n",
       " 'TRBV02-05',\n",
       " 'TRBV02-06',\n",
       " 'TRBV02-07',\n",
       " 'TRBV03-01',\n",
       " 'TRBV03-02',\n",
       " 'TRBV04-01',\n",
       " 'TRBV04-02',\n",
       " 'TRBV04-03',\n",
       " 'TRBV05-01',\n",
       " 'TRBV05-02',\n",
       " 'TRBV05-03',\n",
       " 'TRBV05-04',\n",
       " 'TRBV05-05',\n",
       " 'TRBV05-06',\n",
       " 'TRBV05-07',\n",
       " 'TRBV05-08',\n",
       " 'TRBV06-01',\n",
       " 'TRBV06-02',\n",
       " 'TRBV06-03',\n",
       " 'TRBV06-04',\n",
       " 'TRBV06-05',\n",
       " 'TRBV06-06',\n",
       " 'TRBV06-07',\n",
       " 'TRBV06-08',\n",
       " 'TRBV06-09',\n",
       " 'TRBV07-01',\n",
       " 'TRBV07-02',\n",
       " 'TRBV07-03',\n",
       " 'TRBV07-04',\n",
       " 'TRBV07-05',\n",
       " 'TRBV07-06',\n",
       " 'TRBV07-07',\n",
       " 'TRBV07-08',\n",
       " 'TRBV07-09',\n",
       " 'TRBV08-01',\n",
       " 'TRBV08-02',\n",
       " 'TRBV08-03',\n",
       " 'TRBV08-04',\n",
       " 'TRBV09-01',\n",
       " 'TRBV09-02',\n",
       " 'TRBV10-01',\n",
       " 'TRBV10-02',\n",
       " 'TRBV10-03',\n",
       " 'TRBV11-01',\n",
       " 'TRBV11-02',\n",
       " 'TRBV11-03',\n",
       " 'TRBV12-01',\n",
       " 'TRBV12-02',\n",
       " 'TRBV12-03',\n",
       " 'TRBV12-04',\n",
       " 'TRBV12-05',\n",
       " 'TRBV13-01',\n",
       " 'TRBV13-02',\n",
       " 'TRBV13-06',\n",
       " 'TRBV14-01',\n",
       " 'TRBV15-01',\n",
       " 'TRBV15-02',\n",
       " 'TRBV16-01',\n",
       " 'TRBV17-01',\n",
       " 'TRBV18-01',\n",
       " 'TRBV19-01',\n",
       " 'TRBV20-01',\n",
       " 'TRBV201-01',\n",
       " 'TRBV21-01',\n",
       " 'TRBV21-03',\n",
       " 'TRBV22-01',\n",
       " 'TRBV23-01',\n",
       " 'TRBV23-06',\n",
       " 'TRBV24-01',\n",
       " 'TRBV25-01',\n",
       " 'TRBV26-01',\n",
       " 'TRBV26-02',\n",
       " 'TRBV27-01',\n",
       " 'TRBV28-01',\n",
       " 'TRBV29-01',\n",
       " 'TRBV29-05',\n",
       " 'TRBV30-01'}"
      ]
     },
     "execution_count": 43,
     "metadata": {},
     "output_type": "execute_result"
    }
   ],
   "source": [
    "set([x for x in vb_all if x==x])"
   ]
  },
  {
   "cell_type": "code",
   "execution_count": 44,
   "metadata": {},
   "outputs": [
    {
     "data": {
      "text/plain": [
       "['TRBV10-1',\n",
       " 'TRBV10-2',\n",
       " 'TRBV10-3',\n",
       " 'TRBV11-1',\n",
       " 'TRBV11-2',\n",
       " 'TRBV11-3',\n",
       " 'TRBV12-3',\n",
       " 'TRBV12-4',\n",
       " 'TRBV12-5',\n",
       " 'TRBV13',\n",
       " 'TRBV14',\n",
       " 'TRBV15',\n",
       " 'TRBV16',\n",
       " 'TRBV18',\n",
       " 'TRBV19',\n",
       " 'TRBV2',\n",
       " 'TRBV20-1',\n",
       " 'TRBV21-1',\n",
       " 'TRBV24-1',\n",
       " 'TRBV25-1',\n",
       " 'TRBV27',\n",
       " 'TRBV28',\n",
       " 'TRBV29-1',\n",
       " 'TRBV3-1',\n",
       " 'TRBV30',\n",
       " 'TRBV4-1',\n",
       " 'TRBV4-2',\n",
       " 'TRBV4-3',\n",
       " 'TRBV5-1',\n",
       " 'TRBV5-4',\n",
       " 'TRBV5-5',\n",
       " 'TRBV5-6',\n",
       " 'TRBV5-8',\n",
       " 'TRBV6-1',\n",
       " 'TRBV6-3',\n",
       " 'TRBV6-4',\n",
       " 'TRBV6-5',\n",
       " 'TRBV6-6',\n",
       " 'TRBV7-2',\n",
       " 'TRBV7-3',\n",
       " 'TRBV7-6',\n",
       " 'TRBV7-7',\n",
       " 'TRBV7-8',\n",
       " 'TRBV7-9',\n",
       " 'TRBV9']"
      ]
     },
     "execution_count": 44,
     "metadata": {},
     "output_type": "execute_result"
    }
   ],
   "source": [
    "zheng_2021_v_list = list(set(zheng_2021_pos_tcrs.v))\n",
    "zheng_2021_v_list.sort()\n",
    "zheng_2021_v_list "
   ]
  },
  {
   "cell_type": "code",
   "execution_count": 45,
   "metadata": {},
   "outputs": [],
   "source": [
    "# write a function to translate v genes in zheng_2021_v_list to the format as in mcpas data\n",
    "\n",
    "def fun_v_format(v):\n",
    "    \n",
    "    v_split = v.split(\"-\")\n",
    "    \n",
    "    if len(v_split) == 1:\n",
    "        if len(v_split[0]) < 6:\n",
    "            res = v_split[0][:4] + \"0\" + v_split[0][4:] + \"-01\"\n",
    "        else:\n",
    "            res = v_split[0] + \"-01\"\n",
    "    else:\n",
    "        v_first = v_split[0]\n",
    "        v_second = v_split[1]\n",
    "        if len(v_first) < 6:\n",
    "            res = v_first[:4] + \"0\" + v_first[4:] + \"-0\" + v_second\n",
    "        else:\n",
    "            res = v_first + \"-0\" + v_second\n",
    "            \n",
    "    return res"
   ]
  },
  {
   "cell_type": "code",
   "execution_count": 46,
   "metadata": {},
   "outputs": [
    {
     "data": {
      "text/plain": [
       "set()"
      ]
     },
     "execution_count": 46,
     "metadata": {},
     "output_type": "execute_result"
    }
   ],
   "source": [
    "# all v genes can be translated to the format as in Glazer 2022 data format\n",
    "set([fun_v_format(x) for x in zheng_2021_v_list]) - set([x for x in vb_all if x==x])"
   ]
  },
  {
   "cell_type": "code",
   "execution_count": 47,
   "metadata": {},
   "outputs": [],
   "source": [
    "v_Glazer_format = [fun_v_format(v) for v in zheng_2021_pos_tcrs.v.tolist()]\n",
    "zheng_2021_pos_tcrs[\"Glazer_v\"] = v_Glazer_format"
   ]
  },
  {
   "cell_type": "code",
   "execution_count": 49,
   "metadata": {},
   "outputs": [
    {
     "data": {
      "text/plain": [
       "1.0"
      ]
     },
     "execution_count": 49,
     "metadata": {},
     "output_type": "execute_result"
    }
   ],
   "source": [
    "sum([fun_v_format(v) == u for u, v in zip(v_Glazer_format, zheng_2021_pos_tcrs.v.tolist())])/len(v_Glazer_format)"
   ]
  },
  {
   "cell_type": "code",
   "execution_count": 50,
   "metadata": {},
   "outputs": [
    {
     "data": {
      "text/html": [
       "<div>\n",
       "<style scoped>\n",
       "    .dataframe tbody tr th:only-of-type {\n",
       "        vertical-align: middle;\n",
       "    }\n",
       "\n",
       "    .dataframe tbody tr th {\n",
       "        vertical-align: top;\n",
       "    }\n",
       "\n",
       "    .dataframe thead th {\n",
       "        text-align: right;\n",
       "    }\n",
       "</style>\n",
       "<table border=\"1\" class=\"dataframe\">\n",
       "  <thead>\n",
       "    <tr style=\"text-align: right;\">\n",
       "      <th></th>\n",
       "      <th>tcr</th>\n",
       "      <th>v</th>\n",
       "      <th>aa</th>\n",
       "      <th>Glazer_v</th>\n",
       "    </tr>\n",
       "  </thead>\n",
       "  <tbody>\n",
       "    <tr>\n",
       "      <th>0</th>\n",
       "      <td>TRBV13,CASSLTGNEQFF</td>\n",
       "      <td>TRBV13</td>\n",
       "      <td>CASSLTGNEQFF</td>\n",
       "      <td>TRBV13-01</td>\n",
       "    </tr>\n",
       "    <tr>\n",
       "      <th>1</th>\n",
       "      <td>TRBV13,CASSLTGNEQFF</td>\n",
       "      <td>TRBV13</td>\n",
       "      <td>CASSLTGNEQFF</td>\n",
       "      <td>TRBV13-01</td>\n",
       "    </tr>\n",
       "  </tbody>\n",
       "</table>\n",
       "</div>"
      ],
      "text/plain": [
       "                   tcr       v            aa   Glazer_v\n",
       "0  TRBV13,CASSLTGNEQFF  TRBV13  CASSLTGNEQFF  TRBV13-01\n",
       "1  TRBV13,CASSLTGNEQFF  TRBV13  CASSLTGNEQFF  TRBV13-01"
      ]
     },
     "execution_count": 50,
     "metadata": {},
     "output_type": "execute_result"
    }
   ],
   "source": [
    "zheng_2021_pos_tcrs[:2]"
   ]
  },
  {
   "cell_type": "code",
   "execution_count": 51,
   "metadata": {},
   "outputs": [],
   "source": [
    "# generate the pairs, by pairing each TCR with each hla allele\n",
    "\n",
    "zheng_formatted_tcrs = list(zip(zheng_2021_pos_tcrs.Glazer_v.tolist(), \n",
    "                                zheng_2021_pos_tcrs.aa.tolist()))\n",
    "zheng_formatted_pairs = [(tcr, hla) for tcr in zheng_formatted_tcrs for hla \\\n",
    "                         in hla_full_list_Glazer_format_convert_unique]"
   ]
  },
  {
   "cell_type": "code",
   "execution_count": 52,
   "metadata": {},
   "outputs": [
    {
     "data": {
      "text/plain": [
       "[('TRBV13-01', 'CASSLTGNEQFF'),\n",
       " ('TRBV13-01', 'CASSLTGNEQFF'),\n",
       " ('TRBV13-01', 'CASSLTGNEQFF'),\n",
       " ('TRBV13-01', 'CASSLTGNEQFF'),\n",
       " ('TRBV13-01', 'CASSLTGNEQFF'),\n",
       " ('TRBV13-01', 'CASSLTGNEQFF')]"
      ]
     },
     "execution_count": 52,
     "metadata": {},
     "output_type": "execute_result"
    }
   ],
   "source": [
    "zheng_formatted_tcrs[:6]"
   ]
  },
  {
   "cell_type": "code",
   "execution_count": 53,
   "metadata": {},
   "outputs": [
    {
     "data": {
      "text/plain": [
       "[(('TRBV13-01', 'CASSLTGNEQFF'), 'HLA-A01:01'),\n",
       " (('TRBV13-01', 'CASSLTGNEQFF'), 'HLA-A02:01'),\n",
       " (('TRBV13-01', 'CASSLTGNEQFF'), 'HLA-A02:02'),\n",
       " (('TRBV13-01', 'CASSLTGNEQFF'), 'HLA-A02:03'),\n",
       " (('TRBV13-01', 'CASSLTGNEQFF'), 'HLA-A02:05'),\n",
       " (('TRBV13-01', 'CASSLTGNEQFF'), 'HLA-A02:06')]"
      ]
     },
     "execution_count": 53,
     "metadata": {},
     "output_type": "execute_result"
    }
   ],
   "source": [
    "zheng_formatted_pairs[:6]"
   ]
  },
  {
   "cell_type": "code",
   "execution_count": 54,
   "metadata": {},
   "outputs": [
    {
     "data": {
      "text/plain": [
       "1090872"
      ]
     },
     "execution_count": 54,
     "metadata": {},
     "output_type": "execute_result"
    }
   ],
   "source": [
    "len(zheng_formatted_pairs)"
   ]
  },
  {
   "cell_type": "code",
   "execution_count": 55,
   "metadata": {},
   "outputs": [],
   "source": [
    "# convert test pairs to the format required by the online model\n",
    "\n",
    "test_tcra = [\"UNK\" for _ in zheng_formatted_pairs]\n",
    "test_tcrb = [tcr[1] for tcr, hla in zheng_formatted_pairs]\n",
    "test_va = [np.nan for _ in zheng_formatted_pairs]\n",
    "test_ja = [np.nan for _ in zheng_formatted_pairs]\n",
    "test_vb = [tcr[0] for tcr, hla in zheng_formatted_pairs]\n",
    "test_jb = [np.nan for _ in zheng_formatted_pairs]\n",
    "test_t_cell_type = [np.nan for _ in zheng_formatted_pairs]\n",
    "test_hla = [hla for tcr, hla in zheng_formatted_pairs]"
   ]
  },
  {
   "cell_type": "code",
   "execution_count": 56,
   "metadata": {},
   "outputs": [
    {
     "name": "stdout",
     "output_type": "stream",
     "text": [
      "10008\n",
      "1090872\n"
     ]
    }
   ],
   "source": [
    "print(len(zheng_formatted_tcrs))\n",
    "print(len(zheng_formatted_pairs))"
   ]
  },
  {
   "cell_type": "code",
   "execution_count": 57,
   "metadata": {},
   "outputs": [
    {
     "data": {
      "text/plain": [
       "(1090872, 8)"
      ]
     },
     "execution_count": 57,
     "metadata": {},
     "output_type": "execute_result"
    }
   ],
   "source": [
    "csv_pos = pd.DataFrame(list(zip(test_tcra, test_tcrb, test_va, test_ja,\n",
    "                                test_vb, test_jb, test_t_cell_type, test_hla)),\n",
    "                            columns = [\"tcra\", \"tcrb\", \"va\", \"ja\", \"vb\", \"jb\", \\\n",
    "                                       \"t_cell_type\", \"mhc\"])\n",
    "csv_pos.shape"
   ]
  },
  {
   "cell_type": "code",
   "execution_count": 58,
   "metadata": {},
   "outputs": [],
   "source": [
    "csv_pos.to_csv(\"../results/st7_zheng_2021_hla_109_mcpas_glazer_online.csv\", index = False)"
   ]
  },
  {
   "cell_type": "code",
   "execution_count": 60,
   "metadata": {},
   "outputs": [
    {
     "name": "stdout",
     "output_type": "stream",
     "text": [
      "1090872\n",
      "383026\n"
     ]
    }
   ],
   "source": [
    "# extract the unique pairs, to make the computing on server easier\n",
    "\n",
    "duplicate_pairs = [(cdr3, v, hla) for cdr3, v, hla in zip(test_tcrb, test_vb, test_hla)]\n",
    "\n",
    "print(len(duplicate_pairs))\n",
    "\n",
    "test_unique_pairs = list(set(duplicate_pairs))\n",
    "print(len(test_unique_pairs))"
   ]
  },
  {
   "cell_type": "code",
   "execution_count": 61,
   "metadata": {},
   "outputs": [],
   "source": [
    "unique_test_tcra = [\"UNK\" for _ in test_unique_pairs]\n",
    "unique_test_tcrb = [cdr3 for cdr3, v, hla in test_unique_pairs]\n",
    "unique_test_va = [np.nan for _ in test_unique_pairs]\n",
    "unique_test_ja = [np.nan for _ in test_unique_pairs]\n",
    "unique_test_vb = [v for cdr3, v, hla in test_unique_pairs]\n",
    "unique_test_jb = [np.nan for _ in test_unique_pairs]\n",
    "unique_test_t_cell_type = [np.nan for _ in test_unique_pairs]\n",
    "unique_test_hla = [hla for cdr3, v, hla in test_unique_pairs]"
   ]
  },
  {
   "cell_type": "code",
   "execution_count": 62,
   "metadata": {},
   "outputs": [
    {
     "data": {
      "text/plain": [
       "(383026, 8)"
      ]
     },
     "execution_count": 62,
     "metadata": {},
     "output_type": "execute_result"
    }
   ],
   "source": [
    "csv_unique_pairs = pd.DataFrame(list(zip(unique_test_tcra, unique_test_tcrb, unique_test_va, unique_test_ja,\n",
    "                                unique_test_vb, unique_test_jb, unique_test_t_cell_type, unique_test_hla)),\n",
    "                            columns = [\"tcra\", \"tcrb\", \"va\", \"ja\", \"vb\", \"jb\", \\\n",
    "                                       \"t_cell_type\", \"mhc\"])\n",
    "csv_unique_pairs.shape"
   ]
  },
  {
   "cell_type": "code",
   "execution_count": 64,
   "metadata": {},
   "outputs": [],
   "source": [
    "csv_unique_pairs.to_csv(\"../results/st7_zheng_2021_hla_109_mcpas_glazer_online_unique_pairs.csv\", index = False)"
   ]
  },
  {
   "cell_type": "code",
   "execution_count": 65,
   "metadata": {},
   "outputs": [
    {
     "data": {
      "text/html": [
       "<div>\n",
       "<style scoped>\n",
       "    .dataframe tbody tr th:only-of-type {\n",
       "        vertical-align: middle;\n",
       "    }\n",
       "\n",
       "    .dataframe tbody tr th {\n",
       "        vertical-align: top;\n",
       "    }\n",
       "\n",
       "    .dataframe thead th {\n",
       "        text-align: right;\n",
       "    }\n",
       "</style>\n",
       "<table border=\"1\" class=\"dataframe\">\n",
       "  <thead>\n",
       "    <tr style=\"text-align: right;\">\n",
       "      <th></th>\n",
       "      <th>tcra</th>\n",
       "      <th>tcrb</th>\n",
       "      <th>va</th>\n",
       "      <th>ja</th>\n",
       "      <th>vb</th>\n",
       "      <th>jb</th>\n",
       "      <th>t_cell_type</th>\n",
       "      <th>mhc</th>\n",
       "    </tr>\n",
       "  </thead>\n",
       "  <tbody>\n",
       "    <tr>\n",
       "      <th>0</th>\n",
       "      <td>UNK</td>\n",
       "      <td>CASSLQPAVEQYF</td>\n",
       "      <td>NaN</td>\n",
       "      <td>NaN</td>\n",
       "      <td>TRBV07-09</td>\n",
       "      <td>NaN</td>\n",
       "      <td>NaN</td>\n",
       "      <td>HLA-B14:01</td>\n",
       "    </tr>\n",
       "    <tr>\n",
       "      <th>1</th>\n",
       "      <td>UNK</td>\n",
       "      <td>CASSPTNNEQFF</td>\n",
       "      <td>NaN</td>\n",
       "      <td>NaN</td>\n",
       "      <td>TRBV16-01</td>\n",
       "      <td>NaN</td>\n",
       "      <td>NaN</td>\n",
       "      <td>HLA-C16:01</td>\n",
       "    </tr>\n",
       "    <tr>\n",
       "      <th>2</th>\n",
       "      <td>UNK</td>\n",
       "      <td>CASSYSRMNTEAFF</td>\n",
       "      <td>NaN</td>\n",
       "      <td>NaN</td>\n",
       "      <td>TRBV06-05</td>\n",
       "      <td>NaN</td>\n",
       "      <td>NaN</td>\n",
       "      <td>HLA-A34:02</td>\n",
       "    </tr>\n",
       "    <tr>\n",
       "      <th>3</th>\n",
       "      <td>UNK</td>\n",
       "      <td>CAWNRGQGSGYTF</td>\n",
       "      <td>NaN</td>\n",
       "      <td>NaN</td>\n",
       "      <td>TRBV30-01</td>\n",
       "      <td>NaN</td>\n",
       "      <td>NaN</td>\n",
       "      <td>HLA-B18:01</td>\n",
       "    </tr>\n",
       "    <tr>\n",
       "      <th>4</th>\n",
       "      <td>UNK</td>\n",
       "      <td>CASSVGTGQWQYF</td>\n",
       "      <td>NaN</td>\n",
       "      <td>NaN</td>\n",
       "      <td>TRBV10-01</td>\n",
       "      <td>NaN</td>\n",
       "      <td>NaN</td>\n",
       "      <td>HLA-A25:01</td>\n",
       "    </tr>\n",
       "    <tr>\n",
       "      <th>5</th>\n",
       "      <td>UNK</td>\n",
       "      <td>CASSQPTEGNRQPQHF</td>\n",
       "      <td>NaN</td>\n",
       "      <td>NaN</td>\n",
       "      <td>TRBV04-01</td>\n",
       "      <td>NaN</td>\n",
       "      <td>NaN</td>\n",
       "      <td>HLA-A33:01</td>\n",
       "    </tr>\n",
       "    <tr>\n",
       "      <th>6</th>\n",
       "      <td>UNK</td>\n",
       "      <td>CASSYSAGADTGELFF</td>\n",
       "      <td>NaN</td>\n",
       "      <td>NaN</td>\n",
       "      <td>TRBV06-05</td>\n",
       "      <td>NaN</td>\n",
       "      <td>NaN</td>\n",
       "      <td>HLA-B39:24</td>\n",
       "    </tr>\n",
       "    <tr>\n",
       "      <th>7</th>\n",
       "      <td>UNK</td>\n",
       "      <td>CASSVAGDRGSYEQYF</td>\n",
       "      <td>NaN</td>\n",
       "      <td>NaN</td>\n",
       "      <td>TRBV09-01</td>\n",
       "      <td>NaN</td>\n",
       "      <td>NaN</td>\n",
       "      <td>HLA-B40:03</td>\n",
       "    </tr>\n",
       "    <tr>\n",
       "      <th>8</th>\n",
       "      <td>UNK</td>\n",
       "      <td>CASSQVTRVSGNTIYF</td>\n",
       "      <td>NaN</td>\n",
       "      <td>NaN</td>\n",
       "      <td>TRBV03-01</td>\n",
       "      <td>NaN</td>\n",
       "      <td>NaN</td>\n",
       "      <td>HLA-B45:01</td>\n",
       "    </tr>\n",
       "    <tr>\n",
       "      <th>9</th>\n",
       "      <td>UNK</td>\n",
       "      <td>CASTSGVWAKNIQYF</td>\n",
       "      <td>NaN</td>\n",
       "      <td>NaN</td>\n",
       "      <td>TRBV06-05</td>\n",
       "      <td>NaN</td>\n",
       "      <td>NaN</td>\n",
       "      <td>HLA-B48:01</td>\n",
       "    </tr>\n",
       "    <tr>\n",
       "      <th>10</th>\n",
       "      <td>UNK</td>\n",
       "      <td>CASSLIGGGTDTQYF</td>\n",
       "      <td>NaN</td>\n",
       "      <td>NaN</td>\n",
       "      <td>TRBV07-03</td>\n",
       "      <td>NaN</td>\n",
       "      <td>NaN</td>\n",
       "      <td>HLA-A25:01</td>\n",
       "    </tr>\n",
       "    <tr>\n",
       "      <th>11</th>\n",
       "      <td>UNK</td>\n",
       "      <td>CASSLAGDRTYGYTF</td>\n",
       "      <td>NaN</td>\n",
       "      <td>NaN</td>\n",
       "      <td>TRBV07-09</td>\n",
       "      <td>NaN</td>\n",
       "      <td>NaN</td>\n",
       "      <td>HLA-B44:05</td>\n",
       "    </tr>\n",
       "    <tr>\n",
       "      <th>12</th>\n",
       "      <td>UNK</td>\n",
       "      <td>CSATSPGLAPNEQFF</td>\n",
       "      <td>NaN</td>\n",
       "      <td>NaN</td>\n",
       "      <td>TRBV20-01</td>\n",
       "      <td>NaN</td>\n",
       "      <td>NaN</td>\n",
       "      <td>HLA-B37:01</td>\n",
       "    </tr>\n",
       "    <tr>\n",
       "      <th>13</th>\n",
       "      <td>UNK</td>\n",
       "      <td>CAIRTSGTYNEQFF</td>\n",
       "      <td>NaN</td>\n",
       "      <td>NaN</td>\n",
       "      <td>TRBV10-03</td>\n",
       "      <td>NaN</td>\n",
       "      <td>NaN</td>\n",
       "      <td>HLA-B51:01</td>\n",
       "    </tr>\n",
       "    <tr>\n",
       "      <th>14</th>\n",
       "      <td>UNK</td>\n",
       "      <td>CATSSSYPPYNEQFF</td>\n",
       "      <td>NaN</td>\n",
       "      <td>NaN</td>\n",
       "      <td>TRBV15-01</td>\n",
       "      <td>NaN</td>\n",
       "      <td>NaN</td>\n",
       "      <td>HLA-C03:04</td>\n",
       "    </tr>\n",
       "    <tr>\n",
       "      <th>15</th>\n",
       "      <td>UNK</td>\n",
       "      <td>CSARSQAKEYFLGF</td>\n",
       "      <td>NaN</td>\n",
       "      <td>NaN</td>\n",
       "      <td>TRBV20-01</td>\n",
       "      <td>NaN</td>\n",
       "      <td>NaN</td>\n",
       "      <td>HLA-B58:02</td>\n",
       "    </tr>\n",
       "    <tr>\n",
       "      <th>16</th>\n",
       "      <td>UNK</td>\n",
       "      <td>CASSFPWRNTEAFF</td>\n",
       "      <td>NaN</td>\n",
       "      <td>NaN</td>\n",
       "      <td>TRBV28-01</td>\n",
       "      <td>NaN</td>\n",
       "      <td>NaN</td>\n",
       "      <td>HLA-A29:02</td>\n",
       "    </tr>\n",
       "    <tr>\n",
       "      <th>17</th>\n",
       "      <td>UNK</td>\n",
       "      <td>CASSPGTVYEQYF</td>\n",
       "      <td>NaN</td>\n",
       "      <td>NaN</td>\n",
       "      <td>TRBV07-06</td>\n",
       "      <td>NaN</td>\n",
       "      <td>NaN</td>\n",
       "      <td>HLA-B07:02</td>\n",
       "    </tr>\n",
       "    <tr>\n",
       "      <th>18</th>\n",
       "      <td>UNK</td>\n",
       "      <td>CSASDRSAYEQYF</td>\n",
       "      <td>NaN</td>\n",
       "      <td>NaN</td>\n",
       "      <td>TRBV20-01</td>\n",
       "      <td>NaN</td>\n",
       "      <td>NaN</td>\n",
       "      <td>HLA-A11:01</td>\n",
       "    </tr>\n",
       "    <tr>\n",
       "      <th>19</th>\n",
       "      <td>UNK</td>\n",
       "      <td>CASSQVTRVSGNTIYF</td>\n",
       "      <td>NaN</td>\n",
       "      <td>NaN</td>\n",
       "      <td>TRBV03-01</td>\n",
       "      <td>NaN</td>\n",
       "      <td>NaN</td>\n",
       "      <td>HLA-A30:01</td>\n",
       "    </tr>\n",
       "  </tbody>\n",
       "</table>\n",
       "</div>"
      ],
      "text/plain": [
       "   tcra              tcrb  va  ja         vb  jb  t_cell_type         mhc\n",
       "0   UNK     CASSLQPAVEQYF NaN NaN  TRBV07-09 NaN          NaN  HLA-B14:01\n",
       "1   UNK      CASSPTNNEQFF NaN NaN  TRBV16-01 NaN          NaN  HLA-C16:01\n",
       "2   UNK    CASSYSRMNTEAFF NaN NaN  TRBV06-05 NaN          NaN  HLA-A34:02\n",
       "3   UNK     CAWNRGQGSGYTF NaN NaN  TRBV30-01 NaN          NaN  HLA-B18:01\n",
       "4   UNK     CASSVGTGQWQYF NaN NaN  TRBV10-01 NaN          NaN  HLA-A25:01\n",
       "5   UNK  CASSQPTEGNRQPQHF NaN NaN  TRBV04-01 NaN          NaN  HLA-A33:01\n",
       "6   UNK  CASSYSAGADTGELFF NaN NaN  TRBV06-05 NaN          NaN  HLA-B39:24\n",
       "7   UNK  CASSVAGDRGSYEQYF NaN NaN  TRBV09-01 NaN          NaN  HLA-B40:03\n",
       "8   UNK  CASSQVTRVSGNTIYF NaN NaN  TRBV03-01 NaN          NaN  HLA-B45:01\n",
       "9   UNK   CASTSGVWAKNIQYF NaN NaN  TRBV06-05 NaN          NaN  HLA-B48:01\n",
       "10  UNK   CASSLIGGGTDTQYF NaN NaN  TRBV07-03 NaN          NaN  HLA-A25:01\n",
       "11  UNK   CASSLAGDRTYGYTF NaN NaN  TRBV07-09 NaN          NaN  HLA-B44:05\n",
       "12  UNK   CSATSPGLAPNEQFF NaN NaN  TRBV20-01 NaN          NaN  HLA-B37:01\n",
       "13  UNK    CAIRTSGTYNEQFF NaN NaN  TRBV10-03 NaN          NaN  HLA-B51:01\n",
       "14  UNK   CATSSSYPPYNEQFF NaN NaN  TRBV15-01 NaN          NaN  HLA-C03:04\n",
       "15  UNK    CSARSQAKEYFLGF NaN NaN  TRBV20-01 NaN          NaN  HLA-B58:02\n",
       "16  UNK    CASSFPWRNTEAFF NaN NaN  TRBV28-01 NaN          NaN  HLA-A29:02\n",
       "17  UNK     CASSPGTVYEQYF NaN NaN  TRBV07-06 NaN          NaN  HLA-B07:02\n",
       "18  UNK     CSASDRSAYEQYF NaN NaN  TRBV20-01 NaN          NaN  HLA-A11:01\n",
       "19  UNK  CASSQVTRVSGNTIYF NaN NaN  TRBV03-01 NaN          NaN  HLA-A30:01"
      ]
     },
     "execution_count": 65,
     "metadata": {},
     "output_type": "execute_result"
    }
   ],
   "source": [
    "csv_unique_pairs[:20]"
   ]
  },
  {
   "cell_type": "code",
   "execution_count": 66,
   "metadata": {},
   "outputs": [],
   "source": [
    "for i in range(20):\n",
    "    \n",
    "    start_i = 20000 * i\n",
    "    if i == 19:\n",
    "        end_i = csv_unique_pairs.shape[0]+1\n",
    "    else:\n",
    "        end_i = 20000 * (i+1)\n",
    "    cur_unique_pairs = csv_unique_pairs.iloc[start_i:end_i, :]\n",
    "    cur_unique_pairs.to_csv(\"../results/st7_batch_folder/st7_zheng_2021_hla_109_mcpas_glazer_online_unique_pairs_batch_\"+str(i)+\".csv\", index = False)\n",
    "    "
   ]
  },
  {
   "cell_type": "code",
   "execution_count": 67,
   "metadata": {},
   "outputs": [
    {
     "data": {
      "text/plain": [
       "383026"
      ]
     },
     "execution_count": 67,
     "metadata": {},
     "output_type": "execute_result"
    }
   ],
   "source": [
    "csv_unique_pairs.shape[0]"
   ]
  },
  {
   "cell_type": "markdown",
   "metadata": {},
   "source": [
    "### Pass pairs to model on server https://claire.math.biu.ac.il/Home"
   ]
  },
  {
   "cell_type": "code",
   "execution_count": null,
   "metadata": {},
   "outputs": [],
   "source": []
  }
 ],
 "metadata": {
  "kernelspec": {
   "display_name": "Python 3 (ipykernel)",
   "language": "python",
   "name": "python3"
  },
  "language_info": {
   "codemirror_mode": {
    "name": "ipython",
    "version": 3
   },
   "file_extension": ".py",
   "mimetype": "text/x-python",
   "name": "python",
   "nbconvert_exporter": "python",
   "pygments_lexer": "ipython3",
   "version": "3.9.10"
  }
 },
 "nbformat": 4,
 "nbformat_minor": 4
}
