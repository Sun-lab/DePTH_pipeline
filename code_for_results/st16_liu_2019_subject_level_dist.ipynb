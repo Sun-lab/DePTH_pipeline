{
 "cells": [
  {
   "cell_type": "markdown",
   "metadata": {},
   "source": [
    "\n",
    "This notebook prepares the subject-level mean distances for Liu 2019 kept subjects.\n",
    "\n",
    "This is only the first step of the processing\n",
    "\n",
    "There is another step of processing to add the values from set-based approach\n",
    "\n",
    "\n",
    "### mean distance between HLA alleles for each subject:\n",
    "\n",
    "    depth on Zheng 2021 positive TCRs, cor\n",
    "    \n",
    "    blosum62-based distance\n",
    "    \n",
    "the items below are left for the next notebook:\n",
    "    \n",
    "    depth on Zheng 2021 positive TCRs, set\n",
    "    \n",
    "    depth on Zheng 2021 positive TCRs, breadth"
   ]
  },
  {
   "cell_type": "code",
   "execution_count": 1,
   "metadata": {},
   "outputs": [],
   "source": [
    "import pandas as pd\n",
    "import numpy as np\n",
    "\n",
    "from collections import defaultdict\n",
    "from collections import Counter\n",
    "\n",
    "import ot\n",
    "import ot.plot\n",
    "\n",
    "import matplotlib.pyplot as plt\n",
    "import math"
   ]
  },
  {
   "cell_type": "code",
   "execution_count": 2,
   "metadata": {},
   "outputs": [
    {
     "data": {
      "text/html": [
       "<div>\n",
       "<style scoped>\n",
       "    .dataframe tbody tr th:only-of-type {\n",
       "        vertical-align: middle;\n",
       "    }\n",
       "\n",
       "    .dataframe tbody tr th {\n",
       "        vertical-align: top;\n",
       "    }\n",
       "\n",
       "    .dataframe thead th {\n",
       "        text-align: right;\n",
       "    }\n",
       "</style>\n",
       "<table border=\"1\" class=\"dataframe\">\n",
       "  <thead>\n",
       "    <tr style=\"text-align: right;\">\n",
       "      <th></th>\n",
       "      <th>Unnamed: 0</th>\n",
       "      <th>total_muts</th>\n",
       "      <th>nonsyn_muts</th>\n",
       "      <th>clonal_muts</th>\n",
       "      <th>subclonal_muts</th>\n",
       "      <th>heterogeneity</th>\n",
       "      <th>total_neoantigens</th>\n",
       "      <th>CNA_prop</th>\n",
       "      <th>gender (Male=1, Female=0)</th>\n",
       "      <th>biopsy site</th>\n",
       "      <th>...</th>\n",
       "      <th>numPriorTherapies</th>\n",
       "      <th>biopsy site_categ</th>\n",
       "      <th>biopsyContext (1=Pre-Ipi; 2=On-Ipi; 3=Pre-PD1; 4=On-PD1)</th>\n",
       "      <th>daysBiopsyToPD1</th>\n",
       "      <th>daysBiopsyAfterIpiStart</th>\n",
       "      <th>purity</th>\n",
       "      <th>ploidy</th>\n",
       "      <th>hla_class_i_alleles</th>\n",
       "      <th>homozygous</th>\n",
       "      <th>hla_class_i_alleles_replace</th>\n",
       "    </tr>\n",
       "  </thead>\n",
       "  <tbody>\n",
       "    <tr>\n",
       "      <th>0</th>\n",
       "      <td>Patient1</td>\n",
       "      <td>34</td>\n",
       "      <td>22</td>\n",
       "      <td>12</td>\n",
       "      <td>10</td>\n",
       "      <td>0.454545</td>\n",
       "      <td>49</td>\n",
       "      <td>0.321417</td>\n",
       "      <td>0</td>\n",
       "      <td>skin</td>\n",
       "      <td>...</td>\n",
       "      <td>1</td>\n",
       "      <td>skin</td>\n",
       "      <td>3</td>\n",
       "      <td>-84</td>\n",
       "      <td>unk</td>\n",
       "      <td>0.92</td>\n",
       "      <td>1.73</td>\n",
       "      <td>A0201,A1101,B1801,B4402,C0501,C1203</td>\n",
       "      <td>0</td>\n",
       "      <td>A0201,A1101,B1801,B4402,C0501,C1203</td>\n",
       "    </tr>\n",
       "    <tr>\n",
       "      <th>1</th>\n",
       "      <td>Patient10</td>\n",
       "      <td>96</td>\n",
       "      <td>71</td>\n",
       "      <td>48</td>\n",
       "      <td>22</td>\n",
       "      <td>0.314286</td>\n",
       "      <td>230</td>\n",
       "      <td>0.391384</td>\n",
       "      <td>0</td>\n",
       "      <td>skin</td>\n",
       "      <td>...</td>\n",
       "      <td>2</td>\n",
       "      <td>skin</td>\n",
       "      <td>3</td>\n",
       "      <td>-12</td>\n",
       "      <td>107</td>\n",
       "      <td>0.83</td>\n",
       "      <td>1.84</td>\n",
       "      <td>A0101,A0201,B0801,B1501,C0304,C0701</td>\n",
       "      <td>0</td>\n",
       "      <td>A0101,A0201,B0801,B1501,C0304,C0701</td>\n",
       "    </tr>\n",
       "    <tr>\n",
       "      <th>2</th>\n",
       "      <td>Patient100</td>\n",
       "      <td>200</td>\n",
       "      <td>126</td>\n",
       "      <td>98</td>\n",
       "      <td>24</td>\n",
       "      <td>0.196721</td>\n",
       "      <td>301</td>\n",
       "      <td>0.029447</td>\n",
       "      <td>0</td>\n",
       "      <td>skin</td>\n",
       "      <td>...</td>\n",
       "      <td>1</td>\n",
       "      <td>skin</td>\n",
       "      <td>3</td>\n",
       "      <td>-94</td>\n",
       "      <td>33</td>\n",
       "      <td>0.11</td>\n",
       "      <td>2.17</td>\n",
       "      <td>A0201,A0301,B0702,B2705,C0202,C0702</td>\n",
       "      <td>0</td>\n",
       "      <td>A0201,A0301,B0702,B2705,C0202,C0702</td>\n",
       "    </tr>\n",
       "    <tr>\n",
       "      <th>3</th>\n",
       "      <td>Patient102</td>\n",
       "      <td>370</td>\n",
       "      <td>246</td>\n",
       "      <td>215</td>\n",
       "      <td>26</td>\n",
       "      <td>0.107884</td>\n",
       "      <td>825</td>\n",
       "      <td>0.169389</td>\n",
       "      <td>1</td>\n",
       "      <td>brain</td>\n",
       "      <td>...</td>\n",
       "      <td>0</td>\n",
       "      <td>brain</td>\n",
       "      <td>3</td>\n",
       "      <td>-64</td>\n",
       "      <td>na</td>\n",
       "      <td>0.70</td>\n",
       "      <td>3.24</td>\n",
       "      <td>A0201,A2402,B0702,B1801,C0701,C0702</td>\n",
       "      <td>0</td>\n",
       "      <td>A0201,A2402,B0702,B1801,C0701,C0702</td>\n",
       "    </tr>\n",
       "    <tr>\n",
       "      <th>4</th>\n",
       "      <td>Patient104</td>\n",
       "      <td>130</td>\n",
       "      <td>96</td>\n",
       "      <td>65</td>\n",
       "      <td>28</td>\n",
       "      <td>0.301075</td>\n",
       "      <td>329</td>\n",
       "      <td>0.206518</td>\n",
       "      <td>0</td>\n",
       "      <td>lymph node</td>\n",
       "      <td>...</td>\n",
       "      <td>0</td>\n",
       "      <td>lymph node</td>\n",
       "      <td>3</td>\n",
       "      <td>-57</td>\n",
       "      <td>na</td>\n",
       "      <td>0.86</td>\n",
       "      <td>4.58</td>\n",
       "      <td>A0201,A3001,B1302,B4901,C0602,C0701</td>\n",
       "      <td>0</td>\n",
       "      <td>A0201,A3001,B1302,B4901,C0602,C0701</td>\n",
       "    </tr>\n",
       "    <tr>\n",
       "      <th>5</th>\n",
       "      <td>Patient105</td>\n",
       "      <td>185</td>\n",
       "      <td>125</td>\n",
       "      <td>85</td>\n",
       "      <td>23</td>\n",
       "      <td>0.212963</td>\n",
       "      <td>334</td>\n",
       "      <td>0.394306</td>\n",
       "      <td>0</td>\n",
       "      <td>skin</td>\n",
       "      <td>...</td>\n",
       "      <td>0</td>\n",
       "      <td>skin</td>\n",
       "      <td>3</td>\n",
       "      <td>-22</td>\n",
       "      <td>na</td>\n",
       "      <td>0.86</td>\n",
       "      <td>2.42</td>\n",
       "      <td>A0201,A0201,B0702,B1501,C0304,C0702</td>\n",
       "      <td>1</td>\n",
       "      <td>A0201,A0201,B0702,B1501,C0304,C0702</td>\n",
       "    </tr>\n",
       "  </tbody>\n",
       "</table>\n",
       "<p>6 rows × 49 columns</p>\n",
       "</div>"
      ],
      "text/plain": [
       "   Unnamed: 0  total_muts  nonsyn_muts  clonal_muts  subclonal_muts  \\\n",
       "0    Patient1          34           22           12              10   \n",
       "1   Patient10          96           71           48              22   \n",
       "2  Patient100         200          126           98              24   \n",
       "3  Patient102         370          246          215              26   \n",
       "4  Patient104         130           96           65              28   \n",
       "5  Patient105         185          125           85              23   \n",
       "\n",
       "   heterogeneity  total_neoantigens  CNA_prop  gender (Male=1, Female=0)  \\\n",
       "0       0.454545                 49  0.321417                          0   \n",
       "1       0.314286                230  0.391384                          0   \n",
       "2       0.196721                301  0.029447                          0   \n",
       "3       0.107884                825  0.169389                          1   \n",
       "4       0.301075                329  0.206518                          0   \n",
       "5       0.212963                334  0.394306                          0   \n",
       "\n",
       "  biopsy site  ...  numPriorTherapies biopsy site_categ  \\\n",
       "0        skin  ...                  1              skin   \n",
       "1        skin  ...                  2              skin   \n",
       "2        skin  ...                  1              skin   \n",
       "3       brain  ...                  0             brain   \n",
       "4  lymph node  ...                  0        lymph node   \n",
       "5        skin  ...                  0              skin   \n",
       "\n",
       "   biopsyContext (1=Pre-Ipi; 2=On-Ipi; 3=Pre-PD1; 4=On-PD1)  daysBiopsyToPD1  \\\n",
       "0                                                  3                     -84   \n",
       "1                                                  3                     -12   \n",
       "2                                                  3                     -94   \n",
       "3                                                  3                     -64   \n",
       "4                                                  3                     -57   \n",
       "5                                                  3                     -22   \n",
       "\n",
       "   daysBiopsyAfterIpiStart purity  ploidy  \\\n",
       "0                      unk   0.92    1.73   \n",
       "1                      107   0.83    1.84   \n",
       "2                       33   0.11    2.17   \n",
       "3                       na   0.70    3.24   \n",
       "4                       na   0.86    4.58   \n",
       "5                       na   0.86    2.42   \n",
       "\n",
       "                   hla_class_i_alleles  homozygous  \\\n",
       "0  A0201,A1101,B1801,B4402,C0501,C1203           0   \n",
       "1  A0101,A0201,B0801,B1501,C0304,C0701           0   \n",
       "2  A0201,A0301,B0702,B2705,C0202,C0702           0   \n",
       "3  A0201,A2402,B0702,B1801,C0701,C0702           0   \n",
       "4  A0201,A3001,B1302,B4901,C0602,C0701           0   \n",
       "5  A0201,A0201,B0702,B1501,C0304,C0702           1   \n",
       "\n",
       "           hla_class_i_alleles_replace  \n",
       "0  A0201,A1101,B1801,B4402,C0501,C1203  \n",
       "1  A0101,A0201,B0801,B1501,C0304,C0701  \n",
       "2  A0201,A0301,B0702,B2705,C0202,C0702  \n",
       "3  A0201,A2402,B0702,B1801,C0701,C0702  \n",
       "4  A0201,A3001,B1302,B4901,C0602,C0701  \n",
       "5  A0201,A0201,B0702,B1501,C0304,C0702  \n",
       "\n",
       "[6 rows x 49 columns]"
      ]
     },
     "execution_count": 2,
     "metadata": {},
     "output_type": "execute_result"
    }
   ],
   "source": [
    "# load the info of subjects with HLA-I alleles under our consideration\n",
    "df_liu_2019 = pd.read_csv(\"../results/st15_liu_2019_kept_hla_match_replace.csv\", header=0)\n",
    "df_liu_2019[:6]"
   ]
  },
  {
   "cell_type": "code",
   "execution_count": 3,
   "metadata": {},
   "outputs": [
    {
     "data": {
      "text/plain": [
       "(143, 49)"
      ]
     },
     "execution_count": 3,
     "metadata": {},
     "output_type": "execute_result"
    }
   ],
   "source": [
    "df_liu_2019.shape"
   ]
  },
  {
   "cell_type": "code",
   "execution_count": 4,
   "metadata": {},
   "outputs": [
    {
     "data": {
      "text/plain": [
       "Unnamed: 0                                                  0\n",
       "total_muts                                                  0\n",
       "nonsyn_muts                                                 0\n",
       "clonal_muts                                                 0\n",
       "subclonal_muts                                              0\n",
       "heterogeneity                                               0\n",
       "total_neoantigens                                           0\n",
       "CNA_prop                                                    0\n",
       "gender (Male=1, Female=0)                                   0\n",
       "biopsy site                                                 0\n",
       "monthsBiopsyPreTx                                           0\n",
       "BR                                                          0\n",
       "PFS                                                         0\n",
       "OS                                                          0\n",
       "TimeToBR                                                    0\n",
       "cyclesOnTherapy                                             0\n",
       "txOngoing                                                   0\n",
       "Tx                                                          0\n",
       "Mstage (IIIC=0, M1a=1, M1b=2, M1c=3)                        0\n",
       "Tx_Start_ECOG                                               4\n",
       "Tx_Start_LDH                                                0\n",
       "LDH_Elevated                                                0\n",
       "Brain_Met                                                   0\n",
       "Cut_SubQ_Met                                                0\n",
       "LN_Met                                                      0\n",
       "Lung_Met                                                    0\n",
       "Liver_Visc_Met                                              0\n",
       "Bone_Met                                                    0\n",
       "progressed                                                  0\n",
       "dead                                                        0\n",
       "Primary_Type                                                0\n",
       "Histology                                                   2\n",
       "IOTherapy                                                   0\n",
       "steroidsGT10mgDaily                                         0\n",
       "priorMAPKTx                                                 0\n",
       "priorCTLA4                                                  0\n",
       "postCTLA4                                                   1\n",
       "postMAPKTx                                                  1\n",
       "postCombinedCTLA_PD1                                        1\n",
       "numPriorTherapies                                           0\n",
       "biopsy site_categ                                           0\n",
       "biopsyContext (1=Pre-Ipi; 2=On-Ipi; 3=Pre-PD1; 4=On-PD1)    0\n",
       "daysBiopsyToPD1                                             0\n",
       "daysBiopsyAfterIpiStart                                     0\n",
       "purity                                                      0\n",
       "ploidy                                                      0\n",
       "hla_class_i_alleles                                         0\n",
       "homozygous                                                  0\n",
       "hla_class_i_alleles_replace                                 0\n",
       "dtype: int64"
      ]
     },
     "execution_count": 4,
     "metadata": {},
     "output_type": "execute_result"
    }
   ],
   "source": [
    "df_liu_2019.isna().sum()"
   ]
  },
  {
   "cell_type": "code",
   "execution_count": 6,
   "metadata": {},
   "outputs": [],
   "source": [
    "# load HLA-I distance matrix based on zheng 2021 pos tcrs or pseudo sequences\n",
    "\n",
    "df_depth = pd.read_csv(\"../results/st4_zheng_2021_pos_HLA_I_dist_ensemble_20.csv\", header=0)\n",
    "\n",
    "df_blosum62 = pd.read_csv(\"../results/st5_blosum62_HLA_I_dist.csv\", header=0)"
   ]
  },
  {
   "cell_type": "code",
   "execution_count": 7,
   "metadata": {},
   "outputs": [
    {
     "name": "stdout",
     "output_type": "stream",
     "text": [
      "(85, 85)\n",
      "(85, 85)\n"
     ]
    }
   ],
   "source": [
    "print(df_depth.shape)\n",
    "print(df_blosum62.shape)"
   ]
  },
  {
   "cell_type": "code",
   "execution_count": 8,
   "metadata": {},
   "outputs": [],
   "source": [
    "hla_i_85_format = [\"\".join(x.split(\".\")[1:]) for x in df_depth.columns.tolist()]"
   ]
  },
  {
   "cell_type": "code",
   "execution_count": 9,
   "metadata": {},
   "outputs": [],
   "source": [
    "# create a dictionary for the distance between any two hla i alleles\n",
    "\n",
    "# for DePTH zheng 2021 based\n",
    "\n",
    "depth_dict = defaultdict(float)\n",
    "\n",
    "for i, a in enumerate(hla_i_85_format):\n",
    "    cur_list = df_depth.iloc[:, i].tolist()\n",
    "    for j, b in enumerate(hla_i_85_format):\n",
    "        depth_dict[(a, b)] = cur_list[j]"
   ]
  },
  {
   "cell_type": "code",
   "execution_count": 10,
   "metadata": {},
   "outputs": [],
   "source": [
    "# for blosum62 based \n",
    "blosum62_dict = defaultdict(float)\n",
    "\n",
    "for i, a in enumerate(hla_i_85_format):\n",
    "    cur_list = df_blosum62.iloc[:, i].tolist()\n",
    "    for j, b in enumerate(hla_i_85_format):\n",
    "        blosum62_dict[(a, b)] = cur_list[j]"
   ]
  },
  {
   "cell_type": "code",
   "execution_count": 11,
   "metadata": {},
   "outputs": [],
   "source": [
    "# plot the distances from two lists of TCRs for the same HLA pairs\n",
    "\n",
    "test_depth_dict_keys = list(depth_dict.keys())\n",
    "\n",
    "test_depth_values = [depth_dict[x] for x in test_depth_dict_keys]"
   ]
  },
  {
   "cell_type": "code",
   "execution_count": 12,
   "metadata": {},
   "outputs": [
    {
     "data": {
      "image/png": "[encoded data removed]",
      "text/plain": [
       "<Figure size 432x288 with 1 Axes>"
      ]
     },
     "metadata": {
      "needs_background": "light"
     },
     "output_type": "display_data"
    }
   ],
   "source": [
    "# plot the distances from zheng 2021 positive TCRs and blosum62 for the same HLA pairs\n",
    "plt.scatter(blosum62_dict.values(), depth_dict.values())\n",
    "plt.show()"
   ]
  },
  {
   "cell_type": "code",
   "execution_count": 13,
   "metadata": {},
   "outputs": [
    {
     "data": {
      "text/plain": [
       "Counter({'AABBCC': 143})"
      ]
     },
     "execution_count": 13,
     "metadata": {},
     "output_type": "execute_result"
    }
   ],
   "source": [
    "# verify whether each subjects has two alleles for each of A, B, C\n",
    "# the answer is true\n",
    "\n",
    "genotype_list = [x.split(\",\") for x in df_liu_2019.hla_class_i_alleles.tolist()]\n",
    "\n",
    "ABC_list = []\n",
    "\n",
    "for genotype in genotype_list:\n",
    "    ABC_list += [\"\".join([list(x)[0] for x in genotype])]\n",
    "\n",
    "Counter(ABC_list)"
   ]
  },
  {
   "cell_type": "code",
   "execution_count": 14,
   "metadata": {},
   "outputs": [
    {
     "data": {
      "text/plain": [
       "Counter({'AABBCC': 143})"
      ]
     },
     "execution_count": 14,
     "metadata": {},
     "output_type": "execute_result"
    }
   ],
   "source": [
    "genotype_replace_list = [x.split(\",\") for x in df_liu_2019.hla_class_i_alleles_replace.tolist()]\n",
    "\n",
    "ABC_replace_list = []\n",
    "\n",
    "for genotype in genotype_replace_list:\n",
    "    ABC_replace_list += [\"\".join([list(x)[0] for x in genotype])]\n",
    "\n",
    "Counter(ABC_replace_list)"
   ]
  },
  {
   "cell_type": "code",
   "execution_count": 15,
   "metadata": {},
   "outputs": [],
   "source": [
    "# compute the distance based on both two TCR resources and pseudo sequence\n",
    "# based on blosum62 for each subject\n",
    "\n",
    "# use github_hlas_replace for depth pos\n",
    "\n",
    "depth_aa = []\n",
    "depth_bb = []\n",
    "depth_cc = []\n",
    "\n",
    "for genotype in genotype_replace_list:\n",
    "    depth_aa += [depth_dict[(genotype[0], genotype[1])]]\n",
    "    depth_bb += [depth_dict[(genotype[2], genotype[3])]]   \n",
    "    depth_cc += [depth_dict[(genotype[4], genotype[5])]]\n",
    "\n",
    "depth_ave = [(x+y+z)/3 for x,y,z in zip(depth_aa, depth_bb, depth_cc)]\n",
    "\n",
    "# use HLAI_Genotype_replace for aa as well\n",
    "aa_aa = []\n",
    "aa_bb = []\n",
    "aa_cc = []\n",
    "\n",
    "for genotype in genotype_replace_list:\n",
    "    aa_aa += [blosum62_dict[(genotype[0], genotype[1])]]\n",
    "    aa_bb += [blosum62_dict[(genotype[2], genotype[3])]]   \n",
    "    aa_cc += [blosum62_dict[(genotype[4], genotype[5])]]\n",
    "\n",
    "aa_ave = [(x+y+z)/3 for x,y,z in zip(aa_aa, aa_bb, aa_cc)]"
   ]
  },
  {
   "cell_type": "code",
   "execution_count": 16,
   "metadata": {},
   "outputs": [
    {
     "data": {
      "image/png": "[encoded data removed]",
      "text/plain": [
       "<Figure size 432x288 with 1 Axes>"
      ]
     },
     "metadata": {
      "needs_background": "light"
     },
     "output_type": "display_data"
    }
   ],
   "source": [
    "plt.scatter(aa_ave, depth_ave)\n",
    "plt.show()"
   ]
  },
  {
   "cell_type": "code",
   "execution_count": 17,
   "metadata": {},
   "outputs": [],
   "source": [
    "df_liu_2019[\"depth_ave\"] = depth_ave\n",
    "df_liu_2019[\"aa_ave\"] = aa_ave"
   ]
  },
  {
   "cell_type": "code",
   "execution_count": 18,
   "metadata": {},
   "outputs": [
    {
     "data": {
      "text/plain": [
       "Unnamed: 0                                                  0\n",
       "total_muts                                                  0\n",
       "nonsyn_muts                                                 0\n",
       "clonal_muts                                                 0\n",
       "subclonal_muts                                              0\n",
       "heterogeneity                                               0\n",
       "total_neoantigens                                           0\n",
       "CNA_prop                                                    0\n",
       "gender (Male=1, Female=0)                                   0\n",
       "biopsy site                                                 0\n",
       "monthsBiopsyPreTx                                           0\n",
       "BR                                                          0\n",
       "PFS                                                         0\n",
       "OS                                                          0\n",
       "TimeToBR                                                    0\n",
       "cyclesOnTherapy                                             0\n",
       "txOngoing                                                   0\n",
       "Tx                                                          0\n",
       "Mstage (IIIC=0, M1a=1, M1b=2, M1c=3)                        0\n",
       "Tx_Start_ECOG                                               4\n",
       "Tx_Start_LDH                                                0\n",
       "LDH_Elevated                                                0\n",
       "Brain_Met                                                   0\n",
       "Cut_SubQ_Met                                                0\n",
       "LN_Met                                                      0\n",
       "Lung_Met                                                    0\n",
       "Liver_Visc_Met                                              0\n",
       "Bone_Met                                                    0\n",
       "progressed                                                  0\n",
       "dead                                                        0\n",
       "Primary_Type                                                0\n",
       "Histology                                                   2\n",
       "IOTherapy                                                   0\n",
       "steroidsGT10mgDaily                                         0\n",
       "priorMAPKTx                                                 0\n",
       "priorCTLA4                                                  0\n",
       "postCTLA4                                                   1\n",
       "postMAPKTx                                                  1\n",
       "postCombinedCTLA_PD1                                        1\n",
       "numPriorTherapies                                           0\n",
       "biopsy site_categ                                           0\n",
       "biopsyContext (1=Pre-Ipi; 2=On-Ipi; 3=Pre-PD1; 4=On-PD1)    0\n",
       "daysBiopsyToPD1                                             0\n",
       "daysBiopsyAfterIpiStart                                     0\n",
       "purity                                                      0\n",
       "ploidy                                                      0\n",
       "hla_class_i_alleles                                         0\n",
       "homozygous                                                  0\n",
       "hla_class_i_alleles_replace                                 0\n",
       "depth_ave                                                   0\n",
       "aa_ave                                                      0\n",
       "dtype: int64"
      ]
     },
     "execution_count": 18,
     "metadata": {},
     "output_type": "execute_result"
    }
   ],
   "source": [
    "df_liu_2019.isna().sum()"
   ]
  },
  {
   "cell_type": "code",
   "execution_count": 19,
   "metadata": {},
   "outputs": [],
   "source": [
    "# save the extended df_liu_2019 file out\n",
    "df_liu_2019.to_csv(\"../results/st16_liu_2019_depth_aa_scores.csv\", index = False)"
   ]
  },
  {
   "cell_type": "code",
   "execution_count": null,
   "metadata": {},
   "outputs": [],
   "source": []
  }
 ],
 "metadata": {
  "kernelspec": {
   "display_name": "Python 3 (ipykernel)",
   "language": "python",
   "name": "python3"
  },
  "language_info": {
   "codemirror_mode": {
    "name": "ipython",
    "version": 3
   },
   "file_extension": ".py",
   "mimetype": "text/x-python",
   "name": "python",
   "nbconvert_exporter": "python",
   "pygments_lexer": "ipython3",
   "version": "3.9.10"
  }
 },
 "nbformat": 4,
 "nbformat_minor": 4
}
