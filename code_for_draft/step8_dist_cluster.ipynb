{
 "cells": [
  {
   "cell_type": "code",
   "execution_count": null,
   "metadata": {},
   "outputs": [],
   "source": [
    "# This code does hierarchical clustering of the subjects from Chowell_2018 (restricted to the subjects\n",
    "# with HLA alleles all can be matched to some among those we know the pseudo sequences for)\n",
    "# by their distance matrices computed based on \n",
    "# depth set\n"
   ]
  },
  {
   "cell_type": "code",
   "execution_count": 1,
   "metadata": {},
   "outputs": [],
   "source": [
    "import os\n",
    "import sys\n",
    "import re\n",
    "import pickle\n",
    "import numpy as np\n",
    "import pandas as pd\n",
    "\n",
    "from collections import defaultdict\n",
    "from collections import Counter"
   ]
  },
  {
   "cell_type": "code",
   "execution_count": 2,
   "metadata": {},
   "outputs": [],
   "source": [
    "import random\n",
    "import math"
   ]
  },
  {
   "cell_type": "code",
   "execution_count": 3,
   "metadata": {},
   "outputs": [],
   "source": [
    "import scipy.spatial.distance as ssd\n",
    "\n",
    "from scipy.cluster.hierarchy import dendrogram, linkage, leaves_list, cut_tree, set_link_color_palette\n",
    "from matplotlib import pyplot as plt"
   ]
  },
  {
   "cell_type": "code",
   "execution_count": 4,
   "metadata": {},
   "outputs": [
    {
     "data": {
      "text/plain": [
       "(1443, 1443)"
      ]
     },
     "execution_count": 4,
     "metadata": {},
     "output_type": "execute_result"
    }
   ],
   "source": [
    "df_depth_set = pd.read_csv(\"../results/st12_chowell_2018_kept_depth_set_mat.csv\", header = 0)\n",
    "df_depth_set.shape"
   ]
  },
  {
   "cell_type": "code",
   "execution_count": 5,
   "metadata": {},
   "outputs": [
    {
     "data": {
      "text/plain": [
       "(1443, 1443)"
      ]
     },
     "execution_count": 5,
     "metadata": {},
     "output_type": "execute_result"
    }
   ],
   "source": [
    "np_depth_set = df_depth_set.to_numpy()\n",
    "np_depth_set.shape"
   ]
  },
  {
   "cell_type": "code",
   "execution_count": 6,
   "metadata": {},
   "outputs": [
    {
     "data": {
      "text/plain": [
       "(1040403,)"
      ]
     },
     "execution_count": 6,
     "metadata": {},
     "output_type": "execute_result"
    }
   ],
   "source": [
    "depth_set_distArray = ssd.squareform(np_depth_set)\n",
    "depth_set_distArray.shape"
   ]
  },
  {
   "cell_type": "code",
   "execution_count": 7,
   "metadata": {},
   "outputs": [],
   "source": [
    "depth_set_linked = linkage(depth_set_distArray, 'ward')"
   ]
  },
  {
   "cell_type": "code",
   "execution_count": 8,
   "metadata": {},
   "outputs": [
    {
     "data": {
      "image/png": "[encoded data removed]",
      "text/plain": [
       "<Figure size 288x187.2 with 1 Axes>"
      ]
     },
     "metadata": {
      "needs_background": "light"
     },
     "output_type": "display_data"
    }
   ],
   "source": [
    "plt.figure(figsize=(4, 2.6))\n",
    "\n",
    "set_link_color_palette([\"#F8766D\", \"#00BFC4\"])\n",
    "dendrogram(depth_set_linked,\n",
    "           orientation='top',\n",
    "           color_threshold = 1.6,\n",
    "           distance_sort='descending',\n",
    "           above_threshold_color='grey',\n",
    "           show_leaf_counts=False)\n",
    "\n",
    "plt.savefig(\"../figures/depth_draft/step8_chowell2018_depth_set_hc_cut1pt6_dendrogram_4_2.6.png\", \n",
    "            dpi = 200, facecolor=\"w\")"
   ]
  },
  {
   "cell_type": "code",
   "execution_count": 9,
   "metadata": {},
   "outputs": [
    {
     "data": {
      "text/plain": [
       "Counter({0: 909, 1: 534})"
      ]
     },
     "execution_count": 9,
     "metadata": {},
     "output_type": "execute_result"
    }
   ],
   "source": [
    "depth_set_cutree_1pt6 = cut_tree(depth_set_linked, height = 1.6)\n",
    "depth_set_cluster_label_list_1pt6 = [x[0] for x in depth_set_cutree_1pt6.tolist()]\n",
    "\n",
    "Counter(depth_set_cluster_label_list_1pt6)"
   ]
  },
  {
   "cell_type": "code",
   "execution_count": 10,
   "metadata": {},
   "outputs": [
    {
     "data": {
      "text/plain": [
       "(1443, 23)"
      ]
     },
     "execution_count": 10,
     "metadata": {},
     "output_type": "execute_result"
    }
   ],
   "source": [
    "df_info = pd.read_csv(\"../results/st12_chowell_2018_depth_glazer_aa_set_breadth.csv\", header = 0)\n",
    "df_info.shape"
   ]
  },
  {
   "cell_type": "code",
   "execution_count": 11,
   "metadata": {},
   "outputs": [],
   "source": [
    "df_info['cluster_cut1pt6'] = depth_set_cluster_label_list_1pt6"
   ]
  },
  {
   "cell_type": "code",
   "execution_count": 19,
   "metadata": {},
   "outputs": [],
   "source": [
    "df_info.to_csv(\"../results/depth_draft/step8_chowell_2018_depth_glazer_aa_set_breadth_replace_depth_set_dist_hc_wald_1_1pt6.csv\", \n",
    "              index = False)"
   ]
  },
  {
   "cell_type": "code",
   "execution_count": null,
   "metadata": {},
   "outputs": [],
   "source": []
  }
 ],
 "metadata": {
  "kernelspec": {
   "display_name": "Python 3 (ipykernel)",
   "language": "python",
   "name": "python3"
  },
  "language_info": {
   "codemirror_mode": {
    "name": "ipython",
    "version": 3
   },
   "file_extension": ".py",
   "mimetype": "text/x-python",
   "name": "python",
   "nbconvert_exporter": "python",
   "pygments_lexer": "ipython3",
   "version": "3.9.10"
  }
 },
 "nbformat": 4,
 "nbformat_minor": 4
}
