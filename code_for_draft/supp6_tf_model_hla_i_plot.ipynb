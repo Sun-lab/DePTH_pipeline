{
 "cells": [
  {
   "cell_type": "code",
   "execution_count": 1,
   "id": "955745c4",
   "metadata": {},
   "outputs": [
    {
     "name": "stderr",
     "output_type": "stream",
     "text": [
      "2023-03-30 17:16:28.137569: I tensorflow/core/platform/cpu_feature_guard.cc:182] This TensorFlow binary is optimized to use available CPU instructions in performance-critical operations.\n",
      "To enable the following instructions: AVX2 FMA, in other operations, rebuild TensorFlow with the appropriate compiler flags.\n"
     ]
    }
   ],
   "source": [
    "import os\n",
    "import argparse\n",
    "import itertools\n",
    "import random\n",
    "import math\n",
    "import numpy as np\n",
    "import pandas as pd\n",
    "import tensorflow as tf"
   ]
  },
  {
   "cell_type": "code",
   "execution_count": 2,
   "id": "c171dc2b",
   "metadata": {},
   "outputs": [],
   "source": [
    "from collections import defaultdict\n",
    "from collections import Counter"
   ]
  },
  {
   "cell_type": "code",
   "execution_count": 3,
   "id": "cfe3898e",
   "metadata": {},
   "outputs": [],
   "source": [
    "from DePTH import _utils"
   ]
  },
  {
   "cell_type": "code",
   "execution_count": 4,
   "id": "de696fda",
   "metadata": {},
   "outputs": [
    {
     "data": {
      "text/plain": [
       "<module 'DePTH._utils' from '/Users/sliu/opt/anaconda3/envs/DePTH_test_030/lib/python3.9/site-packages/DePTH/_utils.py'>"
      ]
     },
     "execution_count": 4,
     "metadata": {},
     "output_type": "execute_result"
    }
   ],
   "source": [
    "_utils"
   ]
  },
  {
   "cell_type": "code",
   "execution_count": 5,
   "id": "c3b9b5dc",
   "metadata": {},
   "outputs": [],
   "source": [
    "hla_class = 'HLA_I'\n",
    "data_dir = '../data/HLA_I_all_match/train_valid'\n",
    "model_dir = 'temporary_folder'\n",
    "enc_method = 'one_hot'\n",
    "lr = 0.0001\n",
    "n_dense = 2\n",
    "n_units_str = '[64,16]'\n",
    "dropout_flag = 'True'\n",
    "p_dropout = 0.2\n",
    "rseed = 5779\n",
    "np_seed = 7821\n",
    "tf_seed = 6367"
   ]
  },
  {
   "cell_type": "code",
   "execution_count": 6,
   "id": "2b76bac1",
   "metadata": {},
   "outputs": [],
   "source": [
    "random.seed(rseed)\n",
    "np.random.seed(np_seed)\n",
    "tf.random.set_seed(tf_seed)"
   ]
  },
  {
   "cell_type": "code",
   "execution_count": 7,
   "id": "ec68a732",
   "metadata": {},
   "outputs": [],
   "source": [
    "patience = 10\n",
    "\n",
    "dropout_flag = (dropout_flag == 'True')"
   ]
  },
  {
   "cell_type": "code",
   "execution_count": 8,
   "id": "9d6fc694",
   "metadata": {},
   "outputs": [
    {
     "data": {
      "text/plain": [
       "True"
      ]
     },
     "execution_count": 8,
     "metadata": {},
     "output_type": "execute_result"
    }
   ],
   "source": [
    "dropout_flag"
   ]
  },
  {
   "cell_type": "code",
   "execution_count": 9,
   "id": "709916b3",
   "metadata": {},
   "outputs": [],
   "source": [
    "len_n_units_str = len(n_units_str)\n",
    "n_units_str_input = n_units_str[1:(len_n_units_str - 1)].split(',')\n",
    "n_units = [int(i) for i in n_units_str_input]"
   ]
  },
  {
   "cell_type": "code",
   "execution_count": 10,
   "id": "5422cf2b",
   "metadata": {},
   "outputs": [
    {
     "data": {
      "text/plain": [
       "[64, 16]"
      ]
     },
     "execution_count": 10,
     "metadata": {},
     "output_type": "execute_result"
    }
   ],
   "source": [
    "n_units"
   ]
  },
  {
   "cell_type": "code",
   "execution_count": 11,
   "id": "c48e70fe",
   "metadata": {},
   "outputs": [
    {
     "name": "stdout",
     "output_type": "stream",
     "text": [
      "n_units =  [64, 16]\n"
     ]
    }
   ],
   "source": [
    "print(\"n_units = \", n_units)"
   ]
  },
  {
   "cell_type": "code",
   "execution_count": 12,
   "id": "c7a527e2",
   "metadata": {},
   "outputs": [
    {
     "data": {
      "text/plain": [
       "2"
      ]
     },
     "execution_count": 12,
     "metadata": {},
     "output_type": "execute_result"
    }
   ],
   "source": [
    "len(n_units)"
   ]
  },
  {
   "cell_type": "code",
   "execution_count": 13,
   "id": "d1fe7b4d",
   "metadata": {},
   "outputs": [
    {
     "data": {
      "text/plain": [
       "2"
      ]
     },
     "execution_count": 13,
     "metadata": {},
     "output_type": "execute_result"
    }
   ],
   "source": [
    "n_dense"
   ]
  },
  {
   "cell_type": "code",
   "execution_count": 14,
   "id": "bf87406a",
   "metadata": {},
   "outputs": [
    {
     "name": "stdout",
     "output_type": "stream",
     "text": [
      "data_dir =  ../data/HLA_I_all_match/train_valid\n",
      "model_dir =  temporary_folder\n",
      "enc_method =  one_hot\n",
      "lr =  0.0001\n",
      "n_dense =  2\n",
      "n_units =  [64, 16]\n",
      "dropout_flag =  True\n",
      "p_dropout =  0.2\n"
     ]
    }
   ],
   "source": [
    "print(\"data_dir = \", data_dir)\n",
    "print(\"model_dir = \", model_dir)\n",
    "print(\"enc_method = \", enc_method)\n",
    "print(\"lr = \", lr)\n",
    "print(\"n_dense = \", n_dense)\n",
    "print(\"n_units = \", n_units)\n",
    "print(\"dropout_flag = \", dropout_flag)\n",
    "print(\"p_dropout = \", p_dropout)"
   ]
  },
  {
   "cell_type": "code",
   "execution_count": 15,
   "id": "9db1d71e",
   "metadata": {},
   "outputs": [],
   "source": [
    "setting_name = \\\n",
    "    enc_method + '_' + str(lr)[2:] + \\\n",
    "    '_dense' + str(n_dense) + \\\n",
    "    '_n_units_' + '_'.join([str(n) for n in n_units]) + \\\n",
    "    ('_dropout_p_' + str(p_dropout)[2:]) * int(dropout_flag)"
   ]
  },
  {
   "cell_type": "code",
   "execution_count": 16,
   "id": "843dff93",
   "metadata": {},
   "outputs": [
    {
     "data": {
      "text/plain": [
       "'one_hot_0001_dense2_n_units_64_16_dropout_p_2'"
      ]
     },
     "execution_count": 16,
     "metadata": {},
     "output_type": "execute_result"
    }
   ],
   "source": [
    "setting_name"
   ]
  },
  {
   "cell_type": "code",
   "execution_count": 17,
   "id": "a2bf3a61",
   "metadata": {},
   "outputs": [
    {
     "name": "stdout",
     "output_type": "stream",
     "text": [
      "one_hot_0001_dense2_n_units_64_16_dropout_p_2\n"
     ]
    }
   ],
   "source": [
    "print(setting_name)"
   ]
  },
  {
   "cell_type": "code",
   "execution_count": 18,
   "id": "06ec839f",
   "metadata": {},
   "outputs": [],
   "source": [
    "checkpoint_path = model_dir"
   ]
  },
  {
   "cell_type": "code",
   "execution_count": 19,
   "id": "bc2820bd",
   "metadata": {},
   "outputs": [
    {
     "name": "stdout",
     "output_type": "stream",
     "text": [
      "(23124, 40, 21)\n",
      "(7710, 40, 21)\n",
      "(23124, 27, 21)\n",
      "(23124, 27)\n",
      "(23124, 12, 22)\n",
      "(23124, 10, 22)\n",
      "(23124, 6, 21)\n",
      "(23124, 1)\n"
     ]
    }
   ],
   "source": [
    "(((HLA_encoded_train, CDR3_encoded_train, CDR3_len_train,\n",
    "  cdr1_encoded_train, cdr2_encoded_train, cdr25_encoded_train),\n",
    "  y2_train, n_pos_train, n_neg_train),\n",
    " ((HLA_encoded_valid, CDR3_encoded_valid, CDR3_len_valid,\n",
    "  cdr1_encoded_valid, cdr2_encoded_valid, cdr25_encoded_valid),\n",
    "  y2_valid, n_pos_valid, n_neg_valid)) = \\\n",
    "    _utils.get_data(hla_class, data_dir, enc_method, False)\n",
    "\n",
    "print(HLA_encoded_train.shape)\n",
    "print(HLA_encoded_valid.shape)\n",
    "print(CDR3_encoded_train.shape)\n",
    "print(CDR3_len_train.shape)\n",
    "print(cdr1_encoded_train.shape)\n",
    "print(cdr2_encoded_train.shape)\n",
    "print(cdr25_encoded_train.shape)\n",
    "print(y2_train.shape)"
   ]
  },
  {
   "cell_type": "code",
   "execution_count": 20,
   "id": "bcdbfd18",
   "metadata": {},
   "outputs": [
    {
     "name": "stdout",
     "output_type": "stream",
     "text": [
      "Model: \"model\"\n",
      "__________________________________________________________________________________________________\n",
      " Layer (type)                   Output Shape         Param #     Connected to                     \n",
      "==================================================================================================\n",
      " CDR3 (InputLayer)              [(None, 27, 21)]     0           []                               \n",
      "                                                                                                  \n",
      " CDR3_conv (Conv1D)             (None, 26, 8)        344         ['CDR3[0][0]']                   \n",
      "                                                                                                  \n",
      " CDR3_maxpooling (MaxPooling1D)  (None, 25, 8)       0           ['CDR3_conv[0][0]']              \n",
      "                                                                                                  \n",
      " CDR3_flatten (Flatten)         (None, 200)          0           ['CDR3_maxpooling[0][0]']        \n",
      "                                                                                                  \n",
      " CDR3_reshape (Reshape)         (None, 567)          0           ['CDR3[0][0]']                   \n",
      "                                                                                                  \n",
      " CDR1 (InputLayer)              [(None, 12, 22)]     0           []                               \n",
      "                                                                                                  \n",
      " CDR2 (InputLayer)              [(None, 10, 22)]     0           []                               \n",
      "                                                                                                  \n",
      " CDR2.5 (InputLayer)            [(None, 6, 21)]      0           []                               \n",
      "                                                                                                  \n",
      " HLA (InputLayer)               [(None, 40, 21)]     0           []                               \n",
      "                                                                                                  \n",
      " CDR3_len (InputLayer)          [(None, 27)]         0           []                               \n",
      "                                                                                                  \n",
      " concatenate (Concatenate)      (None, 767)          0           ['CDR3_flatten[0][0]',           \n",
      "                                                                  'CDR3_reshape[0][0]']           \n",
      "                                                                                                  \n",
      " CDR1_reshape (Reshape)         (None, 264)          0           ['CDR1[0][0]']                   \n",
      "                                                                                                  \n",
      " CDR2_reshape (Reshape)         (None, 220)          0           ['CDR2[0][0]']                   \n",
      "                                                                                                  \n",
      " CDR2.5_reshape (Reshape)       (None, 126)          0           ['CDR2.5[0][0]']                 \n",
      "                                                                                                  \n",
      " HLA_reshape (Reshape)          (None, 840)          0           ['HLA[0][0]']                    \n",
      "                                                                                                  \n",
      " concatenate_1 (Concatenate)    (None, 1404)         0           ['CDR3_len[0][0]',               \n",
      "                                                                  'concatenate[0][0]',            \n",
      "                                                                  'CDR1_reshape[0][0]',           \n",
      "                                                                  'CDR2_reshape[0][0]',           \n",
      "                                                                  'CDR2.5_reshape[0][0]']         \n",
      "                                                                                                  \n",
      " HLA_dense (Dense)              (None, 64)           53824       ['HLA_reshape[0][0]']            \n",
      "                                                                                                  \n",
      " TCR_dense (Dense)              (None, 64)           89920       ['concatenate_1[0][0]']          \n",
      "                                                                                                  \n",
      " concatenate_2 (Concatenate)    (None, 128)          0           ['HLA_dense[0][0]',              \n",
      "                                                                  'TCR_dense[0][0]']              \n",
      "                                                                                                  \n",
      " pair_dense1 (Dense)            (None, 64)           8256        ['concatenate_2[0][0]']          \n",
      "                                                                                                  \n",
      " dropout (Dropout)              (None, 64)           0           ['pair_dense1[0][0]']            \n",
      "                                                                                                  \n",
      " pair_dense2 (Dense)            (None, 16)           1040        ['dropout[0][0]']                \n",
      "                                                                                                  \n",
      " output (Dense)                 (None, 1)            17          ['pair_dense2[0][0]']            \n",
      "                                                                                                  \n",
      "==================================================================================================\n",
      "Total params: 153,401\n",
      "Trainable params: 153,401\n",
      "Non-trainable params: 0\n",
      "__________________________________________________________________________________________________\n"
     ]
    }
   ],
   "source": [
    "model = _utils.get_model(HLA_shape=HLA_encoded_train.shape[1:],\n",
    "                   CDR3_shape=CDR3_encoded_train.shape[1:],\n",
    "                   len_shape=CDR3_len_train.shape[1:],\n",
    "                   cdr1_shape=cdr1_encoded_train.shape[1:],\n",
    "                   cdr2_shape=cdr2_encoded_train.shape[1:],\n",
    "                   cdr25_shape=cdr25_encoded_train.shape[1:],\n",
    "                   n_dense=n_dense,\n",
    "                   n_units=n_units,\n",
    "                   dropout_flag=dropout_flag,\n",
    "                   p_dropout=p_dropout)\n",
    "\n",
    "model.summary()"
   ]
  },
  {
   "cell_type": "code",
   "execution_count": 23,
   "id": "46811fd8",
   "metadata": {},
   "outputs": [],
   "source": [
    "tf.keras.utils.plot_model(\n",
    "    model,\n",
    "    to_file='../figures/depth_draft/supp6_hla_i_model_plot_w_size.pdf',\n",
    "    show_shapes=True,\n",
    "    show_dtype=False,\n",
    "    show_layer_names=True,\n",
    "    rankdir='TB',\n",
    "    expand_nested=False,\n",
    "    dpi=256,\n",
    "    layer_range=None,\n",
    "    show_layer_activations=False,\n",
    "    show_trainable=False\n",
    ")"
   ]
  },
  {
   "cell_type": "code",
   "execution_count": 24,
   "id": "19c4aff1",
   "metadata": {},
   "outputs": [],
   "source": [
    "tf.keras.utils.plot_model(\n",
    "    model,\n",
    "    to_file='../figures/depth_draft/supp6_hla_i_model_plot_wo_size.pdf',\n",
    "    show_shapes=False,\n",
    "    show_dtype=False,\n",
    "    show_layer_names=True,\n",
    "    rankdir='TB',\n",
    "    expand_nested=False,\n",
    "    dpi=256,\n",
    "    layer_range=None,\n",
    "    show_layer_activations=False,\n",
    "    show_trainable=False\n",
    ")"
   ]
  },
  {
   "cell_type": "code",
   "execution_count": null,
   "id": "58685903",
   "metadata": {},
   "outputs": [],
   "source": []
  }
 ],
 "metadata": {
  "kernelspec": {
   "display_name": "Python 3 (ipykernel)",
   "language": "python",
   "name": "python3"
  },
  "language_info": {
   "codemirror_mode": {
    "name": "ipython",
    "version": 3
   },
   "file_extension": ".py",
   "mimetype": "text/x-python",
   "name": "python",
   "nbconvert_exporter": "python",
   "pygments_lexer": "ipython3",
   "version": "3.9.16"
  }
 },
 "nbformat": 4,
 "nbformat_minor": 5
}
